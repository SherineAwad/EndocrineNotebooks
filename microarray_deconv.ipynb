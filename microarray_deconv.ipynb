{
 "cells": [
  {
   "cell_type": "code",
   "execution_count": null,
   "metadata": {
    "collapsed": true,
    "deletable": true,
    "editable": true,
    "scrolled": false
   },
   "outputs": [],
   "source": [
    "import csv\n",
    "import sys\n",
    "import re\n",
    "import numpy as np; \n",
    "import pandas as pd\n",
    "import matplotlib.pyplot as plt\n",
    "import seaborn as sns;"
   ]
  },
  {
   "cell_type": "code",
   "execution_count": null,
   "metadata": {
    "collapsed": true,
    "deletable": true,
    "editable": true,
    "scrolled": true
   },
   "outputs": [],
   "source": [
    "def load_micro_files( ):\n",
    "    probe = {}  \n",
    "  \n",
    "    fp1= open('probes_symbols.txt', 'r')\n",
    "    r1= csv.reader(fp1, delimiter='\\t')\n",
    "    for n, row in enumerate(r1):\n",
    "        if n == 0: \n",
    "            continue \n",
    "        probe[row[0]] = row[1]\n",
    "    fp2 = open('microarray.csv', 'r')\n",
    "    fp3 = open('xcell_input.csv', 'w+')\n",
    "    #fp3.write(' '+'\\t'+'AIPposGH1'+'\\t'+'AIPposGH3'+'\\t'+'AIPposGH4'+'\\t')\n",
    "    #fp3.write('AIPposGH5'+'\\t'+'AIPposGH6'+'\\t'+'SporadicGH1'+'\\t'+'SporadicGH2'+'\\t'+'SporadicGH4')\n",
    "    #fp3.write('\\t'+'NP1'+'\\t'+'NP2'+'\\t'+'NP3'+'\\t'+'NP4'+'\\t'+'NP5'+'\\t'+\"\\n\")\n",
    "    fp3.write('\"\",'+'\"sample1\"'+','+'\"sample2\"'+','+'\"sample3\"'+',')\n",
    "    fp3.write('\"sample4\"'+','+'\"sample5\"'+','+'\"sample6\"'+','+'\"sample7\"'+','+'\"sample8\"')\n",
    "    fp3.write(','+'\"sample9\"'+','+'\"sample10\"'+','+'\"sample11\"'+','+'\"sample12\"'+','+'\"sample13\"'+\"\\n\")\n",
    "\n",
    "    r2= csv.reader(fp2, delimiter=',')\n",
    "    for n, row in enumerate(r2):    \n",
    "        if n == 0: \n",
    "            continue \n",
    "        probex = row[0]\n",
    "        if probex in probe.keys(): \n",
    "            gene = probe[probex]\n",
    "            if gene != 'NA': \n",
    "                fp3.write(gene+','+row[1]+','+row[2]+','+row[3]+','+row[4]+','+row[5]+','+row[6]+','+row[7])\n",
    "                fp3.write(','+row[8]+','+row[9]+','+row[10]+','+row[11]+','+row[12]+','+row[13]+'\\n')\n",
    "        else: \n",
    "            continue \n",
    "    fp3.close()"
   ]
  },
  {
   "cell_type": "code",
   "execution_count": null,
   "metadata": {
    "collapsed": false,
    "deletable": true,
    "editable": true,
    "scrolled": true
   },
   "outputs": [],
   "source": [
    "load_micro_files( )\n",
    "print('Done')"
   ]
  },
  {
   "cell_type": "code",
   "execution_count": null,
   "metadata": {
    "collapsed": false,
    "deletable": true,
    "editable": true,
    "scrolled": false
   },
   "outputs": [],
   "source": [
    "data =np.loadtxt(\"xcell_results.txt\", delimiter='\\t', skiprows=1,usecols=range(1,14))\n",
    "\n",
    "cells=['Adipocytes','Astrocytes','B-cells','Basophils','CD4+ T-cells','CD4+ Tcm','CD4+ Tem','CD4+ memory T-cells', \\\n",
    "   'CD4+ naive T-cells','CD8+ T-cells','CD8+ Tcm','CD8+ Tem','CD8+ naive T-cells','CLP','CMP','Chondrocytes', \\\n",
    "   'Class-switched memory B-cells','DC','Endothelial cells','Eosinophils','Epithelial cells','Erythrocytes', \\\n",
    "   'Fibroblasts','GMP','HSC','Hepatocytes','Keratinocytes','MEP','MPP','MSC','Macrophages','Macrophages M1', \\\n",
    "   'Macrophages M2','Mast cells','Megakaryocytes','Melanocytes','Memory B-cells','Mesangial cells','Monocytes', \\\n",
    "   'Myocytes','NK cells','NKT','Neurons','Neutrophils','Osteoblast','Pericytes','Plasma cells','Platelets', \\\n",
    "   'Preadipocytes','Sebocytes','Skeletal muscle','Smooth muscle','Tgd cells','Th1 cells','Th2 cells','Tregs', \\\n",
    "   'aDC','cDC','iDC','Lymphatic Endothelial cells','Microvascular Endothelial cells','naive B-cells','pDC','pro B-cells']\n",
    "fp = open('cells.txt', 'w')\n",
    "\n",
    "\n",
    "for j in range(0,64): \n",
    "    fp.write(cells[j]+'\\n')\n",
    "    cells_controls = []\n",
    "    cells_aip_pos = []\n",
    "    cells_sp = []\n",
    "    cell  = data[j]\n",
    "    for i in range(0,5): \n",
    "        cells_aip_pos.append(cell[i])\n",
    "    for i in range(5,8): \n",
    "        cells_sp.append(cell[i])\n",
    "    for i in range(8,13): \n",
    "        cells_controls.append(cell[i])\n",
    "    plt.figure(figsize=(10,10), dpi= 80, facecolor='w', edgecolor='k')\n",
    "    plt.boxplot ([cells_controls,cells_aip_pos,cells_sp], showmeans=True)\n",
    "    plt.xticks([1, 2,3], ['Controls', 'AIP Pos','Sporadic'])\n",
    "    figname = cells[j] \n",
    "    print(figname)\n",
    "    plt.xlabel(figname,fontsize=20)\n",
    "    plt.tick_params(labelsize = 17)\n",
    "    plt.ylabel('xCell Fraction',fontsize=20)\n",
    "    plt.savefig(figname+'.png')\n",
    "    plt.show()\n",
    "fp.close()\n"
   ]
  },
  {
   "cell_type": "code",
   "execution_count": null,
   "metadata": {
    "collapsed": true,
    "deletable": true,
    "editable": true,
    "scrolled": true
   },
   "outputs": [],
   "source": [
    "def prope_to_gene( ):\n",
    "    probe = {}  \n",
    "  \n",
    "    fp1= open('probes_to_gene.csv', 'r')\n",
    "    fp2 = open('probes_symbols.txt', 'w')\n",
    "    r1= csv.reader(fp1, delimiter='\\t')\n",
    "    for n, row in enumerate(r1):\n",
    "        if n == 0: \n",
    "            continue \n",
    "        symb = row[1].split(\"(\")\n",
    "        if (len(symb) > 2): \n",
    "             gene = symb[2][:-1]\n",
    "        else: \n",
    "             gene = symb[1][:-1]\n",
    "       # print(row[0], gene)\n",
    "        fp2.write(row[0]+'\\t'+ gene+'\\n')\n",
    "    fp2.close()"
   ]
  },
  {
   "cell_type": "code",
   "execution_count": null,
   "metadata": {
    "collapsed": false,
    "deletable": true,
    "editable": true,
    "scrolled": true
   },
   "outputs": [],
   "source": [
    "prope_to_gene()\n",
    "print('Done')"
   ]
  },
  {
   "cell_type": "code",
   "execution_count": null,
   "metadata": {
    "collapsed": true,
    "deletable": true,
    "editable": true,
    "scrolled": true
   },
   "outputs": [],
   "source": [
    "def load_micro_files( ):\n",
    "    probe = {}  \n",
    "  \n",
    "    fp1= open('probes_symbols.txt', 'r')\n",
    "    r1= csv.reader(fp1, delimiter='\\t')\n",
    "    for n, row in enumerate(r1):\n",
    "        if n == 0: \n",
    "            continue \n",
    "        probe[row[0]] = row[1]\n",
    "    fp1.close()\n",
    "    print('We are here')\n",
    "    fp2 = open('microarray_all.csv', 'r')\n",
    "    fp3 = open('xcell_input_all.csv', 'w+')\n",
    "    #fp3.write(' '+'\\t'+'AIPposGH1'+'\\t'+'AIPposGH3'+'\\t'+'AIPposGH4'+'\\t')\n",
    "    #fp3.write('AIPposGH5'+'\\t'+'AIPposGH6'+'\\t'+'SporadicGH1'+'\\t'+'SporadicGH2'+'\\t'+'SporadicGH4')\n",
    "    #fp3.write('\\t'+'NP1'+'\\t'+'NP2'+'\\t'+'NP3'+'\\t'+'NP4'+'\\t'+'NP5'+'\\t'+\"\\n\")\n",
    "    fp3.write('\"\",'+'\"sample1\"'+','+'\"sample2\"'+','+'\"sample3\"'+',')\n",
    "    fp3.write('\"sample4\"'+','+'\"sample5\"'+','+'\"sample6\"'+','+'\"sample7\"'+','+'\"sample8\"')\n",
    "    fp3.write(','+'\"sample9\"'+','+'\"sample10\"'+','+'\"sample11\"'+','+'\"sample12\"'+','+'\"sample13\"')\n",
    "    fp3.write(','+'\"sample14\"'+','+'\"sample15\"'+','+'\"sample16\"'+','+'\"sample17\"'+','+'\"sample18\"')\n",
    "    fp3.write(','+'\"sample19\"'+','+'\"sample20\"'+','+'\"sample21\"'+\"\\n\")\n",
    "\n",
    "    r2= csv.reader(fp2, delimiter=',')\n",
    "    for n, row in enumerate(r2):    \n",
    "        if n == 0: \n",
    "            continue \n",
    "        probex = row[0]\n",
    "        if probex in probe.keys(): \n",
    "            gene = probe[probex]\n",
    "            if gene != 'NA': \n",
    "                fp3.write(gene+','+row[1]+','+row[2]+','+row[3]+','+row[4]+','+row[5]+','+row[6]+','+row[7])\n",
    "                fp3.write(','+row[8]+','+row[9]+','+row[10]+','+row[11]+','+row[12]+','+row[13])\n",
    "                fp3.write(','+row[14]+','+row[15]+','+row[16]+','+row[17]+','+row[18]+','+row[19])\n",
    "                fp3.write(','+row[20]+','+row[21]+'\\n')\n",
    "        else: \n",
    "            continue \n",
    "    fp3.close()\n",
    "    print('Done')"
   ]
  },
  {
   "cell_type": "code",
   "execution_count": null,
   "metadata": {
    "collapsed": false,
    "deletable": true,
    "editable": true,
    "scrolled": true
   },
   "outputs": [],
   "source": [
    "load_micro_files( )"
   ]
  },
  {
   "cell_type": "code",
   "execution_count": null,
   "metadata": {
    "collapsed": false,
    "deletable": true,
    "editable": true,
    "scrolled": false
   },
   "outputs": [],
   "source": [
    "data =np.loadtxt(\"xcell_results_all.txt\", delimiter='\\t', skiprows=1,usecols=range(1,22))\n",
    "\n",
    "cells=['Adipocytes','Astrocytes','B-cells','Basophils','CD4+ T-cells','CD4+ Tcm','CD4+ Tem','CD4+ memory T-cells', \\\n",
    "   'CD4+ naive T-cells','CD8+ T-cells','CD8+ Tcm','CD8+ Tem','CD8+ naive T-cells','CLP','CMP','Chondrocytes', \\\n",
    "   'Class-switched memory B-cells','DC','Endothelial cells','Eosinophils','Epithelial cells','Erythrocytes', \\\n",
    "   'Fibroblasts','GMP','HSC','Hepatocytes','Keratinocytes','MEP','MPP','MSC','Macrophages','Macrophages M1', \\\n",
    "   'Macrophages M2','Mast cells','Megakaryocytes','Melanocytes','Memory B-cells','Mesangial cells','Monocytes', \\\n",
    "   'Myocytes','NK cells','NKT','Neurons','Neutrophils','Osteoblast','Pericytes','Plasma cells','Platelets', \\\n",
    "   'Preadipocytes','Sebocytes','Skeletal muscle','Smooth muscle','Tgd cells','Th1 cells','Th2 cells','Tregs', \\\n",
    "   'aDC','cDC','iDC','Lymphatic Endothelial cells','Microvascular Endothelial cells','naive B-cells','pDC','pro B-cells']\n",
    "\n",
    "\n",
    "for j in range(0,64): \n",
    "    cells_controls = []\n",
    "    cells_aip_pos = []\n",
    "    cells_sp = []\n",
    "    cell  = data[j]\n",
    "    for i icells_aip_pos.append(cell[0])n range(0,5): \n",
    "        cells_aip_pos.append(cell[i])\n",
    "    #cells_aip_pos.append(cell[0])\n",
    "    #cells_aip_pos.append(cell[2])\n",
    "    #cells_aip_pos.append(cell[3])\n",
    "\n",
    "    for i in range(9,12): \n",
    "        cells_sp.append(cell[i])\n",
    "  \n",
    "    for i in range(16,21): \n",
    "        cells_controls.append(cell[i])\n",
    "\n",
    "    plt.figure(figsize=(10,10), dpi= 80, facecolor='w', edgecolor='k')\n",
    "    plt.boxplot ([cells_controls,cells_aip_pos,cells_sp], showmeans=True)\n",
    "    plt.xticks([1,2,3], ['Controls', 'AIP Pos','Sporadic'])\n",
    "    figname = cells[j] \n",
    "    print(figname)\n",
    "    plt.xlabel(figname,fontsize=20)\n",
    "    plt.tick_params(labelsize = 17)\n",
    "    plt.ylabel('xCell Fraction',fontsize=20)\n",
    "    plt.savefig(figname+'.png')\n",
    "    plt.show()"
   ]
  },
  {
   "cell_type": "code",
   "execution_count": null,
   "metadata": {
    "collapsed": true,
    "scrolled": true
   },
   "outputs": [],
   "source": []
  }
 ],
 "metadata": {
  "anaconda-cloud": {},
  "kernelspec": {
   "display_name": "Python 2",
   "language": "python",
   "name": "python2"
  },
  "language_info": {
   "codemirror_mode": {
    "name": "ipython",
    "version": 2
   },
   "file_extension": ".py",
   "mimetype": "text/x-python",
   "name": "python",
   "nbconvert_exporter": "python",
   "pygments_lexer": "ipython2",
   "version": "2.7.12"
  }
 },
 "nbformat": 4,
 "nbformat_minor": 1
}
