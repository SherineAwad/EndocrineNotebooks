{
 "cells": [
  {
   "cell_type": "code",
   "execution_count": 14,
   "metadata": {
    "collapsed": false,
    "deletable": true,
    "editable": true
   },
   "outputs": [],
   "source": [
    "import csv\n",
    "import sys\n",
    "import re\n",
    "import matplotlib.pyplot as plt\n",
    "import numpy as np\n",
    "import matplotlib as mpl\n",
    "import plotly\n",
    " "
   ]
  },
  {
   "cell_type": "code",
   "execution_count": 76,
   "metadata": {
    "collapsed": true,
    "deletable": true,
    "editable": true
   },
   "outputs": [],
   "source": [
    " def read_pheno(filename):\n",
    "    families ={}\n",
    "    ones = []\n",
    "    fp = open(filename, 'r')\n",
    "    for  line in fp.readlines():\n",
    "                line = line.rstrip()\n",
    "                ids =line.split(',') \n",
    "                famid = ids[0].lower()\n",
    "                families[famid] =ids[1] \n",
    "                #print (famid, families[famid])        \n",
    "    return (families)"
   ]
  },
  {
   "cell_type": "code",
   "execution_count": 77,
   "metadata": {
    "collapsed": false,
    "deletable": true,
    "editable": true
   },
   "outputs": [],
   "source": [
    "families = read_pheno('pheno.csv')"
   ]
  },
  {
   "cell_type": "code",
   "execution_count": 133,
   "metadata": {
    "collapsed": false
   },
   "outputs": [],
   "source": [
    " def read_fam(filename, outfile):\n",
    "    families =read_pheno('pheno.csv')\n",
    "    count = 0 \n",
    "    fp1 = open(filename, 'r')\n",
    "    fp2 = open(outfile, 'w+')\n",
    "    for  line in fp1.readlines():\n",
    "                line1 = line.rstrip()\n",
    "                line2 = line.split(' ') \n",
    "                for i in range(0, len(line2)-1): \n",
    "                    fp2.write(line2[i])\n",
    "                    fp2.write(' ')\n",
    "\n",
    "                pheno = families.get(line2[1].lower())\n",
    "                if (str(pheno) ==\"None\")  :\n",
    "                    pheno = -9 \n",
    "                    print(line2[1])\n",
    "                fp2.write(str(pheno))\n",
    "                fp2.write('\\n')\n",
    "                count +=1\n",
    "    print(count)\n",
    "    fp2.close()\n",
    "    fp1.close()\n",
    "    print('Done')\n",
    "    return () "
   ]
  },
  {
   "cell_type": "code",
   "execution_count": 134,
   "metadata": {
    "collapsed": false
   },
   "outputs": [
    {
     "name": "stdout",
     "output_type": "stream",
     "text": [
      "F213M9\n",
      "F393M1\n",
      "F306M2\n",
      "Sp663\n",
      "F382M2\n",
      "Sp1942\n",
      "Sp338M1\n",
      "F252M1\n",
      "Sp263\n",
      "Sp1054\n",
      "F382M3\n",
      "Sp2012\n",
      "F342M1\n",
      "F402M1\n",
      "F404M1\n",
      "Sp1054M3\n",
      "F382M4\n",
      "Sp2048\n",
      "Sp336M1\n",
      "Sp339M1\n",
      "F378M1\n",
      "Sp1054M4\n",
      "F393M1\n",
      "F70M41\n",
      "F213M1\n",
      "F378M2\n",
      "Sp1715\n",
      "F351M1\n",
      "Sp1054M5\n",
      "F394M1\n",
      "F213M6\n",
      "Sp337M1\n",
      "F306M1\n",
      "F382M1\n",
      "F406M1\n",
      "Sp1781\n",
      "Sp1054M6\n",
      "F213M8\n",
      "384\n",
      "Done\n"
     ]
    },
    {
     "data": {
      "text/plain": [
       "()"
      ]
     },
     "execution_count": 134,
     "metadata": {},
     "output_type": "execute_result"
    }
   ],
   "source": [
    "read_fam('snps.fam', 'data.fam')"
   ]
  },
  {
   "cell_type": "code",
   "execution_count": null,
   "metadata": {
    "collapsed": true
   },
   "outputs": [],
   "source": []
  },
  {
   "cell_type": "code",
   "execution_count": null,
   "metadata": {
    "collapsed": true
   },
   "outputs": [],
   "source": []
  }
 ],
 "metadata": {
  "anaconda-cloud": {},
  "celltoolbar": "Slideshow",
  "kernelspec": {
   "display_name": "Python 2",
   "language": "python",
   "name": "python2"
  },
  "language_info": {
   "codemirror_mode": {
    "name": "ipython",
    "version": 2
   },
   "file_extension": ".py",
   "mimetype": "text/x-python",
   "name": "python",
   "nbconvert_exporter": "python",
   "pygments_lexer": "ipython2",
   "version": "2.7.12"
  }
 },
 "nbformat": 4,
 "nbformat_minor": 1
}
