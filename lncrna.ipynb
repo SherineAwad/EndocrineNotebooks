{
 "cells": [
  {
   "cell_type": "code",
   "execution_count": 119,
   "metadata": {
    "collapsed": false,
    "deletable": true,
    "editable": true
   },
   "outputs": [],
   "source": [
    "import csv\n",
    "import sys\n",
    "import re\n",
    "import matplotlib.pyplot as plt\n",
    "import numpy as np"
   ]
  },
  {
   "cell_type": "markdown",
   "metadata": {
    "collapsed": false,
    "deletable": true,
    "editable": true
   },
   "source": [
    "# Read transcript.fa "
   ]
  },
  {
   "cell_type": "code",
   "execution_count": 120,
   "metadata": {
    "collapsed": false
   },
   "outputs": [],
   "source": [
    "def read_transcripts(infile):\n",
    "    transcripts = {}\n",
    "    fp = open(infile, 'r')\n",
    "    for  line in fp.readlines():\n",
    "        if line.startswith('>' ):\n",
    "                ids =line.split()\n",
    "                tr = ids[0]\n",
    "                ge = ids[1]\n",
    "                transcripts[tr]=ge \n",
    "    return (transcripts)"
   ]
  },
  {
   "cell_type": "code",
   "execution_count": 136,
   "metadata": {
    "collapsed": false,
    "deletable": true,
    "editable": true
   },
   "outputs": [],
   "source": [
    "def rewrite_lncRNA(transcript_file, results_file, outfile):\n",
    "    transcripts = read_transcripts(transcript_file)\n",
    "    print(transcripts['>NR_024540'])\n",
    "    fp2 = open(results_file, 'r')\n",
    "    fp3 = open(outfile, 'a')\n",
    "    fp3.write((\"Transcript\"+ '\\t'+\"Gene\" +'\\t'+ \"Prediction\"+'\\t'+\"Coding Score\"+'\\n'))\n",
    "    for  line in fp2.readlines():\n",
    "        if  line.startswith('Tr'): \n",
    "            continue\n",
    "        else:\n",
    "                ids =line.split()\n",
    "                tr = \">\"+ids[0]\n",
    "                pred = ids[1] \n",
    "                score = ids[2]\n",
    "                gene =transcripts[tr].split('=')[1]\n",
    "                fp3.write(ids[0]+ '\\t'+gene+ '\\t'+pred +'\\t'+score)\n",
    "                fp3.write('\\n')\n",
    "    return  "
   ]
  },
  {
   "cell_type": "code",
   "execution_count": 137,
   "metadata": {
    "collapsed": false
   },
   "outputs": [
    {
     "name": "stdout",
     "output_type": "stream",
     "text": [
      "gene=WASH7P\n"
     ]
    }
   ],
   "source": [
    "rewrite_lncRNA('sp1452.fa','sp1452.results', 'sp1452.lncRNA')"
   ]
  },
  {
   "cell_type": "code",
   "execution_count": 140,
   "metadata": {
    "collapsed": false
   },
   "outputs": [
    {
     "name": "stdout",
     "output_type": "stream",
     "text": [
      "gene=WASH7P\n",
      "gene=WASH7P\n",
      "gene=WASH7P\n",
      "gene=WASH7P\n",
      "gene=WASH7P\n",
      "gene=WASH7P\n",
      "gene=WASH7P\n",
      "gene=WASH7P\n",
      "gene=WASH7P\n",
      "gene=WASH7P\n"
     ]
    }
   ],
   "source": [
    "def main():\n",
    "    rewrite_lncRNA('sp1452.fa', 'sp1452.results','sp1452.lncRNA')\n",
    "    rewrite_lncRNA('sp1466.fa', 'sp1466.results','sp1466.lncRNA')\n",
    "    rewrite_lncRNA('sp1470.fa', 'sp1470.results','sp1470.lncRNA')\n",
    "    rewrite_lncRNA('sp1476.fa', 'sp1476.results','sp1476.lncRNA')\n",
    "    rewrite_lncRNA('sp1477.fa', 'sp1477.results','sp1477.lncRNA')\n",
    "    rewrite_lncRNA('sp1479.fa', 'sp1479.results','sp1479.lncRNA')\n",
    "    rewrite_lncRNA('sp1481.fa', 'sp1481.results','sp1481.lncRNA')\n",
    "    rewrite_lncRNA('sp1483.fa', 'sp1483.results','sp1483.lncRNA')\n",
    "    rewrite_lncRNA('sp1485.fa', 'sp1485.results','sp1485.lncRNA')\n",
    "    rewrite_lncRNA('sp1487.fa', 'sp1487.results','sp1487.lncRNA')\n",
    "    rewrite_lncRNA('sp1508.fa', 'sp1508.results','sp1508.lncRNA')    \n",
    "    rewrite_lncRNA('sp1510.fa', 'sp1510.results','sp1510.lncRNA')\n",
    "    rewrite_lncRNA('sp1514.fa', 'sp1514.results','sp1514.lncRNA')\n",
    "    rewrite_lncRNA('sp1515.fa', 'sp1515.results','sp1515.lncRNA')\n",
    "    rewrite_lncRNA('sp1516.fa', 'sp1516.results','sp1516.lncRNA')\n",
    "    rewrite_lncRNA('sp1517.fa', 'sp1517.results','sp1517.lncRNA')\n",
    "    rewrite_lncRNA('sp1519.fa', 'sp1519.results','sp1519.lncRNA')\n",
    "    rewrite_lncRNA('sp1520.fa', 'sp1520.results','sp1520.lncRNA')\n",
    "    rewrite_lncRNA('sp1521.fa', 'sp1521.results','sp1521.lncRNA')\n",
    "    rewrite_lncRNA('sp1522.fa', 'sp1522.results','sp1522.lncRNA')\n",
    "\n",
    "main() "
   ]
  },
  {
   "cell_type": "code",
   "execution_count": null,
   "metadata": {
    "collapsed": true
   },
   "outputs": [],
   "source": []
  }
 ],
 "metadata": {
  "anaconda-cloud": {},
  "kernelspec": {
   "display_name": "Python 2",
   "language": "python",
   "name": "python2"
  },
  "language_info": {
   "codemirror_mode": {
    "name": "ipython",
    "version": 2
   },
   "file_extension": ".py",
   "mimetype": "text/x-python",
   "name": "python",
   "nbconvert_exporter": "python",
   "pygments_lexer": "ipython2",
   "version": "2.7.12"
  }
 },
 "nbformat": 4,
 "nbformat_minor": 1
}
