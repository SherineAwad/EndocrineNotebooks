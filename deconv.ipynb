{
 "cells": [
  {
   "cell_type": "code",
   "execution_count": null,
   "metadata": {
    "collapsed": false,
    "deletable": true,
    "editable": true
   },
   "outputs": [],
   "source": [
    "import csv\n",
    "import sys\n",
    "import re\n",
    "import numpy as np; \n",
    "import pandas as pd\n",
    "import matplotlib.pyplot as plt\n",
    "import seaborn as sns;"
   ]
  },
  {
   "cell_type": "code",
   "execution_count": null,
   "metadata": {
    "collapsed": false,
    "deletable": true,
    "editable": true
   },
   "outputs": [],
   "source": [
    "deconv_data =np.loadtxt(\"xcell_pv.txt\", delimiter='\\t', skiprows=1,usecols=range(1,21))\n",
    "y=['Adipocytes','Astrocytes','B-cells','Basophils','CD4+ T-cells','CD4+ Tcm','CD4+ Tem','CD4+ memory T-cells', \\\n",
    "   'CD4+ naive T-cells','CD8+ T-cells','CD8+ Tcm','CD8+ Tem','CD8+ naive T-cells','CLP','CMP','Chondrocytes', \\\n",
    "   'Class-switched memory B-cells','DC','Endothelial cells','Eosinophils','Epithelial cells','Erythrocytes', \\\n",
    "   'Fibroblasts','GMP','HSC','Hepatocytes','Keratinocytes','MEP','MPP','MSC','Macrophages','Macrophages M1', \\\n",
    "   'Macrophages M2','Mast cells','Megakaryocytes','Melanocytes','Memory B-cells','Mesangial cells','Monocytes', \\\n",
    "   'Myocytes','NK cells','NKT','Neurons','Neutrophils','Osteoblast','Pericytes','Plasma cells','Platelets', \\\n",
    "   'Preadipocytes','Sebocytes','Skeletal muscle','Smooth muscle','Tgd cells','Th1 cells','Th2 cells','Tregs', \\\n",
    "   'aDC','cDC','iDC','ly Endothelial cells','mv Endothelial cells','naive B-cells','pDC','pro B-cells']\n",
    "#x= ['sp1508','sp1510','sp1514','sp1515','sp1516','sp1517','sp1519','sp1520','sp1521','sp1522','sp1470','sp1466','sp1452','sp1476','sp1477','sp1479','sp1481','sp1483','sp1485','sp1487']\n",
    "x= ['ctrl1','ctrl1','ctrl3','ctrl4','ctrl5','ctrl6','ctrl7','ctrl8','ctrl9','ctrl10','tumorl11','tumor12',\\\n",
    "    'tumor13','tumor14','tumor15','tumor16','tumor17','tumor18','tumor19','tumor20']\n",
    "\n",
    "#x= ['control1508','control1510','control1514','control1515','control1516','control1517','control1519','control1520',\\\n",
    "    #'control1521','control1522','tumor1470','tumor1466','tumor1452','tumor1476','tumor1477','tumor1479','tumor1481',\\\n",
    "    #'tumor1483','tumor1485','tumor1487']\n",
    "\n",
    "    \n",
    "\n",
    "plt.figure(figsize=(12, 14))\n",
    "\n",
    " \n",
    "ax = sns.heatmap(deconv_data,cmap='coolwarm', robust=True, linewidths=.5) #annot=True, \n",
    "ax.set_xticklabels(x, rotation=90, ha='center')\n",
    "ax.set_yticklabels(y,rotation=360, ha='right')\n",
    "plt.savefig('deconv.png',bbox_inches='tight') \n",
    "plt.show()\n",
    "\n",
    "\n",
    "\n",
    "#cmap=mako\n",
    "plt.figure(figsize=(12, 15))\n",
    "cg = sns.clustermap(deconv_data,cmap='coolwarm', robust=True) # method= 'single', method=\"correlation\"  #col_cluster=False)\n",
    "ax = cg.ax_heatmap\n",
    "ax.set_xticklabels(x, rotation=90, ha='center')\n",
    "ax.set_yticklabels(y,rotation=360, ha='left')\n",
    "plt.savefig('cldeconv.png',bbox_inches='tight') \n",
    "plt.show()\n",
    "\n",
    "plt.figure(figsize=(10, 10))\n",
    "my_plot = ax.matshow(pd.DataFrame(deconv_data).corr(), cmap='coolwarm', vmin=-1, vmax=1)\n",
    "#plt.colorbar(my_plot)\n",
    "# plot correlation matrix with Seaborne heatmap function\n",
    "ax= sns.heatmap(pd.DataFrame(deconv_data).corr(),vmin=-1, vmax=1,cmap='coolwarm') \n",
    "ax.set_xticklabels(x, rotation=90, ha='center')\n",
    "ax.set_yticklabels(y,rotation=360, ha='right')\n",
    "plt.show()"
   ]
  },
  {
   "cell_type": "code",
   "execution_count": 83,
   "metadata": {
    "collapsed": false,
    "deletable": true,
    "editable": true
   },
   "outputs": [
    {
     "data": {
      "text/plain": [
       "<matplotlib.figure.Figure at 0x7f48bbe0a850>"
      ]
     },
     "metadata": {},
     "output_type": "display_data"
    },
    {
     "data": {
      "text/plain": [
       "<matplotlib.figure.Figure at 0x7f489d831550>"
      ]
     },
     "metadata": {},
     "output_type": "display_data"
    },
    {
     "data": {
      "image/png": "[encoded data removed]",
      "text/plain": [
       "<matplotlib.figure.Figure at 0x7f48bc505910>"
      ]
     },
     "metadata": {},
     "output_type": "display_data"
    }
   ],
   "source": [
    "import seaborn as sns\n",
    "data =np.loadtxt(\"xcell.txt\", delimiter='\\t', skiprows=1,usecols=range(1,21))\n",
    "cells=['Adipocytes','Astrocytes','B-cells','Basophils','CD4+ T-cells','CD4+ Tcm','CD4+ Tem','CD4+ memory T-cells', \\\n",
    "   'CD4+ naive T-cells','CD8+ T-cells','CD8+ Tcm','CD8+ Tem','CD8+ naive T-cells','CLP','CMP','Chondrocytes', \\\n",
    "   'Class-switched memory B-cells','DC','Endothelial cells','Eosinophils','Epithelial cells','Erythrocytes', \\\n",
    "   'Fibroblasts','GMP','HSC','Hepatocytes','Keratinocytes','MEP','MPP','MSC','Macrophages','Macrophages M1', \\\n",
    "   'Macrophages M2','Mast cells','Megakaryocytes','Melanocytes','Memory B-cells','Mesangial cells','Monocytes', \\\n",
    "   'Myocytes','NK cells','NKT','Neurons','Neutrophils','Osteoblast','Pericytes','Plasma cells','Platelets', \\\n",
    "   'Preadipocytes','Sebocytes','Skeletal muscle','Smooth muscle','Tgd cells','Th1 cells','Th2 cells','Tregs', \\\n",
    "   'aDC','cDC','iDC','ly Endothelial cells','mv Endothelial cells','naive B-cells','pDC','pro B-cells']\n",
    "samples= ['sp1508','sp1510','sp1514','sp1515','sp1516','sp1517','sp1519','sp1520','sp1521','sp1522','sp1470','sp1466','sp1452','sp1476','sp1477','sp1479','sp1481','sp1483','sp1485','sp1487']\n",
    "\n",
    "#control1= data[:, 1]\n",
    "#control2= data[:, 2]\n",
    "controls = []\n",
    "for i in range(0,10): \n",
    "    controls.append(data[:, i])\n",
    "#print(controls[9])\n",
    "tumors = []\n",
    "for i in range(10,20): \n",
    "    tumors.append(data[:, i])\n",
    "#print(tumors[9])\n",
    "plt.figure(figsize=(10, 10))\n",
    "names  = controls\n",
    "values = tumors\n",
    "d=[controls,tumors]\n",
    "plt.figure()\n",
    "plt.boxplot(controls  , showmeans=True)\n",
    "#plt.xticks([1, 2,3, 4], ['100','1000', '5000', '10000'])\n",
    "plt.xlabel('Controls')\n",
    "#plt.ylabel('Immune Cells')\n",
    "plt.title('--')\n",
    "plt.show() \n",
    "plt.savefig('ld.png')"
   ]
  },
  {
   "cell_type": "code",
   "execution_count": null,
   "metadata": {
    "collapsed": true,
    "deletable": true,
    "editable": true
   },
   "outputs": [],
   "source": []
  },
  {
   "cell_type": "code",
   "execution_count": null,
   "metadata": {
    "collapsed": true,
    "deletable": true,
    "editable": true
   },
   "outputs": [],
   "source": []
  }
 ],
 "metadata": {
  "anaconda-cloud": {},
  "kernelspec": {
   "display_name": "Python 2",
   "language": "python",
   "name": "python2"
  },
  "language_info": {
   "codemirror_mode": {
    "name": "ipython",
    "version": 2
   },
   "file_extension": ".py",
   "mimetype": "text/x-python",
   "name": "python",
   "nbconvert_exporter": "python",
   "pygments_lexer": "ipython2",
   "version": "2.7.12"
  }
 },
 "nbformat": 4,
 "nbformat_minor": 1
}
