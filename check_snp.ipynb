{
 "cells": [
  {
   "cell_type": "code",
   "execution_count": 44,
   "metadata": {
    "collapsed": true,
    "deletable": true,
    "editable": true,
    "scrolled": true
   },
   "outputs": [],
   "source": [
    "import csv\n",
    "import sys\n",
    "import re\n",
    "import numpy as np; \n",
    "import pandas as pd\n",
    "import matplotlib.pyplot as plt\n",
    "import seaborn as sns;\n"
   ]
  },
  {
   "cell_type": "code",
   "execution_count": 47,
   "metadata": {
    "collapsed": false,
    "deletable": true,
    "editable": true
   },
   "outputs": [
    {
     "name": "stdout",
     "output_type": "stream",
     "text": [
      "382\n",
      "SP491\n",
      "F393M1\n",
      "382\n"
     ]
    }
   ],
   "source": [
    "families_snped = []\n",
    "ours = [] \n",
    "fp1 = open('families.txt', 'r')\n",
    "for line1 in fp1.readlines():\n",
    "    families_snped.append(line1.upper().strip())\n",
    "\n",
    "fp2 = open('david_file.txt', 'r')\n",
    "for  line2 in fp2.readlines():\n",
    "        ours.append(line2.upper().strip())\n",
    "\n",
    "count = 0 \n",
    "for i in ours: \n",
    "    if i in families_snped: \n",
    "        count+=1 \n",
    "    else: \n",
    "        print(i)\n",
    "print(count)\n",
    "\n",
    "seen = set()\n",
    "uniq = []\n",
    "for x in families_snped: \n",
    "    if x not in seen:\n",
    "        uniq.append(x)\n",
    "        seen.add(x) \n",
    "    else: \n",
    "        print(x)\n",
    "print(len(uniq))\n",
    "    "
   ]
  },
  {
   "cell_type": "code",
   "execution_count": null,
   "metadata": {
    "collapsed": true,
    "deletable": true,
    "editable": true
   },
   "outputs": [],
   "source": []
  }
 ],
 "metadata": {
  "anaconda-cloud": {},
  "kernelspec": {
   "display_name": "Python 2",
   "language": "python",
   "name": "python2"
  },
  "language_info": {
   "codemirror_mode": {
    "name": "ipython",
    "version": 2
   },
   "file_extension": ".py",
   "mimetype": "text/x-python",
   "name": "python",
   "nbconvert_exporter": "python",
   "pygments_lexer": "ipython2",
   "version": "2.7.12"
  }
 },
 "nbformat": 4,
 "nbformat_minor": 1
}
