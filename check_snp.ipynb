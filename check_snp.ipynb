{
 "cells": [
  {
   "cell_type": "code",
   "execution_count": 3,
   "metadata": {
    "collapsed": true,
    "deletable": true,
    "editable": true,
    "scrolled": true
   },
   "outputs": [],
   "source": [
    "import csv\n",
    "import sys\n",
    "import re\n",
    "import numpy as np; \n",
    "import pandas as pd\n",
    "import matplotlib.pyplot as plt\n",
    "import seaborn as sns;\n"
   ]
  },
  {
   "cell_type": "code",
   "execution_count": 46,
   "metadata": {
    "collapsed": false,
    "deletable": true,
    "editable": true
   },
   "outputs": [
    {
     "name": "stdout",
     "output_type": "stream",
     "text": [
      "382\n",
      "Done\n"
     ]
    }
   ],
   "source": [
    "families= []\n",
    "ours = [] \n",
    "first = {} \n",
    "fp1 = open('families.txt', 'r')\n",
    "for line1 in fp1.readlines():\n",
    "    families.append(line1.upper().strip())\n",
    "\n",
    "fp2 = open('david_file.txt', 'r')\n",
    "for  line2 in fp2.readlines():\n",
    "        ours.append(line2.upper().strip())\n",
    "        line = line2.split(\",\")\n",
    "        fid = line[0].upper().strip() \n",
    "\n",
    "count = 0 \n",
    "for i in ours: \n",
    "    if i in families: \n",
    "        count+=1 \n",
    "print(count)\n",
    "\n",
    "x =[] \n",
    "fid = {}\n",
    "fp3 = open('filtered.csv', 'a')\n",
    "\n",
    "fp4 = open('marta1.csv', 'r')\n",
    "for line1 in fp4.readlines():\n",
    "    line = line1.split(\",\")\n",
    "    fid= line[0].upper().strip()\n",
    "    if fid in families: \n",
    "        fp3.write(line1)\n",
    "fp5 = open('marta2.csv', 'r')\n",
    "for line1 in fp5.readlines():\n",
    "    line = line1.split(\",\")\n",
    "    fid= line[0].upper().strip()\n",
    "    if fid in families: \n",
    "        fp3.write(line1)\n",
    "print('Done')"
   ]
  },
  {
   "cell_type": "code",
   "execution_count": null,
   "metadata": {
    "collapsed": true,
    "deletable": true,
    "editable": true
   },
   "outputs": [],
   "source": [
    "families= []\n",
    "ours = [] \n",
    "first = {} \n",
    "fp1 = open('families.txt', 'r')\n",
    "for line1 in fp1.readlines():\n",
    "    families.append(line1.upper().strip())\n",
    "\n",
    "fp2 = open('david_file.txt', 'r')\n",
    "for  line2 in fp2.readlines():\n",
    "        ours.append(line2.upper().strip())\n",
    "        line = line2.split(\",\")\n",
    "        fid = line[0].upper().strip() \n",
    "\n",
    "\n",
    "fp2 = open('david2.csv', 'r')\n",
    "for  line2 in fp2.readlines():\n",
    "        ours.append(line2.upper().strip())\n",
    "        line = line2.split(\",\")\n",
    "        fid = line[0].upper().strip() \n",
    "        first[fid] = line2.upper().strip()\n",
    "        \n",
    "count = 0 \n",
    "for i in ours: \n",
    "    if i in families: \n",
    "        count+=1 \n",
    "print(count)\n",
    "\n",
    "x =[] \n",
    "fid = {}\n",
    "fp3 = open('filtered.csv', 'a')\n",
    "\n",
    "fp4 = open('marta1.csv', 'r')\n",
    "for line1 in fp4.readlines():\n",
    "    line = line1.split(\",\")\n",
    "    fid= line[0].upper().strip()\n",
    "    if fid in families: \n",
    "        l = first.get(fid)\n",
    "        line = line1+\",\"+l\n",
    "        fp3.write(line)\n",
    "fp5 = open('marta2.csv', 'r')\n",
    "for line1 in fp5.readlines():\n",
    "    line = line1.split(\",\")\n",
    "    fid= line[0].upper().strip()\n",
    "    if fid in families: \n",
    "        l = first.get(fid)\n",
    "        print(l)\n",
    "        line = line1+\",\"+l\n",
    "        fp3.write(line)\n",
    "print('Done')\n",
    "uniq = []\n",
    "for x in families_snped: \n",
    "    if x not in seen:\n",
    "        uniq.append(x)\n",
    "        seen.add(x) \n",
    "    else: \n",
    "        print(x)\n",
    "print(len(uniq))"
   ]
  }
 ],
 "metadata": {
  "anaconda-cloud": {},
  "kernelspec": {
   "display_name": "Python 2",
   "language": "python",
   "name": "python2"
  },
  "language_info": {
   "codemirror_mode": {
    "name": "ipython",
    "version": 2
   },
   "file_extension": ".py",
   "mimetype": "text/x-python",
   "name": "python",
   "nbconvert_exporter": "python",
   "pygments_lexer": "ipython2",
   "version": "2.7.12"
  }
 },
 "nbformat": 4,
 "nbformat_minor": 1
}
