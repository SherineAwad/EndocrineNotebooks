{
 "cells": [
  {
   "cell_type": "code",
   "execution_count": 37,
   "metadata": {
    "collapsed": true,
    "deletable": true,
    "editable": true
   },
   "outputs": [],
   "source": [
    "import csv\n",
    "import sys\n",
    "import re\n",
    "import matplotlib.pyplot as plt\n",
    "import numpy as np"
   ]
  },
  {
   "cell_type": "code",
   "execution_count": 38,
   "metadata": {
    "collapsed": false,
    "deletable": true,
    "editable": true
   },
   "outputs": [],
   "source": [
    "def load_edgeR(filename):\n",
    "    fp = open(filename, 'r')\n",
    "    r = csv.reader(fp, delimiter=',')\n",
    "    genes = []\n",
    "    fc = []\n",
    "    cpm = []\n",
    "    pvs = []\n",
    "    fdrs =[]\n",
    "    for n, row in enumerate(r):\n",
    "        if n == 0: \n",
    "                continue\n",
    "        genes.append(row[0])\n",
    "        fc.append(row[1])\n",
    "        cpm.append(row[2])\n",
    "        pvs.append(row[3])\n",
    "        fdrs.append(row[4])\n",
    "    return genes, fc, cpm, pvs, fdrs "
   ]
  },
  {
   "cell_type": "code",
   "execution_count": 39,
   "metadata": {
    "collapsed": true,
    "deletable": true,
    "editable": true
   },
   "outputs": [],
   "source": [
    "def load_cuffdiff(filename):\n",
    "    fp = open(filename, 'r')\n",
    "    r = csv.reader(fp, delimiter='\\t')\n",
    "    genes = []\n",
    "    fc = []\n",
    "    qv = []\n",
    "    for n, row in enumerate(r):\n",
    "        if n == 0: \n",
    "                continue\n",
    "        genes.append(row[1])\n",
    "        fc.append(row[9])\n",
    "        qv.append(row[12])\n",
    "    return genes, fc, qv\n",
    " "
   ]
  },
  {
   "cell_type": "code",
   "execution_count": 40,
   "metadata": {
    "collapsed": false,
    "deletable": true,
    "editable": true
   },
   "outputs": [
    {
     "name": "stdout",
     "output_type": "stream",
     "text": [
      "('No. of up-regulated genes are:', 2939)\n",
      "('No. of down-regulated genes are:', 2187)\n"
     ]
    }
   ],
   "source": [
    "edgeRgenes, edgeRfc,_,_, edgeRfdr = load_edgeR('dge-NCBI.csv')\n",
    "edgeRups = []\n",
    "edgeRdowns = []\n",
    "for i in range(0,len(edgeRfc)):\n",
    "        if ((float(edgeRfc[i])) >0 ) and (float(edgeRfdr[i]) <0.001) :\n",
    "                edgeRups.append(edgeRgenes[i])\n",
    "        elif ((float(edgeRfc[i])) <0 ) and (float(edgeRfdr[i]) <0.001) :\n",
    "                edgeRdowns.append(edgeRgenes[i])\n",
    "                \n",
    "print (\"No. of up-regulated genes are:\",len(edgeRups))\n",
    "print (\"No. of down-regulated genes are:\",len(edgeRdowns))\n"
   ]
  },
  {
   "cell_type": "code",
   "execution_count": 41,
   "metadata": {
    "collapsed": false,
    "deletable": true,
    "editable": true
   },
   "outputs": [
    {
     "name": "stdout",
     "output_type": "stream",
     "text": [
      "('No. of up-regulated genes are:', 709)\n",
      "('No. of down-regulated genes are:', 734)\n"
     ]
    }
   ],
   "source": [
    "cuff_genes, cuff_fc, cuff_qv = load_cuffdiff('cuffdiff.csv')\n",
    "cuffups = []\n",
    "cuffdowns = []\n",
    "for i in range(0,len(cuff_fc)):\n",
    "        if ((float(cuff_fc[i])) >0 ) and (float(cuff_qv[i]) <0.001) :\n",
    "                cuffups.append(cuff_genes[i])\n",
    "        elif ((float(cuff_fc[i])) <0 ) and (float(cuff_qv[i]) <0.001) :\n",
    "                cuffdowns.append(cuff_genes[i])\n",
    "                \n",
    "print (\"No. of up-regulated genes are:\",len(cuffups))\n",
    "print (\"No. of down-regulated genes are:\",len(cuffdowns))"
   ]
  },
  {
   "cell_type": "code",
   "execution_count": 42,
   "metadata": {
    "collapsed": false,
    "deletable": true,
    "editable": true
   },
   "outputs": [
    {
     "name": "stdout",
     "output_type": "stream",
     "text": [
      "691\n",
      "699\n",
      "709\n",
      "734\n",
      "97.461212976\n",
      "95.2316076294\n",
      "('TP is', 96.32709632709633)\n",
      "('FN is', 27.116660163870463)\n",
      "0\n",
      "0\n"
     ]
    }
   ],
   "source": [
    "common_ups = [] \n",
    "common_downs = []\n",
    "\n",
    "\n",
    "for i in cuffups: \n",
    "        if i in edgeRups: \n",
    "            common_ups.append(i)\n",
    "for i in cuffdowns:\n",
    "        if i in edgeRdowns:\n",
    "            common_downs.append(i)\n",
    "print (len(common_ups))\n",
    "print (len(common_downs))\n",
    "\n",
    "print (len(cuffups))\n",
    "print (len(cuffdowns))\n",
    "\n",
    "common_up_perc =  float(len(common_ups))/float(len(cuffups)) \n",
    "common_down_perc =  float(len(common_downs))/float(len(cuffdowns) ) \n",
    "\n",
    "print (common_up_perc*100)\n",
    "print (common_down_perc*100)\n",
    "\n",
    "TP =  (float(len(common_ups)) + float(len(common_downs)))   / (float(len(cuffups)) + float(len(cuffdowns)))\n",
    "FN =  (float(len(common_ups)) + float(len(common_downs)))   /  (float(len(edgeRups)) + float(len(edgeRdowns))) \n",
    "\n",
    "print (\"TP is\", TP*100)\n",
    "print (\"FN is\", FN *100)\n",
    "\n",
    "opp_ups = [] \n",
    "opp_downs = []\n",
    "for i in cuffups: \n",
    "        if i in edgeRdowns: \n",
    "            opp_ups.append(i)\n",
    "for i in cuffdowns:\n",
    "        if i in edgeRups:\n",
    "            opp_downs.append(i)\n",
    "print (len(opp_ups))\n",
    "print (len(opp_downs))\n"
   ]
  },
  {
   "cell_type": "code",
   "execution_count": null,
   "metadata": {
    "collapsed": true,
    "deletable": true,
    "editable": true
   },
   "outputs": [],
   "source": []
  }
 ],
 "metadata": {
  "anaconda-cloud": {},
  "kernelspec": {
   "display_name": "Python 2",
   "language": "python",
   "name": "python2"
  },
  "language_info": {
   "codemirror_mode": {
    "name": "ipython",
    "version": 2
   },
   "file_extension": ".py",
   "mimetype": "text/x-python",
   "name": "python",
   "nbconvert_exporter": "python",
   "pygments_lexer": "ipython2",
   "version": "2.7.12"
  }
 },
 "nbformat": 4,
 "nbformat_minor": 1
}
