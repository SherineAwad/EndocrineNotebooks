{
 "cells": [
  {
   "cell_type": "code",
   "execution_count": 2,
   "metadata": {
    "collapsed": true
   },
   "outputs": [],
   "source": [
    "import csv\n",
    "import sys\n",
    "import re\n",
    "import matplotlib.pyplot as plt\n",
    "import numpy as np"
   ]
  },
  {
   "cell_type": "code",
   "execution_count": 28,
   "metadata": {
    "collapsed": false
   },
   "outputs": [],
   "source": [
    "def load_edgeR(filename):\n",
    "    fp = open(filename, 'r')\n",
    "    r = csv.reader(fp, delimiter=',')\n",
    "    genes = []\n",
    "    fc = []\n",
    "    cpm = []\n",
    "    pvs = []\n",
    "    fdrs =[]\n",
    "    for n, row in enumerate(r):\n",
    "        if n == 0: \n",
    "                continue\n",
    "        genes.append(row[0])\n",
    "        fc.append(row[1])\n",
    "        cpm.append(row[2])\n",
    "        pvs.append(row[3])\n",
    "        fdrs.append(row[4])\n",
    "    return genes, fc, cpm, pvs, fdrs "
   ]
  },
  {
   "cell_type": "code",
   "execution_count": 44,
   "metadata": {
    "collapsed": true
   },
   "outputs": [],
   "source": [
    "def load_cuffdiff(filename):\n",
    "    fp = open(filename, 'r')\n",
    "    r = csv.reader(fp, delimiter='\\t')\n",
    "    genes = []\n",
    "    fc = []\n",
    "    qv = []\n",
    "    for n, row in enumerate(r):\n",
    "        if n == 0: \n",
    "                continue\n",
    "        genes.append(row[1])\n",
    "        fc.append(row[9])\n",
    "        qv.append(row[12])\n",
    "    return genes, fc, qv\n",
    " "
   ]
  },
  {
   "cell_type": "code",
   "execution_count": 58,
   "metadata": {
    "collapsed": false
   },
   "outputs": [
    {
     "name": "stdout",
     "output_type": "stream",
     "text": [
      "No. of up-regulated genes are: 4015\n",
      "No. of down-regulated genes are: 3020\n"
     ]
    }
   ],
   "source": [
    "edgeRgenes, edgeRfc,_,_, edgeRfdr = load_edgeR('dge-NCBI.csv')\n",
    "edgeRups = []\n",
    "edgeRdowns = []\n",
    "for i in range(0,len(edgeRfc)):\n",
    "        if ((float(edgeRfc[i])) >0 ) and (float(edgeRfdr[i]) <0.01) :\n",
    "                edgeRups.append(edgeRgenes[i])\n",
    "        elif ((float(edgeRfc[i])) <0 ) and (float(edgeRfdr[i]) <0.01) :\n",
    "                edgeRdowns.append(edgeRgenes[i])\n",
    "                \n",
    "print (\"No. of up-regulated genes are:\",len(edgeRups))\n",
    "print (\"No. of down-regulated genes are:\",len(edgeRdowns))\n"
   ]
  },
  {
   "cell_type": "code",
   "execution_count": 59,
   "metadata": {
    "collapsed": false
   },
   "outputs": [
    {
     "name": "stdout",
     "output_type": "stream",
     "text": [
      "No. of up-regulated genes are: 1402\n",
      "No. of down-regulated genes are: 1325\n"
     ]
    }
   ],
   "source": [
    "cuff_genes, cuff_fc, cuff_qv = load_cuffdiff('cuffdiff.csv')\n",
    "cuffups = []\n",
    "cuffdowns = []\n",
    "for i in range(0,len(cuff_fc)):\n",
    "        if ((float(cuff_fc[i])) >0 ) and (float(cuff_qv[i]) <0.01) :\n",
    "                cuffups.append(cuff_genes[i])\n",
    "        elif ((float(cuff_fc[i])) <0 ) and (float(cuff_qv[i]) <0.01) :\n",
    "                cuffdowns.append(cuff_genes[i])\n",
    "                \n",
    "print (\"No. of up-regulated genes are:\",len(cuffups))\n",
    "print (\"No. of down-regulated genes are:\",len(cuffdowns))"
   ]
  },
  {
   "cell_type": "code",
   "execution_count": 57,
   "metadata": {
    "collapsed": false
   },
   "outputs": [
    {
     "name": "stdout",
     "output_type": "stream",
     "text": [
      "2201\n",
      "2045\n",
      "['ZG16B', 'LRRC26', 'HP', 'ODAM', 'FDCSP', 'FAM46C', 'XBP1', 'FAM129A', 'CHPT1', 'BHLHA15', 'MYO5C', 'TXNDC5', 'FGFR2', 'ITPR1', 'PRR4', 'PSD4', 'ATP8B1', 'NFIB', 'TNFSF13', 'CRISP3', 'PLA2R1', 'MEIS1', 'DGKA', 'H6PD', 'ETV6', 'CA12', 'CD46', 'ADGRG6', 'TNFRSF17', 'GALNT4', 'C1RL', 'CCL28', 'RNASE4', 'DERL3', 'PRB1', 'ABHD17C', 'TP63', 'CHRDL1', 'ST3GAL1', 'MANSC1', 'NET1', 'PRB4', 'ANG', 'ITGB4', 'QSOX1', 'UAP1', 'MTUS1', 'KRT15', 'PALMD', 'SLC31A2', 'FBP1', 'SERP1', 'CEACAM1', 'SLC31A1', 'PIP5K1B', 'ALDH1A2', 'CHI3L2', 'BPIFB2', 'SLC35A3', 'SSH3', 'EDEM1', 'NKX3-1', 'AOX1', 'SSFA2', 'CYB5R2', 'PACSIN3', 'LAMA3', 'EHF', 'MPZL2', 'DEPTOR', 'FGFRL1', 'ARHGAP27', 'DES', 'SLC39A8', 'FOLR1', 'SYTL1', 'COL17A1', 'UGP2', 'RBM47', 'MLPH', 'TMEM123', 'BACE2', 'CBR3', 'EIF2AK3', 'MIR650', 'RAB11FIP1', 'ATP2A3', 'GALE', 'AK4', 'ST6GAL1', 'ANKRD13A', 'HSH2D', 'F11R', 'PLEKHH2', 'GRHL1', 'SLC1A5', 'IRF4', 'NANS', 'RASAL1', 'ITGA6', 'TIFA', 'LPO', 'SLC9A1', 'LDLR', 'KLF5', 'SORD', 'DEF6', 'LIMA1', 'ANXA3', 'STAT6', 'HSD17B2', 'ELF5', 'AQP5', 'KRT14', 'TPD52', 'SCGB1D2', 'PPM1K', 'TNFSF10', 'ALDH3A1', 'LIMD1', 'CD8A', 'VAMP8', 'NEK6', 'GLIPR2', 'PIK3AP1', 'MAN1A1', 'RRBP1', 'FRK', 'GNE', 'EGF', 'GLTP', 'TM4SF1', 'OXR1', 'GPCPD1', 'GABARAPL1', 'FOXC1', 'BOC', 'TRPM4', 'IQGAP2', 'FAM3D', 'PTGER3', 'PPP1R3B', 'LRP5', 'CTSH', 'SMPDL3B', 'KIAA1324', 'KIF1C', 'NEURL3', 'DHCR24', 'AVPI1', 'NUPR1', 'DSC3', 'DTNB', 'PRRG4', 'JCHAIN', 'MUC5B', 'SEMA4A', 'MPZL3', 'GLUL', 'CYP27A1', 'RAPGEF3', 'AIM1', 'ALDH9A1', 'RNASE1', 'RAB27B', 'MAOA', 'SLC15A2', 'TMEM87B', 'FUT2', 'BCL2L14', 'TNS4', 'FUT6', 'MPP7', 'PTK2B', 'NFIX', 'KCNA3', 'ATP13A3', 'ICAM3', 'TMPRSS13', 'ADRA2A', 'ACSL5', 'KIAA1522', 'PERP', 'LOC100129034', 'SDC4', 'GPR160', 'ALDH1A1', 'SLC28A3', 'SLAMF7', 'PKDCC', 'LOC101927318', 'TSHZ2', 'TCEA3', 'CIITA', 'CD9', 'CD55', 'ISG20', 'RAB4A', 'CAPN2', 'SMC5', 'ADIRF', 'YAP1', 'ACSS1', 'MAP3K1', 'GGT6', 'CPD', 'NDRG2', 'TNFRSF19', 'ASAP3', 'STEAP4', 'PDK1', 'ZNF395', 'HERC5', 'ITGAL', 'BPIFB3', 'SQRDL', 'FAM114A1', 'CD82', 'PLEKHA7', 'UTP20', 'EGFR', 'TNFRSF14', 'FAM84B', 'EPS8L2', 'C4orf19', 'RAB3D', 'ITGB7', 'IKZF2', 'POU2AF1', 'IDE', 'LRIG3', 'TMCO4', 'FZD5', 'SUCLG2', 'TMC4', 'GP2', 'SP100', 'TMEM238', 'GMPPB', 'MROH7', 'CXCL17', 'TAPBPL', 'NAALADL2', 'ADAM15', 'TXNDC11', 'RAB17', 'TMEM63A', 'CMAHP', 'LOC102723344', 'GK', 'SLC25A37', 'ITPR3', 'EPHX1', 'ZNF703', 'SCGB3A1', 'GGA2', 'TMEM214', 'CTDSP1', 'HMGCS2', 'RAB43', 'CDCP1', 'ADGRG1', 'PEBP4', 'SERPING1', 'RAB11FIP5', 'ACPP', 'NAAA', 'MCTP2', 'TRIM38', 'DENND2C', 'FAM20A', 'PGAP3', 'SLC2A13', 'VTCN1', 'FMO5', 'PARP8', 'NT5C2', 'TGFBR3', 'LMO4', 'EPHB3', 'KRT23', 'GALNT6', 'NFKBIZ', 'CADPS2', 'PPL', 'PIK3R1', 'NCALD', 'FOXP2', 'CTSB', 'LGALS3', 'SYPL1', 'NUGGC', 'ZBP1', 'FRAT2', 'ZNF750', 'ERN1', 'CD27', 'F5', 'TTC22', 'DSC2', 'RASSF5', 'ALDH2', 'CTSW', 'SNAP23', 'SELENBP1', 'KIF13B', 'TMBIM1', 'CMPK1', 'SH3BP4', 'BCL6', 'LINC00963', 'ELOVL1', 'TRAF3IP3', 'FES', 'SECTM1', 'TJP2', 'TMPRSS2', 'METTL21B', 'C2orf88', 'VWA2', 'SLFN5', 'GPT', 'MECOM', 'SH3BGRL2', 'PPP2R5A', 'FAM46B', 'ERBB2', 'CASP4', 'C3', 'SSR4', 'TRIM56', 'CCL5', 'SLC9A3R1', 'FLNC', 'BLVRB', 'KRT8', 'KRT5', 'CX3CL1', 'C1GALT1', 'STXBP2', 'FCRL5', 'GRAMD3', 'TACSTD2', 'RUNX3', 'RARG', 'FRMD4B', 'LPCAT3', 'LY75', 'LPCAT2', 'LRRC2', 'ARHGEF37', 'ADH1C', 'PPP1R3C', 'KLF3', 'RAB27A', 'CLDN10', 'HES1', 'NMRK1', 'TLR3', 'ELF1', 'PRSS21', 'HERC6', 'OAT', 'STIM1', 'IL7', 'MYOF', 'GLYATL2', 'CORO1A', 'CELSR1', 'TMEM173', 'IDH1', 'FCGBP', 'IKZF3', 'CARD6', 'ZBTB42', 'DNAJC3', 'GBP6', 'HLA-DOB', 'OSBPL10', 'CSRP1', 'CYTIP', 'OAS1', 'KRT7', 'TMBIM6', 'SLC17A5', 'MUC1', 'ITPKC', 'SIGIRR', 'ANKRD36BP2', 'GBP5', 'SLC30A7', 'PABPC1', 'TMEM71', 'C1orf210', 'SLC50A1', 'MACC1', 'SOD3', 'SIX3-AS1', 'PLEKHF2', 'CCL19', 'STAP2', 'CMTM6', 'ZC3H12A', 'TTC39C', 'PITX1', 'PPP1R1B', 'NLRP1', 'LNX2', 'FUCA1', 'UBA7', 'GLIS3', 'LY9', 'LRP10', 'GALNT3', 'ATL2', 'RARRES3', 'CGNL1', 'DERL2', 'CEBPA', 'NFKB1', 'TC2N', 'CRYL1', 'OTX1', 'C9orf152', 'FOXP1', 'IGLL5', 'ANOS1', 'ACADS', 'PDE4B', 'GCNT3', 'GALNT10', 'ST3GAL6', 'TRAM1', 'DUSP23', 'SYNGR2', 'LOC374443', 'SASH3', 'ICK', 'ITM2C', 'TMTC2', 'MRVI1', 'RPIA', 'SOCS6', 'ATXN7', 'PRB2', 'ERN2', 'CXCL12', 'CORO2A', 'S100A6', 'REST', 'MUC7', 'CRIM1', 'GJB5', 'UNC93B1', 'STYK1', 'VPS37B', 'ID1', 'RHOH', 'LYN', 'PRR13', 'SLC35C1', 'TMEM159', 'CYP2F1', 'CNTNAP3B', 'CREG1', 'TEAD3', 'NFKB2', 'ANXA11', 'TNFRSF10A', 'CFLAR', 'MT1X', 'GATA3', 'NTS', 'CD74', 'BCL3', 'ASS1', 'C1S', 'MSMB', 'GMDS', 'CMYA5', 'THEMIS', 'S100A11', 'FNBP1', 'HDAC7', 'NABP1', 'CAPN8', 'DSG2', 'PIM2', 'FOLH1', 'IKBKE', 'COL4A6', 'SP140L', 'APOL3', 'KLRC1', 'NBEAL2', 'ALPK1', 'CCDC186', 'GBP2', 'NXPE2', 'APOL6', 'MBNL1', 'AGPAT2', 'TPD52L1', 'POF1B', 'PTPRCAP', 'EMB', 'FOXA1', 'RARRES1', 'SLC16A14', 'HERC3', 'CLEC2D', 'AKR1C2', 'PITPNM3', 'CMPK2', 'LAX1', 'PARP9', 'ST6GALNAC1', 'ARHGEF10L', 'LMCD1', 'UBE2J1', 'GNG12', 'EPHB6', 'MFSD9', 'STAT5A', 'ANXA1', 'NXN', 'TSPAN6', 'H2AFJ', 'TRIM14', 'RASA2', 'CLDN1', 'CNN1', 'CA13', 'PBX1', 'VSIG2', 'ETV7', 'MOB3C', 'GJB1', 'ITPKB', 'SERPINB5', 'P4HB', 'MYO1C', 'NCMAP', 'CXCL9', 'CASP1', 'CD274', 'PI4K2B', 'SFT2D1', 'ALAD', 'IL33', 'FLII', 'PHYHD1', 'CYP2J2', 'TNFAIP8', 'S100A16', 'BAG3', 'LRP6', 'RNF181', 'IKZF1', 'PSTPIP2', 'CXCL11', 'MAP3K8', 'B3GNT6', 'B3GNT3', 'IL16', 'AQP1', 'YBX3', 'CASP7', 'SP140', 'SFN', 'RNF217', 'SAV1', 'PLK2', 'C3orf52', 'CDC42EP1', 'PLSCR1', 'ADGRE5', 'DLK2', 'ZFP36L2', 'MCFD2', 'DAP', 'LAD1', 'TMPRSS11D', 'MYH11', 'FGF10', 'TBC1D10C', 'F3', 'TAPBP', 'AGR2', 'TMBIM4', 'OVOL1', 'CES1', 'IFI16', 'IL20RA', 'MEIS2', 'TMEM213', 'CGN', 'SIX3', 'TRPV4', 'GFPT1', 'SLC2A10', 'ATP6V1B1', 'PLEKHS1', 'PBXIP1', 'DSP', 'PYGL', 'TFAP2A', 'GOLM1', 'CSF2RB', 'LITAF', 'MDFIC', 'HERPUD1', 'CNTNAP3', 'IGFBP4', 'FICD', 'GALNT2', 'FZD6', 'ARL4D', 'TGFA', 'ZBTB7B', 'EFHD2', 'IFIH1', 'TM9SF3', 'FNDC3B', 'RHOV', 'KIAA2022', 'TMEM39A', 'MX1', 'GPD1L', 'ADH7', 'CCL21', 'AHNAK', 'GVINP1', 'RNF144B', 'ART3', 'PRKCD', 'P2RX5', 'ALDH3B2', 'MALL', 'ZFP36L1', 'MAP3K6', 'RNASET2', 'MGST1', 'CCDC3', 'SEMA4B', 'CRACR2B', 'BLNK', 'ATP10B', 'KRT19', 'TRIM8', 'IL17RA', 'SNED1', 'IGF2', 'ALCAM', 'GNPNAT1', 'HK2', 'STAP1', 'TMED2', 'PTP4A2', 'JAK3', 'OASL', 'TSTA3', 'PAX7', 'CCDC69', 'FAM83B', 'NPAS2', 'KRTCAP3', 'CCR2', 'A4GALT', 'SEMG2', 'MYDGF', 'ECHDC1', 'HEXIM1', 'PHF11', 'CCL11', 'GOLPH3L', 'SHB', 'ALDH18A1', 'RASAL3', 'KCNK5', 'TMEM59', 'ENTPD3', 'GSDMC', 'VSIG10L', 'RNF125', 'SEC61A1', 'ARHGEF16', 'SAT1', 'DEGS2', 'INMT', 'TMED3', 'ARHGAP18', 'KANK1', 'PTGER4', 'PKP4', 'KCNJ15', 'SAMD9L', 'ATP7B', 'LGALS9', 'NPY1R', 'LLGL2', 'CD48', 'MAPK13', 'S100A14', 'FAM107A', 'KLK11', 'HLA-DMA', 'KLHL2', 'CD44', 'HSPB1', 'NUCB2', 'ST6GALNAC6', 'NR4A2', 'LPP', 'KCNE3', 'ZYX', 'RSPO1', 'CD19', 'TMEM154', 'RDH10', 'EIF4EBP2', 'TBC1D2', 'UBXN4', 'OSMR', 'CD7', 'SLC35D2', 'ADI1', 'CROT', 'PARP4', 'SH3BP1', 'C2', 'ARHGAP30', 'PRLR', 'IL2RB', 'UGCG', 'STK40', 'FUT3', 'TBX1', 'CASP10', 'EIF4EBP1', 'FAM46A', 'WDFY4', 'OAS2', 'NINJ1', 'CD2AP', 'MKL2', 'DIAPH2', 'RAPGEFL1', 'WASF2', 'METRNL', 'AMIGO2', 'SFT2D2', 'SDCBP', 'VAV3', 'DTX2', 'GFI1', 'ZNF600', 'MAL2', 'ANGPTL1', 'YES1', 'SPPL2A', 'SAMD9', 'NFE2L2', 'FUT8', 'SYT8', 'USP25', 'PRSS12', 'OSTF1', 'PSMB10', 'CTSS', 'SLC22A18', 'CHRD', 'GBP1', 'IVNS1ABP', 'ADAM28', 'TRADD', 'CLC', 'GATA6', 'AQP3', 'PER2', 'EFEMP1', 'UHMK1', 'XDH', 'TXN', 'CCDC71L', 'ADAM8', 'SP110', 'CLN5', 'CAPN1', 'GPRC5B', 'CES3', 'DPYD', 'GLRX', 'GBP3', 'NSMAF', 'ZNF710', 'C1orf21', 'NGLY1', 'MAN2A1', 'CLDN8', 'RNF13', 'SLC1A1', 'SLC25A10', 'APOL1', 'RGS14', 'COL4A5', 'RILPL2', 'ATP12A', 'GZMB', 'DDX58', 'PROSC', 'MLKL', 'IDH2', 'ARRB1', 'TFCP2L1', 'ANO9', 'SLC27A1', 'ITGA2', 'SLC11A2', 'LUZP1', 'VIPR1', 'PLEKHF1', 'GZMM', 'JSRP1', 'CLIC1', 'ALAS1', 'RIPK3', 'ACO1', 'ERO1A', 'BST2', 'PCGF5', 'RNF152', 'HAPLN3', 'PLEC', 'FAM35A', 'C11orf21', 'CD247', 'LSR', 'TPBG', 'EFNA1', 'COL14A1', 'DAZAP2', 'PDZK1IP1', 'SLC25A21', 'TAGLN2', 'SESTD1', 'GPT2', 'GNAQ', 'TTC38', 'LINC00284', 'ARSD', 'CYBA', 'ZNF185', 'TNFRSF18', 'FAM63A', 'IMPA2', 'DUSP2', 'ABHD5', 'S1PR2', 'TP53INP1', 'ZNF888', 'SLAMF1', 'IFI44L', 'SLC14A1', 'FXYD2', 'ERBB3', 'TNFAIP3', 'DHRS3', 'CACHD1', 'UBA5', 'CARD11', 'ALOX5', 'SLC16A4', 'ABRACL', 'SPCS3', 'PPP2R3A', 'CD3D', 'GULP1', 'YIPF1', 'PLD2', 'ARID5B', 'MFN1', 'MX2', 'GSTK1', 'PCDH1', 'MUC15', 'CD79B', 'SPINK5', 'PLEKHG6', 'CAPZA1', 'DRAM1', 'TBCD', 'C2CD2', 'PLTP', 'HOMER2', 'MCTP1', 'PTPN7', 'GATA2', 'PARVG', 'IRAK2', 'B3GNT5', 'SBNO2', 'PLSCR4', 'MB21D1', 'FCRLA', 'B4GALT1', 'SWAP70', 'GOLGB1', 'RAF1', 'XRN1', 'FREM1', 'RAB29', 'ZDHHC3', 'SYTL2', 'PIK3CG', 'SPATA13', 'SOD2', 'ITLN1', 'IPCEF1', 'SSR2', 'EFNA4', 'LAMP3', 'LSP1', 'MPV17L', 'RSRP1', 'IFITM1', 'MTAP', 'ZBTB38', 'GCNT1', 'C1R', 'CARD10', 'SERPINB8', 'TBX3', 'PDGFC', 'GJB3', 'CFD', 'DOCK2', 'PTPRC', 'LOC284578', 'MAGT1', 'FGF7', 'PRKAR2B', 'HLA-DRA', 'SHISA5', 'CCL26', 'QPRT', 'MBD2', 'TNS1', 'SOAT1', 'CLDN7', 'NR1H2', 'CASP8', 'MEIS3P1', 'PPCS', 'MUC20', 'HIP1R', 'RNF19A', 'DDAH1', 'BTLA', 'ERP44', 'ORAI1', 'B3GALNT2', 'PREX2', 'SPTSSB', 'ST3GAL4', 'SLC51A', 'TYMP', 'RIC1', 'CTSC', 'IFI35', 'NQO1', 'P2RY1', 'TOM1L1', 'PKP2', 'PRADC1', 'WDR1', 'PTP4A1', 'SH3YL1', 'ANO6', 'KIAA1161', 'TARP', 'GALNT7', 'MRGPRF', 'REL', 'GPR108', 'CFB', 'C8orf4', 'CSRP2', 'KLRD1', 'TCF7L2', 'PSCA', 'IRF2', 'ESYT1', 'IFI44', 'SP1', 'PDIA6', 'ZDHHC18', 'PRSS23', 'MKNK2', 'PCMTD1', 'TMF1', 'IL7R', 'ECE1', 'NCEH1', 'TRIM21', 'LOC101927311', 'DMRT3', 'SLAMF6', 'CHST6', 'CLCA2', 'MOV10', 'UBE2E1', 'FOXN3', 'DACT2', 'ZC3HAV1', 'PNRC2', 'MYD88', 'LINC01207', 'FBXW5', 'MOXD1', 'COL6A6', 'ACTN4', 'ACOX3', 'SDR16C5', 'FAM129B', 'GCHFR', 'CLCNKB', 'TMEM47', 'CYP4F11', 'HNMT', 'EPAS1', 'CNPPD1', 'CMTM7', 'SCNN1A', 'SLC10A5', 'NOS2', 'PRKCH', 'ALDH3A2', 'EPSTI1', 'PTPRF', 'SLC35D1', 'CLEC2B', 'NDUFA4', 'STT3B', 'AKR1C3', 'PRICKLE2', 'KRTCAP2', 'MYH9', 'STK17B', 'CD63', 'IRAK4', 'TNFSF13B', 'RIOK3', 'NEAT1', 'ANO10', 'SLC39A11', 'IL10RA', 'ADAMTSL4', 'BIN2', 'ID2', 'TMEM109', 'GSDMD', 'IRF7', 'ACKR1', 'MEOX1', 'SGK3', 'PRKAA1', 'HDAC1', 'ARHGAP15', 'ATP1A1', 'AGTRAP', 'ANKRD36BP1', 'SCP2', 'CAPG', 'LIMK2', 'KLF2', 'ELK2AP', 'DENND2D', 'SLC33A1', 'ANKRD44', 'ELF3', 'MIR22HG', 'PLS1', 'STEAP2', 'IL10RB', 'SLC7A3', 'NBL1', 'HELZ2', 'ASL', 'ECHDC3', 'LRRK2', 'KIF21A', 'FAM120A', 'C4orf3', 'TFF3', 'PLEKHA2', 'TRIM16', 'CYP4X1', 'IFIT3', 'FMO6P', 'ASPH', 'THRB', 'PLA2G4A', 'GRHL2', 'PAX9', 'GPR174', 'TNN', 'NAT1', 'EPHA2', 'TMC6', 'TOR3A', 'ABLIM1', 'CRISPLD1', 'RASSF7', 'CD79A', 'TNFRSF1A', 'ZNF440', 'RNF149', 'HMCES', 'MYLK', 'MAN2B1', 'APH1A', 'RREB1', 'PDCD4', 'HMG20B', 'CD200R1', 'RAP1A', 'IFIT5', 'WBP1L', 'PRKCE', 'PRDM1', 'ATP6V0A4', 'HCAR2', 'PHC3', 'SEC61B', 'IL18RAP', 'ADIPOR1', 'SIX4', 'LOC730102', 'ETHE1', 'SMYD5', 'C21orf91', 'MFSD1', 'CD302', 'NUCB1', 'TINAGL1', 'P2RY10', 'SPG20', 'NOTCH2', 'ARHGEF1', 'ACOT9', 'PPARA', 'CNN2', 'ERGIC2', 'SYNPO2', 'RELB', 'TRIP6', 'TCF7', 'IFIT1', 'HLA-E', 'RIN2', 'SLC5A5', 'PCTP', 'TOB1', 'ILDR1', 'SNTB1', 'XKR8', 'GMPPA', 'GCA', 'B3GNT7', 'EHBP1L1', 'RPL36', 'FAM107B', 'CTNNBIP1', 'TMEM139', 'CP', 'BIRC3', 'BMPR1B', 'ARL1', 'SAMD3', 'ZDHHC9', 'ARF4', 'PGM5', 'PROSER2', 'SERPINB1', 'POLE4', 'ADORA2B', 'TNFAIP2', 'APLP2', 'ENPP3', 'SPDEF', 'SERPINB13', 'CHL1', 'ZBTB7C', 'SPINT1', 'DNAJC10', 'CD244', 'AGL', 'NR4A1', 'HPSE', 'FAT4', 'GPD2', 'TPST2', 'PTPN3', 'TGOLN2', 'RAP1GAP', 'ALG5', 'MUC5AC', 'KLHL6', 'MYO5B', 'KLHL21', 'SH3BP5', 'RTN4', 'ALDH3B1', 'IL2RG', 'CLU', 'SSR3', 'CYP39A1', 'TLR1', 'SELL', 'SPOPL', 'ENTPD8', 'MATN4', 'CREB3L4', 'C11orf24', 'RDH11', 'SLC41A2', 'IL32', 'CDC42SE1', 'MFSD5', 'GLUD1', 'IFI6', 'SORBS3', 'DGKH', 'ERLIN1', 'TRIM22', 'LOXL4', 'RNF168', 'IGFBP5', 'MYO1F', 'PIK3CB', 'CPEB2', 'BHLHE40', 'FGD2', 'ADGRL2', 'HNF4G', 'ABCA13', 'SURF4', 'TNRC18', 'MR1', 'LAMB3', 'SFRP2', 'CACNB4', 'GCSAM', 'TOR4A', 'EMP2', 'SCML4', 'XAF1', 'EBPL', 'ATP6V0A2', 'PQLC3', 'IRF8', 'SH2D3A', 'FYB', 'MGST3', 'SLC43A3', 'MAP3K5', 'RIPK2', 'BATF2', 'GPR15', 'MMRN1', 'NOD2', 'BCL10', 'PYHIN1', 'IQGAP1', 'CCR3', 'TSPAN12', 'FYCO1', 'CFH', 'CNOT11', 'STRN', 'DOCK10', 'LZTS2', 'FAM175B', 'PARP10', 'ADCY6', 'TMEM87A', 'PIEZO1', 'TUFT1', 'KDELC2', 'KLRF1', 'MAL', 'CTDSPL', 'LCP1', 'RAB8A', 'SH3TC1', 'NFIC', 'SLMAP', 'LCOR', 'DAPK1', 'EPPK1', 'CITED2', 'NMI', 'KIAA0922', 'FAM174B', 'HIST4H4', 'CLDN22', 'SLC6A6', 'CYBRD1', 'MAP3K14', 'CD22', 'MAPKAPK3', 'DDX60L', 'NUMB', 'LTBP1', 'PTPRJ', 'OXGR1', 'LDHA', 'AK3', 'S100A9', 'TSPO', 'SOX13', 'CAMK1D', 'SYNJ2', 'PPP3CA', 'EEF1B2', 'LMF1', 'ZNF518B', 'FNDC3A', 'PPP1R12B', 'P2RY2', 'ETV3', 'OST4', 'GIT2', 'CMAS', 'TRAF4', 'POLR2A', 'APOBEC3C', 'OS9', 'NPY5R', 'SAMHD1', 'ADTRP', 'CLIC6', 'CDC42EP5', 'CAV2', 'ADAM9', 'TLR2', 'SLC4A7', 'EEF2K', 'PRKCI', 'RASSF8', 'DUSP6', 'NFX1', 'PTPN6', 'TRIP10', 'SERPINB4', 'NADK', 'CRELD2', 'RRAS2', 'CKAP4', 'TOR1AIP1', 'WAS', 'AKR1C1', 'AHNAK2', 'SIX2', 'ITPRIPL2', 'MIA3', 'TRPV6', 'FMOD', 'PODN', 'SEC16A', 'SGMS1', 'RNPEP', 'GTF2B', 'GNPTAB', 'IL11RA', 'BAG1', 'HLA-DMB', 'CEBPD', 'RBBP8', 'KLF4', 'CHPF', 'PRDX6', 'VILL', 'FBXO6', 'MAFF', 'SH3RF1', 'LTB', 'SUMF1', 'TRIM25', 'HMGA1', 'MED21', 'WWP1', 'SRPRB', 'AK2', 'GJD3', 'SPAG1', 'GSTP1', 'LILRB1', 'IL13RA1', 'SELP', 'TMEM106A', 'PTAFR', 'CDC14B', 'CYTH4', 'SCPEP1', 'KIAA1551', 'SLC38A1', 'ERP29', 'SOWAHC', 'ZNF700', 'FURIN', 'SBSPON', 'MYSM1', 'ADGRE1', 'IL1RL1', 'NR4A3', 'COL7A1', 'ARL6IP5', 'CCNYL1', 'ACTG2', 'TMEM127', 'RBBP8NL', 'RAP2B', 'TMEM50A', 'MS4A1', 'ITSN2', 'SLC26A2', 'NOSTRIN', 'ANXA2', 'AJUBA', 'STX11', 'FAM110B', 'BTK', 'HPSE2', 'DTX4', 'ESRP1', 'GALM', 'HFE', 'TPT1-AS1', 'EEF1D', 'LARP4', 'ADRB2', 'S100A4', 'ISG15', 'LINC00861', 'DPY19L3', 'SCAF11', 'ODF3B', 'IRAK3', 'PRH2', 'PAX3', 'GLS', 'SMARCA2', 'RPN2', 'ADRA1A', 'CNTRL', 'PITPNC1', 'GALNT12', 'PDCD6IP', 'CDH3', 'ZDHHC20', 'VCAM1', 'AHR', 'PDE4D', 'DMRTA2', 'GPBP1L1', 'HELB', 'HIST2H2AC', 'KIAA0040', 'LRPAP1', 'ABI1', 'HID1', 'ANKRD27', 'ELF4', 'TBC1D8B', 'SLC20A2', 'CAB39', 'SH3KBP1', 'PDP1', 'SAMSN1', 'ETS2', 'CITED4', 'FAM160A1', 'PROM1', 'KLF8', 'NAPRT', 'TCN2', 'GRHPR', 'DPYS', 'STAT2', 'RNPEPL1', 'FMO1', 'CPEB3', 'FLNB', 'ID4', 'SLC18B1', 'ARSJ', 'PDZRN3', 'LMAN1', 'RIT1', 'SAA1', 'FREM3', 'USP15', 'HRH4', 'IL17RC', 'BMP3', 'PTPRU', 'CCDC60', 'PPTC7', 'MUC16', 'KDM3A', 'ATP2C2', 'LINC01279', 'HECTD3', 'PRKD1', 'IFI27', 'CYSLTR1', 'VASP', 'SAA2', 'RHBDF1', 'TRPS1', 'GOLGA4', 'DENND3', 'CD14', 'DOK2', 'GZMH', 'STAG1', 'TEP1', 'IL1RAP', 'CDC14A', 'CTSG', 'ZNF652', 'SDC1', 'RHBDD1', 'LAMP1', 'STOX1', 'ITGAX', 'TRIM5', 'ALDH1L2', 'ARHGAP23', 'CHMP2B', 'APBB1IP', 'TXK', 'STK17A', 'VOPP1', 'CFAP44', 'SNCAIP', 'COL15A1', 'CYFIP1', 'ALOX15', 'SPRY2', 'RPL35', 'XKRX', 'FHL2', 'BSPRY', 'LINC01554', 'TGFBR2', 'HIVEP2', 'PLCD3', 'PCDH18', 'PCYOX1', 'PLEK', 'PEX13', 'SOX2', 'CD40', 'VGLL3', 'EIF2AK2', 'RBMS1', 'CDV3', 'IQCB1', 'USP53', 'PCDH7', 'CD53', 'PTGFR', 'MCU', 'SEC24A', 'ITGB2', 'DDR1', 'UNC13D', 'FAM136A', 'GYG1', 'IRF9', 'SMAD9', 'PTPRZ1', 'VNN3', 'GAPT', 'COL9A2', 'SUMF2', 'IER3', 'NME2', 'UFM1', 'IL4R', 'NEDD9', 'TF', 'NOD1', 'PAWR', 'KRT17', 'SEPT10', 'ZNF552', 'LMOD1', 'SERTAD1', 'LAP3', 'RAB30', 'VGLL4', 'TMC5', 'PML', 'ADSS', 'BARX2', 'NDFIP2', 'FXYD3', 'NPC2', 'TMED9', 'SIPA1L3', 'RPL12', 'ECEL1', 'NR2F2', 'MLEC', 'FUCA2', 'CLMP', 'RNF19B', 'LCN15', 'RHPN2', 'RPL29', 'ARNTL2', 'HN1L', 'PEX2', 'MYL9', 'TTC39A', 'STK39', 'ST8SIA4', 'FAM78A', 'ACKR4', 'TAGAP', 'PRRX1', 'AOC3', 'CA2', 'ARHGAP12', 'ICAM1', 'VPS13D', 'MON2', 'TESC', 'RPL35A', 'PSME4', 'TMOD3', 'SLC37A2', 'DNAJC13', 'PRPS2', 'HPGD', 'FMNL1', 'NAMPT', 'TMEM102', 'SLC6A14', 'EFR3A', 'LY6D', 'QARS', 'FAM84A', 'ALDH1L1', 'DNPEP', 'NTN4', 'CD47', 'NRROS', 'S100A8', 'TNKS2', 'TNFRSF21', 'HCLS1', 'PEAR1', 'BAZ1A', 'TBC1D23', 'TLR6', 'COPB2', 'ZCCHC6', 'TRAFD1', 'TMEM2', 'RASL11A', 'RASA3', 'APOBEC3A', 'ITGA8', 'IMPG2', 'NAGK', 'IFITM3', 'SLC6A15', 'AFF1', 'PNPLA7', 'PLD4', 'PDGFRA', 'EDEM3', 'TWF1', 'WIPF1', 'MALT1', 'ST14', 'TMED5', 'SHC1', 'CYP2B6', 'PPP3R1', 'SLC25A43', 'TAC4', 'TPM3', 'PLXNA1', 'PHGDH', 'WARS', 'SERINC2', 'UTRN', 'SP3', 'CRTAP', 'ASRGL1', 'IL15RA', 'IBTK', 'CCDC93', 'JAK2', 'SLC24A3', 'PHLDA1', 'SYBU', 'COG3', 'SIK1', 'NFE2L3', 'CYP4B1', 'HLA-DPA1', 'PELI1', 'FMO2', 'TRAK1', 'TMEM219', 'BCL9L', 'ITM2B', 'PTPRK', 'APOL4', 'PLD1', 'OPTN', 'SFMBT1', 'THEMIS2', 'FER1L6', 'SLC44A2', 'TNFRSF1B', 'SOX21', 'ITGB2-AS1', 'RPS26', 'SLFN11', 'IL1R1', 'SYNE3', 'RHOQ', 'ADAMTSL1', 'SPOCK3', 'RHOC', 'SPATS2L', 'ASH1L', 'EEA1', 'ANO1', 'ABI3BP', 'SELPLG', 'SNCG', 'GSDMB', 'ALG2', 'ATF7', 'NCF4', 'MPZL1', 'MYH14', 'IL5RA', 'STK38L', 'RAC2', 'CCDC170', 'SMG1P3', 'BTN3A1', 'ADGRF1', 'CHST15', 'SERPINA1', 'CCNL1', 'C7', 'CLEC7A', 'GPR55', 'MYCBP2', 'HEBP2', 'NCOA7', 'PARP12', 'GPR65', 'SNX7', 'CD83', 'ALOX5AP', 'TM7SF3', 'IER2', 'C3orf58', 'GDE1', 'LILRB2', 'MARCH5', 'KITLG', 'TRERF1', 'DOCK11', 'VCL', 'GSTO1', 'TRAT1', 'LCP2', 'PTGS2', 'ITGB6', 'SLC7A2', 'FAM49A', 'FGR', 'TLL1', 'ITGA9', 'ATP11B', 'ADD3', 'P2RX7', 'TMEM200A', 'PLCB2', 'RYK', 'TMEM45A', 'RRAD', 'TBK1', 'GIMAP6', 'VAMP3', 'EPHB4', 'IRX5', 'ARAP2', 'ALG6', 'GIMAP7', 'CXCL2', 'BCAS1', 'FBXL3', 'PPP4R3B', 'HLA-DRB1', 'PSME2', 'ERGIC1', 'TMEM100', 'FMO3', 'CMTM8', 'ANK3', 'ANKRD13C', 'DLG3', 'ACTR3', 'CHST9', 'SPTLC2', 'AMOTL2', 'CEACAM5', 'PDLIM5', 'EIF4E3', 'PTK7', 'WNT5A', 'NEK7', 'FOSL2', 'DOCK1', 'GCH1', 'TLCD2', 'TBL1XR1', 'FDFT1', 'NACC2', 'ACSL3', 'C15orf39', 'UBXN2B', 'KAT2B', 'DNAH1', 'ADCY7', 'FAM83H', 'SNX4', 'ZNF644', 'GRAP2', 'LRP1', 'RALGPS2', 'NCKAP1L', 'PTHLH', 'DCBLD2', 'RNASEL', 'ARPC2', 'CPNE3', 'TGIF1', 'CYB5R1', 'DUSP5', 'NFIL3', 'FLI1', 'CCL2', 'LGALS12', 'NBEAL1', 'ACTA2', 'FHL1', 'BDH2', 'CCDC80', 'PRDX4', 'ZNF267', 'PARVA', 'BNC2', 'AEBP1', 'PDE7A', 'FUT4', 'MXD1', 'ICOS', 'PCBP1', 'LRRC59', 'PLAC8', 'SLC16A3', 'BTAF1', 'MSL2', 'LPAR3', 'TUBA1C', 'ACTR2', 'TET2', 'PTRF', 'MIER1', 'GCLM', 'VMO1', 'CHRM3', 'BTG1', 'CCR7', 'ZCCHC2', 'COL8A2', 'DHX58', 'ATP1B3', 'XPR1', 'LRRFIP1', 'SPTLC3', 'FERMT2', 'VEGFC', 'DYM', 'RUNX1', 'IL17RD', 'ARPC3', 'GUCY1A3', 'C16orf89', 'GIMAP2', 'RASSF2', 'SEC62', 'CCND2', 'PAIP2B', 'PRKAA2', 'LRRK1', 'MT1E', 'AIF1L', 'ERMP1', 'RIPK4', 'GALNT13', 'PPFIBP1', 'BACH2', 'CENPC', 'MOB1A', 'DDX60', 'TES', 'SFRP1', 'PAG1', 'LYPD2', 'CRYM', 'MBOAT1', 'MRAS', 'SEMA4D', 'SIRPA', 'SNTB2', 'IFI30', 'GALNT1', 'APOBEC3G', 'SERPINB9', 'ETV1', 'ATF3', 'EHD1', 'TPM2', 'TLR7', 'CAPN13', 'PRSS3', 'ROPN1', 'SERTAD2', 'PDK3', 'ARHGAP25', 'ZNF697', 'FCN1', 'CSF1', 'EPB41L4B', 'KIAA1217', 'RNF128', 'STOX2', 'RBBP9', 'PLAUR', 'SOX21-AS1', 'MUC13', 'PTPRE', 'TGM2', 'HCK', 'SCARA3', 'ITGB8', 'MOB1B', 'PCSK5', 'GDF15', 'ARHGEF6', 'CR1', 'CTNNAL1', 'DENND1B', 'LY6E', 'TRAF5', 'HLA-F', 'CYBB', 'CPXM1', 'STIM2', 'LST1', 'TMTC3', 'GIMAP4', 'ING5', 'TLE4', 'SGK1', 'KCNJ16', 'CLIC2', 'SOCS3', 'LGALS3BP', 'GJB2', 'UBE2L6', 'LMO7', 'GSTA2', 'CBS', 'PAK2', 'SACS', 'CHST2', 'C5orf58', 'RASSF3', 'IGFBP6', 'LAPTM4A', 'TRIB1', 'CLCA1', 'EMILIN2', 'ANPEP', 'ANKRD36C', 'WFDC21P', 'SNHG5', 'PGM2', 'NLRC5', 'CRISPLD2', 'STOM', 'PKP3', 'SAMD5', 'PLIN2', 'RGS6', 'MGAT4A', 'PDXDC2P', 'SEC24D', 'PDE11A', 'C16orf54', 'GFRA1', 'SAXO2', 'CLEC10A', 'ADAMTS1', 'PLCB1', 'ASTN1', 'SLC39A14', 'SKIL', 'PFKP', 'CYP4V2', 'PSMB9', 'DNAH10', 'CAV1', 'PIFO', 'NIN', 'TWIST1', 'ADAMTS9', 'LOC100190986']\n"
     ]
    }
   ],
   "source": [
    "common_ups = [] \n",
    "common_downs = []\n",
    "for i in edgeRups: \n",
    "        if i in cuffups: \n",
    "            common_ups.append(i)\n",
    "for i in edgeRdowns:\n",
    "        if i in cuffdowns:\n",
    "            common_downs.append(i)\n",
    "print (len(common_ups))\n",
    "print (len(common_downs))\n",
    "print (common_downs)"
   ]
  },
  {
   "cell_type": "code",
   "execution_count": null,
   "metadata": {
    "collapsed": true
   },
   "outputs": [],
   "source": []
  }
 ],
 "metadata": {
  "anaconda-cloud": {},
  "kernelspec": {
   "display_name": "Python [default]",
   "language": "python",
   "name": "python3"
  },
  "language_info": {
   "codemirror_mode": {
    "name": "ipython",
    "version": 3
   },
   "file_extension": ".py",
   "mimetype": "text/x-python",
   "name": "python",
   "nbconvert_exporter": "python",
   "pygments_lexer": "ipython3",
   "version": "3.5.2"
  }
 },
 "nbformat": 4,
 "nbformat_minor": 1
}
