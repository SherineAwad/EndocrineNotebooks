{
 "cells": [
  {
   "cell_type": "code",
   "execution_count": 1,
   "metadata": {
    "collapsed": true
   },
   "outputs": [],
   "source": [
    "import csv\n",
    "import sys\n",
    "import re\n",
    "import matplotlib.pyplot as plt\n",
    "import numpy as np"
   ]
  },
  {
   "cell_type": "code",
   "execution_count": 2,
   "metadata": {
    "collapsed": false
   },
   "outputs": [],
   "source": [
    "def load_edgeR(filename):\n",
    "    fp = open(filename, 'r')\n",
    "    r = csv.reader(fp, delimiter=',')\n",
    "    genes = []\n",
    "    fc = []\n",
    "    cpm = []\n",
    "    pvs = []\n",
    "    fdrs =[]\n",
    "    for n, row in enumerate(r):\n",
    "        if n == 0: \n",
    "                continue\n",
    "        genes.append(row[0])\n",
    "        fc.append(row[1])\n",
    "        cpm.append(row[2])\n",
    "        pvs.append(row[3])\n",
    "        fdrs.append(row[4])\n",
    "    return genes, fc, cpm, pvs, fdrs "
   ]
  },
  {
   "cell_type": "code",
   "execution_count": 3,
   "metadata": {
    "collapsed": true
   },
   "outputs": [],
   "source": [
    "def load_cuffdiff(filename):\n",
    "    fp = open(filename, 'r')\n",
    "    r = csv.reader(fp, delimiter='\\t')\n",
    "    genes = []\n",
    "    fc = []\n",
    "    qv = []\n",
    "    for n, row in enumerate(r):\n",
    "        if n == 0: \n",
    "                continue\n",
    "        genes.append(row[1])\n",
    "        fc.append(row[9])\n",
    "        qv.append(row[12])\n",
    "    return genes, fc, qv\n",
    " "
   ]
  },
  {
   "cell_type": "code",
   "execution_count": 4,
   "metadata": {
    "collapsed": false
   },
   "outputs": [
    {
     "name": "stdout",
     "output_type": "stream",
     "text": [
      "No. of up-regulated genes are: 5245\n",
      "No. of down-regulated genes are: 3969\n"
     ]
    }
   ],
   "source": [
    "edgeRgenes, edgeRfc,_,_, edgeRfdr = load_edgeR('dge-NCBI.csv')\n",
    "edgeRups = []\n",
    "edgeRdowns = []\n",
    "for i in range(0,len(edgeRfc)):\n",
    "        if ((float(edgeRfc[i])) >0 ) and (float(edgeRfdr[i]) <0.05) :\n",
    "                edgeRups.append(edgeRgenes[i])\n",
    "        elif ((float(edgeRfc[i])) <0 ) and (float(edgeRfdr[i]) <0.05) :\n",
    "                edgeRdowns.append(edgeRgenes[i])\n",
    "                \n",
    "print (\"No. of up-regulated genes are:\",len(edgeRups))\n",
    "print (\"No. of down-regulated genes are:\",len(edgeRdowns))\n"
   ]
  },
  {
   "cell_type": "code",
   "execution_count": 5,
   "metadata": {
    "collapsed": false
   },
   "outputs": [
    {
     "name": "stdout",
     "output_type": "stream",
     "text": [
      "No. of up-regulated genes are: 2252\n",
      "No. of down-regulated genes are: 2113\n"
     ]
    }
   ],
   "source": [
    "cuff_genes, cuff_fc, cuff_qv = load_cuffdiff('cuffdiff.csv')\n",
    "cuffups = []\n",
    "cuffdowns = []\n",
    "for i in range(0,len(cuff_fc)):\n",
    "        if ((float(cuff_fc[i])) >0 ) and (float(cuff_qv[i]) <0.05) :\n",
    "                cuffups.append(cuff_genes[i])\n",
    "        elif ((float(cuff_fc[i])) <0 ) and (float(cuff_qv[i]) <0.05) :\n",
    "                cuffdowns.append(cuff_genes[i])\n",
    "                \n",
    "print (\"No. of up-regulated genes are:\",len(cuffups))\n",
    "print (\"No. of down-regulated genes are:\",len(cuffdowns))"
   ]
  },
  {
   "cell_type": "code",
   "execution_count": 6,
   "metadata": {
    "collapsed": false
   },
   "outputs": [
    {
     "name": "stdout",
     "output_type": "stream",
     "text": [
      "i not sig in cuff but sig in edgeR: ADRBK2\n",
      "i not sig in cuff but sig in edgeR: C11orf73\n",
      "i not sig in cuff but sig in edgeR: C18orf42\n",
      "i not sig in cuff but sig in edgeR: C1orf95\n",
      "i not sig in cuff but sig in edgeR: CASC5\n",
      "i not sig in cuff but sig in edgeR: CCDC64\n",
      "i not sig in cuff but sig in edgeR: CLDN3\n",
      "i not sig in cuff but sig in edgeR: COLCA1\n",
      "i not sig in cuff but sig in edgeR: CRAMP1L\n",
      "i not sig in cuff but sig in edgeR: CSNK1E,LOC400927-CSNK1E\n",
      "i not sig in cuff but sig in edgeR: CSRP2BP\n",
      "i not sig in cuff but sig in edgeR: DNER\n",
      "i not sig in cuff but sig in edgeR: EYA4\n",
      "i not sig in cuff but sig in edgeR: FAM132B\n",
      "i not sig in cuff but sig in edgeR: FN1\n",
      "i not sig in cuff but sig in edgeR: FOXG1\n",
      "i not sig in cuff but sig in edgeR: FTSJ2\n",
      "i not sig in cuff but sig in edgeR: H2BFWT\n",
      "i not sig in cuff but sig in edgeR: KCNJ12,KCNJ18\n",
      "i not sig in cuff but sig in edgeR: KCNK1\n",
      "i not sig in cuff but sig in edgeR: KGFLP2\n",
      "i not sig in cuff but sig in edgeR: KIAA1279\n",
      "i not sig in cuff but sig in edgeR: KIAA1467\n",
      "i not sig in cuff but sig in edgeR: LINC01420\n",
      "i not sig in cuff but sig in edgeR: LOC100996291\n",
      "i not sig in cuff but sig in edgeR: LOC100996694\n",
      "i not sig in cuff but sig in edgeR: LOC644145\n",
      "i not sig in cuff but sig in edgeR: LOC728323\n",
      "i not sig in cuff but sig in edgeR: LOC729950\n",
      "i not sig in cuff but sig in edgeR: MIAT\n",
      "i not sig in cuff but sig in edgeR: NAV2-AS2\n",
      "i not sig in cuff but sig in edgeR: NGFRAP1\n",
      "i not sig in cuff but sig in edgeR: NHP2L1\n",
      "i not sig in cuff but sig in edgeR: PAK7\n",
      "i not sig in cuff but sig in edgeR: PCNXL3\n",
      "i not sig in cuff but sig in edgeR: PCNXL4\n",
      "i not sig in cuff but sig in edgeR: PKI55\n",
      "i not sig in cuff but sig in edgeR: PPP1R14C\n",
      "i not sig in cuff but sig in edgeR: PRDX5\n",
      "i not sig in cuff but sig in edgeR: PVRL1\n",
      "i not sig in cuff but sig in edgeR: PWARSN,SNORD107\n",
      "i not sig in cuff but sig in edgeR: SGOL1-AS1\n",
      "i not sig in cuff but sig in edgeR: SLMO2\n",
      "i not sig in cuff but sig in edgeR: SNORA34\n",
      "i not sig in cuff but sig in edgeR: SNORA76C\n",
      "i not sig in cuff but sig in edgeR: SNORD114-3\n",
      "i not sig in cuff but sig in edgeR: SNORD115-6\n",
      "i not sig in cuff but sig in edgeR: TM4SF19\n",
      "i not sig in cuff but sig in edgeR: TMEM180\n",
      "i not sig in cuff but sig in edgeR: TMEM246-AS1\n",
      "i not sig in cuff but sig in edgeR: ZNF831\n",
      "2201\n",
      "2045\n",
      "97.2737686139748\n",
      "97.73534635879219\n",
      "96.7818267865594\n",
      "0\n",
      "0\n"
     ]
    }
   ],
   "source": [
    "common_ups = [] \n",
    "common_downs = []\n",
    "for i in cuffups: \n",
    "        if i in edgeRups: \n",
    "            common_ups.append(i)\n",
    "    \n",
    "for j in cuffdowns:\n",
    "        if j in edgeRdowns:\n",
    "            common_downs.append(j)\n",
    "       \n",
    "for i in cuffups: \n",
    "    if i not in edgeRups:\n",
    "        print (\"i not sig in cuff but sig in edgeR:\", i)\n",
    "\n",
    "print (len(common_ups))\n",
    "print (len(common_downs))\n",
    "\n",
    "common_up_perc = len(common_ups)/len(cuffups) *100\n",
    "common_down_perc = len(common_downs)/len(cuffdowns) *100\n",
    "\n",
    "print(  (len(common_ups) + len(common_downs) ) / (len(cuffups) + len(cuffdowns)) *100) \n",
    "print (common_up_perc)\n",
    "print (common_down_perc)\n",
    "\n",
    "opp_ups = [] \n",
    "opp_downs = []\n",
    "for i in cuffups: \n",
    "        if i in edgeRdowns: \n",
    "            opp_ups.append(i)\n",
    "for i in cuffdowns:\n",
    "        if i in edgeRups:\n",
    "            opp_downs.append(i)\n",
    "print (len(opp_ups))\n",
    "print (len(opp_downs))\n"
   ]
  },
  {
   "cell_type": "code",
   "execution_count": null,
   "metadata": {
    "collapsed": true
   },
   "outputs": [],
   "source": []
  }
 ],
 "metadata": {
  "anaconda-cloud": {},
  "kernelspec": {
   "display_name": "Python [default]",
   "language": "python",
   "name": "python3"
  },
  "language_info": {
   "codemirror_mode": {
    "name": "ipython",
    "version": 3
   },
   "file_extension": ".py",
   "mimetype": "text/x-python",
   "name": "python",
   "nbconvert_exporter": "python",
   "pygments_lexer": "ipython3",
   "version": "3.5.2"
  }
 },
 "nbformat": 4,
 "nbformat_minor": 1
}
