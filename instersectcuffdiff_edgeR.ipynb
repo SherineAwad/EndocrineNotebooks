{
 "cells": [
  {
   "cell_type": "code",
   "execution_count": 6,
   "metadata": {
    "collapsed": true
   },
   "outputs": [],
   "source": [
    "import csv\n",
    "import sys\n",
    "import re\n",
    "import matplotlib.pyplot as plt\n",
    "import numpy as np"
   ]
  },
  {
   "cell_type": "code",
   "execution_count": 5,
   "metadata": {
    "collapsed": false
   },
   "outputs": [],
   "source": [
    "def load_edgeR(filename):\n",
    "    fp = open(filename, 'r')\n",
    "    r = csv.reader(fp, delimiter=',')\n",
    "    genes = []\n",
    "    fc = []\n",
    "    cpm = []\n",
    "    pvs = []\n",
    "    fdrs =[]\n",
    "    for n, row in enumerate(r):\n",
    "        if n == 0: \n",
    "                continue\n",
    "        genes.append(row[0])\n",
    "        fc.append(row[1])\n",
    "        cpm.append(row[2])\n",
    "        pvs.append(row[3])\n",
    "        fdrs.append(row[4])\n",
    "    return genes, fc, cpm, pvs, fdrs "
   ]
  },
  {
   "cell_type": "code",
   "execution_count": 4,
   "metadata": {
    "collapsed": true
   },
   "outputs": [],
   "source": [
    "def load_cuffdiff(filename):\n",
    "    fp = open(filename, 'r')\n",
    "    r = csv.reader(fp, delimiter='\\t')\n",
    "    genes = []\n",
    "    fc = []\n",
    "    qv = []\n",
    "    for n, row in enumerate(r):\n",
    "        if n == 0: \n",
    "                continue\n",
    "        genes.append(row[1])\n",
    "        fc.append(row[9])\n",
    "        qv.append(row[12])\n",
    "    return genes, fc, qv\n",
    " "
   ]
  },
  {
   "cell_type": "code",
   "execution_count": 36,
   "metadata": {
    "collapsed": false
   },
   "outputs": [
    {
     "name": "stdout",
     "output_type": "stream",
     "text": [
      "No. of up-regulated genes are: 2184\n",
      "No. of down-regulated genes are: 1573\n"
     ]
    }
   ],
   "source": [
    "edgeRgenes, edgeRfc,_,_, edgeRfdr = load_edgeR('dge-NCBI.csv')\n",
    "edgeRups = []\n",
    "edgeRdowns = []\n",
    "for i in range(0,len(edgeRfc)):\n",
    "        if ((float(edgeRfc[i])) >0 ) and (float(edgeRfdr[i]) <0.0001) :\n",
    "                edgeRups.append(edgeRgenes[i])\n",
    "        elif ((float(edgeRfc[i])) <0 ) and (float(edgeRfdr[i]) <0.0001) :\n",
    "                edgeRdowns.append(edgeRgenes[i])\n",
    "                \n",
    "print (\"No. of up-regulated genes are:\",len(edgeRups))\n",
    "print (\"No. of down-regulated genes are:\",len(edgeRdowns))\n"
   ]
  },
  {
   "cell_type": "code",
   "execution_count": 37,
   "metadata": {
    "collapsed": false
   },
   "outputs": [
    {
     "name": "stdout",
     "output_type": "stream",
     "text": [
      "No. of up-regulated genes are: 2252\n",
      "No. of down-regulated genes are: 2113\n"
     ]
    }
   ],
   "source": [
    "cuff_genes, cuff_fc, cuff_qv = load_cuffdiff('cuffdiff.csv')\n",
    "cuffups = []\n",
    "cuffdowns = []\n",
    "for i in range(0,len(cuff_fc)):\n",
    "        if ((float(cuff_fc[i])) >0 ) and (float(cuff_qv[i]) <0.05) :\n",
    "                cuffups.append(cuff_genes[i])\n",
    "        elif ((float(cuff_fc[i])) <0 ) and (float(cuff_qv[i]) <0.05) :\n",
    "                cuffdowns.append(cuff_genes[i])\n",
    "                \n",
    "print (\"No. of up-regulated genes are:\",len(cuffups))\n",
    "print (\"No. of down-regulated genes are:\",len(cuffdowns))"
   ]
  },
  {
   "cell_type": "code",
   "execution_count": 38,
   "metadata": {
    "collapsed": false
   },
   "outputs": [
    {
     "name": "stdout",
     "output_type": "stream",
     "text": [
      "1546\n",
      "1248\n",
      "68.65008880994672\n",
      "59.06294368196876\n"
     ]
    }
   ],
   "source": [
    "common_ups = [] \n",
    "common_downs = []\n",
    "for i in cuffups: \n",
    "        if i in edgeRups: \n",
    "            common_ups.append(i)\n",
    "for i in cuffdowns:\n",
    "        if i in edgeRdowns:\n",
    "            common_downs.append(i)\n",
    "print (len(common_ups))\n",
    "print (len(common_downs))\n",
    "\n",
    "common_up_perc = len(common_ups)/len(cuffups) *100\n",
    "common_down_perc = len(common_downs)/len(cuffdowns) *100\n",
    "print (common_up_perc)\n",
    "print (common_down_perc)"
   ]
  },
  {
   "cell_type": "code",
   "execution_count": null,
   "metadata": {
    "collapsed": true
   },
   "outputs": [],
   "source": []
  }
 ],
 "metadata": {
  "anaconda-cloud": {},
  "kernelspec": {
   "display_name": "Python [default]",
   "language": "python",
   "name": "python3"
  },
  "language_info": {
   "codemirror_mode": {
    "name": "ipython",
    "version": 3
   },
   "file_extension": ".py",
   "mimetype": "text/x-python",
   "name": "python",
   "nbconvert_exporter": "python",
   "pygments_lexer": "ipython3",
   "version": "3.5.2"
  }
 },
 "nbformat": 4,
 "nbformat_minor": 1
}
