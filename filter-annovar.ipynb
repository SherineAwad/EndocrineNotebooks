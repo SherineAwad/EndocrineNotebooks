{
 "cells": [
  {
   "cell_type": "code",
   "execution_count": null,
   "metadata": {
    "collapsed": false,
    "deletable": true,
    "editable": true
   },
   "outputs": [],
   "source": [
    "import csv\n",
    "import sys\n",
    "import re\n",
    "import matplotlib.pyplot as plt\n",
    "import numpy as np"
   ]
  },
  {
   "cell_type": "markdown",
   "metadata": {
    "deletable": true,
    "editable": true
   },
   "source": [
    "# Cutoff for rare variants "
   ]
  },
  {
   "cell_type": "code",
   "execution_count": 48,
   "metadata": {
    "collapsed": false,
    "deletable": true,
    "editable": true
   },
   "outputs": [],
   "source": [
    "cutoff  = 0.0000001"
   ]
  },
  {
   "cell_type": "code",
   "execution_count": null,
   "metadata": {
    "collapsed": false,
    "deletable": true,
    "editable": true
   },
   "outputs": [],
   "source": [
    "def writelist (mylist, myfile): \n",
    "    fp =  open(myfile,'a+')\n",
    "    for idx,item in enumerate(mylist):\n",
    "            fp.write(item)\n",
    "            fp.write('\\t')\n",
    "    fp.write('\\n')\n",
    "    fp.close()"
   ]
  },
  {
   "cell_type": "code",
   "execution_count": null,
   "metadata": {
    "collapsed": true,
    "deletable": true,
    "editable": true
   },
   "outputs": [],
   "source": [
    "def intersections(list1, list2):\n",
    "    intersection_list = []\n",
    "    for i in list1: \n",
    "        if i in list2: \n",
    "                intersection_list.append(i)\n",
    "    return intersection_list"
   ]
  },
  {
   "cell_type": "code",
   "execution_count": null,
   "metadata": {
    "collapsed": true,
    "deletable": true,
    "editable": true
   },
   "outputs": [],
   "source": [
    "def difference(list1, list2):\n",
    "    unique_list = []\n",
    "    for i in list1: \n",
    "        if i not in list2: \n",
    "                unique_list.append(i)\n",
    "    return unique_list"
   ]
  },
  {
   "cell_type": "code",
   "execution_count": null,
   "metadata": {
    "collapsed": true,
    "deletable": true,
    "editable": true
   },
   "outputs": [],
   "source": [
    "def exist (list1, list2): \n",
    "    found_list = []\n",
    "    for i in list1: \n",
    "            if i not in found_list: \n",
    "                    found_list.append(i)\n",
    "    for i in list2: \n",
    "            if i not in found_list: \n",
    "                    found_list.append(i)\n",
    "    return found_list "
   ]
  },
  {
   "cell_type": "markdown",
   "metadata": {
    "deletable": true,
    "editable": true
   },
   "source": [
    "# Read annovar annotation file"
   ]
  },
  {
   "cell_type": "code",
   "execution_count": null,
   "metadata": {
    "collapsed": true,
    "deletable": true,
    "editable": true
   },
   "outputs": [],
   "source": [
    " def load_annovar(filename):\n",
    "    rows = []\n",
    "    exacall = []\n",
    "    gnomall = []\n",
    "    rs = []\n",
    "    gene = []\n",
    "    pathogenics = []\n",
    "    functions = []\n",
    "    exonicfunctions =[]\n",
    "    fp = open(filename, 'r')\n",
    "    r = csv.reader(fp, delimiter='\\t')\n",
    "    for n, row in enumerate(r):\n",
    "        #rs ,pos,_,ensg,_, enst,_,_,_,_,_,_,_,impact =row[:14]\n",
    "        if n == 0: \n",
    "                #print(row[11])\n",
    "                #print(row[119])\n",
    "                #print(row[19])\n",
    "                #print(row[6])\n",
    "                #print (row[8])\n",
    "                #print(row[5])\n",
    "                #print(row[54])\n",
    "                continue\n",
    "        exonicfunctions.append(row[8])\n",
    "        exacall.append(row[11])\n",
    "        gnomall.append(row[119])\n",
    "        rs.append(row[19])\n",
    "        rows.append(row)\n",
    "        gene.append(row[6])\n",
    "        functions.append(row[5])\n",
    "        pathogenics.append(row[54])\n",
    "    #for i in exonicfunctions: \n",
    "            #print (i)\n",
    "    return rows, functions, exonicfunctions, rs, gene,  exacall , gnomall, pathogenics"
   ]
  },
  {
   "cell_type": "code",
   "execution_count": 45,
   "metadata": {
    "collapsed": false,
    "deletable": true,
    "editable": true
   },
   "outputs": [],
   "source": [
    "def load_WG_annovar(filename):\n",
    "    rows = []\n",
    "    exacall = []\n",
    "    gnomall = []\n",
    "    rs = []\n",
    "    gene = []\n",
    "    pathogenics = []\n",
    "    functions = []\n",
    "    exonicfunctions =[]\n",
    "    fp = open(filename, 'r')\n",
    "    r = csv.reader(fp, delimiter='\\t')\n",
    "    for n, row in enumerate(r):\n",
    "        if n != 0:\n",
    "                 #for i in range(0,163):\n",
    "                     #print(row[i], i)\n",
    "                 #continue\n",
    "            #print row[8], row[16], row[124], row[64], row[5]\n",
    "            exonicfunctions.append(row[5])\n",
    "            exacall.append(row[16])\n",
    "            gnomall.append(row[124])\n",
    "            rs.append(row[25])\n",
    "            rows.append(row)\n",
    "            gene.append(row[64])\n",
    "            functions.append(row[5])\n",
    "            pathogenics.append(row[59]) #Clinical Significance\n",
    "    return n,rows, functions,exonicfunctions, gene,exacall , gnomall,pathogenics\n",
    "    "
   ]
  },
  {
   "cell_type": "code",
   "execution_count": 46,
   "metadata": {
    "collapsed": false,
    "deletable": true,
    "editable": true
   },
   "outputs": [],
   "source": [
    "n,rows, functions,exonicfunctions, gene,exacall , gnomall,pathogenics = load_WG_annovar('f28m3.exonic.txt')\n",
    "#print n,rows, functions,exonicfunctions, gene,exacall , gnomall,pathogenics"
   ]
  },
  {
   "cell_type": "code",
   "execution_count": 50,
   "metadata": {
    "collapsed": false
   },
   "outputs": [
    {
     "name": "stdout",
     "output_type": "stream",
     "text": [
      "['1', '26608877', '26608877', 'G', 'A', 'exonic', 'UBXN11', '.', 'synonymous SNV', 'UBXN11:NM_001077262:exon11:c.C1116T:p.G372G,UBXN11:NM_145345:exon15:c.C1377T:p.G459G,UBXN11:NM_183008:exon16:c.C1476T:p.G492G', 'exonic', 'ENSG00000158062', '.', 'synonymous SNV', 'ENSG00000158062:ENST00000314675:exon11:c.C1116T:p.G372G,ENSG00000158062:ENST00000374223:exon12:c.C747T:p.G249G,ENSG00000158062:ENST00000357089:exon14:c.C1377T:p.G459G,ENSG00000158062:ENST00000374217:exon15:c.C1377T:p.G459G,ENSG00000158062:ENST00000374221:exon16:c.C1476T:p.G492G,ENSG00000158062:ENST00000374222:exon16:c.C1476T:p.G492G', '.', '0', '0', '0', '0', '0', '0', '0', '0', 'rs1134582', '.', '.', '.', '.', '.', '.', '.', '.', '.', '.', '.', '.', '.', '.', '.', '.', '.', '.', '.', '.', '.', '.', '.', '.', '.', '.', '.', '.', '.', '.', '.', '.', '.', '.', '.', '.', '.', '.', '.', '.', '.', '.', '.', '.', '.', '.', '.', '.', '.', '.', '.', '.', '.', '.', '.', '.', '.', '.', '.', '.', '.', '.', '.', '.', '.', '.', '.', '.', '.', '.', '.', '.', '.', '.', '.', '.', '.', '.', '.', '.', '.', '.', '.', '.', '.', '.', '.', '.', '.', '.', '.', '.', '.', '.', '.', '.', '.', '.', '.', '0.0002', '0.0012', '0.0002', '0', '9.03e-05', '0', '6.899e-05', '0', '7.543e-05', '.', 'Likely benign', '0', '0', '0', '0', '0', '0', '0', '0', '0', '0', '0', '0', '0', '0', '0', '0', '0', '0', '0', '0', '0', '0', '0', '0', '1', '0', '0', '1', '0.5', '4510.91', '16', '1', '26608877', '.', 'G', 'A', '4510.91', '.', 'ABHet=0.681;ABHom=0.966;AC=1;AF=0.313;AN=2;BaseQRankSum=-14.993;DP=1418;Dels=0.00;FS=1.572;HaplotypeScore=17.3401;InbreedingCoeff=-0.3358;MLEAC=50;MLEAF=0.321;MQ0=1;MQ=45.85;MQRankSum=-7.311;OND=0.015;QD=4.66;ReadPosRankSum=2.224;SOR=0.489', 'GT:AD:DP:GQ:PL', '0/1:14,2:16:15:15,0,389']\n",
      "['1', '152084480', '152084480', 'G', 'C', 'exonic', 'TCHH', '.', 'nonsynonymous SNV', 'TCHH:NM_007113:exon3:c.C1213G:p.Q405E', 'exonic', 'ENSG00000159450', '.', 'nonsynonymous SNV', 'ENSG00000159450:ENST00000368804:exon2:c.C1213G:p.Q405E', '.', '0', '0', '0', '0', '0', '0', '0', '0', 'rs750461738', '0.0', 'D', '0.03', 'B', '0.008', 'B', '.', '.', '1', 'N', '0', 'N', '3.35', 'T', '-0.42', 'N', '0.129', '-0.853', '0.033', '0.518', '0.047', 'N', '-0.928', 'T', '0.003', 'T', '0.598', '0', '-0.47', '0.913', '-2.484', '0.326', '0.002', '12.649', '.', '.', '.', '.', '.', '.', '.', '.', '.', '.', '.', '.', '.', '.', '.', '.', '.', '.', '.', '.', '.', '.', '.', '.', '.', '.', '.', '.', '.', '.', '.', '.', '.', '.', '.', '.', '.', '.', '.', '.', '.', '.', '.', '.', '.', '.', '.', '.', '.', '.', '.', '.', '.', '.', '.', '.', '.', '.', '.', '.', '.', '.', '.', '.', '.', '5.734e-05', '0.0002', '0', '0', '0.0003', '0', '0', '0', '0', '0.027', 'Uncertain significance', '0', '0', '0', '0', '0', '0', '0', '0', '0', '0', '0', '0', '0', '0', '0', '0', '0', '0', '0', '0', '0', '0', '0', '0', '1', '0', '0', '0', '0.5', '75.98', '6', '1', '152084480', '.', 'G', 'C', '75.98', '.', 'ABHet=0.904;ABHom=0.994;AC=1;AF=0.063;AN=2;BaseQRankSum=-2.535;DP=5714;Dels=0.00;FS=2.996;HaplotypeScore=6.4779;InbreedingCoeff=-0.0670;MLEAC=6;MLEAF=0.038;MQ0=2214;MQ=32.33;MQRankSum=-0.095;OND=5.693e-03;QD=0.12;ReadPosRankSum=1.428;SOR=2.129', 'GT:AD:DP:GQ:PL', '0/1:4,2:6:53:53,0,58']\n",
      "['1', '152084485', '152084485', 'C', 'A', 'exonic', 'TCHH', '.', 'nonsynonymous SNV', 'TCHH:NM_007113:exon3:c.G1208T:p.R403L', 'exonic', 'ENSG00000159450', '.', 'nonsynonymous SNV', 'ENSG00000159450:ENST00000368804:exon2:c.G1208T:p.R403L', '.', '0', '0', '0', '0', '0', '0', '0', '0', 'rs758702690', '0.0', 'D', '0.001', 'B', '0.002', 'B', '.', '.', '1', 'N', '0', 'N', '2.95', 'T', '-1.22', 'N', '0.125', '1.261', '12.07', '0.860', '0.031', 'N', '-0.916', 'T', '0.004', 'T', '0.598', '0', '-3.38', '0.868', '-0.103', '0.215', '0.005', '3.349', '.', '.', '.', '.', '.', '.', '.', '.', '.', '.', '.', '.', '.', '.', '.', '.', '.', '.', '.', '.', '.', '.', '.', '.', '.', '.', '.', '.', '.', '.', '.', '.', '.', '.', '.', '.', '.', '.', '.', '.', '.', '.', '.', '.', '.', '.', '.', '.', '.', '.', '.', '.', '.', '.', '.', '.', '.', '.', '.', '.', '.', '.', '.', '.', '.', '.', '.', '.', '.', '.', '.', '.', '.', '.', '0.002', 'Uncertain significance', '0', '0', '0', '0', '0', '0', '0', '0', '0', '0', '0', '0', '0', '0', '0', '0', '0', '0', '0', '0', '0', '0', '0', '0', '1', '0', '0', '0', '0.5', '143.80', '5', '1', '152084485', '.', 'C', 'A', '143.80', '.', 'ABHet=0.918;ABHom=0.996;AC=1;AF=0.063;AN=2;BaseQRankSum=3.334;DP=5576;Dels=0.00;FS=3.032;HaplotypeScore=6.9462;InbreedingCoeff=0.1946;MLEAC=9;MLEAF=0.058;MQ0=2230;MQ=31.31;MQRankSum=0.310;OND=3.896e-03;QD=0.25;ReadPosRankSum=-0.855;SOR=3.816', 'GT:AD:DP:GQ:PL', '0/1:3,2:5:44:55,0,44']\n",
      "['1', '152084488', '152084488', 'C', 'T', 'exonic', 'TCHH', '.', 'nonsynonymous SNV', 'TCHH:NM_007113:exon3:c.G1205A:p.R402K', 'exonic', 'ENSG00000159450', '.', 'nonsynonymous SNV', 'ENSG00000159450:ENST00000368804:exon2:c.G1205A:p.R402K', '.', '0', '0', '0', '0', '.', '0', '0', '0', 'rs766485249', '0.0', 'D', '0.005', 'B', '0.002', 'B', '.', '.', '1', 'N', '0', 'N', '3.44', 'T', '-0.1', 'N', '0.085', '0.484', '7.304', '0.949', '0.020', 'N', '-0.915', 'T', '0.002', 'T', '0.598', '0', '-1.73', '0.031', '-0.669', '0.045', '0.008', '3.717', '.', '.', '.', '.', '.', '.', '.', '.', '.', '.', '.', '.', '.', '.', '.', '.', '.', '.', '.', '.', '.', '.', '.', '.', '.', '.', '.', '.', '.', '.', '.', '.', '.', '.', '.', '.', '.', '.', '.', '.', '.', '.', '.', '.', '.', '.', '.', '.', '.', '.', '.', '.', '.', '.', '.', '.', '.', '.', '.', '.', '.', '.', '.', '.', '.', '.', '.', '.', '.', '.', '.', '.', '.', '.', '0.003', 'Uncertain significance', '0', '0', '0', '0', '0', '0', '0', '0', '0', '0', '0', '0', '0', '0', '0', '0', '0', '0', '0', '0', '0', '0', '0', '0', '1', '0', '0', '0', '0.5', '93.13', '5', '1', '152084488', '.', 'C', 'T', '93.13', '.', 'ABHet=0.884;ABHom=0.996;AC=1;AF=0.063;AN=2;BaseQRankSum=-3.354;DP=5687;Dels=0.00;FS=3.099;HaplotypeScore=6.1810;InbreedingCoeff=0.1962;MLEAC=5;MLEAF=0.032;MQ0=2231;MQ=32.11;MQRankSum=-0.586;OND=3.404e-03;QD=0.38;ReadPosRankSum=1.244;SOR=3.979', 'GT:AD:DP:GQ:PL', '0/1:3,2:5:49:51,0,49']\n",
      "['1', '167288257', '167288257', 'T', 'A', 'intronic', 'POU2F1', '.', '.', '.', 'exonic', 'ENSG00000143190', '.', 'nonsynonymous SNV', 'ENSG00000143190:ENST00000442313:exon3:c.T169A:p.F57I', '.', '0', '.', '.', '.', '.', '0', '.', '.', 'rs34077204', '.', '.', '.', '.', '.', '.', '.', '.', '.', '.', '.', '.', '.', '.', '.', '.', '.', '.', '.', '.', '.', '.', '.', '.', '.', '.', '.', '.', '.', '.', '.', '.', '.', '.', '.', '.', '.', '.', '.', '.', '.', '.', '.', '.', '.', '.', '.', '.', '.', '.', '.', '.', '.', '.', '.', '.', '.', '.', '.', '.', '.', '.', '.', '.', '.', '.', '.', '.', '.', '.', '.', '.', '.', '.', '.', '.', '.', '.', '.', '.', '.', '.', '.', '.', '.', '.', '.', '.', '.', '.', '.', '.', '.', '.', '.', '.', '.', '.', '.', '0', '0', '0', '0', '.', '.', '0', '0', '0', '.', '.', '.', '.', '.', '.', '.', '.', '.', '.', '.', '.', '.', '.', '.', '.', '.', '.', '.', '.', '.', '.', '.', '.', '.', '.', '.', '.', '.', '.', '1', '77.82', '1', '1', '167288257', '.', 'T', 'A', '77.82', '.', 'ABHom=1.00;AC=2;AF=0.083;AN=2;BaseQRankSum=-1.472;DP=148;Dels=0.00;FS=6.656;HaplotypeScore=0.1289;InbreedingCoeff=0.1909;MLEAC=3;MLEAF=0.030;MQ0=0;MQ=59.33;MQRankSum=0.503;QD=19.46;ReadPosRankSum=0.349;SOR=0.240', 'GT:AD:DP:GQ:PL', '1/1:0,1:1:3:36,3,0']\n",
      "['1', '204120953', '204120953', 'G', 'T', 'exonic', 'ETNK2', '.', 'nonsynonymous SNV', 'ETNK2:NM_001297760:exon1:c.C28A:p.P10T,ETNK2:NM_001297762:exon1:c.C28A:p.P10T,ETNK2:NM_018208:exon1:c.C28A:p.P10T', 'exonic', 'ENSG00000143845', '.', 'nonsynonymous SNV', 'ENSG00000143845:ENST00000367201:exon1:c.C28A:p.P10T,ENSG00000143845:ENST00000367202:exon1:c.C28A:p.P10T', '.', '0', '0', '0', '0', '0', '0', '0', '0', 'rs772697570', '0.015', 'D', '0.476', 'P', '0.402', 'B', '.', '.', '1', 'D', '1.1', 'L', '0.49', 'T', '-0.84', 'N', '0.165', '3.204', '22.7', '0.996', '0.149', 'N', '-0.807', 'T', '0.153', 'T', '0.726', '0', '3.04', '0.805', '0.800', '0.612', '0.390', '11.952', '.', '.', '.', '.', '.', '.', '.', '.', '.', '.', '.', '.', '.', '.', '.', '.', '.', '.', '.', '.', '.', '.', '.', '.', '.', '.', '.', '.', '.', '.', '.', '.', '.', '.', '.', '.', '.', '.', '.', '.', '.', '.', '.', '.', '.', '.', '.', '.', '.', '.', '.', '.', '.', '.', '.', '.', '.', '.', '.', '.', '.', '.', '.', '.', '.', '0.0003', '0', '0.0004', '0.0005', '0', '0', '0.0005', '0.0006', '0', '0.055', 'Uncertain significance', '0', '0', '0', '0', '0', '0', '0', '0', '0', '0', '0', '0', '0', '0', '0', '0', '0', '0', '0', '0', '0', '0', '0', '0', '0', '0', '0', '0', '0.5', '1997.63', '3', '1', '204120953', '.', 'G', 'T', '1997.63', '.', 'ABHet=0.421;ABHom=0.999;AC=1;AF=0.013;AN=2;BaseQRankSum=-11.004;DP=2561;Dels=0.00;FS=0.000;HaplotypeScore=2.0039;InbreedingCoeff=-0.0322;MLEAC=2;MLEAF=0.014;MQ0=0;MQ=58.48;MQRankSum=1.459;OND=5.493e-04;QD=11.68;ReadPosRankSum=0.463;SOR=0.975', 'GT:AD:DP:GQ:PL', '0/1:1,2:3:29:39,0,29']\n",
      "['1', '240371250', '240371250', 'A', 'T', 'exonic', 'FMN2', '.', 'synonymous SNV', 'FMN2:NM_020066:exon5:c.A3138T:p.P1046P,FMN2:NM_001305424:exon6:c.A3150T:p.P1050P', 'exonic', 'ENSG00000155816', '.', 'synonymous SNV', 'ENSG00000155816:ENST00000319653:exon5:c.A3138T:p.P1046P', '.', '0', '0', '0', '0', '0', '0', '0', '0', 'rs530821922', '.', '.', '.', '.', '.', '.', '.', '.', '.', '.', '.', '.', '.', '.', '.', '.', '.', '.', '.', '.', '.', '.', '.', '.', '.', '.', '.', '.', '.', '.', '.', '.', '.', '.', '.', '.', '.', '.', '.', '.', '.', '.', '.', '.', '.', '.', '.', '.', '.', '.', '.', '.', '.', '.', '.', '.', '.', '.', '.', '.', '.', '.', '.', '.', '.', '.', '.', '.', '.', '.', '.', '.', '.', '.', '.', '.', '.', '.', '.', '.', '.', '.', '.', '.', '.', '.', '.', '.', '.', '.', '.', '.', '.', '.', '.', '.', '.', '.', '.', '0.0006', '0.0070', '0.0001', '0.0009', '0.0011', '0.0002', '0.0002', '0.0013', '0.0007', '.', 'Likely benign', '0', '0', '0', '0', '0', '0', '1', '0', '0', '0', '0', '0', '0', '0', '0', '0', '0', '0', '0', '0', '0', '0', '0', '0', '1', '0', '0', '1', '0.5', '1088.85', '3', '1', '240371250', '.', 'A', 'T,C', '1088.85', '.', 'AC=1,0;AF=0.135,0.176;AN=2;BaseQRankSum=-4.199;DP=1298;Dels=0.00;FS=2.152;HaplotypeScore=5.6906;InbreedingCoeff=-0.4102;MLEAC=13,21;MLEAF=0.087,0.140;MQ0=344;MQ=28.65;MQRankSum=1.734;QD=1.62;ReadPosRankSum=-0.843;SOR=0.358', 'GT:AD:DP:GQ:PL', '0/1:2,0,1:3:18:27,30,51,0,21,18']\n",
      "['3', '75787424', '75787424', 'C', 'G', 'exonic', 'ZNF717', '.', 'synonymous SNV', 'ZNF717:NM_001128223:exon5:c.G1350C:p.P450P,ZNF717:NM_001290208:exon5:c.G1350C:p.P450P,ZNF717:NM_001290209:exon5:c.G1200C:p.P400P,ZNF717:NM_001324027:exon5:c.G1350C:p.P450P', 'exonic', 'ENSG00000227124', '.', 'synonymous SNV', 'ENSG00000227124:ENST00000478296:exon4:c.G1200C:p.P400P,ENSG00000227124:ENST00000400845:exon5:c.G1329C:p.P443P,ENSG00000227124:ENST00000422325:exon5:c.G1350C:p.P450P', '.', '0', '0', '0', '0', '0', '0', '0', '0', 'rs62250109', '.', '.', '.', '.', '.', '.', '.', '.', '.', '.', '.', '.', '.', '.', '.', '.', '.', '.', '.', '.', '.', '.', '.', '.', '.', '.', '.', '.', '.', '.', '.', '.', '.', '.', '.', '.', '.', '.', '.', '.', '.', '.', '.', '.', '.', '.', '.', '.', '.', '.', '.', '.', '.', '.', '.', '.', '.', '.', '.', '.', '.', '.', '.', '.', '.', '.', '.', '.', '.', '.', '.', '.', '.', '.', '.', '.', '.', '.', '.', '.', '.', '.', '.', '.', '.', '.', '.', '.', '.', '.', '.', '.', '.', '.', '.', '.', '.', '.', '.', '0.0524', '0.0466', '0.0703', '0.0185', '0.1083', '0.0063', '0.0523', '0.0958', '0.0493', '.', 'Likely benign', '0', '0', '0', '0', '0', '0', '0', '0', '0', '0', '0', '0', '0', '0', '0', '0', '0', '0', '0', '0', '0', '0', '0', '0', '1', '0', '0', '1', '1', '88.97', '10', '3', '75787424', '.', 'C', 'G', '88.97', '.', 'ABHom=0.880;AC=2;AF=0.182;AN=2;BaseQRankSum=3.269;DP=1546;Dels=0.00;FS=0.000;HaplotypeScore=0.3693;InbreedingCoeff=0.5855;MLEAC=7;MLEAF=0.125;MQ0=984;MQ=16.12;MQRankSum=-1.357;OND=0.187;QD=1.33;ReadPosRankSum=-0.413;SOR=4.162', 'GT:AD:DP:GQ:PL', '1/1:8,2:10:3:33,3,0']\n",
      "['3', '195514645', '195514645', 'T', 'C', 'exonic', 'MUC4', '.', 'nonsynonymous SNV', 'MUC4:NM_018406:exon2:c.A3806G:p.D1269G', 'exonic', 'ENSG00000145113', '.', 'nonsynonymous SNV', 'ENSG00000145113:ENST00000462323:exon2:c.A3806G:p.D1269G,ENSG00000145113:ENST00000463781:exon2:c.A3806G:p.D1269G,ENSG00000145113:ENST00000466475:exon2:c.A3806G:p.D1269G,ENSG00000145113:ENST00000470451:exon2:c.A3806G:p.D1269G,ENSG00000145113:ENST00000475231:exon2:c.A3806G:p.D1269G,ENSG00000145113:ENST00000477086:exon2:c.A3806G:p.D1269G,ENSG00000145113:ENST00000477756:exon2:c.A3806G:p.D1269G,ENSG00000145113:ENST00000478156:exon2:c.A3806G:p.D1269G,ENSG00000145113:ENST00000479406:exon2:c.A3806G:p.D1269G,ENSG00000145113:ENST00000480843:exon2:c.A3806G:p.D1269G', '.', '0', '0', '0', '.', '0', '0', '0', '0', 'rs748071998', '0.082', 'T', '0.544', 'P', '0.095', 'B', '.', '.', '1', 'N', '0', 'N', '1.49', 'T', '-0.23', 'N', '0.07', '-0.856', '0.032', '0.962', '0.008', 'N', '-1.028', 'T', '0.028', 'T', '0.554', '0', '0.312', '-0.613', '-1.224', '0.001', '0.001', '5.037', '.', '.', '.', '.', '.', '.', '.', '.', '.', '.', '.', '.', '.', '.', '.', '.', '.', '.', '.', '.', '.', '.', '.', '.', '.', '.', '.', '.', '.', '.', '.', '.', '.', '.', '.', '.', '.', '.', '.', '.', '.', '.', '.', '.', '.', '.', '.', '.', '.', '.', '.', '.', '.', '.', '.', '.', '.', '.', '.', '.', '.', '.', '.', '.', '.', '5.026e-05', '0', '0', '0.0012', '0', '0', '6.696e-05', '0', '0', '0.007', 'Uncertain significance', '0', '0', '0', '0', '0', '0', '0', '0', '0', '0', '0', '0', '0', '0', '0', '0', '0', '0', '0', '0', '0', '0', '0', '0', '1', '0', '0', '0', '1', '173.85', '2', '3', '195514645', '.', 'T', 'C', '173.85', '.', 'ABHet=0.958;ABHom=0.966;AC=2;AF=0.071;AN=2;BaseQRankSum=2.399;DP=4375;Dels=0.00;FS=3.725;HaplotypeScore=0.7030;InbreedingCoeff=0.0278;MLEAC=8;MLEAF=0.108;MQ0=4257;MQ=4.64;MQRankSum=-0.709;OND=0.042;QD=0.52;ReadPosRankSum=-0.667;SOR=1.666', 'GT:AD:DP:GQ:PL', '1/1:1,1:2:3:33,3,0']\n",
      "['3', '195514646', '195514646', 'C', 'T', 'exonic', 'MUC4', '.', 'nonsynonymous SNV', 'MUC4:NM_018406:exon2:c.G3805A:p.D1269N', 'exonic', 'ENSG00000145113', '.', 'nonsynonymous SNV', 'ENSG00000145113:ENST00000462323:exon2:c.G3805A:p.D1269N,ENSG00000145113:ENST00000463781:exon2:c.G3805A:p.D1269N,ENSG00000145113:ENST00000466475:exon2:c.G3805A:p.D1269N,ENSG00000145113:ENST00000470451:exon2:c.G3805A:p.D1269N,ENSG00000145113:ENST00000475231:exon2:c.G3805A:p.D1269N,ENSG00000145113:ENST00000477086:exon2:c.G3805A:p.D1269N,ENSG00000145113:ENST00000477756:exon2:c.G3805A:p.D1269N,ENSG00000145113:ENST00000478156:exon2:c.G3805A:p.D1269N,ENSG00000145113:ENST00000479406:exon2:c.G3805A:p.D1269N,ENSG00000145113:ENST00000480843:exon2:c.G3805A:p.D1269N', '.', '0', '0', '0', '.', '0', '0', '0', '0', 'rs370164286', '0.1', 'T', '0.116', 'B', '0.003', 'B', '.', '.', '1', 'N', '0', 'N', '1.52', 'T', '-0.17', 'N', '0.033', '-0.687', '0.077', '0.908', '0.001', 'N', '-1.024', 'T', '0.028', 'T', '0.554', '0', '-0.624', '-0.269', '0.150', '0.003', '0.002', '2.825', '.', '.', '.', '.', '.', '.', '.', '.', '.', '.', '.', '.', '.', '.', '.', '.', '.', '.', '.', '.', '.', '.', '.', '.', '.', '.', '.', '.', '.', '.', '.', '.', '.', '.', '.', '.', '.', '.', '.', '.', '.', '.', '.', '.', '.', '.', '.', '.', '.', '.', '.', '.', '.', '.', '.', '.', '.', '.', '.', '.', '.', '.', '.', '.', '.', '2.334e-05', '0', '0', '0', '0', '0', '6.228e-05', '0', '0', '0.049', 'Uncertain significance', '0', '0', '0', '0', '0', '0', '0', '0', '0', '0', '0', '0', '0', '0', '0', '0', '0', '0', '0', '0', '0', '0', '0', '0', '1', '0', '0', '0', '1', '170.56', '2', '3', '195514646', '.', 'C', 'T', '170.56', '.', 'ABHet=0.953;ABHom=0.965;AC=2;AF=0.075;AN=2;BaseQRankSum=2.101;DP=4352;Dels=0.00;FS=7.410;HaplotypeScore=0.8724;InbreedingCoeff=0.0422;MLEAC=8;MLEAF=0.111;MQ0=4233;MQ=4.66;MQRankSum=-0.767;OND=0.044;QD=0.51;ReadPosRankSum=-0.456;SOR=2.964', 'GT:AD:DP:GQ:PL', '1/1:1,1:2:3:32,3,0']\n",
      "['3', '195515008', '195515008', 'C', 'G', 'exonic', 'MUC4', '.', 'nonsynonymous SNV', 'MUC4:NM_018406:exon2:c.G3443C:p.G1148A', 'exonic', 'ENSG00000145113', '.', 'nonsynonymous SNV', 'ENSG00000145113:ENST00000462323:exon2:c.G3443C:p.G1148A,ENSG00000145113:ENST00000463781:exon2:c.G3443C:p.G1148A,ENSG00000145113:ENST00000466475:exon2:c.G3443C:p.G1148A,ENSG00000145113:ENST00000470451:exon2:c.G3443C:p.G1148A,ENSG00000145113:ENST00000475231:exon2:c.G3443C:p.G1148A,ENSG00000145113:ENST00000477086:exon2:c.G3443C:p.G1148A,ENSG00000145113:ENST00000477756:exon2:c.G3443C:p.G1148A,ENSG00000145113:ENST00000478156:exon2:c.G3443C:p.G1148A,ENSG00000145113:ENST00000479406:exon2:c.G3443C:p.G1148A,ENSG00000145113:ENST00000480843:exon2:c.G3443C:p.G1148A', '.', '0', '0', '0', '0', '0', '0', '0', '0', 'rs201451131', '1.0', 'T', '0.544', 'P', '0.095', 'B', '.', '.', '1', 'N', '0.55', 'N', '1.48', 'T', '-0.2', 'N', '0.106', '-1.298', '0.005', '0.870', '0.002', 'N', '-1.041', 'T', '0.031', 'T', '0.554', '0', '-0.689', '0.330', '0.380', '0.036', '0.023', '1.564', '.', '.', '.', '.', '.', '.', '.', '.', '.', '.', '.', '.', '.', '.', '.', '.', '.', '.', '.', '.', '.', '.', '.', '.', '.', '.', '.', '.', '.', '.', '.', '.', '.', '.', '.', '.', '.', '.', '.', '.', '.', '.', '.', '.', '.', '.', '.', '.', '.', '.', '.', '.', '.', '.', '.', '.', '.', '.', '.', '.', '.', '.', '.', '.', '.', '0.0336', '0.0113', '0.0260', '0.0203', '0.1883', '0.0139', '0.0340', '0.0445', '0.0209', '0.008', 'Benign', '0', '0', '0', '0', '0', '0', '0', '0', '0', '0', '0', '0', '0', '0', '0', '0', '1', '1', '0', '0', '0', '0', '0', '0', '1', '0', '0', '0', '0.5', '4129.56', '3', '3', '195515008', '.', 'C', 'G', '4129.56', '.', 'ABHet=0.811;ABHom=0.982;AC=1;AF=0.256;AN=2;BaseQRankSum=0.575;DP=5432;Dels=0.00;FS=0.000;HaplotypeScore=18.9157;InbreedingCoeff=-0.3874;MLEAC=29;MLEAF=0.193;MQ0=758;MQ=40.50;MQRankSum=-10.011;OND=0.012;QD=1.82;ReadPosRankSum=-19.874;SOR=0.914', 'GT:AD:DP:GQ:PL', '0/1:2,1:3:27:27,0,27']\n",
      "['6', '15546294', '15546294', 'C', '-', 'intronic', 'DTNBP1', '.', '.', '.', 'exonic', 'ENSG00000047579', '.', 'frameshift deletion', 'ENSG00000047579:ENST00000355917:exon7:c.493delG:p.E165fs', '.', '0', '0', '0', '0', '0', '0', '0', '0', 'rs376058274', '.', '.', '.', '.', '.', '.', '.', '.', '.', '.', '.', '.', '.', '.', '.', '.', '.', '.', '.', '.', '.', '.', '.', '.', '.', '.', '.', '.', '.', '.', '.', '.', '.', '.', '.', '.', '.', '.', '.', '.', '.', '.', '.', '.', '.', '.', '.', '.', '.', '.', '.', '.', '.', '.', '.', '.', '.', '.', '.', '.', '.', '.', '.', '.', '.', '.', '.', '.', '.', '.', '.', '.', '.', '.', '.', '.', '.', '.', '.', '.', '.', '.', '.', '.', '.', '.', '.', '.', '.', '.', '.', '.', '.', '.', '.', '.', '.', '.', '.', '0.0002', '0', '0', '0', '0', '0', '0.0005', '0.0004', '0.0003', '.', '.', '.', '.', '.', '.', '.', '.', '.', '.', '.', '.', '.', '.', '.', '.', '.', '.', '.', '.', '.', '.', '.', '.', '.', '.', '.', '.', '.', '.', '0.5', '1755.10', '20', '6', '15546293', '.', 'TC', 'T', '1755.10', '.', 'AC=1;AF=0.231;AN=2;BaseQRankSum=-22.834;DP=3009;FS=194.612;InbreedingCoeff=-0.3500;MLEAC=42;MLEAF=0.284;MQ0=0;MQ=44.86;MQRankSum=-7.591;QD=0.93;ReadPosRankSum=1.268;SOR=10.583', 'GT:AD:DP:GQ:PL', '0/1:9,4:20:23:23,0,256']\n",
      "['6', '32551959', '32551959', 'C', 'G', 'exonic', 'HLA-DRB1', '.', 'nonsynonymous SNV', 'HLA-DRB1:NM_002124:exon2:c.G297C:p.Q99H', 'exonic', 'ENSG00000196126', '.', 'nonsynonymous SNV', 'ENSG00000196126:ENST00000360004:exon2:c.G297C:p.Q99H', '.', '0', '0', '0', '0', '0', '0', '0', '0', 'rs17879599', '0.003', 'D', '0.194', 'B', '0.065', 'B', '0.000', 'N', '1', 'N', '2.6', 'M', '7.89', 'T', '-2.41', 'N', '0.561', '-0.161', '1.318', '0.764', '0.009', 'N', '-0.994', 'T', '0.000', 'T', '0.628', '0', '-6.44', '-0.554', '-1.761', '0.001', '0.000', '4.526', '.', '.', '.', '.', '.', '.', '.', '.', '.', '.', '.', '.', '.', '.', '.', '.', '.', '.', '.', '.', '.', '.', '.', '.', '.', '.', '.', '.', '.', '.', '.', '.', '.', '.', '.', '.', '.', '.', '.', '.', '.', '.', '.', '.', '.', '.', '.', '.', '.', '.', '.', '.', '.', '.', '.', '.', '.', '.', '.', '.', '.', '.', '.', '.', '.', '0', '0', '0', '0', '0', '0', '0', '0', '0', '0.217', 'Benign', '0', '0', '0', '0', '0', '1', '0', '0', '0', '0', '0', '0', '0', '0', '0', '0', '1', '1', '0', '0', '0', '0', '0', '0', '1', '0', '0', '0', '0.5', '1223.13', '2', '6', '32551959', '.', 'C', 'G', '1223.13', '.', 'ABHet=0.493;ABHom=0.999;AC=1;AF=0.227;AN=2;BaseQRankSum=-5.936;DP=1257;Dels=0.00;FS=5.801;HaplotypeScore=1.9904;InbreedingCoeff=0.0986;MLEAC=23;MLEAF=0.311;MQ0=8;MQ=55.36;MQRankSum=-9.948;OND=2.079e-03;QD=11.54;ReadPosRankSum=0.420;SOR=3.040', 'GT:AD:DP:GQ:PL', '0/1:1,1:2:16:16,0,27']\n",
      "13 Done\n"
     ]
    }
   ],
   "source": [
    "#for i in range(0, len(pathogenics)) : \n",
    "     #   if 'athogenic' in pathogenics[i]: \n",
    "         #    print exacall[i], i\n",
    "                \n",
    "count = 0 \n",
    "for i in range(0,len(exacall)): \n",
    "        if exacall[i]!= '.': # and gnomall[i]!='.': \n",
    "                if (float(exacall[i]) < cutoff): #or (float(gnomall[i]) < cutoff): \n",
    "                          print rows[i]\n",
    "                          count  +=1 \n",
    "print count, 'Done'"
   ]
  },
  {
   "cell_type": "markdown",
   "metadata": {
    "deletable": true,
    "editable": true
   },
   "source": [
    "# Familly F28 rare MAF"
   ]
  },
  {
   "cell_type": "code",
   "execution_count": null,
   "metadata": {
    "collapsed": false,
    "deletable": true,
    "editable": true
   },
   "outputs": [],
   "source": [
    "rows, functions,exfunc, rs,gene, exacall, gnomall, pathogenics = load_annovar('f28m1.hg19_multianno.txt')\n",
    "count = 0\n",
    "outfile = 'f28m1-anno-ref.hg19_multianno.txt'\n",
    "f28m1_raremaf_genes = []\n",
    "f28m1_variants = []\n",
    "for i in range(0,len(exacall) ): \n",
    "    if (gnomall[i] != '.') and (exacall[i] !='.'):\n",
    "        if   (float(gnomall[i]) < cutoff) and (float(exacall[i]) < cutoff) and functions[i] =='exonic': \n",
    "            count += 1 \n",
    "            writelist(rows[i], outfile)\n",
    "            print(rs[i], gene[i], exacall[i],gnomall[i])\n",
    "            if gene[i] not in f28m1_raremaf_genes: \n",
    "                    f28m1_raremaf_genes.append(gene[i])\n",
    "            var = rs[i]+'.'+gene[i]\n",
    "            if var not in f28m1_variants: \n",
    "                    f28m1_variants.append(var)\n",
    "    elif (gnomall[i] == '.') and (exacall[i] != '.') and (float(exacall[i]) < cutoff) and functions[i] =='exonic':\n",
    "            count += 1 \n",
    "            writelist(rows[i], outfile)\n",
    "            print(rs[i], gene[i], exacall[i],gnomall[i])\n",
    "            if gene[i] not in f28m1_raremaf_genes: \n",
    "                    f28m1_raremaf_genes.append(gene[i])\n",
    "            var = rs[i]+'.'+gene[i]\n",
    "            if var not in f28m1_variants: \n",
    "                    f28m1_variants.append(var)\n",
    " \n",
    "    elif (exacall[i] =='.') and (gnomall[i] != '.') and (float (gnomall[i]) < cutoff) and functions[i] =='exonic':\n",
    "            count += 1 \n",
    "            writelist(rows[i], outfile)\n",
    "            print(rs[i], gene[i], exacall[i],gnomall[i])\n",
    "            if gene[i] not in  f28m1_raremaf_genes: \n",
    "                     f28m1_raremaf_genes.append(gene[i])\n",
    "            var = rs[i]+'.'+gene[i]\n",
    "            if var not in f28m1_variants: \n",
    "                    f28m1_variants.append(var)\n",
    "print ('Number of variants with gnomall and exac <', cutoff, 'is:',count)\n",
    "print (f28m1_raremaf_genes)\n",
    "\n",
    "#===================================================M2 \n",
    "rows, functions,exfunc, rs,gene, exacall, gnomall, pathogenics = load_annovar('f28m3.hg19_multianno.txt')\n",
    "count = 0\n",
    "outfile = 'f28m3.raremaf.filtered.txt'\n",
    "f28m3_raremaf_genes = []\n",
    "f28m3_variants = []\n",
    "for i in range(0,len(exacall) ): \n",
    "    if (gnomall[i] != '.') and (exacall[i] !='.'):\n",
    "        if   (float(gnomall[i])  < cutoff) and (float(exacall[i]) < cutoff) and functions[i] =='exonic': \n",
    "            count += 1 \n",
    "            writelist(rows[i], outfile)\n",
    "            print(rs[i], gene[i], exacall[i],gnomall[i])\n",
    "            var = rs[i]+gene[i]\n",
    "            if var not in f28m3_variants: \n",
    "                    f28m3_variants.append(var)\n",
    "            if gene[i] not in f28m3_raremaf_genes: \n",
    "                    f28m3_raremaf_genes.append(gene[i])\n",
    "    elif (gnomall[i] == '.') and (exacall[i] != '.') and (float(exacall[i]) < cutoff) and functions[i] =='exonic':\n",
    "            count += 1 \n",
    "            writelist(rows[i], outfile)\n",
    "            print(rs[i], gene[i], exacall[i],gnomall[i])\n",
    "            if gene[i] not in f28m3_raremaf_genes: \n",
    "                    f28m3_raremaf_genes.append(gene[i])\n",
    "            var = rs[i]+gene[i]\n",
    "            if var not in f28m3_variants: \n",
    "                    f28m3_variants.append(var)\n",
    "    elif (exacall[i] =='.') and (gnomall[i] != '.') and (float (gnomall[i]) < cutoff) and functions[i] =='exonic':\n",
    "            count += 1 \n",
    "            writelist(rows[i], outfile)\n",
    "            print(rs[i], gene[i], exacall[i],gnomall[i])\n",
    "            if gene[i] not in f28m3_raremaf_genes: \n",
    "                    f28m3_raremaf_genes.append(gene[i])\n",
    "            var = rs[i]+'.'+gene[i]\n",
    "            if var not in f28m3_variants: \n",
    "                    f28m3_variants.append(var)\n",
    "\n",
    "print ('Number of variants with gnomall and exac <', cutoff, 'is:',count)\n",
    "print (f28m3_raremaf_genes)"
   ]
  },
  {
   "cell_type": "markdown",
   "metadata": {
    "deletable": true,
    "editable": true
   },
   "source": [
    "# Familly F366 rare MAF"
   ]
  },
  {
   "cell_type": "code",
   "execution_count": null,
   "metadata": {
    "collapsed": false,
    "deletable": true,
    "editable": true
   },
   "outputs": [],
   "source": [
    "rows, functions,exfunc, rs,gene, exacall, gnomall, pathogenics = load_annovar('f366m1-anno-ref.hg19_multianno.txt')\n",
    "count = 0\n",
    "outfile = 'f366m1-anno-ref.hg19_multianno.txt'\n",
    "f366m1_raremaf_genes = []\n",
    "f366m1_variants = []\n",
    "for i in range(0,len(exacall) ): \n",
    "    if (gnomall[i] != '.') and (exacall[i] !='.'):\n",
    "        if   (float(gnomall[i]) < cutoff) and (float(exacall[i]) < cutoff) and functions[i] =='exonic': \n",
    "            count += 1 \n",
    "            writelist(rows[i], outfile)\n",
    "            print(rs[i], gene[i], exacall[i],gnomall[i])\n",
    "            if gene[i] not in f366m1_raremaf_genes: \n",
    "                    f366m1_raremaf_genes.append(gene[i])\n",
    "            var = rs[i]+'.'+gene[i]\n",
    "            if var not in f366m1_variants: \n",
    "                    f366m1_variants.append(var)\n",
    "    elif (gnomall[i] == '.') and (exacall[i] != '.') and (float(exacall[i]) < cutoff) and functions[i] =='exonic':\n",
    "            count += 1 \n",
    "            writelist(rows[i], outfile)\n",
    "            print(rs[i], gene[i], exacall[i],gnomall[i])\n",
    "            if gene[i] not in f366m1_raremaf_genes: \n",
    "                    f366m1_raremaf_genes.append(gene[i])\n",
    "            var = rs[i]+'.'+gene[i]\n",
    "            if var not in f366m1_variants: \n",
    "                    f366m1_variants.append(var)\n",
    " \n",
    "    elif (exacall[i] =='.') and (gnomall[i] != '.') and (float (gnomall[i]) < cutoff) and functions[i] =='exonic':\n",
    "            count += 1 \n",
    "            writelist(rows[i], outfile)\n",
    "            print(rs[i], gene[i], exacall[i],gnomall[i])\n",
    "            if gene[i] not in  f366m1_raremaf_genes: \n",
    "                     f366m1_raremaf_genes.append(gene[i])\n",
    "            var = rs[i]+'.'+gene[i]\n",
    "            if var not in f366m1_variants: \n",
    "                    f366m1_variants.append(var)\n",
    "print ('Number of variants with gnomall and exac <', cutoff, 'is:',count)\n",
    "print (f366m1_raremaf_genes)\n",
    "\n",
    "#===================================================M2 \n",
    "rows, functions,exfunc, rs,gene, exacall, gnomall, pathogenics = load_annovar('f366m2-anno-ref.hg19_multianno.txt')\n",
    "count = 0\n",
    "outfile = 'f366m2.raremaf.filtered.txt'\n",
    "f366m2_raremaf_genes = []\n",
    "f366m2_variants = []\n",
    "for i in range(0,len(exacall) ): \n",
    "    if (gnomall[i] != '.') and (exacall[i] !='.'):\n",
    "        if   (float(gnomall[i])  < cutoff) and (float(exacall[i]) < cutoff) and functions[i] =='exonic': \n",
    "            count += 1 \n",
    "            writelist(rows[i], outfile)\n",
    "            print(rs[i], gene[i], exacall[i],gnomall[i])\n",
    "            var = rs[i]+gene[i]\n",
    "            if var not in f366m2_variants: \n",
    "                    f366m2_variants.append(var)\n",
    "            if gene[i] not in f366m2_raremaf_genes: \n",
    "                    f366m2_raremaf_genes.append(gene[i])\n",
    "    elif (gnomall[i] == '.') and (exacall[i] != '.') and (float(exacall[i]) < cutoff) and functions[i] =='exonic':\n",
    "            count += 1 \n",
    "            writelist(rows[i], outfile)\n",
    "            print(rs[i], gene[i], exacall[i],gnomall[i])\n",
    "            if gene[i] not in f366m2_raremaf_genes: \n",
    "                    f366m2_raremaf_genes.append(gene[i])\n",
    "            var = rs[i]+gene[i]\n",
    "            if var not in f366m2_variants: \n",
    "                    f366m2_variants.append(var)\n",
    "    elif (exacall[i] =='.') and (gnomall[i] != '.') and (float (gnomall[i]) < cutoff) and functions[i] =='exonic':\n",
    "            count += 1 \n",
    "            writelist(rows[i], outfile)\n",
    "            print(rs[i], gene[i], exacall[i],gnomall[i])\n",
    "            if gene[i] not in f366m2_raremaf_genes: \n",
    "                    f366m2_raremaf_genes.append(gene[i])\n",
    "            var = rs[i]+'.'+gene[i]\n",
    "            if var not in f366m2_variants: \n",
    "                    f366m2_variants.append(var)\n",
    "\n",
    "print ('Number of variants with gnomall and exac <', cutoff, 'is:',count)\n",
    "print (f366m2_raremaf_genes)"
   ]
  },
  {
   "cell_type": "markdown",
   "metadata": {
    "deletable": true,
    "editable": true
   },
   "source": [
    "# Common Variants between F366 M1 and M2 rare MAF"
   ]
  },
  {
   "cell_type": "code",
   "execution_count": null,
   "metadata": {
    "collapsed": false,
    "deletable": true,
    "editable": true
   },
   "outputs": [],
   "source": [
    "f366m1_m2 = intersections(f366m1_raremaf_genes,f366m2_raremaf_genes)\n",
    "print(f366m1_m2)"
   ]
  },
  {
   "cell_type": "markdown",
   "metadata": {
    "deletable": true,
    "editable": true
   },
   "source": [
    "# F366 M1 and M2 Pathogenic"
   ]
  },
  {
   "cell_type": "code",
   "execution_count": null,
   "metadata": {
    "collapsed": false,
    "deletable": true,
    "editable": true
   },
   "outputs": [],
   "source": [
    "rows, functions,exfunc, rs,gene, exacall, gnomall, pathogenics = load_annovar('f366m1-anno-ref.hg19_multianno.txt')\n",
    "count = 0\n",
    "f366m1_pathogenic_genes = []\n",
    "for i in range(0,len(exacall) ): \n",
    "    if 'athogenic' in pathogenics[i]: \n",
    "        if (exacall[i] == '.') or( float(exacall[i]) < cutoff) or (gnomall[i] =='.') or (float(gnomall[i]) < cutoff):\n",
    "            count += 1 \n",
    "            writelist(rows[i], 'f366m1.pathogenics.filtered.txt')\n",
    "            print(rs[i], gene[i], exacall[i],gnomall[i], pathogenics[i])\n",
    "            if gene[i] not in f366m1_pathogenic_genes:\n",
    "                    f366m1_pathogenic_genes.append(gene[i])\n",
    "print ('Number of variants that are rare and pathogenic cutoff <', cutoff, 'is:',count)\n",
    "print (f366m1_pathogenic_genes)\n",
    "#=====================================================M3\n",
    "rows, functions,exfunc, rs,gene, exacall, gnomall, pathogenics = load_annovar('f366m2-anno-ref.hg19_multianno.txt')\n",
    "count = 0\n",
    "f366m2_pathogenic_genes = []\n",
    "for i in range(0,len(exacall) ): \n",
    "    if 'athogenic' in pathogenics[i]: \n",
    "        if (exacall[i] == '.') or (float(exacall[i]) < cutoff) or (gnomall[i] =='.') or (float(gnomall[i]) < cutoff):\n",
    "            count += 1 \n",
    "            writelist(rows[i], 'f366m2.pathogenics.filtered.txt')\n",
    "            print(rs[i], gene[i], exacall[i],gnomall[i], pathogenics[i])\n",
    "            if gene[i] not in f366m2_pathogenic_genes:\n",
    "                    f366m2_pathogenic_genes.append(gene[i])\n",
    "print ('Number of variants that are rare and pathogenic cutoff <', cutoff, 'is:',count)\n",
    "print (f366m2_pathogenic_genes)"
   ]
  },
  {
   "cell_type": "markdown",
   "metadata": {
    "deletable": true,
    "editable": true
   },
   "source": [
    "# F366 pathogenic variants common between M1 and M2"
   ]
  },
  {
   "cell_type": "code",
   "execution_count": null,
   "metadata": {
    "collapsed": false,
    "deletable": true,
    "editable": true
   },
   "outputs": [],
   "source": [
    "f366m1_m2_pathogenic_genes = intersections(f366m1_pathogenic_genes, f366m2_pathogenic_genes)\n",
    "print(f366m1_m2_pathogenic_genes)"
   ]
  },
  {
   "cell_type": "markdown",
   "metadata": {
    "deletable": true,
    "editable": true
   },
   "source": [
    "# F366 M1 and M2 no MAF analysis "
   ]
  },
  {
   "cell_type": "code",
   "execution_count": null,
   "metadata": {
    "collapsed": false,
    "deletable": true,
    "editable": true
   },
   "outputs": [],
   "source": [
    "rows, functions,exfunc, rs,gene, exacall, gnomall, pathogenics = load_annovar('f366m1-anno-ref.hg19_multianno.txt')\n",
    "count = 0\n",
    "f366m1_nomafs_genes = []\n",
    "f366m1_nomafvariants = [] \n",
    "for i in range(0,len(exacall) ): \n",
    "    if (exacall[i] == '.') and (gnomall[i] =='.') and functions[i] =='exonic':\n",
    "            count += 1 \n",
    "            writelist(rows[i], 'f366m1.filtered.noMafs.txt')\n",
    "            #print(rs[i], gene[i], exacall[i],gnomall[i])\n",
    "            if gene[i] not in f366m1_nomafs_genes:\n",
    "                    f366m1_nomafs_genes.append(gene[i])\n",
    "            var = rs[i]+'.'+gene[i]\n",
    "            if var not in f366m1_nomafvariants: \n",
    "                    f366m1_nomafvariants.append(var)\n",
    "print ('Number of variants with no MAf in both exacall and gnomAD <', cutoff, 'is:',count)\n",
    "print (f366m1_nomafs_genes)\n",
    "#===========================================M3\n",
    "rows, functions,exfunc, rs,gene, exacall, gnomall, pathogenics = load_annovar('f366m2-anno-ref.hg19_multianno.txt')\n",
    "count = 0\n",
    "f366m2_nomafs_genes = []\n",
    "f366m2_nomafvariants = []\n",
    "for i in range(0,len(exacall) ): \n",
    "    if (exacall[i] == '.') and (gnomall[i] =='.') and functions[i] =='exonic':\n",
    "            count += 1 \n",
    "            writelist(rows[i], 'f366m2.filtered.noMafs.txt')\n",
    "            #print(rs[i], gene[i], exacall[i],gnomall[i])\n",
    "            if gene[i] not in f366m2_nomafs_genes:\n",
    "                    f366m2_nomafs_genes.append(gene[i])\n",
    "            var = rs[i]+'.'+gene[i]\n",
    "            if var not in f366m2_nomafvariants: \n",
    "                    f366m2_nomafvariants.append(var)\n",
    "            \n",
    "print ('Number of variants with no MAf in both exacall and gnomAD <', cutoff, 'is:',count)\n",
    "print (f366m2_nomafs_genes)"
   ]
  },
  {
   "cell_type": "markdown",
   "metadata": {
    "deletable": true,
    "editable": true
   },
   "source": [
    "# F366 common no MAFs between M1 and M2"
   ]
  },
  {
   "cell_type": "code",
   "execution_count": null,
   "metadata": {
    "collapsed": false,
    "deletable": true,
    "editable": true
   },
   "outputs": [],
   "source": [
    "f366m1_m2_nomafs_genes = difference(f366m1_nomafs_genes, f366m2_nomafs_genes)\n",
    "print(f366m1_m2_nomafs_genes)"
   ]
  },
  {
   "cell_type": "markdown",
   "metadata": {
    "deletable": true,
    "editable": true
   },
   "source": [
    "# SP82"
   ]
  },
  {
   "cell_type": "markdown",
   "metadata": {
    "deletable": true,
    "editable": true
   },
   "source": [
    "# General Analysis "
   ]
  },
  {
   "cell_type": "code",
   "execution_count": null,
   "metadata": {
    "collapsed": false,
    "deletable": true,
    "editable": true
   },
   "outputs": [],
   "source": [
    "rows, functions,exfunc, rs,gene, exacall, gnomall, pathogenics= load_annovar('82-anno-ref.hg19_multianno.txt')\n",
    "c_exonic = 0\n",
    "c_intronic = 0\n",
    "c_intergenic = 0\n",
    "count = 0\n",
    "stats = {'.':0,'nonsynonymous SNV':0,'synonymous SNV':0,'nonframeshift insertion':0,'nonframeshift deletion':0,'frameshift deletion':0,'stoploss':0,'unknown':0,'stopgain':0,'frameshift insertion':0}\n",
    "for i in range(0,len(exacall) ): \n",
    "    if exacall[i] != '.' and float(exacall[i]) <= 0.01 : \n",
    "            if functions[i] == 'exonic':\n",
    "                    c_exonic +=1 \n",
    "            if functions[i] == 'intronic':\n",
    "                    c_intronic +=1 \n",
    "            if functions[i] == 'intergenic':\n",
    "                    c_intergenic +=1\n",
    "            count += 1 \n",
    "            stats[exfunc[i]] +=1\n",
    "            #writelist(rows[i], '82-exac.txt')\n",
    "            #print(rs[i], gene[i], functions[i], exacall[i],gnomall[i])\n",
    "labels = ['Exonic','Intronic','Intergenic','Other']\n",
    "values = [] \n",
    "values.append(c_exonic) \n",
    "values.append(c_intronic)\n",
    "values.append(c_intergenic)\n",
    "values.append(count - (c_exonic +c_intronic +c_intergenic)) \n",
    "cmap = plt.cm.prism\n",
    "colors = ['#7b76ab','#b4aeeb','#DB7093','#70a2e3']\n",
    "\n",
    "patches, texts, autotexts= plt.pie(values, labels=labels, colors =colors, autopct='%1.1f%%', labeldistance=1.05,\n",
    "        shadow=False, startangle=180)\n",
    "for i in autotexts:\n",
    "    i.set_fontsize(8.5)\n",
    "plt.axis('equal')\n",
    "plt.savefig('82.raremaf.png')\n",
    "plt.show()\n",
    "\n",
    "labels = []\n",
    "values = []\n",
    "for i in  stats.keys(): \n",
    "    labels.append(i)\n",
    "for i in stats.values():\n",
    "    values.append(i)\n",
    "colors = ['#7b76ab','#DB7093','lightsteelblue','#b4aeeb','r','#20B2AA','#8FC730','#00FFFF','orange','#483D8B']\n",
    "patches, texts = plt.pie(values,colors =colors,shadow=False, startangle=180)\n",
    "plt.legend(patches,labels, bbox_to_anchor=(0.00, 1))\n",
    "\n",
    "plt.axis('equal')\n",
    " \n",
    "plt.savefig('82.exonic.png')\n",
    "plt.show()\n",
    "     \n",
    "     "
   ]
  },
  {
   "cell_type": "markdown",
   "metadata": {
    "deletable": true,
    "editable": true
   },
   "source": [
    "# SP82 Rely on MAF analysis "
   ]
  },
  {
   "cell_type": "code",
   "execution_count": null,
   "metadata": {
    "collapsed": false,
    "deletable": true,
    "editable": true
   },
   "outputs": [],
   "source": [
    "rows, functions,exfunc, rs,gene, exacall, gnomall, pathogenics = load_annovar('82-anno-ref.hg19_multianno.txt')\n",
    "count = 0\n",
    "outfile = '82.raremaf.filtered.txt'\n",
    "eighty2_raremaf_genes = []\n",
    "for i in range(0,len(exacall) ): \n",
    "    if (gnomall[i] != '.') and (exacall[i] !='.'):\n",
    "        if   (float(gnomall[i])  < cutoff) and (float(exacall[i]) < cutoff) and functions[i] =='exonic': \n",
    "            count += 1 \n",
    "            writelist(rows[i], outfile)\n",
    "            print(rs[i], gene[i], exacall[i],gnomall[i])\n",
    "            if gene[i] not in eighty2_raremaf_genes: \n",
    "                    eighty2_raremaf_genes.append(gene[i])\n",
    "    elif (gnomall[i] == '.') and (exacall[i] != '.') and (float(exacall[i]) < cutoff) and functions[i] =='exonic':\n",
    "            count += 1 \n",
    "            writelist(rows[i], outfile)\n",
    "            print(rs[i], gene[i], exacall[i],gnomall[i])\n",
    "            if gene[i] not in eighty2_raremaf_genes: \n",
    "                    eighty2_raremaf_genes.append(gene[i])\n",
    "    elif (exacall[i] =='.') and (gnomall[i] != '.') and (float (gnomall[i]) < cutoff) and functions[i] =='exonic':\n",
    "            count += 1 \n",
    "            writelist(rows[i], outfile)\n",
    "            print(rs[i], gene[i], exacall[i],gnomall[i])\n",
    "            if gene[i] not in eighty2_raremaf_genes: \n",
    "                    eighty2_raremaf_genes.append(gene[i])\n",
    "\n",
    "print ('Number of variants with rare MAF in gnomall and exac <', cutoff, 'is:',count)\n",
    "print (eighty2_raremaf_genes)"
   ]
  },
  {
   "cell_type": "markdown",
   "metadata": {
    "deletable": true,
    "editable": true
   },
   "source": [
    "# '.' Mafs in both gnomAD and ExAC"
   ]
  },
  {
   "cell_type": "code",
   "execution_count": null,
   "metadata": {
    "collapsed": false,
    "deletable": true,
    "editable": true
   },
   "outputs": [],
   "source": [
    "rows, functions,exfunc, rs,gene, exacall, gnomall, pathogenics = load_annovar('82-anno-ref.hg19_multianno.txt')\n",
    "count = 0\n",
    "eighty2_nomafs_genes = []\n",
    "for i in range(0,len(exacall) ): \n",
    "    if (exacall[i] == '.') and (gnomall[i] =='.') and functions[i] =='exonic':\n",
    "            count += 1 \n",
    "            writelist(rows[i], '82.noMafs.filtered.txt')\n",
    "            print(rs[i], gene[i], exacall[i],gnomall[i])\n",
    "            if gene[i] not in eighty2_nomafs_genes:\n",
    "                    eighty2_nomafs_genes.append(gene[i])\n",
    "print ('Number of variants with no MAf in both exacall and gnomAD <', cutoff, 'is:',count)\n",
    "print (eighty2_nomafs_genes)"
   ]
  },
  {
   "cell_type": "markdown",
   "metadata": {
    "deletable": true,
    "editable": true
   },
   "source": [
    "# SP82 Working with Pathogenics "
   ]
  },
  {
   "cell_type": "code",
   "execution_count": null,
   "metadata": {
    "collapsed": false,
    "deletable": true,
    "editable": true
   },
   "outputs": [],
   "source": [
    "rows, functions,exfunc, rs,gene, exacall, gnomall, pathogenics = load_annovar('82-anno-ref.hg19_multianno.txt')\n",
    "count = 0\n",
    "eighty2_pathogenics_genes = []\n",
    "for i in range(0,len(exacall) ): \n",
    "    if 'athogenic' in pathogenics[i]: \n",
    "        if (exacall[i] == '.' or float(exacall[i]) < cutoff) or (gnomall[i] =='.' or float(gnomall[i]) < cutoff):\n",
    "            count += 1 \n",
    "            writelist(rows[i], '82.pathogenics.filtered.txt')\n",
    "            print(rs[i], gene[i], exacall[i],gnomall[i], pathogenics[i])\n",
    "            if gene[i] not in eighty2_pathogenics_genes:\n",
    "                    eighty2_pathogenics_genes.append(gene[i])\n",
    "print ('Number of variants that are rare and pathogenic cutoff <', cutoff, 'is:',count)\n",
    "print (eighty2_pathogenics_genes)"
   ]
  },
  {
   "cell_type": "markdown",
   "metadata": {
    "deletable": true,
    "editable": true
   },
   "source": [
    "# Patient 74"
   ]
  },
  {
   "cell_type": "markdown",
   "metadata": {
    "deletable": true,
    "editable": true
   },
   "source": [
    "# Relying on MAF"
   ]
  },
  {
   "cell_type": "code",
   "execution_count": null,
   "metadata": {
    "collapsed": false,
    "deletable": true,
    "editable": true
   },
   "outputs": [],
   "source": [
    "rows, functions,exfunc, rs,gene, exacall, gnomall, pathogenics = load_annovar('74-anno-ref.hg19_multianno.txt')\n",
    "count = 0\n",
    "outfile = '74.raremaf.filtered.txt'\n",
    "seventy4_raremaf_genes = []\n",
    "for i in range(0,len(exacall) ): \n",
    "    if (gnomall[i] != '.') and (exacall[i] !='.'):\n",
    "        if  ( float(gnomall[i]) < cutoff) and (float(exacall[i]) < cutoff) and functions[i] =='exonic': \n",
    "            count += 1 \n",
    "            writelist(rows[i], outfile)\n",
    "            print(rs[i], gene[i], exacall[i],gnomall[i])\n",
    "            if gene[i] not in seventy4_raremaf_genes: \n",
    "                    seventy4_raremaf_genes.append(gene[i])\n",
    "    elif (gnomall[i] == '.') and (exacall[i] != '.') and (float(exacall[i]) < cutoff) and functions[i] =='exonic':\n",
    "            count += 1 \n",
    "            writelist(rows[i], outfile)\n",
    "            print(rs[i], gene[i], exacall[i],gnomall[i])\n",
    "            if gene[i] not in seventy4_raremaf_genes: \n",
    "                    seventy4_raremaf_genes.append(gene[i])\n",
    "    elif (exacall[i] =='.') and (gnomall[i] != '.') and (float (gnomall[i]) < cutoff) and functions[i] =='exonic':\n",
    "            count += 1 \n",
    "            writelist(rows[i], outfile)\n",
    "            print(rs[i], gene[i], exacall[i],gnomall[i])\n",
    "            if gene[i] not in seventy4_raremaf_genes: \n",
    "                    seventy4_raremaf_genes.append(gene[i])\n",
    "\n",
    "print ('Number of variants with rare MAF in gnomall and exac <', cutoff, 'is:',count)\n",
    "print (seventy4_raremaf_genes)"
   ]
  },
  {
   "cell_type": "markdown",
   "metadata": {
    "deletable": true,
    "editable": true
   },
   "source": [
    "# 74 No MAFs variants in ExAC and gnomAD"
   ]
  },
  {
   "cell_type": "code",
   "execution_count": null,
   "metadata": {
    "collapsed": false,
    "deletable": true,
    "editable": true
   },
   "outputs": [],
   "source": [
    "rows, functions,exfunc, rs,gene, exacall, gnomall, pathogenics = load_annovar('74-anno-ref.hg19_multianno.txt')\n",
    "count = 0\n",
    "seventy4_nomafs_genes = []\n",
    "for i in range(0,len(exacall) ): \n",
    "    if (exacall[i] == '.') and (gnomall[i] =='.') and functions[i] =='exonic':\n",
    "            count += 1 \n",
    "            writelist(rows[i], '74.noMafs.filtered.txt')\n",
    "            print(rs[i], gene[i], exacall[i],gnomall[i])\n",
    "            if gene[i] not in seventy4_nomafs_genes:\n",
    "                    seventy4_nomafs_genes.append(gene[i])\n",
    "print ('Number of variants with no MAf in both exacall and gnomAD <', cutoff, 'is:',count)\n",
    "print (seventy4_nomafs_genes)"
   ]
  },
  {
   "cell_type": "markdown",
   "metadata": {
    "deletable": true,
    "editable": true
   },
   "source": [
    "# 74 Pathogenic Analysis"
   ]
  },
  {
   "cell_type": "code",
   "execution_count": null,
   "metadata": {
    "collapsed": false,
    "deletable": true,
    "editable": true
   },
   "outputs": [],
   "source": [
    "rows, functions,exfunc, rs,gene, exacall, gnomall, pathogenics = load_annovar('74-anno-ref.hg19_multianno.txt')\n",
    "count = 0\n",
    "seventy4_pathogenics_genes = []\n",
    "for i in range(0,len(exacall) ): \n",
    "    if 'athogenic' in pathogenics[i]: \n",
    "        if (exacall[i] == '.') or (float(exacall[i]) < cutoff) or (gnomall[i] =='.') or (float(gnomall[i]) < cutoff):\n",
    "            count += 1 \n",
    "            writelist(rows[i], '74.pathogenics.filtered.txt')\n",
    "            print(rs[i], gene[i], exacall[i],gnomall[i], pathogenics[i])\n",
    "            if gene[i] not in seventy4_pathogenics_genes:\n",
    "                    seventy4_pathogenics_genes.append(gene[i])\n",
    "print ('Number of variants that are rare and pathogenic cutoff <', cutoff, 'is:',count)\n",
    "print (seventy4_pathogenics_genes)"
   ]
  },
  {
   "cell_type": "markdown",
   "metadata": {
    "collapsed": true,
    "deletable": true,
    "editable": true
   },
   "source": [
    "# Working with F210"
   ]
  },
  {
   "cell_type": "markdown",
   "metadata": {
    "deletable": true,
    "editable": true
   },
   "source": [
    "# M1 and M3 MAF analysis"
   ]
  },
  {
   "cell_type": "code",
   "execution_count": null,
   "metadata": {
    "collapsed": false,
    "deletable": true,
    "editable": true
   },
   "outputs": [],
   "source": [
    "rows, functions,exfunc, rs,gene, exacall, gnomall, pathogenics = load_annovar('f210m1-anno-ref.hg19_multianno.txt')\n",
    "count = 0\n",
    "outfile = 'f210m1.raremaf.filtered.txt'\n",
    "f210m1_raremaf_genes = []\n",
    "f210m1_variants = []\n",
    "for i in range(0,len(exacall) ): \n",
    "    if (gnomall[i] != '.') and (exacall[i] !='.'):\n",
    "        if   (float(gnomall[i]) < cutoff) and (float(exacall[i]) < cutoff) and functions[i] =='exonic': \n",
    "            count += 1 \n",
    "            writelist(rows[i], outfile)\n",
    "            print(rs[i], gene[i], exacall[i],gnomall[i])\n",
    "            if gene[i] not in f210m1_raremaf_genes: \n",
    "                    f210m1_raremaf_genes.append(gene[i])\n",
    "            var = rs[i]+'.'+gene[i]\n",
    "            if var not in f210m1_variants: \n",
    "                    f210m1_variants.append(var)\n",
    "    elif (gnomall[i] == '.') and (exacall[i] != '.') and (float(exacall[i]) < cutoff) and functions[i] =='exonic':\n",
    "            count += 1 \n",
    "            writelist(rows[i], outfile)\n",
    "            print(rs[i], gene[i], exacall[i],gnomall[i])\n",
    "            if gene[i] not in f210m1_raremaf_genes: \n",
    "                    f210m1_raremaf_genes.append(gene[i])\n",
    "            var = rs[i]+'.'+gene[i]\n",
    "            if var not in f210m1_variants: \n",
    "                    f210m1_variants.append(var)\n",
    " \n",
    "    elif (exacall[i] =='.') and (gnomall[i] != '.') and (float (gnomall[i]) < cutoff) and functions[i] =='exonic':\n",
    "            count += 1 \n",
    "            writelist(rows[i], outfile)\n",
    "            print(rs[i], gene[i], exacall[i],gnomall[i])\n",
    "            if gene[i] not in  f210m1_raremaf_genes: \n",
    "                     f210m1_raremaf_genes.append(gene[i])\n",
    "            var = rs[i]+'.'+gene[i]\n",
    "            if var not in f210m1_variants: \n",
    "                    f210m1_variants.append(var)\n",
    "print ('Number of variants with gnomall and exac <', cutoff, 'is:',count)\n",
    "print (f210m1_raremaf_genes)\n",
    "\n",
    "#===================================================M3 \n",
    "rows, functions,exfunc, rs,gene, exacall, gnomall, pathogenics = load_annovar('f210m3-anno-ref.hg19_multianno.txt')\n",
    "count = 0\n",
    "outfile = 'f210m3.raremaf.filtered.txt'\n",
    "f210m3_raremaf_genes = []\n",
    "f210m3_variants = []\n",
    "for i in range(0,len(exacall) ): \n",
    "    if (gnomall[i] != '.') and (exacall[i] !='.'):\n",
    "        if   (float(gnomall[i])  < cutoff) and (float(exacall[i]) < cutoff) and functions[i] =='exonic': \n",
    "            count += 1 \n",
    "            writelist(rows[i], outfile)\n",
    "            print(rs[i], gene[i], exacall[i],gnomall[i])\n",
    "            var = rs[i]+gene[i]\n",
    "            if var not in f210m3_variants: \n",
    "                    f210m3_variants.append(var)\n",
    "            if gene[i] not in f210m3_raremaf_genes: \n",
    "                    f210m3_raremaf_genes.append(gene[i])\n",
    "    elif (gnomall[i] == '.') and (exacall[i] != '.') and (float(exacall[i]) < cutoff) and functions[i] =='exonic':\n",
    "            count += 1 \n",
    "            writelist(rows[i], outfile)\n",
    "            print(rs[i], gene[i], exacall[i],gnomall[i])\n",
    "            if gene[i] not in f210m3_raremaf_genes: \n",
    "                    f210m3_raremaf_genes.append(gene[i])\n",
    "            var = rs[i]+gene[i]\n",
    "            if var not in f210m3_variants: \n",
    "                    f210m3_variants.append(var)\n",
    "    elif (exacall[i] =='.') and (gnomall[i] != '.') and (float (gnomall[i]) < cutoff) and functions[i] =='exonic':\n",
    "            count += 1 \n",
    "            writelist(rows[i], outfile)\n",
    "            print(rs[i], gene[i], exacall[i],gnomall[i])\n",
    "            if gene[i] not in f210m3_raremaf_genes: \n",
    "                    f210m3_raremaf_genes.append(gene[i])\n",
    "            var = rs[i]+'.'+gene[i]\n",
    "            if var not in f210m3_variants: \n",
    "                    f210m3_variants.append(var)\n",
    "\n",
    "print ('Number of variants with gnomall and exac <', cutoff, 'is:',count)\n",
    "print (f210m3_raremaf_genes)"
   ]
  },
  {
   "cell_type": "markdown",
   "metadata": {
    "deletable": true,
    "editable": true
   },
   "source": [
    "# Rare MAFs variants found in M1 and not in M3"
   ]
  },
  {
   "cell_type": "code",
   "execution_count": null,
   "metadata": {
    "collapsed": false,
    "deletable": true,
    "editable": true
   },
   "outputs": [],
   "source": [
    "f210m1_m3_mafs_genes = difference(f210m1_raremaf_genes, f210m3_raremaf_genes)\n",
    "print(f210m1_m3_mafs_genes)"
   ]
  },
  {
   "cell_type": "code",
   "execution_count": null,
   "metadata": {
    "collapsed": false,
    "deletable": true,
    "editable": true
   },
   "outputs": [],
   "source": [
    "f210m1_m3_maf_variants = difference(f210m1_variants,f210m3_variants)\n",
    "for i in f210m1_m3_maf_variants:\n",
    "        j = i.split('.')\n",
    "        print (j[1])"
   ]
  },
  {
   "cell_type": "markdown",
   "metadata": {
    "deletable": true,
    "editable": true
   },
   "source": [
    "# M1 and M3  Pathogenic Analysis"
   ]
  },
  {
   "cell_type": "code",
   "execution_count": null,
   "metadata": {
    "collapsed": false,
    "deletable": true,
    "editable": true
   },
   "outputs": [],
   "source": [
    "rows, functions,exfunc, rs,gene, exacall, gnomall, pathogenics = load_annovar('f210m1-anno-ref.hg19_multianno.txt')\n",
    "count = 0\n",
    "f210m1_pathogenic_genes = []\n",
    "for i in range(0,len(exacall) ): \n",
    "    if 'athogenic' in pathogenics[i]: \n",
    "        if (exacall[i] == '.') or( float(exacall[i]) < cutoff) or (gnomall[i] =='.') or (float(gnomall[i]) < cutoff):\n",
    "            count += 1 \n",
    "            writelist(rows[i], 'f210m1.pathogenics.filtered.txt')\n",
    "            print(rs[i], gene[i], exacall[i],gnomall[i], pathogenics[i])\n",
    "            if gene[i] not in f210m1_pathogenic_genes:\n",
    "                    f210m1_pathogenic_genes.append(gene[i])\n",
    "print ('Number of variants that are rare and pathogenic cutoff <', cutoff, 'is:',count)\n",
    "print (f210m1_pathogenic_genes)\n",
    "#=====================================================M3\n",
    "rows, functions,exfunc, rs,gene, exacall, gnomall, pathogenics = load_annovar('f210m3-anno-ref.hg19_multianno.txt')\n",
    "count = 0\n",
    "f210m3_pathogenic_genes = []\n",
    "for i in range(0,len(exacall) ): \n",
    "    if 'athogenic' in pathogenics[i]: \n",
    "        if (exacall[i] == '.') or (float(exacall[i]) < cutoff) or (gnomall[i] =='.') or (float(gnomall[i]) < cutoff):\n",
    "            count += 1 \n",
    "            writelist(rows[i], 'f210m3.pathogenics.filtered.txt')\n",
    "            print(rs[i], gene[i], exacall[i],gnomall[i], pathogenics[i])\n",
    "            if gene[i] not in f210m3_pathogenic_genes:\n",
    "                    f210m3_pathogenic_genes.append(gene[i])\n",
    "print ('Number of variants that are rare and pathogenic cutoff <', cutoff, 'is:',count)\n",
    "print (f210m3_pathogenic_genes)"
   ]
  },
  {
   "cell_type": "markdown",
   "metadata": {
    "deletable": true,
    "editable": true
   },
   "source": [
    "# Commons between M1 and M3 pathogenic variants"
   ]
  },
  {
   "cell_type": "code",
   "execution_count": null,
   "metadata": {
    "collapsed": false,
    "deletable": true,
    "editable": true
   },
   "outputs": [],
   "source": [
    "f210m1_m3_pathogenic_genes = difference(f210m1_pathogenic_genes, f210m3_pathogenic_genes)\n",
    "print(f210m1_m3_pathogenic_genes)"
   ]
  },
  {
   "cell_type": "markdown",
   "metadata": {
    "deletable": true,
    "editable": true
   },
   "source": [
    "# F210 M1 No MAFs Analysis"
   ]
  },
  {
   "cell_type": "code",
   "execution_count": null,
   "metadata": {
    "collapsed": false,
    "deletable": true,
    "editable": true
   },
   "outputs": [],
   "source": [
    "rows, functions,exfunc, rs,gene, exacall, gnomall, pathogenics = load_annovar('f210m1-anno-ref.hg19_multianno.txt')\n",
    "count = 0\n",
    "f210m1_nomafs_genes = []\n",
    "f210m1_nomafvariants = [] \n",
    "for i in range(0,len(exacall) ): \n",
    "    if (exacall[i] == '.') and (gnomall[i] =='.') and functions[i] =='exonic':\n",
    "            count += 1 \n",
    "            writelist(rows[i], 'f210m1.filtered.noMafs.txt')\n",
    "            #print(rs[i], gene[i], exacall[i],gnomall[i])\n",
    "            if gene[i] not in f210m1_nomafs_genes:\n",
    "                    f210m1_nomafs_genes.append(gene[i])\n",
    "            var = rs[i]+'.'+gene[i]\n",
    "            if var not in f210m1_nomafvariants: \n",
    "                    f210m1_nomafvariants.append(var)\n",
    "print ('Number of variants with no MAf in both exacall and gnomAD <', cutoff, 'is:',count)\n",
    "print (f210m1_nomafs_genes)\n",
    "#===========================================M3\n",
    "rows, functions,exfunc, rs,gene, exacall, gnomall, pathogenics = load_annovar('f210m3-anno-ref.hg19_multianno.txt')\n",
    "count = 0\n",
    "f210m3_nomafs_genes = []\n",
    "f210m3_nomafvariants = []\n",
    "for i in range(0,len(exacall) ): \n",
    "    if (exacall[i] == '.') and (gnomall[i] =='.') and functions[i] =='exonic':\n",
    "            count += 1 \n",
    "            writelist(rows[i], 'f210m3.filtered.noMafs.txt')\n",
    "            #print(rs[i], gene[i], exacall[i],gnomall[i])\n",
    "            if gene[i] not in f210m3_nomafs_genes:\n",
    "                    f210m3_nomafs_genes.append(gene[i])\n",
    "            var = rs[i]+'.'+gene[i]\n",
    "            if var not in f210m3_nomafvariants: \n",
    "                    f210m3_nomafvariants.append(var)\n",
    "            \n",
    "print ('Number of variants with no MAf in both exacall and gnomAD <', cutoff, 'is:',count)\n",
    "print (f210m3_nomafs_genes)"
   ]
  },
  {
   "cell_type": "code",
   "execution_count": null,
   "metadata": {
    "collapsed": false,
    "deletable": true,
    "editable": true
   },
   "outputs": [],
   "source": [
    "f210m1_m3_nomaf_variants = difference(f210m1_nomafvariants,f210m3_nomafvariants)\n",
    "for i in f210m1_m3_nomaf_variants:\n",
    "        j = i.split('.')\n",
    "        print (j[1])"
   ]
  },
  {
   "cell_type": "markdown",
   "metadata": {
    "deletable": true,
    "editable": true
   },
   "source": [
    "# What noMAFS variants in F210M1 not found in F210 M3 "
   ]
  },
  {
   "cell_type": "code",
   "execution_count": null,
   "metadata": {
    "collapsed": false,
    "deletable": true,
    "editable": true
   },
   "outputs": [],
   "source": [
    "f210m1_m3_nomafs_genes = difference(f210m1_nomafs_genes, f210m3_nomafs_genes)\n",
    "print(f210m1_m3_nomafs_genes)"
   ]
  },
  {
   "cell_type": "markdown",
   "metadata": {
    "collapsed": true,
    "deletable": true,
    "editable": true
   },
   "source": [
    "# Working with F89 "
   ]
  },
  {
   "cell_type": "markdown",
   "metadata": {
    "deletable": true,
    "editable": true
   },
   "source": [
    "# M1 is less than Cutoff in either gnomAD or ExAC"
   ]
  },
  {
   "cell_type": "code",
   "execution_count": null,
   "metadata": {
    "collapsed": false,
    "deletable": true,
    "editable": true
   },
   "outputs": [],
   "source": [
    "rows, functions,exfunc, rs,gene, exacall, gnomall, pathogenics = load_annovar('f89m1-anno-ref.hg19_multianno.txt')\n",
    "count = 0\n",
    "outfile = 'f89m1.raremaf.filtered.txt'\n",
    "f89m1_raremaf_genes = []\n",
    "f89m1_raremaf_variants = [] \n",
    "for i in range(0,len(exacall) ): \n",
    "    if (gnomall[i] != '.') and (exacall[i] !='.'):\n",
    "        if   (float(gnomall[i]) < cutoff) and (float(exacall[i]) < cutoff) and functions[i] =='exonic': \n",
    "            count += 1 \n",
    "            writelist(rows[i], outfile)\n",
    "            print(rs[i], gene[i], exacall[i],gnomall[i])\n",
    "            if gene[i] not in f89m1_raremaf_genes: \n",
    "                    f89m1_raremaf_genes.append(gene[i])\n",
    "            var = rs[i] + '.' + gene[i] +'.' +exacall[i] +'.'+ gnomall[i]\n",
    "            if var not in f89m1_raremaf_variants: \n",
    "                f89m1_raremaf_variants.append(var)\n",
    "    elif (gnomall[i] == '.') and (exacall[i] != '.') and (float(exacall[i]) < cutoff) and functions[i] =='exonic':\n",
    "            count += 1 \n",
    "            writelist(rows[i], outfile)\n",
    "            print(rs[i], gene[i], exacall[i],gnomall[i])\n",
    "            if gene[i] not in f89m1_raremaf_genes: \n",
    "                    f89m1_raremaf_genes.append(gene[i])\n",
    "            var = rs[i] + '.' + gene[i] +'.' +exacall[i] +'.'+ gnomall[i]\n",
    "            if var not in f89m1_raremaf_variants: \n",
    "                f89m1_raremaf_variants.append(var)\n",
    "           \n",
    "    elif (exacall[i] =='.') and (gnomall[i] != '.') and (float (gnomall[i]) < cutoff) and functions[i] =='exonic':\n",
    "            count += 1 \n",
    "            writelist(rows[i], outfile)\n",
    "            print(rs[i], gene[i], exacall[i],gnomall[i])\n",
    "            if gene[i] not in  f89m1_raremaf_genes: \n",
    "                     f89m1_raremaf_genes.append(gene[i])\n",
    "            var = rs[i] + '.' + gene[i] +'.' +exacall[i] +'.'+ gnomall[i]\n",
    "            if var not in f89m1_raremaf_variants: \n",
    "                f89m1_raremaf_variants.append(var)\n",
    "\n",
    "print ('Number of variants with gnomall and/or exac <', cutoff, 'is:',count)\n",
    "print (f89m1_raremaf_variants)"
   ]
  },
  {
   "cell_type": "markdown",
   "metadata": {
    "deletable": true,
    "editable": true
   },
   "source": [
    "# M2 is less than Cutoff"
   ]
  },
  {
   "cell_type": "code",
   "execution_count": null,
   "metadata": {
    "collapsed": false,
    "deletable": true,
    "editable": true
   },
   "outputs": [],
   "source": [
    "rows, functions,exfunc, rs,gene, exacall, gnomall, pathogenics = load_annovar('f89m2-anno-ref.hg19_multianno.txt')\n",
    "count = 0\n",
    "outfile = 'f89m2.raremaf.filtered.txt'\n",
    "f89m2_raremaf_genes = []\n",
    "f89m2_raremaf_variants = []\n",
    "for i in range(0,len(exacall) ): \n",
    "    if (gnomall[i] != '.') and (exacall[i] !='.'):\n",
    "        if   (float(gnomall[i]) < cutoff) and (float(exacall[i]) < cutoff) and functions[i] =='exonic': \n",
    "            count += 1 \n",
    "            writelist(rows[i], outfile)\n",
    "            print(rs[i], gene[i], exacall[i],gnomall[i])\n",
    "            if gene[i] not in f89m2_raremaf_genes: \n",
    "                    f89m2_raremaf_genes.append(gene[i])\n",
    "            var = rs[i] + '.' + gene[i] +'.' +exacall[i] +'.'+ gnomall[i]\n",
    "            if var not in f89m2_raremaf_variants: \n",
    "                f89m2_raremaf_variants.append(var)\n",
    "\n",
    "    elif (gnomall[i] == '.') and (exacall[i] != '.') and (float(exacall[i]) < cutoff) and functions[i] =='exonic':\n",
    "            count += 1 \n",
    "            writelist(rows[i], outfile)\n",
    "            print(rs[i], gene[i], exacall[i],gnomall[i])\n",
    "            if gene[i] not in f89m2_raremaf_genes: \n",
    "                    f89m2_raremaf_genes.append(gene[i])\n",
    "            var = rs[i] + '.' + gene[i] +'.' +exacall[i] +'.'+ gnomall[i]\n",
    "            if var not in f89m2_raremaf_variants: \n",
    "                f89m2_raremaf_variants.append(var)\n",
    "    elif (exacall[i] =='.') and (gnomall[i] != '.') and (float (gnomall[i]) < cutoff) and functions[i] =='exonic':\n",
    "            count += 1 \n",
    "            writelist(rows[i], outfile)\n",
    "            print(rs[i], gene[i], exacall[i],gnomall[i])\n",
    "            if gene[i] not in  f89m2_raremaf_genes: \n",
    "                     f89m2_raremaf_genes.append(gene[i])\n",
    "            var = rs[i] + '.' + gene[i] +'.' +exacall[i] +'.'+ gnomall[i]\n",
    "            if var not in f89m2_raremaf_variants: \n",
    "                f89m2_raremaf_variants.append(var)\n",
    "\n",
    "print ('Number of variants with gnomall and exac <', cutoff, 'is:',count)\n",
    "print (f89m2_raremaf_variants)"
   ]
  },
  {
   "cell_type": "markdown",
   "metadata": {
    "deletable": true,
    "editable": true
   },
   "source": [
    "# M3 is less than Cutoff"
   ]
  },
  {
   "cell_type": "code",
   "execution_count": null,
   "metadata": {
    "collapsed": false,
    "deletable": true,
    "editable": true
   },
   "outputs": [],
   "source": [
    "rows, functions,exfunc, rs,gene, exacall, gnomall, pathogenics = load_annovar('f89m3-anno-ref.hg19_multianno.txt')\n",
    "count = 0\n",
    "outfile = 'f89m3.raremaf.filtered.txt'\n",
    "f89m3_raremaf_genes = []\n",
    "f89m3_raremaf_variants = []\n",
    "for i in range(0,len(exacall) ): \n",
    "    if (gnomall[i] != '.') and (exacall[i] !='.'):\n",
    "        if   (float(gnomall[i]) < cutoff) and (float(exacall[i]) < cutoff) and functions[i] =='exonic': \n",
    "            count += 1 \n",
    "            writelist(rows[i], outfile)\n",
    "            print(rs[i], gene[i], exacall[i],gnomall[i])\n",
    "            if gene[i] not in f89m3_raremaf_genes: \n",
    "                    f89m3_raremaf_genes.append(gene[i])            \n",
    "            var = rs[i] + '.' + gene[i] +'.' +exacall[i] +'.'+ gnomall[i]\n",
    "            if var not in f89m3_raremaf_variants: \n",
    "                f89m3_raremaf_variants.append(var)\n",
    "\n",
    "            \n",
    "    elif (gnomall[i] == '.') and (exacall[i] != '.') and (float(exacall[i]) < cutoff) and functions[i] =='exonic':\n",
    "            count += 1 \n",
    "            writelist(rows[i], outfile)\n",
    "            print(rs[i], gene[i], exacall[i],gnomall[i])\n",
    "            if gene[i] not in f89m3_raremaf_genes: \n",
    "                    f89m3_raremaf_genes.append(gene[i])\n",
    "            var = rs[i] + '.' + gene[i] +'.' +exacall[i] +'.'+ gnomall[i]\n",
    "            if var not in f89m3_raremaf_variants: \n",
    "                f89m3_raremaf_variants.append(var)\n",
    "\n",
    "    elif (exacall[i] =='.') and (gnomall[i] != '.') and (float (gnomall[i]) < cutoff) and functions[i] =='exonic':\n",
    "            count += 1 \n",
    "            writelist(rows[i], outfile)\n",
    "            print(rs[i], gene[i], exacall[i],gnomall[i])\n",
    "            if gene[i] not in  f89m3_raremaf_genes: \n",
    "                     f89m3_raremaf_genes.append(gene[i])\n",
    "            var = rs[i] + '.' + gene[i] +'.' +exacall[i] +'.'+ gnomall[i]\n",
    "            if var not in f89m3_raremaf_variants: \n",
    "                f89m3_raremaf_variants.append(var)\n",
    "\n",
    "print ('Number of variants with gnomall and exac <', cutoff, 'is:',count)\n",
    "print (f89m3_raremaf_variants)"
   ]
  },
  {
   "cell_type": "markdown",
   "metadata": {
    "deletable": true,
    "editable": true
   },
   "source": [
    "# M7 is less than Cutoff"
   ]
  },
  {
   "cell_type": "code",
   "execution_count": null,
   "metadata": {
    "collapsed": false,
    "deletable": true,
    "editable": true
   },
   "outputs": [],
   "source": [
    "rows, functions,exfunc, rs,gene, exacall, gnomall, pathogenics = load_annovar('f89m7-anno-ref.hg19_multianno.txt')\n",
    "count = 0\n",
    "outfile = 'f89m7.raremaf.filtered.txt'\n",
    "f89m7_raremaf_genes = []\n",
    "f89m7_raremaf_variants = []\n",
    "for i in range(0,len(exacall) ): \n",
    "    if (gnomall[i] != '.') and (exacall[i] !='.'):\n",
    "        if   (float(gnomall[i]) < cutoff) and (float(exacall[i]) < cutoff) and functions[i] =='exonic': \n",
    "            count += 1 \n",
    "            writelist(rows[i], outfile)\n",
    "            print(rs[i], gene[i], exacall[i],gnomall[i])\n",
    "            if gene[i] not in f89m7_raremaf_genes: \n",
    "                    f89m7_raremaf_genes.append(gene[i])\n",
    "            var = rs[i] + '.' + gene[i] +'.' +exacall[i] +'.'+ gnomall[i]\n",
    "            if var not in f89m7_raremaf_variants: \n",
    "                f89m7_raremaf_variants.append(var)\n",
    "    elif (gnomall[i] == '.') and (exacall[i] != '.') and (float(exacall[i]) < cutoff) and functions[i] =='exonic':\n",
    "            count += 1 \n",
    "            writelist(rows[i], outfile)\n",
    "            print(rs[i], gene[i], exacall[i],gnomall[i])\n",
    "            if gene[i] not in f89m7_raremaf_genes: \n",
    "                    f89m7_raremaf_genes.append(gene[i])\n",
    "            var = rs[i] + '.' + gene[i] +'.' +exacall[i] +'.'+ gnomall[i]\n",
    "            if var not in f89m7_raremaf_variants: \n",
    "                f89m7_raremaf_variants.append(var)\n",
    "    elif (exacall[i] =='.') and (gnomall[i] != '.') and (float (gnomall[i]) < cutoff) and functions[i] =='exonic':\n",
    "            count += 1 \n",
    "            writelist(rows[i], outfile)\n",
    "            print(rs[i], gene[i], exacall[i],gnomall[i])\n",
    "            if gene[i] not in  f89m7_raremaf_genes: \n",
    "                     f89m7_raremaf_genes.append(gene[i])\n",
    "            var = rs[i] + '.' + gene[i] +'.' +exacall[i] +'.'+ gnomall[i]\n",
    "            if var not in f89m7_raremaf_variants: \n",
    "                f89m7_raremaf_variants.append(var)\n",
    "print ('Number of variants with gnomall and exac <', cutoff, 'is:',count)\n",
    "print (f89m7_raremaf_genes)"
   ]
  },
  {
   "cell_type": "markdown",
   "metadata": {
    "deletable": true,
    "editable": true
   },
   "source": [
    "# Common between affected M1 and M2 rare MAFs"
   ]
  },
  {
   "cell_type": "code",
   "execution_count": null,
   "metadata": {
    "collapsed": false,
    "deletable": true,
    "editable": true
   },
   "outputs": [],
   "source": [
    "f89m1_m2 = intersections(f89m1_raremaf_variants,f89m2_raremaf_variants)\n",
    "print (f89m1_raremaf_variants)\n",
    "print('------------------------------')\n",
    "print(f89m2_raremaf_variants)\n",
    "print('------------------------------')\n",
    "\n",
    "for i in f89m1_m2:\n",
    "        j = i.split('.')\n",
    "        print (j[0], j[1], j[2])"
   ]
  },
  {
   "cell_type": "markdown",
   "metadata": {
    "deletable": true,
    "editable": true
   },
   "source": [
    "# What is found in non carriers to ignore later "
   ]
  },
  {
   "cell_type": "code",
   "execution_count": null,
   "metadata": {
    "collapsed": false,
    "deletable": true,
    "editable": true
   },
   "outputs": [],
   "source": [
    "f89m3_m7 = exist(f89m3_raremaf_variants, f89m7_raremaf_variants)\n",
    "print(f89m3_raremaf_variants)\n",
    "print('-----------------------')\n",
    "print(f89m7_raremaf_variants)\n",
    "print('--------------------------------')\n",
    "for i in f89m3_m7:\n",
    "        j = i.split('.')\n",
    "        print (i)"
   ]
  },
  {
   "cell_type": "markdown",
   "metadata": {
    "collapsed": true,
    "deletable": true,
    "editable": true
   },
   "source": [
    "# Found in M1 M2 and not in M3 OR M7"
   ]
  },
  {
   "cell_type": "code",
   "execution_count": null,
   "metadata": {
    "collapsed": false,
    "deletable": true,
    "editable": true
   },
   "outputs": [],
   "source": [
    "f89_maf_candidates = difference(f89m1_m2, f89m3_m7)\n",
    "print(f89m1_m2)\n",
    "print('---')\n",
    "print(f89m3_m7)\n",
    "print (f89_maf_candidates)"
   ]
  },
  {
   "cell_type": "markdown",
   "metadata": {
    "deletable": true,
    "editable": true
   },
   "source": [
    "# F891  No MAF "
   ]
  },
  {
   "cell_type": "code",
   "execution_count": null,
   "metadata": {
    "collapsed": false,
    "deletable": true,
    "editable": true
   },
   "outputs": [],
   "source": [
    "rows, functions,exfunc, rs,gene, exacall, gnomall, pathogenics = load_annovar('f89m1-anno-ref.hg19_multianno.txt')\n",
    "count = 0\n",
    "f89m1_nomafs_genes = []\n",
    "f89m1_nomafs_variants = []\n",
    "for i in range(0,len(exacall) ): \n",
    "    if (exacall[i] == '.') and (gnomall[i] =='.') and functions[i] =='exonic':\n",
    "            count += 1 \n",
    "            writelist(rows[i], 'f210m1.filtered.noMafs.txt')\n",
    "            #print(rs[i], gene[i], exacall[i],gnomall[i])\n",
    "            if gene[i] not in f89m1_nomafs_genes:\n",
    "                    f89m1_nomafs_genes.append(gene[i])\n",
    "            var = rs[i] + '.' + gene[i] +'.' +exacall[i] +'.'+ gnomall[i]\n",
    "            if var not in f89m1_raremaf_variants: \n",
    "                f89m1_raremaf_variants.append(var)\n",
    "\n",
    "print ('Number of variants with no MAf in both exacall and gnomAD <', cutoff, 'is:',count)\n",
    "print (f89m1_nomafs_genes)\n",
    "#===========================================M2\n",
    "rows, functions,exfunc, rs,gene, exacall, gnomall, pathogenics = load_annovar('f89m2-anno-ref.hg19_multianno.txt')\n",
    "count = 0\n",
    "f89m2_nomafs_genes = []\n",
    "f89m2_nomafs_variants = []\n",
    "for i in range(0,len(exacall) ): \n",
    "    if (exacall[i] == '.') and (gnomall[i] =='.') and functions[i] =='exonic':\n",
    "            count += 1 \n",
    "            writelist(rows[i], 'f89m2.filtered.noMafs.txt')\n",
    "            #print(rs[i], gene[i], exacall[i],gnomall[i])\n",
    "            if gene[i] not in f89m2_nomafs_genes:\n",
    "                    f89m2_nomafs_genes.append(gene[i])\n",
    "            var = rs[i] + '.' + gene[i] +'.' +exacall[i] +'.'+ gnomall[i]\n",
    "            if var not in f89m2_raremaf_variants: \n",
    "                f89m2_raremaf_variants.append(var)\n",
    "\n",
    "print ('Number of variants with no MAf in both exacall and gnomAD <', cutoff, 'is:',count)\n",
    "print (f89m2_nomafs_genes)\n",
    "#===========================================M3\n",
    "rows, functions,exfunc, rs,gene, exacall, gnomall, pathogenics = load_annovar('f89m3-anno-ref.hg19_multianno.txt')\n",
    "count = 0\n",
    "f89m3_nomafs_genes = []\n",
    "f89m3_nomafs_variants = []\n",
    "for i in range(0,len(exacall) ): \n",
    "    if (exacall[i] == '.') and (gnomall[i] =='.') and functions[i] =='exonic':\n",
    "            count += 1 \n",
    "            writelist(rows[i], 'f89m3.filtered.noMafs.txt')\n",
    "            #print(rs[i], gene[i], exacall[i],gnomall[i])\n",
    "            if gene[i] not in f89m3_nomafs_genes:\n",
    "                    f89m3_nomafs_genes.append(gene[i])\n",
    "            var = rs[i] + '.' + gene[i] +'.' +exacall[i] +'.'+ gnomall[i]\n",
    "            if var not in f89m3_raremaf_variants: \n",
    "                f89m3_raremaf_variants.append(var)\n",
    "\n",
    "print ('Number of variants with no MAf in both exacall and gnomAD <', cutoff, 'is:',count)\n",
    "print (f89m3_nomafs_genes)\n",
    "#===========================================M7\n",
    "rows, functions,exfunc, rs,gene, exacall, gnomall, pathogenics = load_annovar('f89m7-anno-ref.hg19_multianno.txt')\n",
    "count = 0\n",
    "f89m7_nomafs_genes = []\n",
    "f89m7_nomafs_variants = []\n",
    "for i in range(0,len(exacall) ): \n",
    "    if (exacall[i] == '.') and (gnomall[i] =='.') and functions[i] =='exonic':\n",
    "            count += 1 \n",
    "            writelist(rows[i], 'f89m7.filtered.noMafs.txt')\n",
    "            #print(rs[i], gene[i], exacall[i],gnomall[i])\n",
    "            if gene[i] not in f89m7_nomafs_genes:\n",
    "                    f89m7_nomafs_genes.append(gene[i])            \n",
    "            var = rs[i] + '.' + gene[i] +'.' +exacall[i] +'.'+ gnomall[i]\n",
    "            if var not in f89m7_raremaf_variants: \n",
    "                f89m7_raremaf_variants.append(var)\n",
    "\n",
    "\n",
    "print ('Number of variants with no MAf in both exacall and gnomAD <', cutoff, 'is:',count)\n",
    "print (f89m7_nomafs_genes)\n",
    "\n",
    "\n",
    "\n"
   ]
  },
  {
   "cell_type": "markdown",
   "metadata": {
    "deletable": true,
    "editable": true
   },
   "source": [
    "# Common Between M1 and M2 "
   ]
  },
  {
   "cell_type": "code",
   "execution_count": null,
   "metadata": {
    "collapsed": false,
    "deletable": true,
    "editable": true
   },
   "outputs": [],
   "source": [
    "f89m1_m2_nomafs = intersections(f89m1_nomafs_genes,f89m2_nomafs_genes)\n",
    "print (f89m1_m2)"
   ]
  },
  {
   "cell_type": "code",
   "execution_count": null,
   "metadata": {
    "collapsed": false,
    "deletable": true,
    "editable": true
   },
   "outputs": [],
   "source": [
    "f89m1_m2_nomafs = intersections(f89m1_nomafs_variants,f89m2_nomafs_variants)\n",
    "print (f89m1_m2)"
   ]
  },
  {
   "cell_type": "markdown",
   "metadata": {
    "deletable": true,
    "editable": true
   },
   "source": [
    "# Found in non carriers to ignore later"
   ]
  },
  {
   "cell_type": "code",
   "execution_count": null,
   "metadata": {
    "collapsed": false,
    "deletable": true,
    "editable": true
   },
   "outputs": [],
   "source": [
    "f89m3_m7_nomafs = exist(f89m3_nomafs_genes, f89m7_nomafs_genes)\n",
    "print(f89m3_m7)"
   ]
  },
  {
   "cell_type": "markdown",
   "metadata": {
    "deletable": true,
    "editable": true
   },
   "source": [
    "# Found in M1 M2 and not in M3 OR M7"
   ]
  },
  {
   "cell_type": "code",
   "execution_count": null,
   "metadata": {
    "collapsed": false,
    "deletable": true,
    "editable": true
   },
   "outputs": [],
   "source": [
    "f89_nomaf_candidates = difference(f89m1_m2_nomafs, f89m3_m7_nomafs)\n",
    "print (f89_nomaf_candidates)"
   ]
  },
  {
   "cell_type": "markdown",
   "metadata": {
    "deletable": true,
    "editable": true
   },
   "source": [
    "# F89 M1 Pathegenic "
   ]
  },
  {
   "cell_type": "code",
   "execution_count": null,
   "metadata": {
    "collapsed": true,
    "deletable": true,
    "editable": true
   },
   "outputs": [],
   "source": [
    "cutoff =0.0000001"
   ]
  },
  {
   "cell_type": "code",
   "execution_count": null,
   "metadata": {
    "collapsed": false,
    "deletable": true,
    "editable": true
   },
   "outputs": [],
   "source": [
    "rows, functions,exfunc, rs,gene, exacall, gnomall, pathogenics = load_annovar('f89m1-anno-ref.hg19_multianno.txt')\n",
    "count = 0\n",
    "f89m1_pathogenic_genes = []\n",
    "for i in range(0,len(exacall) ): \n",
    "    if 'athogenic' in pathogenics[i]: \n",
    "        if (exacall[i] == '.') or (float(exacall[i]) < cutoff) or (gnomall[i] =='.') or (float(gnomall[i]) < cutoff):\n",
    "            count += 1 \n",
    "            writelist(rows[i], 'f89m1.pathogenic.filtered.txt')\n",
    "            if gene[i] not in f89m1_pathogenic_genes:\n",
    "                    f89m1_pathogenic_genes.append(gene[i])\n",
    "print ('Number of pathogenic variants  <', cutoff, 'is:',count)\n",
    "print (f89m1_pathogenic_genes)"
   ]
  },
  {
   "cell_type": "markdown",
   "metadata": {
    "deletable": true,
    "editable": true
   },
   "source": [
    "# F89 M2 Pathegenic "
   ]
  },
  {
   "cell_type": "code",
   "execution_count": null,
   "metadata": {
    "collapsed": false,
    "deletable": true,
    "editable": true
   },
   "outputs": [],
   "source": [
    "rows, functions,exfunc, rs,gene, exacall, gnomall, pathogenics = load_annovar('f89m2-anno-ref.hg19_multianno.txt')\n",
    "count = 0\n",
    "f89m2_pathogenic_genes = []\n",
    "for i in range(0,len(exacall) ): \n",
    "    if 'athogenic' in pathogenics[i]: \n",
    "        if (exacall[i] == '.') or (float(exacall[i]) < cutoff) or (gnomall[i] =='.') or (float(gnomall[i]) < cutoff):\n",
    "            count += 1 \n",
    "            writelist(rows[i], 'f89m2.pathogenic.filtered.txt')\n",
    "            if gene[i] not in f89m2_pathogenic_genes:\n",
    "                    f89m2_pathogenic_genes.append(gene[i])\n",
    "print ('Number of pathogenic variants  <', cutoff, 'is:',count)\n",
    "print (f89m2_pathogenic_genes)"
   ]
  },
  {
   "cell_type": "code",
   "execution_count": null,
   "metadata": {
    "collapsed": false,
    "deletable": true,
    "editable": true
   },
   "outputs": [],
   "source": [
    "f89m1_m2_pathogenic = intersections(f89m1_pathogenic_genes,f89m2_pathogenic_genes)\n",
    "print (f89m1_m2_pathogenic)"
   ]
  },
  {
   "cell_type": "markdown",
   "metadata": {
    "deletable": true,
    "editable": true
   },
   "source": [
    "# F89 M3 Pathogenic "
   ]
  },
  {
   "cell_type": "code",
   "execution_count": null,
   "metadata": {
    "collapsed": false,
    "deletable": true,
    "editable": true
   },
   "outputs": [],
   "source": [
    "rows, functions,exfunc, rs,gene, exacall, gnomall, pathogenics = load_annovar('f89m3-anno-ref.hg19_multianno.txt')\n",
    "count = 0\n",
    "f89m3_pathogenic_genes = []\n",
    "for i in range(0,len(exacall) ): \n",
    "    if 'athogenic' in pathogenics[i]: \n",
    "        if (exacall[i] == '.') or (float(exacall[i]) < cutoff) or (gnomall[i] =='.') or (float(gnomall[i]) < cutoff):\n",
    "            count += 1 \n",
    "            writelist(rows[i], 'f89m3.pathogenic.filtered.txt')\n",
    "            if gene[i] not in f89m3_pathogenic_genes:\n",
    "                    f89m3_pathogenic_genes.append(gene[i])\n",
    "print ('Number of pathogenic variants  <', cutoff, 'is:',count)\n",
    "print (f89m3_pathogenic_genes)"
   ]
  },
  {
   "cell_type": "markdown",
   "metadata": {
    "deletable": true,
    "editable": true
   },
   "source": [
    "# F89 M7 Pathogenic "
   ]
  },
  {
   "cell_type": "code",
   "execution_count": null,
   "metadata": {
    "collapsed": false,
    "deletable": true,
    "editable": true
   },
   "outputs": [],
   "source": [
    "rows, functions,exfunc, rs,gene, exacall, gnomall, pathogenics = load_annovar('f89m7-anno-ref.hg19_multianno.txt')\n",
    "count = 0\n",
    "f89m7_pathogenic_genes = []\n",
    "for i in range(0,len(exacall) ): \n",
    "    if 'athogenic' in pathogenics[i]: \n",
    "        if (exacall[i] == '.') or (float(exacall[i]) < cutoff) or (gnomall[i] =='.') or (float(gnomall[i]) < cutoff):\n",
    "            count += 1 \n",
    "            writelist(rows[i], 'f89m7.pathogenic.filtered.txt')\n",
    "            if gene[i] not in f89m7_pathogenic_genes:\n",
    "                    f89m7_pathogenic_genes.append(gene[i])\n",
    "print ('Number of pathogenic variants  <', cutoff, 'is:',count)\n",
    "print (f89m7_pathogenic_genes)"
   ]
  },
  {
   "cell_type": "markdown",
   "metadata": {
    "deletable": true,
    "editable": true
   },
   "source": [
    "# What is found in Either M3 Or M7"
   ]
  },
  {
   "cell_type": "code",
   "execution_count": null,
   "metadata": {
    "collapsed": false,
    "deletable": true,
    "editable": true
   },
   "outputs": [],
   "source": [
    "f89m3_m7_pathogenic = exist(f89m3_pathogenic_genes,f89m7_pathogenic_genes)\n",
    "print (f89m3_m7_pathogenic)"
   ]
  },
  {
   "cell_type": "markdown",
   "metadata": {
    "deletable": true,
    "editable": true
   },
   "source": [
    "# What is found in M1M2 and not in either in M3 or M7"
   ]
  },
  {
   "cell_type": "code",
   "execution_count": null,
   "metadata": {
    "collapsed": false,
    "deletable": true,
    "editable": true
   },
   "outputs": [],
   "source": [
    "f89_pathogenic_candidates = difference(f89m1_m2_pathogenic, f89m3_m7_pathogenic)\n",
    "print (f89_pathogenic_candidates)"
   ]
  },
  {
   "cell_type": "code",
   "execution_count": null,
   "metadata": {
    "collapsed": true,
    "deletable": true,
    "editable": true
   },
   "outputs": [],
   "source": []
  }
 ],
 "metadata": {
  "anaconda-cloud": {},
  "kernelspec": {
   "display_name": "Python [conda root]",
   "language": "python",
   "name": "conda-root-py"
  },
  "language_info": {
   "codemirror_mode": {
    "name": "ipython",
    "version": 3
   },
   "file_extension": ".py",
   "mimetype": "text/x-python",
   "name": "python",
   "nbconvert_exporter": "python",
   "pygments_lexer": "ipython3",
   "version": "3.5.2"
  }
 },
 "nbformat": 4,
 "nbformat_minor": 1
}
