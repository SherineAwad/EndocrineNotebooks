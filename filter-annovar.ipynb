{
 "cells": [
  {
   "cell_type": "code",
   "execution_count": null,
   "metadata": {
    "collapsed": false,
    "deletable": true,
    "editable": true
   },
   "outputs": [],
   "source": [
    "import csv\n",
    "import sys\n",
    "import re\n",
    "import matplotlib.pyplot as plt\n",
    "import numpy as np"
   ]
  },
  {
   "cell_type": "markdown",
   "metadata": {
    "deletable": true,
    "editable": true
   },
   "source": [
    "# Cutoff for rare variants "
   ]
  },
  {
   "cell_type": "code",
   "execution_count": null,
   "metadata": {
    "collapsed": false,
    "deletable": true,
    "editable": true
   },
   "outputs": [],
   "source": [
    "cutoff  = 0.000001"
   ]
  },
  {
   "cell_type": "code",
   "execution_count": null,
   "metadata": {
    "collapsed": false,
    "deletable": true,
    "editable": true
   },
   "outputs": [],
   "source": [
    "def writelist (mylist, myfile): \n",
    "    fp =  open(myfile,'a+')\n",
    "    for idx,item in enumerate(mylist):\n",
    "            fp.write(item)\n",
    "            fp.write('\\t')\n",
    "    fp.write('\\n')\n",
    "    fp.close()"
   ]
  },
  {
   "cell_type": "code",
   "execution_count": null,
   "metadata": {
    "collapsed": true,
    "deletable": true,
    "editable": true
   },
   "outputs": [],
   "source": [
    "def intersections(list1, list2):\n",
    "    intersection_list = []\n",
    "    for i in list1: \n",
    "        if i in list2: \n",
    "                intersection_list.append(i)\n",
    "    return intersection_list"
   ]
  },
  {
   "cell_type": "code",
   "execution_count": null,
   "metadata": {
    "collapsed": true,
    "deletable": true,
    "editable": true
   },
   "outputs": [],
   "source": [
    "def difference(list1, list2):\n",
    "    unique_list = []\n",
    "    for i in list1: \n",
    "        if i not in list2: \n",
    "                unique_list.append(i)\n",
    "    return unique_list"
   ]
  },
  {
   "cell_type": "code",
   "execution_count": null,
   "metadata": {
    "collapsed": true,
    "deletable": true,
    "editable": true
   },
   "outputs": [],
   "source": [
    "def exist (list1, list2): \n",
    "    found_list = []\n",
    "    for i in list1: \n",
    "            if i not in found_list: \n",
    "                    found_list.append(i)\n",
    "    for i in list2: \n",
    "            if i not in found_list: \n",
    "                    found_list.append(i)\n",
    "    return found_list "
   ]
  },
  {
   "cell_type": "markdown",
   "metadata": {
    "deletable": true,
    "editable": true
   },
   "source": [
    "# Read annovar annotation file"
   ]
  },
  {
   "cell_type": "code",
   "execution_count": null,
   "metadata": {
    "collapsed": true,
    "deletable": true,
    "editable": true
   },
   "outputs": [],
   "source": [
    " def load_annovar(filename):\n",
    "    rows = []\n",
    "    exacall = []\n",
    "    gnomall = []\n",
    "    rs = []\n",
    "    gene = []\n",
    "    pathogenics = []\n",
    "    functions = []\n",
    "    exonicfunctions =[]\n",
    "    fp = open(filename, 'r')\n",
    "    r = csv.reader(fp, delimiter='\\t')\n",
    "    for n, row in enumerate(r):\n",
    "        #rs ,pos,_,ensg,_, enst,_,_,_,_,_,_,_,impact =row[:14]\n",
    "        if n == 0: \n",
    "                #print(row[11])\n",
    "                #print(row[119])\n",
    "                #print(row[19])\n",
    "                #print(row[6])\n",
    "                #print (row[8])\n",
    "                #print(row[5])\n",
    "                #print(row[54])\n",
    "                continue\n",
    "        exonicfunctions.append(row[8])\n",
    "        exacall.append(row[11])\n",
    "        gnomall.append(row[119])\n",
    "        rs.append(row[19])\n",
    "        rows.append(row)\n",
    "        gene.append(row[6])\n",
    "        functions.append(row[5])\n",
    "        pathogenics.append(row[54])\n",
    "    #for i in exonicfunctions: \n",
    "            #print (i)\n",
    "    return rows, functions, exonicfunctions, rs, gene,  exacall , gnomall, pathogenics"
   ]
  },
  {
   "cell_type": "code",
   "execution_count": null,
   "metadata": {
    "collapsed": false,
    "deletable": true,
    "editable": true
   },
   "outputs": [],
   "source": [
    "def load_WG_annovar(filename):\n",
    "    rows = []\n",
    "    exacall = []\n",
    "    gnomall = []\n",
    "    rs = []\n",
    "    gene = []\n",
    "    pathogenics = []\n",
    "    functions = []\n",
    "    exonicfunctions =[]\n",
    "    fp = open(filename, 'r')\n",
    "    r = csv.reader(fp, delimiter='\\t')\n",
    "    for n, row in enumerate(r):\n",
    "        if n != 0:\n",
    "                 #for i in range(0,163):\n",
    "                     #print(row[i], i)\n",
    "                 #continue\n",
    "            #print row[8], row[16], row[124], row[64], row[5]\n",
    "            exonicfunctions.append(row[5])\n",
    "            exacall.append(row[16])\n",
    "            gnomall.append(row[124])\n",
    "            rs.append(row[25])\n",
    "            rows.append(row)\n",
    "            gene.append(row[64])\n",
    "            functions.append(row[5])\n",
    "            pathogenics.append(row[59]) #Clinical Significance\n",
    "    return n,rows, functions,exonicfunctions, gene,exacall , gnomall,pathogenics\n",
    "    "
   ]
  },
  {
   "cell_type": "code",
   "execution_count": null,
   "metadata": {
    "collapsed": false,
    "deletable": true,
    "editable": true
   },
   "outputs": [],
   "source": [
    "n,rows, functions,exonicfunctions, gene,exacall , gnomall,pathogenics = load_WG_annovar('f28m3.exonic.txt')\n",
    "#print n,rows, functions,exonicfunctions, gene,exacall , gnomall,pathogenics"
   ]
  },
  {
   "cell_type": "code",
   "execution_count": null,
   "metadata": {
    "collapsed": false,
    "deletable": true,
    "editable": true
   },
   "outputs": [],
   "source": [
    "#for i in range(0, len(pathogenics)) : \n",
    "     #   if 'athogenic' in pathogenics[i]: \n",
    "         #    print exacall[i], i\n",
    "                \n",
    "count = 0 \n",
    "for i in range(0,len(exacall)): \n",
    "        if exacall[i]!= '.': # and gnomall[i]!='.': \n",
    "                if (float(exacall[i]) < cutoff): #or (float(gnomall[i]) < cutoff): \n",
    "                          print rows[i]\n",
    "                          count  +=1 \n",
    "print count, 'Done'"
   ]
  },
  {
   "cell_type": "markdown",
   "metadata": {
    "deletable": true,
    "editable": true
   },
   "source": [
    "# Familly F28 rare MAF"
   ]
  },
  {
   "cell_type": "code",
   "execution_count": null,
   "metadata": {
    "collapsed": false,
    "deletable": true,
    "editable": true
   },
   "outputs": [],
   "source": [
    "rows, functions,exfunc, rs,gene, exacall, gnomall, pathogenics = load_annovar('f28m1.hg19_multianno.txt')\n",
    "count = 0\n",
    "outfile = 'f28m1-anno-ref.hg19_multianno.txt'\n",
    "f28m1_raremaf_genes = []\n",
    "f28m1_variants = []\n",
    "for i in range(0,len(exacall) ): \n",
    "    if (gnomall[i] != '.') and (exacall[i] !='.'):\n",
    "        if   (float(gnomall[i]) < cutoff) and (float(exacall[i]) < cutoff) and functions[i] =='exonic': \n",
    "            count += 1 \n",
    "            writelist(rows[i], outfile)\n",
    "            print(rs[i], gene[i], exacall[i],gnomall[i])\n",
    "            if gene[i] not in f28m1_raremaf_genes: \n",
    "                    f28m1_raremaf_genes.append(gene[i])\n",
    "            var = rs[i]+'.'+gene[i]\n",
    "            if var not in f28m1_variants: \n",
    "                    f28m1_variants.append(var)\n",
    "    elif (gnomall[i] == '.') and (exacall[i] != '.') and (float(exacall[i]) < cutoff) and functions[i] =='exonic':\n",
    "            count += 1 \n",
    "            writelist(rows[i], outfile)\n",
    "            print(rs[i], gene[i], exacall[i],gnomall[i])\n",
    "            if gene[i] not in f28m1_raremaf_genes: \n",
    "                    f28m1_raremaf_genes.append(gene[i])\n",
    "            var = rs[i]+'.'+gene[i]\n",
    "            if var not in f28m1_variants: \n",
    "                    f28m1_variants.append(var)\n",
    " \n",
    "    elif (exacall[i] =='.') and (gnomall[i] != '.') and (float (gnomall[i]) < cutoff) and functions[i] =='exonic':\n",
    "            count += 1 \n",
    "            writelist(rows[i], outfile)\n",
    "            print(rs[i], gene[i], exacall[i],gnomall[i])\n",
    "            if gene[i] not in  f28m1_raremaf_genes: \n",
    "                     f28m1_raremaf_genes.append(gene[i])\n",
    "            var = rs[i]+'.'+gene[i]\n",
    "            if var not in f28m1_variants: \n",
    "                    f28m1_variants.append(var)\n",
    "print ('Number of variants with gnomall and exac <', cutoff, 'is:',count)\n",
    "print (f28m1_raremaf_genes)\n",
    "\n",
    "#===================================================M2 \n",
    "rows, functions,exfunc, rs,gene, exacall, gnomall, pathogenics = load_annovar('f28m3.hg19_multianno.txt')\n",
    "count = 0\n",
    "outfile = 'f28m3.raremaf.filtered.txt'\n",
    "f28m3_raremaf_genes = []\n",
    "f28m3_variants = []\n",
    "for i in range(0,len(exacall) ): \n",
    "    if (gnomall[i] != '.') and (exacall[i] !='.'):\n",
    "        if   (float(gnomall[i])  < cutoff) and (float(exacall[i]) < cutoff) and functions[i] =='exonic': \n",
    "            count += 1 \n",
    "            writelist(rows[i], outfile)\n",
    "            print(rs[i], gene[i], exacall[i],gnomall[i])\n",
    "            var = rs[i]+gene[i]\n",
    "            if var not in f28m3_variants: \n",
    "                    f28m3_variants.append(var)\n",
    "            if gene[i] not in f28m3_raremaf_genes: \n",
    "                    f28m3_raremaf_genes.append(gene[i])\n",
    "    elif (gnomall[i] == '.') and (exacall[i] != '.') and (float(exacall[i]) < cutoff) and functions[i] =='exonic':\n",
    "            count += 1 \n",
    "            writelist(rows[i], outfile)\n",
    "            print(rs[i], gene[i], exacall[i],gnomall[i])\n",
    "            if gene[i] not in f28m3_raremaf_genes: \n",
    "                    f28m3_raremaf_genes.append(gene[i])\n",
    "            var = rs[i]+gene[i]\n",
    "            if var not in f28m3_variants: \n",
    "                    f28m3_variants.append(var)\n",
    "    elif (exacall[i] =='.') and (gnomall[i] != '.') and (float (gnomall[i]) < cutoff) and functions[i] =='exonic':\n",
    "            count += 1 \n",
    "            writelist(rows[i], outfile)\n",
    "            print(rs[i], gene[i], exacall[i],gnomall[i])\n",
    "            if gene[i] not in f28m3_raremaf_genes: \n",
    "                    f28m3_raremaf_genes.append(gene[i])\n",
    "            var = rs[i]+'.'+gene[i]\n",
    "            if var not in f28m3_variants: \n",
    "                    f28m3_variants.append(var)\n",
    "\n",
    "print ('Number of variants with gnomall and exac <', cutoff, 'is:',count)\n",
    "print (f28m3_raremaf_genes)"
   ]
  },
  {
   "cell_type": "markdown",
   "metadata": {
    "deletable": true,
    "editable": true
   },
   "source": [
    "# Familly F366 rare MAF"
   ]
  },
  {
   "cell_type": "code",
   "execution_count": null,
   "metadata": {
    "collapsed": false,
    "deletable": true,
    "editable": true
   },
   "outputs": [],
   "source": [
    "rows, functions,exfunc, rs,gene, exacall, gnomall, pathogenics = load_annovar('f366m1-anno-ref.hg19_multianno.txt')\n",
    "count = 0\n",
    "outfile = 'f366m1-anno-ref.hg19_multianno.txt'\n",
    "f366m1_raremaf_genes = []\n",
    "f366m1_variants = []\n",
    "for i in range(0,len(exacall) ): \n",
    "    if (gnomall[i] != '.') and (exacall[i] !='.'):\n",
    "        if   (float(gnomall[i]) < cutoff) and (float(exacall[i]) < cutoff) and functions[i] =='exonic': \n",
    "            count += 1 \n",
    "            writelist(rows[i], outfile)\n",
    "            print(rs[i], gene[i], exacall[i],gnomall[i])\n",
    "            if gene[i] not in f366m1_raremaf_genes: \n",
    "                    f366m1_raremaf_genes.append(gene[i])\n",
    "            var = rs[i]+'.'+gene[i]\n",
    "            if var not in f366m1_variants: \n",
    "                    f366m1_variants.append(var)\n",
    "    elif (gnomall[i] == '.') and (exacall[i] != '.') and (float(exacall[i]) < cutoff) and functions[i] =='exonic':\n",
    "            count += 1 \n",
    "            writelist(rows[i], outfile)\n",
    "            print(rs[i], gene[i], exacall[i],gnomall[i])\n",
    "            if gene[i] not in f366m1_raremaf_genes: \n",
    "                    f366m1_raremaf_genes.append(gene[i])\n",
    "            var = rs[i]+'.'+gene[i]\n",
    "            if var not in f366m1_variants: \n",
    "                    f366m1_variants.append(var)\n",
    " \n",
    "    elif (exacall[i] =='.') and (gnomall[i] != '.') and (float (gnomall[i]) < cutoff) and functions[i] =='exonic':\n",
    "            count += 1 \n",
    "            writelist(rows[i], outfile)\n",
    "            print(rs[i], gene[i], exacall[i],gnomall[i])\n",
    "            if gene[i] not in  f366m1_raremaf_genes: \n",
    "                     f366m1_raremaf_genes.append(gene[i])\n",
    "            var = rs[i]+'.'+gene[i]\n",
    "            if var not in f366m1_variants: \n",
    "                    f366m1_variants.append(var)\n",
    "print ('Number of variants with gnomall and exac <', cutoff, 'is:',count)\n",
    "print (f366m1_raremaf_genes)\n",
    "\n",
    "#===================================================M2 \n",
    "rows, functions,exfunc, rs,gene, exacall, gnomall, pathogenics = load_annovar('f366m2-anno-ref.hg19_multianno.txt')\n",
    "count = 0\n",
    "outfile = 'f366m2.raremaf.filtered.txt'\n",
    "f366m2_raremaf_genes = []\n",
    "f366m2_variants = []\n",
    "for i in range(0,len(exacall) ): \n",
    "    if (gnomall[i] != '.') and (exacall[i] !='.'):\n",
    "        if   (float(gnomall[i])  < cutoff) and (float(exacall[i]) < cutoff) and functions[i] =='exonic': \n",
    "            count += 1 \n",
    "            writelist(rows[i], outfile)\n",
    "            print(rs[i], gene[i], exacall[i],gnomall[i])\n",
    "            var = rs[i]+gene[i]\n",
    "            if var not in f366m2_variants: \n",
    "                    f366m2_variants.append(var)\n",
    "            if gene[i] not in f366m2_raremaf_genes: \n",
    "                    f366m2_raremaf_genes.append(gene[i])\n",
    "    elif (gnomall[i] == '.') and (exacall[i] != '.') and (float(exacall[i]) < cutoff) and functions[i] =='exonic':\n",
    "            count += 1 \n",
    "            writelist(rows[i], outfile)\n",
    "            print(rs[i], gene[i], exacall[i],gnomall[i])\n",
    "            if gene[i] not in f366m2_raremaf_genes: \n",
    "                    f366m2_raremaf_genes.append(gene[i])\n",
    "            var = rs[i]+gene[i]\n",
    "            if var not in f366m2_variants: \n",
    "                    f366m2_variants.append(var)\n",
    "    elif (exacall[i] =='.') and (gnomall[i] != '.') and (float (gnomall[i]) < cutoff) and functions[i] =='exonic':\n",
    "            count += 1 \n",
    "            writelist(rows[i], outfile)\n",
    "            print(rs[i], gene[i], exacall[i],gnomall[i])\n",
    "            if gene[i] not in f366m2_raremaf_genes: \n",
    "                    f366m2_raremaf_genes.append(gene[i])\n",
    "            var = rs[i]+'.'+gene[i]\n",
    "            if var not in f366m2_variants: \n",
    "                    f366m2_variants.append(var)\n",
    "\n",
    "print ('Number of variants with gnomall and exac <', cutoff, 'is:',count)\n",
    "print (f366m2_raremaf_genes)"
   ]
  },
  {
   "cell_type": "markdown",
   "metadata": {
    "deletable": true,
    "editable": true
   },
   "source": [
    "# Common Variants between F366 M1 and M2 rare MAF"
   ]
  },
  {
   "cell_type": "code",
   "execution_count": null,
   "metadata": {
    "collapsed": false,
    "deletable": true,
    "editable": true
   },
   "outputs": [],
   "source": [
    "f366m1_m2 = intersections(f366m1_raremaf_genes,f366m2_raremaf_genes)\n",
    "print(f366m1_m2)"
   ]
  },
  {
   "cell_type": "markdown",
   "metadata": {
    "deletable": true,
    "editable": true
   },
   "source": [
    "# F366 M1 and M2 Pathogenic"
   ]
  },
  {
   "cell_type": "code",
   "execution_count": null,
   "metadata": {
    "collapsed": false,
    "deletable": true,
    "editable": true
   },
   "outputs": [],
   "source": [
    "rows, functions,exfunc, rs,gene, exacall, gnomall, pathogenics = load_annovar('f366m1-anno-ref.hg19_multianno.txt')\n",
    "count = 0\n",
    "f366m1_pathogenic_genes = []\n",
    "for i in range(0,len(exacall) ): \n",
    "    if 'athogenic' in pathogenics[i]: \n",
    "        if (exacall[i] == '.') or( float(exacall[i]) < cutoff) or (gnomall[i] =='.') or (float(gnomall[i]) < cutoff):\n",
    "            count += 1 \n",
    "            writelist(rows[i], 'f366m1.pathogenics.filtered.txt')\n",
    "            print(rs[i], gene[i], exacall[i],gnomall[i], pathogenics[i])\n",
    "            if gene[i] not in f366m1_pathogenic_genes:\n",
    "                    f366m1_pathogenic_genes.append(gene[i])\n",
    "print ('Number of variants that are rare and pathogenic cutoff <', cutoff, 'is:',count)\n",
    "print (f366m1_pathogenic_genes)\n",
    "#=====================================================M3\n",
    "rows, functions,exfunc, rs,gene, exacall, gnomall, pathogenics = load_annovar('f366m2-anno-ref.hg19_multianno.txt')\n",
    "count = 0\n",
    "f366m2_pathogenic_genes = []\n",
    "for i in range(0,len(exacall) ): \n",
    "    if 'athogenic' in pathogenics[i]: \n",
    "        if (exacall[i] == '.') or (float(exacall[i]) < cutoff) or (gnomall[i] =='.') or (float(gnomall[i]) < cutoff):\n",
    "            count += 1 \n",
    "            writelist(rows[i], 'f366m2.pathogenics.filtered.txt')\n",
    "            print(rs[i], gene[i], exacall[i],gnomall[i], pathogenics[i])\n",
    "            if gene[i] not in f366m2_pathogenic_genes:\n",
    "                    f366m2_pathogenic_genes.append(gene[i])\n",
    "print ('Number of variants that are rare and pathogenic cutoff <', cutoff, 'is:',count)\n",
    "print (f366m2_pathogenic_genes)"
   ]
  },
  {
   "cell_type": "markdown",
   "metadata": {
    "deletable": true,
    "editable": true
   },
   "source": [
    "# F366 pathogenic variants common between M1 and M2"
   ]
  },
  {
   "cell_type": "code",
   "execution_count": null,
   "metadata": {
    "collapsed": false,
    "deletable": true,
    "editable": true
   },
   "outputs": [],
   "source": [
    "f366m1_m2_pathogenic_genes = intersections(f366m1_pathogenic_genes, f366m2_pathogenic_genes)\n",
    "print(f366m1_m2_pathogenic_genes)"
   ]
  },
  {
   "cell_type": "markdown",
   "metadata": {
    "deletable": true,
    "editable": true
   },
   "source": [
    "# F366 M1 and M2 no MAF analysis "
   ]
  },
  {
   "cell_type": "code",
   "execution_count": null,
   "metadata": {
    "collapsed": false,
    "deletable": true,
    "editable": true
   },
   "outputs": [],
   "source": [
    "rows, functions,exfunc, rs,gene, exacall, gnomall, pathogenics = load_annovar('f366m1-anno-ref.hg19_multianno.txt')\n",
    "count = 0\n",
    "f366m1_nomafs_genes = []\n",
    "f366m1_nomafvariants = [] \n",
    "for i in range(0,len(exacall) ): \n",
    "    if (exacall[i] == '.') and (gnomall[i] =='.') and functions[i] =='exonic':\n",
    "            count += 1 \n",
    "            writelist(rows[i], 'f366m1.filtered.noMafs.txt')\n",
    "            #print(rs[i], gene[i], exacall[i],gnomall[i])\n",
    "            if gene[i] not in f366m1_nomafs_genes:\n",
    "                    f366m1_nomafs_genes.append(gene[i])\n",
    "            var = rs[i]+'.'+gene[i]\n",
    "            if var not in f366m1_nomafvariants: \n",
    "                    f366m1_nomafvariants.append(var)\n",
    "print ('Number of variants with no MAf in both exacall and gnomAD <', cutoff, 'is:',count)\n",
    "print (f366m1_nomafs_genes)\n",
    "#===========================================M3\n",
    "rows, functions,exfunc, rs,gene, exacall, gnomall, pathogenics = load_annovar('f366m2-anno-ref.hg19_multianno.txt')\n",
    "count = 0\n",
    "f366m2_nomafs_genes = []\n",
    "f366m2_nomafvariants = []\n",
    "for i in range(0,len(exacall) ): \n",
    "    if (exacall[i] == '.') and (gnomall[i] =='.') and functions[i] =='exonic':\n",
    "            count += 1 \n",
    "            writelist(rows[i], 'f366m2.filtered.noMafs.txt')\n",
    "            #print(rs[i], gene[i], exacall[i],gnomall[i])\n",
    "            if gene[i] not in f366m2_nomafs_genes:\n",
    "                    f366m2_nomafs_genes.append(gene[i])\n",
    "            var = rs[i]+'.'+gene[i]\n",
    "            if var not in f366m2_nomafvariants: \n",
    "                    f366m2_nomafvariants.append(var)\n",
    "            \n",
    "print ('Number of variants with no MAf in both exacall and gnomAD <', cutoff, 'is:',count)\n",
    "print (f366m2_nomafs_genes)"
   ]
  },
  {
   "cell_type": "markdown",
   "metadata": {
    "deletable": true,
    "editable": true
   },
   "source": [
    "# F366 common no MAFs between M1 and M2"
   ]
  },
  {
   "cell_type": "code",
   "execution_count": null,
   "metadata": {
    "collapsed": false,
    "deletable": true,
    "editable": true
   },
   "outputs": [],
   "source": [
    "f366m1_m2_nomafs_genes = difference(f366m1_nomafs_genes, f366m2_nomafs_genes)\n",
    "print(f366m1_m2_nomafs_genes)"
   ]
  },
  {
   "cell_type": "markdown",
   "metadata": {
    "deletable": true,
    "editable": true
   },
   "source": [
    "# SP82"
   ]
  },
  {
   "cell_type": "markdown",
   "metadata": {
    "deletable": true,
    "editable": true
   },
   "source": [
    "# General Analysis "
   ]
  },
  {
   "cell_type": "code",
   "execution_count": null,
   "metadata": {
    "collapsed": false,
    "deletable": true,
    "editable": true
   },
   "outputs": [],
   "source": [
    "rows, functions,exfunc, rs,gene, exacall, gnomall, pathogenics= load_annovar('82-anno-ref.hg19_multianno.txt')\n",
    "c_exonic = 0\n",
    "c_intronic = 0\n",
    "c_intergenic = 0\n",
    "count = 0\n",
    "stats = {'.':0,'nonsynonymous SNV':0,'synonymous SNV':0,'nonframeshift insertion':0,'nonframeshift deletion':0,'frameshift deletion':0,'stoploss':0,'unknown':0,'stopgain':0,'frameshift insertion':0}\n",
    "for i in range(0,len(exacall) ): \n",
    "    if exacall[i] != '.' and float(exacall[i]) <= 0.01 : \n",
    "            if functions[i] == 'exonic':\n",
    "                    c_exonic +=1 \n",
    "            if functions[i] == 'intronic':\n",
    "                    c_intronic +=1 \n",
    "            if functions[i] == 'intergenic':\n",
    "                    c_intergenic +=1\n",
    "            count += 1 \n",
    "            stats[exfunc[i]] +=1\n",
    "            #writelist(rows[i], '82-exac.txt')\n",
    "            #print(rs[i], gene[i], functions[i], exacall[i],gnomall[i])\n",
    "labels = ['Exonic','Intronic','Intergenic','Other']\n",
    "values = [] \n",
    "values.append(c_exonic) \n",
    "values.append(c_intronic)\n",
    "values.append(c_intergenic)\n",
    "values.append(count - (c_exonic +c_intronic +c_intergenic)) \n",
    "cmap = plt.cm.prism\n",
    "colors = ['#7b76ab','#b4aeeb','#DB7093','#70a2e3']\n",
    "\n",
    "patches, texts, autotexts= plt.pie(values, labels=labels, colors =colors, autopct='%1.1f%%', labeldistance=1.05,\n",
    "        shadow=False, startangle=180)\n",
    "for i in autotexts:\n",
    "    i.set_fontsize(8.5)\n",
    "plt.axis('equal')\n",
    "plt.savefig('82.raremaf.png')\n",
    "plt.show()\n",
    "\n",
    "labels = []\n",
    "values = []\n",
    "for i in  stats.keys(): \n",
    "    labels.append(i)\n",
    "for i in stats.values():\n",
    "    values.append(i)\n",
    "colors = ['#7b76ab','#DB7093','lightsteelblue','#b4aeeb','r','#20B2AA','#8FC730','#00FFFF','orange','#483D8B']\n",
    "patches, texts = plt.pie(values,colors =colors,shadow=False, startangle=180)\n",
    "plt.legend(patches,labels, bbox_to_anchor=(0.00, 1))\n",
    "\n",
    "plt.axis('equal')\n",
    " \n",
    "plt.savefig('82.exonic.png')\n",
    "plt.show()\n",
    "     \n",
    "     "
   ]
  },
  {
   "cell_type": "markdown",
   "metadata": {
    "deletable": true,
    "editable": true
   },
   "source": [
    "# SP82 Rely on MAF analysis "
   ]
  },
  {
   "cell_type": "code",
   "execution_count": null,
   "metadata": {
    "collapsed": false,
    "deletable": true,
    "editable": true
   },
   "outputs": [],
   "source": [
    "rows, functions,exfunc, rs,gene, exacall, gnomall, pathogenics = load_annovar('82-anno-ref.hg19_multianno.txt')\n",
    "count = 0\n",
    "outfile = '82.raremaf.filtered.txt'\n",
    "eighty2_raremaf_genes = []\n",
    "for i in range(0,len(exacall) ): \n",
    "    if (gnomall[i] != '.') and (exacall[i] !='.'):\n",
    "        if   (float(gnomall[i])  < cutoff) and (float(exacall[i]) < cutoff) and functions[i] =='exonic': \n",
    "            count += 1 \n",
    "            writelist(rows[i], outfile)\n",
    "            print(rs[i], gene[i], exacall[i],gnomall[i])\n",
    "            if gene[i] not in eighty2_raremaf_genes: \n",
    "                    eighty2_raremaf_genes.append(gene[i])\n",
    "    elif (gnomall[i] == '.') and (exacall[i] != '.') and (float(exacall[i]) < cutoff) and functions[i] =='exonic':\n",
    "            count += 1 \n",
    "            writelist(rows[i], outfile)\n",
    "            print(rs[i], gene[i], exacall[i],gnomall[i])\n",
    "            if gene[i] not in eighty2_raremaf_genes: \n",
    "                    eighty2_raremaf_genes.append(gene[i])\n",
    "    elif (exacall[i] =='.') and (gnomall[i] != '.') and (float (gnomall[i]) < cutoff) and functions[i] =='exonic':\n",
    "            count += 1 \n",
    "            writelist(rows[i], outfile)\n",
    "            print(rs[i], gene[i], exacall[i],gnomall[i])\n",
    "            if gene[i] not in eighty2_raremaf_genes: \n",
    "                    eighty2_raremaf_genes.append(gene[i])\n",
    "\n",
    "print ('Number of variants with rare MAF in gnomall and exac <', cutoff, 'is:',count)\n",
    "print (eighty2_raremaf_genes)"
   ]
  },
  {
   "cell_type": "markdown",
   "metadata": {
    "deletable": true,
    "editable": true
   },
   "source": [
    "# '.' Mafs in both gnomAD and ExAC"
   ]
  },
  {
   "cell_type": "code",
   "execution_count": null,
   "metadata": {
    "collapsed": false,
    "deletable": true,
    "editable": true
   },
   "outputs": [],
   "source": [
    "rows, functions,exfunc, rs,gene, exacall, gnomall, pathogenics = load_annovar('82-anno-ref.hg19_multianno.txt')\n",
    "count = 0\n",
    "eighty2_nomafs_genes = []\n",
    "for i in range(0,len(exacall) ): \n",
    "    if (exacall[i] == '.') and (gnomall[i] =='.') and functions[i] =='exonic':\n",
    "            count += 1 \n",
    "            writelist(rows[i], '82.noMafs.filtered.txt')\n",
    "            print(rs[i], gene[i], exacall[i],gnomall[i])\n",
    "            if gene[i] not in eighty2_nomafs_genes:\n",
    "                    eighty2_nomafs_genes.append(gene[i])\n",
    "print ('Number of variants with no MAf in both exacall and gnomAD <', cutoff, 'is:',count)\n",
    "print (eighty2_nomafs_genes)"
   ]
  },
  {
   "cell_type": "markdown",
   "metadata": {
    "deletable": true,
    "editable": true
   },
   "source": [
    "# SP82 Working with Pathogenics "
   ]
  },
  {
   "cell_type": "code",
   "execution_count": null,
   "metadata": {
    "collapsed": false,
    "deletable": true,
    "editable": true
   },
   "outputs": [],
   "source": [
    "rows, functions,exfunc, rs,gene, exacall, gnomall, pathogenics = load_annovar('82-anno-ref.hg19_multianno.txt')\n",
    "count = 0\n",
    "eighty2_pathogenics_genes = []\n",
    "for i in range(0,len(exacall) ): \n",
    "    if 'athogenic' in pathogenics[i]: \n",
    "        if (exacall[i] == '.' or float(exacall[i]) < cutoff) or (gnomall[i] =='.' or float(gnomall[i]) < cutoff):\n",
    "            count += 1 \n",
    "            writelist(rows[i], '82.pathogenics.filtered.txt')\n",
    "            print(rs[i], gene[i], exacall[i],gnomall[i], pathogenics[i])\n",
    "            if gene[i] not in eighty2_pathogenics_genes:\n",
    "                    eighty2_pathogenics_genes.append(gene[i])\n",
    "print ('Number of variants that are rare and pathogenic cutoff <', cutoff, 'is:',count)\n",
    "print (eighty2_pathogenics_genes)"
   ]
  },
  {
   "cell_type": "markdown",
   "metadata": {
    "deletable": true,
    "editable": true
   },
   "source": [
    "# Patient 74"
   ]
  },
  {
   "cell_type": "markdown",
   "metadata": {
    "deletable": true,
    "editable": true
   },
   "source": [
    "# Relying on MAF"
   ]
  },
  {
   "cell_type": "code",
   "execution_count": null,
   "metadata": {
    "collapsed": false,
    "deletable": true,
    "editable": true
   },
   "outputs": [],
   "source": [
    "rows, functions,exfunc, rs,gene, exacall, gnomall, pathogenics = load_annovar('74-anno-ref.hg19_multianno.txt')\n",
    "count = 0\n",
    "outfile = '74.raremaf.filtered.txt'\n",
    "seventy4_raremaf_genes = []\n",
    "for i in range(0,len(exacall) ): \n",
    "    if (gnomall[i] != '.') and (exacall[i] !='.'):\n",
    "        if  ( float(gnomall[i]) < cutoff) and (float(exacall[i]) < cutoff) and functions[i] =='exonic': \n",
    "            count += 1 \n",
    "            writelist(rows[i], outfile)\n",
    "            print(rs[i], gene[i], exacall[i],gnomall[i])\n",
    "            if gene[i] not in seventy4_raremaf_genes: \n",
    "                    seventy4_raremaf_genes.append(gene[i])\n",
    "    elif (gnomall[i] == '.') and (exacall[i] != '.') and (float(exacall[i]) < cutoff) and functions[i] =='exonic':\n",
    "            count += 1 \n",
    "            writelist(rows[i], outfile)\n",
    "            print(rs[i], gene[i], exacall[i],gnomall[i])\n",
    "            if gene[i] not in seventy4_raremaf_genes: \n",
    "                    seventy4_raremaf_genes.append(gene[i])\n",
    "    elif (exacall[i] =='.') and (gnomall[i] != '.') and (float (gnomall[i]) < cutoff) and functions[i] =='exonic':\n",
    "            count += 1 \n",
    "            writelist(rows[i], outfile)\n",
    "            print(rs[i], gene[i], exacall[i],gnomall[i])\n",
    "            if gene[i] not in seventy4_raremaf_genes: \n",
    "                    seventy4_raremaf_genes.append(gene[i])\n",
    "\n",
    "print ('Number of variants with rare MAF in gnomall and exac <', cutoff, 'is:',count)\n",
    "print (seventy4_raremaf_genes)"
   ]
  },
  {
   "cell_type": "markdown",
   "metadata": {
    "deletable": true,
    "editable": true
   },
   "source": [
    "# 74 No MAFs variants in ExAC and gnomAD"
   ]
  },
  {
   "cell_type": "code",
   "execution_count": null,
   "metadata": {
    "collapsed": false,
    "deletable": true,
    "editable": true
   },
   "outputs": [],
   "source": [
    "rows, functions,exfunc, rs,gene, exacall, gnomall, pathogenics = load_annovar('74-anno-ref.hg19_multianno.txt')\n",
    "count = 0\n",
    "seventy4_nomafs_genes = []\n",
    "for i in range(0,len(exacall) ): \n",
    "    if (exacall[i] == '.') and (gnomall[i] =='.') and functions[i] =='exonic':\n",
    "            count += 1 \n",
    "            writelist(rows[i], '74.noMafs.filtered.txt')\n",
    "            print(rs[i], gene[i], exacall[i],gnomall[i])\n",
    "            if gene[i] not in seventy4_nomafs_genes:\n",
    "                    seventy4_nomafs_genes.append(gene[i])\n",
    "print ('Number of variants with no MAf in both exacall and gnomAD <', cutoff, 'is:',count)\n",
    "print (seventy4_nomafs_genes)"
   ]
  },
  {
   "cell_type": "markdown",
   "metadata": {
    "deletable": true,
    "editable": true
   },
   "source": [
    "# 74 Pathogenic Analysis"
   ]
  },
  {
   "cell_type": "code",
   "execution_count": null,
   "metadata": {
    "collapsed": false,
    "deletable": true,
    "editable": true
   },
   "outputs": [],
   "source": [
    "rows, functions,exfunc, rs,gene, exacall, gnomall, pathogenics = load_annovar('74-anno-ref.hg19_multianno.txt')\n",
    "count = 0\n",
    "seventy4_pathogenics_genes = []\n",
    "for i in range(0,len(exacall) ): \n",
    "    if 'athogenic' in pathogenics[i]: \n",
    "        if (exacall[i] == '.') or (float(exacall[i]) < cutoff) or (gnomall[i] =='.') or (float(gnomall[i]) < cutoff):\n",
    "            count += 1 \n",
    "            writelist(rows[i], '74.pathogenics.filtered.txt')\n",
    "            print(rs[i], gene[i], exacall[i],gnomall[i], pathogenics[i])\n",
    "            if gene[i] not in seventy4_pathogenics_genes:\n",
    "                    seventy4_pathogenics_genes.append(gene[i])\n",
    "print ('Number of variants that are rare and pathogenic cutoff <', cutoff, 'is:',count)\n",
    "print (seventy4_pathogenics_genes)"
   ]
  },
  {
   "cell_type": "markdown",
   "metadata": {
    "collapsed": true,
    "deletable": true,
    "editable": true
   },
   "source": [
    "# Working with F210"
   ]
  },
  {
   "cell_type": "markdown",
   "metadata": {
    "deletable": true,
    "editable": true
   },
   "source": [
    "# M1 and M3 MAF analysis"
   ]
  },
  {
   "cell_type": "code",
   "execution_count": null,
   "metadata": {
    "collapsed": false,
    "deletable": true,
    "editable": true
   },
   "outputs": [],
   "source": [
    "rows, functions,exfunc, rs,gene, exacall, gnomall, pathogenics = load_annovar('f210m1-anno-ref.hg19_multianno.txt')\n",
    "count = 0\n",
    "outfile = 'f210m1.raremaf.filtered.txt'\n",
    "f210m1_raremaf_genes = []\n",
    "f210m1_variants = []\n",
    "for i in range(0,len(exacall) ): \n",
    "    if (gnomall[i] != '.') and (exacall[i] !='.'):\n",
    "        if   (float(gnomall[i]) < cutoff) and (float(exacall[i]) < cutoff) and functions[i] =='exonic': \n",
    "            count += 1 \n",
    "            writelist(rows[i], outfile)\n",
    "            print(rs[i], gene[i], exacall[i],gnomall[i])\n",
    "            if gene[i] not in f210m1_raremaf_genes: \n",
    "                    f210m1_raremaf_genes.append(gene[i])\n",
    "            var = rs[i]+'.'+gene[i]\n",
    "            if var not in f210m1_variants: \n",
    "                    f210m1_variants.append(var)\n",
    "    elif (gnomall[i] == '.') and (exacall[i] != '.') and (float(exacall[i]) < cutoff) and functions[i] =='exonic':\n",
    "            count += 1 \n",
    "            writelist(rows[i], outfile)\n",
    "            print(rs[i], gene[i], exacall[i],gnomall[i])\n",
    "            if gene[i] not in f210m1_raremaf_genes: \n",
    "                    f210m1_raremaf_genes.append(gene[i])\n",
    "            var = rs[i]+'.'+gene[i]\n",
    "            if var not in f210m1_variants: \n",
    "                    f210m1_variants.append(var)\n",
    " \n",
    "    elif (exacall[i] =='.') and (gnomall[i] != '.') and (float (gnomall[i]) < cutoff) and functions[i] =='exonic':\n",
    "            count += 1 \n",
    "            writelist(rows[i], outfile)\n",
    "            print(rs[i], gene[i], exacall[i],gnomall[i])\n",
    "            if gene[i] not in  f210m1_raremaf_genes: \n",
    "                     f210m1_raremaf_genes.append(gene[i])\n",
    "            var = rs[i]+'.'+gene[i]\n",
    "            if var not in f210m1_variants: \n",
    "                    f210m1_variants.append(var)\n",
    "print ('Number of variants with gnomall and exac <', cutoff, 'is:',count)\n",
    "print (f210m1_raremaf_genes)\n",
    "\n",
    "#===================================================M3 \n",
    "rows, functions,exfunc, rs,gene, exacall, gnomall, pathogenics = load_annovar('f210m3-anno-ref.hg19_multianno.txt')\n",
    "count = 0\n",
    "outfile = 'f210m3.raremaf.filtered.txt'\n",
    "f210m3_raremaf_genes = []\n",
    "f210m3_variants = []\n",
    "for i in range(0,len(exacall) ): \n",
    "    if (gnomall[i] != '.') and (exacall[i] !='.'):\n",
    "        if   (float(gnomall[i])  < cutoff) and (float(exacall[i]) < cutoff) and functions[i] =='exonic': \n",
    "            count += 1 \n",
    "            writelist(rows[i], outfile)\n",
    "            print(rs[i], gene[i], exacall[i],gnomall[i])\n",
    "            var = rs[i]+gene[i]\n",
    "            if var not in f210m3_variants: \n",
    "                    f210m3_variants.append(var)\n",
    "            if gene[i] not in f210m3_raremaf_genes: \n",
    "                    f210m3_raremaf_genes.append(gene[i])\n",
    "    elif (gnomall[i] == '.') and (exacall[i] != '.') and (float(exacall[i]) < cutoff) and functions[i] =='exonic':\n",
    "            count += 1 \n",
    "            writelist(rows[i], outfile)\n",
    "            print(rs[i], gene[i], exacall[i],gnomall[i])\n",
    "            if gene[i] not in f210m3_raremaf_genes: \n",
    "                    f210m3_raremaf_genes.append(gene[i])\n",
    "            var = rs[i]+gene[i]\n",
    "            if var not in f210m3_variants: \n",
    "                    f210m3_variants.append(var)\n",
    "    elif (exacall[i] =='.') and (gnomall[i] != '.') and (float (gnomall[i]) < cutoff) and functions[i] =='exonic':\n",
    "            count += 1 \n",
    "            writelist(rows[i], outfile)\n",
    "            print(rs[i], gene[i], exacall[i],gnomall[i])\n",
    "            if gene[i] not in f210m3_raremaf_genes: \n",
    "                    f210m3_raremaf_genes.append(gene[i])\n",
    "            var = rs[i]+'.'+gene[i]\n",
    "            if var not in f210m3_variants: \n",
    "                    f210m3_variants.append(var)\n",
    "\n",
    "print ('Number of variants with gnomall and exac <', cutoff, 'is:',count)\n",
    "print (f210m3_raremaf_genes)"
   ]
  },
  {
   "cell_type": "markdown",
   "metadata": {
    "deletable": true,
    "editable": true
   },
   "source": [
    "# Rare MAFs variants found in M1 and not in M3"
   ]
  },
  {
   "cell_type": "code",
   "execution_count": null,
   "metadata": {
    "collapsed": false,
    "deletable": true,
    "editable": true
   },
   "outputs": [],
   "source": [
    "f210m1_m3_mafs_genes = difference(f210m1_raremaf_genes, f210m3_raremaf_genes)\n",
    "print(f210m1_m3_mafs_genes)"
   ]
  },
  {
   "cell_type": "code",
   "execution_count": null,
   "metadata": {
    "collapsed": false,
    "deletable": true,
    "editable": true
   },
   "outputs": [],
   "source": [
    "f210m1_m3_maf_variants = difference(f210m1_variants,f210m3_variants)\n",
    "for i in f210m1_m3_maf_variants:\n",
    "        j = i.split('.')\n",
    "        print (j[1])"
   ]
  },
  {
   "cell_type": "markdown",
   "metadata": {
    "deletable": true,
    "editable": true
   },
   "source": [
    "# M1 and M3  Pathogenic Analysis"
   ]
  },
  {
   "cell_type": "code",
   "execution_count": null,
   "metadata": {
    "collapsed": false,
    "deletable": true,
    "editable": true
   },
   "outputs": [],
   "source": [
    "rows, functions,exfunc, rs,gene, exacall, gnomall, pathogenics = load_annovar('f210m1-anno-ref.hg19_multianno.txt')\n",
    "count = 0\n",
    "f210m1_pathogenic_genes = []\n",
    "for i in range(0,len(exacall) ): \n",
    "    if 'athogenic' in pathogenics[i]: \n",
    "        if (exacall[i] == '.') or( float(exacall[i]) < cutoff) or (gnomall[i] =='.') or (float(gnomall[i]) < cutoff):\n",
    "            count += 1 \n",
    "            writelist(rows[i], 'f210m1.pathogenics.filtered.txt')\n",
    "            print(rs[i], gene[i], exacall[i],gnomall[i], pathogenics[i])\n",
    "            if gene[i] not in f210m1_pathogenic_genes:\n",
    "                    f210m1_pathogenic_genes.append(gene[i])\n",
    "print ('Number of variants that are rare and pathogenic cutoff <', cutoff, 'is:',count)\n",
    "print (f210m1_pathogenic_genes)\n",
    "#=====================================================M3\n",
    "rows, functions,exfunc, rs,gene, exacall, gnomall, pathogenics = load_annovar('f210m3-anno-ref.hg19_multianno.txt')\n",
    "count = 0\n",
    "f210m3_pathogenic_genes = []\n",
    "for i in range(0,len(exacall) ): \n",
    "    if 'athogenic' in pathogenics[i]: \n",
    "        if (exacall[i] == '.') or (float(exacall[i]) < cutoff) or (gnomall[i] =='.') or (float(gnomall[i]) < cutoff):\n",
    "            count += 1 \n",
    "            writelist(rows[i], 'f210m3.pathogenics.filtered.txt')\n",
    "            print(rs[i], gene[i], exacall[i],gnomall[i], pathogenics[i])\n",
    "            if gene[i] not in f210m3_pathogenic_genes:\n",
    "                    f210m3_pathogenic_genes.append(gene[i])\n",
    "print ('Number of variants that are rare and pathogenic cutoff <', cutoff, 'is:',count)\n",
    "print (f210m3_pathogenic_genes)"
   ]
  },
  {
   "cell_type": "markdown",
   "metadata": {
    "deletable": true,
    "editable": true
   },
   "source": [
    "# Commons between M1 and M3 pathogenic variants"
   ]
  },
  {
   "cell_type": "code",
   "execution_count": null,
   "metadata": {
    "collapsed": false,
    "deletable": true,
    "editable": true
   },
   "outputs": [],
   "source": [
    "f210m1_m3_pathogenic_genes = difference(f210m1_pathogenic_genes, f210m3_pathogenic_genes)\n",
    "print(f210m1_m3_pathogenic_genes)"
   ]
  },
  {
   "cell_type": "markdown",
   "metadata": {
    "deletable": true,
    "editable": true
   },
   "source": [
    "# F210 M1 No MAFs Analysis"
   ]
  },
  {
   "cell_type": "code",
   "execution_count": null,
   "metadata": {
    "collapsed": false,
    "deletable": true,
    "editable": true
   },
   "outputs": [],
   "source": [
    "rows, functions,exfunc, rs,gene, exacall, gnomall, pathogenics = load_annovar('f210m1-anno-ref.hg19_multianno.txt')\n",
    "count = 0\n",
    "f210m1_nomafs_genes = []\n",
    "f210m1_nomafvariants = [] \n",
    "for i in range(0,len(exacall) ): \n",
    "    if (exacall[i] == '.') and (gnomall[i] =='.') and functions[i] =='exonic':\n",
    "            count += 1 \n",
    "            writelist(rows[i], 'f210m1.filtered.noMafs.txt')\n",
    "            #print(rs[i], gene[i], exacall[i],gnomall[i])\n",
    "            if gene[i] not in f210m1_nomafs_genes:\n",
    "                    f210m1_nomafs_genes.append(gene[i])\n",
    "            var = rs[i]+'.'+gene[i]\n",
    "            if var not in f210m1_nomafvariants: \n",
    "                    f210m1_nomafvariants.append(var)\n",
    "print ('Number of variants with no MAf in both exacall and gnomAD <', cutoff, 'is:',count)\n",
    "print (f210m1_nomafs_genes)\n",
    "#===========================================M3\n",
    "rows, functions,exfunc, rs,gene, exacall, gnomall, pathogenics = load_annovar('f210m3-anno-ref.hg19_multianno.txt')\n",
    "count = 0\n",
    "f210m3_nomafs_genes = []\n",
    "f210m3_nomafvariants = []\n",
    "for i in range(0,len(exacall) ): \n",
    "    if (exacall[i] == '.') and (gnomall[i] =='.') and functions[i] =='exonic':\n",
    "            count += 1 \n",
    "            writelist(rows[i], 'f210m3.filtered.noMafs.txt')\n",
    "            #print(rs[i], gene[i], exacall[i],gnomall[i])\n",
    "            if gene[i] not in f210m3_nomafs_genes:\n",
    "                    f210m3_nomafs_genes.append(gene[i])\n",
    "            var = rs[i]+'.'+gene[i]\n",
    "            if var not in f210m3_nomafvariants: \n",
    "                    f210m3_nomafvariants.append(var)\n",
    "            \n",
    "print ('Number of variants with no MAf in both exacall and gnomAD <', cutoff, 'is:',count)\n",
    "print (f210m3_nomafs_genes)"
   ]
  },
  {
   "cell_type": "code",
   "execution_count": null,
   "metadata": {
    "collapsed": false,
    "deletable": true,
    "editable": true
   },
   "outputs": [],
   "source": [
    "f210m1_m3_nomaf_variants = difference(f210m1_nomafvariants,f210m3_nomafvariants)\n",
    "for i in f210m1_m3_nomaf_variants:\n",
    "        j = i.split('.')\n",
    "        print (j[1])"
   ]
  },
  {
   "cell_type": "markdown",
   "metadata": {
    "deletable": true,
    "editable": true
   },
   "source": [
    "# What noMAFS variants in F210M1 not found in F210 M3 "
   ]
  },
  {
   "cell_type": "code",
   "execution_count": null,
   "metadata": {
    "collapsed": false,
    "deletable": true,
    "editable": true
   },
   "outputs": [],
   "source": [
    "f210m1_m3_nomafs_genes = difference(f210m1_nomafs_genes, f210m3_nomafs_genes)\n",
    "print(f210m1_m3_nomafs_genes)"
   ]
  },
  {
   "cell_type": "markdown",
   "metadata": {
    "collapsed": true,
    "deletable": true,
    "editable": true
   },
   "source": [
    "# Working with F89 "
   ]
  },
  {
   "cell_type": "markdown",
   "metadata": {
    "deletable": true,
    "editable": true
   },
   "source": [
    "# M1 is less than Cutoff in either gnomAD or ExAC"
   ]
  },
  {
   "cell_type": "code",
   "execution_count": null,
   "metadata": {
    "collapsed": false,
    "deletable": true,
    "editable": true
   },
   "outputs": [],
   "source": [
    "rows, functions,exfunc, rs,gene, exacall, gnomall, pathogenics = load_annovar('f89m1-anno-ref.hg19_multianno.txt')\n",
    "count = 0\n",
    "outfile = 'f89m1.raremaf.filtered.txt'\n",
    "f89m1_raremaf_genes = []\n",
    "f89m1_raremaf_variants = [] \n",
    "for i in range(0,len(exacall) ): \n",
    "    if (gnomall[i] != '.') and (exacall[i] !='.'):\n",
    "        if   (float(gnomall[i]) < cutoff) and (float(exacall[i]) < cutoff) and functions[i] =='exonic': \n",
    "            count += 1 \n",
    "            writelist(rows[i], outfile)\n",
    "            print(rs[i], gene[i], exacall[i],gnomall[i])\n",
    "            if gene[i] not in f89m1_raremaf_genes: \n",
    "                    f89m1_raremaf_genes.append(gene[i])\n",
    "            var = rs[i] + '.' + gene[i] +'.' +exacall[i] +'.'+ gnomall[i]\n",
    "            if var not in f89m1_raremaf_variants: \n",
    "                f89m1_raremaf_variants.append(var)\n",
    "    elif (gnomall[i] == '.') and (exacall[i] != '.') and (float(exacall[i]) < cutoff) and functions[i] =='exonic':\n",
    "            count += 1 \n",
    "            writelist(rows[i], outfile)\n",
    "            print(rs[i], gene[i], exacall[i],gnomall[i])\n",
    "            if gene[i] not in f89m1_raremaf_genes: \n",
    "                    f89m1_raremaf_genes.append(gene[i])\n",
    "            var = rs[i] + '.' + gene[i] +'.' +exacall[i] +'.'+ gnomall[i]\n",
    "            if var not in f89m1_raremaf_variants: \n",
    "                f89m1_raremaf_variants.append(var)\n",
    "           \n",
    "    elif (exacall[i] =='.') and (gnomall[i] != '.') and (float (gnomall[i]) < cutoff) and functions[i] =='exonic':\n",
    "            count += 1 \n",
    "            writelist(rows[i], outfile)\n",
    "            print(rs[i], gene[i], exacall[i],gnomall[i])\n",
    "            if gene[i] not in  f89m1_raremaf_genes: \n",
    "                     f89m1_raremaf_genes.append(gene[i])\n",
    "            var = rs[i] + '.' + gene[i] +'.' +exacall[i] +'.'+ gnomall[i]\n",
    "            if var not in f89m1_raremaf_variants: \n",
    "                f89m1_raremaf_variants.append(var)\n",
    "\n",
    "print ('Number of variants with gnomall and/or exac <', cutoff, 'is:',count)\n",
    "print (f89m1_raremaf_variants)"
   ]
  },
  {
   "cell_type": "markdown",
   "metadata": {
    "deletable": true,
    "editable": true
   },
   "source": [
    "# M2 is less than Cutoff"
   ]
  },
  {
   "cell_type": "code",
   "execution_count": null,
   "metadata": {
    "collapsed": false,
    "deletable": true,
    "editable": true
   },
   "outputs": [],
   "source": [
    "rows, functions,exfunc, rs,gene, exacall, gnomall, pathogenics = load_annovar('f89m2-anno-ref.hg19_multianno.txt')\n",
    "count = 0\n",
    "outfile = 'f89m2.raremaf.filtered.txt'\n",
    "f89m2_raremaf_genes = []\n",
    "f89m2_raremaf_variants = []\n",
    "for i in range(0,len(exacall) ): \n",
    "    if (gnomall[i] != '.') and (exacall[i] !='.'):\n",
    "        if   (float(gnomall[i]) < cutoff) and (float(exacall[i]) < cutoff) and functions[i] =='exonic': \n",
    "            count += 1 \n",
    "            writelist(rows[i], outfile)\n",
    "            print(rs[i], gene[i], exacall[i],gnomall[i])\n",
    "            if gene[i] not in f89m2_raremaf_genes: \n",
    "                    f89m2_raremaf_genes.append(gene[i])\n",
    "            var = rs[i] + '.' + gene[i] +'.' +exacall[i] +'.'+ gnomall[i]\n",
    "            if var not in f89m2_raremaf_variants: \n",
    "                f89m2_raremaf_variants.append(var)\n",
    "\n",
    "    elif (gnomall[i] == '.') and (exacall[i] != '.') and (float(exacall[i]) < cutoff) and functions[i] =='exonic':\n",
    "            count += 1 \n",
    "            writelist(rows[i], outfile)\n",
    "            print(rs[i], gene[i], exacall[i],gnomall[i])\n",
    "            if gene[i] not in f89m2_raremaf_genes: \n",
    "                    f89m2_raremaf_genes.append(gene[i])\n",
    "            var = rs[i] + '.' + gene[i] +'.' +exacall[i] +'.'+ gnomall[i]\n",
    "            if var not in f89m2_raremaf_variants: \n",
    "                f89m2_raremaf_variants.append(var)\n",
    "    elif (exacall[i] =='.') and (gnomall[i] != '.') and (float (gnomall[i]) < cutoff) and functions[i] =='exonic':\n",
    "            count += 1 \n",
    "            writelist(rows[i], outfile)\n",
    "            print(rs[i], gene[i], exacall[i],gnomall[i])\n",
    "            if gene[i] not in  f89m2_raremaf_genes: \n",
    "                     f89m2_raremaf_genes.append(gene[i])\n",
    "            var = rs[i] + '.' + gene[i] +'.' +exacall[i] +'.'+ gnomall[i]\n",
    "            if var not in f89m2_raremaf_variants: \n",
    "                f89m2_raremaf_variants.append(var)\n",
    "\n",
    "print ('Number of variants with gnomall and exac <', cutoff, 'is:',count)\n",
    "print (f89m2_raremaf_variants)"
   ]
  },
  {
   "cell_type": "markdown",
   "metadata": {
    "deletable": true,
    "editable": true
   },
   "source": [
    "# M3 is less than Cutoff"
   ]
  },
  {
   "cell_type": "code",
   "execution_count": null,
   "metadata": {
    "collapsed": false,
    "deletable": true,
    "editable": true
   },
   "outputs": [],
   "source": [
    "rows, functions,exfunc, rs,gene, exacall, gnomall, pathogenics = load_annovar('f89m3-anno-ref.hg19_multianno.txt')\n",
    "count = 0\n",
    "outfile = 'f89m3.raremaf.filtered.txt'\n",
    "f89m3_raremaf_genes = []\n",
    "f89m3_raremaf_variants = []\n",
    "for i in range(0,len(exacall) ): \n",
    "    if (gnomall[i] != '.') and (exacall[i] !='.'):\n",
    "        if   (float(gnomall[i]) < cutoff) and (float(exacall[i]) < cutoff) and functions[i] =='exonic': \n",
    "            count += 1 \n",
    "            writelist(rows[i], outfile)\n",
    "            print(rs[i], gene[i], exacall[i],gnomall[i])\n",
    "            if gene[i] not in f89m3_raremaf_genes: \n",
    "                    f89m3_raremaf_genes.append(gene[i])            \n",
    "            var = rs[i] + '.' + gene[i] +'.' +exacall[i] +'.'+ gnomall[i]\n",
    "            if var not in f89m3_raremaf_variants: \n",
    "                f89m3_raremaf_variants.append(var)\n",
    "\n",
    "            \n",
    "    elif (gnomall[i] == '.') and (exacall[i] != '.') and (float(exacall[i]) < cutoff) and functions[i] =='exonic':\n",
    "            count += 1 \n",
    "            writelist(rows[i], outfile)\n",
    "            print(rs[i], gene[i], exacall[i],gnomall[i])\n",
    "            if gene[i] not in f89m3_raremaf_genes: \n",
    "                    f89m3_raremaf_genes.append(gene[i])\n",
    "            var = rs[i] + '.' + gene[i] +'.' +exacall[i] +'.'+ gnomall[i]\n",
    "            if var not in f89m3_raremaf_variants: \n",
    "                f89m3_raremaf_variants.append(var)\n",
    "\n",
    "    elif (exacall[i] =='.') and (gnomall[i] != '.') and (float (gnomall[i]) < cutoff) and functions[i] =='exonic':\n",
    "            count += 1 \n",
    "            writelist(rows[i], outfile)\n",
    "            print(rs[i], gene[i], exacall[i],gnomall[i])\n",
    "            if gene[i] not in  f89m3_raremaf_genes: \n",
    "                     f89m3_raremaf_genes.append(gene[i])\n",
    "            var = rs[i] + '.' + gene[i] +'.' +exacall[i] +'.'+ gnomall[i]\n",
    "            if var not in f89m3_raremaf_variants: \n",
    "                f89m3_raremaf_variants.append(var)\n",
    "\n",
    "print ('Number of variants with gnomall and exac <', cutoff, 'is:',count)\n",
    "print (f89m3_raremaf_variants)"
   ]
  },
  {
   "cell_type": "markdown",
   "metadata": {
    "deletable": true,
    "editable": true
   },
   "source": [
    "# M7 is less than Cutoff"
   ]
  },
  {
   "cell_type": "code",
   "execution_count": null,
   "metadata": {
    "collapsed": false,
    "deletable": true,
    "editable": true
   },
   "outputs": [],
   "source": [
    "rows, functions,exfunc, rs,gene, exacall, gnomall, pathogenics = load_annovar('f89m7-anno-ref.hg19_multianno.txt')\n",
    "count = 0\n",
    "outfile = 'f89m7.raremaf.filtered.txt'\n",
    "f89m7_raremaf_genes = []\n",
    "f89m7_raremaf_variants = []\n",
    "for i in range(0,len(exacall) ): \n",
    "    if (gnomall[i] != '.') and (exacall[i] !='.'):\n",
    "        if   (float(gnomall[i]) < cutoff) and (float(exacall[i]) < cutoff) and functions[i] =='exonic': \n",
    "            count += 1 \n",
    "            writelist(rows[i], outfile)\n",
    "            print(rs[i], gene[i], exacall[i],gnomall[i])\n",
    "            if gene[i] not in f89m7_raremaf_genes: \n",
    "                    f89m7_raremaf_genes.append(gene[i])\n",
    "            var = rs[i] + '.' + gene[i] +'.' +exacall[i] +'.'+ gnomall[i]\n",
    "            if var not in f89m7_raremaf_variants: \n",
    "                f89m7_raremaf_variants.append(var)\n",
    "    elif (gnomall[i] == '.') and (exacall[i] != '.') and (float(exacall[i]) < cutoff) and functions[i] =='exonic':\n",
    "            count += 1 \n",
    "            writelist(rows[i], outfile)\n",
    "            print(rs[i], gene[i], exacall[i],gnomall[i])\n",
    "            if gene[i] not in f89m7_raremaf_genes: \n",
    "                    f89m7_raremaf_genes.append(gene[i])\n",
    "            var = rs[i] + '.' + gene[i] +'.' +exacall[i] +'.'+ gnomall[i]\n",
    "            if var not in f89m7_raremaf_variants: \n",
    "                f89m7_raremaf_variants.append(var)\n",
    "    elif (exacall[i] =='.') and (gnomall[i] != '.') and (float (gnomall[i]) < cutoff) and functions[i] =='exonic':\n",
    "            count += 1 \n",
    "            writelist(rows[i], outfile)\n",
    "            print(rs[i], gene[i], exacall[i],gnomall[i])\n",
    "            if gene[i] not in  f89m7_raremaf_genes: \n",
    "                     f89m7_raremaf_genes.append(gene[i])\n",
    "            var = rs[i] + '.' + gene[i] +'.' +exacall[i] +'.'+ gnomall[i]\n",
    "            if var not in f89m7_raremaf_variants: \n",
    "                f89m7_raremaf_variants.append(var)\n",
    "print ('Number of variants with gnomall and exac <', cutoff, 'is:',count)\n",
    "print (f89m7_raremaf_genes)"
   ]
  },
  {
   "cell_type": "markdown",
   "metadata": {
    "deletable": true,
    "editable": true
   },
   "source": [
    "# Common between affected M1 and M2 rare MAFs"
   ]
  },
  {
   "cell_type": "code",
   "execution_count": null,
   "metadata": {
    "collapsed": false,
    "deletable": true,
    "editable": true
   },
   "outputs": [],
   "source": [
    "f89m1_m2 = intersections(f89m1_raremaf_variants,f89m2_raremaf_variants)\n",
    "print (f89m1_raremaf_variants)\n",
    "print('------------------------------')\n",
    "print(f89m2_raremaf_variants)\n",
    "print('------------------------------')\n",
    "\n",
    "for i in f89m1_m2:\n",
    "        j = i.split('.')\n",
    "        print (j[0], j[1], j[2])"
   ]
  },
  {
   "cell_type": "markdown",
   "metadata": {
    "deletable": true,
    "editable": true
   },
   "source": [
    "# What is found in non carriers to ignore later "
   ]
  },
  {
   "cell_type": "code",
   "execution_count": null,
   "metadata": {
    "collapsed": false,
    "deletable": true,
    "editable": true
   },
   "outputs": [],
   "source": [
    "f89m3_m7 = exist(f89m3_raremaf_variants, f89m7_raremaf_variants)\n",
    "#print(f89m3_raremaf_variants)\n",
    "#print('-----------------------')\n",
    "#print(f89m7_raremaf_variants)\n",
    "#print('--------------------------------')\n",
    "for i in f89m3_m7:\n",
    "        j = i.split('.')\n",
    "        print (i)"
   ]
  },
  {
   "cell_type": "markdown",
   "metadata": {
    "collapsed": true,
    "deletable": true,
    "editable": true
   },
   "source": [
    "# Found in M1 M2 and not in M3 OR M7"
   ]
  },
  {
   "cell_type": "code",
   "execution_count": null,
   "metadata": {
    "collapsed": false,
    "deletable": true,
    "editable": true
   },
   "outputs": [],
   "source": [
    "f89_maf_candidates = difference(f89m1_m2, f89m3_m7)\n",
    "#print(f89m1_m2)\n",
    "#print('---')\n",
    "#print(f89m3_m7)\n",
    "print (f89_maf_candidates)"
   ]
  },
  {
   "cell_type": "markdown",
   "metadata": {
    "deletable": true,
    "editable": true
   },
   "source": [
    "# F891  No MAF "
   ]
  },
  {
   "cell_type": "code",
   "execution_count": null,
   "metadata": {
    "collapsed": false,
    "deletable": true,
    "editable": true
   },
   "outputs": [],
   "source": [
    "rows, functions,exfunc, rs,gene, exacall, gnomall, pathogenics = load_annovar('f89m1-anno-ref.hg19_multianno.txt')\n",
    "count = 0\n",
    "f89m1_nomafs_genes = []\n",
    "f89m1_nomafs_variants = []\n",
    "for i in range(0,len(exacall) ): \n",
    "    if (exacall[i] == '.') and (gnomall[i] =='.') and functions[i] =='exonic':\n",
    "            count += 1 \n",
    "            writelist(rows[i], 'f210m1.filtered.noMafs.txt')\n",
    "            #print(rs[i], gene[i], exacall[i],gnomall[i])\n",
    "            if gene[i] not in f89m1_nomafs_genes:\n",
    "                    f89m1_nomafs_genes.append(gene[i])\n",
    "            var = rs[i] + '.' + gene[i] +'.' +exacall[i] +'.'+ gnomall[i]\n",
    "            if var not in f89m1_raremaf_variants: \n",
    "                f89m1_raremaf_variants.append(var)\n",
    "\n",
    "print ('Number of variants with no MAf in both exacall and gnomAD <', cutoff, 'is:',count)\n",
    "print (f89m1_nomafs_genes)\n",
    "#===========================================M2\n",
    "rows, functions,exfunc, rs,gene, exacall, gnomall, pathogenics = load_annovar('f89m2-anno-ref.hg19_multianno.txt')\n",
    "count = 0\n",
    "f89m2_nomafs_genes = []\n",
    "f89m2_nomafs_variants = []\n",
    "for i in range(0,len(exacall) ): \n",
    "    if (exacall[i] == '.') and (gnomall[i] =='.') and functions[i] =='exonic':\n",
    "            count += 1 \n",
    "            writelist(rows[i], 'f89m2.filtered.noMafs.txt')\n",
    "            #print(rs[i], gene[i], exacall[i],gnomall[i])\n",
    "            if gene[i] not in f89m2_nomafs_genes:\n",
    "                    f89m2_nomafs_genes.append(gene[i])\n",
    "            var = rs[i] + '.' + gene[i] +'.' +exacall[i] +'.'+ gnomall[i]\n",
    "            if var not in f89m2_raremaf_variants: \n",
    "                f89m2_raremaf_variants.append(var)\n",
    "\n",
    "print ('Number of variants with no MAF in both exacall and gnomAD <', cutoff, 'is:',count)\n",
    "print (f89m2_nomafs_genes)\n",
    "#===========================================M3\n",
    "rows, functions,exfunc, rs,gene, exacall, gnomall, pathogenics = load_annovar('f89m3-anno-ref.hg19_multianno.txt')\n",
    "count = 0\n",
    "f89m3_nomafs_genes = []\n",
    "f89m3_nomafs_variants = []\n",
    "for i in range(0,len(exacall) ): \n",
    "    if (exacall[i] == '.') and (gnomall[i] =='.') and functions[i] =='exonic':\n",
    "            count += 1 \n",
    "            writelist(rows[i], 'f89m3.filtered.noMafs.txt')\n",
    "            #print(rs[i], gene[i], exacall[i],gnomall[i])\n",
    "            if gene[i] not in f89m3_nomafs_genes:\n",
    "                    f89m3_nomafs_genes.append(gene[i])\n",
    "            var = rs[i] + '.' + gene[i] +'.' +exacall[i] +'.'+ gnomall[i]\n",
    "            if var not in f89m3_raremaf_variants: \n",
    "                f89m3_raremaf_variants.append(var)\n",
    "\n",
    "print ('Number of variants with no MAf in both exacall and gnomAD <', cutoff, 'is:',count)\n",
    "print (f89m3_nomafs_genes)\n",
    "#===========================================M7\n",
    "rows, functions,exfunc, rs,gene, exacall, gnomall, pathogenics = load_annovar('f89m7-anno-ref.hg19_multianno.txt')\n",
    "count = 0\n",
    "f89m7_nomafs_genes = []\n",
    "f89m7_nomafs_variants = []\n",
    "for i in range(0,len(exacall) ): \n",
    "    if (exacall[i] == '.') and (gnomall[i] =='.') and functions[i] =='exonic':\n",
    "            count += 1 \n",
    "            writelist(rows[i], 'f89m7.filtered.noMafs.txt')\n",
    "            #print(rs[i], gene[i], exacall[i],gnomall[i])\n",
    "            if gene[i] not in f89m7_nomafs_genes:\n",
    "                    f89m7_nomafs_genes.append(gene[i])            \n",
    "            var = rs[i] + '.' + gene[i] +'.' +exacall[i] +'.'+ gnomall[i]\n",
    "            if var not in f89m7_raremaf_variants: \n",
    "                f89m7_raremaf_variants.append(var)\n",
    "\n",
    "\n",
    "print ('Number of variants with no MAf in both exacall and gnomAD <', cutoff, 'is:',count)\n",
    "print (f89m7_nomafs_genes)\n",
    "\n",
    "\n",
    "\n"
   ]
  },
  {
   "cell_type": "markdown",
   "metadata": {
    "deletable": true,
    "editable": true
   },
   "source": [
    "# Common Between M1 and M2 "
   ]
  },
  {
   "cell_type": "code",
   "execution_count": null,
   "metadata": {
    "collapsed": false,
    "deletable": true,
    "editable": true
   },
   "outputs": [],
   "source": [
    "f89m1_m2_nomafs = intersections(f89m1_nomafs_genes,f89m2_nomafs_genes)\n",
    "print (f89m1_m2)"
   ]
  },
  {
   "cell_type": "code",
   "execution_count": null,
   "metadata": {
    "collapsed": false,
    "deletable": true,
    "editable": true
   },
   "outputs": [],
   "source": [
    "f89m1_m2_nomafs = intersections(f89m1_nomafs_variants,f89m2_nomafs_variants)\n",
    "print (f89m1_m2)"
   ]
  },
  {
   "cell_type": "markdown",
   "metadata": {
    "deletable": true,
    "editable": true
   },
   "source": [
    "# Found in non carriers to ignore later"
   ]
  },
  {
   "cell_type": "code",
   "execution_count": null,
   "metadata": {
    "collapsed": false,
    "deletable": true,
    "editable": true
   },
   "outputs": [],
   "source": [
    "f89m3_m7_nomafs = exist(f89m3_nomafs_genes, f89m7_nomafs_genes)\n",
    "print(f89m3_m7)"
   ]
  },
  {
   "cell_type": "markdown",
   "metadata": {
    "deletable": true,
    "editable": true
   },
   "source": [
    "# Found in M1 M2 and not in M3 OR M7"
   ]
  },
  {
   "cell_type": "code",
   "execution_count": null,
   "metadata": {
    "collapsed": false,
    "deletable": true,
    "editable": true
   },
   "outputs": [],
   "source": [
    "f89_nomaf_candidates = difference(f89m1_m2_nomafs, f89m3_m7_nomafs)\n",
    "print (f89_nomaf_candidates)"
   ]
  },
  {
   "cell_type": "markdown",
   "metadata": {
    "deletable": true,
    "editable": true
   },
   "source": [
    "# F89 M1 Pathegenic "
   ]
  },
  {
   "cell_type": "code",
   "execution_count": null,
   "metadata": {
    "collapsed": true,
    "deletable": true,
    "editable": true
   },
   "outputs": [],
   "source": [
    "cutoff =0.0000001"
   ]
  },
  {
   "cell_type": "code",
   "execution_count": null,
   "metadata": {
    "collapsed": false,
    "deletable": true,
    "editable": true
   },
   "outputs": [],
   "source": [
    "rows, functions,exfunc, rs,gene, exacall, gnomall, pathogenics = load_annovar('f89m1-anno-ref.hg19_multianno.txt')\n",
    "count = 0\n",
    "f89m1_pathogenic_genes = []\n",
    "for i in range(0,len(exacall) ): \n",
    "    if 'athogenic' in pathogenics[i]: \n",
    "        if (exacall[i] == '.') or (float(exacall[i]) < cutoff) or (gnomall[i] =='.') or (float(gnomall[i]) < cutoff):\n",
    "            count += 1 \n",
    "            writelist(rows[i], 'f89m1.pathogenic.filtered.txt')\n",
    "            if gene[i] not in f89m1_pathogenic_genes:\n",
    "                    f89m1_pathogenic_genes.append(gene[i])\n",
    "print ('Number of pathogenic variants  <', cutoff, 'is:',count)\n",
    "print (f89m1_pathogenic_genes)"
   ]
  },
  {
   "cell_type": "markdown",
   "metadata": {
    "deletable": true,
    "editable": true
   },
   "source": [
    "# F89 M2 Pathegenic "
   ]
  },
  {
   "cell_type": "code",
   "execution_count": null,
   "metadata": {
    "collapsed": false,
    "deletable": true,
    "editable": true
   },
   "outputs": [],
   "source": [
    "rows, functions,exfunc, rs,gene, exacall, gnomall, pathogenics = load_annovar('f89m2-anno-ref.hg19_multianno.txt')\n",
    "count = 0\n",
    "f89m2_pathogenic_genes = []\n",
    "for i in range(0,len(exacall) ): \n",
    "    if 'athogenic' in pathogenics[i]: \n",
    "        if (exacall[i] == '.') or (float(exacall[i]) < cutoff) or (gnomall[i] =='.') or (float(gnomall[i]) < cutoff):\n",
    "            count += 1 \n",
    "            writelist(rows[i], 'f89m2.pathogenic.filtered.txt')\n",
    "            if gene[i] not in f89m2_pathogenic_genes:\n",
    "                    f89m2_pathogenic_genes.append(gene[i])\n",
    "print ('Number of pathogenic variants  <', cutoff, 'is:',count)\n",
    "print (f89m2_pathogenic_genes)"
   ]
  },
  {
   "cell_type": "code",
   "execution_count": null,
   "metadata": {
    "collapsed": false,
    "deletable": true,
    "editable": true
   },
   "outputs": [],
   "source": [
    "f89m1_m2_pathogenic = intersections(f89m1_pathogenic_genes,f89m2_pathogenic_genes)\n",
    "print (f89m1_m2_pathogenic)"
   ]
  },
  {
   "cell_type": "markdown",
   "metadata": {
    "deletable": true,
    "editable": true
   },
   "source": [
    "# F89 M3 Pathogenic "
   ]
  },
  {
   "cell_type": "code",
   "execution_count": null,
   "metadata": {
    "collapsed": false,
    "deletable": true,
    "editable": true
   },
   "outputs": [],
   "source": [
    "rows, functions,exfunc, rs,gene, exacall, gnomall, pathogenics = load_annovar('f89m3-anno-ref.hg19_multianno.txt')\n",
    "count = 0\n",
    "f89m3_pathogenic_genes = []\n",
    "for i in range(0,len(exacall) ): \n",
    "    if 'athogenic' in pathogenics[i]: \n",
    "        if (exacall[i] == '.') or (float(exacall[i]) < cutoff) or (gnomall[i] =='.') or (float(gnomall[i]) < cutoff):\n",
    "            count += 1 \n",
    "            writelist(rows[i], 'f89m3.pathogenic.filtered.txt')\n",
    "            if gene[i] not in f89m3_pathogenic_genes:\n",
    "                    f89m3_pathogenic_genes.append(gene[i])\n",
    "print ('Number of pathogenic variants  <', cutoff, 'is:',count)\n",
    "print (f89m3_pathogenic_genes)"
   ]
  },
  {
   "cell_type": "markdown",
   "metadata": {
    "deletable": true,
    "editable": true
   },
   "source": [
    "# F89 M7 Pathogenic "
   ]
  },
  {
   "cell_type": "code",
   "execution_count": null,
   "metadata": {
    "collapsed": false,
    "deletable": true,
    "editable": true
   },
   "outputs": [],
   "source": [
    "rows, functions,exfunc, rs,gene, exacall, gnomall, pathogenics = load_annovar('f89m7-anno-ref.hg19_multianno.txt')\n",
    "count = 0\n",
    "f89m7_pathogenic_genes = []\n",
    "for i in range(0,len(exacall) ): \n",
    "    if 'athogenic' in pathogenics[i]: \n",
    "        if (exacall[i] == '.') or (float(exacall[i]) < cutoff) or (gnomall[i] =='.') or (float(gnomall[i]) < cutoff):\n",
    "            count += 1 \n",
    "            writelist(rows[i], 'f89m7.pathogenic.filtered.txt')\n",
    "            if gene[i] not in f89m7_pathogenic_genes:\n",
    "                    f89m7_pathogenic_genes.append(gene[i])\n",
    "print ('Number of pathogenic variants  <', cutoff, 'is:',count)\n",
    "print (f89m7_pathogenic_genes)"
   ]
  },
  {
   "cell_type": "markdown",
   "metadata": {
    "deletable": true,
    "editable": true
   },
   "source": [
    "# What is found in Either M3 Or M7"
   ]
  },
  {
   "cell_type": "code",
   "execution_count": null,
   "metadata": {
    "collapsed": false,
    "deletable": true,
    "editable": true
   },
   "outputs": [],
   "source": [
    "f89m3_m7_pathogenic = exist(f89m3_pathogenic_genes,f89m7_pathogenic_genes)\n",
    "print (f89m3_m7_pathogenic)"
   ]
  },
  {
   "cell_type": "markdown",
   "metadata": {
    "deletable": true,
    "editable": true
   },
   "source": [
    "# What is found in M1M2 and not in either in M3 or M7"
   ]
  },
  {
   "cell_type": "code",
   "execution_count": null,
   "metadata": {
    "collapsed": false,
    "deletable": true,
    "editable": true
   },
   "outputs": [],
   "source": [
    "f89_pathogenic_candidates = difference(f89m1_m2_pathogenic, f89m3_m7_pathogenic)\n",
    "print (f89_pathogenic_candidates)"
   ]
  },
  {
   "cell_type": "code",
   "execution_count": null,
   "metadata": {
    "collapsed": true,
    "deletable": true,
    "editable": true
   },
   "outputs": [],
   "source": []
  }
 ],
 "metadata": {
  "anaconda-cloud": {},
  "kernelspec": {
   "display_name": "Python [conda root]",
   "language": "python",
   "name": "conda-root-py"
  },
  "language_info": {
   "codemirror_mode": {
    "name": "ipython",
    "version": 3
   },
   "file_extension": ".py",
   "mimetype": "text/x-python",
   "name": "python",
   "nbconvert_exporter": "python",
   "pygments_lexer": "ipython3",
   "version": "3.5.2"
  }
 },
 "nbformat": 4,
 "nbformat_minor": 1
}
