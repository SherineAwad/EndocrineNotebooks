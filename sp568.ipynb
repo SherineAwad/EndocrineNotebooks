{
 "cells": [
  {
   "cell_type": "code",
   "execution_count": 14,
   "metadata": {
    "collapsed": true,
    "deletable": true,
    "editable": true
   },
   "outputs": [],
   "source": [
    "import csv\n",
    "import sys\n",
    "import re\n",
    "import matplotlib.pyplot as plt\n",
    "import numpy as np"
   ]
  },
  {
   "cell_type": "markdown",
   "metadata": {
    "deletable": true,
    "editable": true
   },
   "source": [
    "# Cutoff for rare variants "
   ]
  },
  {
   "cell_type": "code",
   "execution_count": 15,
   "metadata": {
    "collapsed": true,
    "deletable": true,
    "editable": true
   },
   "outputs": [],
   "source": [
    "cutoff  = 0.000001"
   ]
  },
  {
   "cell_type": "code",
   "execution_count": 16,
   "metadata": {
    "collapsed": true,
    "deletable": true,
    "editable": true
   },
   "outputs": [],
   "source": [
    "def writelist (mylist, myfile): \n",
    "    fp =  open(myfile,'a+')\n",
    "    for idx,item in enumerate(mylist):\n",
    "            fp.write(item)\n",
    "            fp.write('\\t')\n",
    "    fp.write('\\n')\n",
    "    fp.close()"
   ]
  },
  {
   "cell_type": "code",
   "execution_count": 17,
   "metadata": {
    "collapsed": true,
    "deletable": true,
    "editable": true
   },
   "outputs": [],
   "source": [
    "def intersections(list1, list2):\n",
    "    intersection_list = []\n",
    "    for i in list1: \n",
    "        if i in list2: \n",
    "                intersection_list.append(i)\n",
    "    return intersection_list"
   ]
  },
  {
   "cell_type": "code",
   "execution_count": 18,
   "metadata": {
    "collapsed": true,
    "deletable": true,
    "editable": true
   },
   "outputs": [],
   "source": [
    "def intersections3(list1, list2, list3):\n",
    "    intersection_list = []\n",
    "    for i in list1: \n",
    "        if i in list2: \n",
    "                if i in list3:\n",
    "                    intersection_list.append(i)\n",
    "    return intersection_list"
   ]
  },
  {
   "cell_type": "code",
   "execution_count": 19,
   "metadata": {
    "collapsed": true,
    "deletable": true,
    "editable": true
   },
   "outputs": [],
   "source": [
    "def intersections2n(list1, list2, list3):\n",
    "    intersection_list = []\n",
    "    nlist = [] \n",
    "    for i in list1: \n",
    "        if i in list2: \n",
    "                intersection_list.append(i)\n",
    "    for i in intersection_list:\n",
    "            if i not in list3:\n",
    "                    nlist.append(i)\n",
    "    for i in nlist: \n",
    "            print (i)\n",
    "    return intersection_list"
   ]
  },
  {
   "cell_type": "code",
   "execution_count": 20,
   "metadata": {
    "collapsed": true,
    "deletable": true,
    "editable": true
   },
   "outputs": [],
   "source": [
    "def intersections3n(list1, list2, list3, list4):\n",
    "    intersection_list = []\n",
    "    nlist = []\n",
    "    for i in list1 : \n",
    "        if i in list2 : \n",
    "            if i in list3 :\n",
    "                intersection_list.append(i)\n",
    "    for i in intersection_list:\n",
    "            if i not in list4:\n",
    "                    nlist.append(i)\n",
    "    for i in nlist: \n",
    "            print (i)\n",
    "    return nlist"
   ]
  },
  {
   "cell_type": "code",
   "execution_count": 21,
   "metadata": {
    "collapsed": true,
    "deletable": true,
    "editable": true
   },
   "outputs": [],
   "source": [
    "def difference(list1, list2):\n",
    "    unique_list = []\n",
    "    for i in list1: \n",
    "        if i not in list2: \n",
    "                unique_list.append(i)\n",
    "    return unique_list"
   ]
  },
  {
   "cell_type": "code",
   "execution_count": 22,
   "metadata": {
    "collapsed": true,
    "deletable": true,
    "editable": true
   },
   "outputs": [],
   "source": [
    "def difference2(list1, list2, list3):\n",
    "    unique_list = []\n",
    "    for i in list1: \n",
    "        if i not in list2 and i not in list3: \n",
    "                unique_list.append(i)\n",
    "    return unique_list"
   ]
  },
  {
   "cell_type": "code",
   "execution_count": 23,
   "metadata": {
    "collapsed": true,
    "deletable": true,
    "editable": true
   },
   "outputs": [],
   "source": [
    "def difference3(list1, list2, list3):\n",
    "    unique_list = []\n",
    "    for i in list1: \n",
    "        if i in list2: \n",
    "            if i not in list3: \n",
    "                unique_list.append(i)\n",
    "    return unique_list"
   ]
  },
  {
   "cell_type": "code",
   "execution_count": 24,
   "metadata": {
    "collapsed": true,
    "deletable": true,
    "editable": true
   },
   "outputs": [],
   "source": [
    "def exist (list1, list2): \n",
    "    found_list = []\n",
    "    for i in list1: \n",
    "            if i not in found_list: \n",
    "                    found_list.append(i)\n",
    "    for i in list2: \n",
    "            if i not in found_list: \n",
    "                    found_list.append(i)\n",
    "    return found_list "
   ]
  },
  {
   "cell_type": "markdown",
   "metadata": {
    "deletable": true,
    "editable": true
   },
   "source": [
    "# Read annovar annotation file"
   ]
  },
  {
   "cell_type": "code",
   "execution_count": 25,
   "metadata": {
    "collapsed": true,
    "deletable": true,
    "editable": true
   },
   "outputs": [],
   "source": [
    " def load_annovar(filename):\n",
    "    rows = []\n",
    "    exacall = []\n",
    "    gnomall = []\n",
    "    rs = []\n",
    "    gene = []\n",
    "    pathogenics = []\n",
    "    functions = []\n",
    "    exonicfunctions =[]\n",
    "    muttype = []\n",
    "    fp = open(filename, 'r')\n",
    "    r = csv.reader(fp, delimiter='\\t')\n",
    "    for n, row in enumerate(r):\n",
    "        #rs ,pos,_,ensg,_, enst,_,_,_,_,_,_,_,impact =row[:14]\n",
    "        if n == 0: \n",
    "                print (row[8])\n",
    "                print(row[16])\n",
    "                print(row[124])\n",
    "                print(row[24])\n",
    "                print(row[6])\n",
    "                print (row[5])\n",
    "                print(row[59])\n",
    "            \n",
    "                continue\n",
    "        exonicfunctions.append(row[8])\n",
    "        muttype.append(row[13])\n",
    "        exacall.append(row[16])\n",
    "        #gnomall.append(row[124])\n",
    "        gnomall.append(row[24])\n",
    "        #rs.append(row[24])\n",
    "        rs.append(row[139])\n",
    "        rows.append(row)\n",
    "        gene.append(row[6])\n",
    "        functions.append(row[5])\n",
    "        pathogenics.append(row[59])\n",
    "    return rows, functions, exonicfunctions, rs, gene,  exacall , gnomall, pathogenics, muttype"
   ]
  },
  {
   "cell_type": "code",
   "execution_count": 26,
   "metadata": {
    "collapsed": false,
    "deletable": true,
    "editable": true
   },
   "outputs": [
    {
     "name": "stdout",
     "output_type": "stream",
     "text": [
      "ExonicFunc.refGene\n",
      "ExAC_ALL\n",
      "Examined_samples\n",
      "gnomAD_exome_ALL\n",
      "Gene.refGene\n",
      "Func.refGene\n",
      "MetaLR_pred\n",
      "Starting ....\n",
      "1e-06\n",
      "('.', 'STK39', '0', '0', 'nonframeshift insertion')\n",
      ".\n",
      "('.', 'ZNF717', '0', '0', 'nonframeshift insertion')\n",
      ".\n",
      ".\n",
      ".\n",
      ".\n",
      ".\n",
      "('rs201645131', 'MUC17', '.', '0', 'nonsynonymous SNV')\n",
      ".\n",
      ".\n",
      ".\n",
      ".\n",
      ".\n",
      "('.', 'PRDM12', '.', '0', 'nonframeshift insertion')\n",
      ".\n",
      ".\n",
      ".\n",
      "('.', 'MUC6', '.', '0', 'nonsynonymous SNV')\n",
      "('rs79638064', 'MUC5B', '0', '0', 'nonsynonymous SNV')\n",
      ".\n",
      ".\n",
      "('rs79246694', 'PABPC3', '.', '0', 'nonsynonymous SNV')\n",
      ".\n",
      "('rs376589131', 'PABPC3', '.', '0', 'frameshift deletion')\n",
      "('rs80261016', 'PABPC3', '0', '0', 'nonsynonymous SNV')\n",
      ".\n",
      "('rs371570689', 'PABPC3', '.', '0', 'frameshift deletion')\n",
      ".\n",
      ".\n",
      ".\n",
      "('.', 'KAT2A', '.', '0', 'nonsynonymous SNV')\n",
      ".\n",
      ".\n",
      ".\n",
      ".\n",
      ".\n",
      "('.', 'SLC8A2', '.', '0', 'nonsynonymous SNV')\n",
      "('.', 'GRIN2D', '0', '0', 'nonsynonymous SNV')\n",
      ".\n",
      ".\n",
      "('.', 'LONRF3', '.', '0', 'nonsynonymous SNV')\n",
      "We reached printing stage\n",
      "('Number of variants with gnomall and/or exac <', 1e-06, 'is:', 14)\n",
      "[['chr2', '169103796', '169103796', '-', 'GCCGGG', 'exonic', 'STK39', '.', 'nonframeshift insertion', 'STK39:NM_013233:exon1:c.149_150insCCCGGC:p.A50delinsAPA', 'exonic', 'ENSG00000198648', '.', 'nonframeshift insertion', 'ENSG00000198648:ENST00000355999:exon1:c.149_150insCCCGGC:p.A50delinsAPA', '.', '0', '.', '0', '.', '.', '.', '.', '.', '0', '.', '.', '.', '.', '0', '.', '.', '0', 'rs537577117', '.', '.', '.', '.', '.', '.', '.', '.', '.', '.', '.', '.', '.', '.', '.', '.', '.', '.', '.', '.', '.', '.', '.', '.', '.', '.', '.', '.', '.', '.', '.', '.', '.', '.', '.', '.', '.', '.', '.', '.', '.', '.', '.', '.', '.', '.', '.', '.', '.', '.', '.', '.', '.', '.', '.', '.', '.', '.', '.', '.', '.', '.', '.', '.', '.', '.', '.', '.', '.', '.', '.', '.', '.', '.', '.', '.', '.', '.', '.', '.', '.', '.', '.', '.', '.', '.', '.', '.', '.', '.', '.', '.', '.', '.', '.', '.', '.', '.', '.', '.', '1', '165.90', '4', 'chr2', '169103796', '.', 'C', 'CGCCGGG', '165.90', '.', 'AC=2;AF=1.00;AN=2;DP=21;ExcessHet=3.0103;FS=0.000;MLEAC=2;MLEAF=1.00;MQ=60.00;QD=27.14;SOR=0.693', 'GT:AD:DP:GQ:PL', '1/1:0,4:4:14:203,14,0'], ['chr3', '75790878', '75790878', '-', 'TGCCAACTCCTGTAATGATAGCAGGCTGTTATAAGTCTCCAGCAT', 'exonic', 'ZNF717', '.', 'nonframeshift insertion', 'ZNF717:NM_001128223:exon3:c.66_67insATGCTGGAGACTTATAACAGCCTGCTATCATTACAGGAGTTGGCA:p.S23delinsMLETYNSLLSLQELAS,ZNF717:NM_001290208:exon3:c.66_67insATGCTGGAGACTTATAACAGCCTGCTATCATTACAGGAGTTGGCA:p.S23delinsMLETYNSLLSLQELAS,ZNF717:NM_001290210:exon3:c.66_67insATGCTGGAGACTTATAACAGCCTGCTATCATTACAGGAGTTGGCA:p.S23delinsMLETYNSLLSLQELAS,ZNF717:NM_001324027:exon3:c.66_67insATGCTGGAGACTTATAACAGCCTGCTATCATTACAGGAGTTGGCA:p.S23delinsMLETYNSLLSLQELAS,ZNF717:NM_001324028:exon3:c.45_46insATGCTGGAGACTTATAACAGCCTGCTATCATTACAGGAGTTGGCA:p.S16delinsMLETYNSLLSLQELAS,ZNF717:NM_001324026:exon4:c.66_67insATGCTGGAGACTTATAACAGCCTGCTATCATTACAGGAGTTGGCA:p.S23delinsMLETYNSLLSLQELAS', 'exonic', 'ENSG00000227124', '.', 'nonframeshift insertion', 'ENSG00000227124:ENST00000400845:exon3:c.45_46insATGCTGGAGACTTATAACAGCCTGCTATCATTACAGGAGTTGGCA:p.S16delinsMLETYNSLLSLQELAS,ENSG00000227124:ENST00000422325:exon3:c.66_67insATGCTGGAGACTTATAACAGCCTGCTATCATTACAGGAGTTGGCA:p.S23delinsMLETYNSLLSLQELAS,ENSG00000227124:ENST00000468296:exon3:c.66_67insATGCTGGAGACTTATAACAGCCTGCTATCATTACAGGAGTTGGCA:p.S23delinsMLETYNSLLSLQELAS,ENSG00000227124:ENST00000477374:exon3:c.66_67insATGCTGGAGACTTATAACAGCCTGCTATCATTACAGGAGTTGGCA:p.S23delinsMLETYNSLLSLQELAS', '.', '0', '0', '0', '0', '0', '0', '0', '0', '0', '0', '0', '0', '0', '0', '0', '0', '0', 'rs761341636', '.', '.', '.', '.', '.', '.', '.', '.', '.', '.', '.', '.', '.', '.', '.', '.', '.', '.', '.', '.', '.', '.', '.', '.', '.', '.', '.', '.', '.', '.', '.', '.', '.', '.', '.', '.', '.', '.', '.', '.', '.', '.', '.', '.', '.', '.', '.', '.', '.', '.', '.', '.', '.', '.', '.', '.', '.', '.', '.', '.', '.', '.', '.', '.', '.', '.', '.', '.', '.', '.', '.', '.', '.', '.', '.', '.', '.', '.', '.', '.', '.', '.', '.', '.', '.', '.', '.', '.', '.', '.', '.', '.', '.', '.', '.', '.', '.', '.', '.', '.', '0.5', '488.73', '6', 'chr3', '75790878', '.', 'A', 'ATGCCAACTCCTGTAATGATAGCAGGCTGTTATAAGTCTCCAGCAT', '488.73', '.', 'AC=1;AF=0.500;AN=2;BaseQRankSum=-1.380e+00;ClippingRankSum=0.720;DP=53;ExcessHet=3.0103;FS=11.761;MLEAC=1;MLEAF=0.500;MQ=39.61;MQRankSum=0.720;QD=28.08;ReadPosRankSum=-1.380e+00;SOR=3.223', 'GT:AD:DP:GQ:PGT:PID:PL', '0/1:2,4:6:69:0|1:75790860_C_T:526,0,69'], ['chr7', '100680228', '100680228', 'C', 'A', 'exonic', 'MUC17', '.', 'nonsynonymous SNV', 'MUC17:NM_001040105:exon3:c.C5531A:p.A1844E', 'exonic', 'ENSG00000169876', '.', 'nonsynonymous SNV', 'ENSG00000169876:ENST00000306151:exon3:c.C5531A:p.A1844E,ENSG00000169876:ENST00000379439:exon3:c.C5531A:p.A1844E', '.', '.', '.', '.', '.', '.', '.', '.', '.', '0', '0', '0', '0', '0', '0', '0', '0', '0', 'rs201645131', '0.796', 'T', '0.0', 'B', '0.0', 'B', '.', '.', '1', 'N', '-0.345', 'N', '4.17', 'T', '0.0', 'N', '0.05', '-0.190', '1.149', '0.307', '0.000', 'N', '-0.926', 'T', '0.004', 'T', '0.487', '0', '-1.45', '-2.278', '-0.493', '0.000', '0.000', '7.582', '.', '.', '.', '.', '.', '.', '.', '.', '.', '.', '.', '.', '.', '.', '.', '.', '.', '.', '.', '.', '.', '.', '.', '.', '.', '.', '.', '.', '.', '.', '.', '.', '.', '.', '.', '.', '.', '.', '.', '.', '.', '.', '.', '.', '.', '.', '.', '.', '.', '.', '.', '.', '.', '.', '.', '.', '.', '.', '.', '.', '.', '.', '.', '.', '.', '0.009', '0.5', '466.77', '482', 'chr7', '100680228', 'rs201645131', 'C', 'A', '466.77', '.', 'AC=1;AF=0.500;AN=2;BaseQRankSum=-3.196e+00;ClippingRankSum=-1.880e-01;DB;DP=482;ExcessHet=3.0103;FS=4.953;MLEAC=1;MLEAF=0.500;MQ=54.73;MQRankSum=-8.970e+00;QD=0.97;ReadPosRankSum=1.57;SOR=1.297', 'GT:AD:DP:GQ:PL', '0/1:438,44:482:99:495,0,10720'], ['chr9', '133556992', '133556992', '-', 'CGC', 'exonic', 'PRDM12', '.', 'nonframeshift insertion', 'PRDM12:NM_021619:exon5:c.1040_1041insCGC:p.L347delinsLA', 'exonic', 'ENSG00000130711', '.', 'nonframeshift insertion', 'ENSG00000130711:ENST00000253008:exon5:c.1040_1041insCGC:p.L347delinsLA', '.', '.', '.', '.', '.', '.', '.', '.', '.', '0', '.', '.', '.', '.', '.', '0', '.', '.', 'rs773334242', '.', '.', '.', '.', '.', '.', '.', '.', '.', '.', '.', '.', '.', '.', '.', '.', '.', '.', '.', '.', '.', '.', '.', '.', '.', '.', '.', '.', '.', '.', '.', '.', '.', '.', '.', '.', '.', '.', '.', '.', '.', '.', '.', '.', '.', '.', '.', '.', '.', '.', '.', '.', '.', '.', '.', '.', '.', '.', '.', '.', '.', '.', '.', '.', '.', '.', '.', '.', '.', '.', '.', '.', '.', '.', '.', '.', '.', '.', '.', '.', '.', '.', '.', '.', '.', '.', '.', '.', '.', '.', '.', '.', '.', '.', '.', '.', '.', '.', '.', '.', '1', '133', '4', 'chr9', '133556992', '.', 'T', 'TCGC', '133', '.', 'AC=2;AF=1.00;AN=2;DP=8;ExcessHet=3.0103;FS=0.000;MLEAC=2;MLEAF=1.00;MQ=60.00;QD=33.25;SOR=0.693', 'GT:AD:DP:GQ:PL', '1/1:0,4:4:12:170,12,0'], ['chr11', '1017820', '1017820', 'C', 'T', 'exonic', 'MUC6', '.', 'nonsynonymous SNV', 'MUC6:NM_005961:exon31:c.G4981A:p.A1661T', 'exonic', 'ENSG00000184956', '.', 'nonsynonymous SNV', 'ENSG00000184956:ENST00000421673:exon31:c.G4981A:p.A1661T', '.', '.', '.', '.', '.', '.', '.', '.', '.', '0', '0', '0', '0', '0', '0', '0', '0', '0', '.', '0.018', 'D', '0.985', 'D', '0.777', 'P', '.', '.', '1', 'N', '1.24', 'L', '2.2', 'T', '-0.85', 'N', '0.061', '0.929', '10.25', '0.860', '0.023', 'N', '-1.040', 'T', '0.056', 'T', '0.675', '0', '1.07', '0.598', '0.739', '0.002', '0.001', '6.725', '.', '.', '.', '.', '.', '.', '.', '.', '.', '.', '.', '.', '.', '.', '.', '.', '.', '.', '.', '.', '.', '.', '.', '.', '.', '.', '.', '.', '.', '.', '.', '.', '.', '.', '.', '.', '.', '.', '.', '.', '.', '.', '.', '.', '.', '.', '.', '.', '.', '.', '.', '.', '.', '.', '.', '.', '.', '.', '.', '.', '.', '.', '.', '.', '.', '0.020', '0.5', '395.77', '1650', 'chr11', '1017820', '.', 'C', 'T', '395.77', '.', 'AC=1;AF=0.500;AN=2;BaseQRankSum=-4.275e+00;ClippingRankSum=-1.334e+00;DP=1655;ExcessHet=3.0103;FS=2.383;MLEAC=1;MLEAF=0.500;MQ=58.63;MQRankSum=-1.415e+01;QD=0.24;ReadPosRankSum=-2.743e+00;SOR=0.953', 'GT:AD:DP:GQ:PGT:PID:PL', '0/1:1537,113:1650:99:0|1:1017790_T_C:424,0,65764'], ['chr11', '1260217', '1260217', 'C', 'A', 'exonic', 'MUC5B', '.', 'nonsynonymous SNV', 'MUC5B:NM_002458:exon26:c.C3414A:p.D1138E', 'exonic', 'ENSG00000117983', '.', 'nonsynonymous SNV', 'ENSG00000117983:ENST00000447027:exon26:c.C3423A:p.D1141E,ENSG00000117983:ENST00000529681:exon26:c.C3414A:p.D1138E', '.', '0', '0', '0', '0', '0', '0', '0', '0', '0', '0', '0', '0', '0', '0', '0', '0', '0', 'rs79638064', '0.531', 'T', '0.217', 'B', '0.229', 'B', '.', '.', '1', 'N', '-0.33', 'N', '-0.96', 'T', '-1.53', 'N', '0.457', '0.323', '5.916', '0.750', '0.020', 'N', '-0.914', 'T', '0.143', 'T', '0.554', '0', '-3.43', '0.008', '-0.410', '0.990', '0.062', '0.091', '.', '.', '.', '.', '.', '.', '.', '.', '.', '.', '.', '.', '.', '.', '.', '.', '.', '.', '.', '.', '.', '.', '.', '.', '.', '.', '.', '.', '.', '.', '.', '.', '.', '.', '.', '.', '.', '.', '.', '.', '.', '.', '.', '.', '.', '.', '.', '.', '.', '.', '.', '.', '.', '.', '.', '.', '.', '.', '.', '.', '.', '.', '.', '.', '.', '0.277', '0.5', '915.77', '233', 'chr11', '1260217', 'rs79638064', 'C', 'A', '915.77', '.', 'AC=1;AF=0.500;AN=2;BaseQRankSum=-4.750e-01;ClippingRankSum=-3.700e-01;DB;DP=233;ExcessHet=3.0103;FS=1.443;MLEAC=1;MLEAF=0.500;MQ=60.00;MQRankSum=1.05;QD=3.93;ReadPosRankSum=-1.687e+00;SOR=0.891', 'GT:AD:DP:GQ:PGT:PID:PL', '0/1:197,36:233:99:0|1:1260214_C_T:944,0,8326'], ['chr13', '25671271', '25671271', 'A', 'G', 'exonic', 'PABPC3', '.', 'nonsynonymous SNV', 'PABPC3:NM_030979:exon1:c.A935G:p.K312R', 'exonic', 'ENSG00000151846', '.', 'nonsynonymous SNV', 'ENSG00000151846:ENST00000281589:exon1:c.A935G:p.K312R', '.', '.', '.', '.', '.', '.', '.', '.', '.', '0', '0', '0', '0', '0', '0', '0', '0', '0', 'rs79246694', '0.092', 'T', '0.383', 'B', '0.344', 'B', '0.000', 'U', '1.000', 'D', '0.17', 'N', '2.34', 'T', '-2.35', 'N', '0.327', '1.295', '12.24', '0.988', '0.698', 'D', '-1.043', 'T', '0.026', 'T', '0.706', '0', '0.875', '0.649', '0.388', '0.926', '0.008', '5.899', '.', '.', '.', '.', '.', '.', '.', '.', '.', '.', '.', '.', '.', '.', '.', '.', '.', '.', '.', '.', '.', '.', '.', '.', '.', '.', '.', '.', '.', '.', '.', '.', '.', '.', '.', '.', '.', '.', '.', '.', '.', '.', '.', '.', '.', '.', '.', '.', '.', '.', '.', '.', '.', '.', '.', '.', '.', '.', '.', '.', '.', '.', '.', '.', '.', '0.159', '0.5', '440.77', '140', 'chr13', '25671271', 'rs79246694', 'A', 'G', '440.77', '.', 'AC=1;AF=0.500;AN=2;BaseQRankSum=-3.130e-01;ClippingRankSum=-1.117e+00;DB;DP=141;ExcessHet=3.0103;FS=0.917;MLEAC=1;MLEAF=0.500;MQ=59.56;MQRankSum=-1.635e+00;QD=3.15;ReadPosRankSum=1.09;SOR=0.866', 'GT:AD:DP:GQ:PGT:PID:PL', '0/1:120,20:140:99:0|1:25671271_A_G:469,0,4979'], ['chr13', '25671273', '25671273', 'G', '-', 'exonic', 'PABPC3', '.', 'frameshift deletion', 'PABPC3:NM_030979:exon1:c.937delG:p.A313fs', 'exonic', 'ENSG00000151846', '.', 'frameshift deletion', 'ENSG00000151846:ENST00000281589:exon1:c.937delG:p.A313fs', '.', '.', '.', '.', '.', '.', '.', '.', '.', '0', '0', '0', '0', '0', '0', '0', '0', '0', 'rs376589131', '.', '.', '.', '.', '.', '.', '.', '.', '.', '.', '.', '.', '.', '.', '.', '.', '.', '.', '.', '.', '.', '.', '.', '.', '.', '.', '.', '.', '.', '.', '.', '.', '.', '.', '.', '.', '.', '.', '.', '.', '.', '.', '.', '.', '.', '.', '.', '.', '.', '.', '.', '.', '.', '.', '.', '.', '.', '.', '.', '.', '.', '.', '.', '.', '.', '.', '.', '.', '.', '.', '.', '.', '.', '.', '.', '.', '.', '.', '.', '.', '.', '.', '.', '.', '.', '.', '.', '.', '.', '.', '.', '.', '.', '.', '.', '.', '.', '.', '.', '.', '0.5', '432.73', '139', 'chr13', '25671272', 'rs376589131', 'AG', 'A', '432.73', '.', 'AC=1;AF=0.500;AN=2;BaseQRankSum=-4.140e-01;ClippingRankSum=0.947;DB;DP=140;ExcessHet=3.0103;FS=0.917;MLEAC=1;MLEAF=0.500;MQ=59.56;MQRankSum=-2.725e+00;QD=3.11;ReadPosRankSum=1.66;SOR=0.764', 'GT:AD:DP:GQ:PGT:PID:PL', '0/1:120,19:139:99:0|1:25671271_A_G:470,0,4978'], ['chr13', '25671292', '25671292', 'C', 'T', 'exonic', 'PABPC3', '.', 'nonsynonymous SNV', 'PABPC3:NM_030979:exon1:c.C956T:p.T319I', 'exonic', 'ENSG00000151846', '.', 'nonsynonymous SNV', 'ENSG00000151846:ENST00000281589:exon1:c.C956T:p.T319I', '.', '0', '0', '0', '0', '0', '0', '0', '0', '0', '0', '0', '0', '0', '0', '0', '0', '0', 'rs80261016', '0.002', 'D', '0.726', 'P', '0.45', 'P', '0.000', 'U', '1.000', 'D', '0.935', 'L', '2.36', 'T', '-4.66', 'D', '0.409', '5.492', '26.2', '0.997', '0.632', 'D', '-1.090', 'T', '0.034', 'T', '0.706', '0', '0.875', '0.542', '0.314', '0.998', '0.950', '7.549', '.', '.', '.', '.', '.', '.', '.', '.', '.', '.', '.', '.', '.', '.', '.', '.', '.', '.', '.', '.', '.', '.', '.', '.', '.', '.', '.', '.', '.', '.', '.', '.', '.', '.', '.', '.', '.', '.', '.', '.', '.', '.', '.', '.', '.', '.', '.', '.', '.', '.', '.', '.', '.', '.', '.', '.', '.', '.', '.', '.', '.', '.', '.', '.', '.', '0.158', '0.5', '233.77', '125', 'chr13', '25671292', 'rs80261016', 'C', 'T', '233.77', '.', 'AC=1;AF=0.500;AN=2;BaseQRankSum=-1.748e+00;ClippingRankSum=0.024;DB;DP=126;ExcessHet=3.0103;FS=0.000;MLEAC=1;MLEAF=0.500;MQ=59.38;MQRankSum=-1.680e+00;QD=1.87;ReadPosRankSum=2.00;SOR=0.675', 'GT:AD:DP:GQ:PL', '0/1:105,20:125:99:262,0,2493'], ['chr13', '25671333', '25671333', 'A', '-', 'exonic', 'PABPC3', '.', 'frameshift deletion', 'PABPC3:NM_030979:exon1:c.997delA:p.K333fs', 'exonic', 'ENSG00000151846', '.', 'frameshift deletion', 'ENSG00000151846:ENST00000281589:exon1:c.997delA:p.K333fs', '.', '.', '.', '.', '.', '.', '.', '.', '.', '0', '0', '0', '0', '0', '0', '0', '0', '0', 'rs371570689', '.', '.', '.', '.', '.', '.', '.', '.', '.', '.', '.', '.', '.', '.', '.', '.', '.', '.', '.', '.', '.', '.', '.', '.', '.', '.', '.', '.', '.', '.', '.', '.', '.', '.', '.', '.', '.', '.', '.', '.', '.', '.', '.', '.', '.', '.', '.', '.', '.', '.', '.', '.', '.', '.', '.', '.', '.', '.', '.', '.', '.', '.', '.', '.', '.', '.', '.', '.', '.', '.', '.', '.', '.', '.', '.', '.', '.', '.', '.', '.', '.', '.', '.', '.', '.', '.', '.', '.', '.', '.', '.', '.', '.', '.', '.', '.', '.', '.', '.', '.', '0.5', '447.73', '117', 'chr13', '25671332', 'rs371570689', 'CA', 'C', '447.73', '.', 'AC=1;AF=0.500;AN=2;BaseQRankSum=-1.643e+00;ClippingRankSum=-1.700e-02;DB;DP=119;ExcessHet=3.0103;FS=0.898;MLEAC=1;MLEAF=0.500;MQ=57.89;MQRankSum=-1.936e+00;QD=3.83;ReadPosRankSum=0.117;SOR=0.524', 'GT:AD:DP:GQ:PL', '0/1:95,22:117:99:485,0,3026'], ['chr17', '40273130', '40273130', 'C', 'A', 'exonic', 'KAT2A', '.', 'nonsynonymous SNV', 'KAT2A:NM_021078:exon1:c.G193T:p.V65L', 'exonic', 'ENSG00000108773', '.', 'nonsynonymous SNV', 'ENSG00000108773:ENST00000225916:exon1:c.G193T:p.V65L', '.', '.', '.', '.', '.', '.', '.', '.', '.', '0', '0', '0', '0', '0', '0', '0', '0', '0', '.', '0.308', 'T', '0.043', 'B', '0.011', 'B', '0.022', 'N', '0.946', 'N', '0.55', 'N', '3.52', 'T', '-0.65', 'N', '0.223', '2.284', '18.06', '0.983', '0.539', 'D', '-1.000', 'T', '0.013', 'T', '0.652', '0', '4.62', '0.853', '0.920', '0.996', '0.996', '12.833', '.', '.', '.', '.', '.', '.', '.', '.', '.', '.', '.', '.', '.', '.', '.', '.', '.', '.', '.', '.', '.', '.', '.', '.', '.', '.', '.', '.', '.', '.', '.', '.', '.', '.', '.', '.', '.', '.', '.', '.', '.', '.', '.', '.', '.', '.', '.', '.', '.', '.', '.', '.', '.', '.', '.', '.', '.', '.', '.', '.', '.', '.', '.', '.', '.', '0.047', '0.5', '34.77', '7', 'chr17', '40273130', '.', 'C', 'A', '34.77', '.', 'AC=1;AF=0.500;AN=2;BaseQRankSum=0.198;ClippingRankSum=0.198;DP=7;ExcessHet=3.0103;FS=0.000;MLEAC=1;MLEAF=0.500;MQ=60.00;MQRankSum=0.922;QD=4.97;ReadPosRankSum=1.50;SOR=0.148', 'GT:AD:DP:GQ:PGT:PID:PL', '0/1:5,2:7:63:0|1:40273130_C_A:63,0,245'], ['chr19', '47969600', '47969600', 'C', 'T', 'exonic', 'SLC8A2', '.', 'nonsynonymous SNV', 'SLC8A2:NM_015063:exon2:c.G61A:p.A21T', 'exonic', 'ENSG00000118160', '.', 'nonsynonymous SNV', 'ENSG00000118160:ENST00000236877:exon2:c.G61A:p.A21T', '.', '.', '.', '.', '.', '.', '.', '.', '.', '0', '0', '0', '0', '0', '0', '0', '0', '0', '.', '0.11', 'T', '0.0', 'B', '0.0', 'B', '0.147', 'U', '1.000', 'N', '0.345', 'N', '1.45', 'T', '-0.04', 'N', '0.108', '2.849', '21.6', '0.991', '0.241', 'N', '-1.030', 'T', '0.037', 'T', '0.646', '0', '2.65', '0.871', '0.932', '0.057', '0.354', '6.777', '.', '.', '.', '.', '.', '.', '.', '.', '.', '.', '.', '.', '.', '.', '.', '.', '.', '.', '.', '.', '.', '.', '.', '.', '.', '.', '.', '.', '.', '.', '.', '.', '.', '.', '.', '.', '.', '.', '.', '.', '.', '.', '.', '.', '.', '.', '.', '.', '.', '.', '.', '.', '.', '.', '.', '.', '.', '.', '.', '.', '.', '.', '.', '.', '.', '0.032', '0.5', '484.77', '24', 'chr19', '47969600', '.', 'C', 'T', '484.77', '.', 'AC=1;AF=0.500;AN=2;BaseQRankSum=-8.910e-01;ClippingRankSum=-5.810e-01;DP=24;ExcessHet=3.0103;FS=0.000;MLEAC=1;MLEAF=0.500;MQ=60.00;MQRankSum=-1.160e-01;QD=20.20;ReadPosRankSum=-1.356e+00;SOR=0.569', 'GT:AD:DP:GQ:PL', '0/1:4,20:24:55:513,0,55'], ['chr19', '48946811', '48946811', 'C', 'T', 'exonic', 'GRIN2D', '.', 'nonsynonymous SNV', 'GRIN2D:NM_000836:exon13:c.C3628T:p.P1210S', 'exonic', 'ENSG00000105464', '.', 'nonsynonymous SNV', 'ENSG00000105464:ENST00000263269:exon13:c.C3628T:p.P1210S', '.', '0', '0', '.', '0', '.', '0', '0', '0', '0', '0', '0', '0', '0', '0', '0', '0', '0', 'rs773824115', '0.0', 'D', '0.909', 'P', '0.641', 'P', '0.244', 'U', '0.999', 'N', '0', 'N', '2.78', 'T', '-0.28', 'N', '0.283', '2.590', '20.1', '0.993', '0.047', 'N', '-0.991', 'T', '0.025', 'T', '0.598', '0', '1.41', '0.849', '0.679', '0.031', '0.570', '6.392', '.', '.', '.', '.', '.', '.', '.', '.', '.', '.', '.', '.', '.', '.', '.', '.', '.', '.', '.', '.', '.', '.', '.', '.', '.', '.', '.', '.', '.', '.', '.', '.', '.', '.', '.', '.', '.', '.', '.', '.', '.', '.', '.', '.', '.', '.', '.', '.', '.', '.', '.', '.', '.', '.', '.', '.', '.', '.', '.', '.', '.', '.', '.', '.', '.', '0.065', '0.5', '254.77', '21', 'chr19', '48946811', '.', 'C', 'T', '254.77', '.', 'AC=1;AF=0.500;AN=2;BaseQRankSum=-8.580e-01;ClippingRankSum=-1.870e-01;DP=21;ExcessHet=3.0103;FS=0.000;MLEAC=1;MLEAF=0.500;MQ=60.00;MQRankSum=-4.850e-01;QD=12.13;ReadPosRankSum=0.410;SOR=0.495', 'GT:AD:DP:GQ:PL', '0/1:7,14:21:99:283,0,122'], ['chrX', '118109218', '118109218', 'C', 'T', 'exonic', 'LONRF3', '.', 'nonsynonymous SNV', 'LONRF3:NM_001031855:exon1:c.C475T:p.R159W,LONRF3:NM_024778:exon1:c.C475T:p.R159W', 'exonic', 'ENSG00000175556', '.', 'nonsynonymous SNV', 'ENSG00000175556:ENST00000304778:exon1:c.C475T:p.R159W,ENSG00000175556:ENST00000371628:exon1:c.C475T:p.R159W,ENSG00000175556:ENST00000481285:exon1:c.C475T:p.R159W', '.', '.', '.', '.', '.', '.', '.', '.', '.', '0', '0', '0', '0', '0', '0', '0', '0', '0', '.', '0.025', 'D', '1.0', 'D', '0.986', 'D', '0.031', 'N', '0.822', 'N', '0.805', 'L', '2.29', 'T', '-2.73', 'D', '0.606', '6.217', '28.7', '0.999', '0.926', 'D', '-1.127', 'T', '0.065', 'T', '.', '.', '3.74', '-0.039', '-0.047', '0.936', '0.947', '10.503', '.', '.', '.', '.', '.', '.', '.', '.', '.', '.', '.', '.', '.', '.', '.', '.', '.', '.', '.', '.', '.', '.', '.', '.', '.', '.', '.', '.', '.', '.', '.', '.', '.', '.', '.', '.', '.', '.', '.', '.', '.', '.', '.', '.', '.', '.', '.', '.', '.', '.', '.', '.', '.', '.', '.', '.', '.', '.', '.', '.', '.', '.', '.', '.', '.', '0.225', '1', '1987.77', '79', 'chrX', '118109218', '.', 'C', 'T', '1987.77', '.', 'AC=2;AF=1.00;AN=2;DP=79;ExcessHet=3.0103;FS=0.000;MLEAC=2;MLEAF=1.00;MQ=60.00;QD=25.16;SOR=0.824', 'GT:AD:DP:GQ:PL', '1/1:0,79:79:99:2016,193,0']]\n",
      "========================================================\n",
      "['STK39', 'ZNF717', 'MUC17', 'PRDM12', 'MUC6', 'MUC5B', 'PABPC3', 'KAT2A', 'SLC8A2', 'GRIN2D', 'LONRF3']\n",
      "Done\n"
     ]
    }
   ],
   "source": [
    "rows, functions,exfunc, rs,gene, exacall, gnomall, pathogenics, muttype = load_annovar('sp568.hg19_multianno.txt')\n",
    "count = 0\n",
    "print ('Starting ....')\n",
    "outfile = 'sp568.raremaf.filtered.txt'\n",
    "sp568_raremaf_genes = []\n",
    "sp568_raremaf_variants = [] \n",
    "print (cutoff)\n",
    "for i in range(0,len(exacall) ): \n",
    "    if ( (gnomall[i] != '.') and   (exacall[i] !='.' ) ) :\n",
    "        if (  (float(gnomall[i]) < cutoff) and (float(exacall[i]) < cutoff)   and (functions[i] =='exonic') and ( muttype[i] != 'synonymous SNV' )): \n",
    "            count += 1 \n",
    "            writelist(rows[i], outfile)\n",
    "            print(rs[i], gene[i], exacall[i],gnomall[i], muttype[i]) \n",
    "            if gene[i] not in sp568_raremaf_genes: \n",
    "                    sp568_raremaf_genes.append(gene[i])\n",
    "            sp568_raremaf_variants.append(rows[i])\n",
    "            #var = rs[i] + '.' + gene[i] +'.' +exacall[i] +'.'+ gnomall[i]        \n",
    "            #if var not in sp568_raremaf_variants: \n",
    "                #sp568_raremaf_variants.append(var)\n",
    "    elif ( (gnomall[i]=='.') and (exacall[i].isdigit())):\n",
    "           print(gnomall[i])\n",
    "           if ((float(exacall[i]) < cutoff)and (functions[i] =='exonic')  and ( muttype[i] != 'synonymous SNV' )): \n",
    "                count += 1 \n",
    "                writelist(rows[i], outfile)\n",
    "                print(rs[i], gene[i], exacall[i],gnomall[i], muttype[i])\n",
    "                if gene[i] not in sp568_raremaf_genes: \n",
    "                        sp568_raremaf_genes.append(gene[i])\n",
    "                sp568_raremaf_variants.append(rows[i])\n",
    "                #var = rs[i] + '.' + gene[i] +'.' +exacall[i] +'.'+ gnomall[i]\n",
    "                #if var not in sp568_raremaf_variants: \n",
    "                    #sp568_raremaf_variants.append(var)\n",
    "           \n",
    "    elif (( exacall[i]=='.') and   (gnomall[i].isdigit())): \n",
    "            print(exacall[i])\n",
    "            if( (float (gnomall[i]) < cutoff)  and (functions[i] =='exonic') and  ( muttype[i] != 'synonymous SNV' )): \n",
    "                count += 1 \n",
    "                writelist(rows[i], outfile)\n",
    "                print(rs[i], gene[i], exacall[i],gnomall[i], muttype[i])\n",
    "                if gene[i] not in  sp568_raremaf_genes: \n",
    "                         sp568_raremaf_genes.append(gene[i])\n",
    "                sp568_raremaf_variants.append(rows[i])       \n",
    "                #var = rs[i] + '.' + gene[i] +'.' +exacall[i] +'.'+ gnomall[i]\n",
    "                #if var not in sp568_raremaf_variants: \n",
    "                    #sp568_raremaf_variants.append(var)\n",
    "print ('We reached printing stage')\n",
    "print ('Number of variants with gnomall and/or exac <', cutoff, 'is:',count)\n",
    "print (sp568_raremaf_variants)\n",
    "print('========================================================')\n",
    "print(sp568_raremaf_genes)\n",
    "print('Done')"
   ]
  },
  {
   "cell_type": "code",
   "execution_count": null,
   "metadata": {
    "collapsed": true,
    "deletable": true,
    "editable": true
   },
   "outputs": [],
   "source": []
  },
  {
   "cell_type": "code",
   "execution_count": null,
   "metadata": {
    "collapsed": true
   },
   "outputs": [],
   "source": []
  }
 ],
 "metadata": {
  "anaconda-cloud": {},
  "kernelspec": {
   "display_name": "Python 2",
   "language": "python",
   "name": "python2"
  },
  "language_info": {
   "codemirror_mode": {
    "name": "ipython",
    "version": 2
   },
   "file_extension": ".py",
   "mimetype": "text/x-python",
   "name": "python",
   "nbconvert_exporter": "python",
   "pygments_lexer": "ipython2",
   "version": "2.7.12"
  }
 },
 "nbformat": 4,
 "nbformat_minor": 1
}
