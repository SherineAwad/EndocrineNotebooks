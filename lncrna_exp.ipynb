{
 "cells": [
  {
   "cell_type": "code",
   "execution_count": 134,
   "metadata": {
    "collapsed": false,
    "deletable": true,
    "editable": true
   },
   "outputs": [],
   "source": [
    "import csv\n",
    "import sys\n",
    "import re\n",
    "import matplotlib.pyplot as plt\n",
    "import numpy as np"
   ]
  },
  {
   "cell_type": "markdown",
   "metadata": {
    "collapsed": false,
    "deletable": true,
    "editable": true
   },
   "source": [
    "# Read transcript.fa "
   ]
  },
  {
   "cell_type": "code",
   "execution_count": 135,
   "metadata": {
    "collapsed": false,
    "deletable": true,
    "editable": true
   },
   "outputs": [],
   "source": [
    "def read_lncRNA(lncRNA_infile):\n",
    "    lncRNA = {}\n",
    "    fp = open(lncRNA_infile, 'r')\n",
    "    for  line in fp.readlines():\n",
    "                row =line.split('\\t')\n",
    "                #lncRNA.append(row[1])\n",
    "                lncRNA[row[0]] =row[1]\n",
    "\n",
    "    return  lncRNA"
   ]
  },
  {
   "cell_type": "code",
   "execution_count": 136,
   "metadata": {
    "collapsed": false,
    "deletable": true,
    "editable": true
   },
   "outputs": [],
   "source": [
    "def read_expressions(exp_infile):\n",
    "    expressions ={}\n",
    "    fdr = {}\n",
    "    with open(exp_infile) as csvfile:\n",
    "        readCSV = csv.reader(csvfile, delimiter=',')\n",
    "        for row in readCSV:\n",
    "            gene = row[1]\n",
    "            FDR = row[5]\n",
    "            expressions[gene] = row[2]\n",
    "            fdr[gene]= str(FDR)\n",
    "    return  expressions, fdr"
   ]
  },
  {
   "cell_type": "code",
   "execution_count": 137,
   "metadata": {
    "collapsed": false,
    "deletable": true,
    "editable": true
   },
   "outputs": [],
   "source": [
    "def is_expressed(lncRNA, expressions,fdr, outfile):\n",
    "    fp = open(outfile, 'w+')\n",
    "    fp.write('Transcript' +'\\t'+ 'Gene' +'\\t' +'LogFC'+'\\t'+'FDR'+'\\n')\n",
    "    for key, value in lncRNA.items(): \n",
    "            if value in expressions and float(fdr[value]) < 0.00000001: \n",
    "                fp.write(key +'\\t' +value+'\\t'+ expressions[value]+'\\t'+fdr[value]+'\\n')\n",
    "    return "
   ]
  },
  {
   "cell_type": "code",
   "execution_count": 138,
   "metadata": {
    "collapsed": false,
    "deletable": true,
    "editable": true
   },
   "outputs": [
    {
     "name": "stdout",
     "output_type": "stream",
     "text": [
      "We are all set\n"
     ]
    }
   ],
   "source": [
    "def main():\n",
    "    expressions, fdr= read_expressions('dge-NCBI.csv')\n",
    "    sp1452_lncRNA = read_lncRNA('sp1452.txt')\n",
    "    is_expressed(sp1452_lncRNA,expressions,fdr, 'sp1452_lncRNA_expressed.txt')\n",
    " \n",
    "    sp1466_lncRNA = read_lncRNA('sp1466.txt')\n",
    "    is_expressed(sp1466_lncRNA,expressions,fdr, 'sp1466_lncRNA_expressed.txt')\n",
    "    \n",
    "    sp1470_lncRNA = read_lncRNA('sp1470.txt')\n",
    "    is_expressed(sp1470_lncRNA,expressions,fdr, 'sp1470_lncRNA_expressed.txt')\n",
    "    \n",
    "    sp1476_lncRNA = read_lncRNA('sp1476.txt')\n",
    "    is_expressed(sp1476_lncRNA,expressions,fdr, 'sp1476_lncRNA_expressed.txt')\n",
    "    \n",
    "    sp1477_lncRNA = read_lncRNA('sp1477.txt')\n",
    "    is_expressed(sp1477_lncRNA,expressions,fdr, 'sp1477_lncRNA_expressed.txt')\n",
    "    \n",
    "    \n",
    "    sp1479_lncRNA = read_lncRNA('sp1479.txt')\n",
    "    is_expressed(sp1479_lncRNA,expressions,fdr, 'sp1479_lncRNA_expressed.txt')\n",
    "    \n",
    "    \n",
    "    sp1481_lncRNA = read_lncRNA('sp1481.txt')\n",
    "    is_expressed(sp1481_lncRNA,expressions,fdr, 'sp1481_lncRNA_expressed.txt')\n",
    "    \n",
    "    \n",
    "    sp1483_lncRNA = read_lncRNA('sp1483.txt')\n",
    "    is_expressed(sp1483_lncRNA,expressions,fdr, 'sp1483_lncRNA_expressed.txt')\n",
    "    \n",
    "    sp1485_lncRNA = read_lncRNA('sp1485.txt')\n",
    "    is_expressed(sp1485_lncRNA,expressions,fdr, 'sp1485_lncRNA_expressed.txt')\n",
    "    \n",
    "    sp1487_lncRNA = read_lncRNA('sp1487.txt')\n",
    "    is_expressed(sp1487_lncRNA,expressions,fdr, 'sp1487_lncRNA_expressed.txt')\n",
    "    \n",
    "    \n",
    "    sp1508_lncRNA = read_lncRNA('sp1508.txt')\n",
    "    is_expressed(sp1508_lncRNA,expressions,fdr, 'sp1508_lncRNA_expressed.txt')\n",
    " \n",
    "    sp1510_lncRNA = read_lncRNA('sp1510.txt')\n",
    "    is_expressed(sp1510_lncRNA,expressions,fdr, 'sp1510_lncRNA_expressed.txt')\n",
    "    \n",
    "    sp1514_lncRNA = read_lncRNA('sp1514.txt')\n",
    "    is_expressed(sp1514_lncRNA,expressions,fdr, 'sp1514_lncRNA_expressed.txt')\n",
    "    \n",
    "    sp1515_lncRNA = read_lncRNA('sp1515.txt')\n",
    "    is_expressed(sp1515_lncRNA,expressions,fdr, 'sp1515_lncRNA_expressed.txt')\n",
    "    \n",
    "    sp1516_lncRNA = read_lncRNA('sp1516.txt')\n",
    "    is_expressed(sp1516_lncRNA,expressions,fdr, 'sp1516_lncRNA_expressed.txt')\n",
    "    \n",
    "    \n",
    "    sp1517_lncRNA = read_lncRNA('sp1517.txt')\n",
    "    is_expressed(sp1517_lncRNA,expressions,fdr, 'sp1517_lncRNA_expressed.txt')\n",
    "    \n",
    "    \n",
    "    sp1519_lncRNA = read_lncRNA('sp1519.txt')\n",
    "    is_expressed(sp1519_lncRNA,expressions,fdr, 'sp1519_lncRNA_expressed.txt')\n",
    "    \n",
    "    \n",
    "    sp1520_lncRNA = read_lncRNA('sp1520.txt')\n",
    "    is_expressed(sp1520_lncRNA,expressions,fdr, 'sp1520_lncRNA_expressed.txt')\n",
    "    \n",
    "    sp1521_lncRNA = read_lncRNA('sp1521.txt')\n",
    "    is_expressed(sp1521_lncRNA,expressions,fdr, 'sp1521_lncRNA_expressed.txt')    \n",
    "    \n",
    "    sp1522_lncRNA = read_lncRNA('sp1522.txt')\n",
    "    is_expressed(sp1522_lncRNA,expressions,fdr, 'sp1522_lncRNA_expressed.txt')\n",
    "   \n",
    "    print('We are all set')\n",
    "main() "
   ]
  },
  {
   "cell_type": "code",
   "execution_count": null,
   "metadata": {
    "collapsed": true,
    "deletable": true,
    "editable": true
   },
   "outputs": [],
   "source": []
  },
  {
   "cell_type": "code",
   "execution_count": null,
   "metadata": {
    "collapsed": true,
    "deletable": true,
    "editable": true
   },
   "outputs": [],
   "source": []
  }
 ],
 "metadata": {
  "anaconda-cloud": {},
  "kernelspec": {
   "display_name": "Python 2",
   "language": "python",
   "name": "python2"
  },
  "language_info": {
   "codemirror_mode": {
    "name": "ipython",
    "version": 2
   },
   "file_extension": ".py",
   "mimetype": "text/x-python",
   "name": "python",
   "nbconvert_exporter": "python",
   "pygments_lexer": "ipython2",
   "version": "2.7.12"
  }
 },
 "nbformat": 4,
 "nbformat_minor": 1
}
