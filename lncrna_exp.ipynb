{
 "cells": [
  {
   "cell_type": "code",
   "execution_count": 14,
   "metadata": {
    "collapsed": false,
    "deletable": true,
    "editable": true
   },
   "outputs": [],
   "source": [
    "import csv\n",
    "import sys\n",
    "import re\n",
    "import matplotlib.pyplot as plt\n",
    "import numpy as np"
   ]
  },
  {
   "cell_type": "markdown",
   "metadata": {
    "collapsed": false,
    "deletable": true,
    "editable": true
   },
   "source": [
    "# Read transcript.fa "
   ]
  },
  {
   "cell_type": "code",
   "execution_count": 57,
   "metadata": {
    "collapsed": false,
    "deletable": true,
    "editable": true
   },
   "outputs": [],
   "source": [
    "def read_lncRNA(lncRNA_infile):\n",
    "    lncRNA = []\n",
    "    fp = open(lncRNA_infile, 'r')\n",
    "    for  line in fp.readlines():\n",
    "                row =line.split('\\t')\n",
    "                lncRNA.append(row[1])\n",
    "\n",
    "    return  lncRNA"
   ]
  },
  {
   "cell_type": "code",
   "execution_count": 58,
   "metadata": {
    "collapsed": false
   },
   "outputs": [],
   "source": [
    "def read_expressions(exp_infile):\n",
    "    genes ={}\n",
    "    with open(exp_infile) as csvfile:\n",
    "        readCSV = csv.reader(csvfile, delimiter=',')\n",
    "        for row in readCSV:\n",
    "            gene = row[1]\n",
    "            FDR = row[5]\n",
    "            genes[gene]= str(FDR)\n",
    "    return  genes"
   ]
  },
  {
   "cell_type": "code",
   "execution_count": 75,
   "metadata": {
    "collapsed": false
   },
   "outputs": [],
   "source": [
    "def is_expressed(lncRNA, genes_expressions, outfile):\n",
    "    fp = open(outfile, 'w+')\n",
    "    for i in lncRNA: \n",
    "            if i in genes_expressions and float(genes_expressions[i]) < 0.00000001: \n",
    "                fp.write(i+'\\t'+ genes_expressions[i]+'\\n')\n",
    "    return "
   ]
  },
  {
   "cell_type": "code",
   "execution_count": 76,
   "metadata": {
    "collapsed": false,
    "deletable": true,
    "editable": true
   },
   "outputs": [
    {
     "name": "stdout",
     "output_type": "stream",
     "text": [
      "We are all set\n"
     ]
    }
   ],
   "source": [
    "def main():\n",
    "    genes_expressions= read_expressions('dge-NCBI.csv')\n",
    "    sp1452_lncRNA = read_lncRNA('sp1452.txt')\n",
    "    is_expressed(sp1452_lncRNA,genes_expressions, 'sp1452_lncRNA_expressed.txt')\n",
    " \n",
    "    sp1466_lncRNA = read_lncRNA('sp1466.txt')\n",
    "    is_expressed(sp1466_lncRNA,genes_expressions, 'sp1466_lncRNA_expressed.txt')\n",
    "    \n",
    "    sp1470_lncRNA = read_lncRNA('sp1470.txt')\n",
    "    is_expressed(sp1470_lncRNA,genes_expressions, 'sp1470_lncRNA_expressed.txt')\n",
    "    \n",
    "    sp1476_lncRNA = read_lncRNA('sp1476.txt')\n",
    "    is_expressed(sp1476_lncRNA,genes_expressions, 'sp1476_lncRNA_expressed.txt')\n",
    "    \n",
    "    sp1477_lncRNA = read_lncRNA('sp1477.txt')\n",
    "    is_expressed(sp1477_lncRNA,genes_expressions, 'sp1477_lncRNA_expressed.txt')\n",
    "    \n",
    "    \n",
    "    sp1479_lncRNA = read_lncRNA('sp1479.txt')\n",
    "    is_expressed(sp1479_lncRNA,genes_expressions, 'sp1479_lncRNA_expressed.txt')\n",
    "    \n",
    "    \n",
    "    sp1481_lncRNA = read_lncRNA('sp1481.txt')\n",
    "    is_expressed(sp1481_lncRNA,genes_expressions, 'sp1481_lncRNA_expressed.txt')\n",
    "    \n",
    "    \n",
    "    sp1483_lncRNA = read_lncRNA('sp1483.txt')\n",
    "    is_expressed(sp1483_lncRNA,genes_expressions, 'sp1483_lncRNA_expressed.txt')\n",
    "    \n",
    "    sp1485_lncRNA = read_lncRNA('sp1485.txt')\n",
    "    is_expressed(sp1485_lncRNA,genes_expressions, 'sp1485_lncRNA_expressed.txt')\n",
    "    \n",
    "    sp1487_lncRNA = read_lncRNA('sp1487.txt')\n",
    "    is_expressed(sp1487_lncRNA,genes_expressions, 'sp1487_lncRNA_expressed.txt')\n",
    "    \n",
    "    \n",
    "    sp1508_lncRNA = read_lncRNA('sp1508.txt')\n",
    "    is_expressed(sp1452_lncRNA,genes_expressions, 'sp1508_lncRNA_expressed.txt')\n",
    " \n",
    "    sp1510_lncRNA = read_lncRNA('sp1510.txt')\n",
    "    is_expressed(sp1466_lncRNA,genes_expressions, 'sp1510_lncRNA_expressed.txt')\n",
    "    \n",
    "    sp1514_lncRNA = read_lncRNA('sp1514.txt')\n",
    "    is_expressed(sp1470_lncRNA,genes_expressions, 'sp1514_lncRNA_expressed.txt')\n",
    "    \n",
    "    sp1515_lncRNA = read_lncRNA('sp1515.txt')\n",
    "    is_expressed(sp1476_lncRNA,genes_expressions, 'sp1515_lncRNA_expressed.txt')\n",
    "    \n",
    "    sp1516_lncRNA = read_lncRNA('sp1516.txt')\n",
    "    is_expressed(sp1477_lncRNA,genes_expressions, 'sp1516_lncRNA_expressed.txt')\n",
    "    \n",
    "    \n",
    "    sp1517_lncRNA = read_lncRNA('sp1517.txt')\n",
    "    is_expressed(sp1479_lncRNA,genes_expressions, 'sp1517_lncRNA_expressed.txt')\n",
    "    \n",
    "    \n",
    "    sp1519_lncRNA = read_lncRNA('sp1519.txt')\n",
    "    is_expressed(sp1481_lncRNA,genes_expressions, 'sp1519_lncRNA_expressed.txt')\n",
    "    \n",
    "    \n",
    "    sp1520_lncRNA = read_lncRNA('sp1520.txt')\n",
    "    is_expressed(sp1483_lncRNA,genes_expressions, 'sp1520_lncRNA_expressed.txt')\n",
    "    \n",
    "    sp1521_lncRNA = read_lncRNA('sp1521.txt')\n",
    "    is_expressed(sp1485_lncRNA,genes_expressions, 'sp1521_lncRNA_expressed.txt')    \n",
    "    \n",
    "    sp1522_lncRNA = read_lncRNA('sp1522.txt')\n",
    "    is_expressed(sp1522_lncRNA,genes_expressions, 'sp1522_lncRNA_expressed.txt')\n",
    "   \n",
    "    print('We are all set')\n",
    "main() "
   ]
  },
  {
   "cell_type": "code",
   "execution_count": null,
   "metadata": {
    "collapsed": true,
    "deletable": true,
    "editable": true
   },
   "outputs": [],
   "source": []
  }
 ],
 "metadata": {
  "anaconda-cloud": {},
  "kernelspec": {
   "display_name": "Python 2",
   "language": "python",
   "name": "python2"
  },
  "language_info": {
   "codemirror_mode": {
    "name": "ipython",
    "version": 2
   },
   "file_extension": ".py",
   "mimetype": "text/x-python",
   "name": "python",
   "nbconvert_exporter": "python",
   "pygments_lexer": "ipython2",
   "version": "2.7.12"
  }
 },
 "nbformat": 4,
 "nbformat_minor": 1
}
