{
 "cells": [
  {
   "cell_type": "code",
   "execution_count": 1,
   "metadata": {
    "collapsed": true,
    "deletable": true,
    "editable": true
   },
   "outputs": [],
   "source": [
    "import csv\n",
    "import re"
   ]
  },
  {
   "cell_type": "markdown",
   "metadata": {
    "collapsed": true,
    "deletable": true,
    "editable": true
   },
   "source": [
    "# HIGH Risk that has AF field"
   ]
  },
  {
   "cell_type": "code",
   "execution_count": 3,
   "metadata": {
    "collapsed": false,
    "deletable": true,
    "editable": true
   },
   "outputs": [],
   "source": [
    "#Filter VEP.txt output \n",
    "def load_vep(filename):\n",
    "    fp = open(filename, 'r')\n",
    "    r = csv.reader(fp, delimiter='\\t')\n",
    "    high_risk =[]\n",
    "    positions =[]\n",
    "    genes = []\n",
    "    for n, row in enumerate(r):\n",
    "        risk =''\n",
    "        symbol ='' \n",
    "        variant =''\n",
    "        AF =''\n",
    "        if row[0].startswith('#'):\n",
    "            continue \n",
    "        rs ,pos,_,ensg,_, enst,_,_,_,_,_,_,_,impact =row[:14]\n",
    "        imp =re.split('=|,|;', impact) \n",
    "        risk = imp[1]\n",
    "        #if re.search(\"AF=\" , str(row)):\n",
    "        if risk=='HIGH' or risk =='MODIFIER' and rs =='.':\n",
    "                    high_risk.append(row)\n",
    "                    positions.append(pos)\n",
    "                    genes.append(ensg)\n",
    "                    \n",
    "    return high_risk, positions, genes"
   ]
  },
  {
   "cell_type": "code",
   "execution_count": 14,
   "metadata": {
    "collapsed": false,
    "deletable": true,
    "editable": true
   },
   "outputs": [],
   "source": [
    "#Filter VEP.txt output \n",
    "def load_vep2(filename):\n",
    "    fp = open(filename, 'r')\n",
    "    r = csv.reader(fp, delimiter='\\t')\n",
    "    rows = []\n",
    "    for n, row in enumerate(r):\n",
    "        risk =''\n",
    "        symbol ='' \n",
    "        variant =''\n",
    "        AF =''\n",
    "        if row[0].startswith('#'):\n",
    "            continue \n",
    "        rs ,pos,_,ensg,_, enst,_,_,_,_,_,_,_,impact =row[:14]\n",
    "        if rs == \".\":\n",
    "                rows.append(row)\n",
    "                #print row\n",
    "                \n",
    "    return rows"
   ]
  },
  {
   "cell_type": "code",
   "execution_count": 15,
   "metadata": {
    "collapsed": false
   },
   "outputs": [
    {
     "name": "stdout",
     "output_type": "stream",
     "text": [
      "('Done', 29)\n"
     ]
    }
   ],
   "source": [
    "rows = load_vep2('sp82-vep.filtered.txt')\n",
    "fp = open('sp82.filtered.nors.txt', 'w+')\n",
    "for row in rows: \n",
    "        print >>fp, row\n",
    "print ('Done', len(rows))"
   ]
  },
  {
   "cell_type": "code",
   "execution_count": null,
   "metadata": {
    "collapsed": true
   },
   "outputs": [],
   "source": []
  }
 ],
 "metadata": {
  "anaconda-cloud": {},
  "kernelspec": {
   "display_name": "Python 2",
   "language": "python",
   "name": "python2"
  },
  "language_info": {
   "codemirror_mode": {
    "name": "ipython",
    "version": 2
   },
   "file_extension": ".py",
   "mimetype": "text/x-python",
   "name": "python",
   "nbconvert_exporter": "python",
   "pygments_lexer": "ipython2",
   "version": "2.7.12"
  }
 },
 "nbformat": 4,
 "nbformat_minor": 2
}
