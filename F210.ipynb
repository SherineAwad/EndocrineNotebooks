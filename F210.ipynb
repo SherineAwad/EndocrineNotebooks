{
 "cells": [
  {
   "cell_type": "code",
   "execution_count": 14,
   "metadata": {
    "collapsed": true,
    "deletable": true,
    "editable": true
   },
   "outputs": [],
   "source": [
    "import csv\n",
    "import sys\n",
    "import re\n",
    "import matplotlib.pyplot as plt\n",
    "import numpy as np"
   ]
  },
  {
   "cell_type": "markdown",
   "metadata": {
    "deletable": true,
    "editable": true
   },
   "source": [
    "# Cutoff for rare variants "
   ]
  },
  {
   "cell_type": "code",
   "execution_count": 32,
   "metadata": {
    "collapsed": true,
    "deletable": true,
    "editable": true
   },
   "outputs": [],
   "source": [
    "cutoff  = 0.000001"
   ]
  },
  {
   "cell_type": "code",
   "execution_count": 33,
   "metadata": {
    "collapsed": true,
    "deletable": true,
    "editable": true
   },
   "outputs": [],
   "source": [
    "def writelist (mylist, myfile): \n",
    "    fp =  open(myfile,'a+')\n",
    "    for idx,item in enumerate(mylist):\n",
    "            fp.write(item)\n",
    "            fp.write('\\t')\n",
    "    fp.write('\\n')\n",
    "    fp.close()"
   ]
  },
  {
   "cell_type": "code",
   "execution_count": 34,
   "metadata": {
    "collapsed": true,
    "deletable": true,
    "editable": true
   },
   "outputs": [],
   "source": [
    "def intersections(list1, list2):\n",
    "    intersection_list = []\n",
    "    for i in list1: \n",
    "        if i in list2: \n",
    "                intersection_list.append(i)\n",
    "    return intersection_list"
   ]
  },
  {
   "cell_type": "code",
   "execution_count": 35,
   "metadata": {
    "collapsed": true,
    "deletable": true,
    "editable": true
   },
   "outputs": [],
   "source": [
    "def intersections3(list1, list2, list3):\n",
    "    intersection_list = []\n",
    "    for i in list1: \n",
    "        if i in list2: \n",
    "                if i in list3:\n",
    "                    intersection_list.append(i)\n",
    "    return intersection_list"
   ]
  },
  {
   "cell_type": "code",
   "execution_count": 36,
   "metadata": {
    "collapsed": true,
    "deletable": true,
    "editable": true
   },
   "outputs": [],
   "source": [
    "def intersections2n(list1, list2, list3):\n",
    "    intersection_list = []\n",
    "    nlist = [] \n",
    "    for i in list1: \n",
    "        if i in list2: \n",
    "                intersection_list.append(i)\n",
    "    for i in intersection_list:\n",
    "            if i not in list3:\n",
    "                    nlist.append(i)\n",
    "    for i in nlist: \n",
    "            print (i)\n",
    "    return intersection_list"
   ]
  },
  {
   "cell_type": "code",
   "execution_count": 37,
   "metadata": {
    "collapsed": true,
    "deletable": true,
    "editable": true
   },
   "outputs": [],
   "source": [
    "def intersections3n(list1, list2, list3, list4):\n",
    "    intersection_list = []\n",
    "    nlist = []\n",
    "    for i in list1 : \n",
    "        if i in list2 : \n",
    "            if i in list3 :\n",
    "                intersection_list.append(i)\n",
    "    for i in intersection_list:\n",
    "            if i not in list4:\n",
    "                    nlist.append(i)\n",
    "    for i in nlist: \n",
    "            print (i)\n",
    "    return nlist"
   ]
  },
  {
   "cell_type": "code",
   "execution_count": 38,
   "metadata": {
    "collapsed": true,
    "deletable": true,
    "editable": true
   },
   "outputs": [],
   "source": [
    "def difference(list1, list2):\n",
    "    unique_list = []\n",
    "    for i in list1: \n",
    "        if i not in list2: \n",
    "                unique_list.append(i)\n",
    "    return unique_list"
   ]
  },
  {
   "cell_type": "code",
   "execution_count": 39,
   "metadata": {
    "collapsed": true,
    "deletable": true,
    "editable": true
   },
   "outputs": [],
   "source": [
    "def difference2(list1, list2, list3):\n",
    "    unique_list = []\n",
    "    for i in list1: \n",
    "        if i not in list2 and i not in list3: \n",
    "                unique_list.append(i)\n",
    "    return unique_list"
   ]
  },
  {
   "cell_type": "code",
   "execution_count": 40,
   "metadata": {
    "collapsed": true,
    "deletable": true,
    "editable": true
   },
   "outputs": [],
   "source": [
    "def difference3(list1, list2, list3):\n",
    "    unique_list = []\n",
    "    for i in list1: \n",
    "        if i in list2: \n",
    "            if i not in list3: \n",
    "                unique_list.append(i)\n",
    "    return unique_list"
   ]
  },
  {
   "cell_type": "code",
   "execution_count": 41,
   "metadata": {
    "collapsed": true,
    "deletable": true,
    "editable": true
   },
   "outputs": [],
   "source": [
    "def exist (list1, list2): \n",
    "    found_list = []\n",
    "    for i in list1: \n",
    "            if i not in found_list: \n",
    "                    found_list.append(i)\n",
    "    for i in list2: \n",
    "            if i not in found_list: \n",
    "                    found_list.append(i)\n",
    "    return found_list "
   ]
  },
  {
   "cell_type": "markdown",
   "metadata": {
    "deletable": true,
    "editable": true
   },
   "source": [
    "# Read annovar annotation file"
   ]
  },
  {
   "cell_type": "code",
   "execution_count": 42,
   "metadata": {
    "collapsed": true,
    "deletable": true,
    "editable": true
   },
   "outputs": [],
   "source": [
    " def load_annovar(filename):\n",
    "    rows = []\n",
    "    exacall = []\n",
    "    gnomall = []\n",
    "    rs = []\n",
    "    gene = []\n",
    "    pathogenics = []\n",
    "    functions = []\n",
    "    exonicfunctions =[]\n",
    "    muttype = []\n",
    "    fp = open(filename, 'r')\n",
    "    r = csv.reader(fp, delimiter='\\t')\n",
    "    for n, row in enumerate(r):\n",
    "        #rs ,pos,_,ensg,_, enst,_,_,_,_,_,_,_,impact =row[:14]\n",
    "        if n == 0: \n",
    "                print (row[8])\n",
    "                print(row[16])\n",
    "                print(row[124])\n",
    "                print(row[24])\n",
    "                print(row[6])\n",
    "                print (row[5])\n",
    "                print(row[59])\n",
    "            \n",
    "                continue\n",
    "        exonicfunctions.append(row[8])\n",
    "        muttype.append(row[13])\n",
    "        exacall.append(row[16])\n",
    "        #gnomall.append(row[124])\n",
    "        gnomall.append(row[24])\n",
    "        #rs.append(row[24])\n",
    "        rs.append(row[139])\n",
    "        rows.append(row)\n",
    "        gene.append(row[6])\n",
    "        functions.append(row[5])\n",
    "        pathogenics.append(row[59])\n",
    "    return rows, functions, exonicfunctions, rs, gene,  exacall , gnomall, pathogenics, muttype"
   ]
  },
  {
   "cell_type": "markdown",
   "metadata": {
    "collapsed": true,
    "deletable": true,
    "editable": true
   },
   "source": [
    "# Working with F210 "
   ]
  },
  {
   "cell_type": "markdown",
   "metadata": {
    "deletable": true,
    "editable": true
   },
   "source": [
    "# M1 is less than Cutoff in either gnomAD or ExAC"
   ]
  },
  {
   "cell_type": "code",
   "execution_count": 43,
   "metadata": {
    "collapsed": false,
    "deletable": true,
    "editable": true
   },
   "outputs": [
    {
     "name": "stdout",
     "output_type": "stream",
     "text": [
      "ExonicFunc.refGene\n",
      "ExAC_ALL\n",
      "Examined_samples\n",
      "gnomAD_exome_ALL\n",
      "Gene.refGene\n",
      "Func.refGene\n",
      "MetaLR_pred\n",
      "Starting ....\n",
      "1e-06\n",
      "('rs183933394', 'NBPF19', '0', '0', 'nonsynonymous SNV')\n",
      "('.', 'STK39', '0', '0', 'nonframeshift insertion')\n",
      "('.', 'ZNF717', '0', '0', 'nonframeshift insertion')\n",
      ".\n",
      "('rs34133353', 'FOXO3', '.', '0', 'frameshift insertion')\n",
      ".\n",
      ".\n",
      ".\n",
      ".\n",
      "('.', 'PRSS3', '.', '0', 'frameshift deletion')\n",
      ".\n",
      ".\n",
      ".\n",
      ".\n",
      "('rs79246694', 'PABPC3', '.', '0', 'nonsynonymous SNV')\n",
      ".\n",
      "('rs376589131', 'PABPC3', '.', '0', 'frameshift deletion')\n",
      "('rs80261016', 'PABPC3', '0', '0', 'nonsynonymous SNV')\n",
      ".\n",
      "('rs371570689', 'PABPC3', '.', '0', 'frameshift deletion')\n",
      ".\n",
      ".\n",
      "('.', 'HERC2', '.', '0', 'nonsynonymous SNV')\n",
      ".\n",
      ".\n",
      ".\n",
      ".\n",
      ".\n",
      "('.', 'NPIPB13', '.', '0', 'nonsynonymous SNV')\n",
      ".\n",
      ".\n",
      ".\n",
      "('.', 'KRTAP4-11;KRTAP4-8', '.', '0', 'nonsynonymous SNV')\n",
      ".\n",
      ".\n",
      ".\n",
      "('rs201504521', 'KIR2DL3', '.', '0', 'nonsynonymous SNV')\n",
      "We reached printing stage\n",
      "('Number of variants with gnomall and/or exac <', 1e-06, 'is:', 13)\n",
      "[['chr1', '145360608', '145360608', 'T', 'A', 'exonic', 'NBPF19', '.', 'nonsynonymous SNV', 'NBPF19:NM_001351365:exon69:c.T8414A:p.L2805Q', 'exonic', 'ENSG00000163386', '.', 'nonsynonymous SNV', 'ENSG00000163386:ENST00000342960:exon74:c.T9233A:p.L3078Q', '.', '0', '0', '0', '0', '0', '0', '0', '0', '0', '0', '0', '0', '0', '0', '0', '0', '0', 'rs183933394', '.', '.', '0.984', 'D', '0.902', 'P', '.', '.', '1', 'N', '2.98', 'M', '.', '.', '.', '.', '0.083', '3.592', '23.2', '0.961', '0.028', 'N', '-1.101', 'T', '0.056', 'T', '0.615', '0', '1.08', '.', '.', '.', '.', '4.434', '.', '.', '.', '.', '.', '.', '.', '.', '.', '.', '.', '.', '.', '.', '.', '.', '.', '.', '.', '.', '.', '.', '.', '.', '.', '.', '.', '.', '.', '.', '.', '.', '.', '.', '.', '.', '.', '.', '.', '.', '.', '.', '.', '.', '.', '.', '.', '.', '.', '.', '.', '.', '.', '.', '.', '.', '.', '.', '.', '.', '.', '.', '.', '.', '.', '0.053', '0.5', '89.77', '10', 'chr1', '145360608', 'rs183933394', 'T', 'A', '89.77', '.', 'AC=1;AF=0.500;AN=2;BaseQRankSum=-7.410e-01;ClippingRankSum=1.57;DB;DP=10;ExcessHet=3.0103;FS=0.000;MLEAC=1;MLEAF=0.500;MQ=36.88;MQRankSum=1.13;QD=8.98;ReadPosRankSum=-2.383e+00;SOR=0.693', 'GT:AD:DP:GQ:PGT:PID:PL', '0/1:4,6:10:99:1|0:145360606_A_C:118,0,109'], ['chr2', '169103796', '169103796', '-', 'GCCGGG', 'exonic', 'STK39', '.', 'nonframeshift insertion', 'STK39:NM_013233:exon1:c.149_150insCCCGGC:p.A50delinsAPA', 'exonic', 'ENSG00000198648', '.', 'nonframeshift insertion', 'ENSG00000198648:ENST00000355999:exon1:c.149_150insCCCGGC:p.A50delinsAPA', '.', '0', '.', '0', '.', '.', '.', '.', '.', '0', '.', '.', '.', '.', '0', '.', '.', '0', 'rs537577117', '.', '.', '.', '.', '.', '.', '.', '.', '.', '.', '.', '.', '.', '.', '.', '.', '.', '.', '.', '.', '.', '.', '.', '.', '.', '.', '.', '.', '.', '.', '.', '.', '.', '.', '.', '.', '.', '.', '.', '.', '.', '.', '.', '.', '.', '.', '.', '.', '.', '.', '.', '.', '.', '.', '.', '.', '.', '.', '.', '.', '.', '.', '.', '.', '.', '.', '.', '.', '.', '.', '.', '.', '.', '.', '.', '.', '.', '.', '.', '.', '.', '.', '.', '.', '.', '.', '.', '.', '.', '.', '.', '.', '.', '.', '.', '.', '.', '.', '.', '.', '1', '210.82', '6', 'chr2', '169103796', '.', 'C', 'CGCCGGG', '210.82', '.', 'AC=2;AF=1.00;AN=2;DP=25;ExcessHet=3.0103;FS=0.000;MLEAC=2;MLEAF=1.00;MQ=60.00;QD=29.08;SOR=0.693', 'GT:AD:DP:GQ:PL', '1/1:0,6:6:17:248,17,0'], ['chr3', '75790878', '75790878', '-', 'TGCCAACTCCTGTAATGATAGCAGGCTGTTATAAGTCTCCAGCAT', 'exonic', 'ZNF717', '.', 'nonframeshift insertion', 'ZNF717:NM_001128223:exon3:c.66_67insATGCTGGAGACTTATAACAGCCTGCTATCATTACAGGAGTTGGCA:p.S23delinsMLETYNSLLSLQELAS,ZNF717:NM_001290208:exon3:c.66_67insATGCTGGAGACTTATAACAGCCTGCTATCATTACAGGAGTTGGCA:p.S23delinsMLETYNSLLSLQELAS,ZNF717:NM_001290210:exon3:c.66_67insATGCTGGAGACTTATAACAGCCTGCTATCATTACAGGAGTTGGCA:p.S23delinsMLETYNSLLSLQELAS,ZNF717:NM_001324027:exon3:c.66_67insATGCTGGAGACTTATAACAGCCTGCTATCATTACAGGAGTTGGCA:p.S23delinsMLETYNSLLSLQELAS,ZNF717:NM_001324028:exon3:c.45_46insATGCTGGAGACTTATAACAGCCTGCTATCATTACAGGAGTTGGCA:p.S16delinsMLETYNSLLSLQELAS,ZNF717:NM_001324026:exon4:c.66_67insATGCTGGAGACTTATAACAGCCTGCTATCATTACAGGAGTTGGCA:p.S23delinsMLETYNSLLSLQELAS', 'exonic', 'ENSG00000227124', '.', 'nonframeshift insertion', 'ENSG00000227124:ENST00000400845:exon3:c.45_46insATGCTGGAGACTTATAACAGCCTGCTATCATTACAGGAGTTGGCA:p.S16delinsMLETYNSLLSLQELAS,ENSG00000227124:ENST00000422325:exon3:c.66_67insATGCTGGAGACTTATAACAGCCTGCTATCATTACAGGAGTTGGCA:p.S23delinsMLETYNSLLSLQELAS,ENSG00000227124:ENST00000468296:exon3:c.66_67insATGCTGGAGACTTATAACAGCCTGCTATCATTACAGGAGTTGGCA:p.S23delinsMLETYNSLLSLQELAS,ENSG00000227124:ENST00000477374:exon3:c.66_67insATGCTGGAGACTTATAACAGCCTGCTATCATTACAGGAGTTGGCA:p.S23delinsMLETYNSLLSLQELAS', '.', '0', '0', '0', '0', '0', '0', '0', '0', '0', '0', '0', '0', '0', '0', '0', '0', '0', 'rs761341636', '.', '.', '.', '.', '.', '.', '.', '.', '.', '.', '.', '.', '.', '.', '.', '.', '.', '.', '.', '.', '.', '.', '.', '.', '.', '.', '.', '.', '.', '.', '.', '.', '.', '.', '.', '.', '.', '.', '.', '.', '.', '.', '.', '.', '.', '.', '.', '.', '.', '.', '.', '.', '.', '.', '.', '.', '.', '.', '.', '.', '.', '.', '.', '.', '.', '.', '.', '.', '.', '.', '.', '.', '.', '.', '.', '.', '.', '.', '.', '.', '.', '.', '.', '.', '.', '.', '.', '.', '.', '.', '.', '.', '.', '.', '.', '.', '.', '.', '.', '.', '0.5', '374.25', '4', 'chr3', '75790878', '.', 'A', 'ATGCCAACTCCTGTAATGATAGCAGGCTGTTATAAGTCTCCAGCAT', '374.25', '.', 'AC=1;AF=0.500;AN=2;BaseQRankSum=0.727;ClippingRankSum=0.727;DP=27;ExcessHet=3.0103;FS=0.000;MLEAC=1;MLEAF=0.500;MQ=40.04;MQRankSum=0.727;QD=26.18;ReadPosRankSum=-7.270e-01;SOR=0.916', 'GT:AD:DP:GQ:PGT:PID:PL', '0/1:1,3:4:9:0|1:75790860_C_T:411,0,9'], ['chr6', '108985176', '108985176', '-', 'G', 'exonic', 'FOXO3', '.', 'frameshift insertion', 'FOXO3:NM_001455:exon2:c.1141dupG:p.D380fs,FOXO3:NM_201559:exon3:c.1141dupG:p.D380fs', 'exonic', 'ENSG00000118689', '.', 'frameshift insertion', 'ENSG00000118689:ENST00000406360:exon2:c.1141dupG:p.D380fs,ENSG00000118689:ENST00000540898:exon2:c.481dupG:p.D160fs,ENSG00000118689:ENST00000343882:exon3:c.1141dupG:p.D380fs', '.', '.', '.', '.', '.', '.', '.', '.', '.', '0', '0', '0', '0', '0', '0', '0', '0', '0', 'rs34133353', '.', '.', '.', '.', '.', '.', '.', '.', '.', '.', '.', '.', '.', '.', '.', '.', '.', '.', '.', '.', '.', '.', '.', '.', '.', '.', '.', '.', '.', '.', '.', '.', '.', '.', '.', '.', '.', '.', '.', '.', '.', '.', '.', '.', '.', '.', '.', '.', '.', '.', '.', '.', '.', '.', '.', '.', '.', '.', '.', '.', '.', '.', '.', '.', '.', '.', '.', '.', '.', '.', '.', '.', '.', '.', '.', '.', '.', '.', '.', '.', '.', '.', '.', '.', '.', '.', '.', '.', '.', '.', '.', '.', '.', '.', '.', '.', '.', '.', '.', '.', '0.5', '220.73', '246', 'chr6', '108985176', 'rs34133353', 'T', 'TG', '220.73', '.', 'AC=1;AF=0.500;AN=2;BaseQRankSum=-2.137e+00;ClippingRankSum=-2.010e-01;DB;DP=261;ExcessHet=3.0103;FS=0.000;MLEAC=1;MLEAF=0.500;MQ=56.75;MQRankSum=-8.867e+00;QD=0.90;ReadPosRankSum=0.305;SOR=0.622', 'GT:AD:DP:GQ:PL', '0/1:216,30:246:99:258,0,6683'], ['chr9', '33797931', '33797932', 'AC', '-', 'exonic', 'PRSS3', '.', 'frameshift deletion', 'PRSS3:NM_001197098:exon3:c.284_285del:p.D95fs,PRSS3:NM_002771:exon3:c.305_306del:p.D102fs,PRSS3:NM_007343:exon3:c.476_477del:p.D159fs,PRSS3:NM_001197097:exon4:c.347_348del:p.D116fs', 'exonic', 'ENSG00000010438', '.', 'frameshift deletion', 'ENSG00000010438:ENST00000361005:exon3:c.476_477del:p.D159fs,ENSG00000010438:ENST00000379405:exon3:c.305_306del:p.D102fs,ENSG00000010438:ENST00000429677:exon3:c.284_285del:p.D95fs,ENSG00000010438:ENST00000342836:exon4:c.347_348del:p.D116fs,ENSG00000010438:ENST00000457896:exon4:c.341_342del:p.D114fs', '.', '.', '.', '.', '.', '.', '.', '.', '.', '0', '0', '0', '0', '0', '0', '0', '0', '0', 'rs797012348', '.', '.', '.', '.', '.', '.', '.', '.', '.', '.', '.', '.', '.', '.', '.', '.', '.', '.', '.', '.', '.', '.', '.', '.', '.', '.', '.', '.', '.', '.', '.', '.', '.', '.', '.', '.', '.', '.', '.', '.', '.', '.', '.', '.', '.', '.', '.', '.', '.', '.', '.', '.', '.', '.', '.', '.', '.', '.', '.', '.', '.', '.', '.', '.', '.', '.', '.', '.', '.', '.', '.', '.', '.', '.', '.', '.', '.', '.', '.', '.', '.', '.', '.', '.', '.', '.', '.', '.', '.', '.', '.', '.', '.', '.', '.', '.', '.', '.', '.', '.', '0.5', '6220.73', '585', 'chr9', '33797930', '.', 'GAC', 'G', '6220.73', '.', 'AC=1;AF=0.500;AN=2;BaseQRankSum=2.45;ClippingRankSum=-1.237e+00;DP=585;ExcessHet=3.0103;FS=7.123;MLEAC=1;MLEAF=0.500;MQ=57.77;MQRankSum=-1.191e+01;QD=10.63;ReadPosRankSum=-9.700e-01;SOR=1.246', 'GT:AD:DP:GQ:PGT:PID:PL', '0/1:433,152:585:99:0|1:33797917_T_C:6258,0,18183'], ['chr13', '25671271', '25671271', 'A', 'G', 'exonic', 'PABPC3', '.', 'nonsynonymous SNV', 'PABPC3:NM_030979:exon1:c.A935G:p.K312R', 'exonic', 'ENSG00000151846', '.', 'nonsynonymous SNV', 'ENSG00000151846:ENST00000281589:exon1:c.A935G:p.K312R', '.', '.', '.', '.', '.', '.', '.', '.', '.', '0', '0', '0', '0', '0', '0', '0', '0', '0', 'rs79246694', '0.092', 'T', '0.383', 'B', '0.344', 'B', '0.000', 'U', '1.000', 'D', '0.17', 'N', '2.34', 'T', '-2.35', 'N', '0.327', '1.295', '12.24', '0.988', '0.698', 'D', '-1.043', 'T', '0.026', 'T', '0.706', '0', '0.875', '0.649', '0.388', '0.926', '0.008', '5.899', '.', '.', '.', '.', '.', '.', '.', '.', '.', '.', '.', '.', '.', '.', '.', '.', '.', '.', '.', '.', '.', '.', '.', '.', '.', '.', '.', '.', '.', '.', '.', '.', '.', '.', '.', '.', '.', '.', '.', '.', '.', '.', '.', '.', '.', '.', '.', '.', '.', '.', '.', '.', '.', '.', '.', '.', '.', '.', '.', '.', '.', '.', '.', '.', '.', '0.159', '0.5', '602.77', '222', 'chr13', '25671271', 'rs79246694', 'A', 'G', '602.77', '.', 'AC=1;AF=0.500;AN=2;BaseQRankSum=-1.581e+00;ClippingRankSum=0.484;DB;DP=222;ExcessHet=3.0103;FS=0.736;MLEAC=1;MLEAF=0.500;MQ=59.96;MQRankSum=1.98;QD=2.72;ReadPosRankSum=1.27;SOR=0.731', 'GT:AD:DP:GQ:PGT:PID:PL', '0/1:193,29:222:99:0|1:25671271_A_G:631,0,8058'], ['chr13', '25671273', '25671273', 'G', '-', 'exonic', 'PABPC3', '.', 'frameshift deletion', 'PABPC3:NM_030979:exon1:c.937delG:p.A313fs', 'exonic', 'ENSG00000151846', '.', 'frameshift deletion', 'ENSG00000151846:ENST00000281589:exon1:c.937delG:p.A313fs', '.', '.', '.', '.', '.', '.', '.', '.', '.', '0', '0', '0', '0', '0', '0', '0', '0', '0', 'rs376589131', '.', '.', '.', '.', '.', '.', '.', '.', '.', '.', '.', '.', '.', '.', '.', '.', '.', '.', '.', '.', '.', '.', '.', '.', '.', '.', '.', '.', '.', '.', '.', '.', '.', '.', '.', '.', '.', '.', '.', '.', '.', '.', '.', '.', '.', '.', '.', '.', '.', '.', '.', '.', '.', '.', '.', '.', '.', '.', '.', '.', '.', '.', '.', '.', '.', '.', '.', '.', '.', '.', '.', '.', '.', '.', '.', '.', '.', '.', '.', '.', '.', '.', '.', '.', '.', '.', '.', '.', '.', '.', '.', '.', '.', '.', '.', '.', '.', '.', '.', '.', '0.5', '590.73', '222', 'chr13', '25671272', 'rs376589131', 'AG', 'A', '590.73', '.', 'AC=1;AF=0.500;AN=2;BaseQRankSum=0.319;ClippingRankSum=-1.039e+00;DB;DP=222;ExcessHet=3.0103;FS=0.736;MLEAC=1;MLEAF=0.500;MQ=59.96;MQRankSum=-1.259e+00;QD=2.66;ReadPosRankSum=1.43;SOR=0.731', 'GT:AD:DP:GQ:PGT:PID:PL', '0/1:193,29:222:99:0|1:25671271_A_G:628,0,8092'], ['chr13', '25671292', '25671292', 'C', 'T', 'exonic', 'PABPC3', '.', 'nonsynonymous SNV', 'PABPC3:NM_030979:exon1:c.C956T:p.T319I', 'exonic', 'ENSG00000151846', '.', 'nonsynonymous SNV', 'ENSG00000151846:ENST00000281589:exon1:c.C956T:p.T319I', '.', '0', '0', '0', '0', '0', '0', '0', '0', '0', '0', '0', '0', '0', '0', '0', '0', '0', 'rs80261016', '0.002', 'D', '0.726', 'P', '0.45', 'P', '0.000', 'U', '1.000', 'D', '0.935', 'L', '2.36', 'T', '-4.66', 'D', '0.409', '5.492', '26.2', '0.997', '0.632', 'D', '-1.090', 'T', '0.034', 'T', '0.706', '0', '0.875', '0.542', '0.314', '0.998', '0.950', '7.549', '.', '.', '.', '.', '.', '.', '.', '.', '.', '.', '.', '.', '.', '.', '.', '.', '.', '.', '.', '.', '.', '.', '.', '.', '.', '.', '.', '.', '.', '.', '.', '.', '.', '.', '.', '.', '.', '.', '.', '.', '.', '.', '.', '.', '.', '.', '.', '.', '.', '.', '.', '.', '.', '.', '.', '.', '.', '.', '.', '.', '.', '.', '.', '.', '.', '0.158', '0.5', '360.77', '194', 'chr13', '25671292', 'rs80261016', 'C', 'T', '360.77', '.', 'AC=1;AF=0.500;AN=2;BaseQRankSum=-3.910e-01;ClippingRankSum=-9.040e-01;DB;DP=194;ExcessHet=3.0103;FS=0.732;MLEAC=1;MLEAF=0.500;MQ=59.82;MQRankSum=-1.857e+00;QD=1.86;ReadPosRankSum=3.19;SOR=0.679', 'GT:AD:DP:GQ:PL', '0/1:163,31:194:99:389,0,3810'], ['chr13', '25671333', '25671333', 'A', '-', 'exonic', 'PABPC3', '.', 'frameshift deletion', 'PABPC3:NM_030979:exon1:c.997delA:p.K333fs', 'exonic', 'ENSG00000151846', '.', 'frameshift deletion', 'ENSG00000151846:ENST00000281589:exon1:c.997delA:p.K333fs', '.', '.', '.', '.', '.', '.', '.', '.', '.', '0', '0', '0', '0', '0', '0', '0', '0', '0', 'rs371570689', '.', '.', '.', '.', '.', '.', '.', '.', '.', '.', '.', '.', '.', '.', '.', '.', '.', '.', '.', '.', '.', '.', '.', '.', '.', '.', '.', '.', '.', '.', '.', '.', '.', '.', '.', '.', '.', '.', '.', '.', '.', '.', '.', '.', '.', '.', '.', '.', '.', '.', '.', '.', '.', '.', '.', '.', '.', '.', '.', '.', '.', '.', '.', '.', '.', '.', '.', '.', '.', '.', '.', '.', '.', '.', '.', '.', '.', '.', '.', '.', '.', '.', '.', '.', '.', '.', '.', '.', '.', '.', '.', '.', '.', '.', '.', '.', '.', '.', '.', '.', '0.5', '770.73', '160', 'chr13', '25671332', 'rs371570689', 'CA', 'C', '770.73', '.', 'AC=1;AF=0.500;AN=2;BaseQRankSum=-1.611e+00;ClippingRankSum=0.257;DB;DP=164;ExcessHet=3.0103;FS=0.725;MLEAC=1;MLEAF=0.500;MQ=58.64;MQRankSum=0.662;QD=4.82;ReadPosRankSum=1.18;SOR=0.709', 'GT:AD:DP:GQ:PL', '0/1:127,33:160:99:808,0,3972'], ['chr15', '28369299', '28369299', 'C', 'T', 'exonic', 'HERC2', '.', 'nonsynonymous SNV', 'HERC2:NM_004667:exon85:c.G13072A:p.E4358K', 'exonic', 'ENSG00000128731', '.', 'nonsynonymous SNV', 'ENSG00000128731:ENST00000261609:exon85:c.G13072A:p.E4358K', '.', '.', '.', '.', '.', '.', '.', '.', '.', '0', '0', '0', '0', '0', '0', '0', '0', '0', '.', '0.005', 'D', '0.858', 'P', '0.295', 'B', '0.000', 'D', '1', 'D', '1.495', 'L', '1.09', 'T', '-3.24', 'D', '0.779', '8.053', '35', '0.999', '0.951', 'D', '-0.930', 'T', '0.115', 'T', '0.707', '0', '5.55', '0.871', '0.935', '0.999', '0.946', '19.506', '.', '.', '.', '.', '.', '.', '.', '.', '.', '.', '.', '.', '.', '.', '.', '.', '.', '.', '.', '.', '.', '.', '.', '.', '.', '.', '.', '.', '.', '.', '.', '.', '.', '.', '.', '.', '.', '.', '.', '.', '.', '.', '.', '.', '.', '.', '.', '.', '.', '.', '.', '.', '.', '.', '.', '.', '.', '.', '.', '.', '.', '.', '.', '.', '.', '0.251', '0.5', '2686.77', '257', 'chr15', '28369299', '.', 'C', 'T', '2686.77', '.', 'AC=1;AF=0.500;AN=2;BaseQRankSum=-1.001e+00;ClippingRankSum=1.35;DP=257;ExcessHet=3.0103;FS=0.000;MLEAC=1;MLEAF=0.500;MQ=60.00;MQRankSum=0.513;QD=10.45;ReadPosRankSum=1.19;SOR=0.707', 'GT:AD:DP:GQ:PL', '0/1:118,139:257:99:2715,0,2260'], ['chr16', '30236644', '30236644', 'G', 'T', 'exonic', 'NPIPB13', '.', 'nonsynonymous SNV', 'NPIPB13:NM_001321892:exon9:c.C1123A:p.H375N', 'exonic', 'ENSG00000198064', '.', 'nonsynonymous SNV', 'ENSG00000198064:ENST00000543463:exon1:c.C475A:p.H159N,ENSG00000198064:ENST00000520915:exon8:c.C1123A:p.H375N', '.', '.', '.', '.', '.', '.', '.', '.', '.', '0', '0', '0', '0', '0', '0', '0', '0', '0', '.', '0.364', 'T', '0.448', 'B', '0.322', 'B', '.', '.', '.', '.', '.', '.', '2.25', 'T', '-0.81', 'N', '0.049', '1.167', '11.57', '0.829', '0.001', 'N', '-1.026', 'T', '0.037', 'T', '0.693', '0', '.', '.', '-1.912', '.', '0.000', '.', '.', '.', '.', '.', '.', '.', '.', '.', '.', '.', '.', '.', '.', '.', '.', '.', '.', '.', '.', '.', '.', '.', '.', '.', '.', '.', '.', '.', '.', '.', '.', '.', '.', '.', '.', '.', '.', '.', '.', '.', '.', '.', '.', '.', '.', '.', '.', '.', '.', '.', '.', '.', '.', '.', '.', '.', '.', '.', '.', '.', '.', '.', '.', '.', '.', '0.060', '0.5', '847.77', '23', 'chr16', '30236644', '.', 'G', 'T', '847.77', '.', 'AC=1;AF=0.500;AN=2;BaseQRankSum=-2.019e+00;ClippingRankSum=0.927;DP=23;ExcessHet=3.0103;FS=2.993;MLEAC=1;MLEAF=0.500;MQ=34.89;MQRankSum=1.47;QD=33.36;ReadPosRankSum=1.80;SOR=0.172', 'GT:AD:DP:GQ:PGT:PID:PL', '0/1:2,21:23:70:0|1:30236643_T_G:876,0,70'], ['chr17', '39274449', '39274449', 'C', 'T', 'exonic', 'KRTAP4-11;KRTAP4-8', '.', 'nonsynonymous SNV', 'KRTAP4-11:NM_033059:exon1:c.G119A:p.C40Y', 'exonic', 'ENSG00000212721', '.', 'nonsynonymous SNV', 'ENSG00000212721:ENST00000391413:exon1:c.G119A:p.C40Y', '.', '.', '.', '.', '.', '.', '.', '.', '.', '0', '0', '0', '0', '0', '0', '0', '0', '0', '.', '0.063', 'T', '0.017', 'B', '0.041', 'B', '0.002', 'U', '0.756', 'N', '2.835', 'M', '4.09', 'T', '-8.2', 'D', '0.322', '2.011', '16.28', '0.636', '0.274', 'N', '-1.121', 'T', '0.017', 'T', '0.497', '0', '2.02', '0.827', '-0.101', '0.998', '0.631', '8.244', '.', '.', '.', '.', '.', '.', '.', '.', '.', '.', '.', '.', '.', '.', '.', '.', '.', '.', '.', '.', '.', '.', '.', '.', '.', '.', '.', '.', '.', '.', '.', '.', '.', '.', '.', '.', '.', '.', '.', '.', '.', '.', '.', '.', '.', '.', '.', '.', '.', '.', '.', '.', '.', '.', '.', '.', '.', '.', '.', '.', '.', '.', '.', '.', '.', '0.102', '0.5', '285.77', '431', 'chr17', '39274449', '.', 'C', 'T', '285.77', '.', 'AC=1;AF=0.500;AN=2;BaseQRankSum=3.34;ClippingRankSum=0.534;DP=431;ExcessHet=3.0103;FS=9.023;MLEAC=1;MLEAF=0.500;MQ=59.32;MQRankSum=-2.733e+00;QD=0.66;ReadPosRankSum=-4.542e+00;SOR=1.950', 'GT:AD:DP:GQ:PGT:PID:PL', '0/1:405,26:431:99:0|1:39274415_C_T:314,0,17028'], ['chr19', '55255357', '55255357', 'G', 'C', 'exonic', 'KIR2DL3', '.', 'nonsynonymous SNV', 'KIR2DL3:NM_015868:exon4:c.G485C:p.R162T', 'exonic', 'ENSG00000243772', '.', 'nonsynonymous SNV', 'ENSG00000243772:ENST00000342376:exon4:c.G485C:p.R162T,ENSG00000243772:ENST00000434419:exon4:c.G485C:p.R162T', '.', '.', '.', '.', '.', '.', '.', '.', '.', '0', '0', '0', '0', '0', '0', '0', '0', '0', 'rs201504521', '0.016', 'D', '0.646', 'P', '0.593', 'P', '.', '.', '1', 'N', '3.305', 'M', '2.61', 'T', '-4.32', 'D', '0.226', '0.165', '4.310', '0.933', '0.013', 'N', '-1.000', 'T', '0.075', 'T', '0.516', '0', '-2.43', '-0.180', '0.543', '0.061', '0.002', '4.605', '.', '.', '.', '.', '.', '.', '.', '.', '.', '.', '.', '.', '.', '.', '.', '.', '.', '.', '.', '.', '.', '.', '.', '.', '.', '.', '.', '.', '.', '.', '.', '.', '.', '.', '.', '.', '.', '.', '.', '.', '.', '.', '.', '.', '.', '.', '.', '.', '.', '.', '.', '.', '.', '.', '.', '.', '.', '.', '.', '.', '.', '.', '.', '.', '.', '0.041', '0.5', '264.77', '59', 'chr19', '55255357', 'rs201504521', 'G', 'C', '264.77', '.', 'AC=1;AF=0.500;AN=2;BaseQRankSum=-1.614e+00;ClippingRankSum=-1.050e-01;DB;DP=59;ExcessHet=3.0103;FS=0.000;MLEAC=1;MLEAF=0.500;MQ=32.19;MQRankSum=-4.761e+00;QD=4.49;ReadPosRankSum=2.94;SOR=0.693', 'GT:AD:DP:GQ:PL', '0/1:40,19:59:99:293,0,918']]\n",
      "========================================================\n",
      "['NBPF19', 'STK39', 'ZNF717', 'FOXO3', 'PRSS3', 'PABPC3', 'HERC2', 'NPIPB13', 'KRTAP4-11;KRTAP4-8', 'KIR2DL3']\n",
      "Done\n"
     ]
    }
   ],
   "source": [
    "rows, functions,exfunc, rs,gene, exacall, gnomall, pathogenics, muttype = load_annovar('f210m1.hg19_multianno.txt')\n",
    "count = 0\n",
    "print ('Starting ....')\n",
    "outfile = 'f210m1.raremaf.filtered.txt'\n",
    "f210m1_raremaf_genes = []\n",
    "f210m1_raremaf_variants = [] \n",
    "print (cutoff)\n",
    "for i in range(0,len(exacall) ): \n",
    "    if ( (gnomall[i] != '.') and   (exacall[i] !='.' ) ) :\n",
    "        if (  (float(gnomall[i]) < cutoff) and (float(exacall[i]) < cutoff)   and (functions[i] =='exonic') and ( muttype[i] != 'synonymous SNV' )): \n",
    "            count += 1 \n",
    "            writelist(rows[i], outfile)\n",
    "            print(rs[i], gene[i], exacall[i],gnomall[i], muttype[i]) \n",
    "            if gene[i] not in f210m1_raremaf_genes: \n",
    "                    f210m1_raremaf_genes.append(gene[i])\n",
    "            f210m1_raremaf_variants.append(rows[i])\n",
    "            #var = rs[i] + '.' + gene[i] +'.' +exacall[i] +'.'+ gnomall[i]        \n",
    "            #if var not in f210m1_raremaf_variants: \n",
    "                #f210m1_raremaf_variants.append(var)\n",
    "    elif ( (gnomall[i]=='.') and (exacall[i].isdigit())):\n",
    "           print(gnomall[i])\n",
    "           if ((float(exacall[i]) < cutoff)and (functions[i] =='exonic')  and ( muttype[i] != 'synonymous SNV' )): \n",
    "                count += 1 \n",
    "                writelist(rows[i], outfile)\n",
    "                print(rs[i], gene[i], exacall[i],gnomall[i], muttype[i])\n",
    "                if gene[i] not in f210m1_raremaf_genes: \n",
    "                        f210m1_raremaf_genes.append(gene[i])\n",
    "                f210m1_raremaf_variants.append(rows[i])\n",
    "                #var = rs[i] + '.' + gene[i] +'.' +exacall[i] +'.'+ gnomall[i]\n",
    "                #if var not in f210m1_raremaf_variants: \n",
    "                    #f210m1_raremaf_variants.append(var)\n",
    "           \n",
    "    elif (( exacall[i]=='.') and   (gnomall[i].isdigit())): \n",
    "            print(exacall[i])\n",
    "            if( (float (gnomall[i]) < cutoff)  and (functions[i] =='exonic') and  ( muttype[i] != 'synonymous SNV' )): \n",
    "                count += 1 \n",
    "                writelist(rows[i], outfile)\n",
    "                print(rs[i], gene[i], exacall[i],gnomall[i], muttype[i])\n",
    "                if gene[i] not in  f210m1_raremaf_genes: \n",
    "                         f210m1_raremaf_genes.append(gene[i])\n",
    "                f210m1_raremaf_variants.append(rows[i])       \n",
    "                #var = rs[i] + '.' + gene[i] +'.' +exacall[i] +'.'+ gnomall[i]\n",
    "                #if var not in f210m1_raremaf_variants: \n",
    "                    #f210m1_raremaf_variants.append(var)\n",
    "print ('We reached printing stage')\n",
    "print ('Number of variants with gnomall and/or exac <', cutoff, 'is:',count)\n",
    "print (f210m1_raremaf_variants)\n",
    "print('========================================================')\n",
    "print(f210m1_raremaf_genes)\n",
    "print('Done')"
   ]
  },
  {
   "cell_type": "markdown",
   "metadata": {
    "deletable": true,
    "editable": true
   },
   "source": [
    "# m3 is less than Cutoff"
   ]
  },
  {
   "cell_type": "code",
   "execution_count": 44,
   "metadata": {
    "collapsed": false,
    "deletable": true,
    "editable": true
   },
   "outputs": [
    {
     "name": "stdout",
     "output_type": "stream",
     "text": [
      "ExonicFunc.refGene\n",
      "ExAC_ALL\n",
      "Examined_samples\n",
      "gnomAD_exome_ALL\n",
      "Gene.refGene\n",
      "Func.refGene\n",
      "MetaLR_pred\n",
      "('.', 'ZNF717', '.', '0', 'nonsynonymous SNV')\n",
      "('.', 'ZNF717', '.', '0', 'nonframeshift insertion')\n",
      "('.', 'RYK', '0', '.', 'frameshift insertion')\n",
      "('.', 'PRSS3', '.', '0', 'frameshift deletion')\n",
      "('.', 'WAC', '.', '0', 'nonsynonymous SNV')\n",
      "('rs79638064', 'MUC5B', '0', '0', 'nonsynonymous SNV')\n",
      "('rs79246694', 'PABPC3', '.', '0', 'nonsynonymous SNV')\n",
      "('rs376589131', 'PABPC3', '.', '0', 'frameshift deletion')\n",
      "('rs80261016', 'PABPC3', '0', '0', 'nonsynonymous SNV')\n",
      "('rs371570689', 'PABPC3', '.', '0', 'frameshift deletion')\n",
      "('.', 'HERC2', '.', '0', 'nonsynonymous SNV')\n",
      "('.', 'CHD3', '0', '.', 'nonframeshift deletion')\n",
      "('rs201504521', 'KIR2DL3', '.', '0', 'nonsynonymous SNV')\n",
      "('Number of variants with gnomall and/or exac <', 1e-06, 'is:', 13)\n",
      "[['chr3', '75788200', '75788200', 'G', 'A', 'exonic', 'ZNF717', '.', 'nonsynonymous SNV', 'ZNF717:NM_001128223:exon5:c.C574T:p.H192Y,ZNF717:NM_001290208:exon5:c.C574T:p.H192Y,ZNF717:NM_001290209:exon5:c.C424T:p.H142Y,ZNF717:NM_001324027:exon5:c.C574T:p.H192Y', 'exonic', 'ENSG00000227124', '.', 'nonsynonymous SNV', 'ENSG00000227124:ENST00000478296:exon4:c.C424T:p.H142Y,ENSG00000227124:ENST00000400845:exon5:c.C553T:p.H185Y,ENSG00000227124:ENST00000422325:exon5:c.C574T:p.H192Y', '.', '.', '.', '.', '.', '.', '.', '.', '.', '0', '0', '0', '0', '0', '0', '0', '0', '0', 'rs796186755', '0.258', 'T', '0.008', 'B', '0.005', 'B', '.', '.', '1', 'N', '0.51', 'N', '1.01', 'T', '-0.59', 'N', '0.298', '-1.643', '0.002', '0.303', '0.012', 'N', '-0.986', 'T', '0.039', 'T', '0.693', '0', '-3.85', '0.562', '-1.129', '0.016', '0.000', '0.145', '.', '.', '.', '.', '.', '.', '.', '.', '.', '.', '.', '.', '.', '.', '.', '.', '.', '.', '.', '.', '.', '.', '.', '.', '.', '.', '.', '.', '.', '.', '.', '.', '.', '.', '.', '.', '.', '.', '.', '.', '.', '.', '.', '.', '.', '.', '.', '.', '.', '.', '.', '.', '.', '.', '.', '.', '.', '.', '.', '.', '.', '.', '.', '.', '.', '0.139', '0.5', '31.77', '25', 'chr3', '75788200', '.', 'G', 'A', '31.77', '.', 'AC=1;AF=0.500;AN=2;BaseQRankSum=-2.090e-01;ClippingRankSum=0.962;DP=25;ExcessHet=3.0103;FS=0.000;MLEAC=1;MLEAF=0.500;MQ=45.12;MQRankSum=-1.798e+00;QD=1.27;ReadPosRankSum=-1.213e+00;SOR=0.960', 'GT:AD:DP:GQ:PGT:PID:PL', '0/1:22,3:25:60:0|1:75788192_T_C:60,0,1099'], ['chr3', '75790876', '75790876', '-', 'GATGCCAACTCCTGTAATGATAGCAGGCTGTTATAAGTCTCCAGCATCACATCCCTGTACAGGGTCCTCTGAGCATTATCCAGGTCCTGCCACTCCTCCCAGGTGAAGTGCACAGCAACATCTTCAAAA', 'exonic', 'ZNF717', '.', 'nonframeshift insertion', 'ZNF717:NM_001128223:exon3:c.68_69insTTTTGAAGATGTTGCTGTGCACTTCACCTGGGAGGAGTGGCAGGACCTGGATAATGCTCAGAGGACCCTGTACAGGGATGTGATGCTGGAGACTTATAACAGCCTGCTATCATTACAGGAGTTGGCATC:p.S23delinsSFEDVAVHFTWEEWQDLDNAQRTLYRDVMLETYNSLLSLQELAS,ZNF717:NM_001290208:exon3:c.68_69insTTTTGAAGATGTTGCTGTGCACTTCACCTGGGAGGAGTGGCAGGACCTGGATAATGCTCAGAGGACCCTGTACAGGGATGTGATGCTGGAGACTTATAACAGCCTGCTATCATTACAGGAGTTGGCATC:p.S23delinsSFEDVAVHFTWEEWQDLDNAQRTLYRDVMLETYNSLLSLQELAS,ZNF717:NM_001290210:exon3:c.68_69insTTTTGAAGATGTTGCTGTGCACTTCACCTGGGAGGAGTGGCAGGACCTGGATAATGCTCAGAGGACCCTGTACAGGGATGTGATGCTGGAGACTTATAACAGCCTGCTATCATTACAGGAGTTGGCATC:p.S23delinsSFEDVAVHFTWEEWQDLDNAQRTLYRDVMLETYNSLLSLQELAS,ZNF717:NM_001324027:exon3:c.68_69insTTTTGAAGATGTTGCTGTGCACTTCACCTGGGAGGAGTGGCAGGACCTGGATAATGCTCAGAGGACCCTGTACAGGGATGTGATGCTGGAGACTTATAACAGCCTGCTATCATTACAGGAGTTGGCATC:p.S23delinsSFEDVAVHFTWEEWQDLDNAQRTLYRDVMLETYNSLLSLQELAS,ZNF717:NM_001324028:exon3:c.47_48insTTTTGAAGATGTTGCTGTGCACTTCACCTGGGAGGAGTGGCAGGACCTGGATAATGCTCAGAGGACCCTGTACAGGGATGTGATGCTGGAGACTTATAACAGCCTGCTATCATTACAGGAGTTGGCATC:p.S16delinsSFEDVAVHFTWEEWQDLDNAQRTLYRDVMLETYNSLLSLQELAS,ZNF717:NM_001324026:exon4:c.68_69insTTTTGAAGATGTTGCTGTGCACTTCACCTGGGAGGAGTGGCAGGACCTGGATAATGCTCAGAGGACCCTGTACAGGGATGTGATGCTGGAGACTTATAACAGCCTGCTATCATTACAGGAGTTGGCATC:p.S23delinsSFEDVAVHFTWEEWQDLDNAQRTLYRDVMLETYNSLLSLQELAS', 'exonic', 'ENSG00000227124', '.', 'nonframeshift insertion', 'ENSG00000227124:ENST00000400845:exon3:c.47_48insTTTTGAAGATGTTGCTGTGCACTTCACCTGGGAGGAGTGGCAGGACCTGGATAATGCTCAGAGGACCCTGTACAGGGATGTGATGCTGGAGACTTATAACAGCCTGCTATCATTACAGGAGTTGGCATC:p.S16delinsSFEDVAVHFTWEEWQDLDNAQRTLYRDVMLETYNSLLSLQELAS,ENSG00000227124:ENST00000422325:exon3:c.68_69insTTTTGAAGATGTTGCTGTGCACTTCACCTGGGAGGAGTGGCAGGACCTGGATAATGCTCAGAGGACCCTGTACAGGGATGTGATGCTGGAGACTTATAACAGCCTGCTATCATTACAGGAGTTGGCATC:p.S23delinsSFEDVAVHFTWEEWQDLDNAQRTLYRDVMLETYNSLLSLQELAS,ENSG00000227124:ENST00000468296:exon3:c.68_69insTTTTGAAGATGTTGCTGTGCACTTCACCTGGGAGGAGTGGCAGGACCTGGATAATGCTCAGAGGACCCTGTACAGGGATGTGATGCTGGAGACTTATAACAGCCTGCTATCATTACAGGAGTTGGCATC:p.S23delinsSFEDVAVHFTWEEWQDLDNAQRTLYRDVMLETYNSLLSLQELAS,ENSG00000227124:ENST00000477374:exon3:c.68_69insTTTTGAAGATGTTGCTGTGCACTTCACCTGGGAGGAGTGGCAGGACCTGGATAATGCTCAGAGGACCCTGTACAGGGATGTGATGCTGGAGACTTATAACAGCCTGCTATCATTACAGGAGTTGGCATC:p.S23delinsSFEDVAVHFTWEEWQDLDNAQRTLYRDVMLETYNSLLSLQELAS', '.', '.', '.', '.', '.', '.', '.', '.', '.', '0', '0', '0', '0', '0', '0', '0', '0', '0', '.', '.', '.', '.', '.', '.', '.', '.', '.', '.', '.', '.', '.', '.', '.', '.', '.', '.', '.', '.', '.', '.', '.', '.', '.', '.', '.', '.', '.', '.', '.', '.', '.', '.', '.', '.', '.', '.', '.', '.', '.', '.', '.', '.', '.', '.', '.', '.', '.', '.', '.', '.', '.', '.', '.', '.', '.', '.', '.', '.', '.', '.', '.', '.', '.', '.', '.', '.', '.', '.', '.', '.', '.', '.', '.', '.', '.', '.', '.', '.', '.', '.', '.', '.', '.', '.', '.', '.', '.', '.', '.', '.', '.', '.', '.', '.', '.', '.', '.', '.', '.', '1', '87.28', '1', 'chr3', '75790876', '.', 'G', 'GGATGCCAACTCCTGTAATGATAGCAGGCTGTTATAAGTCTCCAGCATCACATCCCTGTACAGGGTCCTCTGAGCATTATCCAGGTCCTGCCACTCCTCCCAGGTGAAGTGCACAGCAACATCTTCAAAA', '87.28', '.', 'AC=2;AF=1.00;AN=2;DP=11;ExcessHet=3.0103;FS=0.000;MLEAC=2;MLEAF=1.00;MQ=42.66;QD=30.26;SOR=1.609', 'GT:AD:DP:GQ:PL', '1/1:0,1:1:9:115,9,0'], ['chr3', '133969487', '133969487', '-', 'C', 'exonic', 'RYK', '.', 'unknown', 'UNKNOWN', 'exonic', 'ENSG00000163785', '.', 'frameshift insertion', 'ENSG00000163785:ENST00000296084:exon1:c.7dupG:p.A3fs', '.', '0', '.', '.', '.', '.', '.', '.', '.', '.', '.', '.', '.', '.', '.', '.', '.', '.', 'rs587744425', '.', '.', '.', '.', '.', '.', '.', '.', '.', '.', '.', '.', '.', '.', '.', '.', '.', '.', '.', '.', '.', '.', '.', '.', '.', '.', '.', '.', '.', '.', '.', '.', '.', '.', '.', '.', '.', '.', '.', '.', '.', '.', '.', '.', '.', '.', '.', '.', '.', '.', '.', '.', '.', '.', '.', '.', '.', '.', '.', '.', '.', '.', '.', '.', '.', '.', '.', '.', '.', '.', '.', '.', '.', '.', '.', '.', '.', '.', '.', '.', '.', '.', '.', '.', '.', '.', '.', '.', '.', '.', '.', '.', '.', '.', '.', '.', '.', '.', '.', '.', '1', '30.71', '2', 'chr3', '133969487', '.', 'G', 'GC', '30.71', '.', 'AC=2;AF=1.00;AN=2;DP=2;ExcessHet=3.0103;FS=0.000;MLEAC=2;MLEAF=1.00;MQ=60.00;QD=15.35;SOR=0.693', 'GT:AD:DP:GQ:PL', '1/1:0,2:2:6:67,6,0'], ['chr9', '33797931', '33797932', 'AC', '-', 'exonic', 'PRSS3', '.', 'frameshift deletion', 'PRSS3:NM_001197098:exon3:c.284_285del:p.D95fs,PRSS3:NM_002771:exon3:c.305_306del:p.D102fs,PRSS3:NM_007343:exon3:c.476_477del:p.D159fs,PRSS3:NM_001197097:exon4:c.347_348del:p.D116fs', 'exonic', 'ENSG00000010438', '.', 'frameshift deletion', 'ENSG00000010438:ENST00000361005:exon3:c.476_477del:p.D159fs,ENSG00000010438:ENST00000379405:exon3:c.305_306del:p.D102fs,ENSG00000010438:ENST00000429677:exon3:c.284_285del:p.D95fs,ENSG00000010438:ENST00000342836:exon4:c.347_348del:p.D116fs,ENSG00000010438:ENST00000457896:exon4:c.341_342del:p.D114fs', '.', '.', '.', '.', '.', '.', '.', '.', '.', '0', '0', '0', '0', '0', '0', '0', '0', '0', 'rs797012348', '.', '.', '.', '.', '.', '.', '.', '.', '.', '.', '.', '.', '.', '.', '.', '.', '.', '.', '.', '.', '.', '.', '.', '.', '.', '.', '.', '.', '.', '.', '.', '.', '.', '.', '.', '.', '.', '.', '.', '.', '.', '.', '.', '.', '.', '.', '.', '.', '.', '.', '.', '.', '.', '.', '.', '.', '.', '.', '.', '.', '.', '.', '.', '.', '.', '.', '.', '.', '.', '.', '.', '.', '.', '.', '.', '.', '.', '.', '.', '.', '.', '.', '.', '.', '.', '.', '.', '.', '.', '.', '.', '.', '.', '.', '.', '.', '.', '.', '.', '.', '0.5', '2945.73', '226', 'chr9', '33797930', '.', 'GAC', 'G', '2945.73', '.', 'AC=1;AF=0.500;AN=2;BaseQRankSum=0.743;ClippingRankSum=0.497;DP=226;ExcessHet=3.0103;FS=1.710;MLEAC=1;MLEAF=0.500;MQ=57.51;MQRankSum=-9.096e+00;QD=13.03;ReadPosRankSum=0.810;SOR=0.817', 'GT:AD:DP:GQ:PGT:PID:PL', '0/1:151,75:226:99:0|1:33797917_T_C:2983,0,6178'], ['chr10', '28879728', '28879728', 'C', 'G', 'exonic', 'WAC', '.', 'nonsynonymous SNV', 'WAC:NM_016628:exon6:c.C577G:p.Q193E,WAC:NM_100264:exon6:c.C442G:p.Q148E,WAC:NM_100486:exon6:c.C577G:p.Q193E', 'exonic', 'ENSG00000095787', '.', 'nonsynonymous SNV', 'ENSG00000095787:ENST00000439676:exon4:c.C442G:p.Q148E,ENSG00000095787:ENST00000414108:exon5:c.C442G:p.Q148E,ENSG00000095787:ENST00000347934:exon6:c.C577G:p.Q193E,ENSG00000095787:ENST00000354911:exon6:c.C577G:p.Q193E,ENSG00000095787:ENST00000375646:exon6:c.C442G:p.Q148E,ENSG00000095787:ENST00000375664:exon6:c.C442G:p.Q148E,ENSG00000095787:ENST00000420266:exon6:c.C442G:p.Q148E,ENSG00000095787:ENST00000428935:exon6:c.C442G:p.Q148E,ENSG00000095787:ENST00000442148:exon6:c.C442G:p.Q148E', '.', '.', '.', '.', '.', '.', '.', '.', '.', '0', '0', '0', '0', '0', '0', '0', '0', '0', '.', '0.104', 'T', '0.228', 'B', '0.121', 'B', '0.000', 'D', '1', 'D', '1.59', 'L', '1.93', 'T', '-0.92', 'N', '0.599', '2.521', '19.60', '0.985', '0.993', 'D', '-0.977', 'T', '0.129', 'T', '0.707', '0', '5.58', '0.824', '0.935', '1.000', '1.000', '19.555', '.', '.', '.', '.', '.', '.', '.', '.', '.', '.', '.', '.', '.', '.', '.', '.', '.', '.', '.', '.', '.', '.', '.', '.', '.', '.', '.', '.', '.', '.', '.', '.', '.', '.', '.', '.', '.', '.', '.', '.', '.', '.', '.', '.', '.', '.', '.', '.', '.', '.', '.', '.', '.', '.', '.', '.', '.', '.', '.', '.', '.', '.', '.', '.', '.', '0.125', '0.5', '547.77', '39', 'chr10', '28879728', '.', 'C', 'G', '547.77', '.', 'AC=1;AF=0.500;AN=2;BaseQRankSum=1.05;ClippingRankSum=0.172;DP=39;ExcessHet=3.0103;FS=0.000;MLEAC=1;MLEAF=0.500;MQ=60.00;MQRankSum=0.733;QD=14.05;ReadPosRankSum=-2.107e+00;SOR=0.551', 'GT:AD:DP:GQ:PL', '0/1:11,28:39:99:576,0,155'], ['chr11', '1260217', '1260217', 'C', 'A', 'exonic', 'MUC5B', '.', 'nonsynonymous SNV', 'MUC5B:NM_002458:exon26:c.C3414A:p.D1138E', 'exonic', 'ENSG00000117983', '.', 'nonsynonymous SNV', 'ENSG00000117983:ENST00000447027:exon26:c.C3423A:p.D1141E,ENSG00000117983:ENST00000529681:exon26:c.C3414A:p.D1138E', '.', '0', '0', '0', '0', '0', '0', '0', '0', '0', '0', '0', '0', '0', '0', '0', '0', '0', 'rs79638064', '0.531', 'T', '0.217', 'B', '0.229', 'B', '.', '.', '1', 'N', '-0.33', 'N', '-0.96', 'T', '-1.53', 'N', '0.457', '0.323', '5.916', '0.750', '0.020', 'N', '-0.914', 'T', '0.143', 'T', '0.554', '0', '-3.43', '0.008', '-0.410', '0.990', '0.062', '0.091', '.', '.', '.', '.', '.', '.', '.', '.', '.', '.', '.', '.', '.', '.', '.', '.', '.', '.', '.', '.', '.', '.', '.', '.', '.', '.', '.', '.', '.', '.', '.', '.', '.', '.', '.', '.', '.', '.', '.', '.', '.', '.', '.', '.', '.', '.', '.', '.', '.', '.', '.', '.', '.', '.', '.', '.', '.', '.', '.', '.', '.', '.', '.', '.', '.', '0.277', '0.5', '90.77', '110', 'chr11', '1260217', 'rs79638064', 'C', 'A', '90.77', '.', 'AC=1;AF=0.500;AN=2;BaseQRankSum=-1.929e+00;ClippingRankSum=-7.120e-01;DB;DP=110;ExcessHet=3.0103;FS=0.000;MLEAC=1;MLEAF=0.500;MQ=60.00;MQRankSum=0.036;QD=0.83;ReadPosRankSum=0.473;SOR=0.693', 'GT:AD:DP:GQ:PGT:PID:PL', '0/1:100,10:110:99:0|1:1260217_C_A:119,0,4572'], ['chr13', '25671271', '25671271', 'A', 'G', 'exonic', 'PABPC3', '.', 'nonsynonymous SNV', 'PABPC3:NM_030979:exon1:c.A935G:p.K312R', 'exonic', 'ENSG00000151846', '.', 'nonsynonymous SNV', 'ENSG00000151846:ENST00000281589:exon1:c.A935G:p.K312R', '.', '.', '.', '.', '.', '.', '.', '.', '.', '0', '0', '0', '0', '0', '0', '0', '0', '0', 'rs79246694', '0.092', 'T', '0.383', 'B', '0.344', 'B', '0.000', 'U', '1.000', 'D', '0.17', 'N', '2.34', 'T', '-2.35', 'N', '0.327', '1.295', '12.24', '0.988', '0.698', 'D', '-1.043', 'T', '0.026', 'T', '0.706', '0', '0.875', '0.649', '0.388', '0.926', '0.008', '5.899', '.', '.', '.', '.', '.', '.', '.', '.', '.', '.', '.', '.', '.', '.', '.', '.', '.', '.', '.', '.', '.', '.', '.', '.', '.', '.', '.', '.', '.', '.', '.', '.', '.', '.', '.', '.', '.', '.', '.', '.', '.', '.', '.', '.', '.', '.', '.', '.', '.', '.', '.', '.', '.', '.', '.', '.', '.', '.', '.', '.', '.', '.', '.', '.', '.', '0.159', '0.5', '249.77', '87', 'chr13', '25671271', 'rs79246694', 'A', 'G', '249.77', '.', 'AC=1;AF=0.500;AN=2;BaseQRankSum=0.585;ClippingRankSum=-1.508e+00;DB;DP=87;ExcessHet=3.0103;FS=0.000;MLEAC=1;MLEAF=0.500;MQ=59.57;MQRankSum=-5.110e-01;QD=2.87;ReadPosRankSum=-2.030e-01;SOR=0.618', 'GT:AD:DP:GQ:PGT:PID:PL', '0/1:75,12:87:99:0|1:25671271_A_G:278,0,3113'], ['chr13', '25671273', '25671273', 'G', '-', 'exonic', 'PABPC3', '.', 'frameshift deletion', 'PABPC3:NM_030979:exon1:c.937delG:p.A313fs', 'exonic', 'ENSG00000151846', '.', 'frameshift deletion', 'ENSG00000151846:ENST00000281589:exon1:c.937delG:p.A313fs', '.', '.', '.', '.', '.', '.', '.', '.', '.', '0', '0', '0', '0', '0', '0', '0', '0', '0', 'rs376589131', '.', '.', '.', '.', '.', '.', '.', '.', '.', '.', '.', '.', '.', '.', '.', '.', '.', '.', '.', '.', '.', '.', '.', '.', '.', '.', '.', '.', '.', '.', '.', '.', '.', '.', '.', '.', '.', '.', '.', '.', '.', '.', '.', '.', '.', '.', '.', '.', '.', '.', '.', '.', '.', '.', '.', '.', '.', '.', '.', '.', '.', '.', '.', '.', '.', '.', '.', '.', '.', '.', '.', '.', '.', '.', '.', '.', '.', '.', '.', '.', '.', '.', '.', '.', '.', '.', '.', '.', '.', '.', '.', '.', '.', '.', '.', '.', '.', '.', '.', '.', '0.5', '237.73', '87', 'chr13', '25671272', 'rs376589131', 'AG', 'A', '237.73', '.', 'AC=1;AF=0.500;AN=2;BaseQRankSum=0.178;ClippingRankSum=-4.300e-02;DB;DP=87;ExcessHet=3.0103;FS=0.000;MLEAC=1;MLEAF=0.500;MQ=59.57;MQRankSum=-1.422e+00;QD=2.73;ReadPosRankSum=-2.030e-01;SOR=0.618', 'GT:AD:DP:GQ:PGT:PID:PL', '0/1:75,12:87:99:0|1:25671271_A_G:275,0,3135'], ['chr13', '25671292', '25671292', 'C', 'T', 'exonic', 'PABPC3', '.', 'nonsynonymous SNV', 'PABPC3:NM_030979:exon1:c.C956T:p.T319I', 'exonic', 'ENSG00000151846', '.', 'nonsynonymous SNV', 'ENSG00000151846:ENST00000281589:exon1:c.C956T:p.T319I', '.', '0', '0', '0', '0', '0', '0', '0', '0', '0', '0', '0', '0', '0', '0', '0', '0', '0', 'rs80261016', '0.002', 'D', '0.726', 'P', '0.45', 'P', '0.000', 'U', '1.000', 'D', '0.935', 'L', '2.36', 'T', '-4.66', 'D', '0.409', '5.492', '26.2', '0.997', '0.632', 'D', '-1.090', 'T', '0.034', 'T', '0.706', '0', '0.875', '0.542', '0.314', '0.998', '0.950', '7.549', '.', '.', '.', '.', '.', '.', '.', '.', '.', '.', '.', '.', '.', '.', '.', '.', '.', '.', '.', '.', '.', '.', '.', '.', '.', '.', '.', '.', '.', '.', '.', '.', '.', '.', '.', '.', '.', '.', '.', '.', '.', '.', '.', '.', '.', '.', '.', '.', '.', '.', '.', '.', '.', '.', '.', '.', '.', '.', '.', '.', '.', '.', '.', '.', '.', '0.158', '0.5', '132.77', '86', 'chr13', '25671292', 'rs80261016', 'C', 'T', '132.77', '.', 'AC=1;AF=0.500;AN=2;BaseQRankSum=0.966;ClippingRankSum=-1.664e+00;DB;DP=86;ExcessHet=3.0103;FS=0.000;MLEAC=1;MLEAF=0.500;MQ=59.57;MQRankSum=-6.000e-03;QD=1.54;ReadPosRankSum=0.118;SOR=0.642', 'GT:AD:DP:GQ:PL', '0/1:74,12:86:99:161,0,1622'], ['chr13', '25671333', '25671333', 'A', '-', 'exonic', 'PABPC3', '.', 'frameshift deletion', 'PABPC3:NM_030979:exon1:c.997delA:p.K333fs', 'exonic', 'ENSG00000151846', '.', 'frameshift deletion', 'ENSG00000151846:ENST00000281589:exon1:c.997delA:p.K333fs', '.', '.', '.', '.', '.', '.', '.', '.', '.', '0', '0', '0', '0', '0', '0', '0', '0', '0', 'rs371570689', '.', '.', '.', '.', '.', '.', '.', '.', '.', '.', '.', '.', '.', '.', '.', '.', '.', '.', '.', '.', '.', '.', '.', '.', '.', '.', '.', '.', '.', '.', '.', '.', '.', '.', '.', '.', '.', '.', '.', '.', '.', '.', '.', '.', '.', '.', '.', '.', '.', '.', '.', '.', '.', '.', '.', '.', '.', '.', '.', '.', '.', '.', '.', '.', '.', '.', '.', '.', '.', '.', '.', '.', '.', '.', '.', '.', '.', '.', '.', '.', '.', '.', '.', '.', '.', '.', '.', '.', '.', '.', '.', '.', '.', '.', '.', '.', '.', '.', '.', '.', '0.5', '243.73', '66', 'chr13', '25671332', 'rs371570689', 'CA', 'C', '243.73', '.', 'AC=1;AF=0.500;AN=2;BaseQRankSum=-6.400e-01;ClippingRankSum=0.707;DB;DP=68;ExcessHet=3.0103;FS=0.000;MLEAC=1;MLEAF=0.500;MQ=59.29;MQRankSum=-6.730e-01;QD=3.69;ReadPosRankSum=0.028;SOR=0.624', 'GT:AD:DP:GQ:PL', '0/1:54,12:66:99:281,0,1701'], ['chr15', '28369299', '28369299', 'C', 'T', 'exonic', 'HERC2', '.', 'nonsynonymous SNV', 'HERC2:NM_004667:exon85:c.G13072A:p.E4358K', 'exonic', 'ENSG00000128731', '.', 'nonsynonymous SNV', 'ENSG00000128731:ENST00000261609:exon85:c.G13072A:p.E4358K', '.', '.', '.', '.', '.', '.', '.', '.', '.', '0', '0', '0', '0', '0', '0', '0', '0', '0', '.', '0.005', 'D', '0.858', 'P', '0.295', 'B', '0.000', 'D', '1', 'D', '1.495', 'L', '1.09', 'T', '-3.24', 'D', '0.779', '8.053', '35', '0.999', '0.951', 'D', '-0.930', 'T', '0.115', 'T', '0.707', '0', '5.55', '0.871', '0.935', '0.999', '0.946', '19.506', '.', '.', '.', '.', '.', '.', '.', '.', '.', '.', '.', '.', '.', '.', '.', '.', '.', '.', '.', '.', '.', '.', '.', '.', '.', '.', '.', '.', '.', '.', '.', '.', '.', '.', '.', '.', '.', '.', '.', '.', '.', '.', '.', '.', '.', '.', '.', '.', '.', '.', '.', '.', '.', '.', '.', '.', '.', '.', '.', '.', '.', '.', '.', '.', '.', '0.251', '0.5', '1058.77', '108', 'chr15', '28369299', '.', 'C', 'T', '1058.77', '.', 'AC=1;AF=0.500;AN=2;BaseQRankSum=0.716;ClippingRankSum=-8.450e-01;DP=108;ExcessHet=3.0103;FS=0.709;MLEAC=1;MLEAF=0.500;MQ=60.00;MQRankSum=-7.410e-01;QD=9.80;ReadPosRankSum=0.022;SOR=0.776', 'GT:AD:DP:GQ:PL', '0/1:56,52:108:99:1087,0,1088'], ['chr17', '7788344', '7788352', 'CCGCCGCCG', '-', 'exonic', 'CHD3', '.', 'nonframeshift deletion', 'CHD3:NM_001005271:exon1:c.220_228del:p.74_76del', 'exonic', 'ENSG00000170004', '.', 'nonframeshift deletion', 'ENSG00000170004:ENST00000380358:exon1:c.220_228del:p.74_76del', '.', '0', '0', '.', '.', '0', '0', '.', '0', '.', '.', '.', '.', '.', '.', '.', '.', '.', 'rs759738955', '.', '.', '.', '.', '.', '.', '.', '.', '.', '.', '.', '.', '.', '.', '.', '.', '.', '.', '.', '.', '.', '.', '.', '.', '.', '.', '.', '.', '.', '.', '.', '.', '.', '.', '.', '.', '.', '.', '.', '.', '.', '.', '.', '.', '.', '.', '.', '.', '.', '.', '.', '.', '.', '.', '.', '.', '.', '.', '.', '.', '.', '.', '.', '.', '.', '.', '.', '.', '.', '.', '.', '.', '.', '.', '.', '.', '.', '.', '.', '.', '.', '.', '.', '.', '.', '.', '.', '.', '.', '.', '.', '.', '.', '.', '.', '.', '.', '.', '.', '.', '0.5', '34.73', '6', 'chr17', '7788343', '.', 'CCCGCCGCCG', 'C', '34.73', '.', 'AC=1;AF=0.500;AN=2;BaseQRankSum=0.00;ClippingRankSum=-1.380e+00;DP=8;ExcessHet=3.0103;FS=0.000;MLEAC=1;MLEAF=0.500;MQ=60.00;MQRankSum=0.00;QD=5.79;ReadPosRankSum=-1.380e+00;SOR=0.693', 'GT:AD:DP:GQ:PL', '0/1:4,2:6:72:72,0,411'], ['chr19', '55255357', '55255357', 'G', 'C', 'exonic', 'KIR2DL3', '.', 'nonsynonymous SNV', 'KIR2DL3:NM_015868:exon4:c.G485C:p.R162T', 'exonic', 'ENSG00000243772', '.', 'nonsynonymous SNV', 'ENSG00000243772:ENST00000342376:exon4:c.G485C:p.R162T,ENSG00000243772:ENST00000434419:exon4:c.G485C:p.R162T', '.', '.', '.', '.', '.', '.', '.', '.', '.', '0', '0', '0', '0', '0', '0', '0', '0', '0', 'rs201504521', '0.016', 'D', '0.646', 'P', '0.593', 'P', '.', '.', '1', 'N', '3.305', 'M', '2.61', 'T', '-4.32', 'D', '0.226', '0.165', '4.310', '0.933', '0.013', 'N', '-1.000', 'T', '0.075', 'T', '0.516', '0', '-2.43', '-0.180', '0.543', '0.061', '0.002', '4.605', '.', '.', '.', '.', '.', '.', '.', '.', '.', '.', '.', '.', '.', '.', '.', '.', '.', '.', '.', '.', '.', '.', '.', '.', '.', '.', '.', '.', '.', '.', '.', '.', '.', '.', '.', '.', '.', '.', '.', '.', '.', '.', '.', '.', '.', '.', '.', '.', '.', '.', '.', '.', '.', '.', '.', '.', '.', '.', '.', '.', '.', '.', '.', '.', '.', '0.041', '0.5', '215.77', '21', 'chr19', '55255357', 'rs201504521', 'G', 'C', '215.77', '.', 'AC=1;AF=0.500;AN=2;BaseQRankSum=-1.412e+00;ClippingRankSum=-7.600e-01;DB;DP=22;ExcessHet=3.0103;FS=0.000;MLEAC=1;MLEAF=0.500;MQ=34.17;MQRankSum=-3.223e+00;QD=10.27;ReadPosRankSum=2.28;SOR=0.836', 'GT:AD:DP:GQ:PL', '0/1:8,13:21:99:244,0,156']]\n",
      "========================================================\n",
      "['ZNF717', 'RYK', 'PRSS3', 'WAC', 'MUC5B', 'PABPC3', 'HERC2', 'CHD3', 'KIR2DL3']\n",
      "Done\n"
     ]
    }
   ],
   "source": [
    "rows, functions,exfunc, rs,gene, exacall, gnomall, pathogenics, muttype = load_annovar('f210m3.hg19_multianno.txt')\n",
    "count = 0\n",
    "outfile = 'f210m3.raremaf.filtered.txt'\n",
    "f210m3_raremaf_genes = []\n",
    "f210m3_raremaf_variants = []\n",
    "for i in range(0,len(exacall) ): \n",
    "    if  ( (gnomall[i] !='.') and   (exacall[i]!='.') ):\n",
    "        if  (  (float(gnomall[i]) < cutoff) and (float(exacall[i]) < cutoff) and (functions[i] =='exonic') and  ( muttype[i] != 'synonymous SNV' )): \n",
    "            count += 1 \n",
    "            writelist(rows[i], outfile)\n",
    "            print(rs[i], gene[i], exacall[i],gnomall[i], muttype[i])\n",
    "            if gene[i] not in f210m3_raremaf_genes: \n",
    "                    f210m3_raremaf_genes.append(gene[i])\n",
    "            \n",
    "            #var = rs[i] + '.' + gene[i] +'.' +exacall[i] +'.'+ gnomall[i]\n",
    "            #if var not in f210m3_raremaf_variants: \n",
    "                #f210m3_raremaf_variants.append(var)\n",
    "            f210m3_raremaf_variants.append(rows[i])\n",
    "    elif  ( gnomall[i]=='.') and  ( (exacall[i].isdigit()) and (float(exacall[i]) < cutoff) and (functions[i] =='exonic') and  ( muttype[i] != 'synonymous SNV' )): \n",
    "            count += 1 \n",
    "            writelist(rows[i], outfile)\n",
    "            print(rs[i], gene[i], exacall[i],gnomall[i], muttype[i])\n",
    "            if gene[i] not in f210m3_raremaf_genes: \n",
    "                    f210m3_raremaf_genes.append(gene[i])\n",
    "            f210m3_raremaf_variants.append(rows[i])\n",
    "            #var = rs[i] + '.' + gene[i] +'.' +exacall[i] +'.'+ gnomall[i]\n",
    "            #if var not in f210m3_raremaf_variants: \n",
    "                #f210m3_raremaf_variants.append(var)\n",
    "    elif ( exacall[i]=='.')and ( (gnomall[i].isdigit() ) and (float (gnomall[i]) < cutoff) and (functions[i] =='exonic') and ( muttype[i] != 'synonymous SNV' )): \n",
    "            count += 1 \n",
    "            writelist(rows[i], outfile)\n",
    "            print(rs[i], gene[i], exacall[i],gnomall[i], muttype[i])\n",
    "            if gene[i] not in  f210m3_raremaf_genes: \n",
    "                     f210m3_raremaf_genes.append(gene[i])\n",
    "            f210m3_raremaf_variants.append(rows[i])\n",
    "            #var = rs[i] + '.' + gene[i] +'.' +exacall[i] +'.'+ gnomall[i]\n",
    "            #if var not in f210m3_raremaf_variants: \n",
    "                #f210m3_raremaf_variants.append(var)\n",
    "print ('Number of variants with gnomall and/or exac <', cutoff, 'is:',count)\n",
    "print (f210m3_raremaf_variants)\n",
    "print('========================================================')\n",
    "print(f210m3_raremaf_genes)\n",
    "print('Done')"
   ]
  },
  {
   "cell_type": "markdown",
   "metadata": {
    "deletable": true,
    "editable": true
   },
   "source": [
    "## M3 is less than Cutoff"
   ]
  },
  {
   "cell_type": "code",
   "execution_count": 47,
   "metadata": {
    "collapsed": false,
    "deletable": true,
    "editable": true
   },
   "outputs": [
    {
     "name": "stdout",
     "output_type": "stream",
     "text": [
      "['ZNF717', 'PRSS3', 'PABPC3', 'HERC2', 'KIR2DL3']\n"
     ]
    }
   ],
   "source": [
    "f210m1_m3rmafs = intersections(f210m1_raremaf_genes,f210m3_raremaf_genes)\n",
    "print (f210m1_m3rmafs)"
   ]
  },
  {
   "cell_type": "code",
   "execution_count": null,
   "metadata": {
    "collapsed": true,
    "deletable": true,
    "editable": true
   },
   "outputs": [],
   "source": []
  },
  {
   "cell_type": "code",
   "execution_count": null,
   "metadata": {
    "collapsed": true
   },
   "outputs": [],
   "source": []
  }
 ],
 "metadata": {
  "anaconda-cloud": {},
  "kernelspec": {
   "display_name": "Python 2",
   "language": "python",
   "name": "python2"
  },
  "language_info": {
   "codemirror_mode": {
    "name": "ipython",
    "version": 2
   },
   "file_extension": ".py",
   "mimetype": "text/x-python",
   "name": "python",
   "nbconvert_exporter": "python",
   "pygments_lexer": "ipython2",
   "version": "2.7.12"
  }
 },
 "nbformat": 4,
 "nbformat_minor": 1
}
