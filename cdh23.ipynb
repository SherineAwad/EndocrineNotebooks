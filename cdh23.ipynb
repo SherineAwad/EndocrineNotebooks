{
 "cells": [
  {
   "cell_type": "code",
   "execution_count": 1,
   "metadata": {
    "collapsed": true,
    "deletable": true,
    "editable": true
   },
   "outputs": [],
   "source": [
    "import csv\n",
    "import re"
   ]
  },
  {
   "cell_type": "code",
   "execution_count": null,
   "metadata": {
    "collapsed": true,
    "deletable": true,
    "editable": true
   },
   "outputs": [],
   "source": [
    "#F239"
   ]
  },
  {
   "cell_type": "code",
   "execution_count": 2,
   "metadata": {
    "collapsed": false,
    "deletable": true,
    "editable": true
   },
   "outputs": [],
   "source": [
    "#Filter vcf.txt output#Filter vcf.txt output \n",
    "-\n",
    "def load_vcfold(filename,out):\n",
    "    fp = open(filename, 'r')\n",
    "    r = csv.reader(fp, delimiter='\\t')\n",
    "    outfile = open('f239.txt', 'w+')\n",
    "    count =0\n",
    "    for n, row in enumerate(r):\n",
    "        if n ==0: \n",
    "            row0 =row\n",
    "            for i in range(0,58): \n",
    "                        outfile.write(row[i])\n",
    "                        outfile.write('\\t')     \n",
    "            outfile.write(row0[71])\n",
    "            outfile.write('\\t') \n",
    "            outfile.write(row0[72])\n",
    "            outfile.write('\\n')\n",
    "            print (row71)\n",
    "            print (row72)\n",
    "  \n",
    "            #for i in row0: \n",
    "             #       outfile.write(i)\n",
    "             #       outfile.write('\\t')\n",
    "            #outfile.write('\\n')   \n",
    "        if row[6] == 'CDH23':\n",
    "               af = row[56].split(';')\n",
    "               AF = af[3].split('=')\n",
    "               if AF[0] =='AF':\n",
    "                    if float(AF[1]) <= 0.01 : \n",
    "                            #print (row, file =outfile)\n",
    "                            #print (row[0],\":\", row[1],row[2], row[3], row[4], AF, row[21])\n",
    "                            #for i in row: \n",
    "                                  #outfile.write(i)\n",
    "                                  #outfile.write('\\t')\n",
    "                            #outfile.write('\\n')    \n",
    "                            for i in range (0, 58 ): \n",
    "                                            outfile.write(row[i])\n",
    "                                            outfile.write('\\t')\n",
    "                                \n",
    "                            row71 = row[71].split(':')\n",
    "                                                        \n",
    "                            for i in range(0, len(row71) ): \n",
    "                                outfile.write(row71[i])\n",
    "                                outfile.write('\\t')\n",
    "                            row72 = row[72].split(':')\n",
    "                            for i in range(0, len(row72) ): \n",
    "                                outfile.write(row72[i])\n",
    "                                outfile.write('\\t')\n",
    "                            outfile.write('\\n')\n",
    "                                        \n",
    "                            #print row[0],\":\", row[1],row[2], row[3], row[4], AF, row[21] \n",
    "                            count +=1 \n",
    "                \n",
    "    print (count)"
   ]
  },
  {
   "cell_type": "code",
   "execution_count": null,
   "metadata": {
    "collapsed": false,
    "deletable": true,
    "editable": true
   },
   "outputs": [],
   "source": [
    "load_vcf('chr10_varAnn.vcf')"
   ]
  },
  {
   "cell_type": "code",
   "execution_count": null,
   "metadata": {
    "collapsed": true,
    "deletable": true,
    "editable": true
   },
   "outputs": [],
   "source": [
    "#F243 "
   ]
  },
  {
   "cell_type": "code",
   "execution_count": 3,
   "metadata": {
    "collapsed": false,
    "deletable": true,
    "editable": true
   },
   "outputs": [],
   "source": [
    "#Filter vcf.txt output \n",
    "def load_vcf(filename, outname, start, end):\n",
    "    fp = open(filename, 'r')\n",
    "    r = csv.reader(fp, delimiter='\\t')\n",
    "    outfile = open(outname, 'w+')\n",
    "    count =0\n",
    "    for n, row in enumerate(r):\n",
    "        if n ==0: \n",
    "            row0 =row\n",
    "            for i in range(0,58): \n",
    "                        outfile.write(row[i])\n",
    "                        outfile.write('\\t')  \n",
    "            for i in range (start, end+1):\n",
    "                    outfile.write(row0[i])\n",
    "                    outfile.write('\\t') \n",
    "            outfile.write('\\n')  \n",
    "        if row[6] == 'CDH23':\n",
    "               af = row[56].split(';')\n",
    "               AF = af[3].split('=')\n",
    "               if AF[0] =='AF':\n",
    "                    if float(AF[1]) <= 0.01 :   \n",
    "                            for i in range (0, 58 ): \n",
    "                                            outfile.write(row[i])\n",
    "                                            outfile.write('\\t')\n",
    "                             for i in range (start, end+1): \n",
    "                                if row[i] == './.':\n",
    "                                    outfile.write('./.')\n",
    "                                    outfile.write('\\t')\n",
    "                                    for j in range (1, 5):\n",
    "                                        outfile.write('-')\n",
    "                                        outfile.write('\\t')\n",
    "                                else:\n",
    "                                    newrow = row[i].split(':')\n",
    "                                    for j in range(0, len(newrow)): \n",
    "                                        outfile.write(newrow[j])\n",
    "                                        outfile.write('\\t')\n",
    "                            outfile.write('\\n')"
   ]
  },
  {
   "cell_type": "code",
   "execution_count": 5,
   "metadata": {
    "collapsed": false,
    "deletable": true,
    "editable": true
   },
   "outputs": [
    {
     "name": "stdout",
     "output_type": "stream",
     "text": [
      "Done\n"
     ]
    }
   ],
   "source": [
    "load_vcf('chr10_varAnn.vcf', 'f243.txt', 73, 79)\n",
    "print('Done')"
   ]
  },
  {
   "cell_type": "code",
   "execution_count": 6,
   "metadata": {
    "collapsed": false,
    "deletable": true,
    "editable": true
   },
   "outputs": [
    {
     "name": "stdout",
     "output_type": "stream",
     "text": [
      "Done\n"
     ]
    }
   ],
   "source": [
    "load_vcf('chr10_varAnn.vcf', 'f239.txt', 71, 72)\n",
    "print ('Done')"
   ]
  },
  {
   "cell_type": "code",
   "execution_count": 7,
   "metadata": {
    "collapsed": false,
    "deletable": true,
    "editable": true
   },
   "outputs": [
    {
     "name": "stdout",
     "output_type": "stream",
     "text": [
      "Done\n"
     ]
    }
   ],
   "source": [
    "load_vcf('chr10_varAnn.vcf', 'f253.txt', 80, 81)\n",
    "print ('Done')"
   ]
  },
  {
   "cell_type": "code",
   "execution_count": 8,
   "metadata": {
    "collapsed": false,
    "deletable": true,
    "editable": true
   },
   "outputs": [
    {
     "name": "stdout",
     "output_type": "stream",
     "text": [
      "Done\n"
     ]
    }
   ],
   "source": [
    "load_vcf('chr10_varAnn.vcf', 'f277.txt', 82, 84)\n",
    "print ('Done')"
   ]
  },
  {
   "cell_type": "code",
   "execution_count": 9,
   "metadata": {
    "collapsed": false,
    "deletable": true,
    "editable": true
   },
   "outputs": [
    {
     "name": "stdout",
     "output_type": "stream",
     "text": [
      "Done\n"
     ]
    }
   ],
   "source": [
    "load_vcf('chr10_varAnn.vcf', 'f199.txt', 97, 98)\n",
    "print ('Done')"
   ]
  },
  {
   "cell_type": "code",
   "execution_count": 10,
   "metadata": {
    "collapsed": false,
    "deletable": true,
    "editable": true
   },
   "outputs": [
    {
     "name": "stdout",
     "output_type": "stream",
     "text": [
      "Done\n"
     ]
    }
   ],
   "source": [
    "load_vcf('chr10_varAnn.vcf', 'f86.txt', 99, 103)\n",
    "print ('Done')"
   ]
  },
  {
   "cell_type": "code",
   "execution_count": 4,
   "metadata": {
    "collapsed": false,
    "deletable": true,
    "editable": true
   },
   "outputs": [
    {
     "name": "stdout",
     "output_type": "stream",
     "text": [
      "Done\n"
     ]
    }
   ],
   "source": [
    "load_vcf('chr10_varAnn.vcf', 'f151.txt', 104, 106)\n",
    "print ('Done')"
   ]
  },
  {
   "cell_type": "code",
   "execution_count": 5,
   "metadata": {
    "collapsed": false,
    "deletable": true,
    "editable": true
   },
   "outputs": [
    {
     "name": "stdout",
     "output_type": "stream",
     "text": [
      "Done\n"
     ]
    }
   ],
   "source": [
    "load_vcf('chr10_varAnn.vcf', 'f171.txt', 108, 111)\n",
    "print ('Done')"
   ]
  },
  {
   "cell_type": "code",
   "execution_count": 6,
   "metadata": {
    "collapsed": false,
    "deletable": true,
    "editable": true
   },
   "outputs": [
    {
     "name": "stdout",
     "output_type": "stream",
     "text": [
      "Done\n"
     ]
    }
   ],
   "source": [
    "load_vcf('chr10_varAnn.vcf', 'f20.txt', 125, 127)\n",
    "print ('Done')"
   ]
  },
  {
   "cell_type": "code",
   "execution_count": 7,
   "metadata": {
    "collapsed": false,
    "deletable": true,
    "editable": true
   },
   "outputs": [
    {
     "name": "stdout",
     "output_type": "stream",
     "text": [
      "Done\n"
     ]
    }
   ],
   "source": [
    "load_vcf('chr10_varAnn.vcf', 'f147.txt', 128, 129)\n",
    "print ('Done')"
   ]
  },
  {
   "cell_type": "code",
   "execution_count": 8,
   "metadata": {
    "collapsed": false,
    "deletable": true,
    "editable": true
   },
   "outputs": [
    {
     "name": "stdout",
     "output_type": "stream",
     "text": [
      "Done\n"
     ]
    }
   ],
   "source": [
    "load_vcf('chr10_varAnn.vcf', 'f185.txt', 130, 131)\n",
    "print ('Done')"
   ]
  },
  {
   "cell_type": "code",
   "execution_count": null,
   "metadata": {
    "collapsed": false,
    "deletable": true,
    "editable": true
   },
   "outputs": [],
   "source": [
    "c = 1647 all CDH23 but no intergenic\n",
    "afc = 1108 and all <=1\n",
    "af <= 0.1 374 \n",
    "af <= 0.01 80 \n",
    "af <= 0.01 and rs = .  36"
   ]
  },
  {
   "cell_type": "code",
   "execution_count": 40,
   "metadata": {
    "collapsed": false,
    "deletable": true,
    "editable": true
   },
   "outputs": [],
   "source": [
    "#Filter vcf.txt output \n",
    "def load_vcf2(filename, outname, start, end):\n",
    "    fp = open(filename, 'r')\n",
    "    r = csv.reader(fp, delimiter='\\t')\n",
    "    outfile = open(outname, 'w+')\n",
    "    for n, row in enumerate(r):\n",
    "        if n ==0: \n",
    "            row0 =row\n",
    "            for i in range(0,58): \n",
    "                        outfile.write(row[i])\n",
    "                        outfile.write('\\t')  \n",
    "            for i in range (start, end+1):\n",
    "                    outfile.write(row0[i])\n",
    "                    outfile.write('\\t') \n",
    "            outfile.write('\\n')  \n",
    "        if row[6] == 'CDH23' and row[55] !='LowQual': \n",
    "               af = row[56].split(';')\n",
    "               AF = af[3].split('=')\n",
    "               if AF[0] =='AF':\n",
    "                    if float(AF[1]) <= 0.001 : \n",
    "                        for i in range (0, 58 ): \n",
    "                                                    outfile.write(row[i])\n",
    "                                                    outfile.write('\\t')\n",
    "                        for i in range (start, end+1): \n",
    "                                        if row[i] == './.':\n",
    "                                            outfile.write('./.')\n",
    "                                            outfile.write('\\t')\n",
    "                                            for j in range (1, 5):\n",
    "                                                outfile.write('-')\n",
    "                                                outfile.write('\\t')\n",
    "                                        else:\n",
    "                                            newrow = row[i].split(':')\n",
    "                                            for j in range(0, len(newrow)): \n",
    "                                                outfile.write(newrow[j])\n",
    "                                                outfile.write('\\t')\n",
    "                        outfile.write('\\n')"
   ]
  },
  {
   "cell_type": "code",
   "execution_count": 41,
   "metadata": {
    "collapsed": false,
    "deletable": true,
    "editable": true
   },
   "outputs": [
    {
     "name": "stdout",
     "output_type": "stream",
     "text": [
      "Done\n"
     ]
    }
   ],
   "source": [
    "load_vcf2('chr10_varAnn.vcf', 'sp190.txt', 58, 58)\n",
    "print ('Done')"
   ]
  },
  {
   "cell_type": "code",
   "execution_count": 42,
   "metadata": {
    "collapsed": false,
    "deletable": true,
    "editable": true
   },
   "outputs": [
    {
     "name": "stdout",
     "output_type": "stream",
     "text": [
      "Done\n"
     ]
    }
   ],
   "source": [
    "load_vcf2('chr10_varAnn.vcf', 'sp198.txt', 59, 59)\n",
    "print ('Done')"
   ]
  },
  {
   "cell_type": "code",
   "execution_count": 43,
   "metadata": {
    "collapsed": false,
    "deletable": true,
    "editable": true
   },
   "outputs": [
    {
     "name": "stdout",
     "output_type": "stream",
     "text": [
      "Done\n"
     ]
    }
   ],
   "source": [
    "load_vcf2('chr10_varAnn.vcf', 'sp269.txt', 60, 60)\n",
    "print ('Done')"
   ]
  },
  {
   "cell_type": "code",
   "execution_count": 44,
   "metadata": {
    "collapsed": false,
    "deletable": true,
    "editable": true
   },
   "outputs": [
    {
     "name": "stdout",
     "output_type": "stream",
     "text": [
      "Done\n"
     ]
    }
   ],
   "source": [
    "load_vcf2('chr10_varAnn.vcf', 'sp271.txt', 61, 61)\n",
    "print ('Done')"
   ]
  },
  {
   "cell_type": "code",
   "execution_count": 45,
   "metadata": {
    "collapsed": false,
    "deletable": true,
    "editable": true
   },
   "outputs": [
    {
     "name": "stdout",
     "output_type": "stream",
     "text": [
      "Done\n"
     ]
    }
   ],
   "source": [
    "load_vcf2('chr10_varAnn.vcf', 'sp329.txt', 62, 62)\n",
    "print ('Done')"
   ]
  },
  {
   "cell_type": "code",
   "execution_count": 46,
   "metadata": {
    "collapsed": false,
    "deletable": true,
    "editable": true
   },
   "outputs": [
    {
     "name": "stdout",
     "output_type": "stream",
     "text": [
      "Done\n"
     ]
    }
   ],
   "source": [
    "load_vcf2('chr10_varAnn.vcf', 'sp340M1.txt', 63, 63)\n",
    "print ('Done')"
   ]
  },
  {
   "cell_type": "code",
   "execution_count": 47,
   "metadata": {
    "collapsed": false,
    "deletable": true,
    "editable": true
   },
   "outputs": [
    {
     "name": "stdout",
     "output_type": "stream",
     "text": [
      "Done\n"
     ]
    }
   ],
   "source": [
    "load_vcf2('chr10_varAnn.vcf', 'sp476.txt', 64, 64)\n",
    "print ('Done')"
   ]
  },
  {
   "cell_type": "code",
   "execution_count": 48,
   "metadata": {
    "collapsed": false,
    "deletable": true,
    "editable": true
   },
   "outputs": [
    {
     "name": "stdout",
     "output_type": "stream",
     "text": [
      "Done\n"
     ]
    }
   ],
   "source": [
    "load_vcf2('chr10_varAnn.vcf', 'sp493.txt', 65, 65)\n",
    "print ('Done')"
   ]
  },
  {
   "cell_type": "code",
   "execution_count": 49,
   "metadata": {
    "collapsed": false,
    "deletable": true,
    "editable": true
   },
   "outputs": [
    {
     "name": "stdout",
     "output_type": "stream",
     "text": [
      "Done\n"
     ]
    }
   ],
   "source": [
    "load_vcf2('chr10_varAnn.vcf', 'Sp495.txt', 66, 66)\n",
    "print ('Done')"
   ]
  },
  {
   "cell_type": "code",
   "execution_count": 50,
   "metadata": {
    "collapsed": false,
    "deletable": true,
    "editable": true
   },
   "outputs": [
    {
     "name": "stdout",
     "output_type": "stream",
     "text": [
      "Done\n"
     ]
    }
   ],
   "source": [
    "load_vcf2('chr10_varAnn.vcf', 'sp534.txt', 67, 67)\n",
    "print ('Done')"
   ]
  },
  {
   "cell_type": "code",
   "execution_count": 51,
   "metadata": {
    "collapsed": false,
    "deletable": true,
    "editable": true
   },
   "outputs": [
    {
     "name": "stdout",
     "output_type": "stream",
     "text": [
      "Done\n"
     ]
    }
   ],
   "source": [
    "load_vcf2('chr10_varAnn.vcf', 'sp634.txt', 68, 68)\n",
    "print ('Done')"
   ]
  },
  {
   "cell_type": "code",
   "execution_count": 53,
   "metadata": {
    "collapsed": false,
    "deletable": true,
    "editable": true
   },
   "outputs": [
    {
     "name": "stdout",
     "output_type": "stream",
     "text": [
      "Done\n"
     ]
    }
   ],
   "source": [
    "load_vcf2('chr10_varAnn.vcf', 'sp638.txt', 69, 69)\n",
    "print ('Done')"
   ]
  },
  {
   "cell_type": "code",
   "execution_count": 54,
   "metadata": {
    "collapsed": false,
    "deletable": true,
    "editable": true
   },
   "outputs": [
    {
     "name": "stdout",
     "output_type": "stream",
     "text": [
      "Done\n"
     ]
    }
   ],
   "source": [
    "load_vcf2('chr10_varAnn.vcf', 'sp660.txt', 70, 70)\n",
    "print ('Done')"
   ]
  },
  {
   "cell_type": "code",
   "execution_count": null,
   "metadata": {
    "collapsed": true,
    "deletable": true,
    "editable": true
   },
   "outputs": [],
   "source": [
    "load_vcf2('chr10_varAnn.vcf', '.txt', 66, 66)\n",
    "print ('Done')"
   ]
  }
 ],
 "metadata": {
  "kernelspec": {
   "display_name": "Python 2",
   "language": "python",
   "name": "python2"
  },
  "language_info": {
   "codemirror_mode": {
    "name": "ipython",
    "version": 2
   },
   "file_extension": ".py",
   "mimetype": "text/x-python",
   "name": "python",
   "nbconvert_exporter": "python",
   "pygments_lexer": "ipython2",
   "version": "2.7.12"
  }
 },
 "nbformat": 4,
 "nbformat_minor": 2
}
