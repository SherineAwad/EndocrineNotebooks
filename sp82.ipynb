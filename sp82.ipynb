{
 "cells": [
  {
   "cell_type": "code",
   "execution_count": 1,
   "metadata": {
    "collapsed": true,
    "deletable": true,
    "editable": true
   },
   "outputs": [],
   "source": [
    "import csv\n",
    "import sys\n",
    "import re\n",
    "import matplotlib.pyplot as plt\n",
    "import numpy as np"
   ]
  },
  {
   "cell_type": "markdown",
   "metadata": {
    "deletable": true,
    "editable": true
   },
   "source": [
    "# Cutoff for rare variants "
   ]
  },
  {
   "cell_type": "code",
   "execution_count": 2,
   "metadata": {
    "collapsed": true,
    "deletable": true,
    "editable": true
   },
   "outputs": [],
   "source": [
    "cutoff  = 0.0000001"
   ]
  },
  {
   "cell_type": "code",
   "execution_count": 3,
   "metadata": {
    "collapsed": true,
    "deletable": true,
    "editable": true
   },
   "outputs": [],
   "source": [
    "def writelist (mylist, myfile): \n",
    "    fp =  open(myfile,'a+')\n",
    "    for idx,item in enumerate(mylist):\n",
    "            fp.write(item)\n",
    "            fp.write('\\t')\n",
    "    fp.write('\\n')\n",
    "    fp.close()"
   ]
  },
  {
   "cell_type": "code",
   "execution_count": 4,
   "metadata": {
    "collapsed": true,
    "deletable": true,
    "editable": true
   },
   "outputs": [],
   "source": [
    "def intersections(list1, list2):\n",
    "    intersection_list = []\n",
    "    for i in list1: \n",
    "        if i in list2: \n",
    "                intersection_list.append(i)\n",
    "    return intersection_list"
   ]
  },
  {
   "cell_type": "code",
   "execution_count": 5,
   "metadata": {
    "collapsed": true,
    "deletable": true,
    "editable": true
   },
   "outputs": [],
   "source": [
    "def intersections3(list1, list2, list3):\n",
    "    intersection_list = []\n",
    "    for i in list1: \n",
    "        if i in list2: \n",
    "                if i in list3:\n",
    "                    intersection_list.append(i)\n",
    "    return intersection_list"
   ]
  },
  {
   "cell_type": "code",
   "execution_count": 6,
   "metadata": {
    "collapsed": true,
    "deletable": true,
    "editable": true
   },
   "outputs": [],
   "source": [
    "def intersections2n(list1, list2, list3):\n",
    "    intersection_list = []\n",
    "    nlist = [] \n",
    "    for i in list1: \n",
    "        if i in list2: \n",
    "                intersection_list.append(i)\n",
    "    for i in intersection_list:\n",
    "            if i not in list3:\n",
    "                    nlist.append(i)\n",
    "    for i in nlist: \n",
    "            print (i)\n",
    "    return intersection_list"
   ]
  },
  {
   "cell_type": "code",
   "execution_count": 7,
   "metadata": {
    "collapsed": true,
    "deletable": true,
    "editable": true
   },
   "outputs": [],
   "source": [
    "def intersections3n(list1, list2, list3, list4):\n",
    "    intersection_list = []\n",
    "    nlist = []\n",
    "    for i in list1 : \n",
    "        if i in list2 : \n",
    "            if i in list3 :\n",
    "                intersection_list.append(i)\n",
    "    for i in intersection_list:\n",
    "            if i not in list4:\n",
    "                    nlist.append(i)\n",
    "    for i in nlist: \n",
    "            print (i)\n",
    "    return nlist"
   ]
  },
  {
   "cell_type": "code",
   "execution_count": 8,
   "metadata": {
    "collapsed": true,
    "deletable": true,
    "editable": true
   },
   "outputs": [],
   "source": [
    "def difference(list1, list2):\n",
    "    unique_list = []\n",
    "    for i in list1: \n",
    "        if i not in list2: \n",
    "                unique_list.append(i)\n",
    "    return unique_list"
   ]
  },
  {
   "cell_type": "code",
   "execution_count": 9,
   "metadata": {
    "collapsed": true,
    "deletable": true,
    "editable": true
   },
   "outputs": [],
   "source": [
    "def difference2(list1, list2, list3):\n",
    "    unique_list = []\n",
    "    for i in list1: \n",
    "        if i not in list2 and i not in list3: \n",
    "                unique_list.append(i)\n",
    "    return unique_list"
   ]
  },
  {
   "cell_type": "code",
   "execution_count": 10,
   "metadata": {
    "collapsed": true,
    "deletable": true,
    "editable": true
   },
   "outputs": [],
   "source": [
    "def difference3(list1, list2, list3):\n",
    "    unique_list = []\n",
    "    for i in list1: \n",
    "        if i in list2: \n",
    "            if i not in list3: \n",
    "                unique_list.append(i)\n",
    "    return unique_list"
   ]
  },
  {
   "cell_type": "code",
   "execution_count": 11,
   "metadata": {
    "collapsed": true,
    "deletable": true,
    "editable": true
   },
   "outputs": [],
   "source": [
    "def exist (list1, list2): \n",
    "    found_list = []\n",
    "    for i in list1: \n",
    "            if i not in found_list: \n",
    "                    found_list.append(i)\n",
    "    for i in list2: \n",
    "            if i not in found_list: \n",
    "                    found_list.append(i)\n",
    "    return found_list "
   ]
  },
  {
   "cell_type": "markdown",
   "metadata": {
    "deletable": true,
    "editable": true
   },
   "source": [
    "# Read annovar annotation file"
   ]
  },
  {
   "cell_type": "code",
   "execution_count": 14,
   "metadata": {
    "collapsed": true,
    "deletable": true,
    "editable": true
   },
   "outputs": [],
   "source": [
    " def load_annovar(filename):\n",
    "    rows = []\n",
    "    exacall = []\n",
    "    gnomall = []\n",
    "    rs = []\n",
    "    gene = []\n",
    "    pathogenics = []\n",
    "    functions = []\n",
    "    exonicfunctions =[]\n",
    "    muttype = []\n",
    "    fp = open(filename, 'r')\n",
    "    r = csv.reader(fp, delimiter='\\t')\n",
    "    for n, row in enumerate(r):\n",
    "        #rs ,pos,_,ensg,_, enst,_,_,_,_,_,_,_,impact =row[:14]\n",
    "        if n == 0: \n",
    "                print (row[8])\n",
    "                print(row[16])\n",
    "                print(row[124])\n",
    "                print(row[24])\n",
    "                print(row[6])\n",
    "                print (row[5])\n",
    "                print(row[59])\n",
    "            \n",
    "                continue\n",
    "        exonicfunctions.append(row[8])\n",
    "        muttype.append(row[13])\n",
    "        exacall.append(row[16])\n",
    "        #gnomall.append(row[124])\n",
    "        gnomall.append(row[24])\n",
    "        #rs.append(row[24])\n",
    "        rs.append(row[139])\n",
    "        rows.append(row)\n",
    "        gene.append(row[6])\n",
    "        functions.append(row[5])\n",
    "        pathogenics.append(row[59])\n",
    "    return rows, functions, exonicfunctions, rs, gene,  exacall , gnomall, pathogenics, muttype"
   ]
  },
  {
   "cell_type": "code",
   "execution_count": 15,
   "metadata": {
    "collapsed": false,
    "deletable": true,
    "editable": true
   },
   "outputs": [
    {
     "name": "stdout",
     "output_type": "stream",
     "text": [
      "ExonicFunc.refGene\n",
      "ExAC_ALL\n",
      "Examined_samples\n",
      "gnomAD_exome_ALL\n",
      "Gene.refGene\n",
      "Func.refGene\n",
      "MetaLR_pred\n",
      "Starting ....\n",
      "1e-07\n",
      ".\n",
      "('rs183933394', 'NBPF19', '0', '0', 'nonsynonymous SNV')\n",
      ".\n",
      ".\n",
      ".\n",
      ".\n",
      ".\n",
      "('.', 'ACTR3', '0', '0', 'nonsynonymous SNV')\n",
      ".\n",
      ".\n",
      "('.', 'HNRNPA3', '.', '0', 'nonsynonymous SNV')\n",
      ".\n",
      ".\n",
      "('.', 'ZNF717', '.', '0', 'nonframeshift insertion')\n",
      ".\n",
      "('.', 'OR5H14', '.', '0', 'nonsynonymous SNV')\n",
      ".\n",
      "('.', 'MUC4', '.', '0', 'nonframeshift insertion')\n",
      ".\n",
      ".\n",
      ".\n",
      "('rs142488738', 'WDR27', '0', '0', 'nonsynonymous SNV')\n",
      "('rs146778012', 'WDR27', '0', '0', 'nonsynonymous SNV')\n",
      ".\n",
      ".\n",
      ".\n",
      ".\n",
      "('.', 'ZNF705G', '.', '0', 'nonsynonymous SNV')\n",
      ".\n",
      ".\n",
      ".\n",
      ".\n",
      "('.', 'OTOG', '.', '0', 'nonsynonymous SNV')\n",
      ".\n",
      ".\n",
      ".\n",
      "('rs79246694', 'PABPC3', '.', '0', 'nonsynonymous SNV')\n",
      ".\n",
      "('rs376589131', 'PABPC3', '.', '0', 'frameshift deletion')\n",
      "('rs80261016', 'PABPC3', '0', '0', 'nonsynonymous SNV')\n",
      ".\n",
      "('rs371570689', 'PABPC3', '.', '0', 'frameshift deletion')\n",
      ".\n",
      "('.', 'PDCD7', '.', '0', 'nonframeshift insertion')\n",
      ".\n",
      "('.', 'CACNA1H', '.', '0', 'nonsynonymous SNV')\n",
      ".\n",
      ".\n",
      "('.', 'KIF1C', '.', '0', 'stopgain')\n",
      ".\n",
      ".\n",
      ".\n",
      "('.', 'SBNO2', '.', '0', 'nonsynonymous SNV')\n",
      ".\n",
      ".\n",
      "('.', 'MUC16', '.', '0', 'nonsynonymous SNV')\n",
      ".\n",
      ".\n",
      ".\n",
      ".\n",
      "('rs77294853', 'SLC25A5', '.', '0', 'nonsynonymous SNV')\n",
      ".\n",
      "We reached printing stage\n",
      "('Number of variants with gnomall and/or exac <', 1e-07, 'is:', 20)\n",
      "[['chr1', '145360608', '145360608', 'T', 'A', 'exonic', 'NBPF19', '.', 'nonsynonymous SNV', 'NBPF19:NM_001351365:exon69:c.T8414A:p.L2805Q', 'exonic', 'ENSG00000163386', '.', 'nonsynonymous SNV', 'ENSG00000163386:ENST00000342960:exon74:c.T9233A:p.L3078Q', '.', '0', '0', '0', '0', '0', '0', '0', '0', '0', '0', '0', '0', '0', '0', '0', '0', '0', 'rs183933394', '.', '.', '0.984', 'D', '0.902', 'P', '.', '.', '1', 'N', '2.98', 'M', '.', '.', '.', '.', '0.083', '3.592', '23.2', '0.961', '0.028', 'N', '-1.101', 'T', '0.056', 'T', '0.615', '0', '1.08', '.', '.', '.', '.', '4.434', '.', '.', '.', '.', '.', '.', '.', '.', '.', '.', '.', '.', '.', '.', '.', '.', '.', '.', '.', '.', '.', '.', '.', '.', '.', '.', '.', '.', '.', '.', '.', '.', '.', '.', '.', '.', '.', '.', '.', '.', '.', '.', '.', '.', '.', '.', '.', '.', '.', '.', '.', '.', '.', '.', '.', '.', '.', '.', '.', '.', '.', '.', '.', '.', '.', '0.053', '0.5', '77.77', '14', 'chr1', '145360608', 'rs183933394', 'T', 'A', '77.77', '.', 'AC=1;AF=0.500;AN=2;BaseQRankSum=1.49;ClippingRankSum=2.00;DB;DP=14;ExcessHet=3.0103;FS=0.000;MLEAC=1;MLEAF=0.500;MQ=41.24;MQRankSum=-1.097e+00;QD=5.55;ReadPosRankSum=-2.517e+00;SOR=0.693', 'GT:AD:DP:GQ:PL', '0/1:8,6:14:99:106,0,156'], ['chr2', '114647864', '114647864', 'G', 'A', 'exonic', 'ACTR3', '.', 'nonsynonymous SNV', 'ACTR3:NM_005721:exon1:c.G8A:p.G3E', 'exonic', 'ENSG00000115091', '.', 'nonsynonymous SNV', 'ENSG00000115091:ENST00000263238:exon1:c.G8A:p.G3E,ENSG00000115091:ENST00000415792:exon1:c.G8A:p.G3E,ENSG00000115091:ENST00000443297:exon1:c.G8A:p.G3E,ENSG00000115091:ENST00000446821:exon1:c.G8A:p.G3E', '.', '0', '0', '0', '0', '0', '0', '0', '0', '0', '0', '0', '0', '0', '0', '0', '0', '0', 'rs747580075', '0.119', 'T', '0.322', 'B', '0.224', 'B', '0.001', 'D', '1', 'D', '1.6', 'L', '-3.45', 'D', '-1.31', 'N', '0.401', '2.798', '21.4', '0.995', '0.780', 'D', '0.336', 'D', '0.741', 'D', '0.442', '0', '4.5', '0.809', '0.758', '1.000', '1.000', '14.146', '.', '.', '.', '.', '.', '.', '.', '.', '.', '.', '.', '.', '.', '.', '.', '.', '.', '.', '.', '.', '.', '.', '.', '.', '.', '.', '.', '.', '.', '.', '.', '.', '.', '.', '.', '.', '.', '.', '.', '.', '.', '.', '.', '.', '.', '.', '.', '.', '.', '.', '.', '.', '.', '.', '.', '.', '.', '.', '.', '.', '.', '.', '.', '.', '.', '0.437', '0.5', '508.77', '76', 'chr2', '114647864', '.', 'G', 'A', '508.77', '.', 'AC=1;AF=0.500;AN=2;BaseQRankSum=0.338;ClippingRankSum=-9.410e-01;DP=76;ExcessHet=3.0103;FS=0.000;MLEAC=1;MLEAF=0.500;MQ=60.00;MQRankSum=-1.543e+00;QD=6.69;ReadPosRankSum=-2.209e+00;SOR=0.789', 'GT:AD:DP:GQ:PL', '0/1:45,31:76:99:537,0,885'], ['chr2', '178080775', '178080775', 'G', 'A', 'exonic', 'HNRNPA3', '.', 'nonsynonymous SNV', 'HNRNPA3:NM_001330247:exon4:c.G346A:p.E116K,HNRNPA3:NM_001330248:exon4:c.G346A:p.E116K,HNRNPA3:NM_001330249:exon4:c.G412A:p.E138K,HNRNPA3:NM_001330250:exon4:c.G412A:p.E138K,HNRNPA3:NM_001330251:exon4:c.G412A:p.E138K,HNRNPA3:NM_194247:exon4:c.G412A:p.E138K', 'exonic', 'ENSG00000170144', '.', 'nonsynonymous SNV', 'ENSG00000170144:ENST00000392524:exon4:c.G412A:p.E138K,ENSG00000170144:ENST00000411529:exon4:c.G346A:p.E116K,ENSG00000170144:ENST00000435711:exon4:c.G412A:p.E138K', '.', '.', '.', '.', '.', '.', '.', '.', '.', '0', '0', '0', '0', '0', '0', '0', '0', '0', '.', '0.039', 'D', '0.791', 'P', '0.486', 'P', '0.000', 'D', '1', 'D', '0.745', 'N', '-0.8', 'T', '-2.83', 'D', '0.614', '6.796', '32', '0.998', '0.980', 'D', '-0.428', 'T', '0.305', 'T', '0.722', '0', '4.11', '0.917', '0.978', '1.000', '0.996', '16.731', '.', '.', '.', '.', '.', '.', '.', '.', '.', '.', '.', '.', '.', '.', '.', '.', '.', '.', '.', '.', '.', '.', '.', '.', '.', '.', '.', '.', '.', '.', '.', '.', '.', '.', '.', '.', '.', '.', '.', '.', '.', '.', '.', '.', '.', '.', '.', '.', '.', '.', '.', '.', '.', '.', '.', '.', '.', '.', '.', '.', '.', '.', '.', '.', '.', '0.447', '0.5', '40.77', '7', 'chr2', '178080775', '.', 'G', 'A', '40.77', '.', 'AC=1;AF=0.500;AN=2;BaseQRankSum=-9.220e-01;ClippingRankSum=0.922;DP=7;ExcessHet=3.0103;FS=0.000;MLEAC=1;MLEAF=0.500;MQ=52.57;MQRankSum=-9.220e-01;QD=5.82;ReadPosRankSum=0.198;SOR=0.446', 'GT:AD:DP:GQ:PGT:PID:PL', '0/1:5,2:7:69:0|1:178080775_G_A:69,0,238'], ['chr3', '75790876', '75790876', '-', 'GATGCCAACTCCTGTAATGATAGCAGGCTGTTATAAGTCTCCAGCATCACATCCCTGTACAGGGTCCTCTGAGCATTATCCAGGTCCTGCCACTCCTCCCAGGTGAAGTGCACAGCAACATCTTCAAAA', 'exonic', 'ZNF717', '.', 'nonframeshift insertion', 'ZNF717:NM_001128223:exon3:c.68_69insTTTTGAAGATGTTGCTGTGCACTTCACCTGGGAGGAGTGGCAGGACCTGGATAATGCTCAGAGGACCCTGTACAGGGATGTGATGCTGGAGACTTATAACAGCCTGCTATCATTACAGGAGTTGGCATC:p.S23delinsSFEDVAVHFTWEEWQDLDNAQRTLYRDVMLETYNSLLSLQELAS,ZNF717:NM_001290208:exon3:c.68_69insTTTTGAAGATGTTGCTGTGCACTTCACCTGGGAGGAGTGGCAGGACCTGGATAATGCTCAGAGGACCCTGTACAGGGATGTGATGCTGGAGACTTATAACAGCCTGCTATCATTACAGGAGTTGGCATC:p.S23delinsSFEDVAVHFTWEEWQDLDNAQRTLYRDVMLETYNSLLSLQELAS,ZNF717:NM_001290210:exon3:c.68_69insTTTTGAAGATGTTGCTGTGCACTTCACCTGGGAGGAGTGGCAGGACCTGGATAATGCTCAGAGGACCCTGTACAGGGATGTGATGCTGGAGACTTATAACAGCCTGCTATCATTACAGGAGTTGGCATC:p.S23delinsSFEDVAVHFTWEEWQDLDNAQRTLYRDVMLETYNSLLSLQELAS,ZNF717:NM_001324027:exon3:c.68_69insTTTTGAAGATGTTGCTGTGCACTTCACCTGGGAGGAGTGGCAGGACCTGGATAATGCTCAGAGGACCCTGTACAGGGATGTGATGCTGGAGACTTATAACAGCCTGCTATCATTACAGGAGTTGGCATC:p.S23delinsSFEDVAVHFTWEEWQDLDNAQRTLYRDVMLETYNSLLSLQELAS,ZNF717:NM_001324028:exon3:c.47_48insTTTTGAAGATGTTGCTGTGCACTTCACCTGGGAGGAGTGGCAGGACCTGGATAATGCTCAGAGGACCCTGTACAGGGATGTGATGCTGGAGACTTATAACAGCCTGCTATCATTACAGGAGTTGGCATC:p.S16delinsSFEDVAVHFTWEEWQDLDNAQRTLYRDVMLETYNSLLSLQELAS,ZNF717:NM_001324026:exon4:c.68_69insTTTTGAAGATGTTGCTGTGCACTTCACCTGGGAGGAGTGGCAGGACCTGGATAATGCTCAGAGGACCCTGTACAGGGATGTGATGCTGGAGACTTATAACAGCCTGCTATCATTACAGGAGTTGGCATC:p.S23delinsSFEDVAVHFTWEEWQDLDNAQRTLYRDVMLETYNSLLSLQELAS', 'exonic', 'ENSG00000227124', '.', 'nonframeshift insertion', 'ENSG00000227124:ENST00000400845:exon3:c.47_48insTTTTGAAGATGTTGCTGTGCACTTCACCTGGGAGGAGTGGCAGGACCTGGATAATGCTCAGAGGACCCTGTACAGGGATGTGATGCTGGAGACTTATAACAGCCTGCTATCATTACAGGAGTTGGCATC:p.S16delinsSFEDVAVHFTWEEWQDLDNAQRTLYRDVMLETYNSLLSLQELAS,ENSG00000227124:ENST00000422325:exon3:c.68_69insTTTTGAAGATGTTGCTGTGCACTTCACCTGGGAGGAGTGGCAGGACCTGGATAATGCTCAGAGGACCCTGTACAGGGATGTGATGCTGGAGACTTATAACAGCCTGCTATCATTACAGGAGTTGGCATC:p.S23delinsSFEDVAVHFTWEEWQDLDNAQRTLYRDVMLETYNSLLSLQELAS,ENSG00000227124:ENST00000468296:exon3:c.68_69insTTTTGAAGATGTTGCTGTGCACTTCACCTGGGAGGAGTGGCAGGACCTGGATAATGCTCAGAGGACCCTGTACAGGGATGTGATGCTGGAGACTTATAACAGCCTGCTATCATTACAGGAGTTGGCATC:p.S23delinsSFEDVAVHFTWEEWQDLDNAQRTLYRDVMLETYNSLLSLQELAS,ENSG00000227124:ENST00000477374:exon3:c.68_69insTTTTGAAGATGTTGCTGTGCACTTCACCTGGGAGGAGTGGCAGGACCTGGATAATGCTCAGAGGACCCTGTACAGGGATGTGATGCTGGAGACTTATAACAGCCTGCTATCATTACAGGAGTTGGCATC:p.S23delinsSFEDVAVHFTWEEWQDLDNAQRTLYRDVMLETYNSLLSLQELAS', '.', '.', '.', '.', '.', '.', '.', '.', '.', '0', '0', '0', '0', '0', '0', '0', '0', '0', '.', '.', '.', '.', '.', '.', '.', '.', '.', '.', '.', '.', '.', '.', '.', '.', '.', '.', '.', '.', '.', '.', '.', '.', '.', '.', '.', '.', '.', '.', '.', '.', '.', '.', '.', '.', '.', '.', '.', '.', '.', '.', '.', '.', '.', '.', '.', '.', '.', '.', '.', '.', '.', '.', '.', '.', '.', '.', '.', '.', '.', '.', '.', '.', '.', '.', '.', '.', '.', '.', '.', '.', '.', '.', '.', '.', '.', '.', '.', '.', '.', '.', '.', '.', '.', '.', '.', '.', '.', '.', '.', '.', '.', '.', '.', '.', '.', '.', '.', '.', '.', '0.5', '191.77', '2', 'chr3', '75790876', '.', 'G', 'GGATGCCAACTCCTGTAATGATAGCAGGCTGTTATAAGTCTCCAGCATCACATCCCTGTACAGGGTCCTCTGAGCATTATCCAGGTCCTGCCACTCCTCCCAGGTGAAGTGCACAGCAACATCTTCAAAA', '191.77', '.', 'AC=1;AF=0.500;AN=2;DP=44;ExcessHet=3.0103;FS=0.000;MLEAC=1;MLEAF=0.500;MQ=43.10;QD=31.22;SOR=0.105', 'GT:AD:DP:GQ:PL', '0/1:2,0:2:99:220,0,150'], ['chr3', '97868749', '97868749', 'A', 'G', 'exonic', 'OR5H14', '.', 'nonsynonymous SNV', 'OR5H14:NM_001005514:exon1:c.A520G:p.I174V', 'exonic', 'ENSG00000236032', '.', 'nonsynonymous SNV', 'ENSG00000236032:ENST00000437310:exon1:c.A520G:p.I174V', '.', '.', '.', '.', '.', '.', '.', '.', '.', '0', '0', '0', '0', '0', '0', '0', '0', '0', '.', '0.106', 'T', '0.005', 'B', '0.032', 'B', '0.019', 'N', '1', 'N', '1.985', 'M', '8.61', 'T', '-0.78', 'N', '0.104', '-0.927', '0.023', '0.755', '0.011', 'N', '-0.971', 'T', '0.001', 'T', '0.487', '0', '-0.186', '0.079', '0.055', '0.700', '0.938', '5.696', '.', '.', '.', '.', '.', '.', '.', '.', '.', '.', '.', '.', '.', '.', '.', '.', '.', '.', '.', '.', '.', '.', '.', '.', '.', '.', '.', '.', '.', '.', '.', '.', '.', '.', '.', '.', '.', '.', '.', '.', '.', '.', '.', '.', '.', '.', '.', '.', '.', '.', '.', '.', '.', '.', '.', '.', '.', '.', '.', '.', '.', '.', '.', '.', '.', '0.038', '0.5', '48.77', '51', 'chr3', '97868749', '.', 'A', 'G', '48.77', '.', 'AC=1;AF=0.500;AN=2;BaseQRankSum=0.161;ClippingRankSum=0.512;DP=51;ExcessHet=3.0103;FS=3.779;MLEAC=1;MLEAF=0.500;MQ=59.64;MQRankSum=-4.820e-01;QD=0.96;ReadPosRankSum=-2.353e+00;SOR=1.268', 'GT:AD:DP:GQ:PL', '0/1:45,6:51:77:77,0,1034'], ['chr3', '195505836', '195505836', '-', 'TGACCTGTGGATGCTGAGGAAGTGTCGGTGACAGGAAGAGGGGTGGTGTCACCTGTGGATGCTGAGGAAGTGTCGGTGACAGGAAGAGGGGTGGCC', 'exonic', 'MUC4', '.', 'nonframeshift insertion', 'MUC4:NM_018406:exon2:c.12614_12615insGGCCACCCCTCTTCCTGTCACCGACACTTCCTCAGCATCCACAGGTGACACCACCCCTCTTCCTGTCACCGACACTTCCTCAGCATCCACAGGTCA:p.H4205delinsQATPLPVTDTSSASTGDTTPLPVTDTSSASTGH', 'exonic', 'ENSG00000145113', '.', 'nonframeshift insertion', 'ENSG00000145113:ENST00000462323:exon2:c.12614_12615insGGCCACCCCTCTTCCTGTCACCGACACTTCCTCAGCATCCACAGGTGACACCACCCCTCTTCCTGTCACCGACACTTCCTCAGCATCCACAGGTCA:p.H4205delinsQATPLPVTDTSSASTGDTTPLPVTDTSSASTGH,ENSG00000145113:ENST00000463781:exon2:c.12614_12615insGGCCACCCCTCTTCCTGTCACCGACACTTCCTCAGCATCCACAGGTGACACCACCCCTCTTCCTGTCACCGACACTTCCTCAGCATCCACAGGTCA:p.H4205delinsQATPLPVTDTSSASTGDTTPLPVTDTSSASTGH,ENSG00000145113:ENST00000466475:exon2:c.12614_12615insGGCCACCCCTCTTCCTGTCACCGACACTTCCTCAGCATCCACAGGTGACACCACCCCTCTTCCTGTCACCGACACTTCCTCAGCATCCACAGGTCA:p.H4205delinsQATPLPVTDTSSASTGDTTPLPVTDTSSASTGH,ENSG00000145113:ENST00000470451:exon2:c.12614_12615insGGCCACCCCTCTTCCTGTCACCGACACTTCCTCAGCATCCACAGGTGACACCACCCCTCTTCCTGTCACCGACACTTCCTCAGCATCCACAGGTCA:p.H4205delinsQATPLPVTDTSSASTGDTTPLPVTDTSSASTGH,ENSG00000145113:ENST00000475231:exon2:c.12614_12615insGGCCACCCCTCTTCCTGTCACCGACACTTCCTCAGCATCCACAGGTGACACCACCCCTCTTCCTGTCACCGACACTTCCTCAGCATCCACAGGTCA:p.H4205delinsQATPLPVTDTSSASTGDTTPLPVTDTSSASTGH,ENSG00000145113:ENST00000477086:exon2:c.12614_12615insGGCCACCCCTCTTCCTGTCACCGACACTTCCTCAGCATCCACAGGTGACACCACCCCTCTTCCTGTCACCGACACTTCCTCAGCATCCACAGGTCA:p.H4205delinsQATPLPVTDTSSASTGDTTPLPVTDTSSASTGH,ENSG00000145113:ENST00000477756:exon2:c.12614_12615insGGCCACCCCTCTTCCTGTCACCGACACTTCCTCAGCATCCACAGGTGACACCACCCCTCTTCCTGTCACCGACACTTCCTCAGCATCCACAGGTCA:p.H4205delinsQATPLPVTDTSSASTGDTTPLPVTDTSSASTGH,ENSG00000145113:ENST00000478156:exon2:c.12614_12615insGGCCACCCCTCTTCCTGTCACCGACACTTCCTCAGCATCCACAGGTGACACCACCCCTCTTCCTGTCACCGACACTTCCTCAGCATCCACAGGTCA:p.H4205delinsQATPLPVTDTSSASTGDTTPLPVTDTSSASTGH,ENSG00000145113:ENST00000479406:exon2:c.12614_12615insGGCCACCCCTCTTCCTGTCACCGACACTTCCTCAGCATCCACAGGTGACACCACCCCTCTTCCTGTCACCGACACTTCCTCAGCATCCACAGGTCA:p.H4205delinsQATPLPVTDTSSASTGDTTPLPVTDTSSASTGH,ENSG00000145113:ENST00000480843:exon2:c.12614_12615insGGCCACCCCTCTTCCTGTCACCGACACTTCCTCAGCATCCACAGGTGACACCACCCCTCTTCCTGTCACCGACACTTCCTCAGCATCCACAGGTCA:p.H4205delinsQATPLPVTDTSSASTGDTTPLPVTDTSSASTGH', '.', '.', '.', '.', '.', '.', '.', '.', '.', '0', '0', '0', '0', '0', '0', '0', '0', '0', '.', '.', '.', '.', '.', '.', '.', '.', '.', '.', '.', '.', '.', '.', '.', '.', '.', '.', '.', '.', '.', '.', '.', '.', '.', '.', '.', '.', '.', '.', '.', '.', '.', '.', '.', '.', '.', '.', '.', '.', '.', '.', '.', '.', '.', '.', '.', '.', '.', '.', '.', '.', '.', '.', '.', '.', '.', '.', '.', '.', '.', '.', '.', '.', '.', '.', '.', '.', '.', '.', '.', '.', '.', '.', '.', '.', '.', '.', '.', '.', '.', '.', '.', '.', '.', '.', '.', '.', '.', '.', '.', '.', '.', '.', '.', '.', '.', '.', '.', '.', '.', '0.5', '2357.77', '458', 'chr3', '195505836', '.', 'G', 'GTGACCTGTGGATGCTGAGGAAGTGTCGGTGACAGGAAGAGGGGTGGTGTCACCTGTGGATGCTGAGGAAGTGTCGGTGACAGGAAGAGGGGTGGCC', '2357.77', '.', 'AC=1;AF=0.500;AN=2;BaseQRankSum=-5.360e-01;ClippingRankSum=-2.250e-01;DP=1240;ExcessHet=3.0103;FS=0.000;MLEAC=1;MLEAF=0.500;MQ=57.14;MQRankSum=-3.060e+00;QD=5.22;ReadPosRankSum=-1.607e+00;SOR=0.554', 'GT:AD:DP:GQ:PL', '0/1:452,0:458:99:2386,0,13241'], ['chr6', '169972596', '169972596', 'T', 'C', 'exonic', 'WDR27', '.', 'nonsynonymous SNV', 'WDR27:NM_182552:exon25:c.A2564G:p.H855R', 'exonic', 'ENSG00000184465', '.', 'nonsynonymous SNV', 'ENSG00000184465:ENST00000448612:exon25:c.A2564G:p.H855R', '.', '0', '.', '.', '.', '.', '.', '.', '.', '0', '.', '.', '0', '.', '0', '0', '0', '0', 'rs142488738', '0.652', 'T', '0.0', 'B', '0.0', 'B', '.', '.', '1', 'P', '0.175', 'N', '1.04', 'T', '-0.08', 'N', '0.026', '-4.193', '0.001', '0.203', '0.000', 'N', '-0.990', 'T', '0.012', 'T', '0.554', '0', '-0.371', '0.158', '-2.932', '0.010', '0.000', '.', '.', '.', '.', '.', '.', '.', '.', '.', '.', '.', '.', '.', '.', '.', '.', '.', '.', '.', '.', '.', '.', '.', '.', '.', '.', '.', '.', '.', '.', '.', '.', '.', '.', '.', '.', '.', '.', '.', '.', '.', '.', '.', '.', '.', '.', '.', '.', '.', '.', '.', '.', '.', '.', '.', '.', '.', '.', '.', '.', '.', '.', '.', '.', '.', '.', '0.022', '1', '62.74', '2', 'chr6', '169972596', 'rs142488738', 'T', 'C', '62.74', '.', 'AC=2;AF=1.00;AN=2;DB;DP=2;ExcessHet=3.0103;FS=0.000;MLEAC=2;MLEAF=1.00;MQ=51.00;QD=31.37;SOR=0.693', 'GT:AD:DP:GQ:PGT:PID:PL', '1/1:0,2:2:6:1|1:169972595_G_A:90,6,0'], ['chr6', '169972597', '169972597', 'G', 'A', 'exonic', 'WDR27', '.', 'nonsynonymous SNV', 'WDR27:NM_182552:exon25:c.C2563T:p.H855Y', 'exonic', 'ENSG00000184465', '.', 'nonsynonymous SNV', 'ENSG00000184465:ENST00000448612:exon25:c.C2563T:p.H855Y', '.', '0', '.', '.', '.', '.', '.', '.', '.', '0', '.', '.', '0', '.', '0', '0', '0', '0', 'rs146778012', '0.62', 'T', '0.079', 'B', '0.005', 'B', '.', '.', '1', 'P', '1.485', 'L', '0.82', 'T', '0.01', 'N', '0.067', '-1.319', '0.004', '0.480', '0.003', 'N', '-1.065', 'T', '0.037', 'T', '0.554', '0', '-0.371', '0.150', '-0.572', '0.015', '0.000', '.', '.', '.', '.', '.', '.', '.', '.', '.', '.', '.', '.', '.', '.', '.', '.', '.', '.', '.', '.', '.', '.', '.', '.', '.', '.', '.', '.', '.', '.', '.', '.', '.', '.', '.', '.', '.', '.', '.', '.', '.', '.', '.', '.', '.', '.', '.', '.', '.', '.', '.', '.', '.', '.', '.', '.', '.', '.', '.', '.', '.', '.', '.', '.', '.', '.', '0.044', '1', '62.74', '2', 'chr6', '169972597', 'rs146778012', 'G', 'A', '62.74', '.', 'AC=2;AF=1.00;AN=2;DB;DP=2;ExcessHet=3.0103;FS=0.000;MLEAC=2;MLEAF=1.00;MQ=51.00;QD=31.37;SOR=0.693', 'GT:AD:DP:GQ:PGT:PID:PL', '1/1:0,2:2:6:1|1:169972595_G_A:90,6,0'], ['chr8', '7215686', '7215686', 'G', 'T', 'exonic', 'ZNF705G', '.', 'nonsynonymous SNV', 'ZNF705G:NM_001164457:exon5:c.C715A:p.Q239K', 'exonic', 'ENSG00000215372', '.', 'nonsynonymous SNV', 'ENSG00000215372:ENST00000400078:exon5:c.C715A:p.Q239K,ENSG00000215372:ENST00000400156:exon7:c.C715A:p.Q239K', '.', '.', '.', '.', '.', '.', '.', '.', '.', '0', '0', '0', '0', '0', '0', '0', '0', '0', '.', '0.654', 'T', '.', '.', '.', '.', '.', '.', '1', 'N', '1.755', 'L', '2.4', 'T', '-0.75', 'N', '0.12', '-1.227', '0.006', '0.666', '0.005', 'N', '-1.015', 'T', '0.042', 'T', '0.487', '0', '1.0', '-0.341', '0.456', '0.002', '0.011', '5.009', '.', '.', '.', '.', '.', '.', '.', '.', '.', '.', '.', '.', '.', '.', '.', '.', '.', '.', '.', '.', '.', '.', '.', '.', '.', '.', '.', '.', '.', '.', '.', '.', '.', '.', '.', '.', '.', '.', '.', '.', '.', '.', '.', '.', '.', '.', '.', '.', '.', '.', '.', '.', '.', '.', '.', '.', '.', '.', '.', '.', '.', '.', '.', '.', '.', '0.016', '0.5', '1007.77', '242', 'chr8', '7215686', '.', 'G', 'T', '1007.77', '.', 'AC=1;AF=0.500;AN=2;BaseQRankSum=0.905;ClippingRankSum=1.27;DP=245;ExcessHet=3.0103;FS=0.521;MLEAC=1;MLEAF=0.500;MQ=57.43;MQRankSum=2.49;QD=4.16;ReadPosRankSum=-1.170e+00;SOR=0.689', 'GT:AD:DP:GQ:PL', '0/1:173,69:242:99:1036,0,5142'], ['chr11', '17634308', '17634308', 'A', 'G', 'exonic', 'OTOG', '.', 'nonsynonymous SNV', 'OTOG:NM_001277269:exon37:c.A6470G:p.N2157S,OTOG:NM_001292063:exon38:c.A6434G:p.N2145S', 'exonic', 'ENSG00000188162', '.', 'nonsynonymous SNV', 'ENSG00000188162:ENST00000342528:exon14:c.A3488G:p.N1163S,ENSG00000188162:ENST00000399391:exon37:c.A6470G:p.N2157S,ENSG00000188162:ENST00000399397:exon37:c.A6251G:p.N2084S', '.', '.', '.', '.', '.', '.', '.', '.', '.', '0', '0', '0', '0', '0', '0', '0', '0', '0', '.', '0.33', 'T', '0.998', 'D', '0.987', 'D', '0.003', 'N', '0.968', 'N', '1.1', 'L', '0.26', 'T', '-1.09', 'N', '0.096', '3.901', '23.5', '0.998', '0.828', 'D', '-0.868', 'T', '0.220', 'T', '0.595', '0', '4.39', '1.062', '1.199', '0.996', '0.997', '5.254', '.', '.', '.', '.', '.', '.', '.', '.', '.', '.', '.', '.', '.', '.', '.', '.', '.', '.', '.', '.', '.', '.', '.', '.', '.', '.', '.', '.', '.', '.', '.', '.', '.', '.', '.', '.', '.', '.', '.', '.', '.', '.', '.', '.', '.', '.', '.', '.', '.', '.', '.', '.', '.', '.', '.', '.', '.', '.', '.', '.', '.', '.', '.', '.', '.', '0.289', '0.5', '1486.77', '179', 'chr11', '17634308', '.', 'A', 'G', '1486.77', '.', 'AC=1;AF=0.500;AN=2;BaseQRankSum=-7.270e-01;ClippingRankSum=-1.612e+00;DP=179;ExcessHet=3.0103;FS=0.000;MLEAC=1;MLEAF=0.500;MQ=60.00;MQRankSum=-3.120e-01;QD=8.31;ReadPosRankSum=1.51;SOR=0.692', 'GT:AD:DP:GQ:PL', '0/1:99,80:179:99:1515,0,1959'], ['chr13', '25671271', '25671271', 'A', 'G', 'exonic', 'PABPC3', '.', 'nonsynonymous SNV', 'PABPC3:NM_030979:exon1:c.A935G:p.K312R', 'exonic', 'ENSG00000151846', '.', 'nonsynonymous SNV', 'ENSG00000151846:ENST00000281589:exon1:c.A935G:p.K312R', '.', '.', '.', '.', '.', '.', '.', '.', '.', '0', '0', '0', '0', '0', '0', '0', '0', '0', 'rs79246694', '0.092', 'T', '0.383', 'B', '0.344', 'B', '0.000', 'U', '1.000', 'D', '0.17', 'N', '2.34', 'T', '-2.35', 'N', '0.327', '1.295', '12.24', '0.988', '0.698', 'D', '-1.043', 'T', '0.026', 'T', '0.706', '0', '0.875', '0.649', '0.388', '0.926', '0.008', '5.899', '.', '.', '.', '.', '.', '.', '.', '.', '.', '.', '.', '.', '.', '.', '.', '.', '.', '.', '.', '.', '.', '.', '.', '.', '.', '.', '.', '.', '.', '.', '.', '.', '.', '.', '.', '.', '.', '.', '.', '.', '.', '.', '.', '.', '.', '.', '.', '.', '.', '.', '.', '.', '.', '.', '.', '.', '.', '.', '.', '.', '.', '.', '.', '.', '.', '0.159', '0.5', '1193.77', '175', 'chr13', '25671271', 'rs79246694', 'A', 'G', '1193.77', '.', 'AC=1;AF=0.500;AN=2;BaseQRankSum=-5.290e-01;ClippingRankSum=0.500;DB;DP=175;ExcessHet=3.0103;FS=1.434;MLEAC=1;MLEAF=0.500;MQ=58.18;MQRankSum=-3.551e+00;QD=6.82;ReadPosRankSum=1.03;SOR=0.850', 'GT:AD:DP:GQ:PGT:PID:PL', '0/1:136,39:175:99:0|1:25671271_A_G:1222,0,5666'], ['chr13', '25671273', '25671273', 'G', '-', 'exonic', 'PABPC3', '.', 'frameshift deletion', 'PABPC3:NM_030979:exon1:c.937delG:p.A313fs', 'exonic', 'ENSG00000151846', '.', 'frameshift deletion', 'ENSG00000151846:ENST00000281589:exon1:c.937delG:p.A313fs', '.', '.', '.', '.', '.', '.', '.', '.', '.', '0', '0', '0', '0', '0', '0', '0', '0', '0', 'rs376589131', '.', '.', '.', '.', '.', '.', '.', '.', '.', '.', '.', '.', '.', '.', '.', '.', '.', '.', '.', '.', '.', '.', '.', '.', '.', '.', '.', '.', '.', '.', '.', '.', '.', '.', '.', '.', '.', '.', '.', '.', '.', '.', '.', '.', '.', '.', '.', '.', '.', '.', '.', '.', '.', '.', '.', '.', '.', '.', '.', '.', '.', '.', '.', '.', '.', '.', '.', '.', '.', '.', '.', '.', '.', '.', '.', '.', '.', '.', '.', '.', '.', '.', '.', '.', '.', '.', '.', '.', '.', '.', '.', '.', '.', '.', '.', '.', '.', '.', '.', '.', '0.5', '1291.73', '176', 'chr13', '25671272', 'rs376589131', 'AG', 'A', '1291.73', '.', 'AC=1;AF=0.500;AN=2;BaseQRankSum=1.87;ClippingRankSum=1.23;DB;DP=176;ExcessHet=3.0103;FS=1.424;MLEAC=1;MLEAF=0.500;MQ=58.19;MQRankSum=-2.176e+00;QD=7.34;ReadPosRankSum=1.12;SOR=0.834', 'GT:AD:DP:GQ:PGT:PID:PL', '0/1:137,39:176:99:0|1:25671271_A_G:1329,0,5654'], ['chr13', '25671292', '25671292', 'C', 'T', 'exonic', 'PABPC3', '.', 'nonsynonymous SNV', 'PABPC3:NM_030979:exon1:c.C956T:p.T319I', 'exonic', 'ENSG00000151846', '.', 'nonsynonymous SNV', 'ENSG00000151846:ENST00000281589:exon1:c.C956T:p.T319I', '.', '0', '0', '0', '0', '0', '0', '0', '0', '0', '0', '0', '0', '0', '0', '0', '0', '0', 'rs80261016', '0.002', 'D', '0.726', 'P', '0.45', 'P', '0.000', 'U', '1.000', 'D', '0.935', 'L', '2.36', 'T', '-4.66', 'D', '0.409', '5.492', '26.2', '0.997', '0.632', 'D', '-1.090', 'T', '0.034', 'T', '0.706', '0', '0.875', '0.542', '0.314', '0.998', '0.950', '7.549', '.', '.', '.', '.', '.', '.', '.', '.', '.', '.', '.', '.', '.', '.', '.', '.', '.', '.', '.', '.', '.', '.', '.', '.', '.', '.', '.', '.', '.', '.', '.', '.', '.', '.', '.', '.', '.', '.', '.', '.', '.', '.', '.', '.', '.', '.', '.', '.', '.', '.', '.', '.', '.', '.', '.', '.', '.', '.', '.', '.', '.', '.', '.', '.', '.', '0.158', '0.5', '827.77', '180', 'chr13', '25671292', 'rs80261016', 'C', 'T', '827.77', '.', 'AC=1;AF=0.500;AN=2;BaseQRankSum=-5.750e-01;ClippingRankSum=0.273;DB;DP=180;ExcessHet=3.0103;FS=0.619;MLEAC=1;MLEAF=0.500;MQ=57.66;MQRankSum=-4.065e+00;QD=4.60;ReadPosRankSum=-1.830e-01;SOR=0.801', 'GT:AD:DP:GQ:PL', '0/1:131,49:180:99:856,0,2830'], ['chr13', '25671333', '25671333', 'A', '-', 'exonic', 'PABPC3', '.', 'frameshift deletion', 'PABPC3:NM_030979:exon1:c.997delA:p.K333fs', 'exonic', 'ENSG00000151846', '.', 'frameshift deletion', 'ENSG00000151846:ENST00000281589:exon1:c.997delA:p.K333fs', '.', '.', '.', '.', '.', '.', '.', '.', '.', '0', '0', '0', '0', '0', '0', '0', '0', '0', 'rs371570689', '.', '.', '.', '.', '.', '.', '.', '.', '.', '.', '.', '.', '.', '.', '.', '.', '.', '.', '.', '.', '.', '.', '.', '.', '.', '.', '.', '.', '.', '.', '.', '.', '.', '.', '.', '.', '.', '.', '.', '.', '.', '.', '.', '.', '.', '.', '.', '.', '.', '.', '.', '.', '.', '.', '.', '.', '.', '.', '.', '.', '.', '.', '.', '.', '.', '.', '.', '.', '.', '.', '.', '.', '.', '.', '.', '.', '.', '.', '.', '.', '.', '.', '.', '.', '.', '.', '.', '.', '.', '.', '.', '.', '.', '.', '.', '.', '.', '.', '.', '.', '0.5', '1030.73', '159', 'chr13', '25671332', 'rs371570689', 'CA', 'C', '1030.73', '.', 'AC=1;AF=0.500;AN=2;BaseQRankSum=-2.360e+00;ClippingRankSum=1.32;DB;DP=168;ExcessHet=3.0103;FS=1.442;MLEAC=1;MLEAF=0.500;MQ=56.53;MQRankSum=-3.140e+00;QD=6.48;ReadPosRankSum=1.27;SOR=0.814', 'GT:AD:DP:GQ:PL', '0/1:118,41:159:99:1068,0,3696'], ['chr15', '65425744', '65425744', '-', 'CGC', 'exonic', 'PDCD7', '.', 'nonframeshift insertion', 'PDCD7:NM_005707:exon1:c.375_376insGCG:p.P126delinsAP', 'exonic', 'ENSG00000090470', '.', 'nonframeshift insertion', 'ENSG00000090470:ENST00000204549:exon1:c.375_376insGCG:p.P126delinsAP', '.', '.', '.', '.', '.', '.', '.', '.', '.', '0', '.', '.', '.', '.', '.', '0', '.', '.', 'rs566766250', '.', '.', '.', '.', '.', '.', '.', '.', '.', '.', '.', '.', '.', '.', '.', '.', '.', '.', '.', '.', '.', '.', '.', '.', '.', '.', '.', '.', '.', '.', '.', '.', '.', '.', '.', '.', '.', '.', '.', '.', '.', '.', '.', '.', '.', '.', '.', '.', '.', '.', '.', '.', '.', '.', '.', '.', '.', '.', '.', '.', '.', '.', '.', '.', '.', '.', '.', '.', '.', '.', '.', '.', '.', '.', '.', '.', '.', '.', '.', '.', '.', '.', '.', '.', '.', '.', '.', '.', '.', '.', '.', '.', '.', '.', '.', '.', '.', '.', '.', '.', '1', '232.80', '6', 'chr15', '65425744', '.', 'G', 'GCGC', '232.80', '.', 'AC=2;AF=1.00;AN=2;DP=6;ExcessHet=3.0103;FS=0.000;MLEAC=2;MLEAF=1.00;MQ=60.00;QD=27.73;SOR=1.329', 'GT:AD:DP:GQ:PL', '1/1:0,6:6:18:270,18,0'], ['chr16', '1203765', '1203765', 'G', 'A', 'exonic', 'CACNA1H', '.', 'nonsynonymous SNV', 'CACNA1H:NM_001005407:exon2:c.G28A:p.E10K,CACNA1H:NM_021098:exon2:c.G28A:p.E10K', 'exonic', 'ENSG00000196557', '.', 'nonsynonymous SNV', 'ENSG00000196557:ENST00000565831:exon1:c.G28A:p.E10K,ENSG00000196557:ENST00000348261:exon2:c.G28A:p.E10K,ENSG00000196557:ENST00000358590:exon2:c.G28A:p.E10K', '.', '.', '.', '.', '.', '.', '.', '.', '.', '0', '0', '0', '0', '.', '0', '0', '0', '0', '.', '0.013', 'D', '0.953', 'P', '0.253', 'B', '0.965', 'U', '0.561', 'N', '0.895', 'L', '-4.09', 'D', '-0.63', 'N', '0.296', '5.524', '26.3', '0.999', '0.729', 'D', '0.390', 'D', '0.757', 'D', '0.652', '0', '2.88', '0.809', '0.685', '0.984', '0.978', '12.372', '.', '.', '.', '.', '.', '.', '.', '.', '.', '.', '.', '.', '.', '.', '.', '.', '.', '.', '.', '.', '.', '.', '.', '.', '.', '.', '.', '.', '.', '.', '.', '.', '.', '.', '.', '.', '.', '.', '.', '.', '.', '.', '.', '.', '.', '.', '.', '.', '.', '.', '.', '.', '.', '.', '.', '.', '.', '.', '.', '.', '.', '.', '.', '.', '.', '0.368', '0.5', '44.77', '5', 'chr16', '1203765', '.', 'G', 'A', '44.77', '.', 'AC=1;AF=0.500;AN=2;BaseQRankSum=-3.580e-01;ClippingRankSum=0.358;DP=5;ExcessHet=3.0103;FS=0.000;MLEAC=1;MLEAF=0.500;MQ=60.00;MQRankSum=0.358;QD=8.95;ReadPosRankSum=1.23;SOR=1.179', 'GT:AD:DP:GQ:PL', '0/1:2,3:5:34:73,0,34'], ['chr17', '4925852', '4925852', 'C', 'T', 'exonic', 'KIF1C', '.', 'stopgain', 'KIF1C:NM_006612:exon22:c.C2476T:p.R826X', 'exonic', 'ENSG00000129250', '.', 'stopgain', 'ENSG00000129250:ENST00000320785:exon22:c.C2476T:p.R826X', '.', '.', '.', '.', '.', '.', '.', '.', '.', '0', '0', '0', '0', '0', '0', '0', '0', '0', '.', '.', '.', '.', '.', '.', '.', '.', '.', '1', 'A', '.', '.', '.', '.', '.', '.', '.', '13.177', '41', '0.998', '0.986', 'D', '.', '.', '.', '.', '0.707', '0', '4.67', '0.871', '0.852', '0.990', '0.988', '10.194', '.', '.', '.', '.', '.', '.', '.', '.', '.', '.', '.', '.', '.', '.', '.', '.', '.', '.', '.', '.', '.', '.', '.', '.', '.', '.', '.', '.', '.', '.', '.', '.', '.', '.', '.', '.', '.', '.', '.', '.', '.', '.', '.', '.', '.', '.', '.', '.', '.', '.', '.', '.', '.', '.', '.', '.', '.', '.', '.', '.', '.', '.', '.', '.', '.', '.', '0.5', '1278.77', '130', 'chr17', '4925852', '.', 'C', 'T', '1278.77', '.', 'AC=1;AF=0.500;AN=2;BaseQRankSum=-1.280e+00;ClippingRankSum=1.76;DP=130;ExcessHet=3.0103;FS=0.651;MLEAC=1;MLEAF=0.500;MQ=60.00;MQRankSum=0.237;QD=9.84;ReadPosRankSum=0.317;SOR=0.760', 'GT:AD:DP:GQ:PL', '0/1:65,65:130:99:1307,0,1359'], ['chr19', '1154196', '1154196', 'G', 'A', 'exonic', 'SBNO2', '.', 'nonsynonymous SNV', 'SBNO2:NM_014963:exon2:c.C80T:p.P27L', 'exonic', 'ENSG00000064932', '.', 'nonsynonymous SNV', 'ENSG00000064932:ENST00000361757:exon2:c.C80T:p.P27L,ENSG00000064932:ENST00000587024:exon2:c.C80T:p.P27L,ENSG00000064932:ENST00000587655:exon2:c.C80T:p.P27L,ENSG00000064932:ENST00000590176:exon2:c.C80T:p.P27L,ENSG00000064932:ENST00000590998:exon2:c.C80T:p.P27L', '.', '.', '.', '.', '.', '.', '.', '.', '.', '0', '0', '0', '0', '0', '0', '0', '0', '0', '.', '0.11', 'T', '0.001', 'B', '0.001', 'B', '.', '.', '1', 'N', '1.1', 'L', '.', '.', '-1.77', 'N', '0.184', '0.267', '5.373', '0.940', '0.007', 'N', '-1.006', 'T', '0.058', 'T', '0.696', '0', '-5.82', '0.697', '0.780', '0.012', '0.166', '1.017', '.', '.', '.', '.', '.', '.', '.', '.', '.', '.', '.', '.', '.', '.', '.', '.', '.', '.', '.', '.', '.', '.', '.', '.', '.', '.', '.', '.', '.', '.', '.', '.', '.', '.', '.', '.', '.', '.', '.', '.', '.', '.', '.', '.', '.', '.', '.', '.', '.', '.', '.', '.', '.', '.', '.', '.', '.', '.', '.', '.', '.', '.', '.', '.', '.', '0.130', '0.5', '144.77', '28', 'chr19', '1154196', '.', 'G', 'A', '144.77', '.', 'AC=1;AF=0.500;AN=2;BaseQRankSum=-1.458e+00;ClippingRankSum=0.753;DP=28;ExcessHet=3.0103;FS=0.000;MLEAC=1;MLEAF=0.500;MQ=60.00;MQRankSum=0.235;QD=5.17;ReadPosRankSum=-2.820e-01;SOR=0.743', 'GT:AD:DP:GQ:PL', '0/1:17,11:28:99:173,0,349'], ['chr19', '8999537', '8999537', 'T', 'G', 'exonic', 'MUC16', '.', 'nonsynonymous SNV', 'MUC16:NM_024690:exon56:c.A40638C:p.K13546N', 'exonic', 'ENSG00000181143', '.', 'nonsynonymous SNV', 'ENSG00000181143:ENST00000380951:exon8:c.A561C:p.K187N,ENSG00000181143:ENST00000397910:exon56:c.A40638C:p.K13546N', '.', '.', '.', '.', '.', '.', '.', '.', '.', '0', '0', '0', '0', '0', '0', '0', '0', '0', '.', '0.109', 'T', '0.971', 'D', '0.97', 'D', '.', '.', '1', 'N', '2.695', 'M', '1.47', 'T', '0.55', 'N', '0.021', '1.760', '14.75', '0.981', '0.015', 'N', '-0.857', 'T', '0.163', 'T', '0.554', '0', '-4.33', '0.991', '1.038', '0.145', '0.006', '2.694', '.', '.', '.', '.', '.', '.', '.', '.', '.', '.', '.', '.', '.', '.', '.', '.', '.', '.', '.', '.', '.', '.', '.', '.', '.', '.', '.', '.', '.', '.', '.', '.', '.', '.', '.', '.', '.', '.', '.', '.', '.', '.', '.', '.', '.', '.', '.', '.', '.', '.', '.', '.', '.', '.', '.', '.', '.', '.', '.', '.', '.', '.', '.', '.', '.', '0.125', '0.5', '420.77', '374', 'chr19', '8999537', '.', 'T', 'G', '420.77', '.', 'AC=1;AF=0.500;AN=2;BaseQRankSum=9.56;ClippingRankSum=-1.023e+00;DP=379;ExcessHet=3.0103;FS=92.534;MLEAC=1;MLEAF=0.500;MQ=59.73;MQRankSum=1.61;QD=1.13;ReadPosRankSum=1.98;SOR=7.015', 'GT:AD:DP:GQ:PGT:PID:PL', '0/1:339,35:374:99:0|1:8999503_T_TAGA:449,0,14129'], ['chrX', '118605017', '118605017', 'C', 'T', 'exonic', 'SLC25A5', '.', 'nonsynonymous SNV', 'SLC25A5:NM_001152:exon4:c.C893T:p.T298I', 'exonic', 'ENSG00000005022', '.', 'nonsynonymous SNV', 'ENSG00000005022:ENST00000317881:exon4:c.C893T:p.T298I', '.', '.', '.', '.', '.', '.', '.', '.', '.', '0', '0', '0', '0', '0', '0', '0', '0', '0', 'rs77294853', '0.057', 'T', '0.216', 'B', '0.411', 'B', '0.003', 'N', '0.813', 'D', '1.32', 'L', '-1.38', 'T', '1.39', 'N', '0.197', '5.730', '26.9', '0.998', '0.858', 'D', '-0.285', 'T', '0.428', 'T', '.', '.', '5.16', '0.868', '0.934', '1.000', '0.999', '10.562', 'Benign', 'not_specified', 'RCV000203197.1', 'MedGen', 'CN169374', '.', '.', '.', '.', '.', '.', '.', '.', '.', '.', '.', '.', '.', '.', '.', '.', '.', '.', '.', '.', '.', '.', '.', '.', '.', '.', '.', '.', '.', '.', '.', '.', '.', '.', '.', '.', '.', '.', '.', '.', '.', '.', '.', '.', '.', '.', '.', '.', '.', '.', '.', '.', '.', '.', '.', '.', '.', '.', '.', '.', '0.239', '0.5', '76.77', '9', 'chrX', '118605017', 'rs77294853', 'C', 'T', '76.77', '.', 'AC=1;AF=0.500;AN=2;BaseQRankSum=-1.422e+00;ClippingRankSum=-5.730e-01;DB;DP=9;ExcessHet=3.0103;FS=0.000;MLEAC=1;MLEAF=0.500;MQ=58.28;MQRankSum=-1.422e+00;QD=8.53;ReadPosRankSum=0.248;SOR=0.593', 'GT:AD:DP:GQ:PGT:PID:PL', '0/1:6,3:9:99:0|1:118605012_G_C:105,0,278']]\n",
      "========================================================\n",
      "['NBPF19', 'ACTR3', 'HNRNPA3', 'ZNF717', 'OR5H14', 'MUC4', 'WDR27', 'ZNF705G', 'OTOG', 'PABPC3', 'PDCD7', 'CACNA1H', 'KIF1C', 'SBNO2', 'MUC16', 'SLC25A5']\n",
      "Done\n"
     ]
    }
   ],
   "source": [
    "rows, functions,exfunc, rs,gene, exacall, gnomall, pathogenics, muttype = load_annovar('sp82.hg19_multianno.txt')\n",
    "count = 0\n",
    "print ('Starting ....')\n",
    "outfile = 'sp82.raremaf.filtered.txt'\n",
    "sp82_raremaf_genes = []\n",
    "sp82_raremaf_variants = [] \n",
    "print (cutoff)\n",
    "for i in range(0,len(exacall) ): \n",
    "    if ( (gnomall[i] != '.') and   (exacall[i] !='.' ) ) :\n",
    "        if (  (float(gnomall[i]) < cutoff) and (float(exacall[i]) < cutoff)   and (functions[i] =='exonic') and ( muttype[i] != 'synonymous SNV' )): \n",
    "            count += 1 \n",
    "            writelist(rows[i], outfile)\n",
    "            print(rs[i], gene[i], exacall[i],gnomall[i], muttype[i]) \n",
    "            if gene[i] not in sp82_raremaf_genes: \n",
    "                    sp82_raremaf_genes.append(gene[i])\n",
    "            sp82_raremaf_variants.append(rows[i])\n",
    "            #var = rs[i] + '.' + gene[i] +'.' +exacall[i] +'.'+ gnomall[i]        \n",
    "            #if var not in sp82_raremaf_variants: \n",
    "                #sp82_raremaf_variants.append(var)\n",
    "    elif ( (gnomall[i]=='.') and (exacall[i].isdigit())):\n",
    "           print(gnomall[i])\n",
    "           if ((float(exacall[i]) < cutoff)and (functions[i] =='exonic')  and ( muttype[i] != 'synonymous SNV' )): \n",
    "                count += 1 \n",
    "                writelist(rows[i], outfile)\n",
    "                print(rs[i], gene[i], exacall[i],gnomall[i], muttype[i])\n",
    "                if gene[i] not in sp82_raremaf_genes: \n",
    "                        sp82_raremaf_genes.append(gene[i])\n",
    "                sp82_raremaf_variants.append(rows[i])\n",
    "                #var = rs[i] + '.' + gene[i] +'.' +exacall[i] +'.'+ gnomall[i]\n",
    "                #if var not in sp82_raremaf_variants: \n",
    "                    #sp82_raremaf_variants.append(var)\n",
    "           \n",
    "    elif (( exacall[i]=='.') and   (gnomall[i].isdigit())): \n",
    "            print(exacall[i])\n",
    "            if( (float (gnomall[i]) < cutoff)  and (functions[i] =='exonic') and  ( muttype[i] != 'synonymous SNV' )): \n",
    "                count += 1 \n",
    "                writelist(rows[i], outfile)\n",
    "                print(rs[i], gene[i], exacall[i],gnomall[i], muttype[i])\n",
    "                if gene[i] not in  sp82_raremaf_genes: \n",
    "                         sp82_raremaf_genes.append(gene[i])\n",
    "                sp82_raremaf_variants.append(rows[i])       \n",
    "                #var = rs[i] + '.' + gene[i] +'.' +exacall[i] +'.'+ gnomall[i]\n",
    "                #if var not in sp82_raremaf_variants: \n",
    "                    #sp82_raremaf_variants.append(var)\n",
    "print ('We reached printing stage')\n",
    "print ('Number of variants with gnomall and/or exac <', cutoff, 'is:',count)\n",
    "print (sp82_raremaf_variants)\n",
    "print('========================================================')\n",
    "print(sp82_raremaf_genes)\n",
    "print('Done')"
   ]
  },
  {
   "cell_type": "code",
   "execution_count": null,
   "metadata": {
    "collapsed": true,
    "deletable": true,
    "editable": true
   },
   "outputs": [],
   "source": []
  }
 ],
 "metadata": {
  "anaconda-cloud": {},
  "kernelspec": {
   "display_name": "Python 2",
   "language": "python",
   "name": "python2"
  },
  "language_info": {
   "codemirror_mode": {
    "name": "ipython",
    "version": 2
   },
   "file_extension": ".py",
   "mimetype": "text/x-python",
   "name": "python",
   "nbconvert_exporter": "python",
   "pygments_lexer": "ipython2",
   "version": "2.7.12"
  }
 },
 "nbformat": 4,
 "nbformat_minor": 1
}
