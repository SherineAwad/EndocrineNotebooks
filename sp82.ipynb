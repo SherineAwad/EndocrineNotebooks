{
 "cells": [
  {
   "cell_type": "code",
   "execution_count": 1,
   "metadata": {
    "collapsed": true,
    "deletable": true,
    "editable": true
   },
   "outputs": [],
   "source": [
    "import csv\n",
    "import sys\n",
    "import re\n",
    "import matplotlib.pyplot as plt\n",
    "import numpy as np"
   ]
  },
  {
   "cell_type": "markdown",
   "metadata": {
    "deletable": true,
    "editable": true
   },
   "source": [
    "# Cutoff for rare variants "
   ]
  },
  {
   "cell_type": "code",
   "execution_count": 2,
   "metadata": {
    "collapsed": true,
    "deletable": true,
    "editable": true
   },
   "outputs": [],
   "source": [
    "cutoff  = 0.00001"
   ]
  },
  {
   "cell_type": "code",
   "execution_count": 3,
   "metadata": {
    "collapsed": true,
    "deletable": true,
    "editable": true
   },
   "outputs": [],
   "source": [
    "def writelist (mylist, myfile): \n",
    "    fp =  open(myfile,'a+')\n",
    "    for idx,item in enumerate(mylist):\n",
    "            fp.write(item)\n",
    "            fp.write('\\t')\n",
    "    fp.write('\\n')\n",
    "    fp.close()"
   ]
  },
  {
   "cell_type": "code",
   "execution_count": 4,
   "metadata": {
    "collapsed": true,
    "deletable": true,
    "editable": true
   },
   "outputs": [],
   "source": [
    "def intersections(list1, list2):\n",
    "    intersection_list = []\n",
    "    for i in list1: \n",
    "        if i in list2: \n",
    "                intersection_list.append(i)\n",
    "    return intersection_list"
   ]
  },
  {
   "cell_type": "code",
   "execution_count": 5,
   "metadata": {
    "collapsed": true,
    "deletable": true,
    "editable": true
   },
   "outputs": [],
   "source": [
    "def intersections3(list1, list2, list3):\n",
    "    intersection_list = []\n",
    "    for i in list1: \n",
    "        if i in list2: \n",
    "                if i in list3:\n",
    "                    intersection_list.append(i)\n",
    "    return intersection_list"
   ]
  },
  {
   "cell_type": "code",
   "execution_count": 6,
   "metadata": {
    "collapsed": true,
    "deletable": true,
    "editable": true
   },
   "outputs": [],
   "source": [
    "def intersections2n(list1, list2, list3):\n",
    "    intersection_list = []\n",
    "    nlist = [] \n",
    "    for i in list1: \n",
    "        if i in list2: \n",
    "                intersection_list.append(i)\n",
    "    for i in intersection_list:\n",
    "            if i not in list3:\n",
    "                    nlist.append(i)\n",
    "    for i in nlist: \n",
    "            print (i)\n",
    "    return intersection_list"
   ]
  },
  {
   "cell_type": "code",
   "execution_count": 7,
   "metadata": {
    "collapsed": true,
    "deletable": true,
    "editable": true
   },
   "outputs": [],
   "source": [
    "def intersections3n(list1, list2, list3, list4):\n",
    "    intersection_list = []\n",
    "    nlist = []\n",
    "    for i in list1 : \n",
    "        if i in list2 : \n",
    "            if i in list3 :\n",
    "                intersection_list.append(i)\n",
    "    for i in intersection_list:\n",
    "            if i not in list4:\n",
    "                    nlist.append(i)\n",
    "    for i in nlist: \n",
    "            print (i)\n",
    "    return nlist"
   ]
  },
  {
   "cell_type": "code",
   "execution_count": 8,
   "metadata": {
    "collapsed": true,
    "deletable": true,
    "editable": true
   },
   "outputs": [],
   "source": [
    "def difference(list1, list2):\n",
    "    unique_list = []\n",
    "    for i in list1: \n",
    "        if i not in list2: \n",
    "                unique_list.append(i)\n",
    "    return unique_list"
   ]
  },
  {
   "cell_type": "code",
   "execution_count": 9,
   "metadata": {
    "collapsed": true,
    "deletable": true,
    "editable": true
   },
   "outputs": [],
   "source": [
    "def difference2(list1, list2, list3):\n",
    "    unique_list = []\n",
    "    for i in list1: \n",
    "        if i not in list2 and i not in list3: \n",
    "                unique_list.append(i)\n",
    "    return unique_list"
   ]
  },
  {
   "cell_type": "code",
   "execution_count": 10,
   "metadata": {
    "collapsed": true,
    "deletable": true,
    "editable": true
   },
   "outputs": [],
   "source": [
    "def difference3(list1, list2, list3):\n",
    "    unique_list = []\n",
    "    for i in list1: \n",
    "        if i in list2: \n",
    "            if i not in list3: \n",
    "                unique_list.append(i)\n",
    "    return unique_list"
   ]
  },
  {
   "cell_type": "code",
   "execution_count": 11,
   "metadata": {
    "collapsed": true,
    "deletable": true,
    "editable": true
   },
   "outputs": [],
   "source": [
    "def exist (list1, list2): \n",
    "    found_list = []\n",
    "    for i in list1: \n",
    "            if i not in found_list: \n",
    "                    found_list.append(i)\n",
    "    for i in list2: \n",
    "            if i not in found_list: \n",
    "                    found_list.append(i)\n",
    "    return found_list "
   ]
  },
  {
   "cell_type": "markdown",
   "metadata": {
    "deletable": true,
    "editable": true
   },
   "source": [
    "# Read annovar annotation file"
   ]
  },
  {
   "cell_type": "code",
   "execution_count": 12,
   "metadata": {
    "collapsed": true,
    "deletable": true,
    "editable": true
   },
   "outputs": [],
   "source": [
    " def load_annovar(filename):\n",
    "    rows = []\n",
    "    exacall = []\n",
    "    gnomall = []\n",
    "    rs = []\n",
    "    gene = []\n",
    "    pathogenics = []\n",
    "    functions = []\n",
    "    exonicfunctions =[]\n",
    "    muttype = []\n",
    "    fp = open(filename, 'r')\n",
    "    r = csv.reader(fp, delimiter='\\t')\n",
    "    for n, row in enumerate(r):\n",
    "        #rs ,pos,_,ensg,_, enst,_,_,_,_,_,_,_,impact =row[:14]\n",
    "        if n == 0: \n",
    "                print (row[8])\n",
    "                print(row[16])\n",
    "                print(row[124])\n",
    "                print(row[24])\n",
    "                print(row[6])\n",
    "                print (row[5])\n",
    "                print(row[59])\n",
    "            \n",
    "                continue\n",
    "        exonicfunctions.append(row[8])\n",
    "        muttype.append(row[13])\n",
    "        exacall.append(row[16])\n",
    "        #gnomall.append(row[124])\n",
    "        gnomall.append(row[24])\n",
    "        #rs.append(row[24])\n",
    "        rs.append(row[139])\n",
    "        rows.append(row)\n",
    "        gene.append(row[6])\n",
    "        functions.append(row[5])\n",
    "        pathogenics.append(row[59])\n",
    "    return rows, functions, exonicfunctions, rs, gene,  exacall , gnomall, pathogenics, muttype"
   ]
  },
  {
   "cell_type": "code",
   "execution_count": 13,
   "metadata": {
    "collapsed": false,
    "deletable": true,
    "editable": true
   },
   "outputs": [
    {
     "name": "stdout",
     "output_type": "stream",
     "text": [
      "ExonicFunc.refGene\n",
      "ExAC_ALL\n",
      "Examined_samples\n",
      "gnomAD_exome_ALL\n",
      "Gene.refGene\n",
      "Func.refGene\n",
      "MetaLR_pred\n",
      "Starting ....\n",
      "1e-05\n",
      ".\n",
      "('rs183933394', 'NBPF19', '0', '0', 'nonsynonymous SNV')\n",
      ".\n",
      ".\n",
      ".\n",
      ".\n",
      ".\n",
      "('.', 'IGFN1', '8.262e-06', '4.063e-06', 'nonsynonymous SNV')\n",
      "('.', 'LIMS1', '8.319e-06', '0', 'nonsynonymous SNV')\n",
      "('.', 'ACTR3', '0', '0', 'nonsynonymous SNV')\n",
      ".\n",
      ".\n",
      "('.', 'HNRNPA3', '.', '0', 'nonsynonymous SNV')\n",
      "('.', 'FSIP2', '8.441e-06', '4.387e-06', 'nonsynonymous SNV')\n",
      ".\n",
      ".\n",
      "('.', 'ZNF717', '.', '0', 'nonframeshift insertion')\n",
      ".\n",
      "('.', 'OR5H14', '.', '0', 'nonsynonymous SNV')\n",
      "('.', 'YEATS2', '8.284e-06', '8.124e-06', 'nonsynonymous SNV')\n",
      "('.', 'EIF4G1', '8.237e-06', '4.061e-06', 'nonsynonymous SNV')\n",
      ".\n",
      "('.', 'MUC4', '.', '0', 'nonframeshift insertion')\n",
      ".\n",
      ".\n",
      "('.', 'KIAA1211', '8.769e-06', '8.328e-06', 'nonsynonymous SNV')\n",
      ".\n",
      "('rs142488738', 'WDR27', '0', '0', 'nonsynonymous SNV')\n",
      "('rs146778012', 'WDR27', '0', '0', 'nonsynonymous SNV')\n",
      "('.', 'DNAH11', '8.299e-06', '4.068e-06', 'nonsynonymous SNV')\n",
      ".\n",
      ".\n",
      ".\n",
      "('.', 'PRSS1', '8.238e-06', '4.061e-06', 'nonsynonymous SNV')\n",
      "('.', 'MYOM2', '8.238e-06', '8.123e-06', 'nonsynonymous SNV')\n",
      ".\n",
      "('.', 'ZNF705G', '.', '0', 'nonsynonymous SNV')\n",
      ".\n",
      ".\n",
      "('.', 'SFMBT2', '8.293e-06', '8.128e-06', 'nonsynonymous SNV')\n",
      "('.', 'DHTKD1', '8.384e-06', '4.074e-06', 'nonsynonymous SNV')\n",
      ".\n",
      "('.', 'OR51T1', '8.25e-06', '8.138e-06', 'nonsynonymous SNV')\n",
      ".\n",
      "('.', 'OTOG', '.', '0', 'nonsynonymous SNV')\n",
      "('.', 'MFRP', '8.381e-06', '4.11e-06', 'nonsynonymous SNV')\n",
      ".\n",
      "('.', 'TAS2R46', '8.29e-06', '4.065e-06', 'nonsynonymous SNV')\n",
      "('.', 'TAS2R46', '8.289e-06', '4.065e-06', 'nonsynonymous SNV')\n",
      ".\n",
      "('.', 'C12orf43', '8.237e-06', '4.061e-06', 'nonsynonymous SNV')\n",
      ".\n",
      "('rs79246694', 'PABPC3', '.', '0', 'nonsynonymous SNV')\n",
      ".\n",
      "('rs376589131', 'PABPC3', '.', '0', 'frameshift deletion')\n",
      "('rs80261016', 'PABPC3', '0', '0', 'nonsynonymous SNV')\n",
      ".\n",
      "('rs371570689', 'PABPC3', '.', '0', 'frameshift deletion')\n",
      ".\n",
      "('.', 'PDCD7', '.', '0', 'nonframeshift insertion')\n",
      "('.', 'ZSCAN2', '8.238e-06', '4.086e-06', 'nonsynonymous SNV')\n",
      ".\n",
      "('.', 'CACNA1H', '.', '0', 'nonsynonymous SNV')\n",
      "('.', 'ZSCAN10', '9.044e-06', '4.351e-06', 'nonsynonymous SNV')\n",
      ".\n",
      "('.', 'RIPOR1', '8.256e-06', '8.168e-06', 'nonsynonymous SNV')\n",
      ".\n",
      "('.', 'KIF1C', '.', '0', 'stopgain')\n",
      "('.', 'FAM222B', '8.375e-06', '4.098e-06', 'frameshift deletion')\n",
      ".\n",
      ".\n",
      "('.', 'KPNA2', '8.242e-06', '0', 'nonsynonymous SNV')\n",
      ".\n",
      "('.', 'SBNO2', '.', '0', 'nonsynonymous SNV')\n",
      ".\n",
      ".\n",
      "('.', 'MUC16', '.', '0', 'nonsynonymous SNV')\n",
      ".\n",
      "('.', 'NUDT19', '0', '8.177e-06', 'nonsynonymous SNV')\n",
      ".\n",
      ".\n",
      "('rs201787580', 'RLIM', '0', '5.638e-06', 'nonsynonymous SNV')\n",
      ".\n",
      "('rs77294853', 'SLC25A5', '.', '0', 'nonsynonymous SNV')\n",
      ".\n",
      "We reached printing stage\n",
      "('Number of variants with gnomall and/or exac <', 1e-05, 'is:', 43)\n",
      "[['chr1', '145360608', '145360608', 'T', 'A', 'exonic', 'NBPF19', '.', 'nonsynonymous SNV', 'NBPF19:NM_001351365:exon69:c.T8414A:p.L2805Q', 'exonic', 'ENSG00000163386', '.', 'nonsynonymous SNV', 'ENSG00000163386:ENST00000342960:exon74:c.T9233A:p.L3078Q', '.', '0', '0', '0', '0', '0', '0', '0', '0', '0', '0', '0', '0', '0', '0', '0', '0', '0', 'rs183933394', '.', '.', '0.984', 'D', '0.902', 'P', '.', '.', '1', 'N', '2.98', 'M', '.', '.', '.', '.', '0.083', '3.592', '23.2', '0.961', '0.028', 'N', '-1.101', 'T', '0.056', 'T', '0.615', '0', '1.08', '.', '.', '.', '.', '4.434', '.', '.', '.', '.', '.', '.', '.', '.', '.', '.', '.', '.', '.', '.', '.', '.', '.', '.', '.', '.', '.', '.', '.', '.', '.', '.', '.', '.', '.', '.', '.', '.', '.', '.', '.', '.', '.', '.', '.', '.', '.', '.', '.', '.', '.', '.', '.', '.', '.', '.', '.', '.', '.', '.', '.', '.', '.', '.', '.', '.', '.', '.', '.', '.', '.', '0.053', '0.5', '77.77', '14', 'chr1', '145360608', 'rs183933394', 'T', 'A', '77.77', '.', 'AC=1;AF=0.500;AN=2;BaseQRankSum=1.49;ClippingRankSum=2.00;DB;DP=14;ExcessHet=3.0103;FS=0.000;MLEAC=1;MLEAF=0.500;MQ=41.24;MQRankSum=-1.097e+00;QD=5.55;ReadPosRankSum=-2.517e+00;SOR=0.693', 'GT:AD:DP:GQ:PL', '0/1:8,6:14:99:106,0,156'], ['chr1', '201186482', '201186482', 'G', 'T', 'exonic', 'IGFN1', '.', 'nonsynonymous SNV', 'IGFN1:NM_001164586:exon17:c.G9663T:p.W3221C', 'exonic', 'ENSG00000163395', '.', 'nonsynonymous SNV', 'ENSG00000163395:ENST00000295591:exon17:c.G1143T:p.W381C,ENSG00000163395:ENST00000335211:exon17:c.G9663T:p.W3221C', '.', '8.262e-06', '0', '8.645e-05', '0', '0', '0', '0', '0', '4.063e-06', '0', '2.978e-05', '0', '0', '0', '0', '0', '0', 'rs759675612', '0.0', 'D', '1.0', 'D', '0.999', 'D', '0.000', 'D', '1', 'D', '4.345', 'H', '-1.82', 'D', '-13.0', 'D', '0.949', '5.230', '25.6', '0.975', '0.992', 'D', '1.018', 'D', '0.859', 'D', '0.497', '0', '4.68', '0.917', '0.953', '0.987', '0.038', '15.786', '.', '.', '.', '.', '.', '.', '.', '.', '.', '.', '.', '.', '.', '.', '.', '.', '.', '.', '.', '.', '.', '.', '.', '.', '.', '.', '.', '.', '.', '.', '.', '.', '.', '.', '.', '.', '.', '.', '.', '.', '.', '.', '.', '.', '.', '.', '.', '.', '.', '.', '.', '.', '.', '.', '.', '.', '.', '.', '.', '.', '.', '.', '.', '.', '.', '0.809', '0.5', '989.77', '101', 'chr1', '201186482', '.', 'G', 'T', '989.77', '.', 'AC=1;AF=0.500;AN=2;BaseQRankSum=-9.020e-01;ClippingRankSum=-1.740e-01;DP=101;ExcessHet=3.0103;FS=0.745;MLEAC=1;MLEAF=0.500;MQ=60.00;MQRankSum=1.77;QD=9.80;ReadPosRankSum=1.84;SOR=0.578', 'GT:AD:DP:GQ:PL', '0/1:47,54:101:99:1018,0,902'], ['chr2', '109276192', '109276192', 'A', 'G', 'exonic', 'LIMS1', '.', 'nonsynonymous SNV', 'LIMS1:NM_001193482:exon2:c.A140G:p.Q47R,LIMS1:NM_001193483:exon2:c.A164G:p.Q55R,LIMS1:NM_001193484:exon2:c.A239G:p.Q80R,LIMS1:NM_001193485:exon2:c.A314G:p.Q105R,LIMS1:NM_001193488:exon2:c.A128G:p.Q43R,LIMS1:NM_004987:exon2:c.A128G:p.Q43R', 'exonic', 'ENSG00000169756', '.', 'nonsynonymous SNV', 'ENSG00000169756:ENST00000332345:exon2:c.A128G:p.Q43R,ENSG00000169756:ENST00000338045:exon2:c.A128G:p.Q43R,ENSG00000169756:ENST00000393310:exon2:c.A128G:p.Q43R,ENSG00000169756:ENST00000393314:exon2:c.A314G:p.Q105R,ENSG00000169756:ENST00000409441:exon2:c.A239G:p.Q80R,ENSG00000169756:ENST00000410093:exon2:c.A140G:p.Q47R,ENSG00000169756:ENST00000414829:exon2:c.A128G:p.Q43R,ENSG00000169756:ENST00000422797:exon2:c.A239G:p.Q80R,ENSG00000169756:ENST00000428064:exon2:c.A164G:p.Q55R,ENSG00000169756:ENST00000542845:exon2:c.A314G:p.Q105R,ENSG00000169756:ENST00000544547:exon2:c.A164G:p.Q55R', '.', '8.319e-06', '0', '0', '0', '0', '0', '0.0011', '0', '0', '0', '0', '0', '0', '0', '0', '0', '0', 'rs762416404', '0.961', 'T', '0.018', 'B', '0.028', 'B', '0.048', 'N', '1', 'D', '0.065', 'N', '-2.22', 'D', '-0.06', 'N', '0.814', '1.954', '15.92', '0.395', '0.979', 'D', '-0.578', 'T', '0.348', 'T', '0.706', '0', '4.49', '1.062', '0.163', '1.000', '0.999', '13.956', '.', '.', '.', '.', '.', '.', '.', '.', '.', '.', '.', '.', '.', '.', '.', '.', '.', '.', '.', '.', '.', '.', '.', '.', '.', '.', '.', '.', '.', '.', '.', '.', '.', '.', '.', '.', '.', '.', '.', '.', '.', '.', '.', '.', '.', '.', '.', '.', '.', '.', '.', '.', '.', '.', '.', '.', '.', '.', '.', '.', '.', '.', '.', '.', '.', '0.467', '0.5', '31.77', '10', 'chr2', '109276192', '.', 'A', 'G', '31.77', '.', 'AC=1;AF=0.500;AN=2;BaseQRankSum=0.480;ClippingRankSum=0.00;DP=10;ExcessHet=3.0103;FS=0.000;MLEAC=1;MLEAF=0.500;MQ=47.54;MQRankSum=-1.733e+00;QD=3.18;ReadPosRankSum=1.27;SOR=0.693', 'GT:AD:DP:GQ:PGT:PID:PL', '0/1:8,2:10:60:0|1:109276192_A_G:60,0,913'], ['chr2', '114647864', '114647864', 'G', 'A', 'exonic', 'ACTR3', '.', 'nonsynonymous SNV', 'ACTR3:NM_005721:exon1:c.G8A:p.G3E', 'exonic', 'ENSG00000115091', '.', 'nonsynonymous SNV', 'ENSG00000115091:ENST00000263238:exon1:c.G8A:p.G3E,ENSG00000115091:ENST00000415792:exon1:c.G8A:p.G3E,ENSG00000115091:ENST00000443297:exon1:c.G8A:p.G3E,ENSG00000115091:ENST00000446821:exon1:c.G8A:p.G3E', '.', '0', '0', '0', '0', '0', '0', '0', '0', '0', '0', '0', '0', '0', '0', '0', '0', '0', 'rs747580075', '0.119', 'T', '0.322', 'B', '0.224', 'B', '0.001', 'D', '1', 'D', '1.6', 'L', '-3.45', 'D', '-1.31', 'N', '0.401', '2.798', '21.4', '0.995', '0.780', 'D', '0.336', 'D', '0.741', 'D', '0.442', '0', '4.5', '0.809', '0.758', '1.000', '1.000', '14.146', '.', '.', '.', '.', '.', '.', '.', '.', '.', '.', '.', '.', '.', '.', '.', '.', '.', '.', '.', '.', '.', '.', '.', '.', '.', '.', '.', '.', '.', '.', '.', '.', '.', '.', '.', '.', '.', '.', '.', '.', '.', '.', '.', '.', '.', '.', '.', '.', '.', '.', '.', '.', '.', '.', '.', '.', '.', '.', '.', '.', '.', '.', '.', '.', '.', '0.437', '0.5', '508.77', '76', 'chr2', '114647864', '.', 'G', 'A', '508.77', '.', 'AC=1;AF=0.500;AN=2;BaseQRankSum=0.338;ClippingRankSum=-9.410e-01;DP=76;ExcessHet=3.0103;FS=0.000;MLEAC=1;MLEAF=0.500;MQ=60.00;MQRankSum=-1.543e+00;QD=6.69;ReadPosRankSum=-2.209e+00;SOR=0.789', 'GT:AD:DP:GQ:PL', '0/1:45,31:76:99:537,0,885'], ['chr2', '178080775', '178080775', 'G', 'A', 'exonic', 'HNRNPA3', '.', 'nonsynonymous SNV', 'HNRNPA3:NM_001330247:exon4:c.G346A:p.E116K,HNRNPA3:NM_001330248:exon4:c.G346A:p.E116K,HNRNPA3:NM_001330249:exon4:c.G412A:p.E138K,HNRNPA3:NM_001330250:exon4:c.G412A:p.E138K,HNRNPA3:NM_001330251:exon4:c.G412A:p.E138K,HNRNPA3:NM_194247:exon4:c.G412A:p.E138K', 'exonic', 'ENSG00000170144', '.', 'nonsynonymous SNV', 'ENSG00000170144:ENST00000392524:exon4:c.G412A:p.E138K,ENSG00000170144:ENST00000411529:exon4:c.G346A:p.E116K,ENSG00000170144:ENST00000435711:exon4:c.G412A:p.E138K', '.', '.', '.', '.', '.', '.', '.', '.', '.', '0', '0', '0', '0', '0', '0', '0', '0', '0', '.', '0.039', 'D', '0.791', 'P', '0.486', 'P', '0.000', 'D', '1', 'D', '0.745', 'N', '-0.8', 'T', '-2.83', 'D', '0.614', '6.796', '32', '0.998', '0.980', 'D', '-0.428', 'T', '0.305', 'T', '0.722', '0', '4.11', '0.917', '0.978', '1.000', '0.996', '16.731', '.', '.', '.', '.', '.', '.', '.', '.', '.', '.', '.', '.', '.', '.', '.', '.', '.', '.', '.', '.', '.', '.', '.', '.', '.', '.', '.', '.', '.', '.', '.', '.', '.', '.', '.', '.', '.', '.', '.', '.', '.', '.', '.', '.', '.', '.', '.', '.', '.', '.', '.', '.', '.', '.', '.', '.', '.', '.', '.', '.', '.', '.', '.', '.', '.', '0.447', '0.5', '40.77', '7', 'chr2', '178080775', '.', 'G', 'A', '40.77', '.', 'AC=1;AF=0.500;AN=2;BaseQRankSum=-9.220e-01;ClippingRankSum=0.922;DP=7;ExcessHet=3.0103;FS=0.000;MLEAC=1;MLEAF=0.500;MQ=52.57;MQRankSum=-9.220e-01;QD=5.82;ReadPosRankSum=0.198;SOR=0.446', 'GT:AD:DP:GQ:PGT:PID:PL', '0/1:5,2:7:69:0|1:178080775_G_A:69,0,238'], ['chr2', '186670082', '186670082', 'A', 'C', 'exonic', 'FSIP2', '.', 'nonsynonymous SNV', 'FSIP2:NM_173651:exon17:c.A16049C:p.K5350T', 'exonic', 'ENSG00000188738', '.', 'nonsynonymous SNV', 'ENSG00000188738:ENST00000343098:exon17:c.A16316C:p.K5439T,ENSG00000188738:ENST00000424728:exon17:c.A16049C:p.K5350T', '.', '8.441e-06', '0.0001', '0', '0', '0', '0', '0', '0', '4.387e-06', '6.719e-05', '0', '0', '0', '0', '0', '0', '0', 'rs771051922', '0.004', 'D', '.', '.', '.', '.', '.', '.', '1.000', 'N', '0.805', 'L', '0.68', 'T', '-4.77', 'D', '0.296', '4.084', '23.7', '0.993', '0.212', 'N', '-0.997', 'T', '0.098', 'T', '0.487', '0', '2.77', '1.062', '1.140', '0.892', '0.912', '5.664', '.', '.', '.', '.', '.', '.', '.', '.', '.', '.', '.', '.', '.', '.', '.', '.', '.', '.', '.', '.', '.', '.', '.', '.', '.', '.', '.', '.', '.', '.', '.', '.', '.', '.', '.', '.', '.', '.', '.', '.', '.', '.', '.', '.', '.', '.', '.', '.', '.', '.', '.', '.', '.', '.', '.', '.', '.', '.', '.', '.', '.', '.', '.', '.', '.', '0.049', '0.5', '1848.77', '145', 'chr2', '186670082', '.', 'A', 'C', '1848.77', '.', 'AC=1;AF=0.500;AN=2;BaseQRankSum=-1.164e+00;ClippingRankSum=1.39;DP=146;ExcessHet=3.0103;FS=0.000;MLEAC=1;MLEAF=0.500;MQ=60.00;MQRankSum=-5.300e-01;QD=12.75;ReadPosRankSum=0.611;SOR=0.644', 'GT:AD:DP:GQ:PL', '0/1:54,91:145:99:1877,0,939'], ['chr3', '75790876', '75790876', '-', 'GATGCCAACTCCTGTAATGATAGCAGGCTGTTATAAGTCTCCAGCATCACATCCCTGTACAGGGTCCTCTGAGCATTATCCAGGTCCTGCCACTCCTCCCAGGTGAAGTGCACAGCAACATCTTCAAAA', 'exonic', 'ZNF717', '.', 'nonframeshift insertion', 'ZNF717:NM_001128223:exon3:c.68_69insTTTTGAAGATGTTGCTGTGCACTTCACCTGGGAGGAGTGGCAGGACCTGGATAATGCTCAGAGGACCCTGTACAGGGATGTGATGCTGGAGACTTATAACAGCCTGCTATCATTACAGGAGTTGGCATC:p.S23delinsSFEDVAVHFTWEEWQDLDNAQRTLYRDVMLETYNSLLSLQELAS,ZNF717:NM_001290208:exon3:c.68_69insTTTTGAAGATGTTGCTGTGCACTTCACCTGGGAGGAGTGGCAGGACCTGGATAATGCTCAGAGGACCCTGTACAGGGATGTGATGCTGGAGACTTATAACAGCCTGCTATCATTACAGGAGTTGGCATC:p.S23delinsSFEDVAVHFTWEEWQDLDNAQRTLYRDVMLETYNSLLSLQELAS,ZNF717:NM_001290210:exon3:c.68_69insTTTTGAAGATGTTGCTGTGCACTTCACCTGGGAGGAGTGGCAGGACCTGGATAATGCTCAGAGGACCCTGTACAGGGATGTGATGCTGGAGACTTATAACAGCCTGCTATCATTACAGGAGTTGGCATC:p.S23delinsSFEDVAVHFTWEEWQDLDNAQRTLYRDVMLETYNSLLSLQELAS,ZNF717:NM_001324027:exon3:c.68_69insTTTTGAAGATGTTGCTGTGCACTTCACCTGGGAGGAGTGGCAGGACCTGGATAATGCTCAGAGGACCCTGTACAGGGATGTGATGCTGGAGACTTATAACAGCCTGCTATCATTACAGGAGTTGGCATC:p.S23delinsSFEDVAVHFTWEEWQDLDNAQRTLYRDVMLETYNSLLSLQELAS,ZNF717:NM_001324028:exon3:c.47_48insTTTTGAAGATGTTGCTGTGCACTTCACCTGGGAGGAGTGGCAGGACCTGGATAATGCTCAGAGGACCCTGTACAGGGATGTGATGCTGGAGACTTATAACAGCCTGCTATCATTACAGGAGTTGGCATC:p.S16delinsSFEDVAVHFTWEEWQDLDNAQRTLYRDVMLETYNSLLSLQELAS,ZNF717:NM_001324026:exon4:c.68_69insTTTTGAAGATGTTGCTGTGCACTTCACCTGGGAGGAGTGGCAGGACCTGGATAATGCTCAGAGGACCCTGTACAGGGATGTGATGCTGGAGACTTATAACAGCCTGCTATCATTACAGGAGTTGGCATC:p.S23delinsSFEDVAVHFTWEEWQDLDNAQRTLYRDVMLETYNSLLSLQELAS', 'exonic', 'ENSG00000227124', '.', 'nonframeshift insertion', 'ENSG00000227124:ENST00000400845:exon3:c.47_48insTTTTGAAGATGTTGCTGTGCACTTCACCTGGGAGGAGTGGCAGGACCTGGATAATGCTCAGAGGACCCTGTACAGGGATGTGATGCTGGAGACTTATAACAGCCTGCTATCATTACAGGAGTTGGCATC:p.S16delinsSFEDVAVHFTWEEWQDLDNAQRTLYRDVMLETYNSLLSLQELAS,ENSG00000227124:ENST00000422325:exon3:c.68_69insTTTTGAAGATGTTGCTGTGCACTTCACCTGGGAGGAGTGGCAGGACCTGGATAATGCTCAGAGGACCCTGTACAGGGATGTGATGCTGGAGACTTATAACAGCCTGCTATCATTACAGGAGTTGGCATC:p.S23delinsSFEDVAVHFTWEEWQDLDNAQRTLYRDVMLETYNSLLSLQELAS,ENSG00000227124:ENST00000468296:exon3:c.68_69insTTTTGAAGATGTTGCTGTGCACTTCACCTGGGAGGAGTGGCAGGACCTGGATAATGCTCAGAGGACCCTGTACAGGGATGTGATGCTGGAGACTTATAACAGCCTGCTATCATTACAGGAGTTGGCATC:p.S23delinsSFEDVAVHFTWEEWQDLDNAQRTLYRDVMLETYNSLLSLQELAS,ENSG00000227124:ENST00000477374:exon3:c.68_69insTTTTGAAGATGTTGCTGTGCACTTCACCTGGGAGGAGTGGCAGGACCTGGATAATGCTCAGAGGACCCTGTACAGGGATGTGATGCTGGAGACTTATAACAGCCTGCTATCATTACAGGAGTTGGCATC:p.S23delinsSFEDVAVHFTWEEWQDLDNAQRTLYRDVMLETYNSLLSLQELAS', '.', '.', '.', '.', '.', '.', '.', '.', '.', '0', '0', '0', '0', '0', '0', '0', '0', '0', '.', '.', '.', '.', '.', '.', '.', '.', '.', '.', '.', '.', '.', '.', '.', '.', '.', '.', '.', '.', '.', '.', '.', '.', '.', '.', '.', '.', '.', '.', '.', '.', '.', '.', '.', '.', '.', '.', '.', '.', '.', '.', '.', '.', '.', '.', '.', '.', '.', '.', '.', '.', '.', '.', '.', '.', '.', '.', '.', '.', '.', '.', '.', '.', '.', '.', '.', '.', '.', '.', '.', '.', '.', '.', '.', '.', '.', '.', '.', '.', '.', '.', '.', '.', '.', '.', '.', '.', '.', '.', '.', '.', '.', '.', '.', '.', '.', '.', '.', '.', '.', '0.5', '191.77', '2', 'chr3', '75790876', '.', 'G', 'GGATGCCAACTCCTGTAATGATAGCAGGCTGTTATAAGTCTCCAGCATCACATCCCTGTACAGGGTCCTCTGAGCATTATCCAGGTCCTGCCACTCCTCCCAGGTGAAGTGCACAGCAACATCTTCAAAA', '191.77', '.', 'AC=1;AF=0.500;AN=2;DP=44;ExcessHet=3.0103;FS=0.000;MLEAC=1;MLEAF=0.500;MQ=43.10;QD=31.22;SOR=0.105', 'GT:AD:DP:GQ:PL', '0/1:2,0:2:99:220,0,150'], ['chr3', '97868749', '97868749', 'A', 'G', 'exonic', 'OR5H14', '.', 'nonsynonymous SNV', 'OR5H14:NM_001005514:exon1:c.A520G:p.I174V', 'exonic', 'ENSG00000236032', '.', 'nonsynonymous SNV', 'ENSG00000236032:ENST00000437310:exon1:c.A520G:p.I174V', '.', '.', '.', '.', '.', '.', '.', '.', '.', '0', '0', '0', '0', '0', '0', '0', '0', '0', '.', '0.106', 'T', '0.005', 'B', '0.032', 'B', '0.019', 'N', '1', 'N', '1.985', 'M', '8.61', 'T', '-0.78', 'N', '0.104', '-0.927', '0.023', '0.755', '0.011', 'N', '-0.971', 'T', '0.001', 'T', '0.487', '0', '-0.186', '0.079', '0.055', '0.700', '0.938', '5.696', '.', '.', '.', '.', '.', '.', '.', '.', '.', '.', '.', '.', '.', '.', '.', '.', '.', '.', '.', '.', '.', '.', '.', '.', '.', '.', '.', '.', '.', '.', '.', '.', '.', '.', '.', '.', '.', '.', '.', '.', '.', '.', '.', '.', '.', '.', '.', '.', '.', '.', '.', '.', '.', '.', '.', '.', '.', '.', '.', '.', '.', '.', '.', '.', '.', '0.038', '0.5', '48.77', '51', 'chr3', '97868749', '.', 'A', 'G', '48.77', '.', 'AC=1;AF=0.500;AN=2;BaseQRankSum=0.161;ClippingRankSum=0.512;DP=51;ExcessHet=3.0103;FS=3.779;MLEAC=1;MLEAF=0.500;MQ=59.64;MQRankSum=-4.820e-01;QD=0.96;ReadPosRankSum=-2.353e+00;SOR=1.268', 'GT:AD:DP:GQ:PL', '0/1:45,6:51:77:77,0,1034'], ['chr3', '183439862', '183439862', 'A', 'G', 'exonic', 'YEATS2', '.', 'nonsynonymous SNV', 'YEATS2:NM_001351369:exon5:c.A475G:p.M159V,YEATS2:NM_001351370:exon5:c.A475G:p.M159V,YEATS2:NM_001351371:exon5:c.A475G:p.M159V,YEATS2:NM_018023:exon5:c.A475G:p.M159V', 'exonic', 'ENSG00000163872', '.', 'nonsynonymous SNV', 'ENSG00000163872:ENST00000305135:exon5:c.A475G:p.M159V', '.', '8.284e-06', '0.0001', '0', '0', '0', '0', '0', '0', '8.124e-06', '0.0001', '0', '0', '0', '0', '0', '0', '0', 'rs745971391', '0.557', 'T', '0.0', 'B', '0.0', 'B', '0.279', 'N', '1', 'N', '-0.69', 'N', '0.88', 'T', '-0.42', 'N', '0.032', '-1.460', '0.003', '0.541', '0.030', 'N', '-1.059', 'T', '0.024', 'T', '0.707', '0', '-11.4', '-0.465', '-0.586', '0.944', '0.867', '4.609', '.', '.', '.', '.', '.', '.', '.', '.', '.', '.', '.', '.', '.', '.', '.', '.', '.', '.', '.', '.', '.', '.', '.', '.', '.', '.', '.', '.', '.', '.', '.', '.', '.', '.', '.', '.', '.', '.', '.', '.', '.', '.', '.', '.', '.', '.', '.', '.', '.', '.', '.', '.', '.', '.', '.', '.', '.', '.', '.', '.', '.', '.', '.', '.', '.', '0.034', '0.5', '953.77', '89', 'chr3', '183439862', '.', 'A', 'G', '953.77', '.', 'AC=1;AF=0.500;AN=2;BaseQRankSum=-1.905e+00;ClippingRankSum=-1.527e+00;DP=89;ExcessHet=3.0103;FS=2.799;MLEAC=1;MLEAF=0.500;MQ=60.00;MQRankSum=0.671;QD=10.72;ReadPosRankSum=-2.391e+00;SOR=0.588', 'GT:AD:DP:GQ:PL', '0/1:41,48:89:99:982,0,830'], ['chr3', '184049591', '184049591', 'A', 'G', 'exonic', 'EIF4G1', '.', 'nonsynonymous SNV', 'EIF4G1:NM_004953:exon24:c.A3886G:p.I1296V,EIF4G1:NM_198242:exon27:c.A3979G:p.I1327V,EIF4G1:NM_198244:exon28:c.A4210G:p.I1404V,EIF4G1:NM_182917:exon30:c.A4474G:p.I1492V,EIF4G1:NM_001194947:exon31:c.A4492G:p.I1498V,EIF4G1:NM_001291157:exon31:c.A4351G:p.I1451V,EIF4G1:NM_198241:exon31:c.A4471G:p.I1491V,EIF4G1:NM_001194946:exon32:c.A4492G:p.I1498V', 'exonic', 'ENSG00000114867', '.', 'nonsynonymous SNV', 'ENSG00000114867:ENST00000434061:exon24:c.A3886G:p.I1296V,ENSG00000114867:ENST00000435046:exon24:c.A3883G:p.I1295V,ENSG00000114867:ENST00000441154:exon25:c.A3982G:p.I1328V,ENSG00000114867:ENST00000350481:exon27:c.A3979G:p.I1327V,ENSG00000114867:ENST00000392537:exon28:c.A4210G:p.I1404V,ENSG00000114867:ENST00000411531:exon28:c.A4354G:p.I1452V,ENSG00000114867:ENST00000427845:exon28:c.A4213G:p.I1405V,ENSG00000114867:ENST00000319274:exon30:c.A4471G:p.I1491V,ENSG00000114867:ENST00000342981:exon30:c.A4474G:p.I1492V,ENSG00000114867:ENST00000424196:exon30:c.A4492G:p.I1498V,ENSG00000114867:ENST00000346169:exon31:c.A4471G:p.I1491V,ENSG00000114867:ENST00000352767:exon31:c.A4492G:p.I1498V,ENSG00000114867:ENST00000414031:exon31:c.A4351G:p.I1451V,ENSG00000114867:ENST00000382330:exon32:c.A4492G:p.I1498V', '.', '8.237e-06', '0', '0', '0', '0', '0', '0.0011', '0', '4.061e-06', '0', '0', '0', '0', '0', '0', '0.0002', '0', 'rs753002754', '0.239', 'T', '0.365', 'B', '0.19', 'B', '0.000', 'D', '1', 'D', '1.875', 'L', '3.85', 'T', '-0.58', 'N', '0.23', '1.981', '16.09', '0.993', '0.979', 'D', '-1.046', 'T', '0.020', 'T', '0.722', '0', '5.07', '0.960', '0.962', '0.997', '1.000', '14.046', '.', '.', '.', '.', '.', '.', '.', '.', '.', '.', '.', '.', '.', '.', '.', '.', '.', '.', '.', '.', '.', '.', '.', '.', '.', '.', '.', '.', '.', '.', '.', '.', '.', '.', '.', '.', '.', '.', '.', '.', '.', '.', '.', '.', '.', '.', '.', '.', '.', '.', '.', '.', '.', '.', '.', '.', '.', '.', '.', '.', '.', '.', '.', '.', '.', '0.199', '0.5', '1831.77', '213', 'chr3', '184049591', '.', 'A', 'G', '1831.77', '.', 'AC=1;AF=0.500;AN=2;BaseQRankSum=-5.000e-02;ClippingRankSum=0.188;DP=213;ExcessHet=3.0103;FS=0.500;MLEAC=1;MLEAF=0.500;MQ=60.00;MQRankSum=1.58;QD=8.60;ReadPosRankSum=-1.310e+00;SOR=0.649', 'GT:AD:DP:GQ:PL', '0/1:115,98:213:99:1860,0,2314'], ['chr3', '195505836', '195505836', '-', 'TGACCTGTGGATGCTGAGGAAGTGTCGGTGACAGGAAGAGGGGTGGTGTCACCTGTGGATGCTGAGGAAGTGTCGGTGACAGGAAGAGGGGTGGCC', 'exonic', 'MUC4', '.', 'nonframeshift insertion', 'MUC4:NM_018406:exon2:c.12614_12615insGGCCACCCCTCTTCCTGTCACCGACACTTCCTCAGCATCCACAGGTGACACCACCCCTCTTCCTGTCACCGACACTTCCTCAGCATCCACAGGTCA:p.H4205delinsQATPLPVTDTSSASTGDTTPLPVTDTSSASTGH', 'exonic', 'ENSG00000145113', '.', 'nonframeshift insertion', 'ENSG00000145113:ENST00000462323:exon2:c.12614_12615insGGCCACCCCTCTTCCTGTCACCGACACTTCCTCAGCATCCACAGGTGACACCACCCCTCTTCCTGTCACCGACACTTCCTCAGCATCCACAGGTCA:p.H4205delinsQATPLPVTDTSSASTGDTTPLPVTDTSSASTGH,ENSG00000145113:ENST00000463781:exon2:c.12614_12615insGGCCACCCCTCTTCCTGTCACCGACACTTCCTCAGCATCCACAGGTGACACCACCCCTCTTCCTGTCACCGACACTTCCTCAGCATCCACAGGTCA:p.H4205delinsQATPLPVTDTSSASTGDTTPLPVTDTSSASTGH,ENSG00000145113:ENST00000466475:exon2:c.12614_12615insGGCCACCCCTCTTCCTGTCACCGACACTTCCTCAGCATCCACAGGTGACACCACCCCTCTTCCTGTCACCGACACTTCCTCAGCATCCACAGGTCA:p.H4205delinsQATPLPVTDTSSASTGDTTPLPVTDTSSASTGH,ENSG00000145113:ENST00000470451:exon2:c.12614_12615insGGCCACCCCTCTTCCTGTCACCGACACTTCCTCAGCATCCACAGGTGACACCACCCCTCTTCCTGTCACCGACACTTCCTCAGCATCCACAGGTCA:p.H4205delinsQATPLPVTDTSSASTGDTTPLPVTDTSSASTGH,ENSG00000145113:ENST00000475231:exon2:c.12614_12615insGGCCACCCCTCTTCCTGTCACCGACACTTCCTCAGCATCCACAGGTGACACCACCCCTCTTCCTGTCACCGACACTTCCTCAGCATCCACAGGTCA:p.H4205delinsQATPLPVTDTSSASTGDTTPLPVTDTSSASTGH,ENSG00000145113:ENST00000477086:exon2:c.12614_12615insGGCCACCCCTCTTCCTGTCACCGACACTTCCTCAGCATCCACAGGTGACACCACCCCTCTTCCTGTCACCGACACTTCCTCAGCATCCACAGGTCA:p.H4205delinsQATPLPVTDTSSASTGDTTPLPVTDTSSASTGH,ENSG00000145113:ENST00000477756:exon2:c.12614_12615insGGCCACCCCTCTTCCTGTCACCGACACTTCCTCAGCATCCACAGGTGACACCACCCCTCTTCCTGTCACCGACACTTCCTCAGCATCCACAGGTCA:p.H4205delinsQATPLPVTDTSSASTGDTTPLPVTDTSSASTGH,ENSG00000145113:ENST00000478156:exon2:c.12614_12615insGGCCACCCCTCTTCCTGTCACCGACACTTCCTCAGCATCCACAGGTGACACCACCCCTCTTCCTGTCACCGACACTTCCTCAGCATCCACAGGTCA:p.H4205delinsQATPLPVTDTSSASTGDTTPLPVTDTSSASTGH,ENSG00000145113:ENST00000479406:exon2:c.12614_12615insGGCCACCCCTCTTCCTGTCACCGACACTTCCTCAGCATCCACAGGTGACACCACCCCTCTTCCTGTCACCGACACTTCCTCAGCATCCACAGGTCA:p.H4205delinsQATPLPVTDTSSASTGDTTPLPVTDTSSASTGH,ENSG00000145113:ENST00000480843:exon2:c.12614_12615insGGCCACCCCTCTTCCTGTCACCGACACTTCCTCAGCATCCACAGGTGACACCACCCCTCTTCCTGTCACCGACACTTCCTCAGCATCCACAGGTCA:p.H4205delinsQATPLPVTDTSSASTGDTTPLPVTDTSSASTGH', '.', '.', '.', '.', '.', '.', '.', '.', '.', '0', '0', '0', '0', '0', '0', '0', '0', '0', '.', '.', '.', '.', '.', '.', '.', '.', '.', '.', '.', '.', '.', '.', '.', '.', '.', '.', '.', '.', '.', '.', '.', '.', '.', '.', '.', '.', '.', '.', '.', '.', '.', '.', '.', '.', '.', '.', '.', '.', '.', '.', '.', '.', '.', '.', '.', '.', '.', '.', '.', '.', '.', '.', '.', '.', '.', '.', '.', '.', '.', '.', '.', '.', '.', '.', '.', '.', '.', '.', '.', '.', '.', '.', '.', '.', '.', '.', '.', '.', '.', '.', '.', '.', '.', '.', '.', '.', '.', '.', '.', '.', '.', '.', '.', '.', '.', '.', '.', '.', '.', '0.5', '2357.77', '458', 'chr3', '195505836', '.', 'G', 'GTGACCTGTGGATGCTGAGGAAGTGTCGGTGACAGGAAGAGGGGTGGTGTCACCTGTGGATGCTGAGGAAGTGTCGGTGACAGGAAGAGGGGTGGCC', '2357.77', '.', 'AC=1;AF=0.500;AN=2;BaseQRankSum=-5.360e-01;ClippingRankSum=-2.250e-01;DP=1240;ExcessHet=3.0103;FS=0.000;MLEAC=1;MLEAF=0.500;MQ=57.14;MQRankSum=-3.060e+00;QD=5.22;ReadPosRankSum=-1.607e+00;SOR=0.554', 'GT:AD:DP:GQ:PL', '0/1:452,0:458:99:2386,0,13241'], ['chr4', '57182798', '57182798', 'C', 'T', 'exonic', 'KIAA1211', '.', 'nonsynonymous SNV', 'KIAA1211:NM_020722:exon8:c.C3130T:p.P1044S', 'exonic', 'ENSG00000109265', '.', 'nonsynonymous SNV', 'ENSG00000109265:ENST00000504228:exon6:c.C3130T:p.P1044S,ENSG00000109265:ENST00000541073:exon7:c.C3109T:p.P1037S,ENSG00000109265:ENST00000264229:exon8:c.C3130T:p.P1044S', '.', '8.769e-06', '0', '0', '0', '0', '0', '0', '6.201e-05', '8.328e-06', '6.989e-05', '0', '0', '0', '0', '0', '0', '3.26e-05', 'rs762703962', '0.777', 'T', '0.017', 'B', '0.009', 'B', '.', '.', '0.685', 'N', '0', 'N', '-0.96', 'T', '0.66', 'N', '0.056', '2.155', '17.21', '0.648', '0.612', 'D', '-0.932', 'T', '0.138', 'T', '0.615', '0', '2.03', '0.493', '0.788', '0.171', '0.554', '5.050', '.', '.', '.', '.', '.', '.', '.', '.', '.', '.', '.', '.', '.', '.', '.', '.', '.', '.', '.', '.', '.', '.', '.', '.', '.', '.', '.', '.', '.', '.', '.', '.', '.', '.', '.', '.', '.', '.', '.', '.', '.', '.', '.', '.', '.', '.', '.', '.', '.', '.', '.', '.', '.', '.', '.', '.', '.', '.', '.', '.', '.', '.', '.', '.', '.', '0.125', '0.5', '749.77', '84', 'chr4', '57182798', '.', 'C', 'T', '749.77', '.', 'AC=1;AF=0.500;AN=2;BaseQRankSum=-1.008e+00;ClippingRankSum=-2.550e-01;DP=84;ExcessHet=3.0103;FS=0.000;MLEAC=1;MLEAF=0.500;MQ=60.00;MQRankSum=1.77;QD=8.93;ReadPosRankSum=0.739;SOR=0.610', 'GT:AD:DP:GQ:PL', '0/1:44,40:84:99:778,0,945'], ['chr6', '169972596', '169972596', 'T', 'C', 'exonic', 'WDR27', '.', 'nonsynonymous SNV', 'WDR27:NM_182552:exon25:c.A2564G:p.H855R', 'exonic', 'ENSG00000184465', '.', 'nonsynonymous SNV', 'ENSG00000184465:ENST00000448612:exon25:c.A2564G:p.H855R', '.', '0', '.', '.', '.', '.', '.', '.', '.', '0', '.', '.', '0', '.', '0', '0', '0', '0', 'rs142488738', '0.652', 'T', '0.0', 'B', '0.0', 'B', '.', '.', '1', 'P', '0.175', 'N', '1.04', 'T', '-0.08', 'N', '0.026', '-4.193', '0.001', '0.203', '0.000', 'N', '-0.990', 'T', '0.012', 'T', '0.554', '0', '-0.371', '0.158', '-2.932', '0.010', '0.000', '.', '.', '.', '.', '.', '.', '.', '.', '.', '.', '.', '.', '.', '.', '.', '.', '.', '.', '.', '.', '.', '.', '.', '.', '.', '.', '.', '.', '.', '.', '.', '.', '.', '.', '.', '.', '.', '.', '.', '.', '.', '.', '.', '.', '.', '.', '.', '.', '.', '.', '.', '.', '.', '.', '.', '.', '.', '.', '.', '.', '.', '.', '.', '.', '.', '.', '0.022', '1', '62.74', '2', 'chr6', '169972596', 'rs142488738', 'T', 'C', '62.74', '.', 'AC=2;AF=1.00;AN=2;DB;DP=2;ExcessHet=3.0103;FS=0.000;MLEAC=2;MLEAF=1.00;MQ=51.00;QD=31.37;SOR=0.693', 'GT:AD:DP:GQ:PGT:PID:PL', '1/1:0,2:2:6:1|1:169972595_G_A:90,6,0'], ['chr6', '169972597', '169972597', 'G', 'A', 'exonic', 'WDR27', '.', 'nonsynonymous SNV', 'WDR27:NM_182552:exon25:c.C2563T:p.H855Y', 'exonic', 'ENSG00000184465', '.', 'nonsynonymous SNV', 'ENSG00000184465:ENST00000448612:exon25:c.C2563T:p.H855Y', '.', '0', '.', '.', '.', '.', '.', '.', '.', '0', '.', '.', '0', '.', '0', '0', '0', '0', 'rs146778012', '0.62', 'T', '0.079', 'B', '0.005', 'B', '.', '.', '1', 'P', '1.485', 'L', '0.82', 'T', '0.01', 'N', '0.067', '-1.319', '0.004', '0.480', '0.003', 'N', '-1.065', 'T', '0.037', 'T', '0.554', '0', '-0.371', '0.150', '-0.572', '0.015', '0.000', '.', '.', '.', '.', '.', '.', '.', '.', '.', '.', '.', '.', '.', '.', '.', '.', '.', '.', '.', '.', '.', '.', '.', '.', '.', '.', '.', '.', '.', '.', '.', '.', '.', '.', '.', '.', '.', '.', '.', '.', '.', '.', '.', '.', '.', '.', '.', '.', '.', '.', '.', '.', '.', '.', '.', '.', '.', '.', '.', '.', '.', '.', '.', '.', '.', '.', '0.044', '1', '62.74', '2', 'chr6', '169972597', 'rs146778012', 'G', 'A', '62.74', '.', 'AC=2;AF=1.00;AN=2;DB;DP=2;ExcessHet=3.0103;FS=0.000;MLEAC=2;MLEAF=1.00;MQ=51.00;QD=31.37;SOR=0.693', 'GT:AD:DP:GQ:PGT:PID:PL', '1/1:0,2:2:6:1|1:169972595_G_A:90,6,0'], ['chr7', '21789306', '21789306', 'C', 'T', 'exonic', 'DNAH11', '.', 'nonsynonymous SNV', 'DNAH11:NM_001277115:exon53:c.C8684T:p.A2895V', 'exonic', 'ENSG00000105877', '.', 'nonsynonymous SNV', 'ENSG00000105877:ENST00000409508:exon53:c.C8684T:p.A2895V,ENSG00000105877:ENST00000328843:exon54:c.C8705T:p.A2902V', '.', '8.299e-06', '0', '0', '0', '0', '1.502e-05', '0', '0', '4.068e-06', '0', '0', '0', '0', '0', '8.973e-06', '0', '0', 'rs530087550', '0.021', 'D', '0.955', 'P', '0.811', 'P', '0.000', 'D', '1.000', 'D', '.', '.', '0.99', 'T', '-3.31', 'D', '0.431', '5.622', '26.6', '0.999', '0.971', 'D', '-0.652', 'T', '0.234', 'T', '0.554', '0', '5.43', '0.871', '0.852', '0.997', '1.000', '19.243', '.', '.', '.', '.', '.', '.', '.', '.', '.', '.', '.', '.', '.', '.', '.', '.', '.', '.', '.', '.', '.', '.', '.', '.', '.', '.', '.', '.', '.', '.', '.', '.', '.', '.', '.', '.', '.', '.', '.', '.', '.', '.', '.', '.', '.', '.', '.', '.', '.', '.', '.', '.', '.', '.', '.', '.', '.', '.', '.', '.', '.', '.', '.', '.', '.', '0.215', '0.5', '1843.77', '234', 'chr7', '21789306', '.', 'C', 'T', '1843.77', '.', 'AC=1;AF=0.500;AN=2;BaseQRankSum=-5.740e-01;ClippingRankSum=1.86;DP=234;ExcessHet=3.0103;FS=0.000;MLEAC=1;MLEAF=0.500;MQ=60.00;MQRankSum=0.401;QD=7.88;ReadPosRankSum=1.61;SOR=0.697', 'GT:AD:DP:GQ:PL', '0/1:131,103:234:99:1872,0,2609'], ['chr7', '142457375', '142457375', 'C', 'G', 'exonic', 'PRSS1', '.', 'nonsynonymous SNV', 'PRSS1:NM_002769:exon1:c.C40G:p.L14V', 'exonic', 'ENSG00000204983', '.', 'nonsynonymous SNV', 'ENSG00000204983:ENST00000311737:exon1:c.C40G:p.L14V,ENSG00000204983:ENST00000486171:exon1:c.C40G:p.L14V', '.', '8.238e-06', '0', '0', '0', '0', '1.498e-05', '0', '0', '4.061e-06', '0', '0', '0', '0', '0', '8.952e-06', '0', '0', 'rs747228052', '1.0', 'T', '0.0', 'B', '0.0', 'B', '0.090', 'N', '0.999', 'N', '0.305', 'N', '-3.18', 'D', '1.4', 'N', '0.084', '-1.004', '0.016', '0.100', '0.020', 'N', '-0.656', 'T', '0.520', 'D', '0.549', '0', '2.43', '0.010', '-0.025', '0.273', '0.046', '11.878', '.', '.', '.', '.', '.', '.', '.', '.', '.', '.', '.', '.', '.', '.', '.', '.', '.', '.', '.', '.', '.', '.', '.', '.', '.', '.', '.', '.', '.', '.', '.', '.', '.', '.', '.', '.', '.', '.', '.', '.', '.', '.', '.', '.', '.', '.', '.', '.', '.', '.', '.', '.', '.', '.', '.', '.', '.', '.', '.', '.', '.', '.', '.', '.', '.', '0.221', '0.5', '989.77', '460', 'chr7', '142457375', '.', 'C', 'G', '989.77', '.', 'AC=1;AF=0.500;AN=2;BaseQRankSum=-5.700e-02;ClippingRankSum=-5.810e-01;DP=460;ExcessHet=3.0103;FS=0.819;MLEAC=1;MLEAF=0.500;MQ=58.92;MQRankSum=-1.195e+01;QD=2.15;ReadPosRankSum=2.57;SOR=0.749', 'GT:AD:DP:GQ:PGT:PID:PL', '0/1:406,54:460:99:0|1:142457343_C_T:1018,0,17263'], ['chr8', '2040276', '2040276', 'A', 'G', 'exonic', 'MYOM2', '.', 'nonsynonymous SNV', 'MYOM2:NM_003970:exon16:c.A1931G:p.Y644C', 'exonic', 'ENSG00000036448', '.', 'nonsynonymous SNV', 'ENSG00000036448:ENST00000523438:exon3:c.A206G:p.Y69C,ENSG00000036448:ENST00000262113:exon16:c.A1931G:p.Y644C', '.', '8.238e-06', '0', '0', '0', '0', '1.499e-05', '0', '0', '8.123e-06', '0', '2.978e-05', '0', '0', '0', '0', '0.0002', '0', 'rs769013852', '0.0', 'D', '1.0', 'D', '1.0', 'D', '0.000', 'D', '1.000', 'D', '4.205', 'H', '-1.48', 'T', '-8.38', 'D', '0.996', '6.099', '28.2', '0.998', '0.988', 'D', '0.918', 'D', '0.806', 'D', '0.487', '0', '5.72', '1.062', '1.199', '0.998', '1.000', '16.005', '.', '.', '.', '.', '.', '.', '.', '.', '.', '.', '.', '.', '.', '.', '.', '.', '.', '.', '.', '.', '.', '.', '.', '.', '.', '.', '.', '.', '.', '.', '.', '.', '.', '.', '.', '.', '.', '.', '.', '.', '.', '.', '.', '.', '.', '.', '.', '.', '.', '.', '.', '.', '.', '.', '.', '.', '.', '.', '.', '.', '.', '.', '.', '.', '.', '0.930', '0.5', '1752.77', '233', 'chr8', '2040276', '.', 'A', 'G', '1752.77', '.', 'AC=1;AF=0.500;AN=2;BaseQRankSum=0.378;ClippingRankSum=-8.720e-01;DP=233;ExcessHet=3.0103;FS=0.484;MLEAC=1;MLEAF=0.500;MQ=60.00;MQRankSum=1.03;QD=7.52;ReadPosRankSum=1.55;SOR=0.686', 'GT:AD:DP:GQ:PL', '0/1:136,97:233:99:1781,0,2660'], ['chr8', '7215686', '7215686', 'G', 'T', 'exonic', 'ZNF705G', '.', 'nonsynonymous SNV', 'ZNF705G:NM_001164457:exon5:c.C715A:p.Q239K', 'exonic', 'ENSG00000215372', '.', 'nonsynonymous SNV', 'ENSG00000215372:ENST00000400078:exon5:c.C715A:p.Q239K,ENSG00000215372:ENST00000400156:exon7:c.C715A:p.Q239K', '.', '.', '.', '.', '.', '.', '.', '.', '.', '0', '0', '0', '0', '0', '0', '0', '0', '0', '.', '0.654', 'T', '.', '.', '.', '.', '.', '.', '1', 'N', '1.755', 'L', '2.4', 'T', '-0.75', 'N', '0.12', '-1.227', '0.006', '0.666', '0.005', 'N', '-1.015', 'T', '0.042', 'T', '0.487', '0', '1.0', '-0.341', '0.456', '0.002', '0.011', '5.009', '.', '.', '.', '.', '.', '.', '.', '.', '.', '.', '.', '.', '.', '.', '.', '.', '.', '.', '.', '.', '.', '.', '.', '.', '.', '.', '.', '.', '.', '.', '.', '.', '.', '.', '.', '.', '.', '.', '.', '.', '.', '.', '.', '.', '.', '.', '.', '.', '.', '.', '.', '.', '.', '.', '.', '.', '.', '.', '.', '.', '.', '.', '.', '.', '.', '0.016', '0.5', '1007.77', '242', 'chr8', '7215686', '.', 'G', 'T', '1007.77', '.', 'AC=1;AF=0.500;AN=2;BaseQRankSum=0.905;ClippingRankSum=1.27;DP=245;ExcessHet=3.0103;FS=0.521;MLEAC=1;MLEAF=0.500;MQ=57.43;MQRankSum=2.49;QD=4.16;ReadPosRankSum=-1.170e+00;SOR=0.689', 'GT:AD:DP:GQ:PL', '0/1:173,69:242:99:1036,0,5142'], ['chr10', '7214483', '7214483', 'C', 'T', 'exonic', 'SFMBT2', '.', 'nonsynonymous SNV', 'SFMBT2:NM_001018039:exon18:c.G2125A:p.V709M,SFMBT2:NM_001029880:exon18:c.G2125A:p.V709M', 'exonic', 'ENSG00000198879', '.', 'nonsynonymous SNV', 'ENSG00000198879:ENST00000361972:exon18:c.G2125A:p.V709M,ENSG00000198879:ENST00000397167:exon18:c.G2125A:p.V709M', '.', '8.293e-06', '0', '0', '0', '0', '1.509e-05', '0', '0', '8.128e-06', '0', '0', '0', '5.798e-05', '0', '8.965e-06', '0', '0', 'rs774454869', '0.014', 'D', '0.037', 'B', '0.014', 'B', '0.023', 'N', '0.984', 'N', '2.005', 'M', '2.18', 'T', '-1.15', 'N', '0.163', '2.333', '18.39', '0.968', '0.290', 'N', '-1.050', 'T', '0.045', 'T', '0.646', '0', '1.29', '-0.048', '-0.366', '0.004', '0.002', '5.058', '.', '.', '.', '.', '.', '.', '.', '.', '.', '.', '.', '.', '.', '.', '.', '.', '.', '.', '.', '.', '.', '.', '.', '.', '.', '.', '.', '.', '.', '.', '.', '.', '.', '.', '.', '.', '.', '.', '.', '.', '.', '.', '.', '.', '.', '.', '.', '.', '.', '.', '.', '.', '.', '.', '.', '.', '.', '.', '.', '.', '.', '.', '.', '.', '.', '0.021', '0.5', '208.77', '44', 'chr10', '7214483', '.', 'C', 'T', '208.77', '.', 'AC=1;AF=0.500;AN=2;BaseQRankSum=-1.121e+00;ClippingRankSum=-2.140e-01;DP=44;ExcessHet=3.0103;FS=0.000;MLEAC=1;MLEAF=0.500;MQ=60.00;MQRankSum=0.542;QD=4.74;ReadPosRankSum=0.290;SOR=0.827', 'GT:AD:DP:GQ:PL', '0/1:30,14:44:99:237,0,637'], ['chr10', '12139714', '12139714', 'G', 'A', 'exonic', 'DHTKD1', '.', 'nonsynonymous SNV', 'DHTKD1:NM_018706:exon8:c.G1390A:p.E464K', 'exonic', 'ENSG00000181192', '.', 'nonsynonymous SNV', 'ENSG00000181192:ENST00000263035:exon8:c.G1390A:p.E464K', '.', '8.384e-06', '9.701e-05', '0', '0', '0', '0', '0', '0', '4.074e-06', '6.537e-05', '0', '0', '0', '0', '0', '0', '0', 'rs751977848', '0.4', 'T', '0.037', 'B', '0.088', 'B', '0.000', 'D', '1', 'D', '0.885', 'L', '2.52', 'T', '-1.4', 'N', '0.556', '2.602', '20.2', '0.995', '0.993', 'D', '-0.847', 'T', '0.214', 'T', '0.707', '0', '5.35', '0.917', '1.045', '1.000', '0.989', '19.063', '.', '.', '.', '.', '.', '.', '.', '.', '.', '.', '.', '.', '.', '.', '.', '.', '.', '.', '.', '.', '.', '.', '.', '.', '.', '.', '.', '.', '.', '.', '.', '.', '.', '.', '.', '.', '.', '.', '.', '.', '.', '.', '.', '.', '.', '.', '.', '.', '.', '.', '.', '.', '.', '.', '.', '.', '.', '.', '.', '.', '.', '.', '.', '.', '.', '0.240', '0.5', '1225.77', '130', 'chr10', '12139714', '.', 'G', 'A', '1225.77', '.', 'AC=1;AF=0.500;AN=2;BaseQRankSum=-7.450e-01;ClippingRankSum=1.21;DP=130;ExcessHet=3.0103;FS=0.651;MLEAC=1;MLEAF=0.500;MQ=60.00;MQRankSum=-5.870e-01;QD=9.43;ReadPosRankSum=-9.080e-01;SOR=0.641', 'GT:AD:DP:GQ:PL', '0/1:65,65:130:99:1254,0,1243'], ['chr11', '4903778', '4903778', 'C', 'G', 'exonic', 'OR51T1', '.', 'nonsynonymous SNV', 'OR51T1:NM_001004759:exon1:c.C730G:p.L244V', 'exonic', 'ENSG00000176900', '.', 'nonsynonymous SNV', 'ENSG00000176900:ENST00000322049:exon1:c.C649G:p.L217V,ENSG00000176900:ENST00000380378:exon1:c.C730G:p.L244V', '.', '8.25e-06', '0', '0', '0.0001', '0', '0', '0', '0', '8.138e-06', '0', '0', '0', '0.0001', '0', '0', '0', '0', 'rs775272764', '0.398', 'T', '0.898', 'P', '0.472', 'P', '0.001', 'N', '1.000', 'D', '1.58', 'L', '-0.77', 'T', '-0.68', 'N', '0.193', '1.395', '12.76', '0.970', '0.152', 'N', '-0.777', 'T', '0.275', 'T', '0.487', '0', '1.82', '0.871', '0.031', '0.996', '0.997', '8.157', '.', '.', '.', '.', '.', '.', '.', '.', '.', '.', '.', '.', '.', '.', '.', '.', '.', '.', '.', '.', '.', '.', '.', '.', '.', '.', '.', '.', '.', '.', '.', '.', '.', '.', '.', '.', '.', '.', '.', '.', '.', '.', '.', '.', '.', '.', '.', '.', '.', '.', '.', '.', '.', '.', '.', '.', '.', '.', '.', '.', '.', '.', '.', '.', '.', '0.166', '0.5', '2755.77', '292', 'chr11', '4903778', '.', 'C', 'G', '2755.77', '.', 'AC=1;AF=0.500;AN=2;BaseQRankSum=-1.790e+00;ClippingRankSum=-9.160e-01;DP=292;ExcessHet=3.0103;FS=0.000;MLEAC=1;MLEAF=0.500;MQ=60.00;MQRankSum=-1.218e+00;QD=9.44;ReadPosRankSum=0.302;SOR=0.694', 'GT:AD:DP:GQ:PL', '0/1:147,145:292:99:2784,0,2967'], ['chr11', '17634308', '17634308', 'A', 'G', 'exonic', 'OTOG', '.', 'nonsynonymous SNV', 'OTOG:NM_001277269:exon37:c.A6470G:p.N2157S,OTOG:NM_001292063:exon38:c.A6434G:p.N2145S', 'exonic', 'ENSG00000188162', '.', 'nonsynonymous SNV', 'ENSG00000188162:ENST00000342528:exon14:c.A3488G:p.N1163S,ENSG00000188162:ENST00000399391:exon37:c.A6470G:p.N2157S,ENSG00000188162:ENST00000399397:exon37:c.A6251G:p.N2084S', '.', '.', '.', '.', '.', '.', '.', '.', '.', '0', '0', '0', '0', '0', '0', '0', '0', '0', '.', '0.33', 'T', '0.998', 'D', '0.987', 'D', '0.003', 'N', '0.968', 'N', '1.1', 'L', '0.26', 'T', '-1.09', 'N', '0.096', '3.901', '23.5', '0.998', '0.828', 'D', '-0.868', 'T', '0.220', 'T', '0.595', '0', '4.39', '1.062', '1.199', '0.996', '0.997', '5.254', '.', '.', '.', '.', '.', '.', '.', '.', '.', '.', '.', '.', '.', '.', '.', '.', '.', '.', '.', '.', '.', '.', '.', '.', '.', '.', '.', '.', '.', '.', '.', '.', '.', '.', '.', '.', '.', '.', '.', '.', '.', '.', '.', '.', '.', '.', '.', '.', '.', '.', '.', '.', '.', '.', '.', '.', '.', '.', '.', '.', '.', '.', '.', '.', '.', '0.289', '0.5', '1486.77', '179', 'chr11', '17634308', '.', 'A', 'G', '1486.77', '.', 'AC=1;AF=0.500;AN=2;BaseQRankSum=-7.270e-01;ClippingRankSum=-1.612e+00;DP=179;ExcessHet=3.0103;FS=0.000;MLEAC=1;MLEAF=0.500;MQ=60.00;MQRankSum=-3.120e-01;QD=8.31;ReadPosRankSum=1.51;SOR=0.692', 'GT:AD:DP:GQ:PL', '0/1:99,80:179:99:1515,0,1959'], ['chr11', '119217060', '119217060', 'C', 'G', 'exonic', 'MFRP', '.', 'nonsynonymous SNV', 'MFRP:NM_031433:exon2:c.G79C:p.E27Q', 'exonic', 'ENSG00000235718;ENSG00000259159', '.', 'nonsynonymous SNV', 'ENSG00000235718:ENST00000360167:exon2:c.G79C:p.E27Q,ENSG00000235718:ENST00000449574:exon2:c.G79C:p.E27Q,ENSG00000259159:ENST00000530681:exon2:c.G79C:p.E27Q,ENSG00000235718:ENST00000555262:exon2:c.G79C:p.E27Q', '.', '8.381e-06', '9.745e-05', '0', '0', '0', '0', '0', '0', '4.11e-06', '6.548e-05', '0', '0', '0', '0', '0', '0', '0', 'rs374815208', '0.094', 'T', '1.0', 'D', '0.97', 'D', '0.001', 'N', '1', 'D', '0.975', 'L', '1.39', 'T', '-0.01', 'N', '0.434', '6.513', '31', '0.998', '0.994', 'D', '-0.599', 'T', '0.356', 'T', '0.497', '0', '4.69', '0.871', '0.935', '0.766', '0.992', '17.072', '.', '.', '.', '.', '.', '.', '.', '.', '.', '.', '.', '.', '.', '.', '.', '.', '.', '.', '.', '.', '.', '.', '.', '.', '.', '.', '.', '.', '.', '.', '.', '.', '.', '.', '.', '.', '.', '.', '.', '.', '.', '.', '.', '.', '.', '.', '.', '.', '.', '.', '.', '.', '.', '.', '.', '.', '.', '.', '.', '.', '.', '.', '.', '.', '.', '0.175', '0.5', '2662.77', '286', 'chr11', '119217060', '.', 'C', 'G', '2662.77', '.', 'AC=1;AF=0.500;AN=2;BaseQRankSum=-8.760e-01;ClippingRankSum=-1.242e+00;DP=286;ExcessHet=3.0103;FS=0.429;MLEAC=1;MLEAF=0.500;MQ=60.00;MQRankSum=-1.211e+00;QD=9.31;ReadPosRankSum=-1.445e+00;SOR=0.696', 'GT:AD:DP:GQ:PL', '0/1:146,140:286:99:2691,0,2823'], ['chr12', '11214005', '11214005', 'C', 'T', 'exonic', 'TAS2R46', '.', 'nonsynonymous SNV', 'TAS2R46:NM_176887:exon1:c.G889A:p.V297M', 'exonic', 'ENSG00000226761', '.', 'nonsynonymous SNV', 'ENSG00000226761:ENST00000533467:exon1:c.G889A:p.V297M', '.', '8.29e-06', '0', '0', '0', '0.0002', '0', '0', '0', '4.065e-06', '0', '2.98e-05', '0', '0', '0', '0', '0', '0', 'rs747861564', '0.18', 'T', '0.015', 'B', '0.075', 'B', '.', '.', '1', 'N', '0.995', 'L', '1.19', 'T', '-1.02', 'N', '0.115', '0.301', '5.699', '0.522', '0.001', 'N', '-1.007', 'T', '0.062', 'T', '0.554', '0', '1.59', '-0.743', '-0.319', '0.003', '0.004', '4.592', '.', '.', '.', '.', '.', '.', '.', '.', '.', '.', '.', '.', '.', '.', '.', '.', '.', '.', '.', '.', '.', '.', '.', '.', '.', '.', '.', '.', '.', '.', '.', '.', '.', '.', '.', '.', '.', '.', '.', '.', '.', '.', '.', '.', '.', '.', '.', '.', '.', '.', '.', '.', '.', '.', '.', '.', '.', '.', '.', '.', '.', '.', '.', '.', '.', '0.008', '0.5', '235.77', '221', 'chr12', '11214005', '.', 'C', 'T', '235.77', '.', 'AC=1;AF=0.500;AN=2;BaseQRankSum=1.44;ClippingRankSum=-1.541e+00;DP=221;ExcessHet=3.0103;FS=5.254;MLEAC=1;MLEAF=0.500;MQ=58.83;MQRankSum=-6.347e+00;QD=1.07;ReadPosRankSum=-3.903e+00;SOR=1.473', 'GT:AD:DP:GQ:PGT:PID:PL', '0/1:205,16:221:99:0|1:11214001_C_G:264,0,8769'], ['chr12', '11214006', '11214006', 'A', 'T', 'exonic', 'TAS2R46', '.', 'nonsynonymous SNV', 'TAS2R46:NM_176887:exon1:c.T888A:p.H296Q', 'exonic', 'ENSG00000226761', '.', 'nonsynonymous SNV', 'ENSG00000226761:ENST00000533467:exon1:c.T888A:p.H296Q', '.', '8.289e-06', '0', '0', '0', '0.0002', '0', '0', '0', '4.065e-06', '0', '2.98e-05', '0', '0', '0', '0', '0', '0', 'rs772092030', '1.0', 'T', '0.0', 'B', '0.0', 'B', '.', '.', '1', 'N', '-1.09', 'N', '1.25', 'T', '2.48', 'N', '0.039', '-2.974', '0.001', '0.579', '0.007', 'N', '-1.011', 'T', '0.020', 'T', '0.554', '0', '-2.26', '-1.868', '-5.082', '0.003', '0.000', '2.669', '.', '.', '.', '.', '.', '.', '.', '.', '.', '.', '.', '.', '.', '.', '.', '.', '.', '.', '.', '.', '.', '.', '.', '.', '.', '.', '.', '.', '.', '.', '.', '.', '.', '.', '.', '.', '.', '.', '.', '.', '.', '.', '.', '.', '.', '.', '.', '.', '.', '.', '.', '.', '.', '.', '.', '.', '.', '.', '.', '.', '.', '.', '.', '.', '.', '0.018', '0.5', '214.77', '225', 'chr12', '11214006', '.', 'A', 'T', '214.77', '.', 'AC=1;AF=0.500;AN=2;BaseQRankSum=0.840;ClippingRankSum=0.213;DP=225;ExcessHet=3.0103;FS=4.873;MLEAC=1;MLEAF=0.500;MQ=58.84;MQRankSum=-6.276e+00;QD=0.95;ReadPosRankSum=-4.143e+00;SOR=1.362', 'GT:AD:DP:GQ:PGT:PID:PL', '0/1:207,18:225:99:0|1:11214001_C_G:243,0,9016'], ['chr12', '121442059', '121442059', 'T', 'C', 'exonic', 'C12orf43', '.', 'nonsynonymous SNV', 'C12orf43:NM_001286197:exon5:c.A590G:p.D197G,C12orf43:NM_001286191:exon6:c.A779G:p.D260G,C12orf43:NM_001286192:exon6:c.A689G:p.D230G,C12orf43:NM_001286195:exon6:c.A656G:p.D219G,C12orf43:NM_001286196:exon6:c.A653G:p.D218G,C12orf43:NM_022895:exon6:c.A686G:p.D229G,C12orf43:NM_001286198:exon7:c.A563G:p.D188G', 'exonic', 'ENSG00000157895', '.', 'nonsynonymous SNV', 'ENSG00000157895:ENST00000538296:exon5:c.A500G:p.D167G,ENSG00000157895:ENST00000288757:exon6:c.A686G:p.D229G,ENSG00000157895:ENST00000445832:exon6:c.A596G:p.D199G,ENSG00000157895:ENST00000535367:exon6:c.A551G:p.D184G,ENSG00000157895:ENST00000537817:exon6:c.A689G:p.D230G,ENSG00000157895:ENST00000539736:exon6:c.A656G:p.D219G,ENSG00000157895:ENST00000366211:exon7:c.A563G:p.D188G', '.', '8.237e-06', '0', '0', '0', '0', '1.498e-05', '0', '0', '4.061e-06', '0', '0', '0', '0', '0', '8.951e-06', '0', '0', 'rs764806741', '0.02', 'D', '0.98', 'D', '0.651', 'P', '0.056', 'N', '1', 'D', '1.735', 'L', '0.65', 'T', '-3.52', 'D', '0.36', '2.447', '19.13', '0.997', '0.797', 'D', '-0.972', 'T', '0.107', 'T', '0.707', '0', '0.643', '0.991', '1.049', '0.143', '0.075', '5.096', '.', '.', '.', '.', '.', '.', '.', '.', '.', '.', '.', '.', '.', '.', '.', '.', '.', '.', '.', '.', '.', '.', '.', '.', '.', '.', '.', '.', '.', '.', '.', '.', '.', '.', '.', '.', '.', '.', '.', '.', '.', '.', '.', '.', '.', '.', '.', '.', '.', '.', '.', '.', '.', '.', '.', '.', '.', '.', '.', '.', '.', '.', '.', '.', '.', '0.046', '0.5', '1603.77', '219', 'chr12', '121442059', '.', 'T', 'C', '1603.77', '.', 'AC=1;AF=0.500;AN=2;BaseQRankSum=-1.399e+00;ClippingRankSum=-9.070e-01;DP=219;ExcessHet=3.0103;FS=0.502;MLEAC=1;MLEAF=0.500;MQ=60.00;MQRankSum=1.07;QD=7.32;ReadPosRankSum=0.174;SOR=0.632', 'GT:AD:DP:GQ:PL', '0/1:129,90:219:99:1632,0,2644'], ['chr13', '25671271', '25671271', 'A', 'G', 'exonic', 'PABPC3', '.', 'nonsynonymous SNV', 'PABPC3:NM_030979:exon1:c.A935G:p.K312R', 'exonic', 'ENSG00000151846', '.', 'nonsynonymous SNV', 'ENSG00000151846:ENST00000281589:exon1:c.A935G:p.K312R', '.', '.', '.', '.', '.', '.', '.', '.', '.', '0', '0', '0', '0', '0', '0', '0', '0', '0', 'rs79246694', '0.092', 'T', '0.383', 'B', '0.344', 'B', '0.000', 'U', '1.000', 'D', '0.17', 'N', '2.34', 'T', '-2.35', 'N', '0.327', '1.295', '12.24', '0.988', '0.698', 'D', '-1.043', 'T', '0.026', 'T', '0.706', '0', '0.875', '0.649', '0.388', '0.926', '0.008', '5.899', '.', '.', '.', '.', '.', '.', '.', '.', '.', '.', '.', '.', '.', '.', '.', '.', '.', '.', '.', '.', '.', '.', '.', '.', '.', '.', '.', '.', '.', '.', '.', '.', '.', '.', '.', '.', '.', '.', '.', '.', '.', '.', '.', '.', '.', '.', '.', '.', '.', '.', '.', '.', '.', '.', '.', '.', '.', '.', '.', '.', '.', '.', '.', '.', '.', '0.159', '0.5', '1193.77', '175', 'chr13', '25671271', 'rs79246694', 'A', 'G', '1193.77', '.', 'AC=1;AF=0.500;AN=2;BaseQRankSum=-5.290e-01;ClippingRankSum=0.500;DB;DP=175;ExcessHet=3.0103;FS=1.434;MLEAC=1;MLEAF=0.500;MQ=58.18;MQRankSum=-3.551e+00;QD=6.82;ReadPosRankSum=1.03;SOR=0.850', 'GT:AD:DP:GQ:PGT:PID:PL', '0/1:136,39:175:99:0|1:25671271_A_G:1222,0,5666'], ['chr13', '25671273', '25671273', 'G', '-', 'exonic', 'PABPC3', '.', 'frameshift deletion', 'PABPC3:NM_030979:exon1:c.937delG:p.A313fs', 'exonic', 'ENSG00000151846', '.', 'frameshift deletion', 'ENSG00000151846:ENST00000281589:exon1:c.937delG:p.A313fs', '.', '.', '.', '.', '.', '.', '.', '.', '.', '0', '0', '0', '0', '0', '0', '0', '0', '0', 'rs376589131', '.', '.', '.', '.', '.', '.', '.', '.', '.', '.', '.', '.', '.', '.', '.', '.', '.', '.', '.', '.', '.', '.', '.', '.', '.', '.', '.', '.', '.', '.', '.', '.', '.', '.', '.', '.', '.', '.', '.', '.', '.', '.', '.', '.', '.', '.', '.', '.', '.', '.', '.', '.', '.', '.', '.', '.', '.', '.', '.', '.', '.', '.', '.', '.', '.', '.', '.', '.', '.', '.', '.', '.', '.', '.', '.', '.', '.', '.', '.', '.', '.', '.', '.', '.', '.', '.', '.', '.', '.', '.', '.', '.', '.', '.', '.', '.', '.', '.', '.', '.', '0.5', '1291.73', '176', 'chr13', '25671272', 'rs376589131', 'AG', 'A', '1291.73', '.', 'AC=1;AF=0.500;AN=2;BaseQRankSum=1.87;ClippingRankSum=1.23;DB;DP=176;ExcessHet=3.0103;FS=1.424;MLEAC=1;MLEAF=0.500;MQ=58.19;MQRankSum=-2.176e+00;QD=7.34;ReadPosRankSum=1.12;SOR=0.834', 'GT:AD:DP:GQ:PGT:PID:PL', '0/1:137,39:176:99:0|1:25671271_A_G:1329,0,5654'], ['chr13', '25671292', '25671292', 'C', 'T', 'exonic', 'PABPC3', '.', 'nonsynonymous SNV', 'PABPC3:NM_030979:exon1:c.C956T:p.T319I', 'exonic', 'ENSG00000151846', '.', 'nonsynonymous SNV', 'ENSG00000151846:ENST00000281589:exon1:c.C956T:p.T319I', '.', '0', '0', '0', '0', '0', '0', '0', '0', '0', '0', '0', '0', '0', '0', '0', '0', '0', 'rs80261016', '0.002', 'D', '0.726', 'P', '0.45', 'P', '0.000', 'U', '1.000', 'D', '0.935', 'L', '2.36', 'T', '-4.66', 'D', '0.409', '5.492', '26.2', '0.997', '0.632', 'D', '-1.090', 'T', '0.034', 'T', '0.706', '0', '0.875', '0.542', '0.314', '0.998', '0.950', '7.549', '.', '.', '.', '.', '.', '.', '.', '.', '.', '.', '.', '.', '.', '.', '.', '.', '.', '.', '.', '.', '.', '.', '.', '.', '.', '.', '.', '.', '.', '.', '.', '.', '.', '.', '.', '.', '.', '.', '.', '.', '.', '.', '.', '.', '.', '.', '.', '.', '.', '.', '.', '.', '.', '.', '.', '.', '.', '.', '.', '.', '.', '.', '.', '.', '.', '0.158', '0.5', '827.77', '180', 'chr13', '25671292', 'rs80261016', 'C', 'T', '827.77', '.', 'AC=1;AF=0.500;AN=2;BaseQRankSum=-5.750e-01;ClippingRankSum=0.273;DB;DP=180;ExcessHet=3.0103;FS=0.619;MLEAC=1;MLEAF=0.500;MQ=57.66;MQRankSum=-4.065e+00;QD=4.60;ReadPosRankSum=-1.830e-01;SOR=0.801', 'GT:AD:DP:GQ:PL', '0/1:131,49:180:99:856,0,2830'], ['chr13', '25671333', '25671333', 'A', '-', 'exonic', 'PABPC3', '.', 'frameshift deletion', 'PABPC3:NM_030979:exon1:c.997delA:p.K333fs', 'exonic', 'ENSG00000151846', '.', 'frameshift deletion', 'ENSG00000151846:ENST00000281589:exon1:c.997delA:p.K333fs', '.', '.', '.', '.', '.', '.', '.', '.', '.', '0', '0', '0', '0', '0', '0', '0', '0', '0', 'rs371570689', '.', '.', '.', '.', '.', '.', '.', '.', '.', '.', '.', '.', '.', '.', '.', '.', '.', '.', '.', '.', '.', '.', '.', '.', '.', '.', '.', '.', '.', '.', '.', '.', '.', '.', '.', '.', '.', '.', '.', '.', '.', '.', '.', '.', '.', '.', '.', '.', '.', '.', '.', '.', '.', '.', '.', '.', '.', '.', '.', '.', '.', '.', '.', '.', '.', '.', '.', '.', '.', '.', '.', '.', '.', '.', '.', '.', '.', '.', '.', '.', '.', '.', '.', '.', '.', '.', '.', '.', '.', '.', '.', '.', '.', '.', '.', '.', '.', '.', '.', '.', '0.5', '1030.73', '159', 'chr13', '25671332', 'rs371570689', 'CA', 'C', '1030.73', '.', 'AC=1;AF=0.500;AN=2;BaseQRankSum=-2.360e+00;ClippingRankSum=1.32;DB;DP=168;ExcessHet=3.0103;FS=1.442;MLEAC=1;MLEAF=0.500;MQ=56.53;MQRankSum=-3.140e+00;QD=6.48;ReadPosRankSum=1.27;SOR=0.814', 'GT:AD:DP:GQ:PL', '0/1:118,41:159:99:1068,0,3696'], ['chr15', '65425744', '65425744', '-', 'CGC', 'exonic', 'PDCD7', '.', 'nonframeshift insertion', 'PDCD7:NM_005707:exon1:c.375_376insGCG:p.P126delinsAP', 'exonic', 'ENSG00000090470', '.', 'nonframeshift insertion', 'ENSG00000090470:ENST00000204549:exon1:c.375_376insGCG:p.P126delinsAP', '.', '.', '.', '.', '.', '.', '.', '.', '.', '0', '.', '.', '.', '.', '.', '0', '.', '.', 'rs566766250', '.', '.', '.', '.', '.', '.', '.', '.', '.', '.', '.', '.', '.', '.', '.', '.', '.', '.', '.', '.', '.', '.', '.', '.', '.', '.', '.', '.', '.', '.', '.', '.', '.', '.', '.', '.', '.', '.', '.', '.', '.', '.', '.', '.', '.', '.', '.', '.', '.', '.', '.', '.', '.', '.', '.', '.', '.', '.', '.', '.', '.', '.', '.', '.', '.', '.', '.', '.', '.', '.', '.', '.', '.', '.', '.', '.', '.', '.', '.', '.', '.', '.', '.', '.', '.', '.', '.', '.', '.', '.', '.', '.', '.', '.', '.', '.', '.', '.', '.', '.', '1', '232.80', '6', 'chr15', '65425744', '.', 'G', 'GCGC', '232.80', '.', 'AC=2;AF=1.00;AN=2;DP=6;ExcessHet=3.0103;FS=0.000;MLEAC=2;MLEAF=1.00;MQ=60.00;QD=27.73;SOR=1.329', 'GT:AD:DP:GQ:PL', '1/1:0,6:6:18:270,18,0'], ['chr15', '85159567', '85159567', 'C', 'T', 'exonic', 'ZSCAN2', '.', 'nonsynonymous SNV', 'ZSCAN2:NM_001007072:exon3:c.C434T:p.P145L', 'exonic', 'ENSG00000176371', '.', 'nonsynonymous SNV', 'ENSG00000176371:ENST00000379358:exon3:c.C434T:p.P145L', '.', '8.238e-06', '0', '0', '0', '0', '1.499e-05', '0', '0', '4.086e-06', '0', '0', '0', '0', '0', '0', '0.0002', '0', 'rs758314457', '0.0', 'D', '0.16', 'B', '0.037', 'B', '.', '.', '1', 'N', '.', '.', '3.54', 'T', '-1.96', 'N', '0.045', '0.217', '4.856', '0.989', '0.030', 'N', '-0.985', 'T', '0.015', 'T', '0.635', '0', '1.42', '-0.122', '0.636', '0.001', '0.002', '9.053', '.', '.', '.', '.', '.', '.', '.', '.', '.', '.', '.', '.', '.', '.', '.', '.', '.', '.', '.', '.', '.', '.', '.', '.', '.', '.', '.', '.', '.', '.', '.', '.', '.', '.', '.', '.', '.', '.', '.', '.', '.', '.', '.', '.', '.', '.', '.', '.', '.', '.', '.', '.', '.', '.', '.', '.', '.', '.', '.', '.', '.', '.', '.', '.', '.', '0.034', '0.5', '1685.77', '93', 'chr15', '85159567', '.', 'C', 'T', '1685.77', '.', 'AC=1;AF=0.500;AN=2;BaseQRankSum=-4.570e-01;ClippingRankSum=1.01;DP=93;ExcessHet=3.0103;FS=0.000;MLEAC=1;MLEAF=0.500;MQ=60.00;MQRankSum=1.73;QD=18.13;ReadPosRankSum=1.72;SOR=0.737', 'GT:AD:DP:GQ:PGT:PID:PL', '0/1:48,45:93:99:0|1:85159553_C_T:1714,0,2044'], ['chr16', '1203765', '1203765', 'G', 'A', 'exonic', 'CACNA1H', '.', 'nonsynonymous SNV', 'CACNA1H:NM_001005407:exon2:c.G28A:p.E10K,CACNA1H:NM_021098:exon2:c.G28A:p.E10K', 'exonic', 'ENSG00000196557', '.', 'nonsynonymous SNV', 'ENSG00000196557:ENST00000565831:exon1:c.G28A:p.E10K,ENSG00000196557:ENST00000348261:exon2:c.G28A:p.E10K,ENSG00000196557:ENST00000358590:exon2:c.G28A:p.E10K', '.', '.', '.', '.', '.', '.', '.', '.', '.', '0', '0', '0', '0', '.', '0', '0', '0', '0', '.', '0.013', 'D', '0.953', 'P', '0.253', 'B', '0.965', 'U', '0.561', 'N', '0.895', 'L', '-4.09', 'D', '-0.63', 'N', '0.296', '5.524', '26.3', '0.999', '0.729', 'D', '0.390', 'D', '0.757', 'D', '0.652', '0', '2.88', '0.809', '0.685', '0.984', '0.978', '12.372', '.', '.', '.', '.', '.', '.', '.', '.', '.', '.', '.', '.', '.', '.', '.', '.', '.', '.', '.', '.', '.', '.', '.', '.', '.', '.', '.', '.', '.', '.', '.', '.', '.', '.', '.', '.', '.', '.', '.', '.', '.', '.', '.', '.', '.', '.', '.', '.', '.', '.', '.', '.', '.', '.', '.', '.', '.', '.', '.', '.', '.', '.', '.', '.', '.', '0.368', '0.5', '44.77', '5', 'chr16', '1203765', '.', 'G', 'A', '44.77', '.', 'AC=1;AF=0.500;AN=2;BaseQRankSum=-3.580e-01;ClippingRankSum=0.358;DP=5;ExcessHet=3.0103;FS=0.000;MLEAC=1;MLEAF=0.500;MQ=60.00;MQRankSum=0.358;QD=8.95;ReadPosRankSum=1.23;SOR=1.179', 'GT:AD:DP:GQ:PL', '0/1:2,3:5:34:73,0,34'], ['chr16', '3139379', '3139379', 'C', 'T', 'exonic', 'ZSCAN10', '.', 'nonsynonymous SNV', 'ZSCAN10:NM_001282415:exon5:c.G874A:p.G292S,ZSCAN10:NM_001282416:exon5:c.G1645A:p.G549S,ZSCAN10:NM_032805:exon6:c.G2056A:p.G686S', 'exonic', 'ENSG00000130182', '.', 'nonsynonymous SNV', 'ENSG00000130182:ENST00000252463:exon5:c.G1891A:p.G631S,ENSG00000130182:ENST00000538082:exon5:c.G1645A:p.G549S,ENSG00000130182:ENST00000575108:exon5:c.G874A:p.G292S', '.', '9.044e-06', '0', '8.886e-05', '0', '0', '0', '0', '0', '4.351e-06', '0', '3.033e-05', '0', '0', '0', '0', '0', '0', 'rs567279199', '0.0', 'D', '1.0', 'D', '0.998', 'D', '0.000', 'D', '0.989', 'D', '2.23', 'M', '1.82', 'T', '-4.58', 'D', '0.573', '6.026', '27.9', '0.998', '0.743', 'D', '-0.825', 'T', '0.166', 'T', '0.632', '0', '5.12', '0.871', '0.916', '0.973', '0.837', '16.044', '.', '.', '.', '.', '.', '.', '.', '.', '.', '.', '.', '.', '.', '.', '.', '.', '.', '.', '.', '.', '.', '.', '.', '.', '.', '.', '.', '.', '.', '.', '.', '.', '.', '.', '.', '.', '.', '.', '.', '.', '.', '.', '.', '.', '.', '.', '.', '.', '.', '.', '.', '.', '.', '.', '.', '.', '.', '.', '.', '.', '.', '.', '.', '.', '.', '0.224', '0.5', '1934.77', '244', 'chr16', '3139379', '.', 'C', 'T', '1934.77', '.', 'AC=1;AF=0.500;AN=2;BaseQRankSum=1.07;ClippingRankSum=-9.070e-01;DP=244;ExcessHet=3.0103;FS=0.469;MLEAC=1;MLEAF=0.500;MQ=60.00;MQRankSum=-1.015e+00;QD=7.93;ReadPosRankSum=0.561;SOR=0.740', 'GT:AD:DP:GQ:PL', '0/1:138,106:244:99:1963,0,2808'], ['chr16', '67579001', '67579001', 'G', 'C', 'exonic', 'RIPOR1', '.', 'nonsynonymous SNV', 'RIPOR1:NM_001193522:exon17:c.G3024C:p.Q1008H,RIPOR1:NM_001193523:exon17:c.G3072C:p.Q1024H,RIPOR1:NM_001193524:exon17:c.G3054C:p.Q1018H,RIPOR1:NM_024519:exon17:c.G3012C:p.Q1004H', 'exonic', 'ENSG00000039523', '.', 'nonsynonymous SNV', 'ENSG00000039523:ENST00000042381:exon17:c.G3012C:p.Q1004H,ENSG00000039523:ENST00000379312:exon17:c.G3024C:p.Q1008H,ENSG00000039523:ENST00000422602:exon17:c.G3072C:p.Q1024H,ENSG00000039523:ENST00000428437:exon17:c.G3054C:p.Q1018H,ENSG00000039523:ENST00000540839:exon18:c.G3069C:p.Q1023H', '.', '8.256e-06', '0', '0', '0', '0', '1.503e-05', '0', '0', '8.168e-06', '0', '0', '0', '0', '0', '1.795e-05', '0', '0', 'rs755138306', '0.488', 'T', '0.233', 'B', '0.059', 'B', '0.007', 'N', '0.589', 'N', '0.755', 'N', '-0.99', 'T', '-0.48', 'N', '0.481', '1.625', '13.99', '0.876', '0.819', 'D', '-0.635', 'T', '0.233', 'T', '0.672', '0', '5.44', '0.917', '0.953', '1.000', '1.000', '14.229', '.', '.', '.', '.', '.', '.', '.', '.', '.', '.', '.', '.', '.', '.', '.', '.', '.', '.', '.', '.', '.', '.', '.', '.', '.', '.', '.', '.', '.', '.', '.', '.', '.', '.', '.', '.', '.', '.', '.', '.', '.', '.', '.', '.', '.', '.', '.', '.', '.', '.', '.', '.', '.', '.', '.', '.', '.', '.', '.', '.', '.', '.', '.', '.', '.', '0.148', '0.5', '3250.77', '380', 'chr16', '67579001', '.', 'G', 'C', '3250.77', '.', 'AC=1;AF=0.500;AN=2;BaseQRankSum=-1.570e-01;ClippingRankSum=1.26;DP=380;ExcessHet=3.0103;FS=0.370;MLEAC=1;MLEAF=0.500;MQ=60.00;MQRankSum=-3.260e-01;QD=8.55;ReadPosRankSum=-8.870e-01;SOR=0.721', 'GT:AD:DP:GQ:PL', '0/1:205,175:380:99:3279,0,4018'], ['chr17', '4925852', '4925852', 'C', 'T', 'exonic', 'KIF1C', '.', 'stopgain', 'KIF1C:NM_006612:exon22:c.C2476T:p.R826X', 'exonic', 'ENSG00000129250', '.', 'stopgain', 'ENSG00000129250:ENST00000320785:exon22:c.C2476T:p.R826X', '.', '.', '.', '.', '.', '.', '.', '.', '.', '0', '0', '0', '0', '0', '0', '0', '0', '0', '.', '.', '.', '.', '.', '.', '.', '.', '.', '1', 'A', '.', '.', '.', '.', '.', '.', '.', '13.177', '41', '0.998', '0.986', 'D', '.', '.', '.', '.', '0.707', '0', '4.67', '0.871', '0.852', '0.990', '0.988', '10.194', '.', '.', '.', '.', '.', '.', '.', '.', '.', '.', '.', '.', '.', '.', '.', '.', '.', '.', '.', '.', '.', '.', '.', '.', '.', '.', '.', '.', '.', '.', '.', '.', '.', '.', '.', '.', '.', '.', '.', '.', '.', '.', '.', '.', '.', '.', '.', '.', '.', '.', '.', '.', '.', '.', '.', '.', '.', '.', '.', '.', '.', '.', '.', '.', '.', '.', '0.5', '1278.77', '130', 'chr17', '4925852', '.', 'C', 'T', '1278.77', '.', 'AC=1;AF=0.500;AN=2;BaseQRankSum=-1.280e+00;ClippingRankSum=1.76;DP=130;ExcessHet=3.0103;FS=0.651;MLEAC=1;MLEAF=0.500;MQ=60.00;MQRankSum=0.237;QD=9.84;ReadPosRankSum=0.317;SOR=0.760', 'GT:AD:DP:GQ:PL', '0/1:65,65:130:99:1307,0,1359'], ['chr17', '27085515', '27085516', 'CA', '-', 'exonic', 'FAM222B', '.', 'frameshift deletion', 'FAM222B:NM_001077498:exon3:c.1461_1462del:p.C487fs,FAM222B:NM_001288634:exon3:c.1461_1462del:p.C487fs,FAM222B:NM_001288640:exon3:c.1077_1078del:p.C359fs,FAM222B:NM_001288631:exon4:c.1467_1468del:p.C489fs,FAM222B:NM_001288633:exon4:c.1461_1462del:p.C487fs,FAM222B:NM_001288635:exon4:c.1461_1462del:p.C487fs,FAM222B:NM_001288639:exon4:c.1077_1078del:p.C359fs,FAM222B:NM_018182:exon4:c.1461_1462del:p.C487fs,FAM222B:NM_001288632:exon5:c.1461_1462del:p.C487fs,FAM222B:NM_001288637:exon5:c.1077_1078del:p.C359fs,FAM222B:NM_001288638:exon5:c.1077_1078del:p.C359fs,FAM222B:NM_001288636:exon6:c.1077_1078del:p.C359fs', 'exonic', 'ENSG00000173065', '.', 'frameshift deletion', 'ENSG00000173065:ENST00000341217:exon3:c.1461_1462del:p.C487fs,ENSG00000173065:ENST00000452648:exon3:c.1461_1462del:p.C487fs,ENSG00000173065:ENST00000581407:exon3:c.1461_1462del:p.C487fs', '.', '8.375e-06', '0', '0', '0', '0', '1.518e-05', '0', '0', '4.098e-06', '0', '0', '0', '0', '0', '9.032e-06', '0', '0', 'rs760200003', '.', '.', '.', '.', '.', '.', '.', '.', '.', '.', '.', '.', '.', '.', '.', '.', '.', '.', '.', '.', '.', '.', '.', '.', '.', '.', '.', '.', '.', '.', '.', '.', '.', '.', '.', '.', '.', '.', '.', '.', '.', '.', '.', '.', '.', '.', '.', '.', '.', '.', '.', '.', '.', '.', '.', '.', '.', '.', '.', '.', '.', '.', '.', '.', '.', '.', '.', '.', '.', '.', '.', '.', '.', '.', '.', '.', '.', '.', '.', '.', '.', '.', '.', '.', '.', '.', '.', '.', '.', '.', '.', '.', '.', '.', '.', '.', '.', '.', '.', '.', '0.5', '3710.73', '215', 'chr17', '27085514', '.', 'GCA', 'G', '3710.73', '.', 'AC=1;AF=0.500;AN=2;BaseQRankSum=-1.065e+00;ClippingRankSum=0.606;DP=217;ExcessHet=3.0103;FS=0.000;MLEAC=1;MLEAF=0.500;MQ=60.10;MQRankSum=-7.240e-01;QD=17.26;ReadPosRankSum=-5.190e-01;SOR=0.681', 'GT:AD:DP:GQ:PL', '0/1:115,100:215:99:3748,0,4400'], ['chr17', '66033487', '66033487', 'G', 'A', 'exonic', 'KPNA2', '.', 'nonsynonymous SNV', 'KPNA2:NM_001320611:exon3:c.G89A:p.R30H,KPNA2:NM_002266:exon3:c.G89A:p.R30H', 'exonic', 'ENSG00000182481', '.', 'nonsynonymous SNV', 'ENSG00000182481:ENST00000579754:exon2:c.G89A:p.R30H,ENSG00000182481:ENST00000330459:exon3:c.G89A:p.R30H,ENSG00000182481:ENST00000537025:exon3:c.G89A:p.R30H,ENSG00000182481:ENST00000584026:exon3:c.G89A:p.R30H', '.', '8.242e-06', '0', '0', '0.0001', '0', '0', '0', '0', '0', '0', '0', '0', '0', '0', '0', '0', '0', 'rs533117201', '0.116', 'T', '0.726', 'P', '0.262', 'B', '0.000', 'U', '1', 'D', '1.99', 'M', '0.24', 'T', '-3.28', 'D', '0.558', '3.909', '23.5', '0.995', '0.959', 'D', '-0.629', 'T', '0.198', 'T', '0.628', '0', '4.28', '0.917', '0.912', '0.984', '0.178', '16.704', '.', '.', '.', '.', '.', '.', '.', '.', '.', '.', '.', '.', '.', '.', '.', '.', '.', '.', '.', '.', '.', '.', '.', '.', '.', '.', '.', '.', '.', '.', '.', '.', '.', '.', '.', '.', '.', '.', '.', '.', '.', '.', '.', '.', '.', '.', '.', '.', '.', '.', '.', '.', '.', '.', '.', '.', '.', '.', '.', '.', '.', '.', '.', '.', '.', '0.339', '0.5', '778.77', '76', 'chr17', '66033487', '.', 'G', 'A', '778.77', '.', 'AC=1;AF=0.500;AN=2;BaseQRankSum=0.608;ClippingRankSum=-1.820e-01;DP=76;ExcessHet=3.0103;FS=1.894;MLEAC=1;MLEAF=0.500;MQ=58.46;MQRankSum=-9.900e-02;QD=10.25;ReadPosRankSum=-1.532e+00;SOR=0.838', 'GT:AD:DP:GQ:PL', '0/1:38,38:76:99:807,0,754'], ['chr19', '1154196', '1154196', 'G', 'A', 'exonic', 'SBNO2', '.', 'nonsynonymous SNV', 'SBNO2:NM_014963:exon2:c.C80T:p.P27L', 'exonic', 'ENSG00000064932', '.', 'nonsynonymous SNV', 'ENSG00000064932:ENST00000361757:exon2:c.C80T:p.P27L,ENSG00000064932:ENST00000587024:exon2:c.C80T:p.P27L,ENSG00000064932:ENST00000587655:exon2:c.C80T:p.P27L,ENSG00000064932:ENST00000590176:exon2:c.C80T:p.P27L,ENSG00000064932:ENST00000590998:exon2:c.C80T:p.P27L', '.', '.', '.', '.', '.', '.', '.', '.', '.', '0', '0', '0', '0', '0', '0', '0', '0', '0', '.', '0.11', 'T', '0.001', 'B', '0.001', 'B', '.', '.', '1', 'N', '1.1', 'L', '.', '.', '-1.77', 'N', '0.184', '0.267', '5.373', '0.940', '0.007', 'N', '-1.006', 'T', '0.058', 'T', '0.696', '0', '-5.82', '0.697', '0.780', '0.012', '0.166', '1.017', '.', '.', '.', '.', '.', '.', '.', '.', '.', '.', '.', '.', '.', '.', '.', '.', '.', '.', '.', '.', '.', '.', '.', '.', '.', '.', '.', '.', '.', '.', '.', '.', '.', '.', '.', '.', '.', '.', '.', '.', '.', '.', '.', '.', '.', '.', '.', '.', '.', '.', '.', '.', '.', '.', '.', '.', '.', '.', '.', '.', '.', '.', '.', '.', '.', '0.130', '0.5', '144.77', '28', 'chr19', '1154196', '.', 'G', 'A', '144.77', '.', 'AC=1;AF=0.500;AN=2;BaseQRankSum=-1.458e+00;ClippingRankSum=0.753;DP=28;ExcessHet=3.0103;FS=0.000;MLEAC=1;MLEAF=0.500;MQ=60.00;MQRankSum=0.235;QD=5.17;ReadPosRankSum=-2.820e-01;SOR=0.743', 'GT:AD:DP:GQ:PL', '0/1:17,11:28:99:173,0,349'], ['chr19', '8999537', '8999537', 'T', 'G', 'exonic', 'MUC16', '.', 'nonsynonymous SNV', 'MUC16:NM_024690:exon56:c.A40638C:p.K13546N', 'exonic', 'ENSG00000181143', '.', 'nonsynonymous SNV', 'ENSG00000181143:ENST00000380951:exon8:c.A561C:p.K187N,ENSG00000181143:ENST00000397910:exon56:c.A40638C:p.K13546N', '.', '.', '.', '.', '.', '.', '.', '.', '.', '0', '0', '0', '0', '0', '0', '0', '0', '0', '.', '0.109', 'T', '0.971', 'D', '0.97', 'D', '.', '.', '1', 'N', '2.695', 'M', '1.47', 'T', '0.55', 'N', '0.021', '1.760', '14.75', '0.981', '0.015', 'N', '-0.857', 'T', '0.163', 'T', '0.554', '0', '-4.33', '0.991', '1.038', '0.145', '0.006', '2.694', '.', '.', '.', '.', '.', '.', '.', '.', '.', '.', '.', '.', '.', '.', '.', '.', '.', '.', '.', '.', '.', '.', '.', '.', '.', '.', '.', '.', '.', '.', '.', '.', '.', '.', '.', '.', '.', '.', '.', '.', '.', '.', '.', '.', '.', '.', '.', '.', '.', '.', '.', '.', '.', '.', '.', '.', '.', '.', '.', '.', '.', '.', '.', '.', '.', '0.125', '0.5', '420.77', '374', 'chr19', '8999537', '.', 'T', 'G', '420.77', '.', 'AC=1;AF=0.500;AN=2;BaseQRankSum=9.56;ClippingRankSum=-1.023e+00;DP=379;ExcessHet=3.0103;FS=92.534;MLEAC=1;MLEAF=0.500;MQ=59.73;MQRankSum=1.61;QD=1.13;ReadPosRankSum=1.98;SOR=7.015', 'GT:AD:DP:GQ:PGT:PID:PL', '0/1:339,35:374:99:0|1:8999503_T_TAGA:449,0,14129'], ['chr19', '33202666', '33202666', 'C', 'G', 'exonic', 'NUDT19', '.', 'nonsynonymous SNV', 'NUDT19:NM_001105570:exon3:c.C931G:p.L311V', 'exonic', 'ENSG00000213965', '.', 'nonsynonymous SNV', 'ENSG00000213965:ENST00000397061:exon3:c.C931G:p.L311V', '.', '0', '0', '0', '0', '0', '0', '0', '0', '8.177e-06', '0', '2.991e-05', '0', '0', '0', '9.018e-06', '0', '0', 'rs766234535', '0.009', 'D', '0.908', 'P', '0.444', 'B', '0.163', 'U', '0.998', 'D', '2.33', 'M', '0.66', 'T', '-2.28', 'N', '0.268', '4.425', '24.2', '0.997', '0.532', 'D', '-0.977', 'T', '0.141', 'T', '0.707', '0', '3.15', '-0.032', '0.048', '0.806', '0.672', '6.762', '.', '.', '.', '.', '.', '.', '.', '.', '.', '.', '.', '.', '.', '.', '.', '.', '.', '.', '.', '.', '.', '.', '.', '.', '.', '.', '.', '.', '.', '.', '.', '.', '.', '.', '.', '.', '.', '.', '.', '.', '.', '.', '.', '.', '.', '.', '.', '.', '.', '.', '.', '.', '.', '.', '.', '.', '.', '.', '.', '.', '.', '.', '.', '.', '.', '0.158', '0.5', '106.77', '17', 'chr19', '33202666', '.', 'C', 'G', '106.77', '.', 'AC=1;AF=0.500;AN=2;BaseQRankSum=-1.220e+00;ClippingRankSum=0.732;DP=17;ExcessHet=3.0103;FS=0.000;MLEAC=1;MLEAF=0.500;MQ=60.00;MQRankSum=-8.300e-01;QD=6.28;ReadPosRankSum=1.51;SOR=0.586', 'GT:AD:DP:GQ:PL', '0/1:10,7:17:99:135,0,225'], ['chrX', '73811792', '73811792', 'C', 'T', 'exonic', 'RLIM', '.', 'nonsynonymous SNV', 'RLIM:NM_016120:exon4:c.G1358A:p.S453N,RLIM:NM_183353:exon5:c.G1358A:p.S453N', 'exonic', 'ENSG00000131263', '.', 'nonsynonymous SNV', 'ENSG00000131263:ENST00000332687:exon4:c.G1358A:p.S453N,ENSG00000131263:ENST00000349225:exon5:c.G1358A:p.S453N', '.', '0', '0', '0', '0', '0', '0', '0', '0', '5.638e-06', '0', '0', '0', '0', '0', '1.26e-05', '0', '0', 'rs201787580', '0.257', 'T', '0.0', 'B', '0.0', 'B', '0.017', 'N', '1', 'N', '0.895', 'L', '-1.6', 'D', '-0.42', 'N', '0.192', '0.636', '8.402', '0.640', '0.449', 'N', '-0.872', 'T', '0.310', 'T', '.', '.', '4.1', '0.008', '0.077', '0.044', '0.986', '7.602', '.', '.', '.', '.', '.', '.', '.', '.', '.', '.', '.', '.', '.', '.', '.', '.', '.', '.', '.', '.', '.', '.', '.', '.', '.', '.', '.', '.', '.', '.', '.', '.', '.', '.', '.', '.', '.', '.', '.', '.', '.', '.', '.', '.', '.', '.', '.', '.', '.', '.', '.', '.', '.', '.', '.', '.', '.', '.', '.', '.', '.', '.', '.', '.', '.', '0.158', '0.5', '290.77', '334', 'chrX', '73811792', 'rs201787580', 'C', 'T', '290.77', '.', 'AC=1;AF=0.500;AN=2;BaseQRankSum=0.507;ClippingRankSum=-2.420e-01;DB;DP=334;ExcessHet=3.0103;FS=1.391;MLEAC=1;MLEAF=0.500;MQ=59.08;MQRankSum=-5.525e+00;QD=0.87;ReadPosRankSum=-3.582e+00;SOR=0.769', 'GT:AD:DP:GQ:PGT:PID:PL', '0/1:298,36:334:99:0|1:73811792_C_T:319,0,12090'], ['chrX', '118605017', '118605017', 'C', 'T', 'exonic', 'SLC25A5', '.', 'nonsynonymous SNV', 'SLC25A5:NM_001152:exon4:c.C893T:p.T298I', 'exonic', 'ENSG00000005022', '.', 'nonsynonymous SNV', 'ENSG00000005022:ENST00000317881:exon4:c.C893T:p.T298I', '.', '.', '.', '.', '.', '.', '.', '.', '.', '0', '0', '0', '0', '0', '0', '0', '0', '0', 'rs77294853', '0.057', 'T', '0.216', 'B', '0.411', 'B', '0.003', 'N', '0.813', 'D', '1.32', 'L', '-1.38', 'T', '1.39', 'N', '0.197', '5.730', '26.9', '0.998', '0.858', 'D', '-0.285', 'T', '0.428', 'T', '.', '.', '5.16', '0.868', '0.934', '1.000', '0.999', '10.562', 'Benign', 'not_specified', 'RCV000203197.1', 'MedGen', 'CN169374', '.', '.', '.', '.', '.', '.', '.', '.', '.', '.', '.', '.', '.', '.', '.', '.', '.', '.', '.', '.', '.', '.', '.', '.', '.', '.', '.', '.', '.', '.', '.', '.', '.', '.', '.', '.', '.', '.', '.', '.', '.', '.', '.', '.', '.', '.', '.', '.', '.', '.', '.', '.', '.', '.', '.', '.', '.', '.', '.', '.', '0.239', '0.5', '76.77', '9', 'chrX', '118605017', 'rs77294853', 'C', 'T', '76.77', '.', 'AC=1;AF=0.500;AN=2;BaseQRankSum=-1.422e+00;ClippingRankSum=-5.730e-01;DB;DP=9;ExcessHet=3.0103;FS=0.000;MLEAC=1;MLEAF=0.500;MQ=58.28;MQRankSum=-1.422e+00;QD=8.53;ReadPosRankSum=0.248;SOR=0.593', 'GT:AD:DP:GQ:PGT:PID:PL', '0/1:6,3:9:99:0|1:118605012_G_C:105,0,278']]\n",
      "========================================================\n",
      "['NBPF19', 'IGFN1', 'LIMS1', 'ACTR3', 'HNRNPA3', 'FSIP2', 'ZNF717', 'OR5H14', 'YEATS2', 'EIF4G1', 'MUC4', 'KIAA1211', 'WDR27', 'DNAH11', 'PRSS1', 'MYOM2', 'ZNF705G', 'SFMBT2', 'DHTKD1', 'OR51T1', 'OTOG', 'MFRP', 'TAS2R46', 'C12orf43', 'PABPC3', 'PDCD7', 'ZSCAN2', 'CACNA1H', 'ZSCAN10', 'RIPOR1', 'KIF1C', 'FAM222B', 'KPNA2', 'SBNO2', 'MUC16', 'NUDT19', 'RLIM', 'SLC25A5']\n",
      "Done\n"
     ]
    }
   ],
   "source": [
    "rows, functions,exfunc, rs,gene, exacall, gnomall, pathogenics, muttype = load_annovar('sp82.hg19_multianno.txt')\n",
    "count = 0\n",
    "print ('Starting ....')\n",
    "outfile = 'sp82.raremaf.filtered.txt'\n",
    "sp82_raremaf_genes = []\n",
    "sp82_raremaf_variants = [] \n",
    "print (cutoff)\n",
    "for i in range(0,len(exacall) ): \n",
    "    if ( (gnomall[i] != '.') and   (exacall[i] !='.' ) ) :\n",
    "        if (  (float(gnomall[i]) < cutoff) and (float(exacall[i]) < cutoff)   and (functions[i] =='exonic') and ( muttype[i] != 'synonymous SNV' )): \n",
    "            count += 1 \n",
    "            writelist(rows[i], outfile)\n",
    "            print(rs[i], gene[i], exacall[i],gnomall[i], muttype[i]) \n",
    "            if gene[i] not in sp82_raremaf_genes: \n",
    "                    sp82_raremaf_genes.append(gene[i])\n",
    "            sp82_raremaf_variants.append(rows[i])\n",
    "            #var = rs[i] + '.' + gene[i] +'.' +exacall[i] +'.'+ gnomall[i]        \n",
    "            #if var not in sp82_raremaf_variants: \n",
    "                #sp82_raremaf_variants.append(var)\n",
    "    elif ( (gnomall[i]=='.') and (exacall[i].isdigit())):\n",
    "           print(gnomall[i])\n",
    "           if ((float(exacall[i]) < cutoff)and (functions[i] =='exonic')  and ( muttype[i] != 'synonymous SNV' )): \n",
    "                count += 1 \n",
    "                writelist(rows[i], outfile)\n",
    "                print(rs[i], gene[i], exacall[i],gnomall[i], muttype[i])\n",
    "                if gene[i] not in sp82_raremaf_genes: \n",
    "                        sp82_raremaf_genes.append(gene[i])\n",
    "                sp82_raremaf_variants.append(rows[i])\n",
    "                #var = rs[i] + '.' + gene[i] +'.' +exacall[i] +'.'+ gnomall[i]\n",
    "                #if var not in sp82_raremaf_variants: \n",
    "                    #sp82_raremaf_variants.append(var)\n",
    "           \n",
    "    elif (( exacall[i]=='.') and   (gnomall[i].isdigit())): \n",
    "            print(exacall[i])\n",
    "            if( (float (gnomall[i]) < cutoff)  and (functions[i] =='exonic') and  ( muttype[i] != 'synonymous SNV' )): \n",
    "                count += 1 \n",
    "                writelist(rows[i], outfile)\n",
    "                print(rs[i], gene[i], exacall[i],gnomall[i], muttype[i])\n",
    "                if gene[i] not in  sp82_raremaf_genes: \n",
    "                         sp82_raremaf_genes.append(gene[i])\n",
    "                sp82_raremaf_variants.append(rows[i])       \n",
    "                #var = rs[i] + '.' + gene[i] +'.' +exacall[i] +'.'+ gnomall[i]\n",
    "                #if var not in sp82_raremaf_variants: \n",
    "                    #sp82_raremaf_variants.append(var)\n",
    "print ('We reached printing stage')\n",
    "print ('Number of variants with gnomall and/or exac <', cutoff, 'is:',count)\n",
    "print (sp82_raremaf_variants)\n",
    "print('========================================================')\n",
    "print(sp82_raremaf_genes)\n",
    "print('Done')"
   ]
  },
  {
   "cell_type": "code",
   "execution_count": null,
   "metadata": {
    "collapsed": true,
    "deletable": true,
    "editable": true
   },
   "outputs": [],
   "source": []
  }
 ],
 "metadata": {
  "anaconda-cloud": {},
  "kernelspec": {
   "display_name": "Python 2",
   "language": "python",
   "name": "python2"
  },
  "language_info": {
   "codemirror_mode": {
    "name": "ipython",
    "version": 2
   },
   "file_extension": ".py",
   "mimetype": "text/x-python",
   "name": "python",
   "nbconvert_exporter": "python",
   "pygments_lexer": "ipython2",
   "version": "2.7.12"
  }
 },
 "nbformat": 4,
 "nbformat_minor": 1
}
