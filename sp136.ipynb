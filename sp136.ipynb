{
 "cells": [
  {
   "cell_type": "code",
   "execution_count": 1,
   "metadata": {
    "collapsed": true,
    "deletable": true,
    "editable": true
   },
   "outputs": [],
   "source": [
    "import csv\n",
    "import sys\n",
    "import re\n",
    "import matplotlib.pyplot as plt\n",
    "import numpy as np"
   ]
  },
  {
   "cell_type": "markdown",
   "metadata": {
    "deletable": true,
    "editable": true
   },
   "source": [
    "# Cutoff for rare variants "
   ]
  },
  {
   "cell_type": "code",
   "execution_count": 2,
   "metadata": {
    "collapsed": true,
    "deletable": true,
    "editable": true
   },
   "outputs": [],
   "source": [
    "cutoff  = 0.0000001"
   ]
  },
  {
   "cell_type": "code",
   "execution_count": 3,
   "metadata": {
    "collapsed": true,
    "deletable": true,
    "editable": true
   },
   "outputs": [],
   "source": [
    "def writelist (mylist, myfile): \n",
    "    fp =  open(myfile,'a+')\n",
    "    for idx,item in enumerate(mylist):\n",
    "            fp.write(item)\n",
    "            fp.write('\\t')\n",
    "    fp.write('\\n')\n",
    "    fp.close()"
   ]
  },
  {
   "cell_type": "code",
   "execution_count": 4,
   "metadata": {
    "collapsed": true,
    "deletable": true,
    "editable": true
   },
   "outputs": [],
   "source": [
    "def intersections(list1, list2):\n",
    "    intersection_list = []\n",
    "    for i in list1: \n",
    "        if i in list2: \n",
    "                intersection_list.append(i)\n",
    "    return intersection_list"
   ]
  },
  {
   "cell_type": "code",
   "execution_count": 5,
   "metadata": {
    "collapsed": true,
    "deletable": true,
    "editable": true
   },
   "outputs": [],
   "source": [
    "def intersections3(list1, list2, list3):\n",
    "    intersection_list = []\n",
    "    for i in list1: \n",
    "        if i in list2: \n",
    "                if i in list3:\n",
    "                    intersection_list.append(i)\n",
    "    return intersection_list"
   ]
  },
  {
   "cell_type": "code",
   "execution_count": 6,
   "metadata": {
    "collapsed": true,
    "deletable": true,
    "editable": true
   },
   "outputs": [],
   "source": [
    "def intersections2n(list1, list2, list3):\n",
    "    intersection_list = []\n",
    "    nlist = [] \n",
    "    for i in list1: \n",
    "        if i in list2: \n",
    "                intersection_list.append(i)\n",
    "    for i in intersection_list:\n",
    "            if i not in list3:\n",
    "                    nlist.append(i)\n",
    "    for i in nlist: \n",
    "            print (i)\n",
    "    return intersection_list"
   ]
  },
  {
   "cell_type": "code",
   "execution_count": 7,
   "metadata": {
    "collapsed": true,
    "deletable": true,
    "editable": true
   },
   "outputs": [],
   "source": [
    "def intersections3n(list1, list2, list3, list4):\n",
    "    intersection_list = []\n",
    "    nlist = []\n",
    "    for i in list1 : \n",
    "        if i in list2 : \n",
    "            if i in list3 :\n",
    "                intersection_list.append(i)\n",
    "    for i in intersection_list:\n",
    "            if i not in list4:\n",
    "                    nlist.append(i)\n",
    "    for i in nlist: \n",
    "            print (i)\n",
    "    return nlist"
   ]
  },
  {
   "cell_type": "code",
   "execution_count": 8,
   "metadata": {
    "collapsed": true,
    "deletable": true,
    "editable": true
   },
   "outputs": [],
   "source": [
    "def difference(list1, list2):\n",
    "    unique_list = []\n",
    "    for i in list1: \n",
    "        if i not in list2: \n",
    "                unique_list.append(i)\n",
    "    return unique_list"
   ]
  },
  {
   "cell_type": "code",
   "execution_count": 9,
   "metadata": {
    "collapsed": true,
    "deletable": true,
    "editable": true
   },
   "outputs": [],
   "source": [
    "def difference2(list1, list2, list3):\n",
    "    unique_list = []\n",
    "    for i in list1: \n",
    "        if i not in list2 and i not in list3: \n",
    "                unique_list.append(i)\n",
    "    return unique_list"
   ]
  },
  {
   "cell_type": "code",
   "execution_count": 10,
   "metadata": {
    "collapsed": true,
    "deletable": true,
    "editable": true
   },
   "outputs": [],
   "source": [
    "def difference3(list1, list2, list3):\n",
    "    unique_list = []\n",
    "    for i in list1: \n",
    "        if i in list2: \n",
    "            if i not in list3: \n",
    "                unique_list.append(i)\n",
    "    return unique_list"
   ]
  },
  {
   "cell_type": "code",
   "execution_count": 11,
   "metadata": {
    "collapsed": true,
    "deletable": true,
    "editable": true
   },
   "outputs": [],
   "source": [
    "def exist (list1, list2): \n",
    "    found_list = []\n",
    "    for i in list1: \n",
    "            if i not in found_list: \n",
    "                    found_list.append(i)\n",
    "    for i in list2: \n",
    "            if i not in found_list: \n",
    "                    found_list.append(i)\n",
    "    return found_list "
   ]
  },
  {
   "cell_type": "markdown",
   "metadata": {
    "deletable": true,
    "editable": true
   },
   "source": [
    "# Read annovar annotation file"
   ]
  },
  {
   "cell_type": "code",
   "execution_count": 12,
   "metadata": {
    "collapsed": true,
    "deletable": true,
    "editable": true
   },
   "outputs": [],
   "source": [
    " def load_annovar(filename):\n",
    "    rows = []\n",
    "    exacall = []\n",
    "    gnomall = []\n",
    "    rs = []\n",
    "    gene = []\n",
    "    pathogenics = []\n",
    "    functions = []\n",
    "    exonicfunctions =[]\n",
    "    muttype = []\n",
    "    fp = open(filename, 'r')\n",
    "    r = csv.reader(fp, delimiter='\\t')\n",
    "    for n, row in enumerate(r):\n",
    "        #rs ,pos,_,ensg,_, enst,_,_,_,_,_,_,_,impact =row[:14]\n",
    "        if n == 0: \n",
    "                print (row[8])\n",
    "                print(row[16])\n",
    "                print(row[124])\n",
    "                print(row[24])\n",
    "                print(row[6])\n",
    "                print (row[5])\n",
    "                print(row[59])\n",
    "            \n",
    "                continue\n",
    "        exonicfunctions.append(row[8])\n",
    "        muttype.append(row[13])\n",
    "        exacall.append(row[16])\n",
    "        #gnomall.append(row[124])\n",
    "        gnomall.append(row[24])\n",
    "        #rs.append(row[24])\n",
    "        rs.append(row[139])\n",
    "        rows.append(row)\n",
    "        gene.append(row[6])\n",
    "        functions.append(row[5])\n",
    "        pathogenics.append(row[59])\n",
    "    return rows, functions, exonicfunctions, rs, gene,  exacall , gnomall, pathogenics, muttype"
   ]
  },
  {
   "cell_type": "code",
   "execution_count": 13,
   "metadata": {
    "collapsed": false,
    "deletable": true,
    "editable": true
   },
   "outputs": [
    {
     "name": "stdout",
     "output_type": "stream",
     "text": [
      "ExonicFunc.refGene\n",
      "ExAC_ALL\n",
      "Examined_samples\n",
      "gnomAD_exome_ALL\n",
      "Gene.refGene\n",
      "Func.refGene\n",
      "MetaLR_pred\n",
      "Starting ....\n",
      "1e-07\n",
      ".\n",
      "('.', 'STK39', '0', '0', 'nonframeshift insertion')\n",
      ".\n",
      "('.', 'ZNF717', '.', '0', 'nonframeshift insertion')\n",
      ".\n",
      "('rs34133353', 'FOXO3', '.', '0', 'frameshift insertion')\n",
      "('.', 'ABCB5', '0', '0', 'nonsynonymous SNV')\n",
      ".\n",
      ".\n",
      ".\n",
      ".\n",
      "('.', 'PRSS3', '.', '0', 'frameshift deletion')\n",
      ".\n",
      "('rs200995469', 'MUC6', '.', '0', 'nonsynonymous SNV')\n",
      ".\n",
      "('.', 'MUC6', '.', '0', 'nonsynonymous SNV')\n",
      ".\n",
      ".\n",
      "('.', 'MUC6', '.', '0', 'nonsynonymous SNV')\n",
      ".\n",
      ".\n",
      "('.', 'FAM186A', '.', '0', 'nonframeshift insertion')\n",
      ".\n",
      "('rs79246694', 'PABPC3', '.', '0', 'nonsynonymous SNV')\n",
      ".\n",
      "('rs376589131', 'PABPC3', '.', '0', 'frameshift deletion')\n",
      "('rs80261016', 'PABPC3', '0', '0', 'nonsynonymous SNV')\n",
      ".\n",
      "('rs371570689', 'PABPC3', '.', '0', 'frameshift deletion')\n",
      ".\n",
      ".\n",
      "('.', 'KRTAP2-2', '.', '0', 'frameshift insertion')\n",
      ".\n",
      ".\n",
      "('.', 'KRTAP4-11;KRTAP4-8', '.', '0', 'nonsynonymous SNV')\n",
      ".\n",
      ".\n",
      "('.', 'DCAF12L1', '0', '0', 'nonsynonymous SNV')\n",
      "We reached printing stage\n",
      "('Number of variants with gnomall and/or exac <', 1e-07, 'is:', 16)\n",
      "[['chr2', '169103796', '169103796', '-', 'GCCGGG', 'exonic', 'STK39', '.', 'nonframeshift insertion', 'STK39:NM_013233:exon1:c.149_150insCCCGGC:p.A50delinsAPA', 'exonic', 'ENSG00000198648', '.', 'nonframeshift insertion', 'ENSG00000198648:ENST00000355999:exon1:c.149_150insCCCGGC:p.A50delinsAPA', '.', '0', '.', '0', '.', '.', '.', '.', '.', '0', '.', '.', '.', '.', '0', '.', '.', '0', 'rs537577117', '.', '.', '.', '.', '.', '.', '.', '.', '.', '.', '.', '.', '.', '.', '.', '.', '.', '.', '.', '.', '.', '.', '.', '.', '.', '.', '.', '.', '.', '.', '.', '.', '.', '.', '.', '.', '.', '.', '.', '.', '.', '.', '.', '.', '.', '.', '.', '.', '.', '.', '.', '.', '.', '.', '.', '.', '.', '.', '.', '.', '.', '.', '.', '.', '.', '.', '.', '.', '.', '.', '.', '.', '.', '.', '.', '.', '.', '.', '.', '.', '.', '.', '.', '.', '.', '.', '.', '.', '.', '.', '.', '.', '.', '.', '.', '.', '.', '.', '.', '.', '0.5', '39.73', '2', 'chr2', '169103796', '.', 'C', 'CGCCGGG', '39.73', '.', 'AC=1;AF=0.500;AN=2;DP=21;ExcessHet=3.0103;FS=0.000;MLEAC=1;MLEAF=0.500;MQ=60.00;QD=19.87;SOR=0.693', 'GT:AD:DP:GQ:PL', '0/1:0,2:2:39:77,0,39'], ['chr3', '75790876', '75790876', '-', 'GATGCCAACTCCTGTAATGATAGCAGGCTGTTATAAGTCTCCAGCATCACATCCCTGTACAGGGTCCTCTGAGCATTATCCAGGTCCTGCCACTCCTCCCAGGTGAAGTGCACAGCAACATCTTCAAAA', 'exonic', 'ZNF717', '.', 'nonframeshift insertion', 'ZNF717:NM_001128223:exon3:c.68_69insTTTTGAAGATGTTGCTGTGCACTTCACCTGGGAGGAGTGGCAGGACCTGGATAATGCTCAGAGGACCCTGTACAGGGATGTGATGCTGGAGACTTATAACAGCCTGCTATCATTACAGGAGTTGGCATC:p.S23delinsSFEDVAVHFTWEEWQDLDNAQRTLYRDVMLETYNSLLSLQELAS,ZNF717:NM_001290208:exon3:c.68_69insTTTTGAAGATGTTGCTGTGCACTTCACCTGGGAGGAGTGGCAGGACCTGGATAATGCTCAGAGGACCCTGTACAGGGATGTGATGCTGGAGACTTATAACAGCCTGCTATCATTACAGGAGTTGGCATC:p.S23delinsSFEDVAVHFTWEEWQDLDNAQRTLYRDVMLETYNSLLSLQELAS,ZNF717:NM_001290210:exon3:c.68_69insTTTTGAAGATGTTGCTGTGCACTTCACCTGGGAGGAGTGGCAGGACCTGGATAATGCTCAGAGGACCCTGTACAGGGATGTGATGCTGGAGACTTATAACAGCCTGCTATCATTACAGGAGTTGGCATC:p.S23delinsSFEDVAVHFTWEEWQDLDNAQRTLYRDVMLETYNSLLSLQELAS,ZNF717:NM_001324027:exon3:c.68_69insTTTTGAAGATGTTGCTGTGCACTTCACCTGGGAGGAGTGGCAGGACCTGGATAATGCTCAGAGGACCCTGTACAGGGATGTGATGCTGGAGACTTATAACAGCCTGCTATCATTACAGGAGTTGGCATC:p.S23delinsSFEDVAVHFTWEEWQDLDNAQRTLYRDVMLETYNSLLSLQELAS,ZNF717:NM_001324028:exon3:c.47_48insTTTTGAAGATGTTGCTGTGCACTTCACCTGGGAGGAGTGGCAGGACCTGGATAATGCTCAGAGGACCCTGTACAGGGATGTGATGCTGGAGACTTATAACAGCCTGCTATCATTACAGGAGTTGGCATC:p.S16delinsSFEDVAVHFTWEEWQDLDNAQRTLYRDVMLETYNSLLSLQELAS,ZNF717:NM_001324026:exon4:c.68_69insTTTTGAAGATGTTGCTGTGCACTTCACCTGGGAGGAGTGGCAGGACCTGGATAATGCTCAGAGGACCCTGTACAGGGATGTGATGCTGGAGACTTATAACAGCCTGCTATCATTACAGGAGTTGGCATC:p.S23delinsSFEDVAVHFTWEEWQDLDNAQRTLYRDVMLETYNSLLSLQELAS', 'exonic', 'ENSG00000227124', '.', 'nonframeshift insertion', 'ENSG00000227124:ENST00000400845:exon3:c.47_48insTTTTGAAGATGTTGCTGTGCACTTCACCTGGGAGGAGTGGCAGGACCTGGATAATGCTCAGAGGACCCTGTACAGGGATGTGATGCTGGAGACTTATAACAGCCTGCTATCATTACAGGAGTTGGCATC:p.S16delinsSFEDVAVHFTWEEWQDLDNAQRTLYRDVMLETYNSLLSLQELAS,ENSG00000227124:ENST00000422325:exon3:c.68_69insTTTTGAAGATGTTGCTGTGCACTTCACCTGGGAGGAGTGGCAGGACCTGGATAATGCTCAGAGGACCCTGTACAGGGATGTGATGCTGGAGACTTATAACAGCCTGCTATCATTACAGGAGTTGGCATC:p.S23delinsSFEDVAVHFTWEEWQDLDNAQRTLYRDVMLETYNSLLSLQELAS,ENSG00000227124:ENST00000468296:exon3:c.68_69insTTTTGAAGATGTTGCTGTGCACTTCACCTGGGAGGAGTGGCAGGACCTGGATAATGCTCAGAGGACCCTGTACAGGGATGTGATGCTGGAGACTTATAACAGCCTGCTATCATTACAGGAGTTGGCATC:p.S23delinsSFEDVAVHFTWEEWQDLDNAQRTLYRDVMLETYNSLLSLQELAS,ENSG00000227124:ENST00000477374:exon3:c.68_69insTTTTGAAGATGTTGCTGTGCACTTCACCTGGGAGGAGTGGCAGGACCTGGATAATGCTCAGAGGACCCTGTACAGGGATGTGATGCTGGAGACTTATAACAGCCTGCTATCATTACAGGAGTTGGCATC:p.S23delinsSFEDVAVHFTWEEWQDLDNAQRTLYRDVMLETYNSLLSLQELAS', '.', '.', '.', '.', '.', '.', '.', '.', '.', '0', '0', '0', '0', '0', '0', '0', '0', '0', '.', '.', '.', '.', '.', '.', '.', '.', '.', '.', '.', '.', '.', '.', '.', '.', '.', '.', '.', '.', '.', '.', '.', '.', '.', '.', '.', '.', '.', '.', '.', '.', '.', '.', '.', '.', '.', '.', '.', '.', '.', '.', '.', '.', '.', '.', '.', '.', '.', '.', '.', '.', '.', '.', '.', '.', '.', '.', '.', '.', '.', '.', '.', '.', '.', '.', '.', '.', '.', '.', '.', '.', '.', '.', '.', '.', '.', '.', '.', '.', '.', '.', '.', '.', '.', '.', '.', '.', '.', '.', '.', '.', '.', '.', '.', '.', '.', '.', '.', '.', '.', '0.5', '49.77', '3', 'chr3', '75790876', '.', 'G', 'GGATGCCAACTCCTGTAATGATAGCAGGCTGTTATAAGTCTCCAGCATCACATCCCTGTACAGGGTCCTCTGAGCATTATCCAGGTCCTGCCACTCCTCCCAGGTGAAGTGCACAGCAACATCTTCAAAA', '49.77', '.', 'AC=1;AF=0.500;AN=2;BaseQRankSum=-7.360e-01;ClippingRankSum=0.736;DP=3;ExcessHet=3.0103;FS=4.771;MLEAC=1;MLEAF=0.500;MQ=25.16;MQRankSum=-7.360e-01;QD=16.59;ReadPosRankSum=-7.360e-01;SOR=1.414', 'GT:AD:DP:GQ:PL', '0/1:2,1:3:65:78,0,65'], ['chr6', '108985176', '108985176', '-', 'G', 'exonic', 'FOXO3', '.', 'frameshift insertion', 'FOXO3:NM_001455:exon2:c.1141dupG:p.D380fs,FOXO3:NM_201559:exon3:c.1141dupG:p.D380fs', 'exonic', 'ENSG00000118689', '.', 'frameshift insertion', 'ENSG00000118689:ENST00000406360:exon2:c.1141dupG:p.D380fs,ENSG00000118689:ENST00000540898:exon2:c.481dupG:p.D160fs,ENSG00000118689:ENST00000343882:exon3:c.1141dupG:p.D380fs', '.', '.', '.', '.', '.', '.', '.', '.', '.', '0', '0', '0', '0', '0', '0', '0', '0', '0', 'rs34133353', '.', '.', '.', '.', '.', '.', '.', '.', '.', '.', '.', '.', '.', '.', '.', '.', '.', '.', '.', '.', '.', '.', '.', '.', '.', '.', '.', '.', '.', '.', '.', '.', '.', '.', '.', '.', '.', '.', '.', '.', '.', '.', '.', '.', '.', '.', '.', '.', '.', '.', '.', '.', '.', '.', '.', '.', '.', '.', '.', '.', '.', '.', '.', '.', '.', '.', '.', '.', '.', '.', '.', '.', '.', '.', '.', '.', '.', '.', '.', '.', '.', '.', '.', '.', '.', '.', '.', '.', '.', '.', '.', '.', '.', '.', '.', '.', '.', '.', '.', '.', '0.5', '645.73', '237', 'chr6', '108985176', 'rs34133353', 'T', 'TG', '645.73', '.', 'AC=1;AF=0.500;AN=2;BaseQRankSum=-3.986e+00;ClippingRankSum=-1.192e+00;DB;DP=254;ExcessHet=3.0103;FS=2.141;MLEAC=1;MLEAF=0.500;MQ=55.09;MQRankSum=-1.016e+01;QD=2.72;ReadPosRankSum=4.64;SOR=0.518', 'GT:AD:DP:GQ:PL', '0/1:195,42:237:99:683,0,5993'], ['chr7', '20687171', '20687171', 'T', 'C', 'exonic', 'ABCB5', '.', 'nonsynonymous SNV', 'ABCB5:NM_001163941:exon10:c.T995C:p.V332A', 'exonic', 'ENSG00000004846', '.', 'nonsynonymous SNV', 'ENSG00000004846:ENST00000404938:exon10:c.T995C:p.V332A', '.', '0', '0', '0', '0', '0', '0', '0', '0', '0', '0', '0', '0', '0', '0', '0', '0', '0', 'rs747874478', '0.001', 'D', '0.987', 'D', '0.819', 'P', '.', '.', '1', 'D', '2.13', 'M', '-2.55', 'D', '-3.48', 'D', '0.396', '3.584', '23.2', '0.985', '0.954', 'D', '0.399', 'D', '0.719', 'D', '0.487', '0', '2.93', '0.991', '0.141', '0.548', '0.150', '9.171', '.', '.', '.', '.', '.', '.', '.', '.', '.', '.', '.', '.', '.', '.', '.', '.', '.', '.', '.', '.', '.', '.', '.', '.', '.', '.', '.', '.', '.', '.', '.', '.', '.', '.', '.', '.', '.', '.', '.', '.', '.', '.', '.', '.', '.', '.', '.', '.', '.', '.', '.', '.', '.', '.', '.', '.', '.', '.', '.', '.', '.', '.', '.', '.', '.', '0.594', '0.5', '1090.77', '80', 'chr7', '20687171', '.', 'T', 'C', '1090.77', '.', 'AC=1;AF=0.500;AN=2;BaseQRankSum=0.183;ClippingRankSum=0.875;DP=80;ExcessHet=3.0103;FS=0.000;MLEAC=1;MLEAF=0.500;MQ=60.00;MQRankSum=-9.060e-01;QD=13.63;ReadPosRankSum=0.224;SOR=0.600', 'GT:AD:DP:GQ:PL', '0/1:27,53:80:99:1119,0,461'], ['chr9', '33797931', '33797932', 'AC', '-', 'exonic', 'PRSS3', '.', 'frameshift deletion', 'PRSS3:NM_001197098:exon3:c.284_285del:p.D95fs,PRSS3:NM_002771:exon3:c.305_306del:p.D102fs,PRSS3:NM_007343:exon3:c.476_477del:p.D159fs,PRSS3:NM_001197097:exon4:c.347_348del:p.D116fs', 'exonic', 'ENSG00000010438', '.', 'frameshift deletion', 'ENSG00000010438:ENST00000361005:exon3:c.476_477del:p.D159fs,ENSG00000010438:ENST00000379405:exon3:c.305_306del:p.D102fs,ENSG00000010438:ENST00000429677:exon3:c.284_285del:p.D95fs,ENSG00000010438:ENST00000342836:exon4:c.347_348del:p.D116fs,ENSG00000010438:ENST00000457896:exon4:c.341_342del:p.D114fs', '.', '.', '.', '.', '.', '.', '.', '.', '.', '0', '0', '0', '0', '0', '0', '0', '0', '0', 'rs797012348', '.', '.', '.', '.', '.', '.', '.', '.', '.', '.', '.', '.', '.', '.', '.', '.', '.', '.', '.', '.', '.', '.', '.', '.', '.', '.', '.', '.', '.', '.', '.', '.', '.', '.', '.', '.', '.', '.', '.', '.', '.', '.', '.', '.', '.', '.', '.', '.', '.', '.', '.', '.', '.', '.', '.', '.', '.', '.', '.', '.', '.', '.', '.', '.', '.', '.', '.', '.', '.', '.', '.', '.', '.', '.', '.', '.', '.', '.', '.', '.', '.', '.', '.', '.', '.', '.', '.', '.', '.', '.', '.', '.', '.', '.', '.', '.', '.', '.', '.', '.', '0.5', '7027.73', '593', 'chr9', '33797930', '.', 'GAC', 'G', '7027.73', '.', 'AC=1;AF=0.500;AN=2;BaseQRankSum=1.66;ClippingRankSum=1.67;DP=595;ExcessHet=3.0103;FS=5.695;MLEAC=1;MLEAF=0.500;MQ=57.10;MQRankSum=-1.391e+01;QD=11.85;ReadPosRankSum=-3.879e+00;SOR=1.095', 'GT:AD:DP:GQ:PGT:PID:PL', '0/1:424,169:593:99:0|1:33797917_T_C:7065,0,17415'], ['chr11', '1018275', '1018275', 'G', 'A', 'exonic', 'MUC6', '.', 'nonsynonymous SNV', 'MUC6:NM_005961:exon31:c.C4526T:p.T1509I', 'exonic', 'ENSG00000184956', '.', 'nonsynonymous SNV', 'ENSG00000184956:ENST00000421673:exon31:c.C4526T:p.T1509I', '.', '.', '.', '.', '.', '.', '.', '.', '.', '0', '0', '0', '0', '0', '0', '0', '0', '0', 'rs200995469', '0.272', 'T', '0.002', 'B', '0.002', 'B', '.', '.', '1', 'N', '1.155', 'L', '1.82', 'T', '-0.85', 'N', '0.042', '0.004', '2.621', '0.593', '0.026', 'N', '-0.965', 'T', '0.037', 'T', '0.693', '0', '-0.307', '-0.506', '-0.239', '0.003', '0.002', '6.174', '.', '.', '.', '.', '.', '.', '.', '.', '.', '.', '.', '.', '.', '.', '.', '.', '.', '.', '.', '.', '.', '.', '.', '.', '.', '.', '.', '.', '.', '.', '.', '.', '.', '.', '.', '.', '.', '.', '.', '.', '.', '.', '.', '.', '.', '.', '.', '.', '.', '.', '.', '.', '.', '.', '.', '.', '.', '.', '.', '.', '.', '.', '.', '.', '.', '0.010', '0.5', '2287.77', '867', 'chr11', '1018275', 'rs200995469', 'G', 'A', '2287.77', '.', 'AC=1;AF=0.500;AN=2;BaseQRankSum=-3.284e+00;ClippingRankSum=-1.342e+00;DB;DP=869;ExcessHet=3.0103;FS=1.707;MLEAC=1;MLEAF=0.500;MQ=57.42;MQRankSum=-9.341e+00;QD=2.64;ReadPosRankSum=4.69;SOR=0.858', 'GT:AD:DP:GQ:PGT:PID:PL', '0/1:756,111:867:99:0|1:1018275_G_A:2316,0,32376'], ['chr11', '1018312', '1018312', 'G', 'A', 'exonic', 'MUC6', '.', 'nonsynonymous SNV', 'MUC6:NM_005961:exon31:c.C4489T:p.H1497Y', 'exonic', 'ENSG00000184956', '.', 'nonsynonymous SNV', 'ENSG00000184956:ENST00000421673:exon31:c.C4489T:p.H1497Y', '.', '.', '.', '.', '.', '.', '.', '.', '.', '0', '0', '0', '0', '0', '0', '0', '0', '0', 'rs796958041', '0.001', 'D', '0.963', 'D', '0.425', 'B', '.', '.', '1', 'N', '1.14', 'L', '1.94', 'T', '-0.68', 'N', '0.073', '-0.133', '1.495', '0.711', '0.019', 'N', '-1.061', 'T', '0.042', 'T', '0.693', '0', '1.46', '-0.788', '-1.064', '0.000', '0.000', '8.647', '.', '.', '.', '.', '.', '.', '.', '.', '.', '.', '.', '.', '.', '.', '.', '.', '.', '.', '.', '.', '.', '.', '.', '.', '.', '.', '.', '.', '.', '.', '.', '.', '.', '.', '.', '.', '.', '.', '.', '.', '.', '.', '.', '.', '.', '.', '.', '.', '.', '.', '.', '.', '.', '.', '.', '.', '.', '.', '.', '.', '.', '.', '.', '.', '.', '0.040', '0.5', '1540.77', '850', 'chr11', '1018312', '.', 'G', 'A', '1540.77', '.', 'AC=1;AF=0.500;AN=2;BaseQRankSum=-2.003e+00;ClippingRankSum=-3.580e-01;DP=853;ExcessHet=3.0103;FS=3.100;MLEAC=1;MLEAF=0.500;MQ=57.35;MQRankSum=-8.540e+00;QD=1.81;ReadPosRankSum=-2.366e+00;SOR=1.203', 'GT:AD:DP:GQ:PGT:PID:PL', '0/1:757,93:850:99:0|1:1018275_G_A:1569,0,32304'], ['chr11', '1018333', '1018333', 'G', 'C', 'exonic', 'MUC6', '.', 'nonsynonymous SNV', 'MUC6:NM_005961:exon31:c.C4468G:p.L1490V', 'exonic', 'ENSG00000184956', '.', 'nonsynonymous SNV', 'ENSG00000184956:ENST00000421673:exon31:c.C4468G:p.L1490V', '.', '.', '.', '.', '.', '.', '.', '.', '.', '0', '0', '0', '0', '0', '0', '0', '0', '0', 'rs763858758', '1.0', 'T', '0.0', 'B', '0.0', 'B', '.', '.', '1', 'N', '0.08', 'N', '1.91', 'T', '0.07', 'N', '0.02', '-3.141', '0.001', '0.421', '0.001', 'N', '-0.958', 'T', '0.022', 'T', '0.660', '0', '-4.86', '-2.574', '-4.911', '0.000', '0.000', '8.089', '.', '.', '.', '.', '.', '.', '.', '.', '.', '.', '.', '.', '.', '.', '.', '.', '.', '.', '.', '.', '.', '.', '.', '.', '.', '.', '.', '.', '.', '.', '.', '.', '.', '.', '.', '.', '.', '.', '.', '.', '.', '.', '.', '.', '.', '.', '.', '.', '.', '.', '.', '.', '.', '.', '.', '.', '.', '.', '.', '.', '.', '.', '.', '.', '.', '0.013', '0.5', '113.77', '774', 'chr11', '1018333', '.', 'G', 'C', '113.77', '.', 'AC=1;AF=0.500;AN=2;BaseQRankSum=0.657;ClippingRankSum=-4.750e-01;DP=776;ExcessHet=3.0103;FS=8.457;MLEAC=1;MLEAF=0.500;MQ=57.63;MQRankSum=-6.710e+00;QD=0.15;ReadPosRankSum=-3.605e+00;SOR=1.958', 'GT:AD:DP:GQ:PGT:PID:PL', '0/1:725,49:774:99:0|1:1018275_G_A:142,0,30652'], ['chr12', '50745702', '50745702', '-', 'AGA', 'exonic', 'FAM186A', '.', 'nonframeshift insertion', 'FAM186A:NM_001145475:exon4:c.4912_4913insTCT:p.T1638delinsIS', 'exonic', 'ENSG00000185958', '.', 'nonframeshift insertion', 'ENSG00000185958:ENST00000327337:exon4:c.4912_4913insTCT:p.T1638delinsIS,ENSG00000185958:ENST00000543111:exon4:c.4912_4913insTCT:p.T1638delinsIS', '.', '.', '.', '.', '.', '.', '.', '.', '.', '0', '0', '0', '0', '0', '0', '0', '0', '0', '.', '.', '.', '.', '.', '.', '.', '.', '.', '.', '.', '.', '.', '.', '.', '.', '.', '.', '.', '.', '.', '.', '.', '.', '.', '.', '.', '.', '.', '.', '.', '.', '.', '.', '.', '.', '.', '.', '.', '.', '.', '.', '.', '.', '.', '.', '.', '.', '.', '.', '.', '.', '.', '.', '.', '.', '.', '.', '.', '.', '.', '.', '.', '.', '.', '.', '.', '.', '.', '.', '.', '.', '.', '.', '.', '.', '.', '.', '.', '.', '.', '.', '.', '.', '.', '.', '.', '.', '.', '.', '.', '.', '.', '.', '.', '.', '.', '.', '.', '.', '.', '0.5', '397.73', '126', 'chr12', '50745702', '.', 'G', 'GAGA', '397.73', '.', 'AC=1;AF=0.500;AN=2;BaseQRankSum=-3.400e-02;ClippingRankSum=-5.190e-01;DP=232;ExcessHet=3.0103;FS=0.843;MLEAC=1;MLEAF=0.500;MQ=57.99;MQRankSum=-1.973e+00;QD=3.16;ReadPosRankSum=0.047;SOR=0.816', 'GT:AD:DP:GQ:PGT:PID:PL', '0/1:102,24:126:99:0|1:50745702_G_GAGA:435,0,4135'], ['chr13', '25671271', '25671271', 'A', 'G', 'exonic', 'PABPC3', '.', 'nonsynonymous SNV', 'PABPC3:NM_030979:exon1:c.A935G:p.K312R', 'exonic', 'ENSG00000151846', '.', 'nonsynonymous SNV', 'ENSG00000151846:ENST00000281589:exon1:c.A935G:p.K312R', '.', '.', '.', '.', '.', '.', '.', '.', '.', '0', '0', '0', '0', '0', '0', '0', '0', '0', 'rs79246694', '0.092', 'T', '0.383', 'B', '0.344', 'B', '0.000', 'U', '1.000', 'D', '0.17', 'N', '2.34', 'T', '-2.35', 'N', '0.327', '1.295', '12.24', '0.988', '0.698', 'D', '-1.043', 'T', '0.026', 'T', '0.706', '0', '0.875', '0.649', '0.388', '0.926', '0.008', '5.899', '.', '.', '.', '.', '.', '.', '.', '.', '.', '.', '.', '.', '.', '.', '.', '.', '.', '.', '.', '.', '.', '.', '.', '.', '.', '.', '.', '.', '.', '.', '.', '.', '.', '.', '.', '.', '.', '.', '.', '.', '.', '.', '.', '.', '.', '.', '.', '.', '.', '.', '.', '.', '.', '.', '.', '.', '.', '.', '.', '.', '.', '.', '.', '.', '.', '0.159', '0.5', '512.77', '176', 'chr13', '25671271', 'rs79246694', 'A', 'G', '512.77', '.', 'AC=1;AF=0.500;AN=2;BaseQRankSum=1.24;ClippingRankSum=-2.330e-01;DB;DP=177;ExcessHet=3.0103;FS=2.936;MLEAC=1;MLEAF=0.500;MQ=58.99;MQRankSum=-2.296e+00;QD=2.91;ReadPosRankSum=0.755;SOR=0.916', 'GT:AD:DP:GQ:PGT:PID:PL', '0/1:153,23:176:99:0|1:25671271_A_G:541,0,6436'], ['chr13', '25671273', '25671273', 'G', '-', 'exonic', 'PABPC3', '.', 'frameshift deletion', 'PABPC3:NM_030979:exon1:c.937delG:p.A313fs', 'exonic', 'ENSG00000151846', '.', 'frameshift deletion', 'ENSG00000151846:ENST00000281589:exon1:c.937delG:p.A313fs', '.', '.', '.', '.', '.', '.', '.', '.', '.', '0', '0', '0', '0', '0', '0', '0', '0', '0', 'rs376589131', '.', '.', '.', '.', '.', '.', '.', '.', '.', '.', '.', '.', '.', '.', '.', '.', '.', '.', '.', '.', '.', '.', '.', '.', '.', '.', '.', '.', '.', '.', '.', '.', '.', '.', '.', '.', '.', '.', '.', '.', '.', '.', '.', '.', '.', '.', '.', '.', '.', '.', '.', '.', '.', '.', '.', '.', '.', '.', '.', '.', '.', '.', '.', '.', '.', '.', '.', '.', '.', '.', '.', '.', '.', '.', '.', '.', '.', '.', '.', '.', '.', '.', '.', '.', '.', '.', '.', '.', '.', '.', '.', '.', '.', '.', '.', '.', '.', '.', '.', '.', '0.5', '626.73', '179', 'chr13', '25671272', 'rs376589131', 'AG', 'A', '626.73', '.', 'AC=1;AF=0.500;AN=2;BaseQRankSum=-3.620e-01;ClippingRankSum=-3.200e-02;DB;DP=180;ExcessHet=3.0103;FS=4.100;MLEAC=1;MLEAF=0.500;MQ=58.94;MQRankSum=-4.587e+00;QD=3.50;ReadPosRankSum=0.633;SOR=1.008', 'GT:AD:DP:GQ:PGT:PID:PL', '0/1:155,24:179:99:0|1:25671271_A_G:664,0,6462'], ['chr13', '25671292', '25671292', 'C', 'T', 'exonic', 'PABPC3', '.', 'nonsynonymous SNV', 'PABPC3:NM_030979:exon1:c.C956T:p.T319I', 'exonic', 'ENSG00000151846', '.', 'nonsynonymous SNV', 'ENSG00000151846:ENST00000281589:exon1:c.C956T:p.T319I', '.', '0', '0', '0', '0', '0', '0', '0', '0', '0', '0', '0', '0', '0', '0', '0', '0', '0', 'rs80261016', '0.002', 'D', '0.726', 'P', '0.45', 'P', '0.000', 'U', '1.000', 'D', '0.935', 'L', '2.36', 'T', '-4.66', 'D', '0.409', '5.492', '26.2', '0.997', '0.632', 'D', '-1.090', 'T', '0.034', 'T', '0.706', '0', '0.875', '0.542', '0.314', '0.998', '0.950', '7.549', '.', '.', '.', '.', '.', '.', '.', '.', '.', '.', '.', '.', '.', '.', '.', '.', '.', '.', '.', '.', '.', '.', '.', '.', '.', '.', '.', '.', '.', '.', '.', '.', '.', '.', '.', '.', '.', '.', '.', '.', '.', '.', '.', '.', '.', '.', '.', '.', '.', '.', '.', '.', '.', '.', '.', '.', '.', '.', '.', '.', '.', '.', '.', '.', '.', '0.158', '0.5', '359.77', '162', 'chr13', '25671292', 'rs80261016', 'C', 'T', '359.77', '.', 'AC=1;AF=0.500;AN=2;BaseQRankSum=-7.100e-01;ClippingRankSum=0.566;DB;DP=163;ExcessHet=3.0103;FS=0.838;MLEAC=1;MLEAF=0.500;MQ=58.52;MQRankSum=-3.450e+00;QD=2.22;ReadPosRankSum=0.513;SOR=0.738', 'GT:AD:DP:GQ:PL', '0/1:139,23:162:99:388,0,3325'], ['chr13', '25671333', '25671333', 'A', '-', 'exonic', 'PABPC3', '.', 'frameshift deletion', 'PABPC3:NM_030979:exon1:c.997delA:p.K333fs', 'exonic', 'ENSG00000151846', '.', 'frameshift deletion', 'ENSG00000151846:ENST00000281589:exon1:c.997delA:p.K333fs', '.', '.', '.', '.', '.', '.', '.', '.', '.', '0', '0', '0', '0', '0', '0', '0', '0', '0', 'rs371570689', '.', '.', '.', '.', '.', '.', '.', '.', '.', '.', '.', '.', '.', '.', '.', '.', '.', '.', '.', '.', '.', '.', '.', '.', '.', '.', '.', '.', '.', '.', '.', '.', '.', '.', '.', '.', '.', '.', '.', '.', '.', '.', '.', '.', '.', '.', '.', '.', '.', '.', '.', '.', '.', '.', '.', '.', '.', '.', '.', '.', '.', '.', '.', '.', '.', '.', '.', '.', '.', '.', '.', '.', '.', '.', '.', '.', '.', '.', '.', '.', '.', '.', '.', '.', '.', '.', '.', '.', '.', '.', '.', '.', '.', '.', '.', '.', '.', '.', '.', '.', '0.5', '391.73', '151', 'chr13', '25671332', 'rs371570689', 'CA', 'C', '391.73', '.', 'AC=1;AF=0.500;AN=2;BaseQRankSum=-1.320e+00;ClippingRankSum=-2.400e-02;DB;DP=156;ExcessHet=3.0103;FS=0.000;MLEAC=1;MLEAF=0.500;MQ=57.23;MQRankSum=-1.960e+00;QD=2.59;ReadPosRankSum=1.69;SOR=0.630', 'GT:AD:DP:GQ:PL', '0/1:130,21:151:99:429,0,4265'], ['chr17', '39211191', '39211191', '-', 'GA', 'exonic', 'KRTAP2-2', '.', 'frameshift insertion', 'KRTAP2-2:NM_033032:exon1:c.272_273insTC:p.P91fs', 'exonic', 'ENSG00000214518', '.', 'frameshift insertion', 'ENSG00000214518:ENST00000398477:exon1:c.272_273insTC:p.P91fs,ENSG00000214518:ENST00000542910:exon1:c.272_273insTC:p.P91fs', '.', '.', '.', '.', '.', '.', '.', '.', '.', '0', '0', '0', '0', '0', '0', '0', '0', '0', '.', '.', '.', '.', '.', '.', '.', '.', '.', '.', '.', '.', '.', '.', '.', '.', '.', '.', '.', '.', '.', '.', '.', '.', '.', '.', '.', '.', '.', '.', '.', '.', '.', '.', '.', '.', '.', '.', '.', '.', '.', '.', '.', '.', '.', '.', '.', '.', '.', '.', '.', '.', '.', '.', '.', '.', '.', '.', '.', '.', '.', '.', '.', '.', '.', '.', '.', '.', '.', '.', '.', '.', '.', '.', '.', '.', '.', '.', '.', '.', '.', '.', '.', '.', '.', '.', '.', '.', '.', '.', '.', '.', '.', '.', '.', '.', '.', '.', '.', '.', '.', '0.5', '310.73', '11', 'chr17', '39211191', '.', 'G', 'GGA', '310.73', '.', 'AC=1;AF=0.500;AN=2;BaseQRankSum=1.93;ClippingRankSum=-3.820e-01;DP=11;ExcessHet=3.0103;FS=3.090;MLEAC=1;MLEAF=0.500;MQ=55.98;MQRankSum=0.382;QD=28.25;ReadPosRankSum=-2.262e+00;SOR=2.093', 'GT:AD:DP:GQ:PGT:PID:PL', '0/1:3,8:11:99:0|1:39211182_C_T:348,0,290'], ['chr17', '39274449', '39274449', 'C', 'T', 'exonic', 'KRTAP4-11;KRTAP4-8', '.', 'nonsynonymous SNV', 'KRTAP4-11:NM_033059:exon1:c.G119A:p.C40Y', 'exonic', 'ENSG00000212721', '.', 'nonsynonymous SNV', 'ENSG00000212721:ENST00000391413:exon1:c.G119A:p.C40Y', '.', '.', '.', '.', '.', '.', '.', '.', '.', '0', '0', '0', '0', '0', '0', '0', '0', '0', '.', '0.063', 'T', '0.017', 'B', '0.041', 'B', '0.002', 'U', '0.756', 'N', '2.835', 'M', '4.09', 'T', '-8.2', 'D', '0.322', '2.011', '16.28', '0.636', '0.274', 'N', '-1.121', 'T', '0.017', 'T', '0.497', '0', '2.02', '0.827', '-0.101', '0.998', '0.631', '8.244', '.', '.', '.', '.', '.', '.', '.', '.', '.', '.', '.', '.', '.', '.', '.', '.', '.', '.', '.', '.', '.', '.', '.', '.', '.', '.', '.', '.', '.', '.', '.', '.', '.', '.', '.', '.', '.', '.', '.', '.', '.', '.', '.', '.', '.', '.', '.', '.', '.', '.', '.', '.', '.', '.', '.', '.', '.', '.', '.', '.', '.', '.', '.', '.', '.', '0.102', '0.5', '454.77', '448', 'chr17', '39274449', '.', 'C', 'T', '454.77', '.', 'AC=1;AF=0.500;AN=2;BaseQRankSum=2.65;ClippingRankSum=0.474;DP=449;ExcessHet=3.0103;FS=8.139;MLEAC=1;MLEAF=0.500;MQ=59.16;MQRankSum=-1.352e+00;QD=1.02;ReadPosRankSum=-5.450e+00;SOR=1.492', 'GT:AD:DP:GQ:PGT:PID:PL', '0/1:415,33:448:99:0|1:39274415_C_T:483,0,18227'], ['chrX', '125686051', '125686051', 'A', 'T', 'exonic', 'DCAF12L1', '.', 'nonsynonymous SNV', 'DCAF12L1:NM_178470:exon1:c.T541A:p.S181T', 'exonic', 'ENSG00000198889', '.', 'nonsynonymous SNV', 'ENSG00000198889:ENST00000371126:exon1:c.T541A:p.S181T', '.', '0', '0', '0', '0', '0', '0', '0', '0', '0', '0', '0', '0', '0', '0', '0', '0', '0', 'rs780712210', '1.0', 'T', '0.0', 'B', '0.0', 'B', '0.075', 'N', '0.999', 'N', '-1.995', 'N', '0.13', 'T', '2.72', 'N', '0.12', '-0.622', '0.111', '0.242', '0.055', 'N', '-0.976', 'T', '0.029', 'T', '.', '.', '1.06', '-0.376', '-0.514', '0.909', '0.957', '2.248', '.', '.', '.', '.', '.', '.', '.', '.', '.', '.', '.', '.', '.', '.', '.', '.', '.', '.', '.', '.', '.', '.', '.', '.', '.', '.', '.', '.', '.', '.', '.', '.', '.', '.', '.', '.', '.', '.', '.', '.', '.', '.', '.', '.', '.', '.', '.', '.', '.', '.', '.', '.', '.', '.', '.', '.', '.', '.', '.', '.', '.', '.', '.', '.', '.', '0.102', '1', '895.77', '19', 'chrX', '125686051', '.', 'A', 'T', '895.77', '.', 'AC=2;AF=1.00;AN=2;DP=20;ExcessHet=3.0103;FS=0.000;MLEAC=2;MLEAF=1.00;MQ=56.87;QD=29.90;SOR=1.292', 'GT:AD:DP:GQ:PGT:PID:PL', '1/1:0,19:19:66:1|1:125686043_A_G:924,66,0']]\n",
      "========================================================\n",
      "['STK39', 'ZNF717', 'FOXO3', 'ABCB5', 'PRSS3', 'MUC6', 'FAM186A', 'PABPC3', 'KRTAP2-2', 'KRTAP4-11;KRTAP4-8', 'DCAF12L1']\n",
      "Done\n"
     ]
    }
   ],
   "source": [
    "rows, functions,exfunc, rs,gene, exacall, gnomall, pathogenics, muttype = load_annovar('sp136.hg19_multianno.txt')\n",
    "count = 0\n",
    "print ('Starting ....')\n",
    "outfile = 'sp136.raremaf.filtered.txt'\n",
    "sp136_raremaf_genes = []\n",
    "sp136_raremaf_variants = [] \n",
    "print (cutoff)\n",
    "for i in range(0,len(exacall) ): \n",
    "    if ( (gnomall[i] != '.') and   (exacall[i] !='.' ) ) :\n",
    "        if (  (float(gnomall[i]) < cutoff) and (float(exacall[i]) < cutoff)   and (functions[i] =='exonic') and ( muttype[i] != 'synonymous SNV' )): \n",
    "            count += 1 \n",
    "            writelist(rows[i], outfile)\n",
    "            print(rs[i], gene[i], exacall[i],gnomall[i], muttype[i]) \n",
    "            if gene[i] not in sp136_raremaf_genes: \n",
    "                    sp136_raremaf_genes.append(gene[i])\n",
    "            sp136_raremaf_variants.append(rows[i])\n",
    "            #var = rs[i] + '.' + gene[i] +'.' +exacall[i] +'.'+ gnomall[i]        \n",
    "            #if var not in sp136_raremaf_variants: \n",
    "                #sp136_raremaf_variants.append(var)\n",
    "    elif ( (gnomall[i]=='.') and (exacall[i].isdigit())):\n",
    "           print(gnomall[i])\n",
    "           if ((float(exacall[i]) < cutoff)and (functions[i] =='exonic')  and ( muttype[i] != 'synonymous SNV' )): \n",
    "                count += 1 \n",
    "                writelist(rows[i], outfile)\n",
    "                print(rs[i], gene[i], exacall[i],gnomall[i], muttype[i])\n",
    "                if gene[i] not in sp136_raremaf_genes: \n",
    "                        sp136_raremaf_genes.append(gene[i])\n",
    "                sp136_raremaf_variants.append(rows[i])\n",
    "                #var = rs[i] + '.' + gene[i] +'.' +exacall[i] +'.'+ gnomall[i]\n",
    "                #if var not in sp136_raremaf_variants: \n",
    "                    #sp136_raremaf_variants.append(var)\n",
    "           \n",
    "    elif (( exacall[i]=='.') and   (gnomall[i].isdigit())): \n",
    "            print(exacall[i])\n",
    "            if( (float (gnomall[i]) < cutoff)  and (functions[i] =='exonic') and  ( muttype[i] != 'synonymous SNV' )): \n",
    "                count += 1 \n",
    "                writelist(rows[i], outfile)\n",
    "                print(rs[i], gene[i], exacall[i],gnomall[i], muttype[i])\n",
    "                if gene[i] not in  sp136_raremaf_genes: \n",
    "                         sp136_raremaf_genes.append(gene[i])\n",
    "                sp136_raremaf_variants.append(rows[i])       \n",
    "                #var = rs[i] + '.' + gene[i] +'.' +exacall[i] +'.'+ gnomall[i]\n",
    "                #if var not in sp136_raremaf_variants: \n",
    "                    #sp136_raremaf_variants.append(var)\n",
    "print ('We reached printing stage')\n",
    "print ('Number of variants with gnomall and/or exac <', cutoff, 'is:',count)\n",
    "print (sp136_raremaf_variants)\n",
    "print('========================================================')\n",
    "print(sp136_raremaf_genes)\n",
    "print('Done')"
   ]
  },
  {
   "cell_type": "code",
   "execution_count": null,
   "metadata": {
    "collapsed": true,
    "deletable": true,
    "editable": true
   },
   "outputs": [],
   "source": []
  },
  {
   "cell_type": "code",
   "execution_count": null,
   "metadata": {
    "collapsed": true
   },
   "outputs": [],
   "source": []
  }
 ],
 "metadata": {
  "anaconda-cloud": {},
  "kernelspec": {
   "display_name": "Python 2",
   "language": "python",
   "name": "python2"
  },
  "language_info": {
   "codemirror_mode": {
    "name": "ipython",
    "version": 2
   },
   "file_extension": ".py",
   "mimetype": "text/x-python",
   "name": "python",
   "nbconvert_exporter": "python",
   "pygments_lexer": "ipython2",
   "version": "2.7.12"
  }
 },
 "nbformat": 4,
 "nbformat_minor": 1
}
