{
 "cells": [
  {
   "cell_type": "code",
   "execution_count": 1,
   "metadata": {
    "collapsed": false,
    "deletable": true,
    "editable": true
   },
   "outputs": [],
   "source": [
    "import csv\n",
    "import sys\n",
    "import re\n",
    "import matplotlib.pyplot as plt\n",
    "import numpy as np"
   ]
  },
  {
   "cell_type": "markdown",
   "metadata": {
    "deletable": true,
    "editable": true
   },
   "source": [
    "# Cutoff for rare variants "
   ]
  },
  {
   "cell_type": "code",
   "execution_count": 2,
   "metadata": {
    "collapsed": false,
    "deletable": true,
    "editable": true
   },
   "outputs": [],
   "source": [
    "cutoff  = 0.00001"
   ]
  },
  {
   "cell_type": "code",
   "execution_count": 3,
   "metadata": {
    "collapsed": false,
    "deletable": true,
    "editable": true
   },
   "outputs": [],
   "source": [
    "def writelist (mylist, myfile): \n",
    "    fp =  open(myfile,'a+')\n",
    "    for idx,item in enumerate(mylist):\n",
    "            fp.write(item)\n",
    "            fp.write('\\t')\n",
    "    fp.write('\\n')\n",
    "    fp.close()"
   ]
  },
  {
   "cell_type": "code",
   "execution_count": 4,
   "metadata": {
    "collapsed": true,
    "deletable": true,
    "editable": true
   },
   "outputs": [],
   "source": [
    "def intersections(list1, list2):\n",
    "    intersection_list = []\n",
    "    for i in list1: \n",
    "        if i in list2: \n",
    "                intersection_list.append(i)\n",
    "    return intersection_list"
   ]
  },
  {
   "cell_type": "code",
   "execution_count": 5,
   "metadata": {
    "collapsed": true,
    "deletable": true,
    "editable": true
   },
   "outputs": [],
   "source": [
    "def difference(list1, list2):\n",
    "    unique_list = []\n",
    "    for i in list1: \n",
    "        if i not in list2: \n",
    "                unique_list.append(i)\n",
    "    return unique_list"
   ]
  },
  {
   "cell_type": "code",
   "execution_count": 6,
   "metadata": {
    "collapsed": true,
    "deletable": true,
    "editable": true
   },
   "outputs": [],
   "source": [
    "def exist (list1, list2): \n",
    "    found_list = []\n",
    "    for i in list1: \n",
    "            if i not in found_list: \n",
    "                    found_list.append(i)\n",
    "    for i in list2: \n",
    "            if i not in found_list: \n",
    "                    found_list.append(i)\n",
    "    return found_list "
   ]
  },
  {
   "cell_type": "code",
   "execution_count": 7,
   "metadata": {
    "collapsed": false,
    "deletable": true,
    "editable": true
   },
   "outputs": [],
   "source": [
    "def common_variants(variants1, variants2, outfile): \n",
    "        fp = open(outfile, 'w')\n",
    "        for i in variants1: \n",
    "               for j in variants2: \n",
    "                     count = 0 \n",
    "                     for a in range(0,4): \n",
    "                            if i[a] == j[a]:\n",
    "                                count +=1\n",
    "                     if count == 4: \n",
    "                          for item in (i):\n",
    "                                fp.write(item)\n",
    "                                fp.write('\\t')\n",
    "                          fp.write('\\n')"
   ]
  },
  {
   "cell_type": "markdown",
   "metadata": {
    "deletable": true,
    "editable": true
   },
   "source": [
    "# Read annovar annotation file"
   ]
  },
  {
   "cell_type": "code",
   "execution_count": 13,
   "metadata": {
    "collapsed": false,
    "deletable": true,
    "editable": true
   },
   "outputs": [],
   "source": [
    " def load_annovar(filename):\n",
    "    rows = []\n",
    "    exacall = []\n",
    "    gnomall = []\n",
    "    rs = []\n",
    "    gene = []\n",
    "    pathogenics = []\n",
    "    functions = []\n",
    "    exonicfunctions =[]\n",
    "    fp = open(filename, 'r')\n",
    "    r = csv.reader(fp, delimiter='\\t')\n",
    "    for n, row in enumerate(r):\n",
    "        if n == 0: \n",
    "                for i in range(0,len(row) ): \n",
    "                     print (i,row[i])\n",
    "                continue\n",
    "        exonicfunctions.append(row[5])\n",
    "        exacall.append(row[11])\n",
    "        gnomall.append(row[119])\n",
    "        rs.append(row[19])\n",
    "        rows.append(row)\n",
    "        gene.append(row[6])\n",
    "        functions.append(row[8])\n",
    "        pathogenics.append(row[54])\n",
    "        #if row[6] == 'GBA':\n",
    "         #       print('genes, Exac and Gnom are:', row[6], row[11], row[119])\n",
    "    return rows, functions, exonicfunctions, rs, gene,  exacall , gnomall, pathogenics"
   ]
  },
  {
   "cell_type": "markdown",
   "metadata": {
    "deletable": true,
    "editable": true
   },
   "source": [
    "# Filter for rare MAF"
   ]
  },
  {
   "cell_type": "code",
   "execution_count": 9,
   "metadata": {
    "collapsed": false,
    "deletable": true,
    "editable": true
   },
   "outputs": [],
   "source": [
    "def maf_filter(mfile): \n",
    "    rows, functions,exfunc, rs,gene, exacall, gnomall, pathogenics = load_annovar(mfile)\n",
    "    count = 0\n",
    "    outfile = mfile.split('.')[0] + '_raremaf.txt'\n",
    "    raremaf_genes = []\n",
    "    variants_list = [] \n",
    "    for i in range(0,len(exacall) ): \n",
    "        if exfunc[i] =='exonic':\n",
    "                    #========================================\n",
    "                    #If both gnomAD and ExAC is '.'\n",
    "                    #========================================\n",
    "                    if (gnomall[i] != '.') and (exacall[i] !='.'):\n",
    "                        if   (float(gnomall[i]) < cutoff) and (float(exacall[i]) < cutoff) : \n",
    "                            count += 1 \n",
    "                            writelist(rows[i], outfile)\n",
    "                            variants_list.append(rows[i])\n",
    "                            print(rs[i], exfunc[i],gene[i], exacall[i],gnomall[i])\n",
    "                            if gene[i] not in raremaf_genes: \n",
    "                                    raremaf_genes.append(gene[i])\n",
    "                    #========================================\n",
    "                    #If both gnomAD is '.' and ExAC is not '.'\n",
    "                    #========================================               \n",
    "                    elif (gnomall[i] == '.') and (exacall[i] != '.') and (float(exacall[i]) < cutoff) :\n",
    "                            count += 1 \n",
    "                            writelist(rows[i], outfile)                    \n",
    "                            variants_list.append(rows[i])\n",
    "                            print(rs[i], exfunc[i],gene[i], exacall[i],gnomall[i])\n",
    "                            if gene[i] not in raremaf_genes: \n",
    "                                    raremaf_genes.append(gene[i])\n",
    "                    #========================================\n",
    "                    #If both ExAC is '.' and gnomAD is not '.'\n",
    "                    #======================================== \n",
    "                    elif (exacall[i] =='.') and (gnomall[i] != '.') and (float (gnomall[i]) < cutoff)  :\n",
    "                            count += 1 \n",
    "                            writelist(rows[i], outfile)\n",
    "                            variants_list.append(rows[i])\n",
    "                            print(rs[i], exfunc[i],gene[i], exacall[i],gnomall[i])\n",
    "                            if gene[i] not in  raremaf_genes: \n",
    "                                     raremaf_genes.append(gene[i])\n",
    "    return(raremaf_genes,  variants_list)"
   ]
  },
  {
   "cell_type": "markdown",
   "metadata": {
    "deletable": true,
    "editable": true
   },
   "source": [
    "# Filter for pathogenic variants"
   ]
  },
  {
   "cell_type": "code",
   "execution_count": 10,
   "metadata": {
    "collapsed": false,
    "deletable": true,
    "editable": true
   },
   "outputs": [],
   "source": [
    "def pathogenic_filter(mfile):\n",
    "    rows, functions,exfunc, rs,gene, exacall, gnomall, pathogenics = load_annovar(mfile)\n",
    "    count = 0\n",
    "    pathogenic_genes = []    \n",
    "    variants_list = [] \n",
    "    outfile = mfile.split('.')[0]+'pathogenic.txt'\n",
    "    for i in range(0,len(exacall) ): \n",
    "        if 'athogenic' in pathogenics[i]: \n",
    "            if (exfunc[i] =='exonic'): \n",
    "                if ((exacall[i] == '.') or( float(exacall[i]) < cutoff)) and  ((gnomall[i] =='.') or (float(gnomall[i]) < cutoff)):\n",
    "                        count += 1 \n",
    "                        writelist(rows[i], outfile)\n",
    "                        variants_list.append(rows[i])\n",
    "                        print(rs[i], gene[i], exfunc[i],exacall[i],gnomall[i], pathogenics[i])\n",
    "                        if gene[i] not in pathogenic_genes:\n",
    "                                pathogenic_genes.append(gene[i])\n",
    "    print ('Number of variants that are rare and pathogenic cutoff <', cutoff, 'is:',count)\n",
    "    return pathogenic_genes, variants_list "
   ]
  },
  {
   "cell_type": "markdown",
   "metadata": {
    "deletable": true,
    "editable": true
   },
   "source": [
    "# Filter for no MAF variants"
   ]
  },
  {
   "cell_type": "code",
   "execution_count": 11,
   "metadata": {
    "collapsed": true,
    "deletable": true,
    "editable": true
   },
   "outputs": [],
   "source": [
    "def nomaf_filter(mfile):    \n",
    "    rows, functions,exfunc, rs,gene, exacall, gnomall, pathogenics = load_annovar(mfile)\n",
    "    count = 0\n",
    "    nomafs_genes = []\n",
    "    nomafvariants = [] \n",
    "    outfile = mfile.split('.')[0]+'nomaf.txt'\n",
    "    \n",
    "    for i in range(0,len(exacall) ): \n",
    "        if (exacall[i] == '.') and (gnomall[i] =='.') and exfunc[i] =='exonic':\n",
    "                count += 1 \n",
    "                writelist(rows[i], outfile)\n",
    "                if gene[i] not in nomafs_genes:\n",
    "                        nomafs_genes.append(gene[i])\n",
    "                var = rs[i]+'.'+exfunc[i]+'.'+gene[i]\n",
    "                if var not in  nomafvariants: \n",
    "                         nomafvariants.append(var)\n",
    "    print ('Number of variants with no MAf in both exacall and gnomAD <', cutoff, 'is:',count)\n",
    "    return nomafs_genes,  nomafvariants "
   ]
  },
  {
   "cell_type": "markdown",
   "metadata": {
    "deletable": true,
    "editable": true
   },
   "source": [
    "# F20 Analysis"
   ]
  },
  {
   "cell_type": "code",
   "execution_count": null,
   "metadata": {
    "collapsed": false,
    "deletable": true,
    "editable": true
   },
   "outputs": [
    {
     "name": "stdout",
     "output_type": "stream",
     "text": [
      "0 Chr\n",
      "1 Start\n",
      "2 End\n",
      "3 Ref\n",
      "4 Alt\n",
      "5 Func.refGene\n",
      "6 Gene.refGene\n",
      "7 GeneDetail.refGene\n",
      "8 ExonicFunc.refGene\n",
      "9 AAChange.refGene\n",
      "10 Func.ensGene\n",
      "11 Gene.ensGene\n",
      "12 GeneDetail.ensGene\n",
      "13 ExonicFunc.ensGene\n",
      "14 AAChange.ensGene\n",
      "15 cytoBand\n",
      "16 ExAC_ALL\n",
      "17 ExAC_AFR\n",
      "18 ExAC_AMR\n",
      "19 ExAC_EAS\n",
      "20 ExAC_FIN\n",
      "21 ExAC_NFE\n",
      "22 ExAC_OTH\n",
      "23 ExAC_SAS\n",
      "24 avsnp147\n",
      "25 SIFT_score\n",
      "26 SIFT_pred\n",
      "27 Polyphen2_HDIV_score\n",
      "28 Polyphen2_HDIV_pred\n",
      "29 Polyphen2_HVAR_score\n",
      "30 Polyphen2_HVAR_pred\n",
      "31 LRT_score\n",
      "32 LRT_pred\n",
      "33 MutationTaster_score\n",
      "34 MutationTaster_pred\n",
      "35 MutationAssessor_score\n",
      "36 MutationAssessor_pred\n",
      "37 FATHMM_score\n",
      "38 FATHMM_pred\n",
      "39 PROVEAN_score\n",
      "40 PROVEAN_pred\n",
      "41 VEST3_score\n",
      "42 CADD_raw\n",
      "43 CADD_phred\n",
      "44 DANN_score\n",
      "45 fathmm-MKL_coding_score\n",
      "46 fathmm-MKL_coding_pred\n",
      "47 MetaSVM_score\n",
      "48 MetaSVM_pred\n",
      "49 MetaLR_score\n",
      "50 MetaLR_pred\n",
      "51 integrated_fitCons_score\n",
      "52 integrated_confidence_value\n",
      "53 GERP++_RS\n",
      "54 phyloP7way_vertebrate\n",
      "55 phyloP20way_mammalian\n",
      "56 phastCons7way_vertebrate\n",
      "57 phastCons20way_mammalian\n",
      "58 SiPhy_29way_logOdds\n",
      "59 CLINSIG\n",
      "60 CLNDBN\n",
      "61 CLNACC\n",
      "62 CLNDSDB\n",
      "63 CLNDSDBID\n",
      "64 Gene_symbol\n",
      "65 OXPHOS_Complex\n",
      "66 Ensembl_Gene_ID\n",
      "67 Ensembl_Protein_ID\n",
      "68 Uniprot_Name\n",
      "69 Uniprot_ID\n",
      "70 NCBI_Gene_ID\n",
      "71 NCBI_Protein_ID\n",
      "72 Gene_pos\n",
      "73 AA_pos\n",
      "74 AA_sub\n",
      "75 Codon_sub\n",
      "76 dbSNP_ID\n",
      "77 PhyloP_46V\n",
      "78 PhastCons_46V\n",
      "79 PhyloP_100V\n",
      "80 PhastCons_100V\n",
      "81 SiteVar\n",
      "82 PolyPhen2_prediction\n",
      "83 PolyPhen2_score\n",
      "84 SIFT_prediction\n",
      "85 SIFT_score\n",
      "86 FatHmm_prediction\n",
      "87 FatHmm_score\n",
      "88 PROVEAN_prediction\n",
      "89 PROVEAN_score\n",
      "90 MutAss_prediction\n",
      "91 MutAss_score\n",
      "92 EFIN_Swiss_Prot_Score\n",
      "93 EFIN_Swiss_Prot_Prediction\n",
      "94 EFIN_HumDiv_Score\n",
      "95 EFIN_HumDiv_Prediction\n",
      "96 CADD_score\n",
      "97 CADD_Phred_score\n",
      "98 CADD_prediction\n",
      "99 Carol_prediction\n",
      "100 Carol_score\n",
      "101 Condel_score\n",
      "102 Condel_pred\n",
      "103 COVEC_WMV\n",
      "104 COVEC_WMV_prediction\n",
      "105 PolyPhen2_score_transf\n",
      "106 PolyPhen2_pred_transf\n",
      "107 SIFT_score_transf\n",
      "108 SIFT_pred_transf\n",
      "109 MutAss_score_transf\n",
      "110 MutAss_pred_transf\n",
      "111 Perc_coevo_Sites\n",
      "112 Mean_MI_score\n",
      "113 COSMIC_ID\n",
      "114 Tumor_site\n",
      "115 Examined_samples\n",
      "116 Mutation_frequency\n",
      "117 US\n",
      "118 Status\n",
      "119 Associated_disease\n",
      "120 Presence_in_TD\n",
      "121 Class_predicted\n",
      "122 Prob_N\n",
      "123 Prob_P\n",
      "124 gnomAD_exome_ALL\n",
      "125 gnomAD_exome_AFR\n",
      "126 gnomAD_exome_AMR\n",
      "127 gnomAD_exome_ASJ\n",
      "128 gnomAD_exome_EAS\n",
      "129 gnomAD_exome_FIN\n",
      "130 gnomAD_exome_NFE\n",
      "131 gnomAD_exome_OTH\n",
      "132 gnomAD_exome_SAS\n",
      "133 Otherinfo\n"
     ]
    }
   ],
   "source": [
    "f20m1_raremaf, f20m1_variants  = maf_filter('S0959.hg19_multianno.txt')\n",
    "print('Done')"
   ]
  },
  {
   "cell_type": "code",
   "execution_count": null,
   "metadata": {
    "collapsed": false,
    "deletable": true,
    "editable": true
   },
   "outputs": [],
   "source": [
    "f20m2_raremaf , f20m2_variants= maf_filter('S0960.hg19_multianno.txt')"
   ]
  },
  {
   "cell_type": "code",
   "execution_count": null,
   "metadata": {
    "collapsed": true
   },
   "outputs": [],
   "source": [
    "f20m7_raremaf , f20m7_variants= maf_filter('S0961.hg19_multianno.txt')"
   ]
  },
  {
   "cell_type": "code",
   "execution_count": null,
   "metadata": {
    "collapsed": false,
    "deletable": true,
    "editable": true
   },
   "outputs": [],
   "source": [
    "f20m1_pathogenic,f20m1_pathogenic_variants   = pathogenic_filter('S0959.hg19_multianno.txt')"
   ]
  },
  {
   "cell_type": "code",
   "execution_count": null,
   "metadata": {
    "collapsed": false,
    "deletable": true,
    "editable": true
   },
   "outputs": [],
   "source": [
    "f20m2_pathogenic,f20m2_pathogenic_variants = pathogenic_filter('S0960.hg19_multianno.txt')"
   ]
  },
  {
   "cell_type": "code",
   "execution_count": null,
   "metadata": {
    "collapsed": true
   },
   "outputs": [],
   "source": [
    "f20m7_pathogenic,f20m7_pathogenic_variants = pathogenic_filter('S0961.hg19_multianno.txt')"
   ]
  },
  {
   "cell_type": "code",
   "execution_count": null,
   "metadata": {
    "collapsed": false,
    "deletable": true,
    "editable": true
   },
   "outputs": [],
   "source": [
    "f20m1_nomaf = nomaf_filter('S0959.hg19_multianno.txt')"
   ]
  },
  {
   "cell_type": "code",
   "execution_count": null,
   "metadata": {
    "collapsed": true
   },
   "outputs": [],
   "source": [
    "f20m2_nomaf = nomaf_filter('S0960.hg19_multianno.txt')"
   ]
  },
  {
   "cell_type": "code",
   "execution_count": null,
   "metadata": {
    "collapsed": true
   },
   "outputs": [],
   "source": [
    "f20m7_nomaf = nomaf_filter('S0961.hg19_multianno.txt')"
   ]
  },
  {
   "cell_type": "code",
   "execution_count": null,
   "metadata": {
    "collapsed": false,
    "deletable": true,
    "editable": true
   },
   "outputs": [],
   "source": [
    "common_variants(f366m1_variants,f366m2_variants, 'f366m1m2.rare.common.txt')\n",
    "common_variants(f366m1_pathogenic_variants,f366m2_pathogenic_variants, 'f366m1m2.pathogenic.common.txt')"
   ]
  },
  {
   "cell_type": "code",
   "execution_count": null,
   "metadata": {
    "collapsed": false,
    "deletable": true,
    "editable": true
   },
   "outputs": [],
   "source": [
    "f366m1_m2_raremaf = intersections(f366m2_raremaf,f366m1_raremaf)\n",
    "print(f366m1_m2_raremaf)"
   ]
  },
  {
   "cell_type": "markdown",
   "metadata": {
    "deletable": true,
    "editable": true
   },
   "source": [
    "# F20 pathogenic variants common between M1 and M2"
   ]
  },
  {
   "cell_type": "code",
   "execution_count": null,
   "metadata": {
    "collapsed": false,
    "deletable": true,
    "editable": true
   },
   "outputs": [],
   "source": [
    "f366m1_m2_pathogenic = intersections(f366m1_pathogenic , f366m2_pathogenic )\n",
    "print(f366m1_m2_pathogenic )"
   ]
  },
  {
   "cell_type": "markdown",
   "metadata": {
    "deletable": true,
    "editable": true
   },
   "source": [
    "# F20  no MAFs common between M1 and M2"
   ]
  },
  {
   "cell_type": "code",
   "execution_count": null,
   "metadata": {
    "collapsed": false,
    "deletable": true,
    "editable": true
   },
   "outputs": [],
   "source": [
    "f366m1_m2_nomaf   = difference(f366m1_nomaf  , f366m2_nomaf  )\n",
    "print(f366m1_m2_nomaf )"
   ]
  },
  {
   "cell_type": "code",
   "execution_count": null,
   "metadata": {
    "collapsed": true,
    "deletable": true,
    "editable": true
   },
   "outputs": [],
   "source": []
  }
 ],
 "metadata": {
  "anaconda-cloud": {},
  "kernelspec": {
   "display_name": "Python [conda root]",
   "language": "python",
   "name": "conda-root-py"
  },
  "language_info": {
   "codemirror_mode": {
    "name": "ipython",
    "version": 3
   },
   "file_extension": ".py",
   "mimetype": "text/x-python",
   "name": "python",
   "nbconvert_exporter": "python",
   "pygments_lexer": "ipython3",
   "version": "3.5.2"
  }
 },
 "nbformat": 4,
 "nbformat_minor": 1
}
