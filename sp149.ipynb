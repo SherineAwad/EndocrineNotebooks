{
 "cells": [
  {
   "cell_type": "code",
   "execution_count": 1,
   "metadata": {
    "collapsed": true,
    "deletable": true,
    "editable": true
   },
   "outputs": [],
   "source": [
    "import csv\n",
    "import sys\n",
    "import re\n",
    "import matplotlib.pyplot as plt\n",
    "import numpy as np"
   ]
  },
  {
   "cell_type": "markdown",
   "metadata": {
    "deletable": true,
    "editable": true
   },
   "source": [
    "# Cutoff for rare variants "
   ]
  },
  {
   "cell_type": "code",
   "execution_count": 2,
   "metadata": {
    "collapsed": true,
    "deletable": true,
    "editable": true
   },
   "outputs": [],
   "source": [
    "cutoff  = 0.0000001"
   ]
  },
  {
   "cell_type": "code",
   "execution_count": 3,
   "metadata": {
    "collapsed": true,
    "deletable": true,
    "editable": true
   },
   "outputs": [],
   "source": [
    "def writelist (mylist, myfile): \n",
    "    fp =  open(myfile,'a+')\n",
    "    for idx,item in enumerate(mylist):\n",
    "            fp.write(item)\n",
    "            fp.write('\\t')\n",
    "    fp.write('\\n')\n",
    "    fp.close()"
   ]
  },
  {
   "cell_type": "code",
   "execution_count": 4,
   "metadata": {
    "collapsed": true,
    "deletable": true,
    "editable": true
   },
   "outputs": [],
   "source": [
    "def intersections(list1, list2):\n",
    "    intersection_list = []\n",
    "    for i in list1: \n",
    "        if i in list2: \n",
    "                intersection_list.append(i)\n",
    "    return intersection_list"
   ]
  },
  {
   "cell_type": "code",
   "execution_count": 5,
   "metadata": {
    "collapsed": true,
    "deletable": true,
    "editable": true
   },
   "outputs": [],
   "source": [
    "def intersections3(list1, list2, list3):\n",
    "    intersection_list = []\n",
    "    for i in list1: \n",
    "        if i in list2: \n",
    "                if i in list3:\n",
    "                    intersection_list.append(i)\n",
    "    return intersection_list"
   ]
  },
  {
   "cell_type": "code",
   "execution_count": 6,
   "metadata": {
    "collapsed": true,
    "deletable": true,
    "editable": true
   },
   "outputs": [],
   "source": [
    "def intersections2n(list1, list2, list3):\n",
    "    intersection_list = []\n",
    "    nlist = [] \n",
    "    for i in list1: \n",
    "        if i in list2: \n",
    "                intersection_list.append(i)\n",
    "    for i in intersection_list:\n",
    "            if i not in list3:\n",
    "                    nlist.append(i)\n",
    "    for i in nlist: \n",
    "            print (i)\n",
    "    return intersection_list"
   ]
  },
  {
   "cell_type": "code",
   "execution_count": 7,
   "metadata": {
    "collapsed": true,
    "deletable": true,
    "editable": true
   },
   "outputs": [],
   "source": [
    "def intersections3n(list1, list2, list3, list4):\n",
    "    intersection_list = []\n",
    "    nlist = []\n",
    "    for i in list1 : \n",
    "        if i in list2 : \n",
    "            if i in list3 :\n",
    "                intersection_list.append(i)\n",
    "    for i in intersection_list:\n",
    "            if i not in list4:\n",
    "                    nlist.append(i)\n",
    "    for i in nlist: \n",
    "            print (i)\n",
    "    return nlist"
   ]
  },
  {
   "cell_type": "code",
   "execution_count": 8,
   "metadata": {
    "collapsed": true,
    "deletable": true,
    "editable": true
   },
   "outputs": [],
   "source": [
    "def difference(list1, list2):\n",
    "    unique_list = []\n",
    "    for i in list1: \n",
    "        if i not in list2: \n",
    "                unique_list.append(i)\n",
    "    return unique_list"
   ]
  },
  {
   "cell_type": "code",
   "execution_count": 9,
   "metadata": {
    "collapsed": true,
    "deletable": true,
    "editable": true
   },
   "outputs": [],
   "source": [
    "def difference2(list1, list2, list3):\n",
    "    unique_list = []\n",
    "    for i in list1: \n",
    "        if i not in list2 and i not in list3: \n",
    "                unique_list.append(i)\n",
    "    return unique_list"
   ]
  },
  {
   "cell_type": "code",
   "execution_count": 10,
   "metadata": {
    "collapsed": true,
    "deletable": true,
    "editable": true
   },
   "outputs": [],
   "source": [
    "def difference3(list1, list2, list3):\n",
    "    unique_list = []\n",
    "    for i in list1: \n",
    "        if i in list2: \n",
    "            if i not in list3: \n",
    "                unique_list.append(i)\n",
    "    return unique_list"
   ]
  },
  {
   "cell_type": "code",
   "execution_count": 11,
   "metadata": {
    "collapsed": true,
    "deletable": true,
    "editable": true
   },
   "outputs": [],
   "source": [
    "def exist (list1, list2): \n",
    "    found_list = []\n",
    "    for i in list1: \n",
    "            if i not in found_list: \n",
    "                    found_list.append(i)\n",
    "    for i in list2: \n",
    "            if i not in found_list: \n",
    "                    found_list.append(i)\n",
    "    return found_list "
   ]
  },
  {
   "cell_type": "markdown",
   "metadata": {
    "deletable": true,
    "editable": true
   },
   "source": [
    "# Read annovar annotation file"
   ]
  },
  {
   "cell_type": "code",
   "execution_count": 12,
   "metadata": {
    "collapsed": true,
    "deletable": true,
    "editable": true
   },
   "outputs": [],
   "source": [
    " def load_annovar(filename):\n",
    "    rows = []\n",
    "    exacall = []\n",
    "    gnomall = []\n",
    "    rs = []\n",
    "    gene = []\n",
    "    pathogenics = []\n",
    "    functions = []\n",
    "    exonicfunctions =[]\n",
    "    muttype = []\n",
    "    fp = open(filename, 'r')\n",
    "    r = csv.reader(fp, delimiter='\\t')\n",
    "    for n, row in enumerate(r):\n",
    "        #rs ,pos,_,ensg,_, enst,_,_,_,_,_,_,_,impact =row[:14]\n",
    "        if n == 0: \n",
    "                print (row[8])\n",
    "                print(row[16])\n",
    "                print(row[124])\n",
    "                print(row[24])\n",
    "                print(row[6])\n",
    "                print (row[5])\n",
    "                print(row[59])\n",
    "            \n",
    "                continue\n",
    "        exonicfunctions.append(row[8])\n",
    "        muttype.append(row[13])\n",
    "        exacall.append(row[16])\n",
    "        #gnomall.append(row[124])\n",
    "        gnomall.append(row[24])\n",
    "        #rs.append(row[24])\n",
    "        rs.append(row[139])\n",
    "        rows.append(row)\n",
    "        gene.append(row[6])\n",
    "        functions.append(row[5])\n",
    "        pathogenics.append(row[59])\n",
    "    return rows, functions, exonicfunctions, rs, gene,  exacall , gnomall, pathogenics, muttype"
   ]
  },
  {
   "cell_type": "code",
   "execution_count": 13,
   "metadata": {
    "collapsed": false,
    "deletable": true,
    "editable": true
   },
   "outputs": [
    {
     "name": "stdout",
     "output_type": "stream",
     "text": [
      "ExonicFunc.refGene\n",
      "ExAC_ALL\n",
      "Examined_samples\n",
      "gnomAD_exome_ALL\n",
      "Gene.refGene\n",
      "Func.refGene\n",
      "MetaLR_pred\n",
      "Starting ....\n",
      "1e-07\n",
      "('rs200923203', 'RBMXL1', '0', '0', 'nonsynonymous SNV')\n",
      ".\n",
      "('.', 'RBMXL1', '.', '0', 'nonsynonymous SNV')\n",
      ".\n",
      "('.', 'ZNF717', '.', '0', 'nonsynonymous SNV')\n",
      ".\n",
      "('.', 'ZNF717', '.', '0', 'nonsynonymous SNV')\n",
      ".\n",
      "('.', 'RBPJ', '.', '0', 'nonsynonymous SNV')\n",
      ".\n",
      "('rs79638064', 'MUC5B', '0', '0', 'nonsynonymous SNV')\n",
      ".\n",
      ".\n",
      "('rs79246694', 'PABPC3', '.', '0', 'nonsynonymous SNV')\n",
      ".\n",
      "('rs376589131', 'PABPC3', '.', '0', 'frameshift deletion')\n",
      ".\n",
      "('rs371570689', 'PABPC3', '.', '0', 'frameshift deletion')\n",
      ".\n",
      ".\n",
      ".\n",
      ".\n",
      "We reached printing stage\n",
      "('Number of variants with gnomall and/or exac <', 1e-07, 'is:', 9)\n",
      "[['chr1', '89448914', '89448914', 'A', 'G', 'exonic', 'RBMXL1', '.', 'nonsynonymous SNV', 'RBMXL1:NM_019610:exon2:c.T596C:p.L199P,RBMXL1:NM_001162536:exon3:c.T596C:p.L199P', 'exonic', 'ENSG00000213516', '.', 'nonsynonymous SNV', 'ENSG00000213516:ENST00000321792:exon2:c.T596C:p.L199P,ENSG00000213516:ENST00000399794:exon3:c.T596C:p.L199P', '.', '0', '0', '0', '0', '0', '0', '0', '0', '0', '0', '0', '0', '0', '0', '0', '0', '0', 'rs200923203', '0.288', 'T', '0.003', 'B', '0.015', 'B', '0.000', 'D', '1', 'D', '0.55', 'N', '-0.99', 'T', '-0.84', 'N', '0.376', '1.642', '14.08', '0.840', '0.637', 'D', '-1.055', 'T', '0.093', 'T', '0.707', '0', '1.53', '0.649', '0.527', '0.812', '0.393', '6.808', '.', '.', '.', '.', '.', '.', '.', '.', '.', '.', '.', '.', '.', '.', '.', '.', '.', '.', '.', '.', '.', '.', '.', '.', '.', '.', '.', '.', '.', '.', '.', '.', '.', '.', '.', '.', '.', '.', '.', '.', '.', '.', '.', '.', '.', '.', '.', '.', '.', '.', '.', '.', '.', '.', '.', '.', '.', '.', '.', '.', '.', '.', '.', '.', '.', '0.189', '0.5', '73.77', '26', 'chr1', '89448914', 'rs200923203', 'A', 'G', '73.77', '.', 'AC=1;AF=0.500;AN=2;BaseQRankSum=-1.386e+00;ClippingRankSum=-1.599e+00;DB;DP=26;ExcessHet=3.0103;FS=0.000;MLEAC=1;MLEAF=0.500;MQ=58.19;MQRankSum=-3.162e+00;QD=2.84;ReadPosRankSum=0.249;SOR=0.693', 'GT:AD:DP:GQ:PGT:PID:PL', '0/1:22,4:26:99:0|1:89448896_A_T:102,0,1208'], ['chr1', '89448923', '89448923', 'C', 'T', 'exonic', 'RBMXL1', '.', 'nonsynonymous SNV', 'RBMXL1:NM_019610:exon2:c.G587A:p.R196K,RBMXL1:NM_001162536:exon3:c.G587A:p.R196K', 'exonic', 'ENSG00000213516', '.', 'nonsynonymous SNV', 'ENSG00000213516:ENST00000321792:exon2:c.G587A:p.R196K,ENSG00000213516:ENST00000399794:exon3:c.G587A:p.R196K', '.', '.', '.', '.', '.', '.', '.', '.', '.', '0', '0', '0', '0', '0', '0', '0', '0', '0', '.', '0.117', 'T', '0.999', 'D', '0.976', 'D', '0.000', 'D', '1', 'D', '2.36', 'M', '-0.99', 'T', '-1.46', 'N', '0.23', '3.986', '23.6', '0.993', '0.490', 'N', '-0.303', 'T', '0.412', 'T', '0.707', '0', '1.53', '0.542', '0.424', '0.848', '0.687', '8.643', '.', '.', '.', '.', '.', '.', '.', '.', '.', '.', '.', '.', '.', '.', '.', '.', '.', '.', '.', '.', '.', '.', '.', '.', '.', '.', '.', '.', '.', '.', '.', '.', '.', '.', '.', '.', '.', '.', '.', '.', '.', '.', '.', '.', '.', '.', '.', '.', '.', '.', '.', '.', '.', '.', '.', '.', '.', '.', '.', '.', '.', '.', '.', '.', '.', '0.410', '0.5', '73.77', '26', 'chr1', '89448923', '.', 'C', 'T', '73.77', '.', 'AC=1;AF=0.500;AN=2;BaseQRankSum=-3.200e-01;ClippingRankSum=-4.620e-01;DP=26;ExcessHet=3.0103;FS=0.000;MLEAC=1;MLEAF=0.500;MQ=58.19;MQRankSum=-3.162e+00;QD=2.84;ReadPosRankSum=-8.880e-01;SOR=0.693', 'GT:AD:DP:GQ:PGT:PID:PL', '0/1:22,4:26:99:0|1:89448896_A_T:102,0,1208'], ['chr3', '75788195', '75788195', 'A', 'T', 'exonic', 'ZNF717', '.', 'nonsynonymous SNV', 'ZNF717:NM_001128223:exon5:c.T579A:p.H193Q,ZNF717:NM_001290208:exon5:c.T579A:p.H193Q,ZNF717:NM_001290209:exon5:c.T429A:p.H143Q,ZNF717:NM_001324027:exon5:c.T579A:p.H193Q', 'exonic', 'ENSG00000227124', '.', 'nonsynonymous SNV', 'ENSG00000227124:ENST00000478296:exon4:c.T429A:p.H143Q,ENSG00000227124:ENST00000400845:exon5:c.T558A:p.H186Q,ENSG00000227124:ENST00000422325:exon5:c.T579A:p.H193Q', '.', '.', '.', '.', '.', '.', '.', '.', '.', '0', '0', '0', '0', '0', '0', '0', '0', '0', 'rs527459373', '0.391', 'T', '0.041', 'B', '0.009', 'B', '.', '.', '1', 'P', '0.645', 'N', '1.02', 'T', '0.04', 'N', '0.295', '-0.601', '0.124', '0.764', '0.004', 'N', '-1.030', 'T', '0.050', 'T', '0.693', '0', '-3.38', '-0.597', '-0.331', '0.011', '0.003', '2.741', '.', '.', '.', '.', '.', '.', '.', '.', '.', '.', '.', '.', '.', '.', '.', '.', '.', '.', '.', '.', '.', '.', '.', '.', '.', '.', '.', '.', '.', '.', '.', '.', '.', '.', '.', '.', '.', '.', '.', '.', '.', '.', '.', '.', '.', '.', '.', '.', '.', '.', '.', '.', '.', '.', '.', '.', '.', '.', '.', '.', '.', '.', '.', '.', '.', '0.009', '0.5', '49.77', '4', 'chr3', '75788195', '.', 'A', 'T', '49.77', '.', 'AC=1;AF=0.500;AN=2;BaseQRankSum=-1.026e+00;ClippingRankSum=0.00;DP=4;ExcessHet=3.0103;FS=0.000;MLEAC=1;MLEAF=0.500;MQ=46.10;MQRankSum=-1.026e+00;QD=12.44;ReadPosRankSum=-1.026e+00;SOR=0.693', 'GT:AD:DP:GQ:PGT:PID:PL', '0/1:2,2:4:78:0|1:75788192_T_C:78,0,78'], ['chr3', '75788200', '75788200', 'G', 'A', 'exonic', 'ZNF717', '.', 'nonsynonymous SNV', 'ZNF717:NM_001128223:exon5:c.C574T:p.H192Y,ZNF717:NM_001290208:exon5:c.C574T:p.H192Y,ZNF717:NM_001290209:exon5:c.C424T:p.H142Y,ZNF717:NM_001324027:exon5:c.C574T:p.H192Y', 'exonic', 'ENSG00000227124', '.', 'nonsynonymous SNV', 'ENSG00000227124:ENST00000478296:exon4:c.C424T:p.H142Y,ENSG00000227124:ENST00000400845:exon5:c.C553T:p.H185Y,ENSG00000227124:ENST00000422325:exon5:c.C574T:p.H192Y', '.', '.', '.', '.', '.', '.', '.', '.', '.', '0', '0', '0', '0', '0', '0', '0', '0', '0', 'rs796186755', '0.258', 'T', '0.008', 'B', '0.005', 'B', '.', '.', '1', 'N', '0.51', 'N', '1.01', 'T', '-0.59', 'N', '0.298', '-1.643', '0.002', '0.303', '0.012', 'N', '-0.986', 'T', '0.039', 'T', '0.693', '0', '-3.85', '0.562', '-1.129', '0.016', '0.000', '0.145', '.', '.', '.', '.', '.', '.', '.', '.', '.', '.', '.', '.', '.', '.', '.', '.', '.', '.', '.', '.', '.', '.', '.', '.', '.', '.', '.', '.', '.', '.', '.', '.', '.', '.', '.', '.', '.', '.', '.', '.', '.', '.', '.', '.', '.', '.', '.', '.', '.', '.', '.', '.', '.', '.', '.', '.', '.', '.', '.', '.', '.', '.', '.', '.', '.', '0.139', '0.5', '49.77', '4', 'chr3', '75788200', '.', 'G', 'A', '49.77', '.', 'AC=1;AF=0.500;AN=2;BaseQRankSum=1.03;ClippingRankSum=-1.026e+00;DP=4;ExcessHet=3.0103;FS=0.000;MLEAC=1;MLEAF=0.500;MQ=46.10;MQRankSum=-1.026e+00;QD=12.44;ReadPosRankSum=-1.026e+00;SOR=0.693', 'GT:AD:DP:GQ:PGT:PID:PL', '0/1:2,2:4:78:0|1:75788192_T_C:78,0,78'], ['chr4', '26417111', '26417111', 'C', 'A', 'exonic', 'RBPJ', '.', 'nonsynonymous SNV', 'RBPJ:NM_015874:exon4:c.C170A:p.P57H,RBPJ:NM_203283:exon4:c.C164A:p.P55H,RBPJ:NM_005349:exon5:c.C209A:p.P70H,RBPJ:NM_203284:exon5:c.C167A:p.P56H', 'exonic', 'ENSG00000168214', '.', 'nonsynonymous SNV', 'ENSG00000168214:ENST00000342320:exon4:c.C167A:p.P56H,ENSG00000168214:ENST00000345843:exon4:c.C164A:p.P55H,ENSG00000168214:ENST00000348160:exon4:c.C170A:p.P57H,ENSG00000168214:ENST00000361572:exon4:c.C209A:p.P70H,ENSG00000168214:ENST00000504907:exon4:c.C167A:p.P56H,ENSG00000168214:ENST00000507561:exon4:c.C104A:p.P35H,ENSG00000168214:ENST00000507574:exon4:c.C104A:p.P35H,ENSG00000168214:ENST00000510778:exon4:c.C278A:p.P93H,ENSG00000168214:ENST00000515573:exon4:c.C104A:p.P35H,ENSG00000168214:ENST00000342295:exon5:c.C209A:p.P70H,ENSG00000168214:ENST00000355476:exon5:c.C167A:p.P56H,ENSG00000168214:ENST00000506956:exon5:c.C167A:p.P56H,ENSG00000168214:ENST00000511546:exon5:c.C167A:p.P56H,ENSG00000168214:ENST00000512351:exon5:c.C167A:p.P56H,ENSG00000168214:ENST00000512671:exon5:c.C209A:p.P70H,ENSG00000168214:ENST00000514675:exon5:c.C167A:p.P56H,ENSG00000168214:ENST00000514730:exon5:c.C167A:p.P56H,ENSG00000168214:ENST00000504938:exon6:c.C104A:p.P35H', '.', '.', '.', '.', '.', '.', '.', '.', '.', '0', '0', '0', '0', '0', '0', '0', '0', '0', '.', '0.033', 'D', '1.0', 'D', '0.999', 'D', '0.000', 'D', '1', 'D', '3.005', 'M', '-2.97', 'D', '-8.49', 'D', '0.877', '6.816', '32', '0.996', '0.998', 'D', '0.992', 'D', '0.896', 'D', '0.737', '0', '5.31', '0.871', '0.935', '1.000', '1.000', '19.311', '.', '.', '.', '.', '.', '.', '.', '.', '.', '.', '.', '.', '.', '.', '.', '.', '.', '.', '.', '.', '.', '.', '.', '.', '.', '.', '.', '.', '.', '.', '.', '.', '.', '.', '.', '.', '.', '.', '.', '.', '.', '.', '.', '.', '.', '.', '.', '.', '.', '.', '.', '.', '.', '.', '.', '.', '.', '.', '.', '.', '.', '.', '.', '.', '.', '0.897', '0.5', '37.77', '8', 'chr4', '26417111', '.', 'C', 'A', '37.77', '.', 'AC=1;AF=0.500;AN=2;BaseQRankSum=1.07;ClippingRankSum=-5.720e-01;DP=9;ExcessHet=3.0103;FS=0.000;MLEAC=1;MLEAF=0.500;MQ=60.00;MQRankSum=0.572;QD=4.72;ReadPosRankSum=-5.720e-01;SOR=0.693', 'GT:AD:DP:GQ:PGT:PID:PL', '0/1:6,2:8:66:0|1:26417111_C_A:66,0,271'], ['chr11', '1260217', '1260217', 'C', 'A', 'exonic', 'MUC5B', '.', 'nonsynonymous SNV', 'MUC5B:NM_002458:exon26:c.C3414A:p.D1138E', 'exonic', 'ENSG00000117983', '.', 'nonsynonymous SNV', 'ENSG00000117983:ENST00000447027:exon26:c.C3423A:p.D1141E,ENSG00000117983:ENST00000529681:exon26:c.C3414A:p.D1138E', '.', '0', '0', '0', '0', '0', '0', '0', '0', '0', '0', '0', '0', '0', '0', '0', '0', '0', 'rs79638064', '0.531', 'T', '0.217', 'B', '0.229', 'B', '.', '.', '1', 'N', '-0.33', 'N', '-0.96', 'T', '-1.53', 'N', '0.457', '0.323', '5.916', '0.750', '0.020', 'N', '-0.914', 'T', '0.143', 'T', '0.554', '0', '-3.43', '0.008', '-0.410', '0.990', '0.062', '0.091', '.', '.', '.', '.', '.', '.', '.', '.', '.', '.', '.', '.', '.', '.', '.', '.', '.', '.', '.', '.', '.', '.', '.', '.', '.', '.', '.', '.', '.', '.', '.', '.', '.', '.', '.', '.', '.', '.', '.', '.', '.', '.', '.', '.', '.', '.', '.', '.', '.', '.', '.', '.', '.', '.', '.', '.', '.', '.', '.', '.', '.', '.', '.', '.', '.', '0.277', '0.5', '336.77', '103', 'chr11', '1260217', 'rs79638064', 'C', 'A', '336.77', '.', 'AC=1;AF=0.500;AN=2;BaseQRankSum=1.08;ClippingRankSum=-2.760e-01;DB;DP=104;ExcessHet=3.0103;FS=5.633;MLEAC=1;MLEAF=0.500;MQ=60.00;MQRankSum=-9.680e-01;QD=3.27;ReadPosRankSum=0.575;SOR=1.473', 'GT:AD:DP:GQ:PGT:PID:PL', '0/1:88,15:103:99:0|1:1260214_C_T:365,0,3650'], ['chr13', '25671271', '25671271', 'A', 'G', 'exonic', 'PABPC3', '.', 'nonsynonymous SNV', 'PABPC3:NM_030979:exon1:c.A935G:p.K312R', 'exonic', 'ENSG00000151846', '.', 'nonsynonymous SNV', 'ENSG00000151846:ENST00000281589:exon1:c.A935G:p.K312R', '.', '.', '.', '.', '.', '.', '.', '.', '.', '0', '0', '0', '0', '0', '0', '0', '0', '0', 'rs79246694', '0.092', 'T', '0.383', 'B', '0.344', 'B', '0.000', 'U', '1.000', 'D', '0.17', 'N', '2.34', 'T', '-2.35', 'N', '0.327', '1.295', '12.24', '0.988', '0.698', 'D', '-1.043', 'T', '0.026', 'T', '0.706', '0', '0.875', '0.649', '0.388', '0.926', '0.008', '5.899', '.', '.', '.', '.', '.', '.', '.', '.', '.', '.', '.', '.', '.', '.', '.', '.', '.', '.', '.', '.', '.', '.', '.', '.', '.', '.', '.', '.', '.', '.', '.', '.', '.', '.', '.', '.', '.', '.', '.', '.', '.', '.', '.', '.', '.', '.', '.', '.', '.', '.', '.', '.', '.', '.', '.', '.', '.', '.', '.', '.', '.', '.', '.', '.', '.', '0.159', '0.5', '112.77', '51', 'chr13', '25671271', 'rs79246694', 'A', 'G', '112.77', '.', 'AC=1;AF=0.500;AN=2;BaseQRankSum=-9.600e-02;ClippingRankSum=-8.620e-01;DB;DP=51;ExcessHet=3.0103;FS=0.000;MLEAC=1;MLEAF=0.500;MQ=59.16;MQRankSum=-1.163e+00;QD=2.21;ReadPosRankSum=-2.094e+00;SOR=0.941', 'GT:AD:DP:GQ:PGT:PID:PL', '0/1:44,7:51:99:0|1:25671271_A_G:141,0,1826'], ['chr13', '25671273', '25671273', 'G', '-', 'exonic', 'PABPC3', '.', 'frameshift deletion', 'PABPC3:NM_030979:exon1:c.937delG:p.A313fs', 'exonic', 'ENSG00000151846', '.', 'frameshift deletion', 'ENSG00000151846:ENST00000281589:exon1:c.937delG:p.A313fs', '.', '.', '.', '.', '.', '.', '.', '.', '.', '0', '0', '0', '0', '0', '0', '0', '0', '0', 'rs376589131', '.', '.', '.', '.', '.', '.', '.', '.', '.', '.', '.', '.', '.', '.', '.', '.', '.', '.', '.', '.', '.', '.', '.', '.', '.', '.', '.', '.', '.', '.', '.', '.', '.', '.', '.', '.', '.', '.', '.', '.', '.', '.', '.', '.', '.', '.', '.', '.', '.', '.', '.', '.', '.', '.', '.', '.', '.', '.', '.', '.', '.', '.', '.', '.', '.', '.', '.', '.', '.', '.', '.', '.', '.', '.', '.', '.', '.', '.', '.', '.', '.', '.', '.', '.', '.', '.', '.', '.', '.', '.', '.', '.', '.', '.', '.', '.', '.', '.', '.', '.', '0.5', '103.73', '50', 'chr13', '25671272', 'rs376589131', 'AG', 'A', '103.73', '.', 'AC=1;AF=0.500;AN=2;BaseQRankSum=1.42;ClippingRankSum=-6.720e-01;DB;DP=50;ExcessHet=3.0103;FS=0.000;MLEAC=1;MLEAF=0.500;MQ=59.29;MQRankSum=-2.045e+00;QD=2.07;ReadPosRankSum=-1.567e+00;SOR=0.693', 'GT:AD:DP:GQ:PGT:PID:PL', '0/1:44,6:50:99:0|1:25671271_A_G:141,0,1826'], ['chr13', '25671333', '25671333', 'A', '-', 'exonic', 'PABPC3', '.', 'frameshift deletion', 'PABPC3:NM_030979:exon1:c.997delA:p.K333fs', 'exonic', 'ENSG00000151846', '.', 'frameshift deletion', 'ENSG00000151846:ENST00000281589:exon1:c.997delA:p.K333fs', '.', '.', '.', '.', '.', '.', '.', '.', '.', '0', '0', '0', '0', '0', '0', '0', '0', '0', 'rs371570689', '.', '.', '.', '.', '.', '.', '.', '.', '.', '.', '.', '.', '.', '.', '.', '.', '.', '.', '.', '.', '.', '.', '.', '.', '.', '.', '.', '.', '.', '.', '.', '.', '.', '.', '.', '.', '.', '.', '.', '.', '.', '.', '.', '.', '.', '.', '.', '.', '.', '.', '.', '.', '.', '.', '.', '.', '.', '.', '.', '.', '.', '.', '.', '.', '.', '.', '.', '.', '.', '.', '.', '.', '.', '.', '.', '.', '.', '.', '.', '.', '.', '.', '.', '.', '.', '.', '.', '.', '.', '.', '.', '.', '.', '.', '.', '.', '.', '.', '.', '.', '0.5', '88.73', '33', 'chr13', '25671332', 'rs371570689', 'CA', 'C', '88.73', '.', 'AC=1;AF=0.500;AN=2;BaseQRankSum=-5.770e-01;ClippingRankSum=-1.260e-01;DB;DP=34;ExcessHet=3.0103;FS=0.000;MLEAC=1;MLEAF=0.500;MQ=57.02;MQRankSum=-8.280e-01;QD=2.69;ReadPosRankSum=1.78;SOR=1.022', 'GT:AD:DP:GQ:PL', '0/1:28,5:33:99:126,0,853']]\n",
      "========================================================\n",
      "['RBMXL1', 'ZNF717', 'RBPJ', 'MUC5B', 'PABPC3']\n",
      "Done\n"
     ]
    }
   ],
   "source": [
    "rows, functions,exfunc, rs,gene, exacall, gnomall, pathogenics, muttype = load_annovar('sp149.hg19_multianno.txt')\n",
    "count = 0\n",
    "print ('Starting ....')\n",
    "outfile = 'sp149.raremaf.filtered.txt'\n",
    "sp149_raremaf_genes = []\n",
    "sp149_raremaf_variants = [] \n",
    "print (cutoff)\n",
    "for i in range(0,len(exacall) ): \n",
    "    if ( (gnomall[i] != '.') and   (exacall[i] !='.' ) ) :\n",
    "        if (  (float(gnomall[i]) < cutoff) and (float(exacall[i]) < cutoff)   and (functions[i] =='exonic') and ( muttype[i] != 'synonymous SNV' )): \n",
    "            count += 1 \n",
    "            writelist(rows[i], outfile)\n",
    "            print(rs[i], gene[i], exacall[i],gnomall[i], muttype[i]) \n",
    "            if gene[i] not in sp149_raremaf_genes: \n",
    "                    sp149_raremaf_genes.append(gene[i])\n",
    "            sp149_raremaf_variants.append(rows[i])\n",
    "            #var = rs[i] + '.' + gene[i] +'.' +exacall[i] +'.'+ gnomall[i]        \n",
    "            #if var not in sp149_raremaf_variants: \n",
    "                #sp149_raremaf_variants.append(var)\n",
    "    elif ( (gnomall[i]=='.') and (exacall[i].isdigit())):\n",
    "           print(gnomall[i])\n",
    "           if ((float(exacall[i]) < cutoff)and (functions[i] =='exonic')  and ( muttype[i] != 'synonymous SNV' )): \n",
    "                count += 1 \n",
    "                writelist(rows[i], outfile)\n",
    "                print(rs[i], gene[i], exacall[i],gnomall[i], muttype[i])\n",
    "                if gene[i] not in sp149_raremaf_genes: \n",
    "                        sp149_raremaf_genes.append(gene[i])\n",
    "                sp149_raremaf_variants.append(rows[i])\n",
    "                #var = rs[i] + '.' + gene[i] +'.' +exacall[i] +'.'+ gnomall[i]\n",
    "                #if var not in sp149_raremaf_variants: \n",
    "                    #sp149_raremaf_variants.append(var)\n",
    "           \n",
    "    elif (( exacall[i]=='.') and   (gnomall[i].isdigit())): \n",
    "            print(exacall[i])\n",
    "            if( (float (gnomall[i]) < cutoff)  and (functions[i] =='exonic') and  ( muttype[i] != 'synonymous SNV' )): \n",
    "                count += 1 \n",
    "                writelist(rows[i], outfile)\n",
    "                print(rs[i], gene[i], exacall[i],gnomall[i], muttype[i])\n",
    "                if gene[i] not in  sp149_raremaf_genes: \n",
    "                         sp149_raremaf_genes.append(gene[i])\n",
    "                sp149_raremaf_variants.append(rows[i])       \n",
    "                #var = rs[i] + '.' + gene[i] +'.' +exacall[i] +'.'+ gnomall[i]\n",
    "                #if var not in sp149_raremaf_variants: \n",
    "                    #sp149_raremaf_variants.append(var)\n",
    "print ('We reached printing stage')\n",
    "print ('Number of variants with gnomall and/or exac <', cutoff, 'is:',count)\n",
    "print (sp149_raremaf_variants)\n",
    "print('========================================================')\n",
    "print(sp149_raremaf_genes)\n",
    "print('Done')"
   ]
  },
  {
   "cell_type": "code",
   "execution_count": null,
   "metadata": {
    "collapsed": true,
    "deletable": true,
    "editable": true
   },
   "outputs": [],
   "source": []
  },
  {
   "cell_type": "code",
   "execution_count": null,
   "metadata": {
    "collapsed": true
   },
   "outputs": [],
   "source": []
  }
 ],
 "metadata": {
  "anaconda-cloud": {},
  "kernelspec": {
   "display_name": "Python 2",
   "language": "python",
   "name": "python2"
  },
  "language_info": {
   "codemirror_mode": {
    "name": "ipython",
    "version": 2
   },
   "file_extension": ".py",
   "mimetype": "text/x-python",
   "name": "python",
   "nbconvert_exporter": "python",
   "pygments_lexer": "ipython2",
   "version": "2.7.12"
  }
 },
 "nbformat": 4,
 "nbformat_minor": 1
}
