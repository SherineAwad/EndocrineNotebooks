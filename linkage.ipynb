{
 "cells": [
  {
   "cell_type": "code",
   "execution_count": 1,
   "metadata": {
    "collapsed": true,
    "deletable": true,
    "editable": true
   },
   "outputs": [],
   "source": [
    "import csv\n",
    "import re\n",
    "import matplotlib.pyplot as plt\n",
    "import pandas as pd\n",
    "import numpy as np\n",
    "import plotly.plotly as py\n",
    "import cufflinks as cf"
   ]
  },
  {
   "cell_type": "code",
   "execution_count": 2,
   "metadata": {
    "collapsed": false,
    "deletable": true,
    "editable": true
   },
   "outputs": [],
   "source": [
    "def read_ld(filename):\n",
    "    myfile = open(filename)\n",
    "    chra = []\n",
    "    bpa = []\n",
    "    snpa = []\n",
    "    chrb = []\n",
    "    bpb = []\n",
    "    snpb = []\n",
    "    r2 = []\n",
    "    distances = [] \n",
    "\n",
    "    for  row in myfile:\n",
    "         if 'CHR_A' in row:\n",
    "                continue\n",
    "         line = row.split()\n",
    "         chra.append(line[0])\n",
    "         bpa.append(int(line[1]))\n",
    "         snpa.append(line[2])\n",
    "         chrb.append(line[3])\n",
    "         bpb.append(int(line[4]))\n",
    "         snpb.append(line[5])\n",
    "         r2.append(float(line[6]))\n",
    "    myfile.close()\n",
    " \n",
    "    for i in range (0, len(bpa)):\n",
    "        distances.append( (  int (bpb[i]) -  int(bpa[i])) )   \n",
    "    return (r2, distances)\n",
    "    "
   ]
  },
  {
   "cell_type": "code",
   "execution_count": 10,
   "metadata": {
    "collapsed": false,
    "deletable": true,
    "editable": true
   },
   "outputs": [
    {
     "data": {
      "image/png": "[encoded data removed]",
      "text/plain": [
       "<matplotlib.figure.Figure at 0x7f55b5660290>"
      ]
     },
     "metadata": {},
     "output_type": "display_data"
    }
   ],
   "source": [
    "r2,_ = read_ld('plink.1000.txt')\n",
    "%matplotlib inline\n",
    "x = r2\n",
    "plt.hist(x, normed=True, bins=30)\n",
    "#plt.xticks(distances)\n",
    "plt.ylabel('Frequency');"
   ]
  },
  {
   "cell_type": "code",
   "execution_count": 6,
   "metadata": {
    "collapsed": false,
    "deletable": true,
    "editable": true
   },
   "outputs": [
    {
     "name": "stdout",
     "output_type": "stream",
     "text": [
      "(0.19709205089307416, 0.18883664504200348, 0.1888532053446027, 0.18885133801492709)\n"
     ]
    },
    {
     "data": {
      "image/png": "[encoded data removed]",
      "text/plain": [
       "<matplotlib.figure.Figure at 0x7f55b9282a10>"
      ]
     },
     "metadata": {},
     "output_type": "display_data"
    },
    {
     "data": {
      "text/plain": [
       "<matplotlib.figure.Figure at 0x7f55b5817950>"
      ]
     },
     "metadata": {},
     "output_type": "display_data"
    }
   ],
   "source": [
    "r2_100,_ = read_ld('plink.100.txt')\n",
    "r2_1000,_ = read_ld('plink.1000.txt')\n",
    "r2_5000,_ = read_ld('plink.5000.txt')\n",
    "r2_10000,_ = read_ld('plink.10000.txt')\n",
    "max1 = np.mean(r2_100)\n",
    "max2 = np.mean(r2_1000)\n",
    "max3 = np.mean(r2_5000)\n",
    "max4 = np.mean(r2_10000)\n",
    "print (max1, max2, max3, max4)\n",
    "\n",
    "data = [r2_100, r2_1000, r2_5000, r2_10000]\n",
    "# multiple box plots on one figure\n",
    "plt.figure()\n",
    "plt.boxplot(data, showmeans=True)\n",
    "plt.xticks([1, 2,3, 4], ['100','1000', '5000', '10000'])\n",
    "plt.xlabel('window size in kb')\n",
    "plt.ylabel('r2')\n",
    "plt.title('Linkage Disequilibrium')\n",
    "plt.show() \n",
    "plt.savefig('ld.png')"
   ]
  },
  {
   "cell_type": "code",
   "execution_count": 9,
   "metadata": {
    "collapsed": false,
    "deletable": true,
    "editable": true
   },
   "outputs": [
    {
     "data": {
      "image/png": "[encoded data removed]",
      "text/plain": [
       "<matplotlib.figure.Figure at 0x7f55b579da10>"
      ]
     },
     "metadata": {},
     "output_type": "display_data"
    },
    {
     "data": {
      "text/plain": [
       "<matplotlib.figure.Figure at 0x7f55b5647b90>"
      ]
     },
     "metadata": {},
     "output_type": "display_data"
    }
   ],
   "source": [
    "r2, distances = read_ld('plink.1000.txt')\n",
    "%matplotlib inline\n",
    "x = r2\n",
    "plt.hist(x, normed=False, bins=50)\n",
    "#plt.xticks(distances)\n",
    "plt.ylabel('Frequency')\n",
    "plt.title('Linkage Disequilibrium')\n",
    "plt.xlabel('r2')\n",
    "plt.figure(figsize=(4,4), dpi=100)\n",
    "plt.savefig('ld-hist.png',dpi = 600)"
   ]
  },
  {
   "cell_type": "code",
   "execution_count": null,
   "metadata": {
    "collapsed": true,
    "deletable": true,
    "editable": true
   },
   "outputs": [],
   "source": []
  },
  {
   "cell_type": "code",
   "execution_count": null,
   "metadata": {
    "collapsed": true,
    "deletable": true,
    "editable": true
   },
   "outputs": [],
   "source": []
  }
 ],
 "metadata": {
  "kernelspec": {
   "display_name": "Python 2",
   "language": "python",
   "name": "python2"
  },
  "language_info": {
   "codemirror_mode": {
    "name": "ipython",
    "version": 2
   },
   "file_extension": ".py",
   "mimetype": "text/x-python",
   "name": "python",
   "nbconvert_exporter": "python",
   "pygments_lexer": "ipython2",
   "version": "2.7.12"
  }
 },
 "nbformat": 4,
 "nbformat_minor": 2
}
