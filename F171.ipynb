{
 "cells": [
  {
   "cell_type": "code",
   "execution_count": null,
   "metadata": {
    "collapsed": false,
    "deletable": true,
    "editable": true
   },
   "outputs": [],
   "source": [
    "import csv\n",
    "import sys\n",
    "import re\n",
    "import matplotlib.pyplot as plt\n",
    "import numpy as np"
   ]
  },
  {
   "cell_type": "markdown",
   "metadata": {
    "deletable": true,
    "editable": true
   },
   "source": [
    "# Cutoff for rare variants "
   ]
  },
  {
   "cell_type": "code",
   "execution_count": null,
   "metadata": {
    "collapsed": false,
    "deletable": true,
    "editable": true
   },
   "outputs": [],
   "source": [
    "cutoff  = 0.0000001"
   ]
  },
  {
   "cell_type": "code",
   "execution_count": null,
   "metadata": {
    "collapsed": false,
    "deletable": true,
    "editable": true
   },
   "outputs": [],
   "source": [
    "def writelist (mylist, myfile): \n",
    "    fp =  open(myfile,'a+')\n",
    "    for idx,item in enumerate(mylist):\n",
    "            fp.write(item)\n",
    "            fp.write('\\t')\n",
    "    fp.write('\\n')\n",
    "    fp.close()"
   ]
  },
  {
   "cell_type": "code",
   "execution_count": null,
   "metadata": {
    "collapsed": true,
    "deletable": true,
    "editable": true
   },
   "outputs": [],
   "source": [
    "def intersections(list1, list2):\n",
    "    intersection_list = []\n",
    "    for i in list1: \n",
    "        if i in list2: \n",
    "                intersection_list.append(i)\n",
    "    return intersection_list"
   ]
  },
  {
   "cell_type": "code",
   "execution_count": null,
   "metadata": {
    "collapsed": true,
    "deletable": true,
    "editable": true
   },
   "outputs": [],
   "source": [
    "def difference(list1, list2):\n",
    "    unique_list = []\n",
    "    for i in list1: \n",
    "        if i not in list2: \n",
    "                unique_list.append(i)\n",
    "    return unique_list"
   ]
  },
  {
   "cell_type": "code",
   "execution_count": null,
   "metadata": {
    "collapsed": true,
    "deletable": true,
    "editable": true
   },
   "outputs": [],
   "source": [
    "def exist (list1, list2): \n",
    "    found_list = []\n",
    "    for i in list1: \n",
    "            if i not in found_list: \n",
    "                    found_list.append(i)\n",
    "    for i in list2: \n",
    "            if i not in found_list: \n",
    "                    found_list.append(i)\n",
    "    return found_list "
   ]
  },
  {
   "cell_type": "markdown",
   "metadata": {
    "deletable": true,
    "editable": true
   },
   "source": [
    "# Read annovar annotation file"
   ]
  },
  {
   "cell_type": "code",
   "execution_count": null,
   "metadata": {
    "collapsed": true,
    "deletable": true,
    "editable": true
   },
   "outputs": [],
   "source": [
    " def load_annovar(filename):\n",
    "    rows = []\n",
    "    exacall = []\n",
    "    gnomall = []\n",
    "    rs = []\n",
    "    gene = []\n",
    "    pathogenics = []\n",
    "    functions = []\n",
    "    exonicfunctions =[]\n",
    "    fp = open(filename, 'r')\n",
    "    r = csv.reader(fp, delimiter='\\t')\n",
    "    for n, row in enumerate(r):\n",
    "        #rs ,pos,_,ensg,_, enst,_,_,_,_,_,_,_,impact =row[:14]\n",
    "        if n == 0: \n",
    "                #print (row[0])\n",
    "                #print(row[11])\n",
    "                #print(row[119])\n",
    "                #print(row[19])\n",
    "                #print(row[6])\n",
    "                #print (row[8])\n",
    "                #print(row[5])\n",
    "                #print(row[54])\n",
    "                continue\n",
    "        exonicfunctions.append(row[8])\n",
    "        exacall.append(row[16])\n",
    "        gnomall.append(row[124])\n",
    "        rs.append(row[19])\n",
    "        rows.append(row)\n",
    "        gene.append(row[6])\n",
    "        functions.append(row[5])\n",
    "        pathogenics.append(row[54])\n",
    "    #for i in exonicfunctions: \n",
    "            #print (i)\n",
    "    return rows, functions, exonicfunctions, rs, gene,  exacall , gnomall, pathogenics"
   ]
  },
  {
   "cell_type": "markdown",
   "metadata": {
    "collapsed": true,
    "deletable": true,
    "editable": true
   },
   "source": [
    "# Working with F171 "
   ]
  },
  {
   "cell_type": "markdown",
   "metadata": {
    "deletable": true,
    "editable": true
   },
   "source": [
    "# M1 is less than Cutoff in either gnomAD or ExAC"
   ]
  },
  {
   "cell_type": "code",
   "execution_count": 99,
   "metadata": {
    "collapsed": false,
    "deletable": true,
    "editable": true
   },
   "outputs": [
    {
     "name": "stdout",
     "output_type": "stream",
     "text": [
      "('0', 'GAGE13;GAGE8', '0', '0.0004')\n",
      "('0', 'MAGEC1', '1.419e-05', '0')\n",
      "('0', 'MAGEC1', '1.423e-05', '0')\n",
      "('0', 'UBXN11', '0', '0.0002')\n",
      "('0.0009', 'SERINC2', '0.0003', '0')\n",
      "('.', 'HRNR', '0', '0.0007')\n",
      "('.', 'HRNR', '.', '0')\n",
      "('.', 'HRNR', '0', '0.0089')\n",
      "('.', 'PRG4', '.', '0')\n",
      "('0', 'IGFN1', '0', '0.0037')\n",
      "('.', 'CR1', '0', '0.0015')\n",
      "('0', 'RGPD5;RGPD8', '0', '4.008e-05')\n",
      "('.', 'POTEI', '0', '0.1550')\n",
      "('0', 'FYCO1', '9.635e-05', '0')\n",
      "('.', 'TMIE', '.', '0')\n",
      "('0', 'ZNF717', '0', '0.0010')\n",
      "('0', 'ZNF717', '0', '0.0009')\n",
      "('0.0026', 'MUC4', '0.0091', '0')\n",
      "('0', 'MUC4', '0', '0.0014')\n",
      "('0', 'MUC4', '0', '.')\n",
      "('0', 'MUC4', '0', '0.0001')\n",
      "('0', 'MUC4', '0', '0.0001')\n",
      "('0', 'MUC4', '0.0001', '0')\n",
      "('0', 'MUC4', '0.0016', '0')\n",
      "('0.0016', 'MUC4', '0.0001', '0')\n",
      "('0.0018', 'MUC4', '0.0001', '0')\n",
      "('0', 'MUC4', '0.0023', '0')\n",
      "('0', 'MUC4', '0', '0.0008')\n",
      "('.', 'MUC4', '.', '0')\n",
      "('0', 'MUC4', '0.0030', '0')\n",
      "('0', 'MUC4', '0', '0.0011')\n",
      "('0', 'MUC4', '0.0006', '0')\n",
      "('0', 'MUC4', '0', '2.775e-05')\n",
      "('.', 'MUC4', '0.0096', '0')\n",
      "('.', 'MUC4', '0', '0.0032')\n",
      "('0', 'MUC4', '0', '0.0098')\n",
      "('0', 'MUC4', '0', '0.0074')\n",
      "('.', 'MUC4', '.', '0')\n",
      "('0', 'MUC4', '0', '0.0011')\n",
      "('0', 'MUC4', '0', '2.048e-05')\n",
      "('.', 'MUC4', '0', '5.93e-05')\n",
      "('.', 'MUC4', '0', '5.026e-05')\n",
      "('.', 'MUC4', '0', '2.334e-05')\n",
      "('.', 'MUC4', '.', '0')\n",
      "('.', 'MUC4', '.', '0')\n",
      "('0.0082', 'MUC4', '0.0049', '0')\n",
      "('0.0079', 'MUC4', '0.0047', '0')\n",
      "('0.0003', 'ZNF595', '0.0004', '0')\n",
      "('0.0003', 'ZNF595', '0.0004', '0')\n",
      "('0.0003', 'ZNF595', '0.0002', '0')\n",
      "('0.0001', 'ZNF595', '0.0002', '0')\n",
      "('.', 'DSPP', '.', '0')\n",
      "('0', 'DSPP', '0', '4.591e-05')\n",
      "('0', 'DSPP', '5.257e-05', '0')\n",
      "('0.0034', 'DSPP', '0.0002', '0')\n",
      "('.', 'KCNN2', '.', '0')\n",
      "('0', 'HGC6.3', '0.0018', '0')\n",
      "('.', 'WDR27', '0', '0')\n",
      "('0', 'MUC3A', '0', '.')\n",
      "('0', 'MUC3A', '0', '0')\n",
      "('0', 'MUC3A', '0.0002', '0')\n",
      "('0', 'MUC12', '0', '2.611e-05')\n",
      "('0', 'MUC12', '0', '2.598e-05')\n",
      "('.', 'MUC12', '.', '0')\n",
      "('.', 'MUC12', '.', '0')\n",
      "('.', 'MUC12', '.', '0')\n",
      "('0', 'TRIM56', '0', '8.965e-05')\n",
      "('.', 'DEFB105A;DEFB105B', '0', '0.2751')\n",
      "('0', 'BHLHE22', '0', '0.0007')\n",
      "('.', 'PLEC', '.', '0')\n",
      "('0', 'FOXD4L5', '0', '5.401e-05')\n",
      "('.', 'PPP1R26', '.', '0')\n",
      "('.', 'PITRM1', '.', '0')\n",
      "('0', 'MUC6', '1.476e-05', '0')\n",
      "('0.0002', 'MUC6', '0.0003', '0')\n",
      "('0.0002', 'MUC6', '0.0003', '0')\n",
      "('0.0051', 'MUC6', '0.0041', '0')\n",
      "('0.0011', 'MUC6', '0.0004', '0')\n",
      "('0', 'MUC2', '0.0009', '0')\n",
      "('0', 'MUC2', '5.906e-05', '0')\n",
      "('0', 'MUC2', '0.0004', '0')\n",
      "('0', 'MUC5B', '1.181e-05', '0')\n",
      "('0', 'MUC5B', '0', '.')\n",
      "('0', 'MUC5B', '0', '.')\n",
      "('0', 'MUC5B', '0', '.')\n",
      "('0', 'OR8U1;OR8U8', '1.769e-05', '0')\n",
      "('.', 'MUC19', '0', '0')\n",
      "('0', 'KRT4', '0.0005', '0')\n",
      "('.', 'POTEM', '0', '0.1667')\n",
      "('.', 'CCDC177', '0', '.')\n",
      "('0', 'GOLGA6L2', '0', '.')\n",
      "('0', 'GOLGA6L2', '0', '.')\n",
      "('0', 'GOLGA6L2', '0', '0.0350')\n",
      "('.', 'GOLGA6L2', '.', '0')\n",
      "('0', 'GOLGA6L2', '0', '0.1565')\n",
      "('0', 'GOLGA6L2', '0', '0.0007')\n",
      "('0', 'GOLGA6L2', '0', '.')\n",
      "('0', 'GOLGA6L10', '0', '.')\n",
      "('0.0274', 'SF3B3', '0.0108', '0')\n",
      "('.', 'ZFPM1', '0', '0.0201')\n",
      "('0', 'ZFPM1', '0', '0')\n",
      "('.', 'GP1BA', '.', '0')\n",
      "('.', 'KRTAP4-8', '.', '0')\n",
      "('.', 'KRTAP9-1', '.', '0')\n",
      "('.', 'KRTAP9-1', '.', '0')\n",
      "('.', 'KRTAP9-1', '.', '0')\n",
      "('.', 'KRTAP9-1', '.', '0')\n",
      "('.', 'KRTAP9-1', '.', '0')\n",
      "('0', 'PLIN4', '0', '2.492e-05')\n",
      "('0.0731', 'ZNF208', '0.0638', '0')\n",
      "('0', 'ZNF837', '0', '0.0006')\n",
      "('0', 'SIRPB1', '0', '1.053e-05')\n",
      "('.', 'OLIG1', '.', '0')\n",
      "('.', 'PLAC4', '.', '0')\n",
      "('.', 'KRTAP10-1', '.', '0')\n",
      "('.', 'RIMBP3B;RIMBP3C', '0', '0.5091')\n",
      "('.', 'CELSR1', '.', '0')\n",
      "('Number of variants with gnomall and/or exac <', 1e-07, 'is:', 117)\n",
      "['0.GAGE13;GAGE8.0.0.0004', '0.MAGEC1.1.419e-05.0', '0.MAGEC1.1.423e-05.0', '0.UBXN11.0.0.0002', '0.0009.SERINC2.0.0003.0', '..HRNR.0.0.0007', '..HRNR...0', '..HRNR.0.0.0089', '..PRG4...0', '0.IGFN1.0.0.0037', '..CR1.0.0.0015', '0.RGPD5;RGPD8.0.4.008e-05', '..POTEI.0.0.1550', '0.FYCO1.9.635e-05.0', '..TMIE...0', '0.ZNF717.0.0.0010', '0.ZNF717.0.0.0009', '0.0026.MUC4.0.0091.0', '0.MUC4.0.0.0014', '0.MUC4.0..', '0.MUC4.0.0.0001', '0.MUC4.0.0001.0', '0.MUC4.0.0016.0', '0.0016.MUC4.0.0001.0', '0.0018.MUC4.0.0001.0', '0.MUC4.0.0023.0', '0.MUC4.0.0.0008', '..MUC4...0', '0.MUC4.0.0030.0', '0.MUC4.0.0.0011', '0.MUC4.0.0006.0', '0.MUC4.0.2.775e-05', '..MUC4.0.0096.0', '..MUC4.0.0.0032', '0.MUC4.0.0.0098', '0.MUC4.0.0.0074', '0.MUC4.0.2.048e-05', '..MUC4.0.5.93e-05', '..MUC4.0.5.026e-05', '..MUC4.0.2.334e-05', '0.0082.MUC4.0.0049.0', '0.0079.MUC4.0.0047.0', '0.0003.ZNF595.0.0004.0', '0.0003.ZNF595.0.0002.0', '0.0001.ZNF595.0.0002.0', '..DSPP...0', '0.DSPP.0.4.591e-05', '0.DSPP.5.257e-05.0', '0.0034.DSPP.0.0002.0', '..KCNN2...0', '0.HGC6.3.0.0018.0', '..WDR27.0.0', '0.MUC3A.0..', '0.MUC3A.0.0', '0.MUC3A.0.0002.0', '0.MUC12.0.2.611e-05', '0.MUC12.0.2.598e-05', '..MUC12...0', '0.TRIM56.0.8.965e-05', '..DEFB105A;DEFB105B.0.0.2751', '0.BHLHE22.0.0.0007', '..PLEC...0', '0.FOXD4L5.0.5.401e-05', '..PPP1R26...0', '..PITRM1...0', '0.MUC6.1.476e-05.0', '0.0002.MUC6.0.0003.0', '0.0051.MUC6.0.0041.0', '0.0011.MUC6.0.0004.0', '0.MUC2.0.0009.0', '0.MUC2.5.906e-05.0', '0.MUC2.0.0004.0', '0.MUC5B.1.181e-05.0', '0.MUC5B.0..', '0.OR8U1;OR8U8.1.769e-05.0', '..MUC19.0.0', '0.KRT4.0.0005.0', '..POTEM.0.0.1667', '..CCDC177.0..', '0.GOLGA6L2.0..', '0.GOLGA6L2.0.0.0350', '..GOLGA6L2...0', '0.GOLGA6L2.0.0.1565', '0.GOLGA6L2.0.0.0007', '0.GOLGA6L10.0..', '0.0274.SF3B3.0.0108.0', '..ZFPM1.0.0.0201', '0.ZFPM1.0.0', '..GP1BA...0', '..KRTAP4-8...0', '..KRTAP9-1...0', '0.PLIN4.0.2.492e-05', '0.0731.ZNF208.0.0638.0', '0.ZNF837.0.0.0006', '0.SIRPB1.0.1.053e-05', '..OLIG1...0', '..PLAC4...0', '..KRTAP10-1...0', '..RIMBP3B;RIMBP3C.0.0.5091', '..CELSR1...0']\n",
      "Done\n"
     ]
    }
   ],
   "source": [
    "rows, functions,exfunc, rs,gene, exacall, gnomall, pathogenics = load_annovar('Ot3114.hg19_multianno.txt')\n",
    "count = 0\n",
    "outfile = 'f171m1.raremaf.filtered.txt'\n",
    "f171m1_raremaf_genes = []\n",
    "f171m1_raremaf_variants = [] \n",
    "for i in range(0,len(exacall) ): \n",
    "    if  ( (gnomall[i].isdigit()) and   (exacall[i].isdigit()) ) :\n",
    "        if (  (float(gnomall[i]) < cutoff) and (float(exacall[i]) < cutoff)   and (functions[i] =='exonic') ): \n",
    "            count += 1 \n",
    "            writelist(rows[i], outfile)\n",
    "            print(rs[i], gene[i], exacall[i],gnomall[i])\n",
    "            if gene[i] not in f171m1_raremaf_genes: \n",
    "                    f171m1_raremaf_genes.append(gene[i])\n",
    "            var = rs[i] + '.' + gene[i] +'.' +exacall[i] +'.'+ gnomall[i]\n",
    "            if var not in f171m1_raremaf_variants: \n",
    "                f171m1_raremaf_variants.append(var)\n",
    "    elif ( (exacall[i].isdigit())  and (float(exacall[i]) < cutoff)and (functions[i] =='exonic')   ):\n",
    "            count += 1 \n",
    "            writelist(rows[i], outfile)\n",
    "            print(rs[i], gene[i], exacall[i],gnomall[i])\n",
    "            if gene[i] not in f171m1_raremaf_genes: \n",
    "                    f171m1_raremaf_genes.append(gene[i])\n",
    "            var = rs[i] + '.' + gene[i] +'.' +exacall[i] +'.'+ gnomall[i]\n",
    "            if var not in f171m1_raremaf_variants: \n",
    "                f171m1_raremaf_variants.append(var)\n",
    "           \n",
    "    elif ( (gnomall[i].isdigit())  and (float (gnomall[i]) < cutoff)  and (functions[i] =='exonic')  ):\n",
    "            count += 1 \n",
    "            writelist(rows[i], outfile)\n",
    "            print(rs[i], gene[i], exacall[i],gnomall[i])\n",
    "            if gene[i] not in  f171m1_raremaf_genes: \n",
    "                     f171m1_raremaf_genes.append(gene[i])\n",
    "            var = rs[i] + '.' + gene[i] +'.' +exacall[i] +'.'+ gnomall[i]\n",
    "            if var not in f171m1_raremaf_variants: \n",
    "                f171m1_raremaf_variants.append(var)\n",
    "\n",
    "print ('Number of variants with gnomall and/or exac <', cutoff, 'is:',count)\n",
    "print (f171m1_raremaf_variants)\n",
    "print('Done')"
   ]
  },
  {
   "cell_type": "markdown",
   "metadata": {},
   "source": [
    "# M2 is less than Cutoff"
   ]
  },
  {
   "cell_type": "code",
   "execution_count": 100,
   "metadata": {
    "collapsed": false,
    "deletable": true,
    "editable": true
   },
   "outputs": [
    {
     "name": "stdout",
     "output_type": "stream",
     "text": [
      "('.', 'FAM47A', '.', '0')\n",
      "('0', 'NXF2;NXF2B', '0', '0.3')\n",
      "('0', 'ESX1', '0.0002', '0')\n",
      "('0', 'MAGEC1', '1.419e-05', '0')\n",
      "('0', 'MAGEC1', '1.423e-05', '0')\n",
      "('0', 'MIB2', '0', '0.0001')\n",
      "('0', 'UBXN11', '0', '0.0002')\n",
      "('0.0009', 'SERINC2', '0.0003', '0')\n",
      "('0', 'NBPF19', '0', '0.5998')\n",
      "('.', 'PPIAL4A;PPIAL4C', '0', '0.4359')\n",
      "('.', 'PPIAL4A;PPIAL4C', '0', '0.4375')\n",
      "('0', 'TCHH', '0', '.')\n",
      "('0', 'TCHH', '0', '.')\n",
      "('.', 'HRNR', '0', '0.0090')\n",
      "('.', 'LOR', '.', '0')\n",
      "('0', 'IGFN1', '0', '0.0004')\n",
      "('0', 'IGFN1', '0', '0.0037')\n",
      "('0.0940', 'IGFN1', '0.0333', '0')\n",
      "('0.0126', 'IGFN1', '0.0026', '0')\n",
      "('0.0099', 'IGFN1', '0.0023', '0')\n",
      "('.', 'ANTXR1', '.', '0')\n",
      "('.', 'ANTXR1', '.', '0')\n",
      "('.', 'ANKRD36C', '.', '0')\n",
      "('0', 'TMEM87B', '0', '4.818e-05')\n",
      "('0', 'POTEI', '0', '0.3663')\n",
      "('.', 'POTEE', '0', '0.7556')\n",
      "('.', 'NEB', '0', '0.3333')\n",
      "('.', 'TMIE', '.', '0')\n",
      "('0', 'MUC4', '0.0002', '0')\n",
      "('.', 'MUC4', '.', '0')\n",
      "('.', 'MUC4', '.', '0')\n",
      "('.', 'MUC4', '.', '0')\n",
      "('0', 'MUC4', '0.0001', '0')\n",
      "('0', 'MUC4', '0', '0.0006')\n",
      "('0', 'MUC4', '0.0030', '0')\n",
      "('0', 'MUC4', '0.0006', '0')\n",
      "('.', 'MUC4', '0.0096', '0')\n",
      "('0', 'MUC4', '0', '.')\n",
      "('.', 'MUC4', '0', '0.0032')\n",
      "('0', 'MUC4', '0', '.')\n",
      "('0', 'MUC4', '0', '.')\n",
      "('.', 'MUC4', '0', '0.0275')\n",
      "('0', 'MUC4', '0', '0.0559')\n",
      "('0', 'MUC4', '0.0012', '0')\n",
      "('0', 'MUC4', '0', '0.0098')\n",
      "('0', 'MUC4', '0', '0.0074')\n",
      "('.', 'MUC4', '.', '0')\n",
      "('.', 'MUC4', '.', '0')\n",
      "('0', 'MUC4', '0', '0.0011')\n",
      "('0', 'MUC4', '0', '2.048e-05')\n",
      "('.', 'MUC4', '0', '5.93e-05')\n",
      "('.', 'MUC4', '0', '5.026e-05')\n",
      "('.', 'MUC4', '0', '2.334e-05')\n",
      "('0', 'MUC4', '0', '0.0002')\n",
      "('.', 'REST', '.', '0')\n",
      "('.', 'DSPP', '.', '0')\n",
      "('0', 'DSPP', '5.257e-05', '0')\n",
      "('0.0034', 'DSPP', '0.0002', '0')\n",
      "('.', 'KCNN2', '.', '0')\n",
      "('0', 'OSTM1', '0', '3.543e-05')\n",
      "('0.0001', 'MUC3A', '0.0003', '0')\n",
      "('0.0002', 'MUC3A', '0.0005', '0')\n",
      "('0.0002', 'MUC3A', '0.0005', '0')\n",
      "('0.0002', 'MUC3A', '0.0005', '0')\n",
      "('.', 'MUC12', '.', '0')\n",
      "('.', 'MUC12', '.', '0')\n",
      "('.', 'MUC12', '0', '0.5096')\n",
      "('.', 'MUC12', '.', '0')\n",
      "('.', 'MUC12', '.', '0')\n",
      "('.', 'MUC12', '0', '0.0018')\n",
      "('.', 'MUC12', '.', '0')\n",
      "('.', 'MUC12', '.', '0')\n",
      "('.', 'MUC17', '.', '0')\n",
      "('0', 'MUC17', '0.0002', '0')\n",
      "('0', 'MUC17', '0.0002', '0')\n",
      "('.', 'HIPK2', '0', '0.0092')\n",
      "('0', 'RBM33', '0', '8.366e-06')\n",
      "('.', 'PLEC', '.', '0')\n",
      "('0', 'SPATA31A1', '0', '0.0018')\n",
      "('0', 'NR5A1', '0', '.')\n",
      "('.', 'PPP1R26', '.', '0')\n",
      "('.', 'TIMM23', '0', '0.5')\n",
      "('0', 'MUC6', '1.476e-05', '0')\n",
      "('0.0002', 'MUC6', '0.0003', '0')\n",
      "('0.0002', 'MUC6', '0.0003', '0')\n",
      "('0', 'MUC2', '0.0009', '0')\n",
      "('0', 'MUC2', '5.906e-05', '0')\n",
      "('0', 'MUC2', '0.0004', '0')\n",
      "('0.0079', 'MUC2', '0.0012', '0')\n",
      "('.', 'MUC5AC', '.', '0')\n",
      "('0', 'MUC5AC', '0', '.')\n",
      "('0', 'KRTAP5-4', '0', '0')\n",
      "('0', 'UVRAG', '0', '0.0011')\n",
      "('.', 'MUC19', '.', '0')\n",
      "('.', 'MUC19', '0', '0')\n",
      "('.', 'MUC19', '.', '0')\n",
      "('.', 'MUC19', '0', '0')\n",
      "('0', 'KRT4', '0.0005', '0')\n",
      "('0', 'DTX3', '0', '0.0001')\n",
      "('0', 'GOLGA6L2', '0', '0.1565')\n",
      "('0', 'GOLGA6L2', '0', '0.0007')\n",
      "('0', 'GOLGA6L2', '0', '.')\n",
      "('.', 'GOLGA8R', '0', '0')\n",
      "('0', 'NPIPB5', '0', '0.0008')\n",
      "('.', 'NPIPB5', '.', '0')\n",
      "('.', 'NPIPB5', '.', '0')\n",
      "('0.0274', 'SF3B3', '0.0108', '0')\n",
      "('.', 'NATD1', '.', '0')\n",
      "('.', 'KRTAP9-1', '.', '0')\n",
      "('.', 'KRTAP9-1', '.', '0')\n",
      "('.', 'USP32', '.', '0')\n",
      "('0', 'PLIN4', '0', '2.492e-05')\n",
      "('0', 'PLIN4', '0', '2.474e-05')\n",
      "('.', 'ZNF676', '.', '0')\n",
      "('.', 'ZNF676', '.', '0')\n",
      "('0', 'DMKN', '0', '1.107e-05')\n",
      "('0', 'DMKN', '0', '0')\n",
      "('.', 'DMKN', '.', '0')\n",
      "('.', 'DMKN', '.', '0')\n",
      "('0', 'DMKN', '0', '.')\n",
      "('0', 'DMKN', '0', '.')\n",
      "('0', 'WDR87', '0', '.')\n",
      "('0', 'CIC', '0.0001', '0')\n",
      "('.', 'ATF5', '.', '0')\n",
      "('.', 'ZNF880', '.', '0')\n",
      "('.', 'ZNF880', '.', '0')\n",
      "('.', 'ZNF880', '.', '0')\n",
      "('.', 'ZNF880', '.', '0')\n",
      "('0', 'POTEH', '0', '0.0016')\n",
      "('0', 'RIMBP3', '0', '0.0148')\n",
      "('.', 'RIMBP3B;RIMBP3C', '0', '0.5091')\n",
      "('Number of variants with gnomall and/or exac <', 1e-07, 'is:', 131)\n",
      "['..FAM47A...0', '0.NXF2;NXF2B.0.0.3', '0.ESX1.0.0002.0', '0.MAGEC1.1.419e-05.0', '0.MAGEC1.1.423e-05.0', '0.MIB2.0.0.0001', '0.UBXN11.0.0.0002', '0.0009.SERINC2.0.0003.0', '0.NBPF19.0.0.5998', '..PPIAL4A;PPIAL4C.0.0.4359', '..PPIAL4A;PPIAL4C.0.0.4375', '0.TCHH.0..', '..HRNR.0.0.0090', '..LOR...0', '0.IGFN1.0.0.0004', '0.IGFN1.0.0.0037', '0.0940.IGFN1.0.0333.0', '0.0126.IGFN1.0.0026.0', '0.0099.IGFN1.0.0023.0', '..ANTXR1...0', '..ANKRD36C...0', '0.TMEM87B.0.4.818e-05', '0.POTEI.0.0.3663', '..POTEE.0.0.7556', '..NEB.0.0.3333', '..TMIE...0', '0.MUC4.0.0002.0', '..MUC4...0', '0.MUC4.0.0001.0', '0.MUC4.0.0.0006', '0.MUC4.0.0030.0', '0.MUC4.0.0006.0', '..MUC4.0.0096.0', '0.MUC4.0..', '..MUC4.0.0.0032', '..MUC4.0.0.0275', '0.MUC4.0.0.0559', '0.MUC4.0.0012.0', '0.MUC4.0.0.0098', '0.MUC4.0.0.0074', '0.MUC4.0.0.0011', '0.MUC4.0.2.048e-05', '..MUC4.0.5.93e-05', '..MUC4.0.5.026e-05', '..MUC4.0.2.334e-05', '0.MUC4.0.0.0002', '..REST...0', '..DSPP...0', '0.DSPP.5.257e-05.0', '0.0034.DSPP.0.0002.0', '..KCNN2...0', '0.OSTM1.0.3.543e-05', '0.0001.MUC3A.0.0003.0', '0.0002.MUC3A.0.0005.0', '..MUC12...0', '..MUC12.0.0.5096', '..MUC12.0.0.0018', '..MUC17...0', '0.MUC17.0.0002.0', '..HIPK2.0.0.0092', '0.RBM33.0.8.366e-06', '..PLEC...0', '0.SPATA31A1.0.0.0018', '0.NR5A1.0..', '..PPP1R26...0', '..TIMM23.0.0.5', '0.MUC6.1.476e-05.0', '0.0002.MUC6.0.0003.0', '0.MUC2.0.0009.0', '0.MUC2.5.906e-05.0', '0.MUC2.0.0004.0', '0.0079.MUC2.0.0012.0', '..MUC5AC...0', '0.MUC5AC.0..', '0.KRTAP5-4.0.0', '0.UVRAG.0.0.0011', '..MUC19...0', '..MUC19.0.0', '0.KRT4.0.0005.0', '0.DTX3.0.0.0001', '0.GOLGA6L2.0.0.1565', '0.GOLGA6L2.0.0.0007', '0.GOLGA6L2.0..', '..GOLGA8R.0.0', '0.NPIPB5.0.0.0008', '..NPIPB5...0', '0.0274.SF3B3.0.0108.0', '..NATD1...0', '..KRTAP9-1...0', '..USP32...0', '0.PLIN4.0.2.492e-05', '0.PLIN4.0.2.474e-05', '..ZNF676...0', '0.DMKN.0.1.107e-05', '0.DMKN.0.0', '..DMKN...0', '0.DMKN.0..', '0.WDR87.0..', '0.CIC.0.0001.0', '..ATF5...0', '..ZNF880...0', '0.POTEH.0.0.0016', '0.RIMBP3.0.0.0148', '..RIMBP3B;RIMBP3C.0.0.5091']\n",
      "Done\n"
     ]
    }
   ],
   "source": [
    "rows, functions,exfunc, rs,gene, exacall, gnomall, pathogenics = load_annovar('Ot3115.hg19_multianno.txt')\n",
    "count = 0\n",
    "outfile = 'f171m2.raremaf.filtered.txt'\n",
    "f171m2_raremaf_genes = []\n",
    "f171m2_raremaf_variants = []\n",
    "for i in range(0,len(exacall) ): \n",
    "    if  ( (gnomall[i].isdigit()) and   (exacall[i].isdigit()) ) :\n",
    "        if  (  (float(gnomall[i]) < cutoff) and (float(exacall[i]) < cutoff) and (functions[i] =='exonic') ): \n",
    "            count += 1 \n",
    "            writelist(rows[i], outfile)\n",
    "            print(rs[i], gene[i], exacall[i],gnomall[i])\n",
    "            if gene[i] not in f171m2_raremaf_genes: \n",
    "                    f171m2_raremaf_genes.append(gene[i])\n",
    "            var = rs[i] + '.' + gene[i] +'.' +exacall[i] +'.'+ gnomall[i]\n",
    "            if var not in f171m2_raremaf_variants: \n",
    "                f171m2_raremaf_variants.append(var)\n",
    "\n",
    "    elif ( (exacall[i].isdigit()) and (float(exacall[i]) < cutoff) and (functions[i] =='exonic')):\n",
    "            count += 1 \n",
    "            writelist(rows[i], outfile)\n",
    "            print(rs[i], gene[i], exacall[i],gnomall[i])\n",
    "            if gene[i] not in f171m2_raremaf_genes: \n",
    "                    f171m2_raremaf_genes.append(gene[i])\n",
    "            var = rs[i] + '.' + gene[i] +'.' +exacall[i] +'.'+ gnomall[i]\n",
    "            if var not in f171m2_raremaf_variants: \n",
    "                f171m2_raremaf_variants.append(var)\n",
    "    elif ( (gnomall[i].isdigit() ) and (float (gnomall[i]) < cutoff) and (functions[i] =='exonic')):\n",
    "            count += 1 \n",
    "            writelist(rows[i], outfile)\n",
    "            print(rs[i], gene[i], exacall[i],gnomall[i])\n",
    "            if gene[i] not in  f171m2_raremaf_genes: \n",
    "                     f171m2_raremaf_genes.append(gene[i])\n",
    "            var = rs[i] + '.' + gene[i] +'.' +exacall[i] +'.'+ gnomall[i]\n",
    "            if var not in f171m2_raremaf_variants: \n",
    "                f171m2_raremaf_variants.append(var)\n",
    "print ('Number of variants with gnomall and/or exac <', cutoff, 'is:',count)\n",
    "print (f171m2_raremaf_variants)\n",
    "print('Done')"
   ]
  },
  {
   "cell_type": "markdown",
   "metadata": {
    "deletable": true,
    "editable": true
   },
   "source": [
    "## M3 is less than Cutoff"
   ]
  },
  {
   "cell_type": "code",
   "execution_count": 122,
   "metadata": {
    "collapsed": false,
    "deletable": true,
    "editable": true
   },
   "outputs": [
    {
     "name": "stdout",
     "output_type": "stream",
     "text": [
      "('.', 'RPGR', '.', '0')\n",
      "('0', 'GAGE13;GAGE8', '0', '0.0004')\n",
      "('0', 'MAGEC1', '1.419e-05', '0')\n",
      "('0', 'MAGEC1', '1.423e-05', '0')\n",
      "('0.0009', 'SERINC2', '0.0003', '0')\n",
      "('.', 'PRG4', '.', '0')\n",
      "('0', 'IGFN1', '0', '0.0004')\n",
      "('0', 'IGFN1', '0', '0.0037')\n",
      "('.', 'ANKRD36C', '.', '0')\n",
      "('0', 'POTEI', '0', '0.3663')\n",
      "('.', 'TMIE', '.', '0')\n",
      "('.', 'ZNF717', '.', '0')\n",
      "('0', 'ZNF717', '0', '0.0010')\n",
      "('0', 'MUC4', '0.0002', '0')\n",
      "('0.0026', 'MUC4', '0.0091', '0')\n",
      "('0', 'MUC4', '0', '0.0014')\n",
      "('0', 'MUC4', '0.0002', '0')\n",
      "('.', 'MUC4', '.', '0')\n",
      "('.', 'MUC4', '.', '0')\n",
      "('0', 'MUC4', '0', '4.893e-05')\n",
      "('.', 'MUC4', '.', '0')\n",
      "('0', 'MUC4', '0.0023', '0')\n",
      "('.', 'MUC4', '.', '0')\n",
      "('0', 'MUC4', '0', '0.0006')\n",
      "('0', 'MUC4', '0', '0')\n",
      "('0', 'MUC4', '0.0003', '0')\n",
      "('0', 'MUC4', '0', '2.775e-05')\n",
      "('0', 'MUC4', '0', '4.329e-05')\n",
      "('0', 'MUC4', '0', '5.496e-05')\n",
      "('.', 'MUC4', '0.0096', '0')\n",
      "('0', 'MUC4', '0', '.')\n",
      "('.', 'MUC4', '0', '0.0032')\n",
      "('0', 'MUC4', '0', '.')\n",
      "('0', 'MUC4', '0', '.')\n",
      "('.', 'MUC4', '0', '0.0275')\n",
      "('0', 'MUC4', '0', '.')\n",
      "('0', 'MUC4', '0', '0.0559')\n",
      "('0', 'MUC4', '0', '0.0098')\n",
      "('0', 'MUC4', '0', '0.0074')\n",
      "('0', 'MUC4', '0', '0.0336')\n",
      "('0.0082', 'MUC4', '0.0049', '0')\n",
      "('0.0079', 'MUC4', '0.0047', '0')\n",
      "('0', 'MUC4', '5.394e-05', '0')\n",
      "('.', 'REST', '.', '0')\n",
      "('0', 'DSPP', '0', '4.591e-05')\n",
      "('0', 'DSPP', '5.257e-05', '0')\n",
      "('0.0034', 'DSPP', '0.0002', '0')\n",
      "('.', 'POU4F2', '.', '0')\n",
      "('0', 'MSH3', '0', '2.382e-05')\n",
      "('.', 'KCNN2', '.', '0')\n",
      "('0', 'NACAD', '0', '0.0002')\n",
      "('.', 'MUC12', '.', '0')\n",
      "('.', 'MUC12', '0', '0.0018')\n",
      "('.', 'MUC12', '.', '0')\n",
      "('.', 'MUC12', '.', '0')\n",
      "('.', 'MUC12', '.', '0')\n",
      "('.', 'MUC12', '.', '0')\n",
      "('.', 'MUC17', '.', '0')\n",
      "('.', 'MUC17', '.', '0')\n",
      "('.', 'MUC17', '.', '0')\n",
      "('.', 'TCAF2', '0', '0.0215')\n",
      "('0', 'ZFHX4', '0', '0.0014')\n",
      "('0', 'SPATA31A1', '0', '0.0018')\n",
      "('0', 'NR5A1', '0', '.')\n",
      "('.', 'PPP1R26', '.', '0')\n",
      "('0', 'MUC6', '1.476e-05', '0')\n",
      "('0.0002', 'MUC6', '0.0003', '0')\n",
      "('0.0002', 'MUC6', '0.0003', '0')\n",
      "('0', 'MUC2', '0.0009', '0')\n",
      "('0', 'MUC2', '0.0004', '0')\n",
      "('0', 'MUC2', '0', '0.0002')\n",
      "('0.0079', 'MUC2', '0.0012', '0')\n",
      "('0', 'MUC5AC', '0', '.')\n",
      "('0', 'MUC5B', '1.181e-05', '0')\n",
      "('0', 'MUC5B', '0', '.')\n",
      "('0', 'MUC5B', '0', '.')\n",
      "('0', 'MUC5B', '0', '.')\n",
      "('0', 'OR8U1;OR8U8', '1.769e-05', '0')\n",
      "('.', 'MUC19', '0', '0.9942')\n",
      "('.', 'MUC19', '0', '0')\n",
      "('.', 'MUC19', '0', '0')\n",
      "('.', 'MUC19', '0', '.')\n",
      "('0', 'KRT4', '0.0005', '0')\n",
      "('.', 'FBXW8', '0', '0')\n",
      "('.', 'GOLGA3', '.', '0')\n",
      "('0', 'GOLGA6L2', '0', '0.0350')\n",
      "('0', 'GOLGA6L2', '0', '0.0007')\n",
      "('0', 'GOLGA6L2', '0', '.')\n",
      "('0.0274', 'SF3B3', '0.0108', '0')\n",
      "('0', 'ZFPM1', '0', '0')\n",
      "('.', 'ZNHIT3', '0', '0')\n",
      "('.', 'USP32', '.', '0')\n",
      "('.', 'ZNF880', '.', '0')\n",
      "('.', 'ZNF880', '.', '0')\n",
      "('.', 'ZNF880', '.', '0')\n",
      "('.', 'ZNF880', '.', '0')\n",
      "('0', 'ZNF880', '1.073e-05', '0')\n",
      "('0', 'ZNF837', '0', '0.0006')\n",
      "('0', 'SIRPB1', '1.579e-05', '0')\n",
      "('0', 'SIRPB1', '1.577e-05', '0')\n",
      "('0', 'MROH8', '0.0125', '0')\n",
      "('.', 'KRTAP10-1', '.', '0')\n",
      "('0', 'POTEH', '0', '0.0016')\n",
      "('.', 'RIMBP3B;RIMBP3C', '0', '0.5091')\n",
      "('Number of variants with gnomall and exac <', 1e-07, 'is:', 104)\n",
      "['..RPGR...0', '0.GAGE13;GAGE8.0.0.0004', '0.MAGEC1.1.419e-05.0', '0.MAGEC1.1.423e-05.0', '0.0009.SERINC2.0.0003.0', '..PRG4...0', '0.IGFN1.0.0.0004', '0.IGFN1.0.0.0037', '..ANKRD36C...0', '0.POTEI.0.0.3663', '..TMIE...0', '..ZNF717...0', '0.ZNF717.0.0.0010', '0.MUC4.0.0002.0', '0.0026.MUC4.0.0091.0', '0.MUC4.0.0.0014', '..MUC4...0', '0.MUC4.0.4.893e-05', '0.MUC4.0.0023.0', '0.MUC4.0.0.0006', '0.MUC4.0.0', '0.MUC4.0.0003.0', '0.MUC4.0.2.775e-05', '0.MUC4.0.4.329e-05', '0.MUC4.0.5.496e-05', '..MUC4.0.0096.0', '0.MUC4.0..', '..MUC4.0.0.0032', '..MUC4.0.0.0275', '0.MUC4.0.0.0559', '0.MUC4.0.0.0098', '0.MUC4.0.0.0074', '0.MUC4.0.0.0336', '0.0082.MUC4.0.0049.0', '0.0079.MUC4.0.0047.0', '0.MUC4.5.394e-05.0', '..REST...0', '0.DSPP.0.4.591e-05', '0.DSPP.5.257e-05.0', '0.0034.DSPP.0.0002.0', '..POU4F2...0', '0.MSH3.0.2.382e-05', '..KCNN2...0', '0.NACAD.0.0.0002', '..MUC12...0', '..MUC12.0.0.0018', '..MUC17...0', '..TCAF2.0.0.0215', '0.ZFHX4.0.0.0014', '0.SPATA31A1.0.0.0018', '0.NR5A1.0..', '..PPP1R26...0', '0.MUC6.1.476e-05.0', '0.0002.MUC6.0.0003.0', '0.MUC2.0.0009.0', '0.MUC2.0.0004.0', '0.MUC2.0.0.0002', '0.0079.MUC2.0.0012.0', '0.MUC5AC.0..', '0.MUC5B.1.181e-05.0', '0.MUC5B.0..', '0.OR8U1;OR8U8.1.769e-05.0', '..MUC19.0.0.9942', '..MUC19.0.0', '..MUC19.0..', '0.KRT4.0.0005.0', '..FBXW8.0.0', '..GOLGA3...0', '0.GOLGA6L2.0.0.0350', '0.GOLGA6L2.0.0.0007', '0.GOLGA6L2.0..', '0.0274.SF3B3.0.0108.0', '0.ZFPM1.0.0', '..ZNHIT3.0.0', '..USP32...0', '..ZNF880...0', '0.ZNF880.1.073e-05.0', '0.ZNF837.0.0.0006', '0.SIRPB1.1.579e-05.0', '0.SIRPB1.1.577e-05.0', '0.MROH8.0.0125.0', '..KRTAP10-1...0', '0.POTEH.0.0.0016', '..RIMBP3B;RIMBP3C.0.0.5091']\n"
     ]
    }
   ],
   "source": [
    "rows, functions,exfunc, rs,gene, exacall, gnomall, pathogenics = load_annovar('Ot3116.hg19_multianno.txt')\n",
    "count = 0\n",
    "outfile = 'f171m3.raremaf.filtered.txt'\n",
    "f171m3_raremaf_genes = []\n",
    "f171m3_raremaf_variants = []\n",
    "for i in range(0,len(exacall) ): \n",
    "    if  ( (gnomall[i].isdigit()) and   (exacall[i].isdigit()) ) :\n",
    "        if   (float(gnomall[i]) < cutoff) and (float(exacall[i]) < cutoff) and functions[i] =='exonic': \n",
    "            count += 1 \n",
    "            writelist(rows[i], outfile)\n",
    "            print(rs[i], gene[i], exacall[i],gnomall[i])\n",
    "            if gene[i] not in f171m3_raremaf_genes: \n",
    "                    f171m3_raremaf_genes.append(gene[i])            \n",
    "            var = rs[i] + '.' + gene[i] +'.' +exacall[i] +'.'+ gnomall[i]\n",
    "            if var not in f171m3_raremaf_variants: \n",
    "                f171m3_raremaf_variants.append(var)\n",
    "\n",
    "            \n",
    "    elif (exacall[i].isdigit()) and (float(exacall[i]) < cutoff) and functions[i] =='exonic':\n",
    "            count += 1 \n",
    "            writelist(rows[i], outfile)\n",
    "            print(rs[i], gene[i], exacall[i],gnomall[i])\n",
    "            if gene[i] not in f171m3_raremaf_genes: \n",
    "                    f171m3_raremaf_genes.append(gene[i])\n",
    "            var = rs[i] + '.' + gene[i] +'.' +exacall[i] +'.'+ gnomall[i]\n",
    "            if var not in f171m3_raremaf_variants: \n",
    "                f171m3_raremaf_variants.append(var)\n",
    "\n",
    "    elif (gnomall[i].isdigit()) and (float (gnomall[i]) < cutoff) and functions[i] =='exonic':\n",
    "            count += 1 \n",
    "            writelist(rows[i], outfile)\n",
    "            print(rs[i], gene[i], exacall[i],gnomall[i])\n",
    "            if gene[i] not in  f171m3_raremaf_genes: \n",
    "                     f171m3_raremaf_genes.append(gene[i])\n",
    "            var = rs[i] + '.' + gene[i] +'.' +exacall[i] +'.'+ gnomall[i]\n",
    "            if var not in f171m3_raremaf_variants: \n",
    "                f171m3_raremaf_variants.append(var)\n",
    "\n",
    "print ('Number of variants with gnomall and exac <', cutoff, 'is:',count)\n",
    "print (f171m3_raremaf_variants)"
   ]
  },
  {
   "cell_type": "markdown",
   "metadata": {
    "deletable": true,
    "editable": true
   },
   "source": [
    "#### M4 is less than Cutoff"
   ]
  },
  {
   "cell_type": "code",
   "execution_count": 121,
   "metadata": {
    "collapsed": false,
    "deletable": true,
    "editable": true
   },
   "outputs": [
    {
     "name": "stdout",
     "output_type": "stream",
     "text": [
      "('0', 'RPGR', '0', '0.0003')\n",
      "('.', 'ARMCX4', '.', '0')\n",
      "('0', 'NXF2;NXF2B', '0', '0.3')\n",
      "('0', 'MAGEC1', '1.419e-05', '0')\n",
      "('0', 'MAGEC1', '1.423e-05', '0')\n",
      "('0', 'UBXN11', '0', '0.0002')\n",
      "('0.0009', 'SERINC2', '0.0003', '0')\n",
      "('0', 'HRNR', '0', '0.1065')\n",
      "('.', 'HRNR', '0', '0.0004')\n",
      "('.', 'HRNR', '0', '0.0007')\n",
      "('.', 'HRNR', '.', '0')\n",
      "('.', 'HRNR', '.', '0')\n",
      "('.', 'PRG4', '.', '0')\n",
      "('.', 'PRG4', '.', '0')\n",
      "('0', 'IGFN1', '0', '0.0037')\n",
      "('.', 'ANKRD36C', '.', '0')\n",
      "('.', 'POTEF', '0', '0.0017')\n",
      "('.', 'TMIE', '.', '0')\n",
      "('0', 'ZNF717', '0', '0.0524')\n",
      "('0', 'MUC4', '0', '0.0014')\n",
      "('.', 'MUC4', '.', '0')\n",
      "('0', 'MUC4', '0', '4.893e-05')\n",
      "('0', 'MUC4', '0', '.')\n",
      "('0', 'MUC4', '0', '0.0001')\n",
      "('0', 'MUC4', '0.0001', '0')\n",
      "('0', 'MUC4', '0.0023', '0')\n",
      "('0', 'MUC4', '0', '0.0008')\n",
      "('.', 'MUC4', '.', '0')\n",
      "('0', 'MUC4', '0', '0.0011')\n",
      "('0', 'MUC4', '0.0006', '0')\n",
      "('0', 'MUC4', '0', '2.775e-05')\n",
      "('0', 'MUC4', '0', '4.329e-05')\n",
      "('.', 'MUC4', '0.0096', '0')\n",
      "('.', 'MUC4', '0', '0.0032')\n",
      "('.', 'MUC4', '0', '0.0275')\n",
      "('0', 'MUC4', '0', '.')\n",
      "('0', 'MUC4', '0', '0.0559')\n",
      "('0', 'MUC4', '0', '0.0098')\n",
      "('0', 'MUC4', '0', '0.0074')\n",
      "('0', 'MUC4', '0.0005', '0')\n",
      "('0', 'MUC4', '0.0005', '0')\n",
      "('.', 'MUC4', '0', '5.93e-05')\n",
      "('.', 'MUC4', '0', '5.026e-05')\n",
      "('.', 'MUC4', '0', '2.334e-05')\n",
      "('.', 'MUC4', '.', '0')\n",
      "('.', 'MUC4', '.', '0')\n",
      "('0', 'HTT', '0', '0.0021')\n",
      "('0', 'DSPP', '0', '4.591e-05')\n",
      "('0.0034', 'DSPP', '0.0002', '0')\n",
      "('0', 'MSH3', '0', '2.382e-05')\n",
      "('.', 'KCNN2', '.', '0')\n",
      "('0', 'OSTM1', '0', '3.543e-05')\n",
      "('.', 'MUC12', '0', '0.5096')\n",
      "('.', 'MUC12', '.', '0')\n",
      "('.', 'MUC12', '.', '0')\n",
      "('.', 'MUC12', '.', '0')\n",
      "('.', 'MUC17', '.', '0')\n",
      "('.', 'MUC17', '.', '0')\n",
      "('0', 'MUC17', '0.0002', '0')\n",
      "('0', 'RBM33', '0', '8.366e-06')\n",
      "('.', 'DEFB4B', '.', '0')\n",
      "('0', 'RP1L1', '8.376e-06', '0')\n",
      "('0', 'RP1L1', '8.408e-06', '0')\n",
      "('0', 'RP1L1', '8.497e-06', '0')\n",
      "('.', 'CNTNAP3', '0', '0.0625')\n",
      "('0', 'CNTNAP3B', '0', '0.0036')\n",
      "('0', 'NR5A1', '0', '.')\n",
      "('.', 'TPRN', '0', '0.2822')\n",
      "('0', 'MUC6', '1.476e-05', '0')\n",
      "('0.0002', 'MUC6', '0.0003', '0')\n",
      "('0.0002', 'MUC6', '0.0003', '0')\n",
      "('0.0051', 'MUC6', '0.0041', '0')\n",
      "('0.0011', 'MUC6', '0.0004', '0')\n",
      "('0', 'MUC2', '0.0009', '0')\n",
      "('0', 'MUC2', '0.0055', '0')\n",
      "('0', 'MUC2', '0', '0.0002')\n",
      "('0.0079', 'MUC2', '0.0012', '0')\n",
      "('.', 'MUC5AC', '.', '0')\n",
      "('0', 'MUC5AC', '0', '.')\n",
      "('0.0044', 'MUC5AC', '0.0479', '0')\n",
      "('0', 'MUC5B', '1.181e-05', '0')\n",
      "('0', 'MUC5B', '0', '.')\n",
      "('0', 'MUC5B', '0', '.')\n",
      "('0', 'MUC5B', '0', '.')\n",
      "('0', 'OR8U1;OR8U8', '1.769e-05', '0')\n",
      "('.', 'MED19', '.', '0')\n",
      "('.', 'MED19', '.', '0')\n",
      "('.', 'KRTAP5-8', '.', '0')\n",
      "('.', 'MUC19', '0', '0')\n",
      "('.', 'MUC19', '0', '0')\n",
      "('.', 'MUC19', '0', '0')\n",
      "('.', 'MUC19', '0', '.')\n",
      "('.', 'MUC19', '.', '0')\n",
      "('.', 'MUC19', '0', '0')\n",
      "('.', 'MUC19', '.', '0')\n",
      "('0', 'KRT4', '0.0005', '0')\n",
      "('.', 'FBXW8', '0', '0')\n",
      "('.', 'SRRM4', '.', '0')\n",
      "('.', 'UBC', '0', '0.0087')\n",
      "('.', 'POTEM', '0', '0.1667')\n",
      "('.', 'FOXG1', '.', '0')\n",
      "('.', 'FOXG1', '.', '0')\n",
      "('.', 'FOXG1', '.', '0')\n",
      "('.', 'POTEB;POTEB2;POTEB3', '0', '0.0231')\n",
      "('0', 'GOLGA6L2', '0', '0.0006')\n",
      "('0', 'GOLGA6L2', '0', '.')\n",
      "('0', 'GOLGA6L2', '0', '0.0350')\n",
      "('0', 'GOLGA6L2', '0', '0.0007')\n",
      "('.', 'GOLGA6L2', '.', '0')\n",
      "('0', 'GOLGA6L2', '0', '0.0011')\n",
      "('0', 'ACAN', '0', '0.0031')\n",
      "('0.0274', 'SF3B3', '0.0108', '0')\n",
      "('0', 'ZFPM1', '0', '0')\n",
      "('0', 'KRTAP4-8', '0', '.')\n",
      "('.', 'KRTAP4-8', '.', '0')\n",
      "('.', 'USP32', '.', '0')\n",
      "('0', 'PLIN4', '0', '2.492e-05')\n",
      "('0', 'PLIN4', '0', '2.474e-05')\n",
      "('0', 'ZNF676', '8.698e-06', '0')\n",
      "('0', 'ZNF676', '8.743e-06', '0')\n",
      "('.', 'ZNF676', '.', '0')\n",
      "('.', 'ZNF676', '.', '0')\n",
      "('0', 'DMKN', '0', '1.107e-05')\n",
      "('0', 'DMKN', '0', '0')\n",
      "('.', 'DMKN', '.', '0')\n",
      "('0', 'DMKN', '0', '.')\n",
      "('0', 'DMKN', '0', '.')\n",
      "('.', 'ZNF880', '.', '0')\n",
      "('.', 'ZNF880', '.', '0')\n",
      "('.', 'ZNF880', '.', '0')\n",
      "('.', 'ZNF880', '.', '0')\n",
      "('0', 'ZNF837', '0', '0.0006')\n",
      "('0', 'SIRPB1', '1.579e-05', '0')\n",
      "('0', 'SIRPB1', '1.577e-05', '0')\n",
      "('.', 'PLAC4', '.', '0')\n",
      "('.', 'PLAC4', '.', '0')\n",
      "('.', 'KRTAP10-1', '.', '0')\n",
      "('0', 'POTEH', '0', '0.0016')\n",
      "('0', 'RIMBP3', '0', '0.0148')\n",
      "('.', 'RIMBP3B;RIMBP3C', '0', '0.5091')\n",
      "('0', 'SH3BP1', '0', '0.0001')\n",
      "('0', 'SH3BP1', '0', '0.0009')\n",
      "('Number of variants with gnomall and exac <', 1e-07, 'is:', 142)\n",
      "['RPGR', 'ARMCX4', 'NXF2;NXF2B', 'MAGEC1', 'UBXN11', 'SERINC2', 'HRNR', 'PRG4', 'IGFN1', 'ANKRD36C', 'POTEF', 'TMIE', 'ZNF717', 'MUC4', 'HTT', 'DSPP', 'MSH3', 'KCNN2', 'OSTM1', 'MUC12', 'MUC17', 'RBM33', 'DEFB4B', 'RP1L1', 'CNTNAP3', 'CNTNAP3B', 'NR5A1', 'TPRN', 'MUC6', 'MUC2', 'MUC5AC', 'MUC5B', 'OR8U1;OR8U8', 'MED19', 'KRTAP5-8', 'MUC19', 'KRT4', 'FBXW8', 'SRRM4', 'UBC', 'POTEM', 'FOXG1', 'POTEB;POTEB2;POTEB3', 'GOLGA6L2', 'ACAN', 'SF3B3', 'ZFPM1', 'KRTAP4-8', 'USP32', 'PLIN4', 'ZNF676', 'DMKN', 'ZNF880', 'ZNF837', 'SIRPB1', 'PLAC4', 'KRTAP10-1', 'POTEH', 'RIMBP3', 'RIMBP3B;RIMBP3C', 'SH3BP1']\n"
     ]
    }
   ],
   "source": [
    "rows, functions,exfunc, rs,gene, exacall, gnomall, pathogenics = load_annovar('Ot3117.hg19_multianno.txt')\n",
    "count = 0\n",
    "outfile = 'f171m4.raremaf.filtered.txt'\n",
    "f171m4_raremaf_genes = []\n",
    "f171m4_raremaf_variants = []\n",
    "for i in range(0,len(exacall) ): \n",
    "    if  ( (gnomall[i].isdigit()) and   (exacall[i].isdigit()) ) :\n",
    "        if   (float(gnomall[i]) < cutoff) and (float(exacall[i]) < cutoff) and functions[i] =='exonic': \n",
    "            count += 1 \n",
    "            writelist(rows[i], outfile)\n",
    "            print(rs[i], gene[i], exacall[i],gnomall[i])\n",
    "            if gene[i] not in f171m4_raremaf_genes: \n",
    "                    f171m4_raremaf_genes.append(gene[i])\n",
    "            var = rs[i] + '.' + gene[i] +'.' +exacall[i] +'.'+ gnomall[i]\n",
    "            if var not in f171m4_raremaf_variants: \n",
    "                f171m4_raremaf_variants.append(var)\n",
    "    elif (exacall[i].isdigit()) and (float(exacall[i]) < cutoff) and functions[i] =='exonic':\n",
    "            count += 1 \n",
    "            writelist(rows[i], outfile)\n",
    "            print(rs[i], gene[i], exacall[i],gnomall[i])\n",
    "            if gene[i] not in f171m4_raremaf_genes: \n",
    "                    f171m4_raremaf_genes.append(gene[i])\n",
    "            var = rs[i] + '.' + gene[i] +'.' +exacall[i] +'.'+ gnomall[i]\n",
    "            if var not in f171m4_raremaf_variants: \n",
    "                f171m4_raremaf_variants.append(var)\n",
    "    elif (gnomall[i].isdigit()) and (float (gnomall[i]) < cutoff) and functions[i] =='exonic':\n",
    "            count += 1 \n",
    "            writelist(rows[i], outfile)\n",
    "            print(rs[i], gene[i], exacall[i],gnomall[i])\n",
    "            if gene[i] not in  f171m4_raremaf_genes: \n",
    "                     f171m4_raremaf_genes.append(gene[i])\n",
    "            var = rs[i] + '.' + gene[i] +'.' +exacall[i] +'.'+ gnomall[i]\n",
    "            if var not in f171m4_raremaf_variants: \n",
    "                f171m4_raremaf_variants.append(var)\n",
    "print ('Number of variants with gnomall and exac <', cutoff, 'is:',count)\n",
    "print (f171m4_raremaf_genes)"
   ]
  },
  {
   "cell_type": "markdown",
   "metadata": {
    "deletable": true,
    "editable": true
   },
   "source": [
    "# What is found in non carriers to ignore later "
   ]
  },
  {
   "cell_type": "code",
   "execution_count": 114,
   "metadata": {
    "collapsed": false,
    "deletable": true,
    "editable": true
   },
   "outputs": [
    {
     "name": "stdout",
     "output_type": "stream",
     "text": [
      "['GAGE13;GAGE8', 'MAGEC1', 'SERINC2', 'PRG4', 'IGFN1', 'POTEI', 'TMIE', 'ZNF717', 'MUC4', 'DSPP', 'KCNN2', 'MUC12', 'PPP1R26', 'MUC6', 'MUC2', 'MUC5B', 'OR8U1;OR8U8', 'MUC19', 'KRT4', 'GOLGA6L2', 'SF3B3', 'ZFPM1', 'ZNF837', 'SIRPB1', 'KRTAP10-1', 'RIMBP3B;RIMBP3C']\n"
     ]
    }
   ],
   "source": [
    "f171m1_m3_rmafs = intersections(f171m1_raremaf_genes,f171m3_raremaf_genes)\n",
    "print (f171m1_m3_rmafs)"
   ]
  },
  {
   "cell_type": "code",
   "execution_count": 115,
   "metadata": {
    "collapsed": false
   },
   "outputs": [
    {
     "name": "stdout",
     "output_type": "stream",
     "text": [
      "['MAGEC1', 'SERINC2', 'IGFN1', 'ANKRD36C', 'POTEI', 'TMIE', 'MUC4', 'REST', 'DSPP', 'KCNN2', 'MUC12', 'MUC17', 'SPATA31A1', 'NR5A1', 'PPP1R26', 'MUC6', 'MUC2', 'MUC5AC', 'MUC19', 'KRT4', 'GOLGA6L2', 'SF3B3', 'USP32', 'ZNF880', 'POTEH', 'RIMBP3B;RIMBP3C']\n"
     ]
    }
   ],
   "source": [
    "f171m2_m3_rmafs = intersections(f171m2_raremaf_genes,f171m3_raremaf_genes)\n",
    "print (f171m2_m3_rmafs)"
   ]
  },
  {
   "cell_type": "code",
   "execution_count": 116,
   "metadata": {
    "collapsed": false
   },
   "outputs": [
    {
     "name": "stdout",
     "output_type": "stream",
     "text": [
      "['RPGR', 'MAGEC1', 'SERINC2', 'PRG4', 'IGFN1', 'ANKRD36C', 'TMIE', 'ZNF717', 'MUC4', 'DSPP', 'MSH3', 'KCNN2', 'MUC12', 'MUC17', 'NR5A1', 'MUC6', 'MUC2', 'MUC5AC', 'MUC5B', 'OR8U1;OR8U8', 'MUC19', 'KRT4', 'FBXW8', 'GOLGA6L2', 'SF3B3', 'ZFPM1', 'USP32', 'ZNF880', 'ZNF837', 'SIRPB1', 'KRTAP10-1', 'POTEH', 'RIMBP3B;RIMBP3C']\n"
     ]
    }
   ],
   "source": [
    "f171m4_m3_rmafs = intersections(f171m4_raremaf_genes,f171m3_raremaf_genes)\n",
    "print (f171m4_m3_rmafs)"
   ]
  },
  {
   "cell_type": "code",
   "execution_count": 119,
   "metadata": {
    "collapsed": false
   },
   "outputs": [
    {
     "name": "stdout",
     "output_type": "stream",
     "text": [
      "['MAGEC1', 'UBXN11', 'SERINC2', 'HRNR', 'IGFN1', 'POTEI', 'TMIE', 'MUC4', 'DSPP', 'KCNN2', 'MUC3A', 'MUC12', 'PLEC', 'PPP1R26', 'MUC6', 'MUC2', 'MUC19', 'KRT4', 'GOLGA6L2', 'SF3B3', 'KRTAP9-1', 'PLIN4', 'RIMBP3B;RIMBP3C']\n"
     ]
    }
   ],
   "source": [
    "f171m1_m2_rmafs = intersections(f171m1_raremaf_genes,f171m2_raremaf_genes)\n",
    "print (f171m1_m2_rmafs)"
   ]
  },
  {
   "cell_type": "markdown",
   "metadata": {
    "collapsed": true,
    "deletable": true,
    "editable": true
   },
   "source": [
    "# Found in M1 M2  and not in M3 M4"
   ]
  },
  {
   "cell_type": "code",
   "execution_count": 120,
   "metadata": {
    "collapsed": false,
    "deletable": true,
    "editable": true
   },
   "outputs": [
    {
     "name": "stdout",
     "output_type": "stream",
     "text": [
      "['UBXN11', 'HRNR', 'POTEI', 'MUC3A', 'PLEC', 'PPP1R26', 'KRTAP9-1', 'PLIN4']\n"
     ]
    }
   ],
   "source": [
    "f171_maf_candidates = difference(f171m1_m2_rmafs, f171m4_m3_rmafs)\n",
    "#print(f171m1_m2)\n",
    "#print('---')\n",
    "#print(f171m3_m4)\n",
    "print (f171_maf_candidates)"
   ]
  },
  {
   "cell_type": "markdown",
   "metadata": {
    "deletable": true,
    "editable": true
   },
   "source": [
    "# F1711  No MAF "
   ]
  },
  {
   "cell_type": "code",
   "execution_count": null,
   "metadata": {
    "collapsed": false,
    "deletable": true,
    "editable": true
   },
   "outputs": [],
   "source": [
    "rows, functions,exfunc, rs,gene, exacall, gnomall, pathogenics = load_annovar('f171m1-anno-ref.hg19_multianno.txt')\n",
    "count = 0\n",
    "f171m1_nomafs_genes = []\n",
    "f171m1_nomafs_variants = []\n",
    "for i in range(0,len(exacall) ): \n",
    "    if (exacall[i] == '.') and (gnomall[i] =='.') and functions[i] =='exonic':\n",
    "            count += 1 \n",
    "            writelist(rows[i], 'f210m1.filtered.noMafs.txt')\n",
    "            #print(rs[i], gene[i], exacall[i],gnomall[i])\n",
    "            if gene[i] not in f171m1_nomafs_genes:\n",
    "                    f171m1_nomafs_genes.append(gene[i])\n",
    "            var = rs[i] + '.' + gene[i] +'.' +exacall[i] +'.'+ gnomall[i]\n",
    "            if var not in f171m1_raremaf_variants: \n",
    "                f171m1_raremaf_variants.append(var)\n",
    "\n",
    "print ('Number of variants with no MAf in both exacall and gnomAD <', cutoff, 'is:',count)\n",
    "print (f171m1_nomafs_genes)\n",
    "#===========================================M2\n",
    "rows, functions,exfunc, rs,gene, exacall, gnomall, pathogenics = load_annovar('f171m2-anno-ref.hg19_multianno.txt')\n",
    "count = 0\n",
    "f171m2_nomafs_genes = []\n",
    "f171m2_nomafs_variants = []\n",
    "for i in range(0,len(exacall) ): \n",
    "    if (exacall[i] == '.') and (gnomall[i] =='.') and functions[i] =='exonic':\n",
    "            count += 1 \n",
    "            writelist(rows[i], 'f171m2.filtered.noMafs.txt')\n",
    "            #print(rs[i], gene[i], exacall[i],gnomall[i])\n",
    "            if gene[i] not in f171m2_nomafs_genes:\n",
    "                    f171m2_nomafs_genes.append(gene[i])\n",
    "            var = rs[i] + '.' + gene[i] +'.' +exacall[i] +'.'+ gnomall[i]\n",
    "            if var not in f171m2_raremaf_variants: \n",
    "                f171m2_raremaf_variants.append(var)\n",
    "\n",
    "print ('Number of variants with no MAF in both exacall and gnomAD <', cutoff, 'is:',count)\n",
    "print (f171m2_nomafs_genes)\n",
    "#===========================================M3\n",
    "rows, functions,exfunc, rs,gene, exacall, gnomall, pathogenics = load_annovar('f171m3-anno-ref.hg19_multianno.txt')\n",
    "count = 0\n",
    "f171m3_nomafs_genes = []\n",
    "f171m3_nomafs_variants = []\n",
    "for i in range(0,len(exacall) ): \n",
    "    if (exacall[i] == '.') and (gnomall[i] =='.') and functions[i] =='exonic':\n",
    "            count += 1 \n",
    "            writelist(rows[i], 'f171m3.filtered.noMafs.txt')\n",
    "            #print(rs[i], gene[i], exacall[i],gnomall[i])\n",
    "            if gene[i] not in f171m3_nomafs_genes:\n",
    "                    f171m3_nomafs_genes.append(gene[i])\n",
    "            var = rs[i] + '.' + gene[i] +'.' +exacall[i] +'.'+ gnomall[i]\n",
    "            if var not in f171m3_raremaf_variants: \n",
    "                f171m3_raremaf_variants.append(var)\n",
    "\n",
    "print ('Number of variants with no MAf in both exacall and gnomAD <', cutoff, 'is:',count)\n",
    "print (f171m3_nomafs_genes)\n",
    "#===========================================m4\n",
    "rows, functions,exfunc, rs,gene, exacall, gnomall, pathogenics = load_annovar('f171m4-anno-ref.hg19_multianno.txt')\n",
    "count = 0\n",
    "f171m4_nomafs_genes = []\n",
    "f171m4_nomafs_variants = []\n",
    "for i in range(0,len(exacall) ): \n",
    "    if (exacall[i] == '.') and (gnomall[i] =='.') and functions[i] =='exonic':\n",
    "            count += 1 \n",
    "            writelist(rows[i], 'f171m4.filtered.noMafs.txt')\n",
    "            #print(rs[i], gene[i], exacall[i],gnomall[i])\n",
    "            if gene[i] not in f171m4_nomafs_genes:\n",
    "                    f171m4_nomafs_genes.append(gene[i])            \n",
    "            var = rs[i] + '.' + gene[i] +'.' +exacall[i] +'.'+ gnomall[i]\n",
    "            if var not in f171m4_raremaf_variants: \n",
    "                f171m4_raremaf_variants.append(var)\n",
    "\n",
    "\n",
    "print ('Number of variants with no MAf in both exacall and gnomAD <', cutoff, 'is:',count)\n",
    "print (f171m4_nomafs_genes)\n",
    "\n",
    "\n",
    "\n"
   ]
  },
  {
   "cell_type": "markdown",
   "metadata": {
    "deletable": true,
    "editable": true
   },
   "source": [
    "# Common Between M1 and M2 "
   ]
  },
  {
   "cell_type": "code",
   "execution_count": 96,
   "metadata": {
    "collapsed": false,
    "deletable": true,
    "editable": true
   },
   "outputs": [
    {
     "ename": "NameError",
     "evalue": "name 'f171m1_nomafs_genes' is not defined",
     "output_type": "error",
     "traceback": [
      "\u001b[0;31m---------------------------------------------------------------------------\u001b[0m",
      "\u001b[0;31mNameError\u001b[0m                                 Traceback (most recent call last)",
      "\u001b[0;32m<ipython-input-96-6f22005e1b17>\u001b[0m in \u001b[0;36m<module>\u001b[0;34m()\u001b[0m\n\u001b[0;32m----> 1\u001b[0;31m \u001b[0mf171m1_m2_nomafs\u001b[0m \u001b[0;34m=\u001b[0m \u001b[0mintersections\u001b[0m\u001b[0;34m(\u001b[0m\u001b[0mf171m1_nomafs_genes\u001b[0m\u001b[0;34m,\u001b[0m\u001b[0mf171m2_nomafs_genes\u001b[0m\u001b[0;34m)\u001b[0m\u001b[0;34m\u001b[0m\u001b[0m\n\u001b[0m\u001b[1;32m      2\u001b[0m \u001b[0;32mprint\u001b[0m \u001b[0;34m(\u001b[0m\u001b[0mf171m1_m2\u001b[0m\u001b[0;34m)\u001b[0m\u001b[0;34m\u001b[0m\u001b[0m\n",
      "\u001b[0;31mNameError\u001b[0m: name 'f171m1_nomafs_genes' is not defined"
     ]
    }
   ],
   "source": [
    "f171m1_m2_nomafs = intersections(f171m1_nomafs_genes,f171m2_nomafs_genes)\n",
    "print (f171m1_m2)"
   ]
  },
  {
   "cell_type": "code",
   "execution_count": null,
   "metadata": {
    "collapsed": false,
    "deletable": true,
    "editable": true
   },
   "outputs": [],
   "source": [
    "f171m1_m2_nomafs = intersections(f171m1_nomafs_variants,f171m2_nomafs_variants)\n",
    "print (f171m1_m2)"
   ]
  },
  {
   "cell_type": "markdown",
   "metadata": {
    "deletable": true,
    "editable": true
   },
   "source": [
    "# Found in non carriers to ignore later"
   ]
  },
  {
   "cell_type": "code",
   "execution_count": null,
   "metadata": {
    "collapsed": false,
    "deletable": true,
    "editable": true
   },
   "outputs": [],
   "source": [
    "f171m3_m4_nomafs = exist(f171m3_nomafs_genes, f171m4_nomafs_genes)\n",
    "print(f171m3_m4)"
   ]
  },
  {
   "cell_type": "markdown",
   "metadata": {
    "deletable": true,
    "editable": true
   },
   "source": [
    "# Found in M1 M2 and not in M3 OR m4"
   ]
  },
  {
   "cell_type": "code",
   "execution_count": null,
   "metadata": {
    "collapsed": false,
    "deletable": true,
    "editable": true
   },
   "outputs": [],
   "source": [
    "f171_nomaf_candidates = difference(f171m1_m2_nomafs, f171m3_m4_nomafs)\n",
    "print (f171_nomaf_candidates)"
   ]
  },
  {
   "cell_type": "markdown",
   "metadata": {
    "deletable": true,
    "editable": true
   },
   "source": [
    "# F171 M1 Pathegenic "
   ]
  },
  {
   "cell_type": "code",
   "execution_count": null,
   "metadata": {
    "collapsed": true,
    "deletable": true,
    "editable": true
   },
   "outputs": [],
   "source": [
    "cutoff =0.0000001"
   ]
  },
  {
   "cell_type": "code",
   "execution_count": null,
   "metadata": {
    "collapsed": false,
    "deletable": true,
    "editable": true
   },
   "outputs": [],
   "source": [
    "rows, functions,exfunc, rs,gene, exacall, gnomall, pathogenics = load_annovar('f171m1-anno-ref.hg19_multianno.txt')\n",
    "count = 0\n",
    "f171m1_pathogenic_genes = []\n",
    "for i in range(0,len(exacall) ): \n",
    "    if 'athogenic' in pathogenics[i]: \n",
    "        if (exacall[i] == '.') or (float(exacall[i]) < cutoff) or (gnomall[i] =='.') or (float(gnomall[i]) < cutoff):\n",
    "            count += 1 \n",
    "            writelist(rows[i], 'f171m1.pathogenic.filtered.txt')\n",
    "            if gene[i] not in f171m1_pathogenic_genes:\n",
    "                    f171m1_pathogenic_genes.append(gene[i])\n",
    "print ('Number of pathogenic variants  <', cutoff, 'is:',count)\n",
    "print (f171m1_pathogenic_genes)"
   ]
  },
  {
   "cell_type": "markdown",
   "metadata": {
    "deletable": true,
    "editable": true
   },
   "source": [
    "# F171 M2 Pathegenic "
   ]
  },
  {
   "cell_type": "code",
   "execution_count": null,
   "metadata": {
    "collapsed": false,
    "deletable": true,
    "editable": true
   },
   "outputs": [],
   "source": [
    "rows, functions,exfunc, rs,gene, exacall, gnomall, pathogenics = load_annovar('f171m2-anno-ref.hg19_multianno.txt')\n",
    "count = 0\n",
    "f171m2_pathogenic_genes = []\n",
    "for i in range(0,len(exacall) ): \n",
    "    if 'athogenic' in pathogenics[i]: \n",
    "        if (exacall[i] == '.') or (float(exacall[i]) < cutoff) or (gnomall[i] =='.') or (float(gnomall[i]) < cutoff):\n",
    "            count += 1 \n",
    "            writelist(rows[i], 'f171m2.pathogenic.filtered.txt')\n",
    "            if gene[i] not in f171m2_pathogenic_genes:\n",
    "                    f171m2_pathogenic_genes.append(gene[i])\n",
    "print ('Number of pathogenic variants  <', cutoff, 'is:',count)\n",
    "print (f171m2_pathogenic_genes)"
   ]
  },
  {
   "cell_type": "code",
   "execution_count": null,
   "metadata": {
    "collapsed": false,
    "deletable": true,
    "editable": true
   },
   "outputs": [],
   "source": [
    "f171m1_m2_pathogenic = intersections(f171m1_pathogenic_genes,f171m2_pathogenic_genes)\n",
    "print (f171m1_m2_pathogenic)"
   ]
  },
  {
   "cell_type": "markdown",
   "metadata": {
    "deletable": true,
    "editable": true
   },
   "source": [
    "# F171 M3 Pathogenic "
   ]
  },
  {
   "cell_type": "code",
   "execution_count": null,
   "metadata": {
    "collapsed": false,
    "deletable": true,
    "editable": true
   },
   "outputs": [],
   "source": [
    "rows, functions,exfunc, rs,gene, exacall, gnomall, pathogenics = load_annovar('f171m3-anno-ref.hg19_multianno.txt')\n",
    "count = 0\n",
    "f171m3_pathogenic_genes = []\n",
    "for i in range(0,len(exacall) ): \n",
    "    if 'athogenic' in pathogenics[i]: \n",
    "        if (exacall[i] == '.') or (float(exacall[i]) < cutoff) or (gnomall[i] =='.') or (float(gnomall[i]) < cutoff):\n",
    "            count += 1 \n",
    "            writelist(rows[i], 'f171m3.pathogenic.filtered.txt')\n",
    "            if gene[i] not in f171m3_pathogenic_genes:\n",
    "                    f171m3_pathogenic_genes.append(gene[i])\n",
    "print ('Number of pathogenic variants  <', cutoff, 'is:',count)\n",
    "print (f171m3_pathogenic_genes)"
   ]
  },
  {
   "cell_type": "markdown",
   "metadata": {
    "deletable": true,
    "editable": true
   },
   "source": [
    "# F171 m4 Pathogenic "
   ]
  },
  {
   "cell_type": "code",
   "execution_count": null,
   "metadata": {
    "collapsed": false,
    "deletable": true,
    "editable": true
   },
   "outputs": [],
   "source": [
    "rows, functions,exfunc, rs,gene, exacall, gnomall, pathogenics = load_annovar('f171m4-anno-ref.hg19_multianno.txt')\n",
    "count = 0\n",
    "f171m4_pathogenic_genes = []\n",
    "for i in range(0,len(exacall) ): \n",
    "    if 'athogenic' in pathogenics[i]: \n",
    "        if (exacall[i] == '.') or (float(exacall[i]) < cutoff) or (gnomall[i] =='.') or (float(gnomall[i]) < cutoff):\n",
    "            count += 1 \n",
    "            writelist(rows[i], 'f171m4.pathogenic.filtered.txt')\n",
    "            if gene[i] not in f171m4_pathogenic_genes:\n",
    "                    f171m4_pathogenic_genes.append(gene[i])\n",
    "print ('Number of pathogenic variants  <', cutoff, 'is:',count)\n",
    "print (f171m4_pathogenic_genes)"
   ]
  },
  {
   "cell_type": "markdown",
   "metadata": {
    "deletable": true,
    "editable": true
   },
   "source": [
    "# What is found in Either M3 Or m4"
   ]
  },
  {
   "cell_type": "code",
   "execution_count": null,
   "metadata": {
    "collapsed": false,
    "deletable": true,
    "editable": true
   },
   "outputs": [],
   "source": [
    "f171m3_m4_pathogenic = exist(f171m3_pathogenic_genes,f171m4_pathogenic_genes)\n",
    "print (f171m3_m4_pathogenic)"
   ]
  },
  {
   "cell_type": "markdown",
   "metadata": {
    "deletable": true,
    "editable": true
   },
   "source": [
    "# What is found in M1M2 and not in either in M3 or m4"
   ]
  },
  {
   "cell_type": "code",
   "execution_count": null,
   "metadata": {
    "collapsed": false,
    "deletable": true,
    "editable": true
   },
   "outputs": [],
   "source": [
    "f171_pathogenic_candidates = difference(f171m1_m2_pathogenic, f171m3_m4_pathogenic)\n",
    "print (f171_pathogenic_candidates)"
   ]
  },
  {
   "cell_type": "code",
   "execution_count": null,
   "metadata": {
    "collapsed": true,
    "deletable": true,
    "editable": true
   },
   "outputs": [],
   "source": []
  }
 ],
 "metadata": {
  "anaconda-cloud": {},
  "kernelspec": {
   "display_name": "Python 2",
   "language": "python",
   "name": "python2"
  },
  "language_info": {
   "codemirror_mode": {
    "name": "ipython",
    "version": 2
   },
   "file_extension": ".py",
   "mimetype": "text/x-python",
   "name": "python",
   "nbconvert_exporter": "python",
   "pygments_lexer": "ipython2",
   "version": "2.7.12"
  }
 },
 "nbformat": 4,
 "nbformat_minor": 1
}
