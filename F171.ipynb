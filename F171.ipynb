{
 "cells": [
  {
   "cell_type": "code",
   "execution_count": 1,
   "metadata": {
    "collapsed": false,
    "deletable": true,
    "editable": true
   },
   "outputs": [],
   "source": [
    "import csv\n",
    "import sys\n",
    "import re\n",
    "import matplotlib.pyplot as plt\n",
    "import numpy as np"
   ]
  },
  {
   "cell_type": "markdown",
   "metadata": {
    "deletable": true,
    "editable": true
   },
   "source": [
    "# Cutoff for rare variants "
   ]
  },
  {
   "cell_type": "code",
   "execution_count": 2,
   "metadata": {
    "collapsed": false,
    "deletable": true,
    "editable": true
   },
   "outputs": [],
   "source": [
    "cutoff  = 0.0000001"
   ]
  },
  {
   "cell_type": "code",
   "execution_count": 3,
   "metadata": {
    "collapsed": false,
    "deletable": true,
    "editable": true
   },
   "outputs": [],
   "source": [
    "def writelist (mylist, myfile): \n",
    "    fp =  open(myfile,'a+')\n",
    "    for idx,item in enumerate(mylist):\n",
    "            fp.write(item)\n",
    "            fp.write('\\t')\n",
    "    fp.write('\\n')\n",
    "    fp.close()"
   ]
  },
  {
   "cell_type": "code",
   "execution_count": 21,
   "metadata": {
    "collapsed": true,
    "deletable": true,
    "editable": true
   },
   "outputs": [],
   "source": [
    "def intersections2(list1, list2):\n",
    "    intersection_list = []\n",
    "    for i in list1: \n",
    "        if i in list2: \n",
    "                intersection_list.append(i)\n",
    "    return intersection_list"
   ]
  },
  {
   "cell_type": "code",
   "execution_count": 22,
   "metadata": {
    "collapsed": true,
    "deletable": true,
    "editable": true
   },
   "outputs": [],
   "source": [
    "def intersections3(list1, list2, list3):\n",
    "    intersection_list = []\n",
    "    for i in list1: \n",
    "        if i in list2: \n",
    "            if i in list3:\n",
    "                intersection_list.append(i)\n",
    "    return intersection_list"
   ]
  },
  {
   "cell_type": "code",
   "execution_count": 5,
   "metadata": {
    "collapsed": true,
    "deletable": true,
    "editable": true
   },
   "outputs": [],
   "source": [
    "def difference(list1, list2):\n",
    "    unique_list = []\n",
    "    for i in list1: \n",
    "        if i not in list2: \n",
    "                unique_list.append(i)\n",
    "    return unique_list"
   ]
  },
  {
   "cell_type": "code",
   "execution_count": 6,
   "metadata": {
    "collapsed": true,
    "deletable": true,
    "editable": true
   },
   "outputs": [],
   "source": [
    "def exist (list1, list2): \n",
    "    found_list = []\n",
    "    for i in list1: \n",
    "            if i not in found_list: \n",
    "                    found_list.append(i)\n",
    "    for i in list2: \n",
    "            if i not in found_list: \n",
    "                    found_list.append(i)\n",
    "    return found_list "
   ]
  },
  {
   "cell_type": "markdown",
   "metadata": {
    "deletable": true,
    "editable": true
   },
   "source": [
    "# Read annovar annotation file"
   ]
  },
  {
   "cell_type": "code",
   "execution_count": 7,
   "metadata": {
    "collapsed": true,
    "deletable": true,
    "editable": true
   },
   "outputs": [],
   "source": [
    " def load_annovar(filename):\n",
    "    rows = []\n",
    "    exacall = []\n",
    "    gnomall = []\n",
    "    rs = []\n",
    "    gene = []\n",
    "    pathogenics = []\n",
    "    functions = []\n",
    "    exonicfunctions =[]\n",
    "    fp = open(filename, 'r')\n",
    "    r = csv.reader(fp, delimiter='\\t')\n",
    "    for n, row in enumerate(r):\n",
    "        #rs ,pos,_,ensg,_, enst,_,_,_,_,_,_,_,impact =row[:14]\n",
    "        if n == 0: \n",
    "                #print (row[8])\n",
    "                #print(row[16])\n",
    "                #print(row[124])\n",
    "                #print(row[24])\n",
    "                #print(row[6])\n",
    "                #print (row[5])\n",
    "                #print(row[59])\n",
    "            \n",
    "                continue\n",
    "        exonicfunctions.append(row[8])\n",
    "        exacall.append(row[16])\n",
    "        gnomall.append(row[124])\n",
    "        rs.append(row[24])\n",
    "        rows.append(row)\n",
    "        gene.append(row[6])\n",
    "        functions.append(row[5])\n",
    "        pathogenics.append(row[59])\n",
    "    #for i in exonicfunctions: \n",
    "            #print (i)\n",
    "    return rows, functions, exonicfunctions, rs, gene,  exacall , gnomall, pathogenics"
   ]
  },
  {
   "cell_type": "markdown",
   "metadata": {
    "collapsed": true,
    "deletable": true,
    "editable": true
   },
   "source": [
    "# Working with F171 "
   ]
  },
  {
   "cell_type": "markdown",
   "metadata": {
    "deletable": true,
    "editable": true
   },
   "source": [
    "# M1 is less than Cutoff in either gnomAD or ExAC"
   ]
  },
  {
   "cell_type": "code",
   "execution_count": 8,
   "metadata": {
    "collapsed": false,
    "deletable": true,
    "editable": true
   },
   "outputs": [
    {
     "name": "stdout",
     "output_type": "stream",
     "text": [
      "('rs781824885', 'GAGE13;GAGE8', '0', '0.0004')\n",
      "('rs150327147', 'MAGEC1', '1.419e-05', '0')\n",
      "('rs200821167', 'MAGEC1', '1.423e-05', '0')\n",
      "('rs1134582', 'UBXN11', '0', '0.0002')\n",
      "('rs782648960', 'SERINC2', '0.0003', '0')\n",
      "('rs113263380', 'HRNR', '0', '0.0007')\n",
      "('.', 'HRNR', '.', '0')\n",
      "('rs200844006', 'HRNR', '0', '0.0089')\n",
      "('.', 'PRG4', '.', '0')\n",
      "('rs777956946', 'IGFN1', '0', '0.0037')\n",
      "('rs200082366', 'CR1', '0', '0.0015')\n",
      "('rs760724545', 'RGPD5;RGPD8', '0', '4.008e-05')\n",
      "('rs4850284', 'POTEI', '0', '0.1550')\n",
      "('rs779661547', 'FYCO1', '9.635e-05', '0')\n",
      "('.', 'TMIE', '.', '0')\n",
      "('rs763528206', 'ZNF717', '0', '0.0010')\n",
      "('rs774008077', 'ZNF717', '0', '0.0009')\n",
      "('rs759996911', 'MUC4', '0.0091', '0')\n",
      "('rs200786826', 'MUC4', '0', '0.0014')\n",
      "('rs111605191', 'MUC4', '0', '.')\n",
      "('.', 'MUC4', '0', '0.0001')\n",
      "('rs199983999', 'MUC4', '0', '0.0001')\n",
      "('rs199588013', 'MUC4', '0.0001', '0')\n",
      "('.', 'MUC4', '0.0016', '0')\n",
      "('rs750446788', 'MUC4', '0.0001', '0')\n",
      "('rs868598274', 'MUC4', '0.0001', '0')\n",
      "('rs200473221', 'MUC4', '0.0023', '0')\n",
      "('rs768805153', 'MUC4', '0', '0.0008')\n",
      "('.', 'MUC4', '.', '0')\n",
      "('rs201087529', 'MUC4', '0.0030', '0')\n",
      "('rs774610737', 'MUC4', '0', '0.0011')\n",
      "('.', 'MUC4', '0.0006', '0')\n",
      "('.', 'MUC4', '0', '2.775e-05')\n",
      "('.', 'MUC4', '0.0096', '0')\n",
      "('.', 'MUC4', '0', '0.0032')\n",
      "('rs776617846', 'MUC4', '0', '0.0098')\n",
      "('rs758091975', 'MUC4', '0', '0.0074')\n",
      "('.', 'MUC4', '.', '0')\n",
      "('rs200578865', 'MUC4', '0', '0.0011')\n",
      "('rs754448064', 'MUC4', '0', '2.048e-05')\n",
      "('rs201129800', 'MUC4', '0', '5.93e-05')\n",
      "('rs748071998', 'MUC4', '0', '5.026e-05')\n",
      "('rs370164286', 'MUC4', '0', '2.334e-05')\n",
      "('rs554245525', 'MUC4', '.', '0')\n",
      "('.', 'MUC4', '.', '0')\n",
      "('rs544059785', 'MUC4', '0.0049', '0')\n",
      "('rs562482736', 'MUC4', '0.0047', '0')\n",
      "('rs782811187', 'ZNF595', '0.0004', '0')\n",
      "('rs782520627', 'ZNF595', '0.0004', '0')\n",
      "('rs782644254', 'ZNF595', '0.0002', '0')\n",
      "('rs781840656', 'ZNF595', '0.0002', '0')\n",
      "('rs199901845', 'DSPP', '.', '0')\n",
      "('rs763791363', 'DSPP', '0', '4.591e-05')\n",
      "('rs762114782', 'DSPP', '5.257e-05', '0')\n",
      "('rs200745922', 'DSPP', '0.0002', '0')\n",
      "('.', 'KCNN2', '.', '0')\n",
      "('rs79533783', 'HGC6.3', '0.0018', '0')\n",
      "('rs10945439', 'WDR27', '0', '0')\n",
      "('rs367788571', 'MUC3A', '0', '.')\n",
      "('rs371272715', 'MUC3A', '0', '0')\n",
      "('rs75289399', 'MUC3A', '0.0002', '0')\n",
      "('rs753707617', 'MUC12', '0', '2.611e-05')\n",
      "('rs757216893', 'MUC12', '0', '2.598e-05')\n",
      "('.', 'MUC12', '.', '0')\n",
      "('rs200449251', 'MUC12', '.', '0')\n",
      "('.', 'MUC12', '.', '0')\n",
      "('rs199890101', 'TRIM56', '0', '8.965e-05')\n",
      "('rs745693841', 'DEFB105A;DEFB105B', '0', '0.2751')\n",
      "('rs191620115', 'BHLHE22', '0', '0.0007')\n",
      "('.', 'PLEC', '.', '0')\n",
      "('rs781549884', 'FOXD4L5', '0', '5.401e-05')\n",
      "('.', 'PPP1R26', '.', '0')\n",
      "('rs114690446', 'PITRM1', '.', '0')\n",
      "('rs75538227', 'MUC6', '1.476e-05', '0')\n",
      "('rs75482640', 'MUC6', '0.0003', '0')\n",
      "('rs80049949', 'MUC6', '0.0003', '0')\n",
      "('rs79277162', 'MUC6', '0.0041', '0')\n",
      "('rs111641154', 'MUC6', '0.0004', '0')\n",
      "('rs200605255', 'MUC2', '0.0009', '0')\n",
      "('rs762138824', 'MUC2', '5.906e-05', '0')\n",
      "('rs768133062', 'MUC2', '0.0004', '0')\n",
      "('rs561572250', 'MUC5B', '1.181e-05', '0')\n",
      "('rs531905548', 'MUC5B', '0', '.')\n",
      "('rs753519159', 'MUC5B', '0', '.')\n",
      "('rs754664797', 'MUC5B', '0', '.')\n",
      "('rs76325618', 'OR8U1;OR8U8', '1.769e-05', '0')\n",
      "('rs117340774', 'MUC19', '0', '0')\n",
      "('rs79164931', 'KRT4', '0.0005', '0')\n",
      "('rs138327719', 'POTEM', '0', '0.1667')\n",
      "('rs7142060', 'CCDC177', '0', '.')\n",
      "('rs776627074', 'GOLGA6L2', '0', '.')\n",
      "('rs759411010', 'GOLGA6L2', '0', '.')\n",
      "('rs80270376', 'GOLGA6L2', '0', '0.0350')\n",
      "('rs756626686', 'GOLGA6L2', '.', '0')\n",
      "('rs74203443', 'GOLGA6L2', '0', '0.1565')\n",
      "('rs147880388', 'GOLGA6L2', '0', '0.0007')\n",
      "('rs753413517', 'GOLGA6L2', '0', '.')\n",
      "('.', 'GOLGA6L10', '0', '.')\n",
      "('rs372670030', 'SF3B3', '0.0108', '0')\n",
      "('rs201915453', 'ZFPM1', '0', '0.0201')\n",
      "('rs769343730', 'ZFPM1', '0', '0')\n",
      "('rs553749201', 'GP1BA', '.', '0')\n",
      "('rs200462175', 'KRTAP4-8', '.', '0')\n",
      "('rs79925191', 'KRTAP9-1', '.', '0')\n",
      "('rs78270789', 'KRTAP9-1', '.', '0')\n",
      "('rs76389571', 'KRTAP9-1', '.', '0')\n",
      "('rs75201435', 'KRTAP9-1', '.', '0')\n",
      "('rs76791851', 'KRTAP9-1', '.', '0')\n",
      "('rs531498368', 'PLIN4', '0', '2.492e-05')\n",
      "('rs201994264', 'ZNF208', '0.0638', '0')\n",
      "('rs568725405', 'ZNF837', '0', '0.0006')\n",
      "('rs532836389', 'SIRPB1', '0', '1.053e-05')\n",
      "('.', 'OLIG1', '.', '0')\n",
      "('.', 'PLAC4', '.', '0')\n",
      "('rs62218858', 'KRTAP10-1', '.', '0')\n",
      "('rs469096', 'RIMBP3B;RIMBP3C', '0', '0.5091')\n",
      "('.', 'CELSR1', '.', '0')\n",
      "('Number of variants with gnomall and/or exac <', 1e-07, 'is:', 117)\n",
      "['rs781824885.GAGE13;GAGE8.0.0.0004', 'rs150327147.MAGEC1.1.419e-05.0', 'rs200821167.MAGEC1.1.423e-05.0', 'rs1134582.UBXN11.0.0.0002', 'rs782648960.SERINC2.0.0003.0', 'rs113263380.HRNR.0.0.0007', '..HRNR...0', 'rs200844006.HRNR.0.0.0089', '..PRG4...0', 'rs777956946.IGFN1.0.0.0037', 'rs200082366.CR1.0.0.0015', 'rs760724545.RGPD5;RGPD8.0.4.008e-05', 'rs4850284.POTEI.0.0.1550', 'rs779661547.FYCO1.9.635e-05.0', '..TMIE...0', 'rs763528206.ZNF717.0.0.0010', 'rs774008077.ZNF717.0.0.0009', 'rs759996911.MUC4.0.0091.0', 'rs200786826.MUC4.0.0.0014', 'rs111605191.MUC4.0..', '..MUC4.0.0.0001', 'rs199983999.MUC4.0.0.0001', 'rs199588013.MUC4.0.0001.0', '..MUC4.0.0016.0', 'rs750446788.MUC4.0.0001.0', 'rs868598274.MUC4.0.0001.0', 'rs200473221.MUC4.0.0023.0', 'rs768805153.MUC4.0.0.0008', '..MUC4...0', 'rs201087529.MUC4.0.0030.0', 'rs774610737.MUC4.0.0.0011', '..MUC4.0.0006.0', '..MUC4.0.2.775e-05', '..MUC4.0.0096.0', '..MUC4.0.0.0032', 'rs776617846.MUC4.0.0.0098', 'rs758091975.MUC4.0.0.0074', 'rs200578865.MUC4.0.0.0011', 'rs754448064.MUC4.0.2.048e-05', 'rs201129800.MUC4.0.5.93e-05', 'rs748071998.MUC4.0.5.026e-05', 'rs370164286.MUC4.0.2.334e-05', 'rs554245525.MUC4...0', 'rs544059785.MUC4.0.0049.0', 'rs562482736.MUC4.0.0047.0', 'rs782811187.ZNF595.0.0004.0', 'rs782520627.ZNF595.0.0004.0', 'rs782644254.ZNF595.0.0002.0', 'rs781840656.ZNF595.0.0002.0', 'rs199901845.DSPP...0', 'rs763791363.DSPP.0.4.591e-05', 'rs762114782.DSPP.5.257e-05.0', 'rs200745922.DSPP.0.0002.0', '..KCNN2...0', 'rs79533783.HGC6.3.0.0018.0', 'rs10945439.WDR27.0.0', 'rs367788571.MUC3A.0..', 'rs371272715.MUC3A.0.0', 'rs75289399.MUC3A.0.0002.0', 'rs753707617.MUC12.0.2.611e-05', 'rs757216893.MUC12.0.2.598e-05', '..MUC12...0', 'rs200449251.MUC12...0', 'rs199890101.TRIM56.0.8.965e-05', 'rs745693841.DEFB105A;DEFB105B.0.0.2751', 'rs191620115.BHLHE22.0.0.0007', '..PLEC...0', 'rs781549884.FOXD4L5.0.5.401e-05', '..PPP1R26...0', 'rs114690446.PITRM1...0', 'rs75538227.MUC6.1.476e-05.0', 'rs75482640.MUC6.0.0003.0', 'rs80049949.MUC6.0.0003.0', 'rs79277162.MUC6.0.0041.0', 'rs111641154.MUC6.0.0004.0', 'rs200605255.MUC2.0.0009.0', 'rs762138824.MUC2.5.906e-05.0', 'rs768133062.MUC2.0.0004.0', 'rs561572250.MUC5B.1.181e-05.0', 'rs531905548.MUC5B.0..', 'rs753519159.MUC5B.0..', 'rs754664797.MUC5B.0..', 'rs76325618.OR8U1;OR8U8.1.769e-05.0', 'rs117340774.MUC19.0.0', 'rs79164931.KRT4.0.0005.0', 'rs138327719.POTEM.0.0.1667', 'rs7142060.CCDC177.0..', 'rs776627074.GOLGA6L2.0..', 'rs759411010.GOLGA6L2.0..', 'rs80270376.GOLGA6L2.0.0.0350', 'rs756626686.GOLGA6L2...0', 'rs74203443.GOLGA6L2.0.0.1565', 'rs147880388.GOLGA6L2.0.0.0007', 'rs753413517.GOLGA6L2.0..', '..GOLGA6L10.0..', 'rs372670030.SF3B3.0.0108.0', 'rs201915453.ZFPM1.0.0.0201', 'rs769343730.ZFPM1.0.0', 'rs553749201.GP1BA...0', 'rs200462175.KRTAP4-8...0', 'rs79925191.KRTAP9-1...0', 'rs78270789.KRTAP9-1...0', 'rs76389571.KRTAP9-1...0', 'rs75201435.KRTAP9-1...0', 'rs76791851.KRTAP9-1...0', 'rs531498368.PLIN4.0.2.492e-05', 'rs201994264.ZNF208.0.0638.0', 'rs568725405.ZNF837.0.0.0006', 'rs532836389.SIRPB1.0.1.053e-05', '..OLIG1...0', '..PLAC4...0', 'rs62218858.KRTAP10-1...0', 'rs469096.RIMBP3B;RIMBP3C.0.0.5091', '..CELSR1...0']\n",
      "Done\n"
     ]
    }
   ],
   "source": [
    "rows, functions,exfunc, rs,gene, exacall, gnomall, pathogenics = load_annovar('Ot3114.hg19_multianno.txt')\n",
    "count = 0\n",
    "outfile = 'f171m1.raremaf.filtered.txt'\n",
    "f171m1_raremaf_genes = []\n",
    "f171m1_raremaf_variants = [] \n",
    "for i in range(0,len(exacall) ): \n",
    "    if  ( (gnomall[i].isdigit()) and   (exacall[i].isdigit()) ) :\n",
    "        if (  (float(gnomall[i]) < cutoff) and (float(exacall[i]) < cutoff)   and (functions[i] =='exonic') ): \n",
    "            count += 1 \n",
    "            writelist(rows[i], outfile)\n",
    "            print(rs[i], gene[i], exacall[i],gnomall[i])\n",
    "            if gene[i] not in f171m1_raremaf_genes: \n",
    "                    f171m1_raremaf_genes.append(gene[i])\n",
    "            var = rs[i] + '.' + gene[i] +'.' +exacall[i] +'.'+ gnomall[i]\n",
    "            if var not in f171m1_raremaf_variants: \n",
    "                f171m1_raremaf_variants.append(var)\n",
    "    elif (not (gnomall[i].isdigit())) and  ( (exacall[i].isdigit())  and (float(exacall[i]) < cutoff)and (functions[i] =='exonic')   ):\n",
    "            count += 1 \n",
    "            writelist(rows[i], outfile)\n",
    "            print(rs[i], gene[i], exacall[i],gnomall[i])\n",
    "            if gene[i] not in f171m1_raremaf_genes: \n",
    "                    f171m1_raremaf_genes.append(gene[i])\n",
    "            var = rs[i] + '.' + gene[i] +'.' +exacall[i] +'.'+ gnomall[i]\n",
    "            if var not in f171m1_raremaf_variants: \n",
    "                f171m1_raremaf_variants.append(var)\n",
    "           \n",
    "    elif (not(exacall[i].isdigit())) and ( (gnomall[i].isdigit())  and (float (gnomall[i]) < cutoff)  and (functions[i] =='exonic')  ):\n",
    "            count += 1 \n",
    "            writelist(rows[i], outfile)\n",
    "            print(rs[i], gene[i], exacall[i],gnomall[i])\n",
    "            if gene[i] not in  f171m1_raremaf_genes: \n",
    "                     f171m1_raremaf_genes.append(gene[i])\n",
    "            var = rs[i] + '.' + gene[i] +'.' +exacall[i] +'.'+ gnomall[i]\n",
    "            if var not in f171m1_raremaf_variants: \n",
    "                f171m1_raremaf_variants.append(var)\n",
    "\n",
    "print ('Number of variants with gnomall and/or exac <', cutoff, 'is:',count)\n",
    "print (f171m1_raremaf_variants)\n",
    "print('Done')"
   ]
  },
  {
   "cell_type": "markdown",
   "metadata": {
    "deletable": true,
    "editable": true
   },
   "source": [
    "# M2 is less than Cutoff"
   ]
  },
  {
   "cell_type": "code",
   "execution_count": 9,
   "metadata": {
    "collapsed": false,
    "deletable": true,
    "editable": true
   },
   "outputs": [
    {
     "name": "stdout",
     "output_type": "stream",
     "text": [
      "('rs5973089', 'FAM47A', '.', '0')\n",
      "('rs199541368', 'NXF2;NXF2B', '0', '0.3')\n",
      "('rs781810749', 'ESX1', '0.0002', '0')\n",
      "('rs150327147', 'MAGEC1', '1.419e-05', '0')\n",
      "('rs200821167', 'MAGEC1', '1.423e-05', '0')\n",
      "('rs775387822', 'MIB2', '0', '0.0001')\n",
      "('rs1134582', 'UBXN11', '0', '0.0002')\n",
      "('rs782648960', 'SERINC2', '0.0003', '0')\n",
      "('rs77691247', 'NBPF19', '0', '0.5998')\n",
      "('rs782154100', 'PPIAL4A;PPIAL4C', '0', '0.4359')\n",
      "('rs782712781', 'PPIAL4A;PPIAL4C', '0', '0.4375')\n",
      "('rs758702690', 'TCHH', '0', '.')\n",
      "('rs766485249', 'TCHH', '0', '.')\n",
      "('rs202137328', 'HRNR', '0', '0.0090')\n",
      "('.', 'LOR', '.', '0')\n",
      "('rs199718718', 'IGFN1', '0', '0.0004')\n",
      "('rs777956946', 'IGFN1', '0', '0.0037')\n",
      "('rs762931562', 'IGFN1', '0.0333', '0')\n",
      "('rs777646554', 'IGFN1', '0.0026', '0')\n",
      "('rs768533319', 'IGFN1', '0.0023', '0')\n",
      "('.', 'ANTXR1', '.', '0')\n",
      "('.', 'ANTXR1', '.', '0')\n",
      "('rs78179792', 'ANKRD36C', '.', '0')\n",
      "('rs749230055', 'TMEM87B', '0', '4.818e-05')\n",
      "('rs147268452', 'POTEI', '0', '0.3663')\n",
      "('rs201911310', 'POTEE', '0', '0.7556')\n",
      "('rs774726264', 'NEB', '0', '0.3333')\n",
      "('.', 'TMIE', '.', '0')\n",
      "('rs201564403', 'MUC4', '0.0002', '0')\n",
      "('.', 'MUC4', '.', '0')\n",
      "('.', 'MUC4', '.', '0')\n",
      "('rs202189235', 'MUC4', '.', '0')\n",
      "('rs199588013', 'MUC4', '0.0001', '0')\n",
      "('rs200340883', 'MUC4', '0', '0.0006')\n",
      "('rs201087529', 'MUC4', '0.0030', '0')\n",
      "('.', 'MUC4', '0.0006', '0')\n",
      "('.', 'MUC4', '0.0096', '0')\n",
      "('.', 'MUC4', '0', '.')\n",
      "('.', 'MUC4', '0', '0.0032')\n",
      "('.', 'MUC4', '0', '.')\n",
      "('rs748294675', 'MUC4', '0', '.')\n",
      "('rs756201116', 'MUC4', '0', '0.0275')\n",
      "('rs371340757', 'MUC4', '0', '0.0559')\n",
      "('rs774938620', 'MUC4', '0.0012', '0')\n",
      "('rs776617846', 'MUC4', '0', '0.0098')\n",
      "('rs758091975', 'MUC4', '0', '0.0074')\n",
      "('.', 'MUC4', '.', '0')\n",
      "('.', 'MUC4', '.', '0')\n",
      "('rs200578865', 'MUC4', '0', '0.0011')\n",
      "('rs754448064', 'MUC4', '0', '2.048e-05')\n",
      "('rs201129800', 'MUC4', '0', '5.93e-05')\n",
      "('rs748071998', 'MUC4', '0', '5.026e-05')\n",
      "('rs370164286', 'MUC4', '0', '2.334e-05')\n",
      "('rs766803118', 'MUC4', '0', '0.0002')\n",
      "('rs144031960', 'REST', '.', '0')\n",
      "('rs199901845', 'DSPP', '.', '0')\n",
      "('rs762114782', 'DSPP', '5.257e-05', '0')\n",
      "('rs200745922', 'DSPP', '0.0002', '0')\n",
      "('.', 'KCNN2', '.', '0')\n",
      "('rs764482905', 'OSTM1', '0', '3.543e-05')\n",
      "('rs76260977', 'MUC3A', '0.0003', '0')\n",
      "('rs77979106', 'MUC3A', '0.0005', '0')\n",
      "('rs77022449', 'MUC3A', '0.0005', '0')\n",
      "('rs76311216', 'MUC3A', '0.0005', '0')\n",
      "('.', 'MUC12', '.', '0')\n",
      "('.', 'MUC12', '.', '0')\n",
      "('rs377528587', 'MUC12', '0', '0.5096')\n",
      "('.', 'MUC12', '.', '0')\n",
      "('.', 'MUC12', '.', '0')\n",
      "('rs78837976', 'MUC12', '0', '0.0018')\n",
      "('.', 'MUC12', '.', '0')\n",
      "('.', 'MUC12', '.', '0')\n",
      "('.', 'MUC17', '.', '0')\n",
      "('rs756720684', 'MUC17', '0.0002', '0')\n",
      "('rs779048358', 'MUC17', '0.0002', '0')\n",
      "('rs548734631', 'HIPK2', '0', '0.0092')\n",
      "('rs771756729', 'RBM33', '0', '8.366e-06')\n",
      "('.', 'PLEC', '.', '0')\n",
      "('rs199634585', 'SPATA31A1', '0', '0.0018')\n",
      "('rs778017949', 'NR5A1', '0', '.')\n",
      "('.', 'PPP1R26', '.', '0')\n",
      "('rs61849498', 'TIMM23', '0', '0.5')\n",
      "('rs75538227', 'MUC6', '1.476e-05', '0')\n",
      "('rs75482640', 'MUC6', '0.0003', '0')\n",
      "('rs80049949', 'MUC6', '0.0003', '0')\n",
      "('rs200605255', 'MUC2', '0.0009', '0')\n",
      "('rs762138824', 'MUC2', '5.906e-05', '0')\n",
      "('rs768133062', 'MUC2', '0.0004', '0')\n",
      "('rs56002648', 'MUC2', '0.0012', '0')\n",
      "('rs111164685', 'MUC5AC', '.', '0')\n",
      "('rs111218897', 'MUC5AC', '0', '.')\n",
      "('rs28696103', 'KRTAP5-4', '0', '0')\n",
      "('rs7118569', 'UVRAG', '0', '0.0011')\n",
      "('rs201554667', 'MUC19', '.', '0')\n",
      "('rs79082631', 'MUC19', '0', '0')\n",
      "('rs4768269', 'MUC19', '.', '0')\n",
      "('rs201549706', 'MUC19', '0', '0')\n",
      "('rs79164931', 'KRT4', '0.0005', '0')\n",
      "('rs765557957', 'DTX3', '0', '0.0001')\n",
      "('rs74203443', 'GOLGA6L2', '0', '0.1565')\n",
      "('rs147880388', 'GOLGA6L2', '0', '0.0007')\n",
      "('rs753413517', 'GOLGA6L2', '0', '.')\n",
      "('rs753023443', 'GOLGA8R', '0', '0')\n",
      "('rs563950059', 'NPIPB5', '0', '0.0008')\n",
      "('.', 'NPIPB5', '.', '0')\n",
      "('.', 'NPIPB5', '.', '0')\n",
      "('rs372670030', 'SF3B3', '0.0108', '0')\n",
      "('.', 'NATD1', '.', '0')\n",
      "('rs78270789', 'KRTAP9-1', '.', '0')\n",
      "('rs75201435', 'KRTAP9-1', '.', '0')\n",
      "('.', 'USP32', '.', '0')\n",
      "('rs531498368', 'PLIN4', '0', '2.492e-05')\n",
      "('rs56271257', 'PLIN4', '0', '2.474e-05')\n",
      "('.', 'ZNF676', '.', '0')\n",
      "('rs570225845', 'ZNF676', '.', '0')\n",
      "('rs117522133', 'DMKN', '0', '1.107e-05')\n",
      "('rs142519211', 'DMKN', '0', '0')\n",
      "('rs148799704', 'DMKN', '.', '0')\n",
      "('.', 'DMKN', '.', '0')\n",
      "('rs201369392', 'DMKN', '0', '.')\n",
      "('rs768037362', 'DMKN', '0', '.')\n",
      "('rs762477647', 'WDR87', '0', '.')\n",
      "('rs199924679', 'CIC', '0.0001', '0')\n",
      "('rs868776773', 'ATF5', '.', '0')\n",
      "('.', 'ZNF880', '.', '0')\n",
      "('rs866303396', 'ZNF880', '.', '0')\n",
      "('.', 'ZNF880', '.', '0')\n",
      "('rs201995005', 'ZNF880', '.', '0')\n",
      "('rs202187764', 'POTEH', '0', '0.0016')\n",
      "('rs199627467', 'RIMBP3', '0', '0.0148')\n",
      "('rs469096', 'RIMBP3B;RIMBP3C', '0', '0.5091')\n",
      "('Number of variants with gnomall and/or exac <', 1e-07, 'is:', 131)\n",
      "['rs5973089.FAM47A...0', 'rs199541368.NXF2;NXF2B.0.0.3', 'rs781810749.ESX1.0.0002.0', 'rs150327147.MAGEC1.1.419e-05.0', 'rs200821167.MAGEC1.1.423e-05.0', 'rs775387822.MIB2.0.0.0001', 'rs1134582.UBXN11.0.0.0002', 'rs782648960.SERINC2.0.0003.0', 'rs77691247.NBPF19.0.0.5998', 'rs782154100.PPIAL4A;PPIAL4C.0.0.4359', 'rs782712781.PPIAL4A;PPIAL4C.0.0.4375', 'rs758702690.TCHH.0..', 'rs766485249.TCHH.0..', 'rs202137328.HRNR.0.0.0090', '..LOR...0', 'rs199718718.IGFN1.0.0.0004', 'rs777956946.IGFN1.0.0.0037', 'rs762931562.IGFN1.0.0333.0', 'rs777646554.IGFN1.0.0026.0', 'rs768533319.IGFN1.0.0023.0', '..ANTXR1...0', 'rs78179792.ANKRD36C...0', 'rs749230055.TMEM87B.0.4.818e-05', 'rs147268452.POTEI.0.0.3663', 'rs201911310.POTEE.0.0.7556', 'rs774726264.NEB.0.0.3333', '..TMIE...0', 'rs201564403.MUC4.0.0002.0', '..MUC4...0', 'rs202189235.MUC4...0', 'rs199588013.MUC4.0.0001.0', 'rs200340883.MUC4.0.0.0006', 'rs201087529.MUC4.0.0030.0', '..MUC4.0.0006.0', '..MUC4.0.0096.0', '..MUC4.0..', '..MUC4.0.0.0032', 'rs748294675.MUC4.0..', 'rs756201116.MUC4.0.0.0275', 'rs371340757.MUC4.0.0.0559', 'rs774938620.MUC4.0.0012.0', 'rs776617846.MUC4.0.0.0098', 'rs758091975.MUC4.0.0.0074', 'rs200578865.MUC4.0.0.0011', 'rs754448064.MUC4.0.2.048e-05', 'rs201129800.MUC4.0.5.93e-05', 'rs748071998.MUC4.0.5.026e-05', 'rs370164286.MUC4.0.2.334e-05', 'rs766803118.MUC4.0.0.0002', 'rs144031960.REST...0', 'rs199901845.DSPP...0', 'rs762114782.DSPP.5.257e-05.0', 'rs200745922.DSPP.0.0002.0', '..KCNN2...0', 'rs764482905.OSTM1.0.3.543e-05', 'rs76260977.MUC3A.0.0003.0', 'rs77979106.MUC3A.0.0005.0', 'rs77022449.MUC3A.0.0005.0', 'rs76311216.MUC3A.0.0005.0', '..MUC12...0', 'rs377528587.MUC12.0.0.5096', 'rs78837976.MUC12.0.0.0018', '..MUC17...0', 'rs756720684.MUC17.0.0002.0', 'rs779048358.MUC17.0.0002.0', 'rs548734631.HIPK2.0.0.0092', 'rs771756729.RBM33.0.8.366e-06', '..PLEC...0', 'rs199634585.SPATA31A1.0.0.0018', 'rs778017949.NR5A1.0..', '..PPP1R26...0', 'rs61849498.TIMM23.0.0.5', 'rs75538227.MUC6.1.476e-05.0', 'rs75482640.MUC6.0.0003.0', 'rs80049949.MUC6.0.0003.0', 'rs200605255.MUC2.0.0009.0', 'rs762138824.MUC2.5.906e-05.0', 'rs768133062.MUC2.0.0004.0', 'rs56002648.MUC2.0.0012.0', 'rs111164685.MUC5AC...0', 'rs111218897.MUC5AC.0..', 'rs28696103.KRTAP5-4.0.0', 'rs7118569.UVRAG.0.0.0011', 'rs201554667.MUC19...0', 'rs79082631.MUC19.0.0', 'rs4768269.MUC19...0', 'rs201549706.MUC19.0.0', 'rs79164931.KRT4.0.0005.0', 'rs765557957.DTX3.0.0.0001', 'rs74203443.GOLGA6L2.0.0.1565', 'rs147880388.GOLGA6L2.0.0.0007', 'rs753413517.GOLGA6L2.0..', 'rs753023443.GOLGA8R.0.0', 'rs563950059.NPIPB5.0.0.0008', '..NPIPB5...0', 'rs372670030.SF3B3.0.0108.0', '..NATD1...0', 'rs78270789.KRTAP9-1...0', 'rs75201435.KRTAP9-1...0', '..USP32...0', 'rs531498368.PLIN4.0.2.492e-05', 'rs56271257.PLIN4.0.2.474e-05', '..ZNF676...0', 'rs570225845.ZNF676...0', 'rs117522133.DMKN.0.1.107e-05', 'rs142519211.DMKN.0.0', 'rs148799704.DMKN...0', '..DMKN...0', 'rs201369392.DMKN.0..', 'rs768037362.DMKN.0..', 'rs762477647.WDR87.0..', 'rs199924679.CIC.0.0001.0', 'rs868776773.ATF5...0', '..ZNF880...0', 'rs866303396.ZNF880...0', 'rs201995005.ZNF880...0', 'rs202187764.POTEH.0.0.0016', 'rs199627467.RIMBP3.0.0.0148', 'rs469096.RIMBP3B;RIMBP3C.0.0.5091']\n",
      "Done\n"
     ]
    }
   ],
   "source": [
    "rows, functions,exfunc, rs,gene, exacall, gnomall, pathogenics = load_annovar('Ot3115.hg19_multianno.txt')\n",
    "count = 0\n",
    "outfile = 'f171m2.raremaf.filtered.txt'\n",
    "f171m2_raremaf_genes = []\n",
    "f171m2_raremaf_variants = []\n",
    "for i in range(0,len(exacall) ): \n",
    "    if  ( (gnomall[i].isdigit()) and   (exacall[i].isdigit()) ) :\n",
    "        if  (  (float(gnomall[i]) < cutoff) and (float(exacall[i]) < cutoff) and (functions[i] =='exonic') ): \n",
    "            count += 1 \n",
    "            writelist(rows[i], outfile)\n",
    "            print(rs[i], gene[i], exacall[i],gnomall[i])\n",
    "            if gene[i] not in f171m2_raremaf_genes: \n",
    "                    f171m2_raremaf_genes.append(gene[i])\n",
    "            var = rs[i] + '.' + gene[i] +'.' +exacall[i] +'.'+ gnomall[i]\n",
    "            if var not in f171m2_raremaf_variants: \n",
    "                f171m2_raremaf_variants.append(var)\n",
    "\n",
    "    elif  (not (gnomall[i].isdigit())) and  ( (exacall[i].isdigit()) and (float(exacall[i]) < cutoff) and (functions[i] =='exonic')):\n",
    "            count += 1 \n",
    "            writelist(rows[i], outfile)\n",
    "            print(rs[i], gene[i], exacall[i],gnomall[i])\n",
    "            if gene[i] not in f171m2_raremaf_genes: \n",
    "                    f171m2_raremaf_genes.append(gene[i])\n",
    "            var = rs[i] + '.' + gene[i] +'.' +exacall[i] +'.'+ gnomall[i]\n",
    "            if var not in f171m2_raremaf_variants: \n",
    "                f171m2_raremaf_variants.append(var)\n",
    "    elif (not(exacall[i].isdigit()))and ( (gnomall[i].isdigit() ) and (float (gnomall[i]) < cutoff) and (functions[i] =='exonic')):\n",
    "            count += 1 \n",
    "            writelist(rows[i], outfile)\n",
    "            print(rs[i], gene[i], exacall[i],gnomall[i])\n",
    "            if gene[i] not in  f171m2_raremaf_genes: \n",
    "                     f171m2_raremaf_genes.append(gene[i])\n",
    "            var = rs[i] + '.' + gene[i] +'.' +exacall[i] +'.'+ gnomall[i]\n",
    "            if var not in f171m2_raremaf_variants: \n",
    "                f171m2_raremaf_variants.append(var)\n",
    "print ('Number of variants with gnomall and/or exac <', cutoff, 'is:',count)\n",
    "print (f171m2_raremaf_variants)\n",
    "print('Done')"
   ]
  },
  {
   "cell_type": "markdown",
   "metadata": {
    "deletable": true,
    "editable": true
   },
   "source": [
    "## M3 is less than Cutoff"
   ]
  },
  {
   "cell_type": "code",
   "execution_count": 10,
   "metadata": {
    "collapsed": false,
    "deletable": true,
    "editable": true
   },
   "outputs": [
    {
     "name": "stdout",
     "output_type": "stream",
     "text": [
      "('rs750364695', 'RPGR', '.', '0')\n",
      "('rs781824885', 'GAGE13;GAGE8', '0', '0.0004')\n",
      "('rs150327147', 'MAGEC1', '1.419e-05', '0')\n",
      "('rs200821167', 'MAGEC1', '1.423e-05', '0')\n",
      "('rs782648960', 'SERINC2', '0.0003', '0')\n",
      "('rs558640103', 'PRG4', '.', '0')\n",
      "('rs199718718', 'IGFN1', '0', '0.0004')\n",
      "('rs777956946', 'IGFN1', '0', '0.0037')\n",
      "('rs78179792', 'ANKRD36C', '.', '0')\n",
      "('rs147268452', 'POTEI', '0', '0.3663')\n",
      "('.', 'TMIE', '.', '0')\n",
      "('.', 'ZNF717', '.', '0')\n",
      "('rs763528206', 'ZNF717', '0', '0.0010')\n",
      "('rs201373238', 'MUC4', '0.0002', '0')\n",
      "('rs759996911', 'MUC4', '0.0091', '0')\n",
      "('rs200786826', 'MUC4', '0', '0.0014')\n",
      "('rs201564403', 'MUC4', '0.0002', '0')\n",
      "('.', 'MUC4', '.', '0')\n",
      "('.', 'MUC4', '.', '0')\n",
      "('.', 'MUC4', '0', '4.893e-05')\n",
      "('rs202189235', 'MUC4', '.', '0')\n",
      "('rs200473221', 'MUC4', '0.0023', '0')\n",
      "('.', 'MUC4', '.', '0')\n",
      "('rs200340883', 'MUC4', '0', '0.0006')\n",
      "('.', 'MUC4', '0', '0')\n",
      "('.', 'MUC4', '0.0003', '0')\n",
      "('.', 'MUC4', '0', '2.775e-05')\n",
      "('.', 'MUC4', '0', '4.329e-05')\n",
      "('.', 'MUC4', '0', '5.496e-05')\n",
      "('.', 'MUC4', '0.0096', '0')\n",
      "('.', 'MUC4', '0', '.')\n",
      "('.', 'MUC4', '0', '0.0032')\n",
      "('.', 'MUC4', '0', '.')\n",
      "('rs748294675', 'MUC4', '0', '.')\n",
      "('rs756201116', 'MUC4', '0', '0.0275')\n",
      "('.', 'MUC4', '0', '.')\n",
      "('rs371340757', 'MUC4', '0', '0.0559')\n",
      "('rs776617846', 'MUC4', '0', '0.0098')\n",
      "('rs758091975', 'MUC4', '0', '0.0074')\n",
      "('rs201451131', 'MUC4', '0', '0.0336')\n",
      "('rs544059785', 'MUC4', '0.0049', '0')\n",
      "('rs562482736', 'MUC4', '0.0047', '0')\n",
      "('rs374418206', 'MUC4', '5.394e-05', '0')\n",
      "('rs144031960', 'REST', '.', '0')\n",
      "('rs763791363', 'DSPP', '0', '4.591e-05')\n",
      "('rs762114782', 'DSPP', '5.257e-05', '0')\n",
      "('rs200745922', 'DSPP', '0.0002', '0')\n",
      "('.', 'POU4F2', '.', '0')\n",
      "('rs148550291', 'MSH3', '0', '2.382e-05')\n",
      "('.', 'KCNN2', '.', '0')\n",
      "('rs776292570', 'NACAD', '0', '0.0002')\n",
      "('.', 'MUC12', '.', '0')\n",
      "('rs78837976', 'MUC12', '0', '0.0018')\n",
      "('.', 'MUC12', '.', '0')\n",
      "('.', 'MUC12', '.', '0')\n",
      "('.', 'MUC12', '.', '0')\n",
      "('.', 'MUC12', '.', '0')\n",
      "('.', 'MUC17', '.', '0')\n",
      "('.', 'MUC17', '.', '0')\n",
      "('.', 'MUC17', '.', '0')\n",
      "('rs62486260', 'TCAF2', '0', '0.0215')\n",
      "('rs772744949', 'ZFHX4', '0', '0.0014')\n",
      "('rs199634585', 'SPATA31A1', '0', '0.0018')\n",
      "('rs778017949', 'NR5A1', '0', '.')\n",
      "('.', 'PPP1R26', '.', '0')\n",
      "('rs75538227', 'MUC6', '1.476e-05', '0')\n",
      "('rs75482640', 'MUC6', '0.0003', '0')\n",
      "('rs80049949', 'MUC6', '0.0003', '0')\n",
      "('rs200605255', 'MUC2', '0.0009', '0')\n",
      "('rs768133062', 'MUC2', '0.0004', '0')\n",
      "('rs200003195', 'MUC2', '0', '0.0002')\n",
      "('rs56002648', 'MUC2', '0.0012', '0')\n",
      "('rs111218897', 'MUC5AC', '0', '.')\n",
      "('rs561572250', 'MUC5B', '1.181e-05', '0')\n",
      "('rs531905548', 'MUC5B', '0', '.')\n",
      "('rs753519159', 'MUC5B', '0', '.')\n",
      "('rs754664797', 'MUC5B', '0', '.')\n",
      "('rs76325618', 'OR8U1;OR8U8', '1.769e-05', '0')\n",
      "('rs1492333', 'MUC19', '0', '0.9942')\n",
      "('rs2405078', 'MUC19', '0', '0')\n",
      "('rs2405079', 'MUC19', '0', '0')\n",
      "('rs2405080', 'MUC19', '0', '.')\n",
      "('rs79164931', 'KRT4', '0.0005', '0')\n",
      "('rs761515590', 'FBXW8', '0', '0')\n",
      "('rs541227756', 'GOLGA3', '.', '0')\n",
      "('rs80270376', 'GOLGA6L2', '0', '0.0350')\n",
      "('rs147880388', 'GOLGA6L2', '0', '0.0007')\n",
      "('rs753413517', 'GOLGA6L2', '0', '.')\n",
      "('rs372670030', 'SF3B3', '0.0108', '0')\n",
      "('rs769343730', 'ZFPM1', '0', '0')\n",
      "('rs140610432', 'ZNHIT3', '0', '0')\n",
      "('.', 'USP32', '.', '0')\n",
      "('.', 'ZNF880', '.', '0')\n",
      "('rs866303396', 'ZNF880', '.', '0')\n",
      "('.', 'ZNF880', '.', '0')\n",
      "('rs201995005', 'ZNF880', '.', '0')\n",
      "('rs78729874', 'ZNF880', '1.073e-05', '0')\n",
      "('rs568725405', 'ZNF837', '0', '0.0006')\n",
      "('rs369003673', 'SIRPB1', '1.579e-05', '0')\n",
      "('rs372728073', 'SIRPB1', '1.577e-05', '0')\n",
      "('rs753743659', 'MROH8', '0.0125', '0')\n",
      "('rs62218858', 'KRTAP10-1', '.', '0')\n",
      "('rs202187764', 'POTEH', '0', '0.0016')\n",
      "('rs469096', 'RIMBP3B;RIMBP3C', '0', '0.5091')\n",
      "('Number of variants with gnomall and exac <', 1e-07, 'is:', 104)\n",
      "['rs750364695.RPGR...0', 'rs781824885.GAGE13;GAGE8.0.0.0004', 'rs150327147.MAGEC1.1.419e-05.0', 'rs200821167.MAGEC1.1.423e-05.0', 'rs782648960.SERINC2.0.0003.0', 'rs558640103.PRG4...0', 'rs199718718.IGFN1.0.0.0004', 'rs777956946.IGFN1.0.0.0037', 'rs78179792.ANKRD36C...0', 'rs147268452.POTEI.0.0.3663', '..TMIE...0', '..ZNF717...0', 'rs763528206.ZNF717.0.0.0010', 'rs201373238.MUC4.0.0002.0', 'rs759996911.MUC4.0.0091.0', 'rs200786826.MUC4.0.0.0014', 'rs201564403.MUC4.0.0002.0', '..MUC4...0', '..MUC4.0.4.893e-05', 'rs202189235.MUC4...0', 'rs200473221.MUC4.0.0023.0', 'rs200340883.MUC4.0.0.0006', '..MUC4.0.0', '..MUC4.0.0003.0', '..MUC4.0.2.775e-05', '..MUC4.0.4.329e-05', '..MUC4.0.5.496e-05', '..MUC4.0.0096.0', '..MUC4.0..', '..MUC4.0.0.0032', 'rs748294675.MUC4.0..', 'rs756201116.MUC4.0.0.0275', 'rs371340757.MUC4.0.0.0559', 'rs776617846.MUC4.0.0.0098', 'rs758091975.MUC4.0.0.0074', 'rs201451131.MUC4.0.0.0336', 'rs544059785.MUC4.0.0049.0', 'rs562482736.MUC4.0.0047.0', 'rs374418206.MUC4.5.394e-05.0', 'rs144031960.REST...0', 'rs763791363.DSPP.0.4.591e-05', 'rs762114782.DSPP.5.257e-05.0', 'rs200745922.DSPP.0.0002.0', '..POU4F2...0', 'rs148550291.MSH3.0.2.382e-05', '..KCNN2...0', 'rs776292570.NACAD.0.0.0002', '..MUC12...0', 'rs78837976.MUC12.0.0.0018', '..MUC17...0', 'rs62486260.TCAF2.0.0.0215', 'rs772744949.ZFHX4.0.0.0014', 'rs199634585.SPATA31A1.0.0.0018', 'rs778017949.NR5A1.0..', '..PPP1R26...0', 'rs75538227.MUC6.1.476e-05.0', 'rs75482640.MUC6.0.0003.0', 'rs80049949.MUC6.0.0003.0', 'rs200605255.MUC2.0.0009.0', 'rs768133062.MUC2.0.0004.0', 'rs200003195.MUC2.0.0.0002', 'rs56002648.MUC2.0.0012.0', 'rs111218897.MUC5AC.0..', 'rs561572250.MUC5B.1.181e-05.0', 'rs531905548.MUC5B.0..', 'rs753519159.MUC5B.0..', 'rs754664797.MUC5B.0..', 'rs76325618.OR8U1;OR8U8.1.769e-05.0', 'rs1492333.MUC19.0.0.9942', 'rs2405078.MUC19.0.0', 'rs2405079.MUC19.0.0', 'rs2405080.MUC19.0..', 'rs79164931.KRT4.0.0005.0', 'rs761515590.FBXW8.0.0', 'rs541227756.GOLGA3...0', 'rs80270376.GOLGA6L2.0.0.0350', 'rs147880388.GOLGA6L2.0.0.0007', 'rs753413517.GOLGA6L2.0..', 'rs372670030.SF3B3.0.0108.0', 'rs769343730.ZFPM1.0.0', 'rs140610432.ZNHIT3.0.0', '..USP32...0', '..ZNF880...0', 'rs866303396.ZNF880...0', 'rs201995005.ZNF880...0', 'rs78729874.ZNF880.1.073e-05.0', 'rs568725405.ZNF837.0.0.0006', 'rs369003673.SIRPB1.1.579e-05.0', 'rs372728073.SIRPB1.1.577e-05.0', 'rs753743659.MROH8.0.0125.0', 'rs62218858.KRTAP10-1...0', 'rs202187764.POTEH.0.0.0016', 'rs469096.RIMBP3B;RIMBP3C.0.0.5091']\n"
     ]
    }
   ],
   "source": [
    "rows, functions,exfunc, rs,gene, exacall, gnomall, pathogenics = load_annovar('Ot3116.hg19_multianno.txt')\n",
    "count = 0\n",
    "outfile = 'f171m3.raremaf.filtered.txt'\n",
    "f171m3_raremaf_genes = []\n",
    "f171m3_raremaf_variants = []\n",
    "for i in range(0,len(exacall) ): \n",
    "    if  ( (gnomall[i].isdigit()) and   (exacall[i].isdigit()) ) :\n",
    "        if   (float(gnomall[i]) < cutoff) and (float(exacall[i]) < cutoff) and functions[i] =='exonic': \n",
    "            count += 1 \n",
    "            writelist(rows[i], outfile)\n",
    "            print(rs[i], gene[i], exacall[i],gnomall[i])\n",
    "            if gene[i] not in f171m3_raremaf_genes: \n",
    "                    f171m3_raremaf_genes.append(gene[i])            \n",
    "            var = rs[i] + '.' + gene[i] +'.' +exacall[i] +'.'+ gnomall[i]\n",
    "            if var not in f171m3_raremaf_variants: \n",
    "                f171m3_raremaf_variants.append(var)\n",
    "\n",
    "            \n",
    "    elif (not (gnomall[i].isdigit())) and  (exacall[i].isdigit()) and (float(exacall[i]) < cutoff) and functions[i] =='exonic'  :\n",
    "            count += 1 \n",
    "            writelist(rows[i], outfile)\n",
    "            print(rs[i], gene[i], exacall[i],gnomall[i])\n",
    "            if gene[i] not in f171m3_raremaf_genes: \n",
    "                    f171m3_raremaf_genes.append(gene[i])\n",
    "            var = rs[i] + '.' + gene[i] +'.' +exacall[i] +'.'+ gnomall[i]\n",
    "            if var not in f171m3_raremaf_variants: \n",
    "                f171m3_raremaf_variants.append(var)\n",
    "\n",
    "    elif (not(exacall[i].isdigit())) and (gnomall[i].isdigit()) and (float (gnomall[i]) < cutoff) and functions[i] =='exonic' :\n",
    "            count += 1 \n",
    "            writelist(rows[i], outfile)\n",
    "            print(rs[i], gene[i], exacall[i],gnomall[i])\n",
    "            if gene[i] not in  f171m3_raremaf_genes: \n",
    "                     f171m3_raremaf_genes.append(gene[i])\n",
    "            var = rs[i] + '.' + gene[i] +'.' +exacall[i] +'.'+ gnomall[i]\n",
    "            if var not in f171m3_raremaf_variants: \n",
    "                f171m3_raremaf_variants.append(var)\n",
    "\n",
    "print ('Number of variants with gnomall and exac <', cutoff, 'is:',count)\n",
    "print (f171m3_raremaf_variants)"
   ]
  },
  {
   "cell_type": "markdown",
   "metadata": {
    "deletable": true,
    "editable": true
   },
   "source": [
    "#### M4 is less than Cutoff"
   ]
  },
  {
   "cell_type": "code",
   "execution_count": 11,
   "metadata": {
    "collapsed": false,
    "deletable": true,
    "editable": true
   },
   "outputs": [
    {
     "name": "stdout",
     "output_type": "stream",
     "text": [
      "('rs769179127', 'RPGR', '0', '0.0003')\n",
      "('.', 'ARMCX4', '.', '0')\n",
      "('rs199541368', 'NXF2;NXF2B', '0', '0.3')\n",
      "('rs150327147', 'MAGEC1', '1.419e-05', '0')\n",
      "('rs200821167', 'MAGEC1', '1.423e-05', '0')\n",
      "('rs1134582', 'UBXN11', '0', '0.0002')\n",
      "('rs782648960', 'SERINC2', '0.0003', '0')\n",
      "('rs113556887', 'HRNR', '0', '0.1065')\n",
      "('rs768366946', 'HRNR', '0', '0.0004')\n",
      "('rs113263380', 'HRNR', '0', '0.0007')\n",
      "('.', 'HRNR', '.', '0')\n",
      "('.', 'HRNR', '.', '0')\n",
      "('.', 'PRG4', '.', '0')\n",
      "('rs558640103', 'PRG4', '.', '0')\n",
      "('rs777956946', 'IGFN1', '0', '0.0037')\n",
      "('rs78179792', 'ANKRD36C', '.', '0')\n",
      "('rs200913020', 'POTEF', '0', '0.0017')\n",
      "('.', 'TMIE', '.', '0')\n",
      "('rs62250109', 'ZNF717', '0', '0.0524')\n",
      "('rs200786826', 'MUC4', '0', '0.0014')\n",
      "('.', 'MUC4', '.', '0')\n",
      "('.', 'MUC4', '0', '4.893e-05')\n",
      "('rs111605191', 'MUC4', '0', '.')\n",
      "('rs199983999', 'MUC4', '0', '0.0001')\n",
      "('rs199588013', 'MUC4', '0.0001', '0')\n",
      "('rs200473221', 'MUC4', '0.0023', '0')\n",
      "('rs768805153', 'MUC4', '0', '0.0008')\n",
      "('.', 'MUC4', '.', '0')\n",
      "('rs774610737', 'MUC4', '0', '0.0011')\n",
      "('.', 'MUC4', '0.0006', '0')\n",
      "('.', 'MUC4', '0', '2.775e-05')\n",
      "('.', 'MUC4', '0', '4.329e-05')\n",
      "('.', 'MUC4', '0.0096', '0')\n",
      "('.', 'MUC4', '0', '0.0032')\n",
      "('rs756201116', 'MUC4', '0', '0.0275')\n",
      "('.', 'MUC4', '0', '.')\n",
      "('rs371340757', 'MUC4', '0', '0.0559')\n",
      "('rs776617846', 'MUC4', '0', '0.0098')\n",
      "('rs758091975', 'MUC4', '0', '0.0074')\n",
      "('rs200139490', 'MUC4', '0.0005', '0')\n",
      "('.', 'MUC4', '0.0005', '0')\n",
      "('rs201129800', 'MUC4', '0', '5.93e-05')\n",
      "('rs748071998', 'MUC4', '0', '5.026e-05')\n",
      "('rs370164286', 'MUC4', '0', '2.334e-05')\n",
      "('rs554245525', 'MUC4', '.', '0')\n",
      "('.', 'MUC4', '.', '0')\n",
      "('rs779821751', 'HTT', '0', '0.0021')\n",
      "('rs763791363', 'DSPP', '0', '4.591e-05')\n",
      "('rs200745922', 'DSPP', '0.0002', '0')\n",
      "('rs148550291', 'MSH3', '0', '2.382e-05')\n",
      "('.', 'KCNN2', '.', '0')\n",
      "('rs764482905', 'OSTM1', '0', '3.543e-05')\n",
      "('rs377528587', 'MUC12', '0', '0.5096')\n",
      "('.', 'MUC12', '.', '0')\n",
      "('.', 'MUC12', '.', '0')\n",
      "('.', 'MUC12', '.', '0')\n",
      "('.', 'MUC17', '.', '0')\n",
      "('.', 'MUC17', '.', '0')\n",
      "('rs779048358', 'MUC17', '0.0002', '0')\n",
      "('rs771756729', 'RBM33', '0', '8.366e-06')\n",
      "('.', 'DEFB4B', '.', '0')\n",
      "('rs776982330', 'RP1L1', '8.376e-06', '0')\n",
      "('rs759958687', 'RP1L1', '8.408e-06', '0')\n",
      "('rs764107696', 'RP1L1', '8.497e-06', '0')\n",
      "('rs538017218', 'CNTNAP3', '0', '0.0625')\n",
      "('rs199599712', 'CNTNAP3B', '0', '0.0036')\n",
      "('rs778017949', 'NR5A1', '0', '.')\n",
      "('rs9411313', 'TPRN', '0', '0.2822')\n",
      "('rs75538227', 'MUC6', '1.476e-05', '0')\n",
      "('rs75482640', 'MUC6', '0.0003', '0')\n",
      "('rs80049949', 'MUC6', '0.0003', '0')\n",
      "('rs79277162', 'MUC6', '0.0041', '0')\n",
      "('rs111641154', 'MUC6', '0.0004', '0')\n",
      "('rs200605255', 'MUC2', '0.0009', '0')\n",
      "('rs201496058', 'MUC2', '0.0055', '0')\n",
      "('rs200003195', 'MUC2', '0', '0.0002')\n",
      "('rs56002648', 'MUC2', '0.0012', '0')\n",
      "('rs111164685', 'MUC5AC', '.', '0')\n",
      "('rs111218897', 'MUC5AC', '0', '.')\n",
      "('rs78723242', 'MUC5AC', '0.0479', '0')\n",
      "('rs561572250', 'MUC5B', '1.181e-05', '0')\n",
      "('rs531905548', 'MUC5B', '0', '.')\n",
      "('rs753519159', 'MUC5B', '0', '.')\n",
      "('rs754664797', 'MUC5B', '0', '.')\n",
      "('rs76325618', 'OR8U1;OR8U8', '1.769e-05', '0')\n",
      "('.', 'MED19', '.', '0')\n",
      "('.', 'MED19', '.', '0')\n",
      "('rs200585722', 'KRTAP5-8', '.', '0')\n",
      "('rs117340774', 'MUC19', '0', '0')\n",
      "('rs2405078', 'MUC19', '0', '0')\n",
      "('rs2405079', 'MUC19', '0', '0')\n",
      "('rs2405080', 'MUC19', '0', '.')\n",
      "('rs201554667', 'MUC19', '.', '0')\n",
      "('rs79082631', 'MUC19', '0', '0')\n",
      "('rs79916386', 'MUC19', '.', '0')\n",
      "('rs79164931', 'KRT4', '0.0005', '0')\n",
      "('rs761515590', 'FBXW8', '0', '0')\n",
      "('.', 'SRRM4', '.', '0')\n",
      "('rs76238525', 'UBC', '0', '0.0087')\n",
      "('rs138327719', 'POTEM', '0', '0.1667')\n",
      "('.', 'FOXG1', '.', '0')\n",
      "('.', 'FOXG1', '.', '0')\n",
      "('.', 'FOXG1', '.', '0')\n",
      "('rs762577084', 'POTEB;POTEB2;POTEB3', '0', '0.0231')\n",
      "('rs749824359', 'GOLGA6L2', '0', '0.0006')\n",
      "('rs776627074', 'GOLGA6L2', '0', '.')\n",
      "('rs80270376', 'GOLGA6L2', '0', '0.0350')\n",
      "('rs147880388', 'GOLGA6L2', '0', '0.0007')\n",
      "('rs372736971', 'GOLGA6L2', '.', '0')\n",
      "('rs368864824', 'GOLGA6L2', '0', '0.0011')\n",
      "('rs201822759', 'ACAN', '0', '0.0031')\n",
      "('rs372670030', 'SF3B3', '0.0108', '0')\n",
      "('rs769343730', 'ZFPM1', '0', '0')\n",
      "('rs750220341', 'KRTAP4-8', '0', '.')\n",
      "('rs868493313', 'KRTAP4-8', '.', '0')\n",
      "('.', 'USP32', '.', '0')\n",
      "('rs531498368', 'PLIN4', '0', '2.492e-05')\n",
      "('rs56271257', 'PLIN4', '0', '2.474e-05')\n",
      "('rs753215116', 'ZNF676', '8.698e-06', '0')\n",
      "('rs781016866', 'ZNF676', '8.743e-06', '0')\n",
      "('.', 'ZNF676', '.', '0')\n",
      "('rs570225845', 'ZNF676', '.', '0')\n",
      "('rs117522133', 'DMKN', '0', '1.107e-05')\n",
      "('rs142519211', 'DMKN', '0', '0')\n",
      "('.', 'DMKN', '.', '0')\n",
      "('rs201369392', 'DMKN', '0', '.')\n",
      "('rs768037362', 'DMKN', '0', '.')\n",
      "('.', 'ZNF880', '.', '0')\n",
      "('rs866303396', 'ZNF880', '.', '0')\n",
      "('.', 'ZNF880', '.', '0')\n",
      "('rs201995005', 'ZNF880', '.', '0')\n",
      "('rs568725405', 'ZNF837', '0', '0.0006')\n",
      "('rs369003673', 'SIRPB1', '1.579e-05', '0')\n",
      "('rs372728073', 'SIRPB1', '1.577e-05', '0')\n",
      "('rs5019195', 'PLAC4', '.', '0')\n",
      "('.', 'PLAC4', '.', '0')\n",
      "('rs62218858', 'KRTAP10-1', '.', '0')\n",
      "('rs202187764', 'POTEH', '0', '0.0016')\n",
      "('rs199627467', 'RIMBP3', '0', '0.0148')\n",
      "('rs469096', 'RIMBP3B;RIMBP3C', '0', '0.5091')\n",
      "('rs755025791', 'SH3BP1', '0', '0.0001')\n",
      "('rs143813120', 'SH3BP1', '0', '0.0009')\n",
      "('Number of variants with gnomall and exac <', 1e-07, 'is:', 142)\n",
      "['RPGR', 'ARMCX4', 'NXF2;NXF2B', 'MAGEC1', 'UBXN11', 'SERINC2', 'HRNR', 'PRG4', 'IGFN1', 'ANKRD36C', 'POTEF', 'TMIE', 'ZNF717', 'MUC4', 'HTT', 'DSPP', 'MSH3', 'KCNN2', 'OSTM1', 'MUC12', 'MUC17', 'RBM33', 'DEFB4B', 'RP1L1', 'CNTNAP3', 'CNTNAP3B', 'NR5A1', 'TPRN', 'MUC6', 'MUC2', 'MUC5AC', 'MUC5B', 'OR8U1;OR8U8', 'MED19', 'KRTAP5-8', 'MUC19', 'KRT4', 'FBXW8', 'SRRM4', 'UBC', 'POTEM', 'FOXG1', 'POTEB;POTEB2;POTEB3', 'GOLGA6L2', 'ACAN', 'SF3B3', 'ZFPM1', 'KRTAP4-8', 'USP32', 'PLIN4', 'ZNF676', 'DMKN', 'ZNF880', 'ZNF837', 'SIRPB1', 'PLAC4', 'KRTAP10-1', 'POTEH', 'RIMBP3', 'RIMBP3B;RIMBP3C', 'SH3BP1']\n"
     ]
    }
   ],
   "source": [
    "rows, functions,exfunc, rs,gene, exacall, gnomall, pathogenics = load_annovar('Ot3117.hg19_multianno.txt')\n",
    "count = 0\n",
    "outfile = 'f171m4.raremaf.filtered.txt'\n",
    "f171m4_raremaf_genes = []\n",
    "f171m4_raremaf_variants = []\n",
    "for i in range(0,len(exacall) ): \n",
    "    if  ( (gnomall[i].isdigit()) and   (exacall[i].isdigit()) ) :\n",
    "        if   (float(gnomall[i]) < cutoff) and (float(exacall[i]) < cutoff) and functions[i] =='exonic': \n",
    "            count += 1 \n",
    "            writelist(rows[i], outfile)\n",
    "            print(rs[i], gene[i], exacall[i],gnomall[i])\n",
    "            if gene[i] not in f171m4_raremaf_genes: \n",
    "                    f171m4_raremaf_genes.append(gene[i])\n",
    "            var = rs[i] + '.' + gene[i] +'.' +exacall[i] +'.'+ gnomall[i]\n",
    "            if var not in f171m4_raremaf_variants: \n",
    "                f171m4_raremaf_variants.append(var)\n",
    "    elif  (not (gnomall[i].isdigit())) and  (exacall[i].isdigit()) and (float(exacall[i]) < cutoff) and functions[i] =='exonic':\n",
    "            count += 1 \n",
    "            writelist(rows[i], outfile)\n",
    "            print(rs[i], gene[i], exacall[i],gnomall[i])\n",
    "            if gene[i] not in f171m4_raremaf_genes: \n",
    "                    f171m4_raremaf_genes.append(gene[i])\n",
    "            var = rs[i] + '.' + gene[i] +'.' +exacall[i] +'.'+ gnomall[i]\n",
    "            if var not in f171m4_raremaf_variants: \n",
    "                f171m4_raremaf_variants.append(var)\n",
    "    elif  (not(exacall[i].isdigit())) and (gnomall[i].isdigit()) and (float (gnomall[i]) < cutoff) and functions[i] =='exonic':\n",
    "            count += 1 \n",
    "            writelist(rows[i], outfile)\n",
    "            print(rs[i], gene[i], exacall[i],gnomall[i])\n",
    "            if gene[i] not in  f171m4_raremaf_genes: \n",
    "                     f171m4_raremaf_genes.append(gene[i])\n",
    "            var = rs[i] + '.' + gene[i] +'.' +exacall[i] +'.'+ gnomall[i]\n",
    "            if var not in f171m4_raremaf_variants: \n",
    "                f171m4_raremaf_variants.append(var)\n",
    "print ('Number of variants with gnomall and exac <', cutoff, 'is:',count)\n",
    "print (f171m4_raremaf_genes)"
   ]
  },
  {
   "cell_type": "markdown",
   "metadata": {
    "deletable": true,
    "editable": true
   },
   "source": [
    "# What is found in non carriers to ignore later "
   ]
  },
  {
   "cell_type": "code",
   "execution_count": 26,
   "metadata": {
    "collapsed": false,
    "deletable": true,
    "editable": true
   },
   "outputs": [
    {
     "name": "stdout",
     "output_type": "stream",
     "text": [
      "['MAGEC1', 'SERINC2', 'IGFN1', 'POTEI', 'TMIE', 'MUC4', 'DSPP', 'KCNN2', 'MUC12', 'PPP1R26', 'MUC6', 'MUC2', 'MUC19', 'KRT4', 'GOLGA6L2', 'SF3B3', 'RIMBP3B;RIMBP3C']\n"
     ]
    }
   ],
   "source": [
    "f171m1_m2_m3_rmafs = intersections3(f171m1_raremaf_genes,f171m2_raremaf_genes,f171m3_raremaf_genes)\n",
    "print (f171m1_m2_m3_rmafs)"
   ]
  },
  {
   "cell_type": "code",
   "execution_count": 13,
   "metadata": {
    "collapsed": false,
    "deletable": true,
    "editable": true
   },
   "outputs": [
    {
     "name": "stdout",
     "output_type": "stream",
     "text": [
      "['GAGE13;GAGE8', 'MAGEC1', 'SERINC2', 'PRG4', 'IGFN1', 'POTEI', 'TMIE', 'ZNF717', 'MUC4', 'DSPP', 'KCNN2', 'MUC12', 'PPP1R26', 'MUC6', 'MUC2', 'MUC5B', 'OR8U1;OR8U8', 'MUC19', 'KRT4', 'GOLGA6L2', 'SF3B3', 'ZFPM1', 'ZNF837', 'SIRPB1', 'KRTAP10-1', 'RIMBP3B;RIMBP3C']\n"
     ]
    }
   ],
   "source": [
    "f171m1_m3_rmafs = intersections(f171m1_raremaf_genes,f171m3_raremaf_genes)\n",
    "print (f171m1_m3_rmafs)"
   ]
  },
  {
   "cell_type": "code",
   "execution_count": 14,
   "metadata": {
    "collapsed": false,
    "deletable": true,
    "editable": true
   },
   "outputs": [
    {
     "name": "stdout",
     "output_type": "stream",
     "text": [
      "['MAGEC1', 'SERINC2', 'IGFN1', 'ANKRD36C', 'POTEI', 'TMIE', 'MUC4', 'REST', 'DSPP', 'KCNN2', 'MUC12', 'MUC17', 'SPATA31A1', 'NR5A1', 'PPP1R26', 'MUC6', 'MUC2', 'MUC5AC', 'MUC19', 'KRT4', 'GOLGA6L2', 'SF3B3', 'USP32', 'ZNF880', 'POTEH', 'RIMBP3B;RIMBP3C']\n"
     ]
    }
   ],
   "source": [
    "f171m2_m3_rmafs = intersections(f171m2_raremaf_genes,f171m3_raremaf_genes)\n",
    "print (f171m2_m3_rmafs)"
   ]
  },
  {
   "cell_type": "code",
   "execution_count": null,
   "metadata": {
    "collapsed": false,
    "deletable": true,
    "editable": true
   },
   "outputs": [],
   "source": [
    "f171m1_m3_rmafs = difference(f171m1_raremaf_genes,f171m3_raremaf_genes)\n",
    "print (f171m1_m3_rmafs)"
   ]
  },
  {
   "cell_type": "code",
   "execution_count": null,
   "metadata": {
    "collapsed": false,
    "deletable": true,
    "editable": true
   },
   "outputs": [],
   "source": [
    "f171m1_m3_rmafs = intersections(f171m1_raremaf_genes,f171m3_raremaf_genes)\n",
    "print (f171m1_m3_rmafs)"
   ]
  },
  {
   "cell_type": "code",
   "execution_count": null,
   "metadata": {
    "collapsed": false,
    "deletable": true,
    "editable": true
   },
   "outputs": [],
   "source": [
    "f171m1_m4_rmafs = intersections(f171m1_raremaf_genes,f171m4_raremaf_genes)\n",
    "print (f171m1_m4_rmafs)"
   ]
  },
  {
   "cell_type": "markdown",
   "metadata": {
    "collapsed": true,
    "deletable": true,
    "editable": true
   },
   "source": [
    "# Found in M1 M2  and not in M3 M4"
   ]
  },
  {
   "cell_type": "code",
   "execution_count": null,
   "metadata": {
    "collapsed": false,
    "deletable": true,
    "editable": true
   },
   "outputs": [],
   "source": [
    "f171_maf_candidates = difference(f171m1_m2_rmafs, f171m4_m3_rmafs)\n",
    "#print(f171m1_m2)\n",
    "#print('---')\n",
    "#print(f171m3_m4)\n",
    "print (f171_maf_candidates)"
   ]
  },
  {
   "cell_type": "markdown",
   "metadata": {
    "deletable": true,
    "editable": true
   },
   "source": [
    "# F1711  No MAF "
   ]
  },
  {
   "cell_type": "code",
   "execution_count": null,
   "metadata": {
    "collapsed": false,
    "deletable": true,
    "editable": true
   },
   "outputs": [],
   "source": [
    "rows, functions,exfunc, rs,gene, exacall, gnomall, pathogenics = load_annovar('f171m1-anno-ref.hg19_multianno.txt')\n",
    "count = 0\n",
    "f171m1_nomafs_genes = []\n",
    "f171m1_nomafs_variants = []\n",
    "for i in range(0,len(exacall) ): \n",
    "    if (exacall[i] == '.') and (gnomall[i] =='.') and functions[i] =='exonic':\n",
    "            count += 1 \n",
    "            writelist(rows[i], 'f210m1.filtered.noMafs.txt')\n",
    "            #print(rs[i], gene[i], exacall[i],gnomall[i])\n",
    "            if gene[i] not in f171m1_nomafs_genes:\n",
    "                    f171m1_nomafs_genes.append(gene[i])\n",
    "            var = rs[i] + '.' + gene[i] +'.' +exacall[i] +'.'+ gnomall[i]\n",
    "            if var not in f171m1_raremaf_variants: \n",
    "                f171m1_raremaf_variants.append(var)\n",
    "\n",
    "print ('Number of variants with no MAf in both exacall and gnomAD <', cutoff, 'is:',count)\n",
    "print (f171m1_nomafs_genes)\n",
    "#===========================================M2\n",
    "rows, functions,exfunc, rs,gene, exacall, gnomall, pathogenics = load_annovar('f171m2-anno-ref.hg19_multianno.txt')\n",
    "count = 0\n",
    "f171m2_nomafs_genes = []\n",
    "f171m2_nomafs_variants = []\n",
    "for i in range(0,len(exacall) ): \n",
    "    if (exacall[i] == '.') and (gnomall[i] =='.') and functions[i] =='exonic':\n",
    "            count += 1 \n",
    "            writelist(rows[i], 'f171m2.filtered.noMafs.txt')\n",
    "            #print(rs[i], gene[i], exacall[i],gnomall[i])\n",
    "            if gene[i] not in f171m2_nomafs_genes:\n",
    "                    f171m2_nomafs_genes.append(gene[i])\n",
    "            var = rs[i] + '.' + gene[i] +'.' +exacall[i] +'.'+ gnomall[i]\n",
    "            if var not in f171m2_raremaf_variants: \n",
    "                f171m2_raremaf_variants.append(var)\n",
    "\n",
    "print ('Number of variants with no MAF in both exacall and gnomAD <', cutoff, 'is:',count)\n",
    "print (f171m2_nomafs_genes)\n",
    "#===========================================M3\n",
    "rows, functions,exfunc, rs,gene, exacall, gnomall, pathogenics = load_annovar('f171m3-anno-ref.hg19_multianno.txt')\n",
    "count = 0\n",
    "f171m3_nomafs_genes = []\n",
    "f171m3_nomafs_variants = []\n",
    "for i in range(0,len(exacall) ): \n",
    "    if (exacall[i] == '.') and (gnomall[i] =='.') and functions[i] =='exonic':\n",
    "            count += 1 \n",
    "            writelist(rows[i], 'f171m3.filtered.noMafs.txt')\n",
    "            #print(rs[i], gene[i], exacall[i],gnomall[i])\n",
    "            if gene[i] not in f171m3_nomafs_genes:\n",
    "                    f171m3_nomafs_genes.append(gene[i])\n",
    "            var = rs[i] + '.' + gene[i] +'.' +exacall[i] +'.'+ gnomall[i]\n",
    "            if var not in f171m3_raremaf_variants: \n",
    "                f171m3_raremaf_variants.append(var)\n",
    "\n",
    "print ('Number of variants with no MAf in both exacall and gnomAD <', cutoff, 'is:',count)\n",
    "print (f171m3_nomafs_genes)\n",
    "#===========================================m4\n",
    "rows, functions,exfunc, rs,gene, exacall, gnomall, pathogenics = load_annovar('f171m4-anno-ref.hg19_multianno.txt')\n",
    "count = 0\n",
    "f171m4_nomafs_genes = []\n",
    "f171m4_nomafs_variants = []\n",
    "for i in range(0,len(exacall) ): \n",
    "    if (exacall[i] == '.') and (gnomall[i] =='.') and functions[i] =='exonic':\n",
    "            count += 1 \n",
    "            writelist(rows[i], 'f171m4.filtered.noMafs.txt')\n",
    "            #print(rs[i], gene[i], exacall[i],gnomall[i])\n",
    "            if gene[i] not in f171m4_nomafs_genes:\n",
    "                    f171m4_nomafs_genes.append(gene[i])            \n",
    "            var = rs[i] + '.' + gene[i] +'.' +exacall[i] +'.'+ gnomall[i]\n",
    "            if var not in f171m4_raremaf_variants: \n",
    "                f171m4_raremaf_variants.append(var)\n",
    "\n",
    "\n",
    "print ('Number of variants with no MAf in both exacall and gnomAD <', cutoff, 'is:',count)\n",
    "print (f171m4_nomafs_genes)\n",
    "\n",
    "\n",
    "\n"
   ]
  },
  {
   "cell_type": "markdown",
   "metadata": {
    "deletable": true,
    "editable": true
   },
   "source": [
    "# Common Between M1 and M2 "
   ]
  },
  {
   "cell_type": "code",
   "execution_count": 20,
   "metadata": {
    "collapsed": false,
    "deletable": true,
    "editable": true
   },
   "outputs": [
    {
     "ename": "NameError",
     "evalue": "name 'intersections2' is not defined",
     "output_type": "error",
     "traceback": [
      "\u001b[0;31m---------------------------------------------------------------------------\u001b[0m",
      "\u001b[0;31mNameError\u001b[0m                                 Traceback (most recent call last)",
      "\u001b[0;32m<ipython-input-20-bf3d6a88ef9c>\u001b[0m in \u001b[0;36m<module>\u001b[0;34m()\u001b[0m\n\u001b[0;32m----> 1\u001b[0;31m \u001b[0mf171m1_m2_nomafs\u001b[0m \u001b[0;34m=\u001b[0m \u001b[0mintersections2\u001b[0m\u001b[0;34m(\u001b[0m\u001b[0mf171m1_nomafs_genes\u001b[0m\u001b[0;34m,\u001b[0m\u001b[0mf171m2_nomafs_genes\u001b[0m\u001b[0;34m)\u001b[0m\u001b[0;34m\u001b[0m\u001b[0m\n\u001b[0m\u001b[1;32m      2\u001b[0m \u001b[0;32mprint\u001b[0m \u001b[0;34m(\u001b[0m\u001b[0mf171m1_m2\u001b[0m\u001b[0;34m)\u001b[0m\u001b[0;34m\u001b[0m\u001b[0m\n",
      "\u001b[0;31mNameError\u001b[0m: name 'intersections2' is not defined"
     ]
    }
   ],
   "source": [
    "f171m1_m2_nomafs = intersections2(f171m1_nomafs_genes,f171m2_nomafs_genes)\n",
    "print (f171m1_m2)"
   ]
  },
  {
   "cell_type": "code",
   "execution_count": null,
   "metadata": {
    "collapsed": false,
    "deletable": true,
    "editable": true
   },
   "outputs": [],
   "source": [
    "f171m1_m2_nomafs = intersections(f171m1_nomafs_variants,f171m2_nomafs_variants)\n",
    "print (f171m1_m2)"
   ]
  },
  {
   "cell_type": "markdown",
   "metadata": {
    "deletable": true,
    "editable": true
   },
   "source": [
    "# Found in non carriers to ignore later"
   ]
  },
  {
   "cell_type": "code",
   "execution_count": null,
   "metadata": {
    "collapsed": false,
    "deletable": true,
    "editable": true
   },
   "outputs": [],
   "source": [
    "f171m3_m4_nomafs = exist(f171m3_nomafs_genes, f171m4_nomafs_genes)\n",
    "print(f171m3_m4)"
   ]
  },
  {
   "cell_type": "markdown",
   "metadata": {
    "deletable": true,
    "editable": true
   },
   "source": [
    "# Found in M1 M2 and not in M3 OR m4"
   ]
  },
  {
   "cell_type": "code",
   "execution_count": null,
   "metadata": {
    "collapsed": false,
    "deletable": true,
    "editable": true
   },
   "outputs": [],
   "source": [
    "f171_nomaf_candidates = difference(f171m1_m2_nomafs, f171m3_m4_nomafs)\n",
    "print (f171_nomaf_candidates)"
   ]
  },
  {
   "cell_type": "markdown",
   "metadata": {
    "deletable": true,
    "editable": true
   },
   "source": [
    "# F171 M1 Pathegenic "
   ]
  },
  {
   "cell_type": "code",
   "execution_count": null,
   "metadata": {
    "collapsed": true,
    "deletable": true,
    "editable": true
   },
   "outputs": [],
   "source": [
    "cutoff =0.0000001"
   ]
  },
  {
   "cell_type": "code",
   "execution_count": null,
   "metadata": {
    "collapsed": false,
    "deletable": true,
    "editable": true
   },
   "outputs": [],
   "source": [
    "rows, functions,exfunc, rs,gene, exacall, gnomall, pathogenics = load_annovar('f171m1-anno-ref.hg19_multianno.txt')\n",
    "count = 0\n",
    "f171m1_pathogenic_genes = []\n",
    "for i in range(0,len(exacall) ): \n",
    "    if 'athogenic' in pathogenics[i]: \n",
    "        if (exacall[i] == '.') or (float(exacall[i]) < cutoff) or (gnomall[i] =='.') or (float(gnomall[i]) < cutoff):\n",
    "            count += 1 \n",
    "            writelist(rows[i], 'f171m1.pathogenic.filtered.txt')\n",
    "            if gene[i] not in f171m1_pathogenic_genes:\n",
    "                    f171m1_pathogenic_genes.append(gene[i])\n",
    "print ('Number of pathogenic variants  <', cutoff, 'is:',count)\n",
    "print (f171m1_pathogenic_genes)"
   ]
  },
  {
   "cell_type": "markdown",
   "metadata": {
    "deletable": true,
    "editable": true
   },
   "source": [
    "# F171 M2 Pathegenic "
   ]
  },
  {
   "cell_type": "code",
   "execution_count": null,
   "metadata": {
    "collapsed": false,
    "deletable": true,
    "editable": true
   },
   "outputs": [],
   "source": [
    "rows, functions,exfunc, rs,gene, exacall, gnomall, pathogenics = load_annovar('f171m2-anno-ref.hg19_multianno.txt')\n",
    "count = 0\n",
    "f171m2_pathogenic_genes = []\n",
    "for i in range(0,len(exacall) ): \n",
    "    if 'athogenic' in pathogenics[i]: \n",
    "        if (exacall[i] == '.') or (float(exacall[i]) < cutoff) or (gnomall[i] =='.') or (float(gnomall[i]) < cutoff):\n",
    "            count += 1 \n",
    "            writelist(rows[i], 'f171m2.pathogenic.filtered.txt')\n",
    "            if gene[i] not in f171m2_pathogenic_genes:\n",
    "                    f171m2_pathogenic_genes.append(gene[i])\n",
    "print ('Number of pathogenic variants  <', cutoff, 'is:',count)\n",
    "print (f171m2_pathogenic_genes)"
   ]
  },
  {
   "cell_type": "code",
   "execution_count": null,
   "metadata": {
    "collapsed": false,
    "deletable": true,
    "editable": true
   },
   "outputs": [],
   "source": [
    "f171m1_m2_pathogenic = intersections(f171m1_pathogenic_genes,f171m2_pathogenic_genes)\n",
    "print (f171m1_m2_pathogenic)"
   ]
  },
  {
   "cell_type": "markdown",
   "metadata": {
    "deletable": true,
    "editable": true
   },
   "source": [
    "# F171 M3 Pathogenic "
   ]
  },
  {
   "cell_type": "code",
   "execution_count": null,
   "metadata": {
    "collapsed": false,
    "deletable": true,
    "editable": true
   },
   "outputs": [],
   "source": [
    "rows, functions,exfunc, rs,gene, exacall, gnomall, pathogenics = load_annovar('f171m3-anno-ref.hg19_multianno.txt')\n",
    "count = 0\n",
    "f171m3_pathogenic_genes = []\n",
    "for i in range(0,len(exacall) ): \n",
    "    if 'athogenic' in pathogenics[i]: \n",
    "        if (exacall[i] == '.') or (float(exacall[i]) < cutoff) or (gnomall[i] =='.') or (float(gnomall[i]) < cutoff):\n",
    "            count += 1 \n",
    "            writelist(rows[i], 'f171m3.pathogenic.filtered.txt')\n",
    "            if gene[i] not in f171m3_pathogenic_genes:\n",
    "                    f171m3_pathogenic_genes.append(gene[i])\n",
    "print ('Number of pathogenic variants  <', cutoff, 'is:',count)\n",
    "print (f171m3_pathogenic_genes)"
   ]
  },
  {
   "cell_type": "markdown",
   "metadata": {
    "deletable": true,
    "editable": true
   },
   "source": [
    "# F171 m4 Pathogenic "
   ]
  },
  {
   "cell_type": "code",
   "execution_count": null,
   "metadata": {
    "collapsed": false,
    "deletable": true,
    "editable": true
   },
   "outputs": [],
   "source": [
    "rows, functions,exfunc, rs,gene, exacall, gnomall, pathogenics = load_annovar('f171m4-anno-ref.hg19_multianno.txt')\n",
    "count = 0\n",
    "f171m4_pathogenic_genes = []\n",
    "for i in range(0,len(exacall) ): \n",
    "    if 'athogenic' in pathogenics[i]: \n",
    "        if (exacall[i] == '.') or (float(exacall[i]) < cutoff) or (gnomall[i] =='.') or (float(gnomall[i]) < cutoff):\n",
    "            count += 1 \n",
    "            writelist(rows[i], 'f171m4.pathogenic.filtered.txt')\n",
    "            if gene[i] not in f171m4_pathogenic_genes:\n",
    "                    f171m4_pathogenic_genes.append(gene[i])\n",
    "print ('Number of pathogenic variants  <', cutoff, 'is:',count)\n",
    "print (f171m4_pathogenic_genes)"
   ]
  },
  {
   "cell_type": "markdown",
   "metadata": {
    "deletable": true,
    "editable": true
   },
   "source": [
    "# What is found in Either M3 Or m4"
   ]
  },
  {
   "cell_type": "code",
   "execution_count": null,
   "metadata": {
    "collapsed": false,
    "deletable": true,
    "editable": true
   },
   "outputs": [],
   "source": [
    "f171m3_m4_pathogenic = exist(f171m3_pathogenic_genes,f171m4_pathogenic_genes)\n",
    "print (f171m3_m4_pathogenic)"
   ]
  },
  {
   "cell_type": "markdown",
   "metadata": {
    "deletable": true,
    "editable": true
   },
   "source": [
    "# What is found in M1M2 and not in either in M3 or m4"
   ]
  },
  {
   "cell_type": "code",
   "execution_count": null,
   "metadata": {
    "collapsed": false,
    "deletable": true,
    "editable": true
   },
   "outputs": [],
   "source": [
    "f171_pathogenic_candidates = difference(f171m1_m2_pathogenic, f171m3_m4_pathogenic)\n",
    "print (f171_pathogenic_candidates)"
   ]
  },
  {
   "cell_type": "code",
   "execution_count": null,
   "metadata": {
    "collapsed": true,
    "deletable": true,
    "editable": true
   },
   "outputs": [],
   "source": []
  }
 ],
 "metadata": {
  "anaconda-cloud": {},
  "kernelspec": {
   "display_name": "Python 2",
   "language": "python",
   "name": "python2"
  },
  "language_info": {
   "codemirror_mode": {
    "name": "ipython",
    "version": 2
   },
   "file_extension": ".py",
   "mimetype": "text/x-python",
   "name": "python",
   "nbconvert_exporter": "python",
   "pygments_lexer": "ipython2",
   "version": "2.7.12"
  }
 },
 "nbformat": 4,
 "nbformat_minor": 1
}
