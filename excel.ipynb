{
 "cells": [
  {
   "cell_type": "code",
   "execution_count": null,
   "metadata": {
    "collapsed": true,
    "deletable": true,
    "editable": true
   },
   "outputs": [],
   "source": [
    "import csv\n",
    "import re"
   ]
  },
  {
   "cell_type": "code",
   "execution_count": null,
   "metadata": {
    "collapsed": true,
    "deletable": true,
    "editable": true
   },
   "outputs": [],
   "source": [
    "#HIGH Risk that has AF field"
   ]
  },
  {
   "cell_type": "code",
   "execution_count": null,
   "metadata": {
    "collapsed": false,
    "deletable": true,
    "editable": true
   },
   "outputs": [],
   "source": [
    "#Filter VEP.txt output \n",
    "def load_vep(filename):\n",
    "    fp = open(filename, 'r')\n",
    "    r = csv.reader(fp, delimiter='\\t')\n",
    "    high_risk =[]\n",
    "    positions =[]\n",
    "    for n, row in enumerate(r):\n",
    "        risk =''\n",
    "        symbol ='' \n",
    "        variant =''\n",
    "        AF =''\n",
    "        if row[0].startswith('#'):\n",
    "            continue \n",
    "        _,pos,_,ensg,_, enst,_,_,_,_,_,_,_,impact =row[:14]\n",
    "        imp =re.split('=|,|;', impact) \n",
    "        risk = imp[1]\n",
    "        #if re.search(\"AF=\" , str(row)):\n",
    "        if risk=='HIGH':\n",
    "                    high_risk.append(row)\n",
    "                    if pos not in positions:\n",
    "                            positions.append(pos)\n",
    "    return high_risk, positions"
   ]
  },
  {
   "cell_type": "code",
   "execution_count": 43,
   "metadata": {
    "collapsed": true,
    "deletable": true,
    "editable": true
   },
   "outputs": [],
   "source": [
    "def load_col(filename):\n",
    "    dna_levels =[]\n",
    "    fp = open(filename, 'r')\n",
    "    for line in fp.read().split('\\n'):\n",
    "          dna_levels.append(line.strip())\n",
    "    return dna_levels"
   ]
  },
  {
   "cell_type": "code",
   "execution_count": 46,
   "metadata": {
    "collapsed": false,
    "deletable": true,
    "editable": true,
    "scrolled": true
   },
   "outputs": [
    {
     "name": "stdout",
     "output_type": "stream",
     "text": [
      "g.3553_3554insG\n",
      "g.3553delT\n",
      "g.3553T>G\n",
      "g.4856_4857CG>AA\n",
      "c.-3A>G\n",
      "c.100-1282delT\n",
      "c.100-1282delTinsTTT\n",
      "c.100-1264delT\n",
      "c.100-1264delTinsTTT\n",
      "c.100-1263delTT\n",
      "c.100--670C>T\n",
      "c.166C>A\n",
      "c.217T>A or C (need confirmation from Serban)\n",
      "c.280-387G>C\n",
      "c.280-387delG\n",
      "c.280-383_280-382insC\n",
      "c.468+16C>T\n",
      "c.468+27C>G\n",
      "c.469-150delAinsTGTT\n",
      "c.469-150delA\n",
      "c.469-151delT\n",
      "c.469-151delTinsTTTG\n",
      "c.622dupC\n",
      "c.787_788-2del\n",
      "c.788-10C>A\n",
      "c.[878_879AG>GT; 884_895delCTGGACCCAGCC]\n",
      "c.993+14C>A\n",
      "c.993+23A>C\n",
      "c.993+34C>G\n",
      "c.993+56C>G\n",
      "c.993+60G>C\n",
      "c.993+63C>T\n",
      "c.993+64G>A\n",
      "c.993+70C>T\n",
      "c.993+77C>A\n",
      "c.993+114G>C\n",
      "c.993+256G>C\n",
      "c.993+334T>G\n",
      "c.993+341G>C\n",
      "g.993+393C>G\n",
      "c.993+420C>T\n",
      "c.993+496C>T\n",
      "c.993+542G>A\n",
      "whole gene deletion\n",
      "c.1-?_993+?del-\n",
      "45\n"
     ]
    }
   ],
   "source": [
    "aip_sherine = load_col('aip.sherine.txt')\n",
    "aip_marta = load_col('aip.marta.txt')\n",
    "aip_unpublished = load_col('aip.unpublished.txt')\n",
    "aip_giam = load_col('aip.giam.txt')\n",
    "count = 0\n",
    "for i in aip_giam: \n",
    "     if (i in aip_marta) and (i in aip_unpublished) and (i in aip_sherine) : \n",
    "            continue \n",
    "     else: \n",
    "         print (i)\n",
    "         count += 1\n",
    "        \n",
    "print (count)"
   ]
  },
  {
   "cell_type": "code",
   "execution_count": null,
   "metadata": {
    "collapsed": true,
    "deletable": true,
    "editable": true
   },
   "outputs": [],
   "source": []
  },
  {
   "cell_type": "code",
   "execution_count": null,
   "metadata": {
    "collapsed": true,
    "deletable": true,
    "editable": true
   },
   "outputs": [],
   "source": []
  }
 ],
 "metadata": {
  "anaconda-cloud": {},
  "kernelspec": {
   "display_name": "Python 2",
   "language": "python",
   "name": "python2"
  },
  "language_info": {
   "codemirror_mode": {
    "name": "ipython",
    "version": 2
   },
   "file_extension": ".py",
   "mimetype": "text/x-python",
   "name": "python",
   "nbconvert_exporter": "python",
   "pygments_lexer": "ipython2",
   "version": "2.7.12"
  }
 },
 "nbformat": 4,
 "nbformat_minor": 2
}
